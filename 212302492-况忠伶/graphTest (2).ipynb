{
 "cells": [
  {
   "cell_type": "markdown",
   "id": "ecae41e6-0afd-4956-9f07-094a0f982d24",
   "metadata": {},
   "source": [
    "# 读取图"
   ]
  },
  {
   "cell_type": "code",
   "execution_count": 5,
   "id": "6aeb48ba-fb41-4874-aaa1-530f51428df6",
   "metadata": {},
   "outputs": [
    {
     "data": {
      "text/plain": [
       "'2021.2.3'"
      ]
     },
     "execution_count": 5,
     "metadata": {},
     "output_type": "execute_result"
    }
   ],
   "source": [
    "import py2neo\n",
    "py2neo.__version__"
   ]
  },
  {
   "cell_type": "code",
   "execution_count": 57,
   "id": "b3c5765c-67e5-4db4-9013-bde546ab5979",
   "metadata": {},
   "outputs": [
    {
     "data": {
      "text/plain": [
       "Graph('bolt://localhost:7687')"
      ]
     },
     "execution_count": 57,
     "metadata": {},
     "output_type": "execute_result"
    }
   ],
   "source": [
    "from py2neo import Node, Relationship, Graph, NodeMatcher, RelationshipMatcher\n",
    "\n",
    "# 打开数据库\n",
    "graph = Graph(\"bolt://localhost:7687\", auth=(\"neo4j\", \"kzldeneo4j@\"))\n",
    "graph"
   ]
  },
  {
   "cell_type": "code",
   "execution_count": 58,
   "id": "d53cb992-564d-4e4d-86b2-a54942e9329c",
   "metadata": {},
   "outputs": [
    {
     "data": {
      "text/html": [
       "<table><tr><th>count(n)</th></tr><tr><td style=\"text-align:right\">2427</td></tr></table>"
      ],
      "text/plain": [
       " count(n) \n",
       "----------\n",
       "     2427 "
      ]
     },
     "execution_count": 58,
     "metadata": {},
     "output_type": "execute_result"
    }
   ],
   "source": [
    "cypher_=\"MATCH (n) RETURN count(n)\"\n",
    "graph.run(cypher_)"
   ]
  },
  {
   "cell_type": "code",
   "execution_count": 30,
   "id": "33158613-db13-4f0b-9c1c-ed56455a6eb0",
   "metadata": {},
   "outputs": [
    {
     "data": {
      "text/html": [
       "<table><tr><th>count(p)</th></tr><tr><td style=\"text-align:right\">2427</td></tr></table>"
      ],
      "text/plain": [
       " count(p) \n",
       "----------\n",
       "     2427 "
      ]
     },
     "execution_count": 30,
     "metadata": {},
     "output_type": "execute_result"
    }
   ],
   "source": [
    "cypher_=\"MATCH (p) RETURN count(p)\"\n",
    "graph.run(cypher_)"
   ]
  },
  {
   "cell_type": "code",
   "execution_count": 4,
   "id": "a934fe74-b5d4-4f33-b8e3-a4d5531d7960",
   "metadata": {},
   "outputs": [
    {
     "data": {
      "text/html": [
       "<table><tr><th>count(p)</th></tr><tr><td style=\"text-align:right\">26507</td></tr></table>"
      ],
      "text/plain": [
       " count(p) \n",
       "----------\n",
       "    26507 "
      ]
     },
     "execution_count": 4,
     "metadata": {},
     "output_type": "execute_result"
    }
   ],
   "source": [
    "cypher_=\"MATCH p=()-->() RETURN count(p)\"\n",
    "graph.run(cypher_)\n"
   ]
  },
  {
   "cell_type": "markdown",
   "id": "fc27a769-804e-4d1b-8e13-d0f0328f703f",
   "metadata": {},
   "source": [
    "### 查询节点类型"
   ]
  },
  {
   "cell_type": "code",
   "execution_count": 9,
   "id": "fdda2441-1e4f-40dd-863c-a20d7205c2f3",
   "metadata": {},
   "outputs": [
    {
     "data": {
      "text/plain": [
       "array(['Patient', 'Syndrome', 'Sex', 'PastHistory', 'SoundofTinnitus',\n",
       "       'SleepStatus', 'CoatedTongue', 'PulseManifestation',\n",
       "       'DiagnosisofWesternMedicine', 'IncitingFactors', 'Tone25',\n",
       "       'Symptom', 'TongueQuality', 'ConditionOfPersistence',\n",
       "       'SolarTermOfOnset', 'TinnitusFrequency'], dtype=object)"
      ]
     },
     "execution_count": 9,
     "metadata": {},
     "output_type": "execute_result"
    }
   ],
   "source": [
    "cypher_=\"call db.labels\"\n",
    "node_types = graph.run(cypher_)\n",
    "node_types=node_types.to_data_frame()[\"label\"]\n",
    "node_types=node_types.values\n",
    "node_types"
   ]
  },
  {
   "cell_type": "markdown",
   "id": "b929ab88-fc6b-495b-b52f-3d26b29d37e2",
   "metadata": {},
   "source": [
    "### 查询关系类型"
   ]
  },
  {
   "cell_type": "code",
   "execution_count": 10,
   "id": "b524551a-d213-49bc-b0eb-383a345d8b36",
   "metadata": {},
   "outputs": [
    {
     "data": {
      "text/plain": [
       "array(['sex_is', 'has_past_history', 'manifestation_of', 'has_symptom',\n",
       "       'recommend_music', 'has_syndrome', 'diagnose_with',\n",
       "       'has_inducement', 'part_of', 'onset', 'has_tinnitus_frequency'],\n",
       "      dtype=object)"
      ]
     },
     "execution_count": 10,
     "metadata": {},
     "output_type": "execute_result"
    }
   ],
   "source": [
    "cypher_=\"call db.relationshipTypes\"\n",
    "relationship_types = graph.run(cypher_)\n",
    "relationship_types=relationship_types.to_data_frame()[\"relationshipType\"]\n",
    "relationship_types=relationship_types.values\n",
    "relationship_types"
   ]
  },
  {
   "cell_type": "code",
   "execution_count": 10,
   "id": "68eff662-f39e-4046-aa07-640d92d61349",
   "metadata": {},
   "outputs": [
    {
     "data": {
      "text/html": [
       "<table><tr><th>n</th></tr><tr><td style=\"text-align:left\">(_285:Sex {name: &#039;Sex&#039;})</td></tr><tr><td style=\"text-align:left\">(_286:Sex {name: &#039;\\u7537&#039;})</td></tr><tr><td style=\"text-align:left\">(_287:Sex {name: &#039;\\u5973&#039;})</td></tr></table>"
      ],
      "text/plain": [
       " n                           \n",
       "-----------------------------\n",
       " (_285:Sex {name: 'Sex'})    \n",
       " (_286:Sex {name: '\\u7537'}) \n",
       " (_287:Sex {name: '\\u5973'}) "
      ]
     },
     "execution_count": 10,
     "metadata": {},
     "output_type": "execute_result"
    }
   ],
   "source": [
    "#训练集（有标签：中医辨证）\n",
    "cypher_=\"MATCH (n) RETURN (n) \"\n",
    "graph.run(cypher_)"
   ]
  },
  {
   "cell_type": "markdown",
   "id": "3be5aea3-7a52-4466-acb7-1130bb672144",
   "metadata": {},
   "source": [
    "## 创建图投影"
   ]
  },
  {
   "cell_type": "markdown",
   "id": "a25ccf40-7ad2-47d0-83f5-f5ec0ad90319",
   "metadata": {},
   "source": [
    "### 节点toString"
   ]
  },
  {
   "cell_type": "code",
   "execution_count": 11,
   "id": "9621dd17-06ba-4d36-a26b-2a26dadd634e",
   "metadata": {},
   "outputs": [
    {
     "data": {
      "text/plain": [
       "\"['Patient','Syndrome','Sex','PastHistory','SoundofTinnitus','SleepStatus','CoatedTongue','PulseManifestation','DiagnosisofWesternMedicine','IncitingFactors','Tone25','Symptom','TongueQuality','ConditionOfPersistence','SolarTermOfOnset','TinnitusFrequency']\""
      ]
     },
     "execution_count": 11,
     "metadata": {},
     "output_type": "execute_result"
    }
   ],
   "source": [
    "import re\n",
    "node_typesStr=str(node_types)\n",
    "node_typesStr=re.sub(r' ',',',node_typesStr)\n",
    "node_typesStr=re.sub(r'\\n','',node_typesStr)\n",
    "node_typesStr"
   ]
  },
  {
   "cell_type": "markdown",
   "id": "f5a8dd32-1229-411d-b2cb-2ce60b39fa67",
   "metadata": {},
   "source": [
    "### 关系toString"
   ]
  },
  {
   "cell_type": "code",
   "execution_count": 12,
   "id": "c8c59ead-47e9-4f37-86d1-24bd6c69790e",
   "metadata": {},
   "outputs": [
    {
     "data": {
      "text/plain": [
       "\"['sex_is','has_past_history','manifestation_of','has_symptom','recommend_music','has_syndrome','diagnose_with','has_inducement','part_of','onset','has_tinnitus_frequency']\""
      ]
     },
     "execution_count": 12,
     "metadata": {},
     "output_type": "execute_result"
    }
   ],
   "source": [
    "import re\n",
    "rel_typeStr=str(relationship_types)\n",
    "rel_typeStr=re.sub(r' ',',',rel_typeStr)\n",
    "rel_typeStr=re.sub(r'\\n','',rel_typeStr)\n",
    "rel_typeStr"
   ]
  },
  {
   "cell_type": "markdown",
   "id": "f50d3d9a-1004-4756-9e2d-b0245ad07000",
   "metadata": {},
   "source": [
    "### 无向关系toString"
   ]
  },
  {
   "cell_type": "code",
   "execution_count": 13,
   "id": "84f786d8-7926-4411-b319-91c927d1fb32",
   "metadata": {},
   "outputs": [
    {
     "data": {
      "text/plain": [
       "\"{sex_is: {orientation: 'UNDIRECTED'},has_past_history: {orientation: 'UNDIRECTED'},manifestation_of: {orientation: 'UNDIRECTED'},has_symptom: {orientation: 'UNDIRECTED'},recommend_music: {orientation: 'UNDIRECTED'},has_syndrome: {orientation: 'UNDIRECTED'},diagnose_with: {orientation: 'UNDIRECTED'},has_inducement: {orientation: 'UNDIRECTED'},part_of: {orientation: 'UNDIRECTED'},onset: {orientation: 'UNDIRECTED'},has_tinnitus_frequency: {orientation: 'UNDIRECTED'}}\""
      ]
     },
     "execution_count": 13,
     "metadata": {},
     "output_type": "execute_result"
    }
   ],
   "source": [
    "rel_typeStr1=''\n",
    "for item in relationship_types:\n",
    "    relStr=f'{item}'+\": {orientation: 'UNDIRECTED'}\"\n",
    "    # print(relStr)\n",
    "    rel_typeStr1=rel_typeStr1+relStr+\",\"\n",
    "rel_typeStr1=\"{\"+rel_typeStr1+\"}\"\n",
    "rel_typeStr1=re.sub(r',}','}',rel_typeStr1)\n",
    "rel_typeStr1"
   ]
  },
  {
   "cell_type": "markdown",
   "id": "e69fa2ad-af78-4be9-acbb-30a6873b5bd3",
   "metadata": {},
   "source": [
    "### 训练集投影"
   ]
  },
  {
   "cell_type": "code",
   "execution_count": 6,
   "id": "cdaa22ae-15f3-4189-8ff5-92c1802486cc",
   "metadata": {},
   "outputs": [
    {
     "data": {
      "text/plain": [
       "\"CALL gds.graph.project('tinnitusAllgraph01',['Patient','Syndrome','Sex','PastHistory','ConditionofPersistence','SoundofTinnitus','SleepStatus','CoatedTongue','PulseManifestation','DiagnosisofWesternMedicine','IncitingFactors','Tone25','Symptom','TongueQuality'],['sex_is','has_past_history','manifestation_of','has_symptom','recommend_music','has_syndrome','diagnose_with','has_inducement','part_of','同证型患者'])\""
      ]
     },
     "execution_count": 6,
     "metadata": {},
     "output_type": "execute_result"
    }
   ],
   "source": [
    "cypher_=\"CALL gds.graph.project('tinnitusTraingraph01',\"+node_typesStr+\",\"+rel_typeStr+\")\"\n",
    "cypher_"
   ]
  },
  {
   "cell_type": "markdown",
   "id": "b92493ab-6543-455d-8f91-8543d9437aa0",
   "metadata": {},
   "source": [
    "### 全节点全关系有权重有向投影图"
   ]
  },
  {
   "cell_type": "code",
   "execution_count": 8,
   "id": "7f93416d-b524-4584-9266-881c00a14c33",
   "metadata": {},
   "outputs": [
    {
     "data": {
      "text/plain": [
       "\"['sex_is','has_past_history','manifestation_of','has_symptom','recommend_music','has_syndrome','diagnose_with','has_inducement','part_of']\""
      ]
     },
     "execution_count": 8,
     "metadata": {},
     "output_type": "execute_result"
    }
   ],
   "source": [
    "rel_typeStr"
   ]
  },
  {
   "cell_type": "code",
   "execution_count": 11,
   "id": "3dd4780e-fe6d-48ed-a7ad-afcb51652d7b",
   "metadata": {},
   "outputs": [
    {
     "data": {
      "text/html": [
       "<table><tr><th>nodeProjection</th><th>relationshipProjection</th><th>graphName</th><th>nodeCount</th><th>relationshipCount</th><th>projectMillis</th></tr><tr><td style=\"text-align:left\">{Patient: {label: &#039;Patient&#039;, properties: {}}}</td><td style=\"text-align:left\">{has_symptom: {orientation: &#039;NATURAL&#039;, indexInverse: false, aggregation: &#039;DEFAULT&#039;, type: &#039;has_symptom&#039;, properties: {weight: {defaultValue: null, property: &#039;weight&#039;, aggregation: &#039;DEFAULT&#039;}}}, recommend_music: {orientation: &#039;NATURAL&#039;, indexInverse: false, aggregation: &#039;DEFAULT&#039;, type: &#039;recommend_music&#039;, properties: {weight: {defaultValue: null, property: &#039;weight&#039;, aggregation: &#039;DEFAULT&#039;}}}, diagnose_with: {orientation: &#039;NATURAL&#039;, indexInverse: false, aggregation: &#039;DEFAULT&#039;, type: &#039;diagnose_with&#039;, properties: {weight: {defaultValue: null, property: &#039;weight&#039;, aggregation: &#039;DEFAULT&#039;}}}, sex_is: {orientation: &#039;NATURAL&#039;, indexInverse: false, aggregation: &#039;DEFAULT&#039;, type: &#039;sex_is&#039;, properties: {weight: {defaultValue: null, property: &#039;weight&#039;, aggregation: &#039;DEFAULT&#039;}}}, has_inducement: {orientation: &#039;NATURAL&#039;, indexInverse: false, aggregation: &#039;DEFAULT&#039;, type: &#039;has_inducement&#039;, properties: {weight: {defaultValue: null, property: &#039;weight&#039;, aggregation: &#039;DEFAULT&#039;}}}, has_past_history: {orientation: &#039;NATURAL&#039;, indexInverse: false, aggregation: &#039;DEFAULT&#039;, type: &#039;has_past_history&#039;, properties: {weight: {defaultValue: null, property: &#039;weight&#039;, aggregation: &#039;DEFAULT&#039;}}}, manifestation_of: {orientation: &#039;NATURAL&#039;, indexInverse: false, aggregation: &#039;DEFAULT&#039;, type: &#039;manifestation_of&#039;, properties: {weight: {defaultValue: null, property: &#039;weight&#039;, aggregation: &#039;DEFAULT&#039;}}}, has_syndrome: {orientation: &#039;NATURAL&#039;, indexInverse: false, aggregation: &#039;DEFAULT&#039;, type: &#039;has_syndrome&#039;, properties: {weight: {defaultValue: null, property: &#039;weight&#039;, aggregation: &#039;DEFAULT&#039;}}}, part_of: {orientation: &#039;NATURAL&#039;, indexInverse: false, aggregation: &#039;DEFAULT&#039;, type: &#039;part_of&#039;, properties: {weight: {defaultValue: null, property: &#039;weight&#039;, aggregation: &#039;DEFAULT&#039;}}}}</td><td style=\"text-align:left\">5foldPatientDirectedGraph02</td><td style=\"text-align:right\">595</td><td style=\"text-align:right\">0</td><td style=\"text-align:right\">18</td></tr></table>"
      ],
      "text/plain": [
       " nodeProjection                                | relationshipProjection                                                                                                                                                                                                                                                                                                                                                                                                                                                                                                                                                                                                                                                                                                                                                                                                                                                                                                                                                                                                                                                                                                                                                                                                                                                                                                                                                                                                                                                                                                                                                                                                                                                                                                                                                                                                          | graphName                   | nodeCount | relationshipCount | projectMillis \n",
       "-----------------------------------------------|---------------------------------------------------------------------------------------------------------------------------------------------------------------------------------------------------------------------------------------------------------------------------------------------------------------------------------------------------------------------------------------------------------------------------------------------------------------------------------------------------------------------------------------------------------------------------------------------------------------------------------------------------------------------------------------------------------------------------------------------------------------------------------------------------------------------------------------------------------------------------------------------------------------------------------------------------------------------------------------------------------------------------------------------------------------------------------------------------------------------------------------------------------------------------------------------------------------------------------------------------------------------------------------------------------------------------------------------------------------------------------------------------------------------------------------------------------------------------------------------------------------------------------------------------------------------------------------------------------------------------------------------------------------------------------------------------------------------------------------------------------------------------------------------------------------------------------|-----------------------------|-----------|-------------------|---------------\n",
       " {Patient: {label: 'Patient', properties: {}}} | {has_symptom: {orientation: 'NATURAL', indexInverse: false, aggregation: 'DEFAULT', type: 'has_symptom', properties: {weight: {defaultValue: null, property: 'weight', aggregation: 'DEFAULT'}}}, recommend_music: {orientation: 'NATURAL', indexInverse: false, aggregation: 'DEFAULT', type: 'recommend_music', properties: {weight: {defaultValue: null, property: 'weight', aggregation: 'DEFAULT'}}}, diagnose_with: {orientation: 'NATURAL', indexInverse: false, aggregation: 'DEFAULT', type: 'diagnose_with', properties: {weight: {defaultValue: null, property: 'weight', aggregation: 'DEFAULT'}}}, sex_is: {orientation: 'NATURAL', indexInverse: false, aggregation: 'DEFAULT', type: 'sex_is', properties: {weight: {defaultValue: null, property: 'weight', aggregation: 'DEFAULT'}}}, has_inducement: {orientation: 'NATURAL', indexInverse: false, aggregation: 'DEFAULT', type: 'has_inducement', properties: {weight: {defaultValue: null, property: 'weight', aggregation: 'DEFAULT'}}}, has_past_history: {orientation: 'NATURAL', indexInverse: false, aggregation: 'DEFAULT', type: 'has_past_history', properties: {weight: {defaultValue: null, property: 'weight', aggregation: 'DEFAULT'}}}, manifestation_of: {orientation: 'NATURAL', indexInverse: false, aggregation: 'DEFAULT', type: 'manifestation_of', properties: {weight: {defaultValue: null, property: 'weight', aggregation: 'DEFAULT'}}}, has_syndrome: {orientation: 'NATURAL', indexInverse: false, aggregation: 'DEFAULT', type: 'has_syndrome', properties: {weight: {defaultValue: null, property: 'weight', aggregation: 'DEFAULT'}}}, part_of: {orientation: 'NATURAL', indexInverse: false, aggregation: 'DEFAULT', type: 'part_of', properties: {weight: {defaultValue: null, property: 'weight', aggregation: 'DEFAULT'}}}} | 5foldPatientDirectedGraph02 |       595 |                 0 |            18 "
      ]
     },
     "execution_count": 11,
     "metadata": {},
     "output_type": "execute_result"
    }
   ],
   "source": [
    "cypher_=\"CALL gds.graph.project('5foldPatientDirectedGraph02','Patient',\"+rel_typeStr+\",{relationshipProperties: 'weight'})\"\n",
    "graph.run(cypher_)"
   ]
  },
  {
   "cell_type": "code",
   "execution_count": null,
   "id": "b3c9e464-7cd2-4da4-ae06-56397129a412",
   "metadata": {},
   "outputs": [],
   "source": []
  },
  {
   "cell_type": "code",
   "execution_count": 14,
   "id": "8cce636d-022c-473e-99cc-4fb25f9c5dbf",
   "metadata": {},
   "outputs": [
    {
     "data": {
      "text/plain": [
       "\"CALL gds.graph.project('5foldNoSameWeightDirectedGraph01',['Patient','Syndrome','Sex','PastHistory','SoundofTinnitus','SleepStatus','CoatedTongue','PulseManifestation','DiagnosisofWesternMedicine','IncitingFactors','Tone25','Symptom','TongueQuality','ConditionOfPersistence','SolarTermOfOnset','TinnitusFrequency'],['sex_is','has_past_history','manifestation_of','has_symptom','recommend_music','has_syndrome','diagnose_with','has_inducement','part_of','onset','has_tinnitus_frequency'],{relationshipProperties: 'weight'})\""
      ]
     },
     "execution_count": 14,
     "metadata": {},
     "output_type": "execute_result"
    }
   ],
   "source": [
    "#五折5foldAllDirectedGraph01、5foldAllDirectedGraph02、5foldAllDirectedGraph03\n",
    "cypher_=\"CALL gds.graph.project('5foldNoSameWeightDirectedGraph01',\"+node_typesStr+\",\"+rel_typeStr+\",{relationshipProperties: 'weight'})\"\n",
    "graph.run(cypher_)\n",
    "cypher_"
   ]
  },
  {
   "cell_type": "code",
   "execution_count": 17,
   "id": "5244b7a3-9278-4411-af0a-960a3838a255",
   "metadata": {},
   "outputs": [
    {
     "data": {
      "text/plain": [
       "\"CALL gds.graph.project('dataAllWeightDirectedGraph',['Patient','Syndrome','Sex','PastHistory','SoundofTinnitus','SleepStatus','CoatedTongue','PulseManifestation','DiagnosisofWesternMedicine','IncitingFactors','Tone25','Symptom','TongueQuality','ConditionOfPersistence','SolarTermOfOnset'],['sex_is','has_past_history','manifestation_of','has_symptom','recommend_music','has_syndrome','diagnose_with','has_inducement','part_of'],{relationshipProperties: 'weight'})\""
      ]
     },
     "execution_count": 17,
     "metadata": {},
     "output_type": "execute_result"
    }
   ],
   "source": [
    "cypher_=\"CALL gds.graph.project('dataAllWeightDirectedGraph',\"+node_typesStr+\",\"+rel_typeStr+\",{relationshipProperties: 'weight'})\"\n",
    "cypher_"
   ]
  },
  {
   "cell_type": "code",
   "execution_count": 105,
   "id": "0e14c831-49d2-4cb7-bb27-817e005394a0",
   "metadata": {},
   "outputs": [
    {
     "data": {
      "text/html": [
       "<table><tr><th>nodeProjection</th><th>relationshipProjection</th><th>graphName</th><th>nodeCount</th><th>relationshipCount</th><th>projectMillis</th></tr><tr><td style=\"text-align:left\">{IncitingFactors: {label: &#039;IncitingFactors&#039;, properties: {}}, Sex: {label: &#039;Sex&#039;, properties: {}}, TongueQuality: {label: &#039;TongueQuality&#039;, properties: {}}, PastHistory: {label: &#039;PastHistory&#039;, properties: {}}, CoatedTongue: {label: &#039;CoatedTongue&#039;, properties: {}}, Patient: {label: &#039;Patient&#039;, properties: {}}, DiagnosisofWesternMedicine: {label: &#039;DiagnosisofWesternMedicine&#039;, properties: {}}, SleepStatus: {label: &#039;SleepStatus&#039;, properties: {}}, Syndrome: {label: &#039;Syndrome&#039;, properties: {}}, ConditionOfPersistence: {label: &#039;ConditionOfPersistence&#039;, properties: {}}, Tone25: {label: &#039;Tone25&#039;, properties: {}}, SoundofTinnitus: {label: &#039;SoundofTinnitus&#039;, properties: {}}, PulseManifestation: {label: &#039;PulseManifestation&#039;, properties: {}}, SolarTermOfOnset: {label: &#039;SolarTermOfOnset&#039;, properties: {}}, Symptom: {label: &#039;Symptom&#039;, properties: {}}}</td><td style=\"text-align:left\">{has_symptom: {orientation: &#039;NATURAL&#039;, indexInverse: false, aggregation: &#039;DEFAULT&#039;, type: &#039;has_symptom&#039;, properties: {weight: {defaultValue: null, property: &#039;weight&#039;, aggregation: &#039;DEFAULT&#039;}}}, recommend_music: {orientation: &#039;NATURAL&#039;, indexInverse: false, aggregation: &#039;DEFAULT&#039;, type: &#039;recommend_music&#039;, properties: {weight: {defaultValue: null, property: &#039;weight&#039;, aggregation: &#039;DEFAULT&#039;}}}, diagnose_with: {orientation: &#039;NATURAL&#039;, indexInverse: false, aggregation: &#039;DEFAULT&#039;, type: &#039;diagnose_with&#039;, properties: {weight: {defaultValue: null, property: &#039;weight&#039;, aggregation: &#039;DEFAULT&#039;}}}, sex_is: {orientation: &#039;NATURAL&#039;, indexInverse: false, aggregation: &#039;DEFAULT&#039;, type: &#039;sex_is&#039;, properties: {weight: {defaultValue: null, property: &#039;weight&#039;, aggregation: &#039;DEFAULT&#039;}}}, has_inducement: {orientation: &#039;NATURAL&#039;, indexInverse: false, aggregation: &#039;DEFAULT&#039;, type: &#039;has_inducement&#039;, properties: {weight: {defaultValue: null, property: &#039;weight&#039;, aggregation: &#039;DEFAULT&#039;}}}, has_past_history: {orientation: &#039;NATURAL&#039;, indexInverse: false, aggregation: &#039;DEFAULT&#039;, type: &#039;has_past_history&#039;, properties: {weight: {defaultValue: null, property: &#039;weight&#039;, aggregation: &#039;DEFAULT&#039;}}}, manifestation_of: {orientation: &#039;NATURAL&#039;, indexInverse: false, aggregation: &#039;DEFAULT&#039;, type: &#039;manifestation_of&#039;, properties: {weight: {defaultValue: null, property: &#039;weight&#039;, aggregation: &#039;DEFAULT&#039;}}}, has_syndrome: {orientation: &#039;NATURAL&#039;, indexInverse: false, aggregation: &#039;DEFAULT&#039;, type: &#039;has_syndrome&#039;, properties: {weight: {defaultValue: null, property: &#039;weight&#039;, aggregation: &#039;DEFAULT&#039;}}}, part_of: {orientation: &#039;NATURAL&#039;, indexInverse: false, aggregation: &#039;DEFAULT&#039;, type: &#039;part_of&#039;, properties: {weight: {defaultValue: null, property: &#039;weight&#039;, aggregation: &#039;DEFAULT&#039;}}}}</td><td style=\"text-align:left\">5foldAllDirectedGraph01</td><td style=\"text-align:right\">727</td><td style=\"text-align:right\">7893</td><td style=\"text-align:right\">27</td></tr></table>"
      ],
      "text/plain": [
       " nodeProjection                                                                                                                                                                                                                                                                                                                                                                                                                                                                                                                                                                                                                                                                                                                                                                                                                                                                | relationshipProjection                                                                                                                                                                                                                                                                                                                                                                                                                                                                                                                                                                                                                                                                                                                                                                                                                                                                                                                                                                                                                                                                                                                                                                                                                                                                                                                                                                                                                                                                                                                                                                                                                                                                                                                                                                                                          | graphName               | nodeCount | relationshipCount | projectMillis \n",
       "-------------------------------------------------------------------------------------------------------------------------------------------------------------------------------------------------------------------------------------------------------------------------------------------------------------------------------------------------------------------------------------------------------------------------------------------------------------------------------------------------------------------------------------------------------------------------------------------------------------------------------------------------------------------------------------------------------------------------------------------------------------------------------------------------------------------------------------------------------------------------------|---------------------------------------------------------------------------------------------------------------------------------------------------------------------------------------------------------------------------------------------------------------------------------------------------------------------------------------------------------------------------------------------------------------------------------------------------------------------------------------------------------------------------------------------------------------------------------------------------------------------------------------------------------------------------------------------------------------------------------------------------------------------------------------------------------------------------------------------------------------------------------------------------------------------------------------------------------------------------------------------------------------------------------------------------------------------------------------------------------------------------------------------------------------------------------------------------------------------------------------------------------------------------------------------------------------------------------------------------------------------------------------------------------------------------------------------------------------------------------------------------------------------------------------------------------------------------------------------------------------------------------------------------------------------------------------------------------------------------------------------------------------------------------------------------------------------------------|-------------------------|-----------|-------------------|---------------\n",
       " {IncitingFactors: {label: 'IncitingFactors', properties: {}}, Sex: {label: 'Sex', properties: {}}, TongueQuality: {label: 'TongueQuality', properties: {}}, PastHistory: {label: 'PastHistory', properties: {}}, CoatedTongue: {label: 'CoatedTongue', properties: {}}, Patient: {label: 'Patient', properties: {}}, DiagnosisofWesternMedicine: {label: 'DiagnosisofWesternMedicine', properties: {}}, SleepStatus: {label: 'SleepStatus', properties: {}}, Syndrome: {label: 'Syndrome', properties: {}}, ConditionOfPersistence: {label: 'ConditionOfPersistence', properties: {}}, Tone25: {label: 'Tone25', properties: {}}, SoundofTinnitus: {label: 'SoundofTinnitus', properties: {}}, PulseManifestation: {label: 'PulseManifestation', properties: {}}, SolarTermOfOnset: {label: 'SolarTermOfOnset', properties: {}}, Symptom: {label: 'Symptom', properties: {}}} | {has_symptom: {orientation: 'NATURAL', indexInverse: false, aggregation: 'DEFAULT', type: 'has_symptom', properties: {weight: {defaultValue: null, property: 'weight', aggregation: 'DEFAULT'}}}, recommend_music: {orientation: 'NATURAL', indexInverse: false, aggregation: 'DEFAULT', type: 'recommend_music', properties: {weight: {defaultValue: null, property: 'weight', aggregation: 'DEFAULT'}}}, diagnose_with: {orientation: 'NATURAL', indexInverse: false, aggregation: 'DEFAULT', type: 'diagnose_with', properties: {weight: {defaultValue: null, property: 'weight', aggregation: 'DEFAULT'}}}, sex_is: {orientation: 'NATURAL', indexInverse: false, aggregation: 'DEFAULT', type: 'sex_is', properties: {weight: {defaultValue: null, property: 'weight', aggregation: 'DEFAULT'}}}, has_inducement: {orientation: 'NATURAL', indexInverse: false, aggregation: 'DEFAULT', type: 'has_inducement', properties: {weight: {defaultValue: null, property: 'weight', aggregation: 'DEFAULT'}}}, has_past_history: {orientation: 'NATURAL', indexInverse: false, aggregation: 'DEFAULT', type: 'has_past_history', properties: {weight: {defaultValue: null, property: 'weight', aggregation: 'DEFAULT'}}}, manifestation_of: {orientation: 'NATURAL', indexInverse: false, aggregation: 'DEFAULT', type: 'manifestation_of', properties: {weight: {defaultValue: null, property: 'weight', aggregation: 'DEFAULT'}}}, has_syndrome: {orientation: 'NATURAL', indexInverse: false, aggregation: 'DEFAULT', type: 'has_syndrome', properties: {weight: {defaultValue: null, property: 'weight', aggregation: 'DEFAULT'}}}, part_of: {orientation: 'NATURAL', indexInverse: false, aggregation: 'DEFAULT', type: 'part_of', properties: {weight: {defaultValue: null, property: 'weight', aggregation: 'DEFAULT'}}}} | 5foldAllDirectedGraph01 |       727 |              7893 |            27 "
      ]
     },
     "execution_count": 105,
     "metadata": {},
     "output_type": "execute_result"
    }
   ],
   "source": [
    "graph.run(cypher_)"
   ]
  },
  {
   "cell_type": "markdown",
   "id": "98df68e0-00e8-40a7-a528-ea43f0bfac84",
   "metadata": {},
   "source": [
    "### 全节点全关系无权重有向投影图"
   ]
  },
  {
   "cell_type": "code",
   "execution_count": null,
   "id": "309ccb10-5b5d-4789-a3bc-9023ce587fa7",
   "metadata": {},
   "outputs": [],
   "source": [
    "#同证型患者、中医辨证属性数字\n",
    "cypher_=\"CALL gds.graph.project('5foldAllnoweightNumberSyndromeDirectedGraph04',\"+node_typesStr+\",\"+rel_typeStr+\")\"\n",
    "graph.run(cypher_)\n",
    "cypher_"
   ]
  },
  {
   "cell_type": "code",
   "execution_count": 345,
   "id": "ab80413c-9537-47b0-9130-69831ecbef3f",
   "metadata": {},
   "outputs": [
    {
     "name": "stdout",
     "output_type": "stream",
     "text": [
      "CALL gds.graph.project('5foldAllnoweightDirectedGraph05',['Patient','Syndrome','Sex','PastHistory','SoundofTinnitus','SleepStatus','CoatedTongue','PulseManifestation','DiagnosisofWesternMedicine','IncitingFactors','Tone25','Symptom','TongueQuality','ConditionOfPersistence','SolarTermOfOnset'],['sex_is','has_past_history','manifestation_of','has_symptom','recommend_music','has_syndrome','diagnose_with','has_inducement','part_of','同证型患者','onset'])\n"
     ]
    },
    {
     "data": {
      "text/html": [
       "<table><tr><th>nodeProjection</th><th>relationshipProjection</th><th>graphName</th><th>nodeCount</th><th>relationshipCount</th><th>projectMillis</th></tr><tr><td style=\"text-align:left\">{IncitingFactors: {label: &#039;IncitingFactors&#039;, properties: {}}, Sex: {label: &#039;Sex&#039;, properties: {}}, TongueQuality: {label: &#039;TongueQuality&#039;, properties: {}}, PastHistory: {label: &#039;PastHistory&#039;, properties: {}}, CoatedTongue: {label: &#039;CoatedTongue&#039;, properties: {}}, Patient: {label: &#039;Patient&#039;, properties: {}}, DiagnosisofWesternMedicine: {label: &#039;DiagnosisofWesternMedicine&#039;, properties: {}}, SleepStatus: {label: &#039;SleepStatus&#039;, properties: {}}, Syndrome: {label: &#039;Syndrome&#039;, properties: {}}, ConditionOfPersistence: {label: &#039;ConditionOfPersistence&#039;, properties: {}}, Tone25: {label: &#039;Tone25&#039;, properties: {}}, SoundofTinnitus: {label: &#039;SoundofTinnitus&#039;, properties: {}}, PulseManifestation: {label: &#039;PulseManifestation&#039;, properties: {}}, SolarTermOfOnset: {label: &#039;SolarTermOfOnset&#039;, properties: {}}, Symptom: {label: &#039;Symptom&#039;, properties: {}}}</td><td style=\"text-align:left\">{has_symptom: {orientation: &#039;NATURAL&#039;, indexInverse: false, aggregation: &#039;DEFAULT&#039;, type: &#039;has_symptom&#039;, properties: {}}, recommend_music: {orientation: &#039;NATURAL&#039;, indexInverse: false, aggregation: &#039;DEFAULT&#039;, type: &#039;recommend_music&#039;, properties: {}}, 同证型患者: {orientation: &#039;NATURAL&#039;, indexInverse: false, aggregation: &#039;DEFAULT&#039;, type: &#039;\\u540c\\u8bc1\\u578b\\u60a3\\u8005&#039;, properties: {}}, diagnose_with: {orientation: &#039;NATURAL&#039;, indexInverse: false, aggregation: &#039;DEFAULT&#039;, type: &#039;diagnose_with&#039;, properties: {}}, sex_is: {orientation: &#039;NATURAL&#039;, indexInverse: false, aggregation: &#039;DEFAULT&#039;, type: &#039;sex_is&#039;, properties: {}}, has_inducement: {orientation: &#039;NATURAL&#039;, indexInverse: false, aggregation: &#039;DEFAULT&#039;, type: &#039;has_inducement&#039;, properties: {}}, has_past_history: {orientation: &#039;NATURAL&#039;, indexInverse: false, aggregation: &#039;DEFAULT&#039;, type: &#039;has_past_history&#039;, properties: {}}, manifestation_of: {orientation: &#039;NATURAL&#039;, indexInverse: false, aggregation: &#039;DEFAULT&#039;, type: &#039;manifestation_of&#039;, properties: {}}, has_syndrome: {orientation: &#039;NATURAL&#039;, indexInverse: false, aggregation: &#039;DEFAULT&#039;, type: &#039;has_syndrome&#039;, properties: {}}, onset: {orientation: &#039;NATURAL&#039;, indexInverse: false, aggregation: &#039;DEFAULT&#039;, type: &#039;onset&#039;, properties: {}}, part_of: {orientation: &#039;NATURAL&#039;, indexInverse: false, aggregation: &#039;DEFAULT&#039;, type: &#039;part_of&#039;, properties: {}}}</td><td style=\"text-align:left\">5foldAllnoweightDirectedGraph05</td><td style=\"text-align:right\">728</td><td style=\"text-align:right\">11895</td><td style=\"text-align:right\">18</td></tr></table>"
      ],
      "text/plain": [
       " nodeProjection                                                                                                                                                                                                                                                                                                                                                                                                                                                                                                                                                                                                                                                                                                                                                                                                                                                                | relationshipProjection                                                                                                                                                                                                                                                                                                                                                                                                                                                                                                                                                                                                                                                                                                                                                                                                                                                                                                                                                                                                                                                                                                                                                                                                                                                                                                                                                                                     | graphName                       | nodeCount | relationshipCount | projectMillis \n",
       "-------------------------------------------------------------------------------------------------------------------------------------------------------------------------------------------------------------------------------------------------------------------------------------------------------------------------------------------------------------------------------------------------------------------------------------------------------------------------------------------------------------------------------------------------------------------------------------------------------------------------------------------------------------------------------------------------------------------------------------------------------------------------------------------------------------------------------------------------------------------------------|------------------------------------------------------------------------------------------------------------------------------------------------------------------------------------------------------------------------------------------------------------------------------------------------------------------------------------------------------------------------------------------------------------------------------------------------------------------------------------------------------------------------------------------------------------------------------------------------------------------------------------------------------------------------------------------------------------------------------------------------------------------------------------------------------------------------------------------------------------------------------------------------------------------------------------------------------------------------------------------------------------------------------------------------------------------------------------------------------------------------------------------------------------------------------------------------------------------------------------------------------------------------------------------------------------------------------------------------------------------------------------------------------------|---------------------------------|-----------|-------------------|---------------\n",
       " {IncitingFactors: {label: 'IncitingFactors', properties: {}}, Sex: {label: 'Sex', properties: {}}, TongueQuality: {label: 'TongueQuality', properties: {}}, PastHistory: {label: 'PastHistory', properties: {}}, CoatedTongue: {label: 'CoatedTongue', properties: {}}, Patient: {label: 'Patient', properties: {}}, DiagnosisofWesternMedicine: {label: 'DiagnosisofWesternMedicine', properties: {}}, SleepStatus: {label: 'SleepStatus', properties: {}}, Syndrome: {label: 'Syndrome', properties: {}}, ConditionOfPersistence: {label: 'ConditionOfPersistence', properties: {}}, Tone25: {label: 'Tone25', properties: {}}, SoundofTinnitus: {label: 'SoundofTinnitus', properties: {}}, PulseManifestation: {label: 'PulseManifestation', properties: {}}, SolarTermOfOnset: {label: 'SolarTermOfOnset', properties: {}}, Symptom: {label: 'Symptom', properties: {}}} | {has_symptom: {orientation: 'NATURAL', indexInverse: false, aggregation: 'DEFAULT', type: 'has_symptom', properties: {}}, recommend_music: {orientation: 'NATURAL', indexInverse: false, aggregation: 'DEFAULT', type: 'recommend_music', properties: {}}, 同证型患者: {orientation: 'NATURAL', indexInverse: false, aggregation: 'DEFAULT', type: '\\u540c\\u8bc1\\u578b\\u60a3\\u8005', properties: {}}, diagnose_with: {orientation: 'NATURAL', indexInverse: false, aggregation: 'DEFAULT', type: 'diagnose_with', properties: {}}, sex_is: {orientation: 'NATURAL', indexInverse: false, aggregation: 'DEFAULT', type: 'sex_is', properties: {}}, has_inducement: {orientation: 'NATURAL', indexInverse: false, aggregation: 'DEFAULT', type: 'has_inducement', properties: {}}, has_past_history: {orientation: 'NATURAL', indexInverse: false, aggregation: 'DEFAULT', type: 'has_past_history', properties: {}}, manifestation_of: {orientation: 'NATURAL', indexInverse: false, aggregation: 'DEFAULT', type: 'manifestation_of', properties: {}}, has_syndrome: {orientation: 'NATURAL', indexInverse: false, aggregation: 'DEFAULT', type: 'has_syndrome', properties: {}}, onset: {orientation: 'NATURAL', indexInverse: false, aggregation: 'DEFAULT', type: 'onset', properties: {}}, part_of: {orientation: 'NATURAL', indexInverse: false, aggregation: 'DEFAULT', type: 'part_of', properties: {}}} | 5foldAllnoweightDirectedGraph05 |       728 |             11895 |            18 "
      ]
     },
     "execution_count": 345,
     "metadata": {},
     "output_type": "execute_result"
    }
   ],
   "source": [
    "#五折5foldAllDirectedGraph01、5foldAllDirectedGraph02、5foldAllDirectedGraph03、5foldAllnoweightDirectedGraph04、5foldAllnoweightDirectedGraph02\n",
    "cypher_=\"CALL gds.graph.project('5foldAllnoweightDirectedGraph05',\"+node_typesStr+\",\"+rel_typeStr+\")\"\n",
    "print(cypher_)\n",
    "graph.run(cypher_)\n"
   ]
  },
  {
   "cell_type": "code",
   "execution_count": 7,
   "id": "d9445167-c40e-49d3-8bbd-509c65ee15d0",
   "metadata": {},
   "outputs": [
    {
     "data": {
      "text/html": [
       "<table><tr><th>nodeProjection</th><th>relationshipProjection</th><th>graphName</th><th>nodeCount</th><th>relationshipCount</th><th>projectMillis</th></tr><tr><td style=\"text-align:left\">{IncitingFactors: {label: &#039;IncitingFactors&#039;, properties: {}}, Sex: {label: &#039;Sex&#039;, properties: {}}, TongueQuality: {label: &#039;TongueQuality&#039;, properties: {}}, PastHistory: {label: &#039;PastHistory&#039;, properties: {}}, CoatedTongue: {label: &#039;CoatedTongue&#039;, properties: {}}, Patient: {label: &#039;Patient&#039;, properties: {}}, ConditionofPersistence: {label: &#039;ConditionofPersistence&#039;, properties: {}}, DiagnosisofWesternMedicine: {label: &#039;DiagnosisofWesternMedicine&#039;, properties: {}}, SleepStatus: {label: &#039;SleepStatus&#039;, properties: {}}, Syndrome: {label: &#039;Syndrome&#039;, properties: {}}, Tone25: {label: &#039;Tone25&#039;, properties: {}}, SoundofTinnitus: {label: &#039;SoundofTinnitus&#039;, properties: {}}, PulseManifestation: {label: &#039;PulseManifestation&#039;, properties: {}}, Symptom: {label: &#039;Symptom&#039;, properties: {}}}</td><td style=\"text-align:left\">{has_symptom: {orientation: &#039;NATURAL&#039;, indexInverse: false, aggregation: &#039;DEFAULT&#039;, type: &#039;has_symptom&#039;, properties: {}}, recommend_music: {orientation: &#039;NATURAL&#039;, indexInverse: false, aggregation: &#039;DEFAULT&#039;, type: &#039;recommend_music&#039;, properties: {}}, 同证型患者: {orientation: &#039;NATURAL&#039;, indexInverse: false, aggregation: &#039;DEFAULT&#039;, type: &#039;\\u540c\\u8bc1\\u578b\\u60a3\\u8005&#039;, properties: {}}, diagnose_with: {orientation: &#039;NATURAL&#039;, indexInverse: false, aggregation: &#039;DEFAULT&#039;, type: &#039;diagnose_with&#039;, properties: {}}, sex_is: {orientation: &#039;NATURAL&#039;, indexInverse: false, aggregation: &#039;DEFAULT&#039;, type: &#039;sex_is&#039;, properties: {}}, has_inducement: {orientation: &#039;NATURAL&#039;, indexInverse: false, aggregation: &#039;DEFAULT&#039;, type: &#039;has_inducement&#039;, properties: {}}, has_past_history: {orientation: &#039;NATURAL&#039;, indexInverse: false, aggregation: &#039;DEFAULT&#039;, type: &#039;has_past_history&#039;, properties: {}}, manifestation_of: {orientation: &#039;NATURAL&#039;, indexInverse: false, aggregation: &#039;DEFAULT&#039;, type: &#039;manifestation_of&#039;, properties: {}}, has_syndrome: {orientation: &#039;NATURAL&#039;, indexInverse: false, aggregation: &#039;DEFAULT&#039;, type: &#039;has_syndrome&#039;, properties: {}}, part_of: {orientation: &#039;NATURAL&#039;, indexInverse: false, aggregation: &#039;DEFAULT&#039;, type: &#039;part_of&#039;, properties: {}}}</td><td style=\"text-align:left\">dataAllgraph01</td><td style=\"text-align:right\">703</td><td style=\"text-align:right\">82787</td><td style=\"text-align:right\">30</td></tr></table>"
      ],
      "text/plain": [
       " nodeProjection                                                                                                                                                                                                                                                                                                                                                                                                                                                                                                                                                                                                                                                                                                                                                                                                 | relationshipProjection                                                                                                                                                                                                                                                                                                                                                                                                                                                                                                                                                                                                                                                                                                                                                                                                                                                                                                                                                                                                                                                                                                                                                                                                                                                                        | graphName      | nodeCount | relationshipCount | projectMillis \n",
       "----------------------------------------------------------------------------------------------------------------------------------------------------------------------------------------------------------------------------------------------------------------------------------------------------------------------------------------------------------------------------------------------------------------------------------------------------------------------------------------------------------------------------------------------------------------------------------------------------------------------------------------------------------------------------------------------------------------------------------------------------------------------------------------------------------------|-----------------------------------------------------------------------------------------------------------------------------------------------------------------------------------------------------------------------------------------------------------------------------------------------------------------------------------------------------------------------------------------------------------------------------------------------------------------------------------------------------------------------------------------------------------------------------------------------------------------------------------------------------------------------------------------------------------------------------------------------------------------------------------------------------------------------------------------------------------------------------------------------------------------------------------------------------------------------------------------------------------------------------------------------------------------------------------------------------------------------------------------------------------------------------------------------------------------------------------------------------------------------------------------------|----------------|-----------|-------------------|---------------\n",
       " {IncitingFactors: {label: 'IncitingFactors', properties: {}}, Sex: {label: 'Sex', properties: {}}, TongueQuality: {label: 'TongueQuality', properties: {}}, PastHistory: {label: 'PastHistory', properties: {}}, CoatedTongue: {label: 'CoatedTongue', properties: {}}, Patient: {label: 'Patient', properties: {}}, ConditionofPersistence: {label: 'ConditionofPersistence', properties: {}}, DiagnosisofWesternMedicine: {label: 'DiagnosisofWesternMedicine', properties: {}}, SleepStatus: {label: 'SleepStatus', properties: {}}, Syndrome: {label: 'Syndrome', properties: {}}, Tone25: {label: 'Tone25', properties: {}}, SoundofTinnitus: {label: 'SoundofTinnitus', properties: {}}, PulseManifestation: {label: 'PulseManifestation', properties: {}}, Symptom: {label: 'Symptom', properties: {}}} | {has_symptom: {orientation: 'NATURAL', indexInverse: false, aggregation: 'DEFAULT', type: 'has_symptom', properties: {}}, recommend_music: {orientation: 'NATURAL', indexInverse: false, aggregation: 'DEFAULT', type: 'recommend_music', properties: {}}, 同证型患者: {orientation: 'NATURAL', indexInverse: false, aggregation: 'DEFAULT', type: '\\u540c\\u8bc1\\u578b\\u60a3\\u8005', properties: {}}, diagnose_with: {orientation: 'NATURAL', indexInverse: false, aggregation: 'DEFAULT', type: 'diagnose_with', properties: {}}, sex_is: {orientation: 'NATURAL', indexInverse: false, aggregation: 'DEFAULT', type: 'sex_is', properties: {}}, has_inducement: {orientation: 'NATURAL', indexInverse: false, aggregation: 'DEFAULT', type: 'has_inducement', properties: {}}, has_past_history: {orientation: 'NATURAL', indexInverse: false, aggregation: 'DEFAULT', type: 'has_past_history', properties: {}}, manifestation_of: {orientation: 'NATURAL', indexInverse: false, aggregation: 'DEFAULT', type: 'manifestation_of', properties: {}}, has_syndrome: {orientation: 'NATURAL', indexInverse: false, aggregation: 'DEFAULT', type: 'has_syndrome', properties: {}}, part_of: {orientation: 'NATURAL', indexInverse: false, aggregation: 'DEFAULT', type: 'part_of', properties: {}}} | dataAllgraph01 |       703 |             82787 |            30 "
      ]
     },
     "execution_count": 7,
     "metadata": {},
     "output_type": "execute_result"
    }
   ],
   "source": [
    "#tinnitusAllgraph01\n",
    "cypher_=\"CALL gds.graph.project('dataAllgraph01',\"+node_typesStr+\",\"+rel_typeStr+\")\"\n",
    "graph.run(cypher_)"
   ]
  },
  {
   "cell_type": "markdown",
   "id": "72c55bbb-a3cc-445b-94d1-3e2fea8f83b5",
   "metadata": {},
   "source": [
    "### 全节点全关系有权重无向投影图"
   ]
  },
  {
   "cell_type": "code",
   "execution_count": 40,
   "id": "23075ac3-8124-4415-a170-ab2a25609eb1",
   "metadata": {},
   "outputs": [
    {
     "data": {
      "text/plain": [
       "\"{sex_is: {orientation: 'UNDIRECTED'},has_past_history: {orientation: 'UNDIRECTED'},manifestation_of: {orientation: 'UNDIRECTED'},has_symptom: {orientation: 'UNDIRECTED'},recommend_music: {orientation: 'UNDIRECTED'},has_syndrome: {orientation: 'UNDIRECTED'},diagnose_with: {orientation: 'UNDIRECTED'},has_inducement: {orientation: 'UNDIRECTED'},part_of: {orientation: 'UNDIRECTED'},}\""
      ]
     },
     "execution_count": 40,
     "metadata": {},
     "output_type": "execute_result"
    }
   ],
   "source": [
    "rel_typeStr1"
   ]
  },
  {
   "cell_type": "code",
   "execution_count": 16,
   "id": "420230b5-46fc-41a1-ba40-5a93a6f67e45",
   "metadata": {},
   "outputs": [
    {
     "data": {
      "text/plain": [
       "\"CALL gds.graph.project('5foldNoSameUndirectedGraph01',['Patient','Syndrome','Sex','PastHistory','SoundofTinnitus','SleepStatus','CoatedTongue','PulseManifestation','DiagnosisofWesternMedicine','IncitingFactors','Tone25','Symptom','TongueQuality','ConditionOfPersistence','SolarTermOfOnset','TinnitusFrequency'],{sex_is: {orientation: 'UNDIRECTED'},has_past_history: {orientation: 'UNDIRECTED'},manifestation_of: {orientation: 'UNDIRECTED'},has_symptom: {orientation: 'UNDIRECTED'},recommend_music: {orientation: 'UNDIRECTED'},has_syndrome: {orientation: 'UNDIRECTED'},diagnose_with: {orientation: 'UNDIRECTED'},has_inducement: {orientation: 'UNDIRECTED'},part_of: {orientation: 'UNDIRECTED'},onset: {orientation: 'UNDIRECTED'},has_tinnitus_frequency: {orientation: 'UNDIRECTED'}},{relationshipProperties: 'weight'})\""
      ]
     },
     "execution_count": 16,
     "metadata": {},
     "output_type": "execute_result"
    }
   ],
   "source": [
    "#五折5foldAllUndirectedGraph01、5foldAllUndirectedGraph02\n",
    "cypher_=\"CALL gds.graph.project('5foldNoSameUndirectedGraph01',\"+node_typesStr+\",\"+rel_typeStr1+\",{relationshipProperties: 'weight'})\"\n",
    "graph.run(cypher_)\n",
    "cypher_"
   ]
  },
  {
   "cell_type": "code",
   "execution_count": null,
   "id": "03aba2d4-dff8-40c6-b2e6-d6b85a20a7f5",
   "metadata": {},
   "outputs": [],
   "source": [
    "cypher_=\"CALL gds.graph.project('dataAllWeightgraph',\"+node_typesStr+\",\"+rel_typeStr1+\")\"\n",
    "graph.run(cypher_)"
   ]
  },
  {
   "cell_type": "markdown",
   "id": "a02feea4-f29a-4346-a1c6-b86b90a2942e",
   "metadata": {},
   "source": [
    "### 全节点全关系无向投影图"
   ]
  },
  {
   "cell_type": "code",
   "execution_count": 22,
   "id": "a35708f2-fb45-409c-93ea-125343f003ab",
   "metadata": {},
   "outputs": [
    {
     "data": {
      "text/html": [
       "<table><tr><th>nodeProjection</th><th>relationshipProjection</th><th>graphName</th><th>nodeCount</th><th>relationshipCount</th><th>projectMillis</th></tr><tr><td style=\"text-align:left\">{IncitingFactors: {label: &#039;IncitingFactors&#039;, properties: {}}, Sex: {label: &#039;Sex&#039;, properties: {}}, TongueQuality: {label: &#039;TongueQuality&#039;, properties: {}}, PastHistory: {label: &#039;PastHistory&#039;, properties: {}}, CoatedTongue: {label: &#039;CoatedTongue&#039;, properties: {}}, Patient: {label: &#039;Patient&#039;, properties: {}}, ConditionofPersistence: {label: &#039;ConditionofPersistence&#039;, properties: {}}, DiagnosisofWesternMedicine: {label: &#039;DiagnosisofWesternMedicine&#039;, properties: {}}, SleepStatus: {label: &#039;SleepStatus&#039;, properties: {}}, Syndrome: {label: &#039;Syndrome&#039;, properties: {}}, Tone25: {label: &#039;Tone25&#039;, properties: {}}, SoundofTinnitus: {label: &#039;SoundofTinnitus&#039;, properties: {}}, PulseManifestation: {label: &#039;PulseManifestation&#039;, properties: {}}, Symptom: {label: &#039;Symptom&#039;, properties: {}}}</td><td style=\"text-align:left\">{has_symptom: {orientation: &#039;UNDIRECTED&#039;, indexInverse: false, aggregation: &#039;DEFAULT&#039;, type: &#039;has_symptom&#039;, properties: {}}, recommend_music: {orientation: &#039;UNDIRECTED&#039;, indexInverse: false, aggregation: &#039;DEFAULT&#039;, type: &#039;recommend_music&#039;, properties: {}}, 同证型患者: {orientation: &#039;UNDIRECTED&#039;, indexInverse: false, aggregation: &#039;DEFAULT&#039;, type: &#039;\\u540c\\u8bc1\\u578b\\u60a3\\u8005&#039;, properties: {}}, diagnose_with: {orientation: &#039;UNDIRECTED&#039;, indexInverse: false, aggregation: &#039;DEFAULT&#039;, type: &#039;diagnose_with&#039;, properties: {}}, sex_is: {orientation: &#039;UNDIRECTED&#039;, indexInverse: false, aggregation: &#039;DEFAULT&#039;, type: &#039;sex_is&#039;, properties: {}}, has_inducement: {orientation: &#039;UNDIRECTED&#039;, indexInverse: false, aggregation: &#039;DEFAULT&#039;, type: &#039;has_inducement&#039;, properties: {}}, has_past_history: {orientation: &#039;UNDIRECTED&#039;, indexInverse: false, aggregation: &#039;DEFAULT&#039;, type: &#039;has_past_history&#039;, properties: {}}, manifestation_of: {orientation: &#039;UNDIRECTED&#039;, indexInverse: false, aggregation: &#039;DEFAULT&#039;, type: &#039;manifestation_of&#039;, properties: {}}, has_syndrome: {orientation: &#039;UNDIRECTED&#039;, indexInverse: false, aggregation: &#039;DEFAULT&#039;, type: &#039;has_syndrome&#039;, properties: {}}, part_of: {orientation: &#039;UNDIRECTED&#039;, indexInverse: false, aggregation: &#039;DEFAULT&#039;, type: &#039;part_of&#039;, properties: {}}}</td><td style=\"text-align:left\">dataAllgraph02</td><td style=\"text-align:right\">703</td><td style=\"text-align:right\">165574</td><td style=\"text-align:right\">32</td></tr></table>"
      ],
      "text/plain": [
       " nodeProjection                                                                                                                                                                                                                                                                                                                                                                                                                                                                                                                                                                                                                                                                                                                                                                                                 | relationshipProjection                                                                                                                                                                                                                                                                                                                                                                                                                                                                                                                                                                                                                                                                                                                                                                                                                                                                                                                                                                                                                                                                                                                                                                                                                                                                                                      | graphName      | nodeCount | relationshipCount | projectMillis \n",
       "----------------------------------------------------------------------------------------------------------------------------------------------------------------------------------------------------------------------------------------------------------------------------------------------------------------------------------------------------------------------------------------------------------------------------------------------------------------------------------------------------------------------------------------------------------------------------------------------------------------------------------------------------------------------------------------------------------------------------------------------------------------------------------------------------------------|-----------------------------------------------------------------------------------------------------------------------------------------------------------------------------------------------------------------------------------------------------------------------------------------------------------------------------------------------------------------------------------------------------------------------------------------------------------------------------------------------------------------------------------------------------------------------------------------------------------------------------------------------------------------------------------------------------------------------------------------------------------------------------------------------------------------------------------------------------------------------------------------------------------------------------------------------------------------------------------------------------------------------------------------------------------------------------------------------------------------------------------------------------------------------------------------------------------------------------------------------------------------------------------------------------------------------------|----------------|-----------|-------------------|---------------\n",
       " {IncitingFactors: {label: 'IncitingFactors', properties: {}}, Sex: {label: 'Sex', properties: {}}, TongueQuality: {label: 'TongueQuality', properties: {}}, PastHistory: {label: 'PastHistory', properties: {}}, CoatedTongue: {label: 'CoatedTongue', properties: {}}, Patient: {label: 'Patient', properties: {}}, ConditionofPersistence: {label: 'ConditionofPersistence', properties: {}}, DiagnosisofWesternMedicine: {label: 'DiagnosisofWesternMedicine', properties: {}}, SleepStatus: {label: 'SleepStatus', properties: {}}, Syndrome: {label: 'Syndrome', properties: {}}, Tone25: {label: 'Tone25', properties: {}}, SoundofTinnitus: {label: 'SoundofTinnitus', properties: {}}, PulseManifestation: {label: 'PulseManifestation', properties: {}}, Symptom: {label: 'Symptom', properties: {}}} | {has_symptom: {orientation: 'UNDIRECTED', indexInverse: false, aggregation: 'DEFAULT', type: 'has_symptom', properties: {}}, recommend_music: {orientation: 'UNDIRECTED', indexInverse: false, aggregation: 'DEFAULT', type: 'recommend_music', properties: {}}, 同证型患者: {orientation: 'UNDIRECTED', indexInverse: false, aggregation: 'DEFAULT', type: '\\u540c\\u8bc1\\u578b\\u60a3\\u8005', properties: {}}, diagnose_with: {orientation: 'UNDIRECTED', indexInverse: false, aggregation: 'DEFAULT', type: 'diagnose_with', properties: {}}, sex_is: {orientation: 'UNDIRECTED', indexInverse: false, aggregation: 'DEFAULT', type: 'sex_is', properties: {}}, has_inducement: {orientation: 'UNDIRECTED', indexInverse: false, aggregation: 'DEFAULT', type: 'has_inducement', properties: {}}, has_past_history: {orientation: 'UNDIRECTED', indexInverse: false, aggregation: 'DEFAULT', type: 'has_past_history', properties: {}}, manifestation_of: {orientation: 'UNDIRECTED', indexInverse: false, aggregation: 'DEFAULT', type: 'manifestation_of', properties: {}}, has_syndrome: {orientation: 'UNDIRECTED', indexInverse: false, aggregation: 'DEFAULT', type: 'has_syndrome', properties: {}}, part_of: {orientation: 'UNDIRECTED', indexInverse: false, aggregation: 'DEFAULT', type: 'part_of', properties: {}}} | dataAllgraph02 |       703 |            165574 |            32 "
      ]
     },
     "execution_count": 22,
     "metadata": {},
     "output_type": "execute_result"
    }
   ],
   "source": [
    "\n",
    "cypher_=\"CALL gds.graph.project('dataAllgraph02',\"+node_typesStr+\",\"+rel_typeStr1+\")\"\n",
    "graph.run(cypher_)"
   ]
  },
  {
   "cell_type": "markdown",
   "id": "dd44a78b-6ac9-437f-8627-4c35cb211769",
   "metadata": {},
   "source": [
    "### 只有Patient节点、has_syndrome无向关系投影图\n"
   ]
  },
  {
   "cell_type": "code",
   "execution_count": 14,
   "id": "a2d23347-072c-41c3-ac75-a2b738f74110",
   "metadata": {},
   "outputs": [
    {
     "data": {
      "text/html": [
       "<table><tr><th>nodeProjection</th><th>relationshipProjection</th><th>graphName</th><th>nodeCount</th><th>relationshipCount</th><th>projectMillis</th></tr><tr><td style=\"text-align:left\">{Patient: {label: &#039;Patient&#039;, properties: {}}}</td><td style=\"text-align:left\">{has_syndrome: {orientation: &#039;UNDIRECTED&#039;, indexInverse: false, aggregation: &#039;DEFAULT&#039;, type: &#039;has_syndrome&#039;, properties: {}}}</td><td style=\"text-align:left\">tinnitusAllgraph</td><td style=\"text-align:right\">595</td><td style=\"text-align:right\">0</td><td style=\"text-align:right\">3774</td></tr></table>"
      ],
      "text/plain": [
       " nodeProjection                                | relationshipProjection                                                                                                         | graphName        | nodeCount | relationshipCount | projectMillis \n",
       "-----------------------------------------------|--------------------------------------------------------------------------------------------------------------------------------|------------------|-----------|-------------------|---------------\n",
       " {Patient: {label: 'Patient', properties: {}}} | {has_syndrome: {orientation: 'UNDIRECTED', indexInverse: false, aggregation: 'DEFAULT', type: 'has_syndrome', properties: {}}} | tinnitusAllgraph |       595 |                 0 |          3774 "
      ]
     },
     "execution_count": 14,
     "metadata": {},
     "output_type": "execute_result"
    }
   ],
   "source": [
    "tinnitusAllgraph\n",
    "cypher_=\"CALL gds.graph.project('tinnitusAllgraph','Patient',{has_syndrome: {orientation: 'UNDIRECTED'}})\"\n",
    "graph.run(cypher_)"
   ]
  },
  {
   "cell_type": "markdown",
   "id": "579385d7-fbca-4b72-8ab2-038200110ece",
   "metadata": {},
   "source": [
    "# 社区检测"
   ]
  },
  {
   "cell_type": "markdown",
   "id": "6b6d2c01-eaaf-4d4f-bc26-95837f9462fa",
   "metadata": {},
   "source": [
    "## Louvain算法"
   ]
  },
  {
   "cell_type": "markdown",
   "id": "3f84b102-dcd5-4a23-92ed-c1e26dedaeae",
   "metadata": {},
   "source": [
    "### 运行Louvain算法"
   ]
  },
  {
   "cell_type": "code",
   "execution_count": null,
   "id": "409f7c00-ceb1-498d-83d3-5a14f388af15",
   "metadata": {},
   "outputs": [],
   "source": [
    "#参数\n",
    "'''\n",
    "includeIntermediateCommunities：中间曾分配到的社区\n",
    "relationshipWeightProperty: 'weight'\n",
    "'''"
   ]
  },
  {
   "cell_type": "code",
   "execution_count": 19,
   "id": "b0854025-eeb1-4a3a-a25a-f2cf8324639a",
   "metadata": {},
   "outputs": [
    {
     "data": {
      "text/html": [
       "<div>\n",
       "<style scoped>\n",
       "    .dataframe tbody tr th:only-of-type {\n",
       "        vertical-align: middle;\n",
       "    }\n",
       "\n",
       "    .dataframe tbody tr th {\n",
       "        vertical-align: top;\n",
       "    }\n",
       "\n",
       "    .dataframe thead th {\n",
       "        text-align: right;\n",
       "    }\n",
       "</style>\n",
       "<table border=\"1\" class=\"dataframe\">\n",
       "  <thead>\n",
       "    <tr style=\"text-align: right;\">\n",
       "      <th></th>\n",
       "      <th>name</th>\n",
       "      <th>communityId</th>\n",
       "      <th>intermediateCommunityIds</th>\n",
       "    </tr>\n",
       "  </thead>\n",
       "  <tbody>\n",
       "    <tr>\n",
       "      <th>0</th>\n",
       "      <td>CoatedTongue</td>\n",
       "      <td>117</td>\n",
       "      <td>[117]</td>\n",
       "    </tr>\n",
       "    <tr>\n",
       "      <th>1</th>\n",
       "      <td>ConditionOfPersistence</td>\n",
       "      <td>42</td>\n",
       "      <td>[42]</td>\n",
       "    </tr>\n",
       "    <tr>\n",
       "      <th>2</th>\n",
       "      <td>DiagnosisofWesternMedicine</td>\n",
       "      <td>104</td>\n",
       "      <td>[104]</td>\n",
       "    </tr>\n",
       "    <tr>\n",
       "      <th>3</th>\n",
       "      <td>IncitingFactors</td>\n",
       "      <td>28</td>\n",
       "      <td>[28]</td>\n",
       "    </tr>\n",
       "    <tr>\n",
       "      <th>4</th>\n",
       "      <td>PastHistory</td>\n",
       "      <td>34</td>\n",
       "      <td>[34]</td>\n",
       "    </tr>\n",
       "    <tr>\n",
       "      <th>...</th>\n",
       "      <td>...</td>\n",
       "      <td>...</td>\n",
       "      <td>...</td>\n",
       "    </tr>\n",
       "    <tr>\n",
       "      <th>722</th>\n",
       "      <td>风热侵袭</td>\n",
       "      <td>77</td>\n",
       "      <td>[77]</td>\n",
       "    </tr>\n",
       "    <tr>\n",
       "      <th>723</th>\n",
       "      <td>饮酒</td>\n",
       "      <td>41</td>\n",
       "      <td>[41]</td>\n",
       "    </tr>\n",
       "    <tr>\n",
       "      <th>724</th>\n",
       "      <td>高脂血症</td>\n",
       "      <td>37</td>\n",
       "      <td>[37]</td>\n",
       "    </tr>\n",
       "    <tr>\n",
       "      <th>725</th>\n",
       "      <td>高血压</td>\n",
       "      <td>35</td>\n",
       "      <td>[35]</td>\n",
       "    </tr>\n",
       "    <tr>\n",
       "      <th>726</th>\n",
       "      <td>鸣笛声</td>\n",
       "      <td>49</td>\n",
       "      <td>[49]</td>\n",
       "    </tr>\n",
       "  </tbody>\n",
       "</table>\n",
       "<p>727 rows × 3 columns</p>\n",
       "</div>"
      ],
      "text/plain": [
       "                           name  communityId intermediateCommunityIds\n",
       "0                  CoatedTongue          117                    [117]\n",
       "1        ConditionOfPersistence           42                     [42]\n",
       "2    DiagnosisofWesternMedicine          104                    [104]\n",
       "3               IncitingFactors           28                     [28]\n",
       "4                   PastHistory           34                     [34]\n",
       "..                          ...          ...                      ...\n",
       "722                        风热侵袭           77                     [77]\n",
       "723                          饮酒           41                     [41]\n",
       "724                        高脂血症           37                     [37]\n",
       "725                         高血压           35                     [35]\n",
       "726                         鸣笛声           49                     [49]\n",
       "\n",
       "[727 rows x 3 columns]"
      ]
     },
     "execution_count": 19,
     "metadata": {},
     "output_type": "execute_result"
    }
   ],
   "source": [
    "#有权重\n",
    "cypher_=\"CALL gds.louvain.stream('dataAllWeightDirectedGraph',{includeIntermediateCommunities: true, relationshipWeightProperty: 'weight'}) YIELD nodeId, communityId, intermediateCommunityIds RETURN gds.util.asNode(nodeId).name AS name, communityId, intermediateCommunityIds ORDER BY name ASC\"\n",
    "data_Louvain=graph.run(cypher_).to_data_frame()\n",
    "data_Louvain"
   ]
  },
  {
   "cell_type": "code",
   "execution_count": 3,
   "id": "e83e3177-dd52-46dd-920f-eae9d7091094",
   "metadata": {},
   "outputs": [
    {
     "data": {
      "text/html": [
       "<div>\n",
       "<style scoped>\n",
       "    .dataframe tbody tr th:only-of-type {\n",
       "        vertical-align: middle;\n",
       "    }\n",
       "\n",
       "    .dataframe tbody tr th {\n",
       "        vertical-align: top;\n",
       "    }\n",
       "\n",
       "    .dataframe thead th {\n",
       "        text-align: right;\n",
       "    }\n",
       "</style>\n",
       "<table border=\"1\" class=\"dataframe\">\n",
       "  <thead>\n",
       "    <tr style=\"text-align: right;\">\n",
       "      <th></th>\n",
       "      <th>name</th>\n",
       "      <th>communityId</th>\n",
       "      <th>intermediateCommunityIds</th>\n",
       "    </tr>\n",
       "  </thead>\n",
       "  <tbody>\n",
       "    <tr>\n",
       "      <th>0</th>\n",
       "      <td>CoatedTongue</td>\n",
       "      <td>52</td>\n",
       "      <td>[52, 52]</td>\n",
       "    </tr>\n",
       "    <tr>\n",
       "      <th>1</th>\n",
       "      <td>ConditionofPersistence</td>\n",
       "      <td>52</td>\n",
       "      <td>[52, 52]</td>\n",
       "    </tr>\n",
       "    <tr>\n",
       "      <th>2</th>\n",
       "      <td>DiagnosisofWesternMedicine</td>\n",
       "      <td>52</td>\n",
       "      <td>[81, 52]</td>\n",
       "    </tr>\n",
       "    <tr>\n",
       "      <th>3</th>\n",
       "      <td>IncitingFactors</td>\n",
       "      <td>52</td>\n",
       "      <td>[51, 52]</td>\n",
       "    </tr>\n",
       "    <tr>\n",
       "      <th>4</th>\n",
       "      <td>PastHistory</td>\n",
       "      <td>52</td>\n",
       "      <td>[52, 52]</td>\n",
       "    </tr>\n",
       "    <tr>\n",
       "      <th>...</th>\n",
       "      <td>...</td>\n",
       "      <td>...</td>\n",
       "      <td>...</td>\n",
       "    </tr>\n",
       "    <tr>\n",
       "      <th>698</th>\n",
       "      <td>风热侵袭</td>\n",
       "      <td>52</td>\n",
       "      <td>[50, 52]</td>\n",
       "    </tr>\n",
       "    <tr>\n",
       "      <th>699</th>\n",
       "      <td>饮酒</td>\n",
       "      <td>52</td>\n",
       "      <td>[52, 52]</td>\n",
       "    </tr>\n",
       "    <tr>\n",
       "      <th>700</th>\n",
       "      <td>高脂血症</td>\n",
       "      <td>52</td>\n",
       "      <td>[50, 52]</td>\n",
       "    </tr>\n",
       "    <tr>\n",
       "      <th>701</th>\n",
       "      <td>高血压</td>\n",
       "      <td>52</td>\n",
       "      <td>[52, 52]</td>\n",
       "    </tr>\n",
       "    <tr>\n",
       "      <th>702</th>\n",
       "      <td>鸣笛声</td>\n",
       "      <td>66</td>\n",
       "      <td>[49, 66]</td>\n",
       "    </tr>\n",
       "  </tbody>\n",
       "</table>\n",
       "<p>703 rows × 3 columns</p>\n",
       "</div>"
      ],
      "text/plain": [
       "                           name  communityId intermediateCommunityIds\n",
       "0                  CoatedTongue           52                 [52, 52]\n",
       "1        ConditionofPersistence           52                 [52, 52]\n",
       "2    DiagnosisofWesternMedicine           52                 [81, 52]\n",
       "3               IncitingFactors           52                 [51, 52]\n",
       "4                   PastHistory           52                 [52, 52]\n",
       "..                          ...          ...                      ...\n",
       "698                        风热侵袭           52                 [50, 52]\n",
       "699                          饮酒           52                 [52, 52]\n",
       "700                        高脂血症           52                 [50, 52]\n",
       "701                         高血压           52                 [52, 52]\n",
       "702                         鸣笛声           66                 [49, 66]\n",
       "\n",
       "[703 rows x 3 columns]"
      ]
     },
     "execution_count": 3,
     "metadata": {},
     "output_type": "execute_result"
    }
   ],
   "source": [
    "#tinnitusAllgraph01\n",
    "cypher_=\"CALL gds.louvain.stream('dataAllgraph01',{includeIntermediateCommunities: true }) YIELD nodeId, communityId, intermediateCommunityIds RETURN gds.util.asNode(nodeId).name AS name, communityId, intermediateCommunityIds ORDER BY name ASC\"\n",
    "data_Louvain=graph.run(cypher_).to_data_frame()\n",
    "data_Louvain"
   ]
  },
  {
   "cell_type": "markdown",
   "id": "658bcc54-bdcb-4c0b-a2b2-e4d0a86e4cdf",
   "metadata": {},
   "source": [
    "### 保存Louvain算法运行结果"
   ]
  },
  {
   "cell_type": "code",
   "execution_count": 20,
   "id": "3658a260-005c-4af4-a461-06a573372063",
   "metadata": {},
   "outputs": [],
   "source": [
    "#dataAll_Louvain\n",
    "data_Louvain.to_csv(\"./outData/dataAll_Louvain权重.csv\")"
   ]
  },
  {
   "cell_type": "markdown",
   "id": "9c9dcaea-89b2-4aed-8618-496e45228c87",
   "metadata": {},
   "source": [
    "## leiden算法"
   ]
  },
  {
   "cell_type": "markdown",
   "id": "5a42f151-25a8-4c7e-9b95-15f9b1c44957",
   "metadata": {},
   "source": [
    "### 运行leiden算法"
   ]
  },
  {
   "cell_type": "code",
   "execution_count": null,
   "id": "e85460ef-3ed6-4aca-83b1-736bf792afd7",
   "metadata": {},
   "outputs": [],
   "source": [
    "#有权重\n"
   ]
  },
  {
   "cell_type": "code",
   "execution_count": 23,
   "id": "4d407868-d232-415f-8838-449421ba54b0",
   "metadata": {},
   "outputs": [
    {
     "data": {
      "text/html": [
       "<div>\n",
       "<style scoped>\n",
       "    .dataframe tbody tr th:only-of-type {\n",
       "        vertical-align: middle;\n",
       "    }\n",
       "\n",
       "    .dataframe tbody tr th {\n",
       "        vertical-align: top;\n",
       "    }\n",
       "\n",
       "    .dataframe thead th {\n",
       "        text-align: right;\n",
       "    }\n",
       "</style>\n",
       "<table border=\"1\" class=\"dataframe\">\n",
       "  <thead>\n",
       "    <tr style=\"text-align: right;\">\n",
       "      <th></th>\n",
       "      <th>name</th>\n",
       "      <th>communityId</th>\n",
       "      <th>intermediateCommunityIds</th>\n",
       "    </tr>\n",
       "  </thead>\n",
       "  <tbody>\n",
       "    <tr>\n",
       "      <th>0</th>\n",
       "      <td>CoatedTongue</td>\n",
       "      <td>373</td>\n",
       "      <td>[373]</td>\n",
       "    </tr>\n",
       "    <tr>\n",
       "      <th>1</th>\n",
       "      <td>ConditionofPersistence</td>\n",
       "      <td>373</td>\n",
       "      <td>[373]</td>\n",
       "    </tr>\n",
       "    <tr>\n",
       "      <th>2</th>\n",
       "      <td>DiagnosisofWesternMedicine</td>\n",
       "      <td>373</td>\n",
       "      <td>[373]</td>\n",
       "    </tr>\n",
       "    <tr>\n",
       "      <th>3</th>\n",
       "      <td>IncitingFactors</td>\n",
       "      <td>373</td>\n",
       "      <td>[373]</td>\n",
       "    </tr>\n",
       "    <tr>\n",
       "      <th>4</th>\n",
       "      <td>PastHistory</td>\n",
       "      <td>373</td>\n",
       "      <td>[373]</td>\n",
       "    </tr>\n",
       "    <tr>\n",
       "      <th>...</th>\n",
       "      <td>...</td>\n",
       "      <td>...</td>\n",
       "      <td>...</td>\n",
       "    </tr>\n",
       "    <tr>\n",
       "      <th>698</th>\n",
       "      <td>风热侵袭</td>\n",
       "      <td>337</td>\n",
       "      <td>[337]</td>\n",
       "    </tr>\n",
       "    <tr>\n",
       "      <th>699</th>\n",
       "      <td>饮酒</td>\n",
       "      <td>373</td>\n",
       "      <td>[373]</td>\n",
       "    </tr>\n",
       "    <tr>\n",
       "      <th>700</th>\n",
       "      <td>高脂血症</td>\n",
       "      <td>373</td>\n",
       "      <td>[373]</td>\n",
       "    </tr>\n",
       "    <tr>\n",
       "      <th>701</th>\n",
       "      <td>高血压</td>\n",
       "      <td>373</td>\n",
       "      <td>[373]</td>\n",
       "    </tr>\n",
       "    <tr>\n",
       "      <th>702</th>\n",
       "      <td>鸣笛声</td>\n",
       "      <td>373</td>\n",
       "      <td>[373]</td>\n",
       "    </tr>\n",
       "  </tbody>\n",
       "</table>\n",
       "<p>703 rows × 3 columns</p>\n",
       "</div>"
      ],
      "text/plain": [
       "                           name  communityId intermediateCommunityIds\n",
       "0                  CoatedTongue          373                    [373]\n",
       "1        ConditionofPersistence          373                    [373]\n",
       "2    DiagnosisofWesternMedicine          373                    [373]\n",
       "3               IncitingFactors          373                    [373]\n",
       "4                   PastHistory          373                    [373]\n",
       "..                          ...          ...                      ...\n",
       "698                        风热侵袭          337                    [337]\n",
       "699                          饮酒          373                    [373]\n",
       "700                        高脂血症          373                    [373]\n",
       "701                         高血压          373                    [373]\n",
       "702                         鸣笛声          373                    [373]\n",
       "\n",
       "[703 rows x 3 columns]"
      ]
     },
     "execution_count": 23,
     "metadata": {},
     "output_type": "execute_result"
    }
   ],
   "source": [
    "#无权重\n",
    "#tinnitusAllgraph01\n",
    "cypher_=\"CALL gds.beta.leiden.stream('dataAllgraph02',{includeIntermediateCommunities: true }) YIELD nodeId, communityId, intermediateCommunityIds RETURN gds.util.asNode(nodeId).name AS name, communityId, intermediateCommunityIds ORDER BY name ASC\"\n",
    "data_leiden=graph.run(cypher_).to_data_frame()\n",
    "data_leiden"
   ]
  },
  {
   "cell_type": "markdown",
   "id": "9cd736a2-ba52-4023-aeca-7fd27068ea93",
   "metadata": {},
   "source": [
    "### 保存leiden算法运行结果"
   ]
  },
  {
   "cell_type": "code",
   "execution_count": 24,
   "id": "92c20b17-0d53-4de1-8328-39549b0bf1ce",
   "metadata": {},
   "outputs": [],
   "source": [
    "#data_leiden02\n",
    "data_leiden.to_csv(\"./outData/dataAll_leiden.csv\")\n"
   ]
  },
  {
   "cell_type": "markdown",
   "id": "773ed8b5-a2a7-4946-9720-fa1078ab0a32",
   "metadata": {},
   "source": [
    "## 标签传播"
   ]
  },
  {
   "cell_type": "markdown",
   "id": "eba7b844-2077-492c-b0b3-9cd7781fc2bc",
   "metadata": {},
   "source": [
    "### 创建具有中医辨证属性的图投影"
   ]
  },
  {
   "cell_type": "code",
   "execution_count": 13,
   "id": "d4411762-4d35-456c-9626-18b483076214",
   "metadata": {},
   "outputs": [
    {
     "ename": "NameError",
     "evalue": "name 'node_typesStr' is not defined",
     "output_type": "error",
     "traceback": [
      "\u001b[1;31m---------------------------------------------------------------------------\u001b[0m",
      "\u001b[1;31mNameError\u001b[0m                                 Traceback (most recent call last)",
      "\u001b[1;32m<ipython-input-13-9e3c67e4279b>\u001b[0m in \u001b[0;36m<module>\u001b[1;34m\u001b[0m\n\u001b[1;32m----> 1\u001b[1;33m \u001b[0mcypher_\u001b[0m\u001b[1;33m=\u001b[0m\u001b[1;34m\"CALL gds.graph.project('labelPropagationWeightDirectedGraph01',\"\u001b[0m\u001b[1;33m+\u001b[0m\u001b[0mnode_typesStr\u001b[0m\u001b[1;33m+\u001b[0m\u001b[1;34m\",\"\u001b[0m\u001b[1;33m+\u001b[0m\u001b[0mrel_typeStr\u001b[0m\u001b[1;33m+\u001b[0m\u001b[1;34m\",{nodeProperties: '中医辨证'})\"\u001b[0m\u001b[1;33m\u001b[0m\u001b[1;33m\u001b[0m\u001b[0m\n\u001b[0m\u001b[0;32m      2\u001b[0m \u001b[1;33m\u001b[0m\u001b[0m\n\u001b[0;32m      3\u001b[0m \u001b[0mcypher_\u001b[0m\u001b[1;33m\u001b[0m\u001b[1;33m\u001b[0m\u001b[0m\n",
      "\u001b[1;31mNameError\u001b[0m: name 'node_typesStr' is not defined"
     ]
    }
   ],
   "source": [
    "cypher_=\"CALL gds.graph.project('labelPropagationWeightDirectedGraph01',\"+node_typesStr+\",\"+rel_typeStr+\",{nodeProperties: '中医辨证'})\"\n",
    "\n",
    "cypher_"
   ]
  },
  {
   "cell_type": "code",
   "execution_count": 7,
   "id": "da321b50-23ea-4baa-b37e-eb4a85f7a066",
   "metadata": {},
   "outputs": [
    {
     "data": {
      "text/plain": [
       "\"CALL gds.graph.project('labelPropagationWeightDirectedGraph','Patient','has_syndrome',{nodeProperties: '中医辨证'})\""
      ]
     },
     "execution_count": 7,
     "metadata": {},
     "output_type": "execute_result"
    }
   ],
   "source": [
    "#tinnitusAllgraph03\n",
    "cypher_=\"CALL gds.graph.project('labelPropagationWeightDirectedGraph','Patient','has_syndrome'\"+\",{nodeProperties: '中医辨证'})\"\n",
    "\n",
    "cypher_"
   ]
  },
  {
   "cell_type": "code",
   "execution_count": 9,
   "id": "7a168d18-0bec-4484-b97f-e4a7e180a1ba",
   "metadata": {},
   "outputs": [
    {
     "data": {
      "text/html": [
       "<table><tr><th>nodeProjection</th><th>relationshipProjection</th><th>graphName</th><th>nodeCount</th><th>relationshipCount</th><th>projectMillis</th></tr><tr><td style=\"text-align:left\">{Patient: {label: &#039;Patient&#039;, properties: {中医辨证: {defaultValue: null, property: &#039;\\u4e2d\\u533b\\u8fa8\\u8bc1&#039;}}}}</td><td style=\"text-align:left\">{has_syndrome: {orientation: &#039;NATURAL&#039;, indexInverse: false, aggregation: &#039;DEFAULT&#039;, type: &#039;has_syndrome&#039;, properties: {}}}</td><td style=\"text-align:left\">labelPropagationWeightDirectedGraph</td><td style=\"text-align:right\">595</td><td style=\"text-align:right\">0</td><td style=\"text-align:right\">15</td></tr></table>"
      ],
      "text/plain": [
       " nodeProjection                                                                                                | relationshipProjection                                                                                                      | graphName                           | nodeCount | relationshipCount | projectMillis \n",
       "---------------------------------------------------------------------------------------------------------------|-----------------------------------------------------------------------------------------------------------------------------|-------------------------------------|-----------|-------------------|---------------\n",
       " {Patient: {label: 'Patient', properties: {中医辨证: {defaultValue: null, property: '\\u4e2d\\u533b\\u8fa8\\u8bc1'}}}} | {has_syndrome: {orientation: 'NATURAL', indexInverse: false, aggregation: 'DEFAULT', type: 'has_syndrome', properties: {}}} | labelPropagationWeightDirectedGraph |       595 |                 0 |            15 "
      ]
     },
     "execution_count": 9,
     "metadata": {},
     "output_type": "execute_result"
    }
   ],
   "source": [
    "graph.run(cypher_)"
   ]
  },
  {
   "cell_type": "markdown",
   "id": "da2f7c93-aeeb-4509-86ec-9c02c012496e",
   "metadata": {},
   "source": [
    "### 运行标签传播算法"
   ]
  },
  {
   "cell_type": "code",
   "execution_count": 11,
   "id": "7264b0ce-1bb9-4e0e-a2f5-19a01a555988",
   "metadata": {},
   "outputs": [
    {
     "data": {
      "text/html": [
       "<div>\n",
       "<style scoped>\n",
       "    .dataframe tbody tr th:only-of-type {\n",
       "        vertical-align: middle;\n",
       "    }\n",
       "\n",
       "    .dataframe tbody tr th {\n",
       "        vertical-align: top;\n",
       "    }\n",
       "\n",
       "    .dataframe thead th {\n",
       "        text-align: right;\n",
       "    }\n",
       "</style>\n",
       "<table border=\"1\" class=\"dataframe\">\n",
       "  <thead>\n",
       "    <tr style=\"text-align: right;\">\n",
       "      <th></th>\n",
       "      <th>name</th>\n",
       "      <th>communityId</th>\n",
       "    </tr>\n",
       "  </thead>\n",
       "  <tbody>\n",
       "    <tr>\n",
       "      <th>0</th>\n",
       "      <td>患者398</td>\n",
       "      <td>0</td>\n",
       "    </tr>\n",
       "    <tr>\n",
       "      <th>1</th>\n",
       "      <td>患者399</td>\n",
       "      <td>0</td>\n",
       "    </tr>\n",
       "    <tr>\n",
       "      <th>2</th>\n",
       "      <td>患者400</td>\n",
       "      <td>0</td>\n",
       "    </tr>\n",
       "    <tr>\n",
       "      <th>3</th>\n",
       "      <td>患者401</td>\n",
       "      <td>0</td>\n",
       "    </tr>\n",
       "    <tr>\n",
       "      <th>4</th>\n",
       "      <td>患者402</td>\n",
       "      <td>0</td>\n",
       "    </tr>\n",
       "    <tr>\n",
       "      <th>...</th>\n",
       "      <td>...</td>\n",
       "      <td>...</td>\n",
       "    </tr>\n",
       "    <tr>\n",
       "      <th>590</th>\n",
       "      <td>患者226</td>\n",
       "      <td>4</td>\n",
       "    </tr>\n",
       "    <tr>\n",
       "      <th>591</th>\n",
       "      <td>患者227</td>\n",
       "      <td>4</td>\n",
       "    </tr>\n",
       "    <tr>\n",
       "      <th>592</th>\n",
       "      <td>患者228</td>\n",
       "      <td>4</td>\n",
       "    </tr>\n",
       "    <tr>\n",
       "      <th>593</th>\n",
       "      <td>患者229</td>\n",
       "      <td>4</td>\n",
       "    </tr>\n",
       "    <tr>\n",
       "      <th>594</th>\n",
       "      <td>患者230</td>\n",
       "      <td>4</td>\n",
       "    </tr>\n",
       "  </tbody>\n",
       "</table>\n",
       "<p>595 rows × 2 columns</p>\n",
       "</div>"
      ],
      "text/plain": [
       "      name  communityId\n",
       "0    患者398            0\n",
       "1    患者399            0\n",
       "2    患者400            0\n",
       "3    患者401            0\n",
       "4    患者402            0\n",
       "..     ...          ...\n",
       "590  患者226            4\n",
       "591  患者227            4\n",
       "592  患者228            4\n",
       "593  患者229            4\n",
       "594  患者230            4\n",
       "\n",
       "[595 rows x 2 columns]"
      ]
     },
     "execution_count": 11,
     "metadata": {},
     "output_type": "execute_result"
    }
   ],
   "source": [
    "'''\n",
    "relationshipWeightProperty: 'weight',\n",
    "'''\n",
    "cypher_=\"CALL gds.labelPropagation.stream('labelPropagationWeightDirectedGraph',{ seedProperty: '中医辨证' }) YIELD nodeId, communityId AS communityId RETURN gds.util.asNode(nodeId).name AS name, communityId ORDER BY communityId, name\"\n",
    "\n",
    "data_labelPropagation = graph.run(cypher_).to_data_frame()\n",
    "data_labelPropagation"
   ]
  },
  {
   "cell_type": "code",
   "execution_count": 12,
   "id": "98ebfe52-eb17-4187-bc85-466b7c53297b",
   "metadata": {},
   "outputs": [
    {
     "data": {
      "text/plain": [
       "(array([0, 1, 2, 3, 4], dtype=int64), 595)"
      ]
     },
     "execution_count": 12,
     "metadata": {},
     "output_type": "execute_result"
    }
   ],
   "source": [
    "data_labelPropagation[\"communityId\"].unique(),len(data_labelPropagation[\"communityId\"])"
   ]
  },
  {
   "cell_type": "markdown",
   "id": "e3e92b66-fb51-477e-87a7-d5d0ac02b93e",
   "metadata": {},
   "source": [
    "### 保存标签传播算法运行结果"
   ]
  },
  {
   "cell_type": "code",
   "execution_count": 54,
   "id": "588646af-bbe0-414e-8ee9-e44d20b8f0db",
   "metadata": {},
   "outputs": [],
   "source": [
    "data_labelPropagation.to_csv(\"./outData/data_labelPropagation.csv\")\n"
   ]
  },
  {
   "cell_type": "markdown",
   "id": "5fc2624f-2f93-451a-8750-2b012c5476a4",
   "metadata": {},
   "source": [
    "# 节点相似性"
   ]
  },
  {
   "cell_type": "code",
   "execution_count": null,
   "id": "198786ff-6d14-49c7-9fcf-598d5495a5a3",
   "metadata": {},
   "outputs": [],
   "source": [
    "#属性\n",
    "'''\n",
    "relationshipWeightProperty:'weight'，要用作权重的关系属性的名称。如果未指定，则该算法运行不加权。\n",
    "similarityCutoff:0.3,结果中出现的相似度分数的下限。值必须在0和1之间。\n",
    "topN:10，返回N个最大相似度得分\n",
    "nodeLabels:使用给定的节点标签筛选命名图。\n",
    "'''"
   ]
  },
  {
   "cell_type": "markdown",
   "id": "002e39ed-c1a7-4f76-a0d9-aa1911f5eaf1",
   "metadata": {},
   "source": [
    "### 有权重"
   ]
  },
  {
   "cell_type": "code",
   "execution_count": 1,
   "id": "4fd38b96-6b26-4c12-b469-7aee64f45978",
   "metadata": {},
   "outputs": [
    {
     "ename": "NameError",
     "evalue": "name 'graph' is not defined",
     "output_type": "error",
     "traceback": [
      "\u001b[1;31m---------------------------------------------------------------------------\u001b[0m",
      "\u001b[1;31mNameError\u001b[0m                                 Traceback (most recent call last)",
      "\u001b[1;32m<ipython-input-1-b8362998e16b>\u001b[0m in \u001b[0;36m<module>\u001b[1;34m\u001b[0m\n\u001b[0;32m      2\u001b[0m \u001b[0mcypher_\u001b[0m\u001b[1;33m=\u001b[0m\u001b[1;34m\"CALL gds.alpha.nodeSimilarity.filtered.stream('5foldAllweightDirectedGraph01',{sourceNodeFilter:'Patient',targetNodeFilter:'Patient'}) YIELD node1, node2, similarity RETURN gds.util.asNode(node1).name AS Person1, gds.util.asNode(node2).name AS Person2, similarity ORDER BY similarity DESCENDING, Person1, Person2\"\u001b[0m\u001b[1;33m\u001b[0m\u001b[1;33m\u001b[0m\u001b[0m\n\u001b[0;32m      3\u001b[0m \u001b[1;33m\u001b[0m\u001b[0m\n\u001b[1;32m----> 4\u001b[1;33m \u001b[0mdata_nodeSimilarity\u001b[0m \u001b[1;33m=\u001b[0m \u001b[0mgraph\u001b[0m\u001b[1;33m.\u001b[0m\u001b[0mrun\u001b[0m\u001b[1;33m(\u001b[0m\u001b[0mcypher_\u001b[0m\u001b[1;33m)\u001b[0m\u001b[1;33m.\u001b[0m\u001b[0mto_data_frame\u001b[0m\u001b[1;33m(\u001b[0m\u001b[1;33m)\u001b[0m\u001b[1;33m\u001b[0m\u001b[1;33m\u001b[0m\u001b[0m\n\u001b[0m\u001b[0;32m      5\u001b[0m \u001b[0mdata_nodeSimilarity\u001b[0m\u001b[1;33m\u001b[0m\u001b[1;33m\u001b[0m\u001b[0m\n",
      "\u001b[1;31mNameError\u001b[0m: name 'graph' is not defined"
     ]
    }
   ],
   "source": [
    "#权重 5foldAllDirectedGraph02\n",
    "cypher_=\"CALL gds.alpha.nodeSimilarity.filtered.stream('5foldAllweightDirectedGraph01',{sourceNodeFilter:'Patient',targetNodeFilter:'Patient'}) YIELD node1, node2, similarity RETURN gds.util.asNode(node1).name AS Person1, gds.util.asNode(node2).name AS Person2, similarity ORDER BY similarity DESCENDING, Person1, Person2\"\n",
    "\n",
    "data_nodeSimilarity = graph.run(cypher_).to_data_frame()\n",
    "data_nodeSimilarity"
   ]
  },
  {
   "cell_type": "code",
   "execution_count": 18,
   "id": "caef7934-f169-4468-83de-4214b738b389",
   "metadata": {},
   "outputs": [
    {
     "data": {
      "text/html": [
       "<div>\n",
       "<style scoped>\n",
       "    .dataframe tbody tr th:only-of-type {\n",
       "        vertical-align: middle;\n",
       "    }\n",
       "\n",
       "    .dataframe tbody tr th {\n",
       "        vertical-align: top;\n",
       "    }\n",
       "\n",
       "    .dataframe thead th {\n",
       "        text-align: right;\n",
       "    }\n",
       "</style>\n",
       "<table border=\"1\" class=\"dataframe\">\n",
       "  <thead>\n",
       "    <tr style=\"text-align: right;\">\n",
       "      <th></th>\n",
       "      <th>Person1</th>\n",
       "      <th>Person2</th>\n",
       "      <th>similarity</th>\n",
       "    </tr>\n",
       "  </thead>\n",
       "  <tbody>\n",
       "    <tr>\n",
       "      <th>0</th>\n",
       "      <td>多梦</td>\n",
       "      <td>眠浅易醒</td>\n",
       "      <td>0.586801</td>\n",
       "    </tr>\n",
       "    <tr>\n",
       "      <th>1</th>\n",
       "      <td>眠浅易醒</td>\n",
       "      <td>多梦</td>\n",
       "      <td>0.586801</td>\n",
       "    </tr>\n",
       "    <tr>\n",
       "      <th>2</th>\n",
       "      <td>呕吐</td>\n",
       "      <td>恶心</td>\n",
       "      <td>0.551969</td>\n",
       "    </tr>\n",
       "    <tr>\n",
       "      <th>3</th>\n",
       "      <td>恶心</td>\n",
       "      <td>呕吐</td>\n",
       "      <td>0.551969</td>\n",
       "    </tr>\n",
       "    <tr>\n",
       "      <th>4</th>\n",
       "      <td>入睡困难</td>\n",
       "      <td>眠浅易醒</td>\n",
       "      <td>0.538912</td>\n",
       "    </tr>\n",
       "    <tr>\n",
       "      <th>...</th>\n",
       "      <td>...</td>\n",
       "      <td>...</td>\n",
       "      <td>...</td>\n",
       "    </tr>\n",
       "    <tr>\n",
       "      <th>785</th>\n",
       "      <td>外伤</td>\n",
       "      <td>多梦</td>\n",
       "      <td>0.000233</td>\n",
       "    </tr>\n",
       "    <tr>\n",
       "      <th>786</th>\n",
       "      <td>耳外伤</td>\n",
       "      <td>蝉鸣声</td>\n",
       "      <td>0.000200</td>\n",
       "    </tr>\n",
       "    <tr>\n",
       "      <th>787</th>\n",
       "      <td>耳外伤</td>\n",
       "      <td>苔黄</td>\n",
       "      <td>0.000190</td>\n",
       "    </tr>\n",
       "    <tr>\n",
       "      <th>788</th>\n",
       "      <td>耳外伤</td>\n",
       "      <td>苔薄</td>\n",
       "      <td>0.000149</td>\n",
       "    </tr>\n",
       "    <tr>\n",
       "      <th>789</th>\n",
       "      <td>耳外伤</td>\n",
       "      <td>数脉</td>\n",
       "      <td>0.000133</td>\n",
       "    </tr>\n",
       "  </tbody>\n",
       "</table>\n",
       "<p>790 rows × 3 columns</p>\n",
       "</div>"
      ],
      "text/plain": [
       "    Person1 Person2  similarity\n",
       "0        多梦    眠浅易醒    0.586801\n",
       "1      眠浅易醒      多梦    0.586801\n",
       "2        呕吐      恶心    0.551969\n",
       "3        恶心      呕吐    0.551969\n",
       "4      入睡困难    眠浅易醒    0.538912\n",
       "..      ...     ...         ...\n",
       "785      外伤      多梦    0.000233\n",
       "786     耳外伤     蝉鸣声    0.000200\n",
       "787     耳外伤      苔黄    0.000190\n",
       "788     耳外伤      苔薄    0.000149\n",
       "789     耳外伤      数脉    0.000133\n",
       "\n",
       "[790 rows x 3 columns]"
      ]
     },
     "execution_count": 18,
     "metadata": {},
     "output_type": "execute_result"
    }
   ],
   "source": [
    "#权重 5foldAllDirectedGraph02\n",
    "cypher_=\"CALL gds.nodeSimilarity.stream('5foldAllweightDirectedGraph01',{relationshipWeightProperty:'weight'}) YIELD node1, node2, similarity RETURN gds.util.asNode(node1).name AS Person1, gds.util.asNode(node2).name AS Person2, similarity ORDER BY similarity DESCENDING, Person1, Person2\"\n",
    "\n",
    "data_nodeSimilarity = graph.run(cypher_).to_data_frame()\n",
    "data_nodeSimilarity"
   ]
  },
  {
   "cell_type": "markdown",
   "id": "dcb3d0c1-1f71-462c-a002-650de1c97e5a",
   "metadata": {},
   "source": [
    "### 无权重"
   ]
  },
  {
   "cell_type": "code",
   "execution_count": 17,
   "id": "fcbc9e36-a733-447c-81b5-b196795993fa",
   "metadata": {},
   "outputs": [
    {
     "data": {
      "text/html": [
       "<div>\n",
       "<style scoped>\n",
       "    .dataframe tbody tr th:only-of-type {\n",
       "        vertical-align: middle;\n",
       "    }\n",
       "\n",
       "    .dataframe tbody tr th {\n",
       "        vertical-align: top;\n",
       "    }\n",
       "\n",
       "    .dataframe thead th {\n",
       "        text-align: right;\n",
       "    }\n",
       "</style>\n",
       "<table border=\"1\" class=\"dataframe\">\n",
       "  <thead>\n",
       "    <tr style=\"text-align: right;\">\n",
       "      <th></th>\n",
       "      <th>Person1</th>\n",
       "      <th>Person2</th>\n",
       "      <th>similarity</th>\n",
       "    </tr>\n",
       "  </thead>\n",
       "  <tbody>\n",
       "    <tr>\n",
       "      <th>0</th>\n",
       "      <td>患者400</td>\n",
       "      <td>患者410</td>\n",
       "      <td>0.987261</td>\n",
       "    </tr>\n",
       "    <tr>\n",
       "      <th>1</th>\n",
       "      <td>患者400</td>\n",
       "      <td>患者428</td>\n",
       "      <td>0.987261</td>\n",
       "    </tr>\n",
       "    <tr>\n",
       "      <th>2</th>\n",
       "      <td>患者400</td>\n",
       "      <td>患者439</td>\n",
       "      <td>0.987261</td>\n",
       "    </tr>\n",
       "    <tr>\n",
       "      <th>3</th>\n",
       "      <td>患者400</td>\n",
       "      <td>患者521</td>\n",
       "      <td>0.987261</td>\n",
       "    </tr>\n",
       "    <tr>\n",
       "      <th>4</th>\n",
       "      <td>患者401</td>\n",
       "      <td>患者437</td>\n",
       "      <td>0.987261</td>\n",
       "    </tr>\n",
       "    <tr>\n",
       "      <th>...</th>\n",
       "      <td>...</td>\n",
       "      <td>...</td>\n",
       "      <td>...</td>\n",
       "    </tr>\n",
       "    <tr>\n",
       "      <th>10115</th>\n",
       "      <td>872</td>\n",
       "      <td>患者400</td>\n",
       "      <td>0.006410</td>\n",
       "    </tr>\n",
       "    <tr>\n",
       "      <th>10116</th>\n",
       "      <td>872</td>\n",
       "      <td>患者401</td>\n",
       "      <td>0.006410</td>\n",
       "    </tr>\n",
       "    <tr>\n",
       "      <th>10117</th>\n",
       "      <td>872</td>\n",
       "      <td>患者403</td>\n",
       "      <td>0.006410</td>\n",
       "    </tr>\n",
       "    <tr>\n",
       "      <th>10118</th>\n",
       "      <td>872</td>\n",
       "      <td>患者404</td>\n",
       "      <td>0.006410</td>\n",
       "    </tr>\n",
       "    <tr>\n",
       "      <th>10119</th>\n",
       "      <td>872</td>\n",
       "      <td>患者405</td>\n",
       "      <td>0.006410</td>\n",
       "    </tr>\n",
       "  </tbody>\n",
       "</table>\n",
       "<p>10120 rows × 3 columns</p>\n",
       "</div>"
      ],
      "text/plain": [
       "      Person1 Person2  similarity\n",
       "0       患者400   患者410    0.987261\n",
       "1       患者400   患者428    0.987261\n",
       "2       患者400   患者439    0.987261\n",
       "3       患者400   患者521    0.987261\n",
       "4       患者401   患者437    0.987261\n",
       "...       ...     ...         ...\n",
       "10115     872   患者400    0.006410\n",
       "10116     872   患者401    0.006410\n",
       "10117     872   患者403    0.006410\n",
       "10118     872   患者404    0.006410\n",
       "10119     872   患者405    0.006410\n",
       "\n",
       "[10120 rows x 3 columns]"
      ]
     },
     "execution_count": 17,
     "metadata": {},
     "output_type": "execute_result"
    }
   ],
   "source": [
    "#无权重dataAllgraph02、5foldAllnoweightDirectedGraph05\n",
    "cypher_=\"CALL gds.nodeSimilarity.stream('5foldAllweightDirectedGraph01') YIELD node1, node2, similarity RETURN gds.util.asNode(node1).name AS Person1, gds.util.asNode(node2).name AS Person2, similarity ORDER BY similarity DESCENDING, Person1, Person2\"\n",
    "\n",
    "data_nodeSimilarity = graph.run(cypher_).to_data_frame()\n",
    "data_nodeSimilarity"
   ]
  },
  {
   "cell_type": "code",
   "execution_count": 138,
   "id": "a42bd6dd-6866-42f7-b45c-640ceff0e6b5",
   "metadata": {},
   "outputs": [
    {
     "data": {
      "text/html": [
       "<div>\n",
       "<style scoped>\n",
       "    .dataframe tbody tr th:only-of-type {\n",
       "        vertical-align: middle;\n",
       "    }\n",
       "\n",
       "    .dataframe tbody tr th {\n",
       "        vertical-align: top;\n",
       "    }\n",
       "\n",
       "    .dataframe thead th {\n",
       "        text-align: right;\n",
       "    }\n",
       "</style>\n",
       "<table border=\"1\" class=\"dataframe\">\n",
       "  <thead>\n",
       "    <tr style=\"text-align: right;\">\n",
       "      <th></th>\n",
       "      <th>Person1</th>\n",
       "      <th>Person2</th>\n",
       "      <th>similarity</th>\n",
       "    </tr>\n",
       "  </thead>\n",
       "  <tbody>\n",
       "    <tr>\n",
       "      <th>0</th>\n",
       "      <td>患者1</td>\n",
       "      <td>患者102</td>\n",
       "      <td>1.000000</td>\n",
       "    </tr>\n",
       "    <tr>\n",
       "      <th>1</th>\n",
       "      <td>患者1</td>\n",
       "      <td>患者58</td>\n",
       "      <td>1.000000</td>\n",
       "    </tr>\n",
       "    <tr>\n",
       "      <th>2</th>\n",
       "      <td>患者100</td>\n",
       "      <td>患者14</td>\n",
       "      <td>1.000000</td>\n",
       "    </tr>\n",
       "    <tr>\n",
       "      <th>3</th>\n",
       "      <td>患者100</td>\n",
       "      <td>患者62</td>\n",
       "      <td>1.000000</td>\n",
       "    </tr>\n",
       "    <tr>\n",
       "      <th>4</th>\n",
       "      <td>患者100</td>\n",
       "      <td>患者63</td>\n",
       "      <td>1.000000</td>\n",
       "    </tr>\n",
       "    <tr>\n",
       "      <th>...</th>\n",
       "      <td>...</td>\n",
       "      <td>...</td>\n",
       "      <td>...</td>\n",
       "    </tr>\n",
       "    <tr>\n",
       "      <th>5355</th>\n",
       "      <td>耳外伤</td>\n",
       "      <td>数脉</td>\n",
       "      <td>0.006061</td>\n",
       "    </tr>\n",
       "    <tr>\n",
       "      <th>5356</th>\n",
       "      <td>耳外伤</td>\n",
       "      <td>眠浅易醒</td>\n",
       "      <td>0.005348</td>\n",
       "    </tr>\n",
       "    <tr>\n",
       "      <th>5357</th>\n",
       "      <td>耳外伤</td>\n",
       "      <td>苔薄</td>\n",
       "      <td>0.004525</td>\n",
       "    </tr>\n",
       "    <tr>\n",
       "      <th>5358</th>\n",
       "      <td>耳外伤</td>\n",
       "      <td>蝉鸣声</td>\n",
       "      <td>0.004255</td>\n",
       "    </tr>\n",
       "    <tr>\n",
       "      <th>5359</th>\n",
       "      <td>耳外伤</td>\n",
       "      <td>男</td>\n",
       "      <td>0.003968</td>\n",
       "    </tr>\n",
       "  </tbody>\n",
       "</table>\n",
       "<p>5360 rows × 3 columns</p>\n",
       "</div>"
      ],
      "text/plain": [
       "     Person1 Person2  similarity\n",
       "0        患者1   患者102    1.000000\n",
       "1        患者1    患者58    1.000000\n",
       "2      患者100    患者14    1.000000\n",
       "3      患者100    患者62    1.000000\n",
       "4      患者100    患者63    1.000000\n",
       "...      ...     ...         ...\n",
       "5355     耳外伤      数脉    0.006061\n",
       "5356     耳外伤    眠浅易醒    0.005348\n",
       "5357     耳外伤      苔薄    0.004525\n",
       "5358     耳外伤     蝉鸣声    0.004255\n",
       "5359     耳外伤       男    0.003968\n",
       "\n",
       "[5360 rows x 3 columns]"
      ]
     },
     "execution_count": 138,
     "metadata": {},
     "output_type": "execute_result"
    }
   ],
   "source": [
    "#5折无权重 5foldAllDirectedGraph01、5foldAllDirectedGraph02、5foldAllnoweightDirectedGraph04\n",
    "cypher_=\"CALL gds.nodeSimilarity.stream('5foldAllnoweightNumberSyndromeDirectedGraph04') YIELD node1, node2, similarity RETURN gds.util.asNode(node1).name AS Person1, gds.util.asNode(node2).name AS Person2, similarity ORDER BY similarity DESCENDING, Person1, Person2\"\n",
    "\n",
    "data_nodeSimilarity = graph.run(cypher_).to_data_frame()\n",
    "data_nodeSimilarity"
   ]
  },
  {
   "cell_type": "markdown",
   "id": "17e66a3f-e267-41f0-82ac-71d9c8b21315",
   "metadata": {},
   "source": [
    "## 保存节点相似性运行结果"
   ]
  },
  {
   "cell_type": "code",
   "execution_count": 366,
   "id": "b3b03497-792b-4478-87a6-6b1bcbaf1939",
   "metadata": {},
   "outputs": [],
   "source": [
    "data_nodeSimilarity.to_csv(\"./outData/5折_5dataAll_nodeSimilarity.csv\")\n"
   ]
  },
  {
   "cell_type": "code",
   "execution_count": 40,
   "id": "9bc2046c-b75c-4d9a-83f2-31a985de2a86",
   "metadata": {},
   "outputs": [],
   "source": [
    "data_nodeSimilarity.to_csv(\"./outData/dataAll_nodeSimilarity权重.csv\")\n"
   ]
  },
  {
   "cell_type": "markdown",
   "id": "480a74ff-f982-4299-aad7-4935b6d92244",
   "metadata": {},
   "source": [
    "# 共同邻居算法"
   ]
  },
  {
   "cell_type": "code",
   "execution_count": 60,
   "id": "72a5a80a-72a5-4968-92cd-0e068124aea7",
   "metadata": {},
   "outputs": [
    {
     "data": {
      "application/javascript": [
       "\n",
       "        if (window._pyforest_update_imports_cell) { window._pyforest_update_imports_cell('import pandas as pd'); }\n",
       "    "
      ],
      "text/plain": [
       "<IPython.core.display.Javascript object>"
      ]
     },
     "metadata": {},
     "output_type": "display_data"
    },
    {
     "data": {
      "text/html": [
       "<div>\n",
       "<style scoped>\n",
       "    .dataframe tbody tr th:only-of-type {\n",
       "        vertical-align: middle;\n",
       "    }\n",
       "\n",
       "    .dataframe tbody tr th {\n",
       "        vertical-align: top;\n",
       "    }\n",
       "\n",
       "    .dataframe thead th {\n",
       "        text-align: right;\n",
       "    }\n",
       "</style>\n",
       "<table border=\"1\" class=\"dataframe\">\n",
       "  <thead>\n",
       "    <tr style=\"text-align: right;\">\n",
       "      <th></th>\n",
       "      <th>患者</th>\n",
       "      <th>性别</th>\n",
       "      <th>发病节气</th>\n",
       "      <th>劳累</th>\n",
       "      <th>噪音</th>\n",
       "      <th>耳机使用</th>\n",
       "      <th>锻炼</th>\n",
       "      <th>压力</th>\n",
       "      <th>感染</th>\n",
       "      <th>抽烟</th>\n",
       "      <th>...</th>\n",
       "      <th>INR</th>\n",
       "      <th>APTT</th>\n",
       "      <th>FIB</th>\n",
       "      <th>D-二聚体</th>\n",
       "      <th>TT</th>\n",
       "      <th>年龄</th>\n",
       "      <th>病程（月）</th>\n",
       "      <th>TEQ</th>\n",
       "      <th>THI</th>\n",
       "      <th>VAS</th>\n",
       "    </tr>\n",
       "  </thead>\n",
       "  <tbody>\n",
       "    <tr>\n",
       "      <th>0</th>\n",
       "      <td>患者0</td>\n",
       "      <td>女</td>\n",
       "      <td>大寒</td>\n",
       "      <td>0</td>\n",
       "      <td>0</td>\n",
       "      <td>0</td>\n",
       "      <td>0</td>\n",
       "      <td>0</td>\n",
       "      <td>0</td>\n",
       "      <td>0</td>\n",
       "      <td>...</td>\n",
       "      <td>0.97</td>\n",
       "      <td>35.3</td>\n",
       "      <td>2.39</td>\n",
       "      <td>0.19</td>\n",
       "      <td>18.3</td>\n",
       "      <td>45.0</td>\n",
       "      <td>7.0</td>\n",
       "      <td>10</td>\n",
       "      <td>18</td>\n",
       "      <td>6.0</td>\n",
       "    </tr>\n",
       "    <tr>\n",
       "      <th>1</th>\n",
       "      <td>患者1</td>\n",
       "      <td>男</td>\n",
       "      <td>大寒</td>\n",
       "      <td>0</td>\n",
       "      <td>0</td>\n",
       "      <td>0</td>\n",
       "      <td>0</td>\n",
       "      <td>0</td>\n",
       "      <td>0</td>\n",
       "      <td>0</td>\n",
       "      <td>...</td>\n",
       "      <td>1.03</td>\n",
       "      <td>34.7</td>\n",
       "      <td>2.85</td>\n",
       "      <td>0.36</td>\n",
       "      <td>18.6</td>\n",
       "      <td>75.0</td>\n",
       "      <td>36.0</td>\n",
       "      <td>8</td>\n",
       "      <td>22</td>\n",
       "      <td>3.0</td>\n",
       "    </tr>\n",
       "    <tr>\n",
       "      <th>2</th>\n",
       "      <td>患者2</td>\n",
       "      <td>男</td>\n",
       "      <td>立春</td>\n",
       "      <td>0</td>\n",
       "      <td>0</td>\n",
       "      <td>0</td>\n",
       "      <td>0</td>\n",
       "      <td>0</td>\n",
       "      <td>0</td>\n",
       "      <td>0</td>\n",
       "      <td>...</td>\n",
       "      <td>1.13</td>\n",
       "      <td>38.8</td>\n",
       "      <td>2.79</td>\n",
       "      <td>0.34</td>\n",
       "      <td>19.5</td>\n",
       "      <td>74.0</td>\n",
       "      <td>1.0</td>\n",
       "      <td>12</td>\n",
       "      <td>42</td>\n",
       "      <td>8.0</td>\n",
       "    </tr>\n",
       "    <tr>\n",
       "      <th>3</th>\n",
       "      <td>患者3</td>\n",
       "      <td>女</td>\n",
       "      <td>立春</td>\n",
       "      <td>0</td>\n",
       "      <td>0</td>\n",
       "      <td>0</td>\n",
       "      <td>0</td>\n",
       "      <td>0</td>\n",
       "      <td>感染</td>\n",
       "      <td>0</td>\n",
       "      <td>...</td>\n",
       "      <td>1.16</td>\n",
       "      <td>23.6</td>\n",
       "      <td>5.66</td>\n",
       "      <td>0.71</td>\n",
       "      <td>14.7</td>\n",
       "      <td>72.0</td>\n",
       "      <td>0.3</td>\n",
       "      <td>8</td>\n",
       "      <td>24</td>\n",
       "      <td>6.0</td>\n",
       "    </tr>\n",
       "    <tr>\n",
       "      <th>4</th>\n",
       "      <td>患者4</td>\n",
       "      <td>女</td>\n",
       "      <td>大寒</td>\n",
       "      <td>劳累</td>\n",
       "      <td>0</td>\n",
       "      <td>0</td>\n",
       "      <td>0</td>\n",
       "      <td>0</td>\n",
       "      <td>0</td>\n",
       "      <td>0</td>\n",
       "      <td>...</td>\n",
       "      <td>0.95</td>\n",
       "      <td>25.1</td>\n",
       "      <td>3.17</td>\n",
       "      <td>0.32</td>\n",
       "      <td>15.6</td>\n",
       "      <td>50.0</td>\n",
       "      <td>1.0</td>\n",
       "      <td>18</td>\n",
       "      <td>78</td>\n",
       "      <td>9.0</td>\n",
       "    </tr>\n",
       "    <tr>\n",
       "      <th>...</th>\n",
       "      <td>...</td>\n",
       "      <td>...</td>\n",
       "      <td>...</td>\n",
       "      <td>...</td>\n",
       "      <td>...</td>\n",
       "      <td>...</td>\n",
       "      <td>...</td>\n",
       "      <td>...</td>\n",
       "      <td>...</td>\n",
       "      <td>...</td>\n",
       "      <td>...</td>\n",
       "      <td>...</td>\n",
       "      <td>...</td>\n",
       "      <td>...</td>\n",
       "      <td>...</td>\n",
       "      <td>...</td>\n",
       "      <td>...</td>\n",
       "      <td>...</td>\n",
       "      <td>...</td>\n",
       "      <td>...</td>\n",
       "      <td>...</td>\n",
       "    </tr>\n",
       "    <tr>\n",
       "      <th>1007</th>\n",
       "      <td>患者1260</td>\n",
       "      <td>女</td>\n",
       "      <td>0</td>\n",
       "      <td>0</td>\n",
       "      <td>0</td>\n",
       "      <td>耳机使用</td>\n",
       "      <td>0</td>\n",
       "      <td>压力</td>\n",
       "      <td>0</td>\n",
       "      <td>0</td>\n",
       "      <td>...</td>\n",
       "      <td>NaN</td>\n",
       "      <td>NaN</td>\n",
       "      <td>NaN</td>\n",
       "      <td>NaN</td>\n",
       "      <td>NaN</td>\n",
       "      <td>36.0</td>\n",
       "      <td>5.0</td>\n",
       "      <td>19</td>\n",
       "      <td>60</td>\n",
       "      <td>8.0</td>\n",
       "    </tr>\n",
       "    <tr>\n",
       "      <th>1008</th>\n",
       "      <td>患者1261</td>\n",
       "      <td>女</td>\n",
       "      <td>0</td>\n",
       "      <td>0</td>\n",
       "      <td>0</td>\n",
       "      <td>耳机使用</td>\n",
       "      <td>锻炼</td>\n",
       "      <td>压力</td>\n",
       "      <td>0</td>\n",
       "      <td>0</td>\n",
       "      <td>...</td>\n",
       "      <td>NaN</td>\n",
       "      <td>NaN</td>\n",
       "      <td>NaN</td>\n",
       "      <td>NaN</td>\n",
       "      <td>NaN</td>\n",
       "      <td>52.0</td>\n",
       "      <td>1.0</td>\n",
       "      <td>14</td>\n",
       "      <td>26</td>\n",
       "      <td>7.0</td>\n",
       "    </tr>\n",
       "    <tr>\n",
       "      <th>1009</th>\n",
       "      <td>患者1262</td>\n",
       "      <td>女</td>\n",
       "      <td>0</td>\n",
       "      <td>0</td>\n",
       "      <td>0</td>\n",
       "      <td>0</td>\n",
       "      <td>0</td>\n",
       "      <td>压力</td>\n",
       "      <td>0</td>\n",
       "      <td>0</td>\n",
       "      <td>...</td>\n",
       "      <td>NaN</td>\n",
       "      <td>NaN</td>\n",
       "      <td>NaN</td>\n",
       "      <td>NaN</td>\n",
       "      <td>NaN</td>\n",
       "      <td>29.0</td>\n",
       "      <td>6.0</td>\n",
       "      <td>17</td>\n",
       "      <td>44</td>\n",
       "      <td>9.0</td>\n",
       "    </tr>\n",
       "    <tr>\n",
       "      <th>1010</th>\n",
       "      <td>患者1263</td>\n",
       "      <td>女</td>\n",
       "      <td>0</td>\n",
       "      <td>0</td>\n",
       "      <td>0</td>\n",
       "      <td>0</td>\n",
       "      <td>0</td>\n",
       "      <td>压力</td>\n",
       "      <td>0</td>\n",
       "      <td>0</td>\n",
       "      <td>...</td>\n",
       "      <td>NaN</td>\n",
       "      <td>NaN</td>\n",
       "      <td>NaN</td>\n",
       "      <td>NaN</td>\n",
       "      <td>NaN</td>\n",
       "      <td>33.0</td>\n",
       "      <td>108.0</td>\n",
       "      <td>16</td>\n",
       "      <td>46</td>\n",
       "      <td>9.0</td>\n",
       "    </tr>\n",
       "    <tr>\n",
       "      <th>1011</th>\n",
       "      <td>患者1264</td>\n",
       "      <td>男</td>\n",
       "      <td>0</td>\n",
       "      <td>0</td>\n",
       "      <td>0</td>\n",
       "      <td>0</td>\n",
       "      <td>锻炼</td>\n",
       "      <td>0</td>\n",
       "      <td>0</td>\n",
       "      <td>抽烟</td>\n",
       "      <td>...</td>\n",
       "      <td>NaN</td>\n",
       "      <td>NaN</td>\n",
       "      <td>NaN</td>\n",
       "      <td>NaN</td>\n",
       "      <td>NaN</td>\n",
       "      <td>64.0</td>\n",
       "      <td>84.0</td>\n",
       "      <td>13</td>\n",
       "      <td>44</td>\n",
       "      <td>7.0</td>\n",
       "    </tr>\n",
       "  </tbody>\n",
       "</table>\n",
       "<p>1012 rows × 109 columns</p>\n",
       "</div>"
      ],
      "text/plain": [
       "          患者 性别 发病节气  劳累 噪音  耳机使用  锻炼  压力  感染  抽烟  ...   INR  APTT   FIB  \\\n",
       "0        患者0  女   大寒   0  0     0   0   0   0   0  ...  0.97  35.3  2.39   \n",
       "1        患者1  男   大寒   0  0     0   0   0   0   0  ...  1.03  34.7  2.85   \n",
       "2        患者2  男   立春   0  0     0   0   0   0   0  ...  1.13  38.8  2.79   \n",
       "3        患者3  女   立春   0  0     0   0   0  感染   0  ...  1.16  23.6  5.66   \n",
       "4        患者4  女   大寒  劳累  0     0   0   0   0   0  ...  0.95  25.1  3.17   \n",
       "...      ... ..  ...  .. ..   ...  ..  ..  ..  ..  ...   ...   ...   ...   \n",
       "1007  患者1260  女    0   0  0  耳机使用   0  压力   0   0  ...   NaN   NaN   NaN   \n",
       "1008  患者1261  女    0   0  0  耳机使用  锻炼  压力   0   0  ...   NaN   NaN   NaN   \n",
       "1009  患者1262  女    0   0  0     0   0  压力   0   0  ...   NaN   NaN   NaN   \n",
       "1010  患者1263  女    0   0  0     0   0  压力   0   0  ...   NaN   NaN   NaN   \n",
       "1011  患者1264  男    0   0  0     0  锻炼   0   0  抽烟  ...   NaN   NaN   NaN   \n",
       "\n",
       "     D-二聚体    TT    年龄  病程（月） TEQ THI  VAS  \n",
       "0     0.19  18.3  45.0    7.0  10  18  6.0  \n",
       "1     0.36  18.6  75.0   36.0   8  22  3.0  \n",
       "2     0.34  19.5  74.0    1.0  12  42  8.0  \n",
       "3     0.71  14.7  72.0    0.3   8  24  6.0  \n",
       "4     0.32  15.6  50.0    1.0  18  78  9.0  \n",
       "...    ...   ...   ...    ...  ..  ..  ...  \n",
       "1007   NaN   NaN  36.0    5.0  19  60  8.0  \n",
       "1008   NaN   NaN  52.0    1.0  14  26  7.0  \n",
       "1009   NaN   NaN  29.0    6.0  17  44  9.0  \n",
       "1010   NaN   NaN  33.0  108.0  16  46  9.0  \n",
       "1011   NaN   NaN  64.0   84.0  13  44  7.0  \n",
       "\n",
       "[1012 rows x 109 columns]"
      ]
     },
     "execution_count": 60,
     "metadata": {},
     "output_type": "execute_result"
    }
   ],
   "source": [
    "#读取训练集数据\n",
    "\n",
    "trainData = pd.read_csv(r\"D:\\学习资料\\项目资料\\耳鸣中医知识图谱\\neo4j\\原始数据\\新数据\\五折训练集5.csv\")\n",
    "# trainData = pd.read_csv(r\"./data/五折训练集4.csv\",encoding=\"gbk\")\n",
    "trainData=trainData.drop(\"Unnamed: 0\",axis=1)\n",
    "trainData\n"
   ]
  },
  {
   "cell_type": "code",
   "execution_count": 61,
   "id": "8d018634-d5ce-4a77-8ac1-5333b6b2661a",
   "metadata": {},
   "outputs": [
    {
     "data": {
      "application/javascript": [
       "\n",
       "        if (window._pyforest_update_imports_cell) { window._pyforest_update_imports_cell('import pandas as pd'); }\n",
       "    "
      ],
      "text/plain": [
       "<IPython.core.display.Javascript object>"
      ]
     },
     "metadata": {},
     "output_type": "display_data"
    },
    {
     "data": {
      "text/html": [
       "<div>\n",
       "<style scoped>\n",
       "    .dataframe tbody tr th:only-of-type {\n",
       "        vertical-align: middle;\n",
       "    }\n",
       "\n",
       "    .dataframe tbody tr th {\n",
       "        vertical-align: top;\n",
       "    }\n",
       "\n",
       "    .dataframe thead th {\n",
       "        text-align: right;\n",
       "    }\n",
       "</style>\n",
       "<table border=\"1\" class=\"dataframe\">\n",
       "  <thead>\n",
       "    <tr style=\"text-align: right;\">\n",
       "      <th></th>\n",
       "      <th>患者</th>\n",
       "      <th>性别</th>\n",
       "      <th>发病节气</th>\n",
       "      <th>劳累</th>\n",
       "      <th>噪音</th>\n",
       "      <th>耳机使用</th>\n",
       "      <th>锻炼</th>\n",
       "      <th>压力</th>\n",
       "      <th>感染</th>\n",
       "      <th>抽烟</th>\n",
       "      <th>...</th>\n",
       "      <th>INR</th>\n",
       "      <th>APTT</th>\n",
       "      <th>FIB</th>\n",
       "      <th>D-二聚体</th>\n",
       "      <th>TT</th>\n",
       "      <th>年龄</th>\n",
       "      <th>病程（月）</th>\n",
       "      <th>TEQ</th>\n",
       "      <th>THI</th>\n",
       "      <th>VAS</th>\n",
       "    </tr>\n",
       "  </thead>\n",
       "  <tbody>\n",
       "    <tr>\n",
       "      <th>0</th>\n",
       "      <td>患者7</td>\n",
       "      <td>男</td>\n",
       "      <td>雨水</td>\n",
       "      <td>0</td>\n",
       "      <td>0</td>\n",
       "      <td>0</td>\n",
       "      <td>0</td>\n",
       "      <td>0</td>\n",
       "      <td>0</td>\n",
       "      <td>0</td>\n",
       "      <td>...</td>\n",
       "      <td>1.06</td>\n",
       "      <td>32.4</td>\n",
       "      <td>2.35</td>\n",
       "      <td>0.16</td>\n",
       "      <td>19.0</td>\n",
       "      <td>30.0</td>\n",
       "      <td>1.0</td>\n",
       "      <td>6</td>\n",
       "      <td>14</td>\n",
       "      <td>6.0</td>\n",
       "    </tr>\n",
       "    <tr>\n",
       "      <th>1</th>\n",
       "      <td>患者9</td>\n",
       "      <td>女</td>\n",
       "      <td>立春</td>\n",
       "      <td>0</td>\n",
       "      <td>0</td>\n",
       "      <td>0</td>\n",
       "      <td>0</td>\n",
       "      <td>0</td>\n",
       "      <td>0</td>\n",
       "      <td>0</td>\n",
       "      <td>...</td>\n",
       "      <td>NaN</td>\n",
       "      <td>NaN</td>\n",
       "      <td>NaN</td>\n",
       "      <td>NaN</td>\n",
       "      <td>NaN</td>\n",
       "      <td>66.0</td>\n",
       "      <td>1.0</td>\n",
       "      <td>18</td>\n",
       "      <td>68</td>\n",
       "      <td>9.0</td>\n",
       "    </tr>\n",
       "    <tr>\n",
       "      <th>2</th>\n",
       "      <td>患者11</td>\n",
       "      <td>男</td>\n",
       "      <td>惊蛰</td>\n",
       "      <td>0</td>\n",
       "      <td>0</td>\n",
       "      <td>0</td>\n",
       "      <td>0</td>\n",
       "      <td>0</td>\n",
       "      <td>0</td>\n",
       "      <td>0</td>\n",
       "      <td>...</td>\n",
       "      <td>NaN</td>\n",
       "      <td>NaN</td>\n",
       "      <td>3.30</td>\n",
       "      <td>0.01</td>\n",
       "      <td>18.0</td>\n",
       "      <td>36.0</td>\n",
       "      <td>1.0</td>\n",
       "      <td>12</td>\n",
       "      <td>78</td>\n",
       "      <td>8.0</td>\n",
       "    </tr>\n",
       "    <tr>\n",
       "      <th>3</th>\n",
       "      <td>患者16</td>\n",
       "      <td>男</td>\n",
       "      <td>春分</td>\n",
       "      <td>0</td>\n",
       "      <td>0</td>\n",
       "      <td>0</td>\n",
       "      <td>0</td>\n",
       "      <td>0</td>\n",
       "      <td>0</td>\n",
       "      <td>0</td>\n",
       "      <td>...</td>\n",
       "      <td>NaN</td>\n",
       "      <td>NaN</td>\n",
       "      <td>1.45</td>\n",
       "      <td>NaN</td>\n",
       "      <td>22.1</td>\n",
       "      <td>26.0</td>\n",
       "      <td>180.0</td>\n",
       "      <td>5</td>\n",
       "      <td>12</td>\n",
       "      <td>2.0</td>\n",
       "    </tr>\n",
       "    <tr>\n",
       "      <th>4</th>\n",
       "      <td>患者20</td>\n",
       "      <td>男</td>\n",
       "      <td>清明</td>\n",
       "      <td>0</td>\n",
       "      <td>0</td>\n",
       "      <td>0</td>\n",
       "      <td>0</td>\n",
       "      <td>0</td>\n",
       "      <td>0</td>\n",
       "      <td>0</td>\n",
       "      <td>...</td>\n",
       "      <td>NaN</td>\n",
       "      <td>NaN</td>\n",
       "      <td>0.58</td>\n",
       "      <td>NaN</td>\n",
       "      <td>24.9</td>\n",
       "      <td>40.0</td>\n",
       "      <td>0.1</td>\n",
       "      <td>8</td>\n",
       "      <td>32</td>\n",
       "      <td>5.0</td>\n",
       "    </tr>\n",
       "    <tr>\n",
       "      <th>...</th>\n",
       "      <td>...</td>\n",
       "      <td>...</td>\n",
       "      <td>...</td>\n",
       "      <td>...</td>\n",
       "      <td>...</td>\n",
       "      <td>...</td>\n",
       "      <td>...</td>\n",
       "      <td>...</td>\n",
       "      <td>...</td>\n",
       "      <td>...</td>\n",
       "      <td>...</td>\n",
       "      <td>...</td>\n",
       "      <td>...</td>\n",
       "      <td>...</td>\n",
       "      <td>...</td>\n",
       "      <td>...</td>\n",
       "      <td>...</td>\n",
       "      <td>...</td>\n",
       "      <td>...</td>\n",
       "      <td>...</td>\n",
       "      <td>...</td>\n",
       "    </tr>\n",
       "    <tr>\n",
       "      <th>248</th>\n",
       "      <td>患者1246</td>\n",
       "      <td>女</td>\n",
       "      <td>0</td>\n",
       "      <td>0</td>\n",
       "      <td>0</td>\n",
       "      <td>0</td>\n",
       "      <td>0</td>\n",
       "      <td>0</td>\n",
       "      <td>0</td>\n",
       "      <td>0</td>\n",
       "      <td>...</td>\n",
       "      <td>NaN</td>\n",
       "      <td>NaN</td>\n",
       "      <td>NaN</td>\n",
       "      <td>NaN</td>\n",
       "      <td>NaN</td>\n",
       "      <td>48.0</td>\n",
       "      <td>6.0</td>\n",
       "      <td>7</td>\n",
       "      <td>12</td>\n",
       "      <td>3.0</td>\n",
       "    </tr>\n",
       "    <tr>\n",
       "      <th>249</th>\n",
       "      <td>患者1248</td>\n",
       "      <td>男</td>\n",
       "      <td>0</td>\n",
       "      <td>0</td>\n",
       "      <td>0</td>\n",
       "      <td>0</td>\n",
       "      <td>0</td>\n",
       "      <td>压力</td>\n",
       "      <td>0</td>\n",
       "      <td>抽烟</td>\n",
       "      <td>...</td>\n",
       "      <td>NaN</td>\n",
       "      <td>NaN</td>\n",
       "      <td>NaN</td>\n",
       "      <td>NaN</td>\n",
       "      <td>NaN</td>\n",
       "      <td>47.0</td>\n",
       "      <td>60.0</td>\n",
       "      <td>10</td>\n",
       "      <td>4</td>\n",
       "      <td>7.0</td>\n",
       "    </tr>\n",
       "    <tr>\n",
       "      <th>250</th>\n",
       "      <td>患者1249</td>\n",
       "      <td>女</td>\n",
       "      <td>0</td>\n",
       "      <td>0</td>\n",
       "      <td>噪音</td>\n",
       "      <td>0</td>\n",
       "      <td>0</td>\n",
       "      <td>0</td>\n",
       "      <td>0</td>\n",
       "      <td>0</td>\n",
       "      <td>...</td>\n",
       "      <td>NaN</td>\n",
       "      <td>NaN</td>\n",
       "      <td>NaN</td>\n",
       "      <td>NaN</td>\n",
       "      <td>NaN</td>\n",
       "      <td>62.0</td>\n",
       "      <td>36.0</td>\n",
       "      <td>12</td>\n",
       "      <td>8</td>\n",
       "      <td>9.0</td>\n",
       "    </tr>\n",
       "    <tr>\n",
       "      <th>251</th>\n",
       "      <td>患者1255</td>\n",
       "      <td>男</td>\n",
       "      <td>0</td>\n",
       "      <td>0</td>\n",
       "      <td>噪音</td>\n",
       "      <td>0</td>\n",
       "      <td>0</td>\n",
       "      <td>0</td>\n",
       "      <td>0</td>\n",
       "      <td>抽烟</td>\n",
       "      <td>...</td>\n",
       "      <td>NaN</td>\n",
       "      <td>NaN</td>\n",
       "      <td>NaN</td>\n",
       "      <td>NaN</td>\n",
       "      <td>NaN</td>\n",
       "      <td>36.0</td>\n",
       "      <td>24.0</td>\n",
       "      <td>7</td>\n",
       "      <td>10</td>\n",
       "      <td>3.0</td>\n",
       "    </tr>\n",
       "    <tr>\n",
       "      <th>252</th>\n",
       "      <td>患者1259</td>\n",
       "      <td>男</td>\n",
       "      <td>0</td>\n",
       "      <td>0</td>\n",
       "      <td>噪音</td>\n",
       "      <td>耳机使用</td>\n",
       "      <td>0</td>\n",
       "      <td>压力</td>\n",
       "      <td>0</td>\n",
       "      <td>0</td>\n",
       "      <td>...</td>\n",
       "      <td>NaN</td>\n",
       "      <td>NaN</td>\n",
       "      <td>NaN</td>\n",
       "      <td>NaN</td>\n",
       "      <td>NaN</td>\n",
       "      <td>33.0</td>\n",
       "      <td>12.0</td>\n",
       "      <td>9</td>\n",
       "      <td>36</td>\n",
       "      <td>7.0</td>\n",
       "    </tr>\n",
       "  </tbody>\n",
       "</table>\n",
       "<p>253 rows × 109 columns</p>\n",
       "</div>"
      ],
      "text/plain": [
       "         患者 性别 发病节气 劳累  噪音  耳机使用 锻炼  压力 感染  抽烟  ...   INR  APTT   FIB D-二聚体  \\\n",
       "0       患者7  男   雨水  0   0     0  0   0  0   0  ...  1.06  32.4  2.35  0.16   \n",
       "1       患者9  女   立春  0   0     0  0   0  0   0  ...   NaN   NaN   NaN   NaN   \n",
       "2      患者11  男   惊蛰  0   0     0  0   0  0   0  ...   NaN   NaN  3.30  0.01   \n",
       "3      患者16  男   春分  0   0     0  0   0  0   0  ...   NaN   NaN  1.45   NaN   \n",
       "4      患者20  男   清明  0   0     0  0   0  0   0  ...   NaN   NaN  0.58   NaN   \n",
       "..      ... ..  ... ..  ..   ... ..  .. ..  ..  ...   ...   ...   ...   ...   \n",
       "248  患者1246  女    0  0   0     0  0   0  0   0  ...   NaN   NaN   NaN   NaN   \n",
       "249  患者1248  男    0  0   0     0  0  压力  0  抽烟  ...   NaN   NaN   NaN   NaN   \n",
       "250  患者1249  女    0  0  噪音     0  0   0  0   0  ...   NaN   NaN   NaN   NaN   \n",
       "251  患者1255  男    0  0  噪音     0  0   0  0  抽烟  ...   NaN   NaN   NaN   NaN   \n",
       "252  患者1259  男    0  0  噪音  耳机使用  0  压力  0   0  ...   NaN   NaN   NaN   NaN   \n",
       "\n",
       "       TT    年龄  病程（月） TEQ THI  VAS  \n",
       "0    19.0  30.0    1.0   6  14  6.0  \n",
       "1     NaN  66.0    1.0  18  68  9.0  \n",
       "2    18.0  36.0    1.0  12  78  8.0  \n",
       "3    22.1  26.0  180.0   5  12  2.0  \n",
       "4    24.9  40.0    0.1   8  32  5.0  \n",
       "..    ...   ...    ...  ..  ..  ...  \n",
       "248   NaN  48.0    6.0   7  12  3.0  \n",
       "249   NaN  47.0   60.0  10   4  7.0  \n",
       "250   NaN  62.0   36.0  12   8  9.0  \n",
       "251   NaN  36.0   24.0   7  10  3.0  \n",
       "252   NaN  33.0   12.0   9  36  7.0  \n",
       "\n",
       "[253 rows x 109 columns]"
      ]
     },
     "execution_count": 61,
     "metadata": {},
     "output_type": "execute_result"
    }
   ],
   "source": [
    "#读取测试集数据\n",
    "testData = pd.read_csv(r\"D:\\学习资料\\项目资料\\耳鸣中医知识图谱\\neo4j\\原始数据\\新数据\\五折测试集5.csv\")\n",
    "# testData = pd.read_csv(r\"./data/五折测试集4.csv\")\n",
    "testData=testData.drop(\"Unnamed: 0\",axis=1)\n",
    "testData"
   ]
  },
  {
   "cell_type": "code",
   "execution_count": 62,
   "id": "7bb649e9-57bf-4a7f-a48a-37107de61f8e",
   "metadata": {},
   "outputs": [
    {
     "data": {
      "application/javascript": [
       "\n",
       "        if (window._pyforest_update_imports_cell) { window._pyforest_update_imports_cell('import pandas as pd'); }\n",
       "    "
      ],
      "text/plain": [
       "<IPython.core.display.Javascript object>"
      ]
     },
     "metadata": {},
     "output_type": "display_data"
    },
    {
     "data": {
      "text/html": [
       "<div>\n",
       "<style scoped>\n",
       "    .dataframe tbody tr th:only-of-type {\n",
       "        vertical-align: middle;\n",
       "    }\n",
       "\n",
       "    .dataframe tbody tr th {\n",
       "        vertical-align: top;\n",
       "    }\n",
       "\n",
       "    .dataframe thead th {\n",
       "        text-align: right;\n",
       "    }\n",
       "</style>\n",
       "<table border=\"1\" class=\"dataframe\">\n",
       "  <thead>\n",
       "    <tr style=\"text-align: right;\">\n",
       "      <th></th>\n",
       "      <th>患者</th>\n",
       "      <th>性别</th>\n",
       "      <th>发病节气</th>\n",
       "      <th>劳累</th>\n",
       "      <th>噪音</th>\n",
       "      <th>耳机使用</th>\n",
       "      <th>锻炼</th>\n",
       "      <th>压力</th>\n",
       "      <th>感染</th>\n",
       "      <th>抽烟</th>\n",
       "      <th>...</th>\n",
       "      <th>INR</th>\n",
       "      <th>APTT</th>\n",
       "      <th>FIB</th>\n",
       "      <th>D-二聚体</th>\n",
       "      <th>TT</th>\n",
       "      <th>年龄</th>\n",
       "      <th>病程（月）</th>\n",
       "      <th>TEQ</th>\n",
       "      <th>THI</th>\n",
       "      <th>VAS</th>\n",
       "    </tr>\n",
       "  </thead>\n",
       "  <tbody>\n",
       "    <tr>\n",
       "      <th>0</th>\n",
       "      <td>患者0</td>\n",
       "      <td>女</td>\n",
       "      <td>大寒</td>\n",
       "      <td>0</td>\n",
       "      <td>0</td>\n",
       "      <td>0</td>\n",
       "      <td>0</td>\n",
       "      <td>0</td>\n",
       "      <td>0</td>\n",
       "      <td>0</td>\n",
       "      <td>...</td>\n",
       "      <td>0.97</td>\n",
       "      <td>35.3</td>\n",
       "      <td>2.39</td>\n",
       "      <td>0.19</td>\n",
       "      <td>18.3</td>\n",
       "      <td>45.0</td>\n",
       "      <td>7.0</td>\n",
       "      <td>10</td>\n",
       "      <td>18</td>\n",
       "      <td>6.0</td>\n",
       "    </tr>\n",
       "    <tr>\n",
       "      <th>1</th>\n",
       "      <td>患者1</td>\n",
       "      <td>男</td>\n",
       "      <td>大寒</td>\n",
       "      <td>0</td>\n",
       "      <td>0</td>\n",
       "      <td>0</td>\n",
       "      <td>0</td>\n",
       "      <td>0</td>\n",
       "      <td>0</td>\n",
       "      <td>0</td>\n",
       "      <td>...</td>\n",
       "      <td>1.03</td>\n",
       "      <td>34.7</td>\n",
       "      <td>2.85</td>\n",
       "      <td>0.36</td>\n",
       "      <td>18.6</td>\n",
       "      <td>75.0</td>\n",
       "      <td>36.0</td>\n",
       "      <td>8</td>\n",
       "      <td>22</td>\n",
       "      <td>3.0</td>\n",
       "    </tr>\n",
       "    <tr>\n",
       "      <th>2</th>\n",
       "      <td>患者2</td>\n",
       "      <td>男</td>\n",
       "      <td>立春</td>\n",
       "      <td>0</td>\n",
       "      <td>0</td>\n",
       "      <td>0</td>\n",
       "      <td>0</td>\n",
       "      <td>0</td>\n",
       "      <td>0</td>\n",
       "      <td>0</td>\n",
       "      <td>...</td>\n",
       "      <td>1.13</td>\n",
       "      <td>38.8</td>\n",
       "      <td>2.79</td>\n",
       "      <td>0.34</td>\n",
       "      <td>19.5</td>\n",
       "      <td>74.0</td>\n",
       "      <td>1.0</td>\n",
       "      <td>12</td>\n",
       "      <td>42</td>\n",
       "      <td>8.0</td>\n",
       "    </tr>\n",
       "    <tr>\n",
       "      <th>3</th>\n",
       "      <td>患者3</td>\n",
       "      <td>女</td>\n",
       "      <td>立春</td>\n",
       "      <td>0</td>\n",
       "      <td>0</td>\n",
       "      <td>0</td>\n",
       "      <td>0</td>\n",
       "      <td>0</td>\n",
       "      <td>感染</td>\n",
       "      <td>0</td>\n",
       "      <td>...</td>\n",
       "      <td>1.16</td>\n",
       "      <td>23.6</td>\n",
       "      <td>5.66</td>\n",
       "      <td>0.71</td>\n",
       "      <td>14.7</td>\n",
       "      <td>72.0</td>\n",
       "      <td>0.3</td>\n",
       "      <td>8</td>\n",
       "      <td>24</td>\n",
       "      <td>6.0</td>\n",
       "    </tr>\n",
       "    <tr>\n",
       "      <th>4</th>\n",
       "      <td>患者4</td>\n",
       "      <td>女</td>\n",
       "      <td>大寒</td>\n",
       "      <td>劳累</td>\n",
       "      <td>0</td>\n",
       "      <td>0</td>\n",
       "      <td>0</td>\n",
       "      <td>0</td>\n",
       "      <td>0</td>\n",
       "      <td>0</td>\n",
       "      <td>...</td>\n",
       "      <td>0.95</td>\n",
       "      <td>25.1</td>\n",
       "      <td>3.17</td>\n",
       "      <td>0.32</td>\n",
       "      <td>15.6</td>\n",
       "      <td>50.0</td>\n",
       "      <td>1.0</td>\n",
       "      <td>18</td>\n",
       "      <td>78</td>\n",
       "      <td>9.0</td>\n",
       "    </tr>\n",
       "    <tr>\n",
       "      <th>...</th>\n",
       "      <td>...</td>\n",
       "      <td>...</td>\n",
       "      <td>...</td>\n",
       "      <td>...</td>\n",
       "      <td>...</td>\n",
       "      <td>...</td>\n",
       "      <td>...</td>\n",
       "      <td>...</td>\n",
       "      <td>...</td>\n",
       "      <td>...</td>\n",
       "      <td>...</td>\n",
       "      <td>...</td>\n",
       "      <td>...</td>\n",
       "      <td>...</td>\n",
       "      <td>...</td>\n",
       "      <td>...</td>\n",
       "      <td>...</td>\n",
       "      <td>...</td>\n",
       "      <td>...</td>\n",
       "      <td>...</td>\n",
       "      <td>...</td>\n",
       "    </tr>\n",
       "    <tr>\n",
       "      <th>1260</th>\n",
       "      <td>患者1260</td>\n",
       "      <td>女</td>\n",
       "      <td>0</td>\n",
       "      <td>0</td>\n",
       "      <td>0</td>\n",
       "      <td>耳机使用</td>\n",
       "      <td>0</td>\n",
       "      <td>压力</td>\n",
       "      <td>0</td>\n",
       "      <td>0</td>\n",
       "      <td>...</td>\n",
       "      <td>NaN</td>\n",
       "      <td>NaN</td>\n",
       "      <td>NaN</td>\n",
       "      <td>NaN</td>\n",
       "      <td>NaN</td>\n",
       "      <td>36.0</td>\n",
       "      <td>5.0</td>\n",
       "      <td>19</td>\n",
       "      <td>60</td>\n",
       "      <td>8.0</td>\n",
       "    </tr>\n",
       "    <tr>\n",
       "      <th>1261</th>\n",
       "      <td>患者1261</td>\n",
       "      <td>女</td>\n",
       "      <td>0</td>\n",
       "      <td>0</td>\n",
       "      <td>0</td>\n",
       "      <td>耳机使用</td>\n",
       "      <td>锻炼</td>\n",
       "      <td>压力</td>\n",
       "      <td>0</td>\n",
       "      <td>0</td>\n",
       "      <td>...</td>\n",
       "      <td>NaN</td>\n",
       "      <td>NaN</td>\n",
       "      <td>NaN</td>\n",
       "      <td>NaN</td>\n",
       "      <td>NaN</td>\n",
       "      <td>52.0</td>\n",
       "      <td>1.0</td>\n",
       "      <td>14</td>\n",
       "      <td>26</td>\n",
       "      <td>7.0</td>\n",
       "    </tr>\n",
       "    <tr>\n",
       "      <th>1262</th>\n",
       "      <td>患者1262</td>\n",
       "      <td>女</td>\n",
       "      <td>0</td>\n",
       "      <td>0</td>\n",
       "      <td>0</td>\n",
       "      <td>0</td>\n",
       "      <td>0</td>\n",
       "      <td>压力</td>\n",
       "      <td>0</td>\n",
       "      <td>0</td>\n",
       "      <td>...</td>\n",
       "      <td>NaN</td>\n",
       "      <td>NaN</td>\n",
       "      <td>NaN</td>\n",
       "      <td>NaN</td>\n",
       "      <td>NaN</td>\n",
       "      <td>29.0</td>\n",
       "      <td>6.0</td>\n",
       "      <td>17</td>\n",
       "      <td>44</td>\n",
       "      <td>9.0</td>\n",
       "    </tr>\n",
       "    <tr>\n",
       "      <th>1263</th>\n",
       "      <td>患者1263</td>\n",
       "      <td>女</td>\n",
       "      <td>0</td>\n",
       "      <td>0</td>\n",
       "      <td>0</td>\n",
       "      <td>0</td>\n",
       "      <td>0</td>\n",
       "      <td>压力</td>\n",
       "      <td>0</td>\n",
       "      <td>0</td>\n",
       "      <td>...</td>\n",
       "      <td>NaN</td>\n",
       "      <td>NaN</td>\n",
       "      <td>NaN</td>\n",
       "      <td>NaN</td>\n",
       "      <td>NaN</td>\n",
       "      <td>33.0</td>\n",
       "      <td>108.0</td>\n",
       "      <td>16</td>\n",
       "      <td>46</td>\n",
       "      <td>9.0</td>\n",
       "    </tr>\n",
       "    <tr>\n",
       "      <th>1264</th>\n",
       "      <td>患者1264</td>\n",
       "      <td>男</td>\n",
       "      <td>0</td>\n",
       "      <td>0</td>\n",
       "      <td>0</td>\n",
       "      <td>0</td>\n",
       "      <td>锻炼</td>\n",
       "      <td>0</td>\n",
       "      <td>0</td>\n",
       "      <td>抽烟</td>\n",
       "      <td>...</td>\n",
       "      <td>NaN</td>\n",
       "      <td>NaN</td>\n",
       "      <td>NaN</td>\n",
       "      <td>NaN</td>\n",
       "      <td>NaN</td>\n",
       "      <td>64.0</td>\n",
       "      <td>84.0</td>\n",
       "      <td>13</td>\n",
       "      <td>44</td>\n",
       "      <td>7.0</td>\n",
       "    </tr>\n",
       "  </tbody>\n",
       "</table>\n",
       "<p>1265 rows × 109 columns</p>\n",
       "</div>"
      ],
      "text/plain": [
       "          患者 性别 发病节气  劳累 噪音  耳机使用  锻炼  压力  感染  抽烟  ...   INR  APTT   FIB  \\\n",
       "0        患者0  女   大寒   0  0     0   0   0   0   0  ...  0.97  35.3  2.39   \n",
       "1        患者1  男   大寒   0  0     0   0   0   0   0  ...  1.03  34.7  2.85   \n",
       "2        患者2  男   立春   0  0     0   0   0   0   0  ...  1.13  38.8  2.79   \n",
       "3        患者3  女   立春   0  0     0   0   0  感染   0  ...  1.16  23.6  5.66   \n",
       "4        患者4  女   大寒  劳累  0     0   0   0   0   0  ...  0.95  25.1  3.17   \n",
       "...      ... ..  ...  .. ..   ...  ..  ..  ..  ..  ...   ...   ...   ...   \n",
       "1260  患者1260  女    0   0  0  耳机使用   0  压力   0   0  ...   NaN   NaN   NaN   \n",
       "1261  患者1261  女    0   0  0  耳机使用  锻炼  压力   0   0  ...   NaN   NaN   NaN   \n",
       "1262  患者1262  女    0   0  0     0   0  压力   0   0  ...   NaN   NaN   NaN   \n",
       "1263  患者1263  女    0   0  0     0   0  压力   0   0  ...   NaN   NaN   NaN   \n",
       "1264  患者1264  男    0   0  0     0  锻炼   0   0  抽烟  ...   NaN   NaN   NaN   \n",
       "\n",
       "     D-二聚体    TT    年龄  病程（月） TEQ THI  VAS  \n",
       "0     0.19  18.3  45.0    7.0  10  18  6.0  \n",
       "1     0.36  18.6  75.0   36.0   8  22  3.0  \n",
       "2     0.34  19.5  74.0    1.0  12  42  8.0  \n",
       "3     0.71  14.7  72.0    0.3   8  24  6.0  \n",
       "4     0.32  15.6  50.0    1.0  18  78  9.0  \n",
       "...    ...   ...   ...    ...  ..  ..  ...  \n",
       "1260   NaN   NaN  36.0    5.0  19  60  8.0  \n",
       "1261   NaN   NaN  52.0    1.0  14  26  7.0  \n",
       "1262   NaN   NaN  29.0    6.0  17  44  9.0  \n",
       "1263   NaN   NaN  33.0  108.0  16  46  9.0  \n",
       "1264   NaN   NaN  64.0   84.0  13  44  7.0  \n",
       "\n",
       "[1265 rows x 109 columns]"
      ]
     },
     "execution_count": 62,
     "metadata": {},
     "output_type": "execute_result"
    }
   ],
   "source": [
    "#读取所有数据\n",
    "allData = pd.read_csv(r\"D:\\学习资料\\项目资料\\耳鸣中医知识图谱\\neo4j\\原始数据\\新数据\\知识图谱新数据.csv\",encoding=\"gbk\")\n",
    "allData"
   ]
  },
  {
   "cell_type": "code",
   "execution_count": 13,
   "id": "b70b02ad-d0a6-4d28-824b-30274e6338e3",
   "metadata": {},
   "outputs": [
    {
     "data": {
      "text/plain": [
       "([], [])"
      ]
     },
     "execution_count": 13,
     "metadata": {},
     "output_type": "execute_result"
    }
   ],
   "source": [
    "data_Syndrome1,result_Syndrome"
   ]
  },
  {
   "cell_type": "code",
   "execution_count": 81,
   "id": "42bbb432-f63a-4408-9316-b67e4b9cdf09",
   "metadata": {},
   "outputs": [
    {
     "data": {
      "text/plain": [
       "[None, None]"
      ]
     },
     "execution_count": 81,
     "metadata": {},
     "output_type": "execute_result"
    }
   ],
   "source": [
    "data_Syndrome1"
   ]
  },
  {
   "cell_type": "markdown",
   "id": "66613f1b-80b1-44a3-aa34-59b1035df996",
   "metadata": {},
   "source": [
    "## 两两计算节点共同邻居数量"
   ]
  },
  {
   "cell_type": "markdown",
   "id": "14de9213-f01d-40cc-8df3-d3950e081cfa",
   "metadata": {},
   "source": [
    "### 有权重"
   ]
  },
  {
   "cell_type": "code",
   "execution_count": 32,
   "id": "b3ec57bc-233e-455c-a1b4-71c1e737c4f7",
   "metadata": {},
   "outputs": [
    {
     "data": {
      "application/javascript": [
       "\n",
       "        if (window._pyforest_update_imports_cell) { window._pyforest_update_imports_cell('import pandas as pd'); }\n",
       "    "
      ],
      "text/plain": [
       "<IPython.core.display.Javascript object>"
      ]
     },
     "metadata": {},
     "output_type": "display_data"
    },
    {
     "name": "stdout",
     "output_type": "stream",
     "text": [
      "maxCommonNeighborsSyndrome 肝火上扰\n"
     ]
    },
    {
     "data": {
      "application/javascript": [
       "\n",
       "        if (window._pyforest_update_imports_cell) { window._pyforest_update_imports_cell('import pandas as pd'); }\n",
       "    "
      ],
      "text/plain": [
       "<IPython.core.display.Javascript object>"
      ]
     },
     "metadata": {},
     "output_type": "display_data"
    },
    {
     "name": "stdout",
     "output_type": "stream",
     "text": [
      "maxCommonNeighborsSyndrome 肝火上扰\n"
     ]
    },
    {
     "data": {
      "application/javascript": [
       "\n",
       "        if (window._pyforest_update_imports_cell) { window._pyforest_update_imports_cell('import pandas as pd'); }\n",
       "    "
      ],
      "text/plain": [
       "<IPython.core.display.Javascript object>"
      ]
     },
     "metadata": {},
     "output_type": "display_data"
    },
    {
     "name": "stdout",
     "output_type": "stream",
     "text": [
      "maxCommonNeighborsSyndrome 肝火上扰\n"
     ]
    },
    {
     "data": {
      "application/javascript": [
       "\n",
       "        if (window._pyforest_update_imports_cell) { window._pyforest_update_imports_cell('import pandas as pd'); }\n",
       "    "
      ],
      "text/plain": [
       "<IPython.core.display.Javascript object>"
      ]
     },
     "metadata": {},
     "output_type": "display_data"
    },
    {
     "name": "stdout",
     "output_type": "stream",
     "text": [
      "maxCommonNeighborsSyndrome 肝火上扰\n"
     ]
    },
    {
     "data": {
      "application/javascript": [
       "\n",
       "        if (window._pyforest_update_imports_cell) { window._pyforest_update_imports_cell('import pandas as pd'); }\n",
       "    "
      ],
      "text/plain": [
       "<IPython.core.display.Javascript object>"
      ]
     },
     "metadata": {},
     "output_type": "display_data"
    },
    {
     "name": "stdout",
     "output_type": "stream",
     "text": [
      "maxCommonNeighborsSyndrome 肝火上扰\n"
     ]
    },
    {
     "data": {
      "application/javascript": [
       "\n",
       "        if (window._pyforest_update_imports_cell) { window._pyforest_update_imports_cell('import pandas as pd'); }\n",
       "    "
      ],
      "text/plain": [
       "<IPython.core.display.Javascript object>"
      ]
     },
     "metadata": {},
     "output_type": "display_data"
    },
    {
     "name": "stdout",
     "output_type": "stream",
     "text": [
      "maxCommonNeighborsSyndrome 肝火上扰\n"
     ]
    },
    {
     "data": {
      "application/javascript": [
       "\n",
       "        if (window._pyforest_update_imports_cell) { window._pyforest_update_imports_cell('import pandas as pd'); }\n",
       "    "
      ],
      "text/plain": [
       "<IPython.core.display.Javascript object>"
      ]
     },
     "metadata": {},
     "output_type": "display_data"
    },
    {
     "name": "stdout",
     "output_type": "stream",
     "text": [
      "maxCommonNeighborsSyndrome 肝火上扰\n"
     ]
    },
    {
     "data": {
      "application/javascript": [
       "\n",
       "        if (window._pyforest_update_imports_cell) { window._pyforest_update_imports_cell('import pandas as pd'); }\n",
       "    "
      ],
      "text/plain": [
       "<IPython.core.display.Javascript object>"
      ]
     },
     "metadata": {},
     "output_type": "display_data"
    },
    {
     "name": "stdout",
     "output_type": "stream",
     "text": [
      "maxCommonNeighborsSyndrome 肝火上扰\n"
     ]
    },
    {
     "data": {
      "application/javascript": [
       "\n",
       "        if (window._pyforest_update_imports_cell) { window._pyforest_update_imports_cell('import pandas as pd'); }\n",
       "    "
      ],
      "text/plain": [
       "<IPython.core.display.Javascript object>"
      ]
     },
     "metadata": {},
     "output_type": "display_data"
    },
    {
     "name": "stdout",
     "output_type": "stream",
     "text": [
      "maxCommonNeighborsSyndrome 肝火上扰\n"
     ]
    },
    {
     "data": {
      "application/javascript": [
       "\n",
       "        if (window._pyforest_update_imports_cell) { window._pyforest_update_imports_cell('import pandas as pd'); }\n",
       "    "
      ],
      "text/plain": [
       "<IPython.core.display.Javascript object>"
      ]
     },
     "metadata": {},
     "output_type": "display_data"
    },
    {
     "name": "stdout",
     "output_type": "stream",
     "text": [
      "maxCommonNeighborsSyndrome 肝火上扰\n"
     ]
    },
    {
     "data": {
      "application/javascript": [
       "\n",
       "        if (window._pyforest_update_imports_cell) { window._pyforest_update_imports_cell('import pandas as pd'); }\n",
       "    "
      ],
      "text/plain": [
       "<IPython.core.display.Javascript object>"
      ]
     },
     "metadata": {},
     "output_type": "display_data"
    },
    {
     "name": "stdout",
     "output_type": "stream",
     "text": [
      "maxCommonNeighborsSyndrome 肝火上扰\n"
     ]
    },
    {
     "data": {
      "application/javascript": [
       "\n",
       "        if (window._pyforest_update_imports_cell) { window._pyforest_update_imports_cell('import pandas as pd'); }\n",
       "    "
      ],
      "text/plain": [
       "<IPython.core.display.Javascript object>"
      ]
     },
     "metadata": {},
     "output_type": "display_data"
    },
    {
     "name": "stdout",
     "output_type": "stream",
     "text": [
      "maxCommonNeighborsSyndrome 肝火上扰\n"
     ]
    },
    {
     "data": {
      "application/javascript": [
       "\n",
       "        if (window._pyforest_update_imports_cell) { window._pyforest_update_imports_cell('import pandas as pd'); }\n",
       "    "
      ],
      "text/plain": [
       "<IPython.core.display.Javascript object>"
      ]
     },
     "metadata": {},
     "output_type": "display_data"
    },
    {
     "name": "stdout",
     "output_type": "stream",
     "text": [
      "maxCommonNeighborsSyndrome 肝火上扰\n"
     ]
    },
    {
     "data": {
      "application/javascript": [
       "\n",
       "        if (window._pyforest_update_imports_cell) { window._pyforest_update_imports_cell('import pandas as pd'); }\n",
       "    "
      ],
      "text/plain": [
       "<IPython.core.display.Javascript object>"
      ]
     },
     "metadata": {},
     "output_type": "display_data"
    },
    {
     "name": "stdout",
     "output_type": "stream",
     "text": [
      "maxCommonNeighborsSyndrome 肝火上扰\n"
     ]
    },
    {
     "data": {
      "application/javascript": [
       "\n",
       "        if (window._pyforest_update_imports_cell) { window._pyforest_update_imports_cell('import pandas as pd'); }\n",
       "    "
      ],
      "text/plain": [
       "<IPython.core.display.Javascript object>"
      ]
     },
     "metadata": {},
     "output_type": "display_data"
    },
    {
     "name": "stdout",
     "output_type": "stream",
     "text": [
      "maxCommonNeighborsSyndrome 肝火上扰\n"
     ]
    },
    {
     "data": {
      "application/javascript": [
       "\n",
       "        if (window._pyforest_update_imports_cell) { window._pyforest_update_imports_cell('import pandas as pd'); }\n",
       "    "
      ],
      "text/plain": [
       "<IPython.core.display.Javascript object>"
      ]
     },
     "metadata": {},
     "output_type": "display_data"
    },
    {
     "name": "stdout",
     "output_type": "stream",
     "text": [
      "maxCommonNeighborsSyndrome 肝火上扰\n"
     ]
    },
    {
     "data": {
      "application/javascript": [
       "\n",
       "        if (window._pyforest_update_imports_cell) { window._pyforest_update_imports_cell('import pandas as pd'); }\n",
       "    "
      ],
      "text/plain": [
       "<IPython.core.display.Javascript object>"
      ]
     },
     "metadata": {},
     "output_type": "display_data"
    },
    {
     "name": "stdout",
     "output_type": "stream",
     "text": [
      "maxCommonNeighborsSyndrome 肝火上扰\n"
     ]
    },
    {
     "data": {
      "application/javascript": [
       "\n",
       "        if (window._pyforest_update_imports_cell) { window._pyforest_update_imports_cell('import pandas as pd'); }\n",
       "    "
      ],
      "text/plain": [
       "<IPython.core.display.Javascript object>"
      ]
     },
     "metadata": {},
     "output_type": "display_data"
    },
    {
     "name": "stdout",
     "output_type": "stream",
     "text": [
      "maxCommonNeighborsSyndrome 肝火上扰\n"
     ]
    },
    {
     "data": {
      "application/javascript": [
       "\n",
       "        if (window._pyforest_update_imports_cell) { window._pyforest_update_imports_cell('import pandas as pd'); }\n",
       "    "
      ],
      "text/plain": [
       "<IPython.core.display.Javascript object>"
      ]
     },
     "metadata": {},
     "output_type": "display_data"
    },
    {
     "name": "stdout",
     "output_type": "stream",
     "text": [
      "maxCommonNeighborsSyndrome 肝火上扰\n"
     ]
    },
    {
     "data": {
      "application/javascript": [
       "\n",
       "        if (window._pyforest_update_imports_cell) { window._pyforest_update_imports_cell('import pandas as pd'); }\n",
       "    "
      ],
      "text/plain": [
       "<IPython.core.display.Javascript object>"
      ]
     },
     "metadata": {},
     "output_type": "display_data"
    },
    {
     "name": "stdout",
     "output_type": "stream",
     "text": [
      "maxCommonNeighborsSyndrome 肝火上扰\n"
     ]
    },
    {
     "data": {
      "application/javascript": [
       "\n",
       "        if (window._pyforest_update_imports_cell) { window._pyforest_update_imports_cell('import pandas as pd'); }\n",
       "    "
      ],
      "text/plain": [
       "<IPython.core.display.Javascript object>"
      ]
     },
     "metadata": {},
     "output_type": "display_data"
    },
    {
     "name": "stdout",
     "output_type": "stream",
     "text": [
      "maxCommonNeighborsSyndrome 肝火上扰\n"
     ]
    },
    {
     "data": {
      "application/javascript": [
       "\n",
       "        if (window._pyforest_update_imports_cell) { window._pyforest_update_imports_cell('import pandas as pd'); }\n",
       "    "
      ],
      "text/plain": [
       "<IPython.core.display.Javascript object>"
      ]
     },
     "metadata": {},
     "output_type": "display_data"
    },
    {
     "name": "stdout",
     "output_type": "stream",
     "text": [
      "maxCommonNeighborsSyndrome 肝火上扰\n"
     ]
    },
    {
     "data": {
      "application/javascript": [
       "\n",
       "        if (window._pyforest_update_imports_cell) { window._pyforest_update_imports_cell('import pandas as pd'); }\n",
       "    "
      ],
      "text/plain": [
       "<IPython.core.display.Javascript object>"
      ]
     },
     "metadata": {},
     "output_type": "display_data"
    },
    {
     "name": "stdout",
     "output_type": "stream",
     "text": [
      "maxCommonNeighborsSyndrome 肝火上扰\n"
     ]
    },
    {
     "data": {
      "application/javascript": [
       "\n",
       "        if (window._pyforest_update_imports_cell) { window._pyforest_update_imports_cell('import pandas as pd'); }\n",
       "    "
      ],
      "text/plain": [
       "<IPython.core.display.Javascript object>"
      ]
     },
     "metadata": {},
     "output_type": "display_data"
    },
    {
     "name": "stdout",
     "output_type": "stream",
     "text": [
      "maxCommonNeighborsSyndrome 肝火上扰\n"
     ]
    },
    {
     "data": {
      "application/javascript": [
       "\n",
       "        if (window._pyforest_update_imports_cell) { window._pyforest_update_imports_cell('import pandas as pd'); }\n",
       "    "
      ],
      "text/plain": [
       "<IPython.core.display.Javascript object>"
      ]
     },
     "metadata": {},
     "output_type": "display_data"
    },
    {
     "name": "stdout",
     "output_type": "stream",
     "text": [
      "maxCommonNeighborsSyndrome 肝火上扰\n"
     ]
    },
    {
     "data": {
      "application/javascript": [
       "\n",
       "        if (window._pyforest_update_imports_cell) { window._pyforest_update_imports_cell('import pandas as pd'); }\n",
       "    "
      ],
      "text/plain": [
       "<IPython.core.display.Javascript object>"
      ]
     },
     "metadata": {},
     "output_type": "display_data"
    },
    {
     "name": "stdout",
     "output_type": "stream",
     "text": [
      "maxCommonNeighborsSyndrome 肝火上扰\n"
     ]
    },
    {
     "data": {
      "application/javascript": [
       "\n",
       "        if (window._pyforest_update_imports_cell) { window._pyforest_update_imports_cell('import pandas as pd'); }\n",
       "    "
      ],
      "text/plain": [
       "<IPython.core.display.Javascript object>"
      ]
     },
     "metadata": {},
     "output_type": "display_data"
    },
    {
     "name": "stdout",
     "output_type": "stream",
     "text": [
      "maxCommonNeighborsSyndrome 肝火上扰\n"
     ]
    },
    {
     "data": {
      "application/javascript": [
       "\n",
       "        if (window._pyforest_update_imports_cell) { window._pyforest_update_imports_cell('import pandas as pd'); }\n",
       "    "
      ],
      "text/plain": [
       "<IPython.core.display.Javascript object>"
      ]
     },
     "metadata": {},
     "output_type": "display_data"
    },
    {
     "name": "stdout",
     "output_type": "stream",
     "text": [
      "maxCommonNeighborsSyndrome 肝火上扰\n"
     ]
    },
    {
     "data": {
      "application/javascript": [
       "\n",
       "        if (window._pyforest_update_imports_cell) { window._pyforest_update_imports_cell('import pandas as pd'); }\n",
       "    "
      ],
      "text/plain": [
       "<IPython.core.display.Javascript object>"
      ]
     },
     "metadata": {},
     "output_type": "display_data"
    },
    {
     "name": "stdout",
     "output_type": "stream",
     "text": [
      "maxCommonNeighborsSyndrome 肝火上扰\n"
     ]
    },
    {
     "data": {
      "application/javascript": [
       "\n",
       "        if (window._pyforest_update_imports_cell) { window._pyforest_update_imports_cell('import pandas as pd'); }\n",
       "    "
      ],
      "text/plain": [
       "<IPython.core.display.Javascript object>"
      ]
     },
     "metadata": {},
     "output_type": "display_data"
    },
    {
     "name": "stdout",
     "output_type": "stream",
     "text": [
      "maxCommonNeighborsSyndrome 肝火上扰\n"
     ]
    },
    {
     "data": {
      "application/javascript": [
       "\n",
       "        if (window._pyforest_update_imports_cell) { window._pyforest_update_imports_cell('import pandas as pd'); }\n",
       "    "
      ],
      "text/plain": [
       "<IPython.core.display.Javascript object>"
      ]
     },
     "metadata": {},
     "output_type": "display_data"
    },
    {
     "name": "stdout",
     "output_type": "stream",
     "text": [
      "maxCommonNeighborsSyndrome 肝火上扰\n"
     ]
    },
    {
     "data": {
      "application/javascript": [
       "\n",
       "        if (window._pyforest_update_imports_cell) { window._pyforest_update_imports_cell('import pandas as pd'); }\n",
       "    "
      ],
      "text/plain": [
       "<IPython.core.display.Javascript object>"
      ]
     },
     "metadata": {},
     "output_type": "display_data"
    },
    {
     "name": "stdout",
     "output_type": "stream",
     "text": [
      "maxCommonNeighborsSyndrome 肝火上扰\n"
     ]
    },
    {
     "data": {
      "application/javascript": [
       "\n",
       "        if (window._pyforest_update_imports_cell) { window._pyforest_update_imports_cell('import pandas as pd'); }\n",
       "    "
      ],
      "text/plain": [
       "<IPython.core.display.Javascript object>"
      ]
     },
     "metadata": {},
     "output_type": "display_data"
    },
    {
     "name": "stdout",
     "output_type": "stream",
     "text": [
      "maxCommonNeighborsSyndrome 肝火上扰\n"
     ]
    },
    {
     "data": {
      "application/javascript": [
       "\n",
       "        if (window._pyforest_update_imports_cell) { window._pyforest_update_imports_cell('import pandas as pd'); }\n",
       "    "
      ],
      "text/plain": [
       "<IPython.core.display.Javascript object>"
      ]
     },
     "metadata": {},
     "output_type": "display_data"
    },
    {
     "name": "stdout",
     "output_type": "stream",
     "text": [
      "maxCommonNeighborsSyndrome 肝火上扰\n"
     ]
    },
    {
     "data": {
      "application/javascript": [
       "\n",
       "        if (window._pyforest_update_imports_cell) { window._pyforest_update_imports_cell('import pandas as pd'); }\n",
       "    "
      ],
      "text/plain": [
       "<IPython.core.display.Javascript object>"
      ]
     },
     "metadata": {},
     "output_type": "display_data"
    },
    {
     "name": "stdout",
     "output_type": "stream",
     "text": [
      "maxCommonNeighborsSyndrome 肝火上扰\n"
     ]
    },
    {
     "data": {
      "application/javascript": [
       "\n",
       "        if (window._pyforest_update_imports_cell) { window._pyforest_update_imports_cell('import pandas as pd'); }\n",
       "    "
      ],
      "text/plain": [
       "<IPython.core.display.Javascript object>"
      ]
     },
     "metadata": {},
     "output_type": "display_data"
    },
    {
     "name": "stdout",
     "output_type": "stream",
     "text": [
      "maxCommonNeighborsSyndrome 肝火上扰\n"
     ]
    },
    {
     "data": {
      "application/javascript": [
       "\n",
       "        if (window._pyforest_update_imports_cell) { window._pyforest_update_imports_cell('import pandas as pd'); }\n",
       "    "
      ],
      "text/plain": [
       "<IPython.core.display.Javascript object>"
      ]
     },
     "metadata": {},
     "output_type": "display_data"
    },
    {
     "name": "stdout",
     "output_type": "stream",
     "text": [
      "maxCommonNeighborsSyndrome 肝火上扰\n"
     ]
    },
    {
     "data": {
      "application/javascript": [
       "\n",
       "        if (window._pyforest_update_imports_cell) { window._pyforest_update_imports_cell('import pandas as pd'); }\n",
       "    "
      ],
      "text/plain": [
       "<IPython.core.display.Javascript object>"
      ]
     },
     "metadata": {},
     "output_type": "display_data"
    },
    {
     "name": "stdout",
     "output_type": "stream",
     "text": [
      "maxCommonNeighborsSyndrome 肝火上扰\n"
     ]
    },
    {
     "data": {
      "application/javascript": [
       "\n",
       "        if (window._pyforest_update_imports_cell) { window._pyforest_update_imports_cell('import pandas as pd'); }\n",
       "    "
      ],
      "text/plain": [
       "<IPython.core.display.Javascript object>"
      ]
     },
     "metadata": {},
     "output_type": "display_data"
    },
    {
     "name": "stdout",
     "output_type": "stream",
     "text": [
      "maxCommonNeighborsSyndrome 肝火上扰\n"
     ]
    },
    {
     "data": {
      "application/javascript": [
       "\n",
       "        if (window._pyforest_update_imports_cell) { window._pyforest_update_imports_cell('import pandas as pd'); }\n",
       "    "
      ],
      "text/plain": [
       "<IPython.core.display.Javascript object>"
      ]
     },
     "metadata": {},
     "output_type": "display_data"
    },
    {
     "name": "stdout",
     "output_type": "stream",
     "text": [
      "maxCommonNeighborsSyndrome 肝火上扰\n"
     ]
    },
    {
     "data": {
      "application/javascript": [
       "\n",
       "        if (window._pyforest_update_imports_cell) { window._pyforest_update_imports_cell('import pandas as pd'); }\n",
       "    "
      ],
      "text/plain": [
       "<IPython.core.display.Javascript object>"
      ]
     },
     "metadata": {},
     "output_type": "display_data"
    },
    {
     "name": "stdout",
     "output_type": "stream",
     "text": [
      "maxCommonNeighborsSyndrome 肝火上扰\n"
     ]
    },
    {
     "data": {
      "application/javascript": [
       "\n",
       "        if (window._pyforest_update_imports_cell) { window._pyforest_update_imports_cell('import pandas as pd'); }\n",
       "    "
      ],
      "text/plain": [
       "<IPython.core.display.Javascript object>"
      ]
     },
     "metadata": {},
     "output_type": "display_data"
    },
    {
     "name": "stdout",
     "output_type": "stream",
     "text": [
      "maxCommonNeighborsSyndrome 肝火上扰\n"
     ]
    },
    {
     "data": {
      "application/javascript": [
       "\n",
       "        if (window._pyforest_update_imports_cell) { window._pyforest_update_imports_cell('import pandas as pd'); }\n",
       "    "
      ],
      "text/plain": [
       "<IPython.core.display.Javascript object>"
      ]
     },
     "metadata": {},
     "output_type": "display_data"
    },
    {
     "name": "stdout",
     "output_type": "stream",
     "text": [
      "maxCommonNeighborsSyndrome 肝火上扰\n"
     ]
    },
    {
     "data": {
      "application/javascript": [
       "\n",
       "        if (window._pyforest_update_imports_cell) { window._pyforest_update_imports_cell('import pandas as pd'); }\n",
       "    "
      ],
      "text/plain": [
       "<IPython.core.display.Javascript object>"
      ]
     },
     "metadata": {},
     "output_type": "display_data"
    },
    {
     "name": "stdout",
     "output_type": "stream",
     "text": [
      "maxCommonNeighborsSyndrome 肝火上扰\n"
     ]
    },
    {
     "data": {
      "application/javascript": [
       "\n",
       "        if (window._pyforest_update_imports_cell) { window._pyforest_update_imports_cell('import pandas as pd'); }\n",
       "    "
      ],
      "text/plain": [
       "<IPython.core.display.Javascript object>"
      ]
     },
     "metadata": {},
     "output_type": "display_data"
    },
    {
     "name": "stdout",
     "output_type": "stream",
     "text": [
      "maxCommonNeighborsSyndrome 肝火上扰\n"
     ]
    },
    {
     "data": {
      "application/javascript": [
       "\n",
       "        if (window._pyforest_update_imports_cell) { window._pyforest_update_imports_cell('import pandas as pd'); }\n",
       "    "
      ],
      "text/plain": [
       "<IPython.core.display.Javascript object>"
      ]
     },
     "metadata": {},
     "output_type": "display_data"
    },
    {
     "name": "stdout",
     "output_type": "stream",
     "text": [
      "maxCommonNeighborsSyndrome 肝火上扰\n"
     ]
    },
    {
     "data": {
      "application/javascript": [
       "\n",
       "        if (window._pyforest_update_imports_cell) { window._pyforest_update_imports_cell('import pandas as pd'); }\n",
       "    "
      ],
      "text/plain": [
       "<IPython.core.display.Javascript object>"
      ]
     },
     "metadata": {},
     "output_type": "display_data"
    },
    {
     "name": "stdout",
     "output_type": "stream",
     "text": [
      "maxCommonNeighborsSyndrome 肝火上扰\n"
     ]
    },
    {
     "data": {
      "application/javascript": [
       "\n",
       "        if (window._pyforest_update_imports_cell) { window._pyforest_update_imports_cell('import pandas as pd'); }\n",
       "    "
      ],
      "text/plain": [
       "<IPython.core.display.Javascript object>"
      ]
     },
     "metadata": {},
     "output_type": "display_data"
    },
    {
     "name": "stdout",
     "output_type": "stream",
     "text": [
      "maxCommonNeighborsSyndrome 肝火上扰\n"
     ]
    },
    {
     "data": {
      "application/javascript": [
       "\n",
       "        if (window._pyforest_update_imports_cell) { window._pyforest_update_imports_cell('import pandas as pd'); }\n",
       "    "
      ],
      "text/plain": [
       "<IPython.core.display.Javascript object>"
      ]
     },
     "metadata": {},
     "output_type": "display_data"
    },
    {
     "name": "stdout",
     "output_type": "stream",
     "text": [
      "maxCommonNeighborsSyndrome 肝火上扰\n"
     ]
    },
    {
     "data": {
      "application/javascript": [
       "\n",
       "        if (window._pyforest_update_imports_cell) { window._pyforest_update_imports_cell('import pandas as pd'); }\n",
       "    "
      ],
      "text/plain": [
       "<IPython.core.display.Javascript object>"
      ]
     },
     "metadata": {},
     "output_type": "display_data"
    },
    {
     "name": "stdout",
     "output_type": "stream",
     "text": [
      "maxCommonNeighborsSyndrome 肝火上扰\n"
     ]
    },
    {
     "data": {
      "application/javascript": [
       "\n",
       "        if (window._pyforest_update_imports_cell) { window._pyforest_update_imports_cell('import pandas as pd'); }\n",
       "    "
      ],
      "text/plain": [
       "<IPython.core.display.Javascript object>"
      ]
     },
     "metadata": {},
     "output_type": "display_data"
    },
    {
     "name": "stdout",
     "output_type": "stream",
     "text": [
      "maxCommonNeighborsSyndrome 肝火上扰\n"
     ]
    },
    {
     "data": {
      "application/javascript": [
       "\n",
       "        if (window._pyforest_update_imports_cell) { window._pyforest_update_imports_cell('import pandas as pd'); }\n",
       "    "
      ],
      "text/plain": [
       "<IPython.core.display.Javascript object>"
      ]
     },
     "metadata": {},
     "output_type": "display_data"
    },
    {
     "name": "stdout",
     "output_type": "stream",
     "text": [
      "maxCommonNeighborsSyndrome 肝火上扰\n"
     ]
    },
    {
     "data": {
      "application/javascript": [
       "\n",
       "        if (window._pyforest_update_imports_cell) { window._pyforest_update_imports_cell('import pandas as pd'); }\n",
       "    "
      ],
      "text/plain": [
       "<IPython.core.display.Javascript object>"
      ]
     },
     "metadata": {},
     "output_type": "display_data"
    },
    {
     "name": "stdout",
     "output_type": "stream",
     "text": [
      "maxCommonNeighborsSyndrome 肝火上扰\n"
     ]
    },
    {
     "data": {
      "application/javascript": [
       "\n",
       "        if (window._pyforest_update_imports_cell) { window._pyforest_update_imports_cell('import pandas as pd'); }\n",
       "    "
      ],
      "text/plain": [
       "<IPython.core.display.Javascript object>"
      ]
     },
     "metadata": {},
     "output_type": "display_data"
    },
    {
     "name": "stdout",
     "output_type": "stream",
     "text": [
      "maxCommonNeighborsSyndrome 肝火上扰\n"
     ]
    },
    {
     "data": {
      "application/javascript": [
       "\n",
       "        if (window._pyforest_update_imports_cell) { window._pyforest_update_imports_cell('import pandas as pd'); }\n",
       "    "
      ],
      "text/plain": [
       "<IPython.core.display.Javascript object>"
      ]
     },
     "metadata": {},
     "output_type": "display_data"
    },
    {
     "name": "stdout",
     "output_type": "stream",
     "text": [
      "maxCommonNeighborsSyndrome 肝火上扰\n"
     ]
    },
    {
     "data": {
      "application/javascript": [
       "\n",
       "        if (window._pyforest_update_imports_cell) { window._pyforest_update_imports_cell('import pandas as pd'); }\n",
       "    "
      ],
      "text/plain": [
       "<IPython.core.display.Javascript object>"
      ]
     },
     "metadata": {},
     "output_type": "display_data"
    },
    {
     "name": "stdout",
     "output_type": "stream",
     "text": [
      "maxCommonNeighborsSyndrome 肝火上扰\n"
     ]
    },
    {
     "data": {
      "application/javascript": [
       "\n",
       "        if (window._pyforest_update_imports_cell) { window._pyforest_update_imports_cell('import pandas as pd'); }\n",
       "    "
      ],
      "text/plain": [
       "<IPython.core.display.Javascript object>"
      ]
     },
     "metadata": {},
     "output_type": "display_data"
    },
    {
     "name": "stdout",
     "output_type": "stream",
     "text": [
      "maxCommonNeighborsSyndrome 肝火上扰\n"
     ]
    },
    {
     "data": {
      "application/javascript": [
       "\n",
       "        if (window._pyforest_update_imports_cell) { window._pyforest_update_imports_cell('import pandas as pd'); }\n",
       "    "
      ],
      "text/plain": [
       "<IPython.core.display.Javascript object>"
      ]
     },
     "metadata": {},
     "output_type": "display_data"
    },
    {
     "name": "stdout",
     "output_type": "stream",
     "text": [
      "maxCommonNeighborsSyndrome 肝火上扰\n"
     ]
    },
    {
     "data": {
      "application/javascript": [
       "\n",
       "        if (window._pyforest_update_imports_cell) { window._pyforest_update_imports_cell('import pandas as pd'); }\n",
       "    "
      ],
      "text/plain": [
       "<IPython.core.display.Javascript object>"
      ]
     },
     "metadata": {},
     "output_type": "display_data"
    },
    {
     "name": "stdout",
     "output_type": "stream",
     "text": [
      "maxCommonNeighborsSyndrome 肝火上扰\n"
     ]
    },
    {
     "data": {
      "application/javascript": [
       "\n",
       "        if (window._pyforest_update_imports_cell) { window._pyforest_update_imports_cell('import pandas as pd'); }\n",
       "    "
      ],
      "text/plain": [
       "<IPython.core.display.Javascript object>"
      ]
     },
     "metadata": {},
     "output_type": "display_data"
    },
    {
     "name": "stdout",
     "output_type": "stream",
     "text": [
      "maxCommonNeighborsSyndrome 肝火上扰\n"
     ]
    },
    {
     "data": {
      "application/javascript": [
       "\n",
       "        if (window._pyforest_update_imports_cell) { window._pyforest_update_imports_cell('import pandas as pd'); }\n",
       "    "
      ],
      "text/plain": [
       "<IPython.core.display.Javascript object>"
      ]
     },
     "metadata": {},
     "output_type": "display_data"
    },
    {
     "name": "stdout",
     "output_type": "stream",
     "text": [
      "maxCommonNeighborsSyndrome 肝火上扰\n"
     ]
    },
    {
     "data": {
      "application/javascript": [
       "\n",
       "        if (window._pyforest_update_imports_cell) { window._pyforest_update_imports_cell('import pandas as pd'); }\n",
       "    "
      ],
      "text/plain": [
       "<IPython.core.display.Javascript object>"
      ]
     },
     "metadata": {},
     "output_type": "display_data"
    },
    {
     "name": "stdout",
     "output_type": "stream",
     "text": [
      "maxCommonNeighborsSyndrome 肝火上扰\n"
     ]
    },
    {
     "data": {
      "application/javascript": [
       "\n",
       "        if (window._pyforest_update_imports_cell) { window._pyforest_update_imports_cell('import pandas as pd'); }\n",
       "    "
      ],
      "text/plain": [
       "<IPython.core.display.Javascript object>"
      ]
     },
     "metadata": {},
     "output_type": "display_data"
    },
    {
     "name": "stdout",
     "output_type": "stream",
     "text": [
      "maxCommonNeighborsSyndrome 肝火上扰\n"
     ]
    },
    {
     "data": {
      "application/javascript": [
       "\n",
       "        if (window._pyforest_update_imports_cell) { window._pyforest_update_imports_cell('import pandas as pd'); }\n",
       "    "
      ],
      "text/plain": [
       "<IPython.core.display.Javascript object>"
      ]
     },
     "metadata": {},
     "output_type": "display_data"
    },
    {
     "name": "stdout",
     "output_type": "stream",
     "text": [
      "maxCommonNeighborsSyndrome 肝火上扰\n"
     ]
    },
    {
     "data": {
      "application/javascript": [
       "\n",
       "        if (window._pyforest_update_imports_cell) { window._pyforest_update_imports_cell('import pandas as pd'); }\n",
       "    "
      ],
      "text/plain": [
       "<IPython.core.display.Javascript object>"
      ]
     },
     "metadata": {},
     "output_type": "display_data"
    },
    {
     "name": "stdout",
     "output_type": "stream",
     "text": [
      "maxCommonNeighborsSyndrome 肝火上扰\n"
     ]
    },
    {
     "data": {
      "application/javascript": [
       "\n",
       "        if (window._pyforest_update_imports_cell) { window._pyforest_update_imports_cell('import pandas as pd'); }\n",
       "    "
      ],
      "text/plain": [
       "<IPython.core.display.Javascript object>"
      ]
     },
     "metadata": {},
     "output_type": "display_data"
    },
    {
     "name": "stdout",
     "output_type": "stream",
     "text": [
      "maxCommonNeighborsSyndrome 肝火上扰\n"
     ]
    },
    {
     "data": {
      "application/javascript": [
       "\n",
       "        if (window._pyforest_update_imports_cell) { window._pyforest_update_imports_cell('import pandas as pd'); }\n",
       "    "
      ],
      "text/plain": [
       "<IPython.core.display.Javascript object>"
      ]
     },
     "metadata": {},
     "output_type": "display_data"
    },
    {
     "name": "stdout",
     "output_type": "stream",
     "text": [
      "maxCommonNeighborsSyndrome 肝火上扰\n"
     ]
    },
    {
     "data": {
      "application/javascript": [
       "\n",
       "        if (window._pyforest_update_imports_cell) { window._pyforest_update_imports_cell('import pandas as pd'); }\n",
       "    "
      ],
      "text/plain": [
       "<IPython.core.display.Javascript object>"
      ]
     },
     "metadata": {},
     "output_type": "display_data"
    },
    {
     "name": "stdout",
     "output_type": "stream",
     "text": [
      "maxCommonNeighborsSyndrome 肝火上扰\n"
     ]
    },
    {
     "data": {
      "application/javascript": [
       "\n",
       "        if (window._pyforest_update_imports_cell) { window._pyforest_update_imports_cell('import pandas as pd'); }\n",
       "    "
      ],
      "text/plain": [
       "<IPython.core.display.Javascript object>"
      ]
     },
     "metadata": {},
     "output_type": "display_data"
    },
    {
     "name": "stdout",
     "output_type": "stream",
     "text": [
      "maxCommonNeighborsSyndrome 肝火上扰\n"
     ]
    },
    {
     "data": {
      "application/javascript": [
       "\n",
       "        if (window._pyforest_update_imports_cell) { window._pyforest_update_imports_cell('import pandas as pd'); }\n",
       "    "
      ],
      "text/plain": [
       "<IPython.core.display.Javascript object>"
      ]
     },
     "metadata": {},
     "output_type": "display_data"
    },
    {
     "name": "stdout",
     "output_type": "stream",
     "text": [
      "maxCommonNeighborsSyndrome 肝火上扰\n"
     ]
    },
    {
     "data": {
      "application/javascript": [
       "\n",
       "        if (window._pyforest_update_imports_cell) { window._pyforest_update_imports_cell('import pandas as pd'); }\n",
       "    "
      ],
      "text/plain": [
       "<IPython.core.display.Javascript object>"
      ]
     },
     "metadata": {},
     "output_type": "display_data"
    },
    {
     "name": "stdout",
     "output_type": "stream",
     "text": [
      "maxCommonNeighborsSyndrome 肝火上扰\n"
     ]
    },
    {
     "data": {
      "application/javascript": [
       "\n",
       "        if (window._pyforest_update_imports_cell) { window._pyforest_update_imports_cell('import pandas as pd'); }\n",
       "    "
      ],
      "text/plain": [
       "<IPython.core.display.Javascript object>"
      ]
     },
     "metadata": {},
     "output_type": "display_data"
    },
    {
     "name": "stdout",
     "output_type": "stream",
     "text": [
      "maxCommonNeighborsSyndrome 肝火上扰\n"
     ]
    },
    {
     "data": {
      "application/javascript": [
       "\n",
       "        if (window._pyforest_update_imports_cell) { window._pyforest_update_imports_cell('import pandas as pd'); }\n",
       "    "
      ],
      "text/plain": [
       "<IPython.core.display.Javascript object>"
      ]
     },
     "metadata": {},
     "output_type": "display_data"
    },
    {
     "name": "stdout",
     "output_type": "stream",
     "text": [
      "maxCommonNeighborsSyndrome 肝火上扰\n"
     ]
    },
    {
     "data": {
      "application/javascript": [
       "\n",
       "        if (window._pyforest_update_imports_cell) { window._pyforest_update_imports_cell('import pandas as pd'); }\n",
       "    "
      ],
      "text/plain": [
       "<IPython.core.display.Javascript object>"
      ]
     },
     "metadata": {},
     "output_type": "display_data"
    },
    {
     "name": "stdout",
     "output_type": "stream",
     "text": [
      "maxCommonNeighborsSyndrome 肝火上扰\n"
     ]
    },
    {
     "data": {
      "application/javascript": [
       "\n",
       "        if (window._pyforest_update_imports_cell) { window._pyforest_update_imports_cell('import pandas as pd'); }\n",
       "    "
      ],
      "text/plain": [
       "<IPython.core.display.Javascript object>"
      ]
     },
     "metadata": {},
     "output_type": "display_data"
    },
    {
     "name": "stdout",
     "output_type": "stream",
     "text": [
      "maxCommonNeighborsSyndrome 肝火上扰\n"
     ]
    },
    {
     "data": {
      "application/javascript": [
       "\n",
       "        if (window._pyforest_update_imports_cell) { window._pyforest_update_imports_cell('import pandas as pd'); }\n",
       "    "
      ],
      "text/plain": [
       "<IPython.core.display.Javascript object>"
      ]
     },
     "metadata": {},
     "output_type": "display_data"
    },
    {
     "name": "stdout",
     "output_type": "stream",
     "text": [
      "maxCommonNeighborsSyndrome 肝火上扰\n"
     ]
    },
    {
     "data": {
      "application/javascript": [
       "\n",
       "        if (window._pyforest_update_imports_cell) { window._pyforest_update_imports_cell('import pandas as pd'); }\n",
       "    "
      ],
      "text/plain": [
       "<IPython.core.display.Javascript object>"
      ]
     },
     "metadata": {},
     "output_type": "display_data"
    },
    {
     "name": "stdout",
     "output_type": "stream",
     "text": [
      "maxCommonNeighborsSyndrome 肝火上扰\n"
     ]
    },
    {
     "data": {
      "application/javascript": [
       "\n",
       "        if (window._pyforest_update_imports_cell) { window._pyforest_update_imports_cell('import pandas as pd'); }\n",
       "    "
      ],
      "text/plain": [
       "<IPython.core.display.Javascript object>"
      ]
     },
     "metadata": {},
     "output_type": "display_data"
    },
    {
     "name": "stdout",
     "output_type": "stream",
     "text": [
      "maxCommonNeighborsSyndrome 肝火上扰\n"
     ]
    },
    {
     "data": {
      "application/javascript": [
       "\n",
       "        if (window._pyforest_update_imports_cell) { window._pyforest_update_imports_cell('import pandas as pd'); }\n",
       "    "
      ],
      "text/plain": [
       "<IPython.core.display.Javascript object>"
      ]
     },
     "metadata": {},
     "output_type": "display_data"
    },
    {
     "name": "stdout",
     "output_type": "stream",
     "text": [
      "maxCommonNeighborsSyndrome 肝火上扰\n"
     ]
    },
    {
     "data": {
      "application/javascript": [
       "\n",
       "        if (window._pyforest_update_imports_cell) { window._pyforest_update_imports_cell('import pandas as pd'); }\n",
       "    "
      ],
      "text/plain": [
       "<IPython.core.display.Javascript object>"
      ]
     },
     "metadata": {},
     "output_type": "display_data"
    },
    {
     "name": "stdout",
     "output_type": "stream",
     "text": [
      "maxCommonNeighborsSyndrome 肝火上扰\n"
     ]
    },
    {
     "data": {
      "application/javascript": [
       "\n",
       "        if (window._pyforest_update_imports_cell) { window._pyforest_update_imports_cell('import pandas as pd'); }\n",
       "    "
      ],
      "text/plain": [
       "<IPython.core.display.Javascript object>"
      ]
     },
     "metadata": {},
     "output_type": "display_data"
    },
    {
     "name": "stdout",
     "output_type": "stream",
     "text": [
      "maxCommonNeighborsSyndrome 肝火上扰\n"
     ]
    },
    {
     "data": {
      "application/javascript": [
       "\n",
       "        if (window._pyforest_update_imports_cell) { window._pyforest_update_imports_cell('import pandas as pd'); }\n",
       "    "
      ],
      "text/plain": [
       "<IPython.core.display.Javascript object>"
      ]
     },
     "metadata": {},
     "output_type": "display_data"
    },
    {
     "name": "stdout",
     "output_type": "stream",
     "text": [
      "maxCommonNeighborsSyndrome 肝火上扰\n"
     ]
    },
    {
     "data": {
      "application/javascript": [
       "\n",
       "        if (window._pyforest_update_imports_cell) { window._pyforest_update_imports_cell('import pandas as pd'); }\n",
       "    "
      ],
      "text/plain": [
       "<IPython.core.display.Javascript object>"
      ]
     },
     "metadata": {},
     "output_type": "display_data"
    },
    {
     "name": "stdout",
     "output_type": "stream",
     "text": [
      "maxCommonNeighborsSyndrome 肝火上扰\n"
     ]
    },
    {
     "data": {
      "application/javascript": [
       "\n",
       "        if (window._pyforest_update_imports_cell) { window._pyforest_update_imports_cell('import pandas as pd'); }\n",
       "    "
      ],
      "text/plain": [
       "<IPython.core.display.Javascript object>"
      ]
     },
     "metadata": {},
     "output_type": "display_data"
    },
    {
     "name": "stdout",
     "output_type": "stream",
     "text": [
      "maxCommonNeighborsSyndrome 肝火上扰\n"
     ]
    },
    {
     "data": {
      "application/javascript": [
       "\n",
       "        if (window._pyforest_update_imports_cell) { window._pyforest_update_imports_cell('import pandas as pd'); }\n",
       "    "
      ],
      "text/plain": [
       "<IPython.core.display.Javascript object>"
      ]
     },
     "metadata": {},
     "output_type": "display_data"
    },
    {
     "name": "stdout",
     "output_type": "stream",
     "text": [
      "maxCommonNeighborsSyndrome 肝火上扰\n"
     ]
    },
    {
     "data": {
      "application/javascript": [
       "\n",
       "        if (window._pyforest_update_imports_cell) { window._pyforest_update_imports_cell('import pandas as pd'); }\n",
       "    "
      ],
      "text/plain": [
       "<IPython.core.display.Javascript object>"
      ]
     },
     "metadata": {},
     "output_type": "display_data"
    },
    {
     "name": "stdout",
     "output_type": "stream",
     "text": [
      "maxCommonNeighborsSyndrome 肝火上扰\n"
     ]
    },
    {
     "data": {
      "application/javascript": [
       "\n",
       "        if (window._pyforest_update_imports_cell) { window._pyforest_update_imports_cell('import pandas as pd'); }\n",
       "    "
      ],
      "text/plain": [
       "<IPython.core.display.Javascript object>"
      ]
     },
     "metadata": {},
     "output_type": "display_data"
    },
    {
     "name": "stdout",
     "output_type": "stream",
     "text": [
      "maxCommonNeighborsSyndrome 肝火上扰\n"
     ]
    },
    {
     "data": {
      "application/javascript": [
       "\n",
       "        if (window._pyforest_update_imports_cell) { window._pyforest_update_imports_cell('import pandas as pd'); }\n",
       "    "
      ],
      "text/plain": [
       "<IPython.core.display.Javascript object>"
      ]
     },
     "metadata": {},
     "output_type": "display_data"
    },
    {
     "name": "stdout",
     "output_type": "stream",
     "text": [
      "maxCommonNeighborsSyndrome 肝火上扰\n"
     ]
    },
    {
     "data": {
      "application/javascript": [
       "\n",
       "        if (window._pyforest_update_imports_cell) { window._pyforest_update_imports_cell('import pandas as pd'); }\n",
       "    "
      ],
      "text/plain": [
       "<IPython.core.display.Javascript object>"
      ]
     },
     "metadata": {},
     "output_type": "display_data"
    },
    {
     "name": "stdout",
     "output_type": "stream",
     "text": [
      "maxCommonNeighborsSyndrome 肝火上扰\n"
     ]
    },
    {
     "data": {
      "application/javascript": [
       "\n",
       "        if (window._pyforest_update_imports_cell) { window._pyforest_update_imports_cell('import pandas as pd'); }\n",
       "    "
      ],
      "text/plain": [
       "<IPython.core.display.Javascript object>"
      ]
     },
     "metadata": {},
     "output_type": "display_data"
    },
    {
     "name": "stdout",
     "output_type": "stream",
     "text": [
      "maxCommonNeighborsSyndrome 肝火上扰\n"
     ]
    },
    {
     "data": {
      "application/javascript": [
       "\n",
       "        if (window._pyforest_update_imports_cell) { window._pyforest_update_imports_cell('import pandas as pd'); }\n",
       "    "
      ],
      "text/plain": [
       "<IPython.core.display.Javascript object>"
      ]
     },
     "metadata": {},
     "output_type": "display_data"
    },
    {
     "name": "stdout",
     "output_type": "stream",
     "text": [
      "maxCommonNeighborsSyndrome 肝火上扰\n"
     ]
    },
    {
     "data": {
      "application/javascript": [
       "\n",
       "        if (window._pyforest_update_imports_cell) { window._pyforest_update_imports_cell('import pandas as pd'); }\n",
       "    "
      ],
      "text/plain": [
       "<IPython.core.display.Javascript object>"
      ]
     },
     "metadata": {},
     "output_type": "display_data"
    },
    {
     "name": "stdout",
     "output_type": "stream",
     "text": [
      "maxCommonNeighborsSyndrome 肝火上扰\n"
     ]
    },
    {
     "data": {
      "application/javascript": [
       "\n",
       "        if (window._pyforest_update_imports_cell) { window._pyforest_update_imports_cell('import pandas as pd'); }\n",
       "    "
      ],
      "text/plain": [
       "<IPython.core.display.Javascript object>"
      ]
     },
     "metadata": {},
     "output_type": "display_data"
    },
    {
     "name": "stdout",
     "output_type": "stream",
     "text": [
      "maxCommonNeighborsSyndrome 肝火上扰\n"
     ]
    },
    {
     "data": {
      "application/javascript": [
       "\n",
       "        if (window._pyforest_update_imports_cell) { window._pyforest_update_imports_cell('import pandas as pd'); }\n",
       "    "
      ],
      "text/plain": [
       "<IPython.core.display.Javascript object>"
      ]
     },
     "metadata": {},
     "output_type": "display_data"
    },
    {
     "name": "stdout",
     "output_type": "stream",
     "text": [
      "maxCommonNeighborsSyndrome 肝火上扰\n"
     ]
    },
    {
     "data": {
      "application/javascript": [
       "\n",
       "        if (window._pyforest_update_imports_cell) { window._pyforest_update_imports_cell('import pandas as pd'); }\n",
       "    "
      ],
      "text/plain": [
       "<IPython.core.display.Javascript object>"
      ]
     },
     "metadata": {},
     "output_type": "display_data"
    },
    {
     "name": "stdout",
     "output_type": "stream",
     "text": [
      "maxCommonNeighborsSyndrome 肝火上扰\n"
     ]
    },
    {
     "data": {
      "application/javascript": [
       "\n",
       "        if (window._pyforest_update_imports_cell) { window._pyforest_update_imports_cell('import pandas as pd'); }\n",
       "    "
      ],
      "text/plain": [
       "<IPython.core.display.Javascript object>"
      ]
     },
     "metadata": {},
     "output_type": "display_data"
    },
    {
     "name": "stdout",
     "output_type": "stream",
     "text": [
      "maxCommonNeighborsSyndrome 肝火上扰\n"
     ]
    },
    {
     "data": {
      "application/javascript": [
       "\n",
       "        if (window._pyforest_update_imports_cell) { window._pyforest_update_imports_cell('import pandas as pd'); }\n",
       "    "
      ],
      "text/plain": [
       "<IPython.core.display.Javascript object>"
      ]
     },
     "metadata": {},
     "output_type": "display_data"
    },
    {
     "name": "stdout",
     "output_type": "stream",
     "text": [
      "maxCommonNeighborsSyndrome 肝火上扰\n"
     ]
    },
    {
     "data": {
      "application/javascript": [
       "\n",
       "        if (window._pyforest_update_imports_cell) { window._pyforest_update_imports_cell('import pandas as pd'); }\n",
       "    "
      ],
      "text/plain": [
       "<IPython.core.display.Javascript object>"
      ]
     },
     "metadata": {},
     "output_type": "display_data"
    },
    {
     "name": "stdout",
     "output_type": "stream",
     "text": [
      "maxCommonNeighborsSyndrome 肝火上扰\n"
     ]
    },
    {
     "data": {
      "application/javascript": [
       "\n",
       "        if (window._pyforest_update_imports_cell) { window._pyforest_update_imports_cell('import pandas as pd'); }\n",
       "    "
      ],
      "text/plain": [
       "<IPython.core.display.Javascript object>"
      ]
     },
     "metadata": {},
     "output_type": "display_data"
    },
    {
     "name": "stdout",
     "output_type": "stream",
     "text": [
      "maxCommonNeighborsSyndrome 肝火上扰\n"
     ]
    },
    {
     "data": {
      "application/javascript": [
       "\n",
       "        if (window._pyforest_update_imports_cell) { window._pyforest_update_imports_cell('import pandas as pd'); }\n",
       "    "
      ],
      "text/plain": [
       "<IPython.core.display.Javascript object>"
      ]
     },
     "metadata": {},
     "output_type": "display_data"
    },
    {
     "name": "stdout",
     "output_type": "stream",
     "text": [
      "maxCommonNeighborsSyndrome 肝火上扰\n"
     ]
    },
    {
     "data": {
      "application/javascript": [
       "\n",
       "        if (window._pyforest_update_imports_cell) { window._pyforest_update_imports_cell('import pandas as pd'); }\n",
       "    "
      ],
      "text/plain": [
       "<IPython.core.display.Javascript object>"
      ]
     },
     "metadata": {},
     "output_type": "display_data"
    },
    {
     "name": "stdout",
     "output_type": "stream",
     "text": [
      "maxCommonNeighborsSyndrome 肝火上扰\n"
     ]
    },
    {
     "data": {
      "application/javascript": [
       "\n",
       "        if (window._pyforest_update_imports_cell) { window._pyforest_update_imports_cell('import pandas as pd'); }\n",
       "    "
      ],
      "text/plain": [
       "<IPython.core.display.Javascript object>"
      ]
     },
     "metadata": {},
     "output_type": "display_data"
    },
    {
     "name": "stdout",
     "output_type": "stream",
     "text": [
      "maxCommonNeighborsSyndrome 肝火上扰\n"
     ]
    },
    {
     "data": {
      "application/javascript": [
       "\n",
       "        if (window._pyforest_update_imports_cell) { window._pyforest_update_imports_cell('import pandas as pd'); }\n",
       "    "
      ],
      "text/plain": [
       "<IPython.core.display.Javascript object>"
      ]
     },
     "metadata": {},
     "output_type": "display_data"
    },
    {
     "name": "stdout",
     "output_type": "stream",
     "text": [
      "maxCommonNeighborsSyndrome 肝火上扰\n"
     ]
    },
    {
     "data": {
      "application/javascript": [
       "\n",
       "        if (window._pyforest_update_imports_cell) { window._pyforest_update_imports_cell('import pandas as pd'); }\n",
       "    "
      ],
      "text/plain": [
       "<IPython.core.display.Javascript object>"
      ]
     },
     "metadata": {},
     "output_type": "display_data"
    },
    {
     "name": "stdout",
     "output_type": "stream",
     "text": [
      "maxCommonNeighborsSyndrome 肝火上扰\n"
     ]
    },
    {
     "data": {
      "application/javascript": [
       "\n",
       "        if (window._pyforest_update_imports_cell) { window._pyforest_update_imports_cell('import pandas as pd'); }\n",
       "    "
      ],
      "text/plain": [
       "<IPython.core.display.Javascript object>"
      ]
     },
     "metadata": {},
     "output_type": "display_data"
    },
    {
     "name": "stdout",
     "output_type": "stream",
     "text": [
      "maxCommonNeighborsSyndrome 肝火上扰\n"
     ]
    },
    {
     "data": {
      "application/javascript": [
       "\n",
       "        if (window._pyforest_update_imports_cell) { window._pyforest_update_imports_cell('import pandas as pd'); }\n",
       "    "
      ],
      "text/plain": [
       "<IPython.core.display.Javascript object>"
      ]
     },
     "metadata": {},
     "output_type": "display_data"
    },
    {
     "name": "stdout",
     "output_type": "stream",
     "text": [
      "maxCommonNeighborsSyndrome 肝火上扰\n"
     ]
    },
    {
     "data": {
      "application/javascript": [
       "\n",
       "        if (window._pyforest_update_imports_cell) { window._pyforest_update_imports_cell('import pandas as pd'); }\n",
       "    "
      ],
      "text/plain": [
       "<IPython.core.display.Javascript object>"
      ]
     },
     "metadata": {},
     "output_type": "display_data"
    },
    {
     "name": "stdout",
     "output_type": "stream",
     "text": [
      "maxCommonNeighborsSyndrome 肝火上扰\n"
     ]
    },
    {
     "data": {
      "application/javascript": [
       "\n",
       "        if (window._pyforest_update_imports_cell) { window._pyforest_update_imports_cell('import pandas as pd'); }\n",
       "    "
      ],
      "text/plain": [
       "<IPython.core.display.Javascript object>"
      ]
     },
     "metadata": {},
     "output_type": "display_data"
    },
    {
     "name": "stdout",
     "output_type": "stream",
     "text": [
      "maxCommonNeighborsSyndrome 肝火上扰\n"
     ]
    },
    {
     "data": {
      "application/javascript": [
       "\n",
       "        if (window._pyforest_update_imports_cell) { window._pyforest_update_imports_cell('import pandas as pd'); }\n",
       "    "
      ],
      "text/plain": [
       "<IPython.core.display.Javascript object>"
      ]
     },
     "metadata": {},
     "output_type": "display_data"
    },
    {
     "name": "stdout",
     "output_type": "stream",
     "text": [
      "maxCommonNeighborsSyndrome 肝火上扰\n"
     ]
    },
    {
     "data": {
      "application/javascript": [
       "\n",
       "        if (window._pyforest_update_imports_cell) { window._pyforest_update_imports_cell('import pandas as pd'); }\n",
       "    "
      ],
      "text/plain": [
       "<IPython.core.display.Javascript object>"
      ]
     },
     "metadata": {},
     "output_type": "display_data"
    },
    {
     "name": "stdout",
     "output_type": "stream",
     "text": [
      "maxCommonNeighborsSyndrome 肝火上扰\n"
     ]
    },
    {
     "data": {
      "application/javascript": [
       "\n",
       "        if (window._pyforest_update_imports_cell) { window._pyforest_update_imports_cell('import pandas as pd'); }\n",
       "    "
      ],
      "text/plain": [
       "<IPython.core.display.Javascript object>"
      ]
     },
     "metadata": {},
     "output_type": "display_data"
    },
    {
     "name": "stdout",
     "output_type": "stream",
     "text": [
      "maxCommonNeighborsSyndrome 肝火上扰\n"
     ]
    },
    {
     "data": {
      "application/javascript": [
       "\n",
       "        if (window._pyforest_update_imports_cell) { window._pyforest_update_imports_cell('import pandas as pd'); }\n",
       "    "
      ],
      "text/plain": [
       "<IPython.core.display.Javascript object>"
      ]
     },
     "metadata": {},
     "output_type": "display_data"
    },
    {
     "name": "stdout",
     "output_type": "stream",
     "text": [
      "maxCommonNeighborsSyndrome 肝火上扰\n"
     ]
    },
    {
     "data": {
      "application/javascript": [
       "\n",
       "        if (window._pyforest_update_imports_cell) { window._pyforest_update_imports_cell('import pandas as pd'); }\n",
       "    "
      ],
      "text/plain": [
       "<IPython.core.display.Javascript object>"
      ]
     },
     "metadata": {},
     "output_type": "display_data"
    },
    {
     "name": "stdout",
     "output_type": "stream",
     "text": [
      "maxCommonNeighborsSyndrome 肝火上扰\n"
     ]
    },
    {
     "data": {
      "application/javascript": [
       "\n",
       "        if (window._pyforest_update_imports_cell) { window._pyforest_update_imports_cell('import pandas as pd'); }\n",
       "    "
      ],
      "text/plain": [
       "<IPython.core.display.Javascript object>"
      ]
     },
     "metadata": {},
     "output_type": "display_data"
    },
    {
     "name": "stdout",
     "output_type": "stream",
     "text": [
      "maxCommonNeighborsSyndrome 肝火上扰\n"
     ]
    },
    {
     "data": {
      "application/javascript": [
       "\n",
       "        if (window._pyforest_update_imports_cell) { window._pyforest_update_imports_cell('import pandas as pd'); }\n",
       "    "
      ],
      "text/plain": [
       "<IPython.core.display.Javascript object>"
      ]
     },
     "metadata": {},
     "output_type": "display_data"
    },
    {
     "name": "stdout",
     "output_type": "stream",
     "text": [
      "maxCommonNeighborsSyndrome 肝火上扰\n"
     ]
    },
    {
     "data": {
      "application/javascript": [
       "\n",
       "        if (window._pyforest_update_imports_cell) { window._pyforest_update_imports_cell('import pandas as pd'); }\n",
       "    "
      ],
      "text/plain": [
       "<IPython.core.display.Javascript object>"
      ]
     },
     "metadata": {},
     "output_type": "display_data"
    },
    {
     "name": "stdout",
     "output_type": "stream",
     "text": [
      "maxCommonNeighborsSyndrome 肝火上扰\n"
     ]
    },
    {
     "data": {
      "application/javascript": [
       "\n",
       "        if (window._pyforest_update_imports_cell) { window._pyforest_update_imports_cell('import pandas as pd'); }\n",
       "    "
      ],
      "text/plain": [
       "<IPython.core.display.Javascript object>"
      ]
     },
     "metadata": {},
     "output_type": "display_data"
    },
    {
     "name": "stdout",
     "output_type": "stream",
     "text": [
      "maxCommonNeighborsSyndrome 肝火上扰\n"
     ]
    },
    {
     "data": {
      "application/javascript": [
       "\n",
       "        if (window._pyforest_update_imports_cell) { window._pyforest_update_imports_cell('import pandas as pd'); }\n",
       "    "
      ],
      "text/plain": [
       "<IPython.core.display.Javascript object>"
      ]
     },
     "metadata": {},
     "output_type": "display_data"
    },
    {
     "name": "stdout",
     "output_type": "stream",
     "text": [
      "maxCommonNeighborsSyndrome 肝火上扰\n"
     ]
    },
    {
     "data": {
      "application/javascript": [
       "\n",
       "        if (window._pyforest_update_imports_cell) { window._pyforest_update_imports_cell('import pandas as pd'); }\n",
       "    "
      ],
      "text/plain": [
       "<IPython.core.display.Javascript object>"
      ]
     },
     "metadata": {},
     "output_type": "display_data"
    },
    {
     "name": "stdout",
     "output_type": "stream",
     "text": [
      "maxCommonNeighborsSyndrome 肝火上扰\n"
     ]
    }
   ],
   "source": [
    "data_Syndrome1=[]\n",
    "data_Syndrome1_=[]\n",
    "data_Syndrome2_=[]\n",
    "result_commonNeighbors_=[]\n",
    "patients1=[]\n",
    "patients2=[]\n",
    "result_Syndrome=[]\n",
    "#训练集trainData[\"患者\"]\n",
    "label='中医辨证'\n",
    "# label='二十五音'\n",
    "#所有数据\n",
    "for patientName1 in testData[\"患者\"]:\n",
    "    data_Syndrome2=[]\n",
    "    result_commonNeighbors=[]\n",
    "    patient1_Syndrome=graph.nodes.match('Patient', name=f'{patientName1}').first()[f'{label}']\n",
    "    data_Syndrome1.append(patient1_Syndrome)\n",
    "    for patientName2 in trainData[\"患者\"]:\n",
    "        if patientName1 != patientName2:\n",
    "            cypher_=\"MATCH (p1:Patient {name:\\'\"+f'{patientName1}'+\"\\'}) MATCH (p2:Patient {name: \\'\"+f'{patientName2}'+\"\\'}) RETURN gds.alpha.linkprediction.commonNeighbors(p1, p2,{relationshipQuery: \\'weight\\'}) AS score\"\n",
    "            data_commonNeighbors = graph.run(cypher_).to_data_frame()\n",
    "            patient2_Syndrome=graph.nodes.match('Patient', name=f'{patientName2}').first()[f'{label}']\n",
    "            data_Syndrome2.append(patient2_Syndrome)\n",
    "            data_Syndrome1_.append(patient1_Syndrome)\n",
    "            data_Syndrome2_.append(patient2_Syndrome)\n",
    "            result_commonNeighbors_.append(data_commonNeighbors[\"score\"][0])\n",
    "            result_commonNeighbors.append(data_commonNeighbors[\"score\"][0])\n",
    "            patients1.append(patientName1)\n",
    "            patients2.append(patientName2)\n",
    "    commonNeighbors_result1=getMaxcommonNeighborsSyndrome(data_Syndrome2,result_commonNeighbors)\n",
    "    maxCommonNeighborsSyndrome=max_list(commonNeighbors_result1['Patient2证型'].values.tolist())\n",
    "    print(\"maxCommonNeighborsSyndrome\",maxCommonNeighborsSyndrome)\n",
    "    result_Syndrome.append(maxCommonNeighborsSyndrome)\n"
   ]
  },
  {
   "cell_type": "markdown",
   "id": "92222107-e189-4108-af3d-53db7c3fa7af",
   "metadata": {},
   "source": [
    "### 无权重"
   ]
  },
  {
   "cell_type": "code",
   "execution_count": 11,
   "id": "52d5e1da-f853-49b2-9fad-55c6025aaf3d",
   "metadata": {},
   "outputs": [
    {
     "data": {
      "application/javascript": [
       "\n",
       "        if (window._pyforest_update_imports_cell) { window._pyforest_update_imports_cell('import pandas as pd'); }\n",
       "    "
      ],
      "text/plain": [
       "<IPython.core.display.Javascript object>"
      ]
     },
     "metadata": {},
     "output_type": "display_data"
    },
    {
     "name": "stdout",
     "output_type": "stream",
     "text": [
      "maxCommonNeighborsSyndrome 肾精亏虚\n"
     ]
    }
   ],
   "source": [
    "data_Syndrome1=[]\n",
    "data_Syndrome1_=[]\n",
    "data_Syndrome2_=[]\n",
    "result_commonNeighbors_=[]\n",
    "patients1=[]\n",
    "patients2=[]\n",
    "result_Syndrome=[]\n",
    "#训练集trainData[\"患者\"]\n",
    "label='中医辨证'\n",
    "# label='二十五音'\n",
    "#所有数据\n",
    "for patientName1 in ['患者1']:\n",
    "# for patientName1 in testData[\"患者\"]:\n",
    "    data_Syndrome2=[]\n",
    "    result_commonNeighbors=[]\n",
    "    patient1_Syndrome=graph.nodes.match('Patient', name=f'{patientName1}').first()[f'{label}']\n",
    "    data_Syndrome1.append(patient1_Syndrome)\n",
    "    for patientName2 in trainData[\"患者\"]:\n",
    "        if patientName1 != patientName2:\n",
    "            cypher_=\"MATCH (p1:Patient {name:\\'\"+f'{patientName1}'+\"\\'}) MATCH (p2:Patient {name: \\'\"+f'{patientName2}'+\"\\'}) RETURN gds.alpha.linkprediction.commonNeighbors(p1, p2) AS score\"\n",
    "            data_commonNeighbors = graph.run(cypher_).to_data_frame()\n",
    "            patient2_Syndrome=graph.nodes.match('Patient', name=f'{patientName2}').first()[f'{label}']\n",
    "            data_Syndrome2.append(patient2_Syndrome)\n",
    "            data_Syndrome1_.append(patient1_Syndrome)\n",
    "            data_Syndrome2_.append(patient2_Syndrome)\n",
    "            result_commonNeighbors_.append(data_commonNeighbors[\"score\"][0])\n",
    "            result_commonNeighbors.append(data_commonNeighbors[\"score\"][0])\n",
    "            patients1.append(patientName1)\n",
    "            patients2.append(patientName2)\n",
    "    commonNeighbors_result1=getMaxcommonNeighborsSyndrome(data_Syndrome2,result_commonNeighbors)\n",
    "    maxCommonNeighborsSyndrome=max_list(commonNeighbors_result1['Patient2证型'].values.tolist())\n",
    "    print(\"maxCommonNeighborsSyndrome\",maxCommonNeighborsSyndrome)\n",
    "    result_Syndrome.append(maxCommonNeighborsSyndrome)\n"
   ]
  },
  {
   "cell_type": "code",
   "execution_count": 12,
   "id": "99990307-4176-42ea-8d1c-e3ff4e83335f",
   "metadata": {},
   "outputs": [
    {
     "data": {
      "text/html": [
       "<div>\n",
       "<style scoped>\n",
       "    .dataframe tbody tr th:only-of-type {\n",
       "        vertical-align: middle;\n",
       "    }\n",
       "\n",
       "    .dataframe tbody tr th {\n",
       "        vertical-align: top;\n",
       "    }\n",
       "\n",
       "    .dataframe thead th {\n",
       "        text-align: right;\n",
       "    }\n",
       "</style>\n",
       "<table border=\"1\" class=\"dataframe\">\n",
       "  <thead>\n",
       "    <tr style=\"text-align: right;\">\n",
       "      <th></th>\n",
       "      <th>score</th>\n",
       "    </tr>\n",
       "  </thead>\n",
       "  <tbody>\n",
       "    <tr>\n",
       "      <th>0</th>\n",
       "      <td>8.0</td>\n",
       "    </tr>\n",
       "  </tbody>\n",
       "</table>\n",
       "</div>"
      ],
      "text/plain": [
       "   score\n",
       "0    8.0"
      ]
     },
     "execution_count": 12,
     "metadata": {},
     "output_type": "execute_result"
    }
   ],
   "source": [
    "data_commonNeighbors"
   ]
  },
  {
   "cell_type": "markdown",
   "id": "f328be35-2634-4334-b678-3b388c9b52c7",
   "metadata": {},
   "source": [
    "### AA算法"
   ]
  },
  {
   "cell_type": "code",
   "execution_count": 39,
   "id": "3009a3c2-379c-4d98-a665-a70b19fd6c5f",
   "metadata": {},
   "outputs": [
    {
     "data": {
      "application/javascript": [
       "\n",
       "        if (window._pyforest_update_imports_cell) { window._pyforest_update_imports_cell('import pandas as pd'); }\n",
       "    "
      ],
      "text/plain": [
       "<IPython.core.display.Javascript object>"
      ]
     },
     "metadata": {},
     "output_type": "display_data"
    },
    {
     "name": "stdout",
     "output_type": "stream",
     "text": [
      "maxCommonNeighborsSyndrome 肾精亏虚\n"
     ]
    },
    {
     "data": {
      "application/javascript": [
       "\n",
       "        if (window._pyforest_update_imports_cell) { window._pyforest_update_imports_cell('import pandas as pd'); }\n",
       "    "
      ],
      "text/plain": [
       "<IPython.core.display.Javascript object>"
      ]
     },
     "metadata": {},
     "output_type": "display_data"
    },
    {
     "name": "stdout",
     "output_type": "stream",
     "text": [
      "maxCommonNeighborsSyndrome 肾精亏虚\n"
     ]
    },
    {
     "data": {
      "application/javascript": [
       "\n",
       "        if (window._pyforest_update_imports_cell) { window._pyforest_update_imports_cell('import pandas as pd'); }\n",
       "    "
      ],
      "text/plain": [
       "<IPython.core.display.Javascript object>"
      ]
     },
     "metadata": {},
     "output_type": "display_data"
    },
    {
     "name": "stdout",
     "output_type": "stream",
     "text": [
      "maxCommonNeighborsSyndrome 脾胃虚弱\n"
     ]
    },
    {
     "data": {
      "application/javascript": [
       "\n",
       "        if (window._pyforest_update_imports_cell) { window._pyforest_update_imports_cell('import pandas as pd'); }\n",
       "    "
      ],
      "text/plain": [
       "<IPython.core.display.Javascript object>"
      ]
     },
     "metadata": {},
     "output_type": "display_data"
    },
    {
     "name": "stdout",
     "output_type": "stream",
     "text": [
      "maxCommonNeighborsSyndrome 脾胃虚弱\n"
     ]
    },
    {
     "data": {
      "application/javascript": [
       "\n",
       "        if (window._pyforest_update_imports_cell) { window._pyforest_update_imports_cell('import pandas as pd'); }\n",
       "    "
      ],
      "text/plain": [
       "<IPython.core.display.Javascript object>"
      ]
     },
     "metadata": {},
     "output_type": "display_data"
    },
    {
     "name": "stdout",
     "output_type": "stream",
     "text": [
      "maxCommonNeighborsSyndrome 脾胃虚弱\n"
     ]
    },
    {
     "data": {
      "application/javascript": [
       "\n",
       "        if (window._pyforest_update_imports_cell) { window._pyforest_update_imports_cell('import pandas as pd'); }\n",
       "    "
      ],
      "text/plain": [
       "<IPython.core.display.Javascript object>"
      ]
     },
     "metadata": {},
     "output_type": "display_data"
    },
    {
     "name": "stdout",
     "output_type": "stream",
     "text": [
      "maxCommonNeighborsSyndrome 脾胃虚弱\n"
     ]
    },
    {
     "data": {
      "application/javascript": [
       "\n",
       "        if (window._pyforest_update_imports_cell) { window._pyforest_update_imports_cell('import pandas as pd'); }\n",
       "    "
      ],
      "text/plain": [
       "<IPython.core.display.Javascript object>"
      ]
     },
     "metadata": {},
     "output_type": "display_data"
    },
    {
     "name": "stdout",
     "output_type": "stream",
     "text": [
      "maxCommonNeighborsSyndrome 脾胃虚弱\n"
     ]
    },
    {
     "data": {
      "application/javascript": [
       "\n",
       "        if (window._pyforest_update_imports_cell) { window._pyforest_update_imports_cell('import pandas as pd'); }\n",
       "    "
      ],
      "text/plain": [
       "<IPython.core.display.Javascript object>"
      ]
     },
     "metadata": {},
     "output_type": "display_data"
    },
    {
     "name": "stdout",
     "output_type": "stream",
     "text": [
      "maxCommonNeighborsSyndrome 脾胃虚弱\n"
     ]
    },
    {
     "data": {
      "application/javascript": [
       "\n",
       "        if (window._pyforest_update_imports_cell) { window._pyforest_update_imports_cell('import pandas as pd'); }\n",
       "    "
      ],
      "text/plain": [
       "<IPython.core.display.Javascript object>"
      ]
     },
     "metadata": {},
     "output_type": "display_data"
    },
    {
     "name": "stdout",
     "output_type": "stream",
     "text": [
      "maxCommonNeighborsSyndrome 肾精亏虚\n"
     ]
    },
    {
     "data": {
      "application/javascript": [
       "\n",
       "        if (window._pyforest_update_imports_cell) { window._pyforest_update_imports_cell('import pandas as pd'); }\n",
       "    "
      ],
      "text/plain": [
       "<IPython.core.display.Javascript object>"
      ]
     },
     "metadata": {},
     "output_type": "display_data"
    },
    {
     "name": "stdout",
     "output_type": "stream",
     "text": [
      "maxCommonNeighborsSyndrome 痰火郁结\n"
     ]
    },
    {
     "data": {
      "application/javascript": [
       "\n",
       "        if (window._pyforest_update_imports_cell) { window._pyforest_update_imports_cell('import pandas as pd'); }\n",
       "    "
      ],
      "text/plain": [
       "<IPython.core.display.Javascript object>"
      ]
     },
     "metadata": {},
     "output_type": "display_data"
    },
    {
     "name": "stdout",
     "output_type": "stream",
     "text": [
      "maxCommonNeighborsSyndrome 痰火郁结\n"
     ]
    },
    {
     "data": {
      "application/javascript": [
       "\n",
       "        if (window._pyforest_update_imports_cell) { window._pyforest_update_imports_cell('import pandas as pd'); }\n",
       "    "
      ],
      "text/plain": [
       "<IPython.core.display.Javascript object>"
      ]
     },
     "metadata": {},
     "output_type": "display_data"
    },
    {
     "name": "stdout",
     "output_type": "stream",
     "text": [
      "maxCommonNeighborsSyndrome 脾胃虚弱\n"
     ]
    },
    {
     "data": {
      "application/javascript": [
       "\n",
       "        if (window._pyforest_update_imports_cell) { window._pyforest_update_imports_cell('import pandas as pd'); }\n",
       "    "
      ],
      "text/plain": [
       "<IPython.core.display.Javascript object>"
      ]
     },
     "metadata": {},
     "output_type": "display_data"
    },
    {
     "name": "stdout",
     "output_type": "stream",
     "text": [
      "maxCommonNeighborsSyndrome 肾精亏虚\n"
     ]
    },
    {
     "data": {
      "application/javascript": [
       "\n",
       "        if (window._pyforest_update_imports_cell) { window._pyforest_update_imports_cell('import pandas as pd'); }\n",
       "    "
      ],
      "text/plain": [
       "<IPython.core.display.Javascript object>"
      ]
     },
     "metadata": {},
     "output_type": "display_data"
    },
    {
     "name": "stdout",
     "output_type": "stream",
     "text": [
      "maxCommonNeighborsSyndrome 脾胃虚弱\n"
     ]
    },
    {
     "data": {
      "application/javascript": [
       "\n",
       "        if (window._pyforest_update_imports_cell) { window._pyforest_update_imports_cell('import pandas as pd'); }\n",
       "    "
      ],
      "text/plain": [
       "<IPython.core.display.Javascript object>"
      ]
     },
     "metadata": {},
     "output_type": "display_data"
    },
    {
     "name": "stdout",
     "output_type": "stream",
     "text": [
      "maxCommonNeighborsSyndrome 脾胃虚弱\n"
     ]
    },
    {
     "data": {
      "application/javascript": [
       "\n",
       "        if (window._pyforest_update_imports_cell) { window._pyforest_update_imports_cell('import pandas as pd'); }\n",
       "    "
      ],
      "text/plain": [
       "<IPython.core.display.Javascript object>"
      ]
     },
     "metadata": {},
     "output_type": "display_data"
    },
    {
     "name": "stdout",
     "output_type": "stream",
     "text": [
      "maxCommonNeighborsSyndrome 脾胃虚弱\n"
     ]
    },
    {
     "data": {
      "application/javascript": [
       "\n",
       "        if (window._pyforest_update_imports_cell) { window._pyforest_update_imports_cell('import pandas as pd'); }\n",
       "    "
      ],
      "text/plain": [
       "<IPython.core.display.Javascript object>"
      ]
     },
     "metadata": {},
     "output_type": "display_data"
    },
    {
     "name": "stdout",
     "output_type": "stream",
     "text": [
      "maxCommonNeighborsSyndrome 风热侵袭\n"
     ]
    },
    {
     "data": {
      "application/javascript": [
       "\n",
       "        if (window._pyforest_update_imports_cell) { window._pyforest_update_imports_cell('import pandas as pd'); }\n",
       "    "
      ],
      "text/plain": [
       "<IPython.core.display.Javascript object>"
      ]
     },
     "metadata": {},
     "output_type": "display_data"
    },
    {
     "name": "stdout",
     "output_type": "stream",
     "text": [
      "maxCommonNeighborsSyndrome 脾胃虚弱\n"
     ]
    },
    {
     "data": {
      "application/javascript": [
       "\n",
       "        if (window._pyforest_update_imports_cell) { window._pyforest_update_imports_cell('import pandas as pd'); }\n",
       "    "
      ],
      "text/plain": [
       "<IPython.core.display.Javascript object>"
      ]
     },
     "metadata": {},
     "output_type": "display_data"
    },
    {
     "name": "stdout",
     "output_type": "stream",
     "text": [
      "maxCommonNeighborsSyndrome 脾胃虚弱\n"
     ]
    },
    {
     "data": {
      "application/javascript": [
       "\n",
       "        if (window._pyforest_update_imports_cell) { window._pyforest_update_imports_cell('import pandas as pd'); }\n",
       "    "
      ],
      "text/plain": [
       "<IPython.core.display.Javascript object>"
      ]
     },
     "metadata": {},
     "output_type": "display_data"
    },
    {
     "name": "stdout",
     "output_type": "stream",
     "text": [
      "maxCommonNeighborsSyndrome 脾胃虚弱\n"
     ]
    },
    {
     "data": {
      "application/javascript": [
       "\n",
       "        if (window._pyforest_update_imports_cell) { window._pyforest_update_imports_cell('import pandas as pd'); }\n",
       "    "
      ],
      "text/plain": [
       "<IPython.core.display.Javascript object>"
      ]
     },
     "metadata": {},
     "output_type": "display_data"
    },
    {
     "name": "stdout",
     "output_type": "stream",
     "text": [
      "maxCommonNeighborsSyndrome 肝火上扰\n"
     ]
    },
    {
     "data": {
      "application/javascript": [
       "\n",
       "        if (window._pyforest_update_imports_cell) { window._pyforest_update_imports_cell('import pandas as pd'); }\n",
       "    "
      ],
      "text/plain": [
       "<IPython.core.display.Javascript object>"
      ]
     },
     "metadata": {},
     "output_type": "display_data"
    },
    {
     "name": "stdout",
     "output_type": "stream",
     "text": [
      "maxCommonNeighborsSyndrome 脾胃虚弱\n"
     ]
    },
    {
     "data": {
      "application/javascript": [
       "\n",
       "        if (window._pyforest_update_imports_cell) { window._pyforest_update_imports_cell('import pandas as pd'); }\n",
       "    "
      ],
      "text/plain": [
       "<IPython.core.display.Javascript object>"
      ]
     },
     "metadata": {},
     "output_type": "display_data"
    },
    {
     "name": "stdout",
     "output_type": "stream",
     "text": [
      "maxCommonNeighborsSyndrome 肾精亏虚\n"
     ]
    },
    {
     "data": {
      "application/javascript": [
       "\n",
       "        if (window._pyforest_update_imports_cell) { window._pyforest_update_imports_cell('import pandas as pd'); }\n",
       "    "
      ],
      "text/plain": [
       "<IPython.core.display.Javascript object>"
      ]
     },
     "metadata": {},
     "output_type": "display_data"
    },
    {
     "name": "stdout",
     "output_type": "stream",
     "text": [
      "maxCommonNeighborsSyndrome 肝火上扰\n"
     ]
    },
    {
     "data": {
      "application/javascript": [
       "\n",
       "        if (window._pyforest_update_imports_cell) { window._pyforest_update_imports_cell('import pandas as pd'); }\n",
       "    "
      ],
      "text/plain": [
       "<IPython.core.display.Javascript object>"
      ]
     },
     "metadata": {},
     "output_type": "display_data"
    },
    {
     "name": "stdout",
     "output_type": "stream",
     "text": [
      "maxCommonNeighborsSyndrome 脾胃虚弱\n"
     ]
    },
    {
     "data": {
      "application/javascript": [
       "\n",
       "        if (window._pyforest_update_imports_cell) { window._pyforest_update_imports_cell('import pandas as pd'); }\n",
       "    "
      ],
      "text/plain": [
       "<IPython.core.display.Javascript object>"
      ]
     },
     "metadata": {},
     "output_type": "display_data"
    },
    {
     "name": "stdout",
     "output_type": "stream",
     "text": [
      "maxCommonNeighborsSyndrome 脾胃虚弱\n"
     ]
    },
    {
     "data": {
      "application/javascript": [
       "\n",
       "        if (window._pyforest_update_imports_cell) { window._pyforest_update_imports_cell('import pandas as pd'); }\n",
       "    "
      ],
      "text/plain": [
       "<IPython.core.display.Javascript object>"
      ]
     },
     "metadata": {},
     "output_type": "display_data"
    },
    {
     "name": "stdout",
     "output_type": "stream",
     "text": [
      "maxCommonNeighborsSyndrome 肝火上扰\n"
     ]
    },
    {
     "data": {
      "application/javascript": [
       "\n",
       "        if (window._pyforest_update_imports_cell) { window._pyforest_update_imports_cell('import pandas as pd'); }\n",
       "    "
      ],
      "text/plain": [
       "<IPython.core.display.Javascript object>"
      ]
     },
     "metadata": {},
     "output_type": "display_data"
    },
    {
     "name": "stdout",
     "output_type": "stream",
     "text": [
      "maxCommonNeighborsSyndrome 脾胃虚弱\n"
     ]
    },
    {
     "data": {
      "application/javascript": [
       "\n",
       "        if (window._pyforest_update_imports_cell) { window._pyforest_update_imports_cell('import pandas as pd'); }\n",
       "    "
      ],
      "text/plain": [
       "<IPython.core.display.Javascript object>"
      ]
     },
     "metadata": {},
     "output_type": "display_data"
    },
    {
     "name": "stdout",
     "output_type": "stream",
     "text": [
      "maxCommonNeighborsSyndrome 肾精亏虚\n"
     ]
    },
    {
     "data": {
      "application/javascript": [
       "\n",
       "        if (window._pyforest_update_imports_cell) { window._pyforest_update_imports_cell('import pandas as pd'); }\n",
       "    "
      ],
      "text/plain": [
       "<IPython.core.display.Javascript object>"
      ]
     },
     "metadata": {},
     "output_type": "display_data"
    },
    {
     "name": "stdout",
     "output_type": "stream",
     "text": [
      "maxCommonNeighborsSyndrome 肝火上扰\n"
     ]
    },
    {
     "data": {
      "application/javascript": [
       "\n",
       "        if (window._pyforest_update_imports_cell) { window._pyforest_update_imports_cell('import pandas as pd'); }\n",
       "    "
      ],
      "text/plain": [
       "<IPython.core.display.Javascript object>"
      ]
     },
     "metadata": {},
     "output_type": "display_data"
    },
    {
     "name": "stdout",
     "output_type": "stream",
     "text": [
      "maxCommonNeighborsSyndrome 脾胃虚弱\n"
     ]
    },
    {
     "data": {
      "application/javascript": [
       "\n",
       "        if (window._pyforest_update_imports_cell) { window._pyforest_update_imports_cell('import pandas as pd'); }\n",
       "    "
      ],
      "text/plain": [
       "<IPython.core.display.Javascript object>"
      ]
     },
     "metadata": {},
     "output_type": "display_data"
    },
    {
     "name": "stdout",
     "output_type": "stream",
     "text": [
      "maxCommonNeighborsSyndrome 肝火上扰\n"
     ]
    },
    {
     "data": {
      "application/javascript": [
       "\n",
       "        if (window._pyforest_update_imports_cell) { window._pyforest_update_imports_cell('import pandas as pd'); }\n",
       "    "
      ],
      "text/plain": [
       "<IPython.core.display.Javascript object>"
      ]
     },
     "metadata": {},
     "output_type": "display_data"
    },
    {
     "name": "stdout",
     "output_type": "stream",
     "text": [
      "maxCommonNeighborsSyndrome 痰火郁结\n"
     ]
    },
    {
     "data": {
      "application/javascript": [
       "\n",
       "        if (window._pyforest_update_imports_cell) { window._pyforest_update_imports_cell('import pandas as pd'); }\n",
       "    "
      ],
      "text/plain": [
       "<IPython.core.display.Javascript object>"
      ]
     },
     "metadata": {},
     "output_type": "display_data"
    },
    {
     "name": "stdout",
     "output_type": "stream",
     "text": [
      "maxCommonNeighborsSyndrome 脾胃虚弱\n"
     ]
    },
    {
     "data": {
      "application/javascript": [
       "\n",
       "        if (window._pyforest_update_imports_cell) { window._pyforest_update_imports_cell('import pandas as pd'); }\n",
       "    "
      ],
      "text/plain": [
       "<IPython.core.display.Javascript object>"
      ]
     },
     "metadata": {},
     "output_type": "display_data"
    },
    {
     "name": "stdout",
     "output_type": "stream",
     "text": [
      "maxCommonNeighborsSyndrome 脾胃虚弱\n"
     ]
    },
    {
     "data": {
      "application/javascript": [
       "\n",
       "        if (window._pyforest_update_imports_cell) { window._pyforest_update_imports_cell('import pandas as pd'); }\n",
       "    "
      ],
      "text/plain": [
       "<IPython.core.display.Javascript object>"
      ]
     },
     "metadata": {},
     "output_type": "display_data"
    },
    {
     "name": "stdout",
     "output_type": "stream",
     "text": [
      "maxCommonNeighborsSyndrome 肾精亏虚\n"
     ]
    },
    {
     "data": {
      "application/javascript": [
       "\n",
       "        if (window._pyforest_update_imports_cell) { window._pyforest_update_imports_cell('import pandas as pd'); }\n",
       "    "
      ],
      "text/plain": [
       "<IPython.core.display.Javascript object>"
      ]
     },
     "metadata": {},
     "output_type": "display_data"
    },
    {
     "name": "stdout",
     "output_type": "stream",
     "text": [
      "maxCommonNeighborsSyndrome 肾精亏虚\n"
     ]
    },
    {
     "data": {
      "application/javascript": [
       "\n",
       "        if (window._pyforest_update_imports_cell) { window._pyforest_update_imports_cell('import pandas as pd'); }\n",
       "    "
      ],
      "text/plain": [
       "<IPython.core.display.Javascript object>"
      ]
     },
     "metadata": {},
     "output_type": "display_data"
    },
    {
     "name": "stdout",
     "output_type": "stream",
     "text": [
      "maxCommonNeighborsSyndrome 肾精亏虚\n"
     ]
    },
    {
     "data": {
      "application/javascript": [
       "\n",
       "        if (window._pyforest_update_imports_cell) { window._pyforest_update_imports_cell('import pandas as pd'); }\n",
       "    "
      ],
      "text/plain": [
       "<IPython.core.display.Javascript object>"
      ]
     },
     "metadata": {},
     "output_type": "display_data"
    },
    {
     "name": "stdout",
     "output_type": "stream",
     "text": [
      "maxCommonNeighborsSyndrome 肾精亏虚\n"
     ]
    },
    {
     "data": {
      "application/javascript": [
       "\n",
       "        if (window._pyforest_update_imports_cell) { window._pyforest_update_imports_cell('import pandas as pd'); }\n",
       "    "
      ],
      "text/plain": [
       "<IPython.core.display.Javascript object>"
      ]
     },
     "metadata": {},
     "output_type": "display_data"
    },
    {
     "name": "stdout",
     "output_type": "stream",
     "text": [
      "maxCommonNeighborsSyndrome 肾精亏虚\n"
     ]
    },
    {
     "data": {
      "application/javascript": [
       "\n",
       "        if (window._pyforest_update_imports_cell) { window._pyforest_update_imports_cell('import pandas as pd'); }\n",
       "    "
      ],
      "text/plain": [
       "<IPython.core.display.Javascript object>"
      ]
     },
     "metadata": {},
     "output_type": "display_data"
    },
    {
     "name": "stdout",
     "output_type": "stream",
     "text": [
      "maxCommonNeighborsSyndrome 肾精亏虚\n"
     ]
    },
    {
     "data": {
      "application/javascript": [
       "\n",
       "        if (window._pyforest_update_imports_cell) { window._pyforest_update_imports_cell('import pandas as pd'); }\n",
       "    "
      ],
      "text/plain": [
       "<IPython.core.display.Javascript object>"
      ]
     },
     "metadata": {},
     "output_type": "display_data"
    },
    {
     "name": "stdout",
     "output_type": "stream",
     "text": [
      "maxCommonNeighborsSyndrome 痰火郁结\n"
     ]
    },
    {
     "data": {
      "application/javascript": [
       "\n",
       "        if (window._pyforest_update_imports_cell) { window._pyforest_update_imports_cell('import pandas as pd'); }\n",
       "    "
      ],
      "text/plain": [
       "<IPython.core.display.Javascript object>"
      ]
     },
     "metadata": {},
     "output_type": "display_data"
    },
    {
     "name": "stdout",
     "output_type": "stream",
     "text": [
      "maxCommonNeighborsSyndrome 肾精亏虚\n"
     ]
    },
    {
     "data": {
      "application/javascript": [
       "\n",
       "        if (window._pyforest_update_imports_cell) { window._pyforest_update_imports_cell('import pandas as pd'); }\n",
       "    "
      ],
      "text/plain": [
       "<IPython.core.display.Javascript object>"
      ]
     },
     "metadata": {},
     "output_type": "display_data"
    },
    {
     "name": "stdout",
     "output_type": "stream",
     "text": [
      "maxCommonNeighborsSyndrome 肾精亏虚\n"
     ]
    },
    {
     "data": {
      "application/javascript": [
       "\n",
       "        if (window._pyforest_update_imports_cell) { window._pyforest_update_imports_cell('import pandas as pd'); }\n",
       "    "
      ],
      "text/plain": [
       "<IPython.core.display.Javascript object>"
      ]
     },
     "metadata": {},
     "output_type": "display_data"
    },
    {
     "name": "stdout",
     "output_type": "stream",
     "text": [
      "maxCommonNeighborsSyndrome 肾精亏虚\n"
     ]
    },
    {
     "data": {
      "application/javascript": [
       "\n",
       "        if (window._pyforest_update_imports_cell) { window._pyforest_update_imports_cell('import pandas as pd'); }\n",
       "    "
      ],
      "text/plain": [
       "<IPython.core.display.Javascript object>"
      ]
     },
     "metadata": {},
     "output_type": "display_data"
    },
    {
     "name": "stdout",
     "output_type": "stream",
     "text": [
      "maxCommonNeighborsSyndrome 肝火上扰\n"
     ]
    },
    {
     "data": {
      "application/javascript": [
       "\n",
       "        if (window._pyforest_update_imports_cell) { window._pyforest_update_imports_cell('import pandas as pd'); }\n",
       "    "
      ],
      "text/plain": [
       "<IPython.core.display.Javascript object>"
      ]
     },
     "metadata": {},
     "output_type": "display_data"
    },
    {
     "name": "stdout",
     "output_type": "stream",
     "text": [
      "maxCommonNeighborsSyndrome 肝火上扰\n"
     ]
    },
    {
     "data": {
      "application/javascript": [
       "\n",
       "        if (window._pyforest_update_imports_cell) { window._pyforest_update_imports_cell('import pandas as pd'); }\n",
       "    "
      ],
      "text/plain": [
       "<IPython.core.display.Javascript object>"
      ]
     },
     "metadata": {},
     "output_type": "display_data"
    },
    {
     "name": "stdout",
     "output_type": "stream",
     "text": [
      "maxCommonNeighborsSyndrome 风热侵袭\n"
     ]
    },
    {
     "data": {
      "application/javascript": [
       "\n",
       "        if (window._pyforest_update_imports_cell) { window._pyforest_update_imports_cell('import pandas as pd'); }\n",
       "    "
      ],
      "text/plain": [
       "<IPython.core.display.Javascript object>"
      ]
     },
     "metadata": {},
     "output_type": "display_data"
    },
    {
     "name": "stdout",
     "output_type": "stream",
     "text": [
      "maxCommonNeighborsSyndrome 脾胃虚弱\n"
     ]
    },
    {
     "data": {
      "application/javascript": [
       "\n",
       "        if (window._pyforest_update_imports_cell) { window._pyforest_update_imports_cell('import pandas as pd'); }\n",
       "    "
      ],
      "text/plain": [
       "<IPython.core.display.Javascript object>"
      ]
     },
     "metadata": {},
     "output_type": "display_data"
    },
    {
     "name": "stdout",
     "output_type": "stream",
     "text": [
      "maxCommonNeighborsSyndrome 痰火郁结\n"
     ]
    },
    {
     "data": {
      "application/javascript": [
       "\n",
       "        if (window._pyforest_update_imports_cell) { window._pyforest_update_imports_cell('import pandas as pd'); }\n",
       "    "
      ],
      "text/plain": [
       "<IPython.core.display.Javascript object>"
      ]
     },
     "metadata": {},
     "output_type": "display_data"
    },
    {
     "name": "stdout",
     "output_type": "stream",
     "text": [
      "maxCommonNeighborsSyndrome 肾精亏虚\n"
     ]
    },
    {
     "data": {
      "application/javascript": [
       "\n",
       "        if (window._pyforest_update_imports_cell) { window._pyforest_update_imports_cell('import pandas as pd'); }\n",
       "    "
      ],
      "text/plain": [
       "<IPython.core.display.Javascript object>"
      ]
     },
     "metadata": {},
     "output_type": "display_data"
    },
    {
     "name": "stdout",
     "output_type": "stream",
     "text": [
      "maxCommonNeighborsSyndrome 肝火上扰\n"
     ]
    },
    {
     "data": {
      "application/javascript": [
       "\n",
       "        if (window._pyforest_update_imports_cell) { window._pyforest_update_imports_cell('import pandas as pd'); }\n",
       "    "
      ],
      "text/plain": [
       "<IPython.core.display.Javascript object>"
      ]
     },
     "metadata": {},
     "output_type": "display_data"
    },
    {
     "name": "stdout",
     "output_type": "stream",
     "text": [
      "maxCommonNeighborsSyndrome 肝火上扰\n"
     ]
    },
    {
     "data": {
      "application/javascript": [
       "\n",
       "        if (window._pyforest_update_imports_cell) { window._pyforest_update_imports_cell('import pandas as pd'); }\n",
       "    "
      ],
      "text/plain": [
       "<IPython.core.display.Javascript object>"
      ]
     },
     "metadata": {},
     "output_type": "display_data"
    },
    {
     "name": "stdout",
     "output_type": "stream",
     "text": [
      "maxCommonNeighborsSyndrome 肝火上扰\n"
     ]
    },
    {
     "data": {
      "application/javascript": [
       "\n",
       "        if (window._pyforest_update_imports_cell) { window._pyforest_update_imports_cell('import pandas as pd'); }\n",
       "    "
      ],
      "text/plain": [
       "<IPython.core.display.Javascript object>"
      ]
     },
     "metadata": {},
     "output_type": "display_data"
    },
    {
     "name": "stdout",
     "output_type": "stream",
     "text": [
      "maxCommonNeighborsSyndrome 肝火上扰\n"
     ]
    },
    {
     "data": {
      "application/javascript": [
       "\n",
       "        if (window._pyforest_update_imports_cell) { window._pyforest_update_imports_cell('import pandas as pd'); }\n",
       "    "
      ],
      "text/plain": [
       "<IPython.core.display.Javascript object>"
      ]
     },
     "metadata": {},
     "output_type": "display_data"
    },
    {
     "name": "stdout",
     "output_type": "stream",
     "text": [
      "maxCommonNeighborsSyndrome 肾精亏虚\n"
     ]
    },
    {
     "data": {
      "application/javascript": [
       "\n",
       "        if (window._pyforest_update_imports_cell) { window._pyforest_update_imports_cell('import pandas as pd'); }\n",
       "    "
      ],
      "text/plain": [
       "<IPython.core.display.Javascript object>"
      ]
     },
     "metadata": {},
     "output_type": "display_data"
    },
    {
     "name": "stdout",
     "output_type": "stream",
     "text": [
      "maxCommonNeighborsSyndrome 肝火上扰\n"
     ]
    },
    {
     "data": {
      "application/javascript": [
       "\n",
       "        if (window._pyforest_update_imports_cell) { window._pyforest_update_imports_cell('import pandas as pd'); }\n",
       "    "
      ],
      "text/plain": [
       "<IPython.core.display.Javascript object>"
      ]
     },
     "metadata": {},
     "output_type": "display_data"
    },
    {
     "name": "stdout",
     "output_type": "stream",
     "text": [
      "maxCommonNeighborsSyndrome 肾精亏虚\n"
     ]
    },
    {
     "data": {
      "application/javascript": [
       "\n",
       "        if (window._pyforest_update_imports_cell) { window._pyforest_update_imports_cell('import pandas as pd'); }\n",
       "    "
      ],
      "text/plain": [
       "<IPython.core.display.Javascript object>"
      ]
     },
     "metadata": {},
     "output_type": "display_data"
    },
    {
     "name": "stdout",
     "output_type": "stream",
     "text": [
      "maxCommonNeighborsSyndrome 痰火郁结\n"
     ]
    },
    {
     "data": {
      "application/javascript": [
       "\n",
       "        if (window._pyforest_update_imports_cell) { window._pyforest_update_imports_cell('import pandas as pd'); }\n",
       "    "
      ],
      "text/plain": [
       "<IPython.core.display.Javascript object>"
      ]
     },
     "metadata": {},
     "output_type": "display_data"
    },
    {
     "name": "stdout",
     "output_type": "stream",
     "text": [
      "maxCommonNeighborsSyndrome 肾精亏虚\n"
     ]
    },
    {
     "data": {
      "application/javascript": [
       "\n",
       "        if (window._pyforest_update_imports_cell) { window._pyforest_update_imports_cell('import pandas as pd'); }\n",
       "    "
      ],
      "text/plain": [
       "<IPython.core.display.Javascript object>"
      ]
     },
     "metadata": {},
     "output_type": "display_data"
    },
    {
     "name": "stdout",
     "output_type": "stream",
     "text": [
      "maxCommonNeighborsSyndrome 肝火上扰\n"
     ]
    },
    {
     "data": {
      "application/javascript": [
       "\n",
       "        if (window._pyforest_update_imports_cell) { window._pyforest_update_imports_cell('import pandas as pd'); }\n",
       "    "
      ],
      "text/plain": [
       "<IPython.core.display.Javascript object>"
      ]
     },
     "metadata": {},
     "output_type": "display_data"
    },
    {
     "name": "stdout",
     "output_type": "stream",
     "text": [
      "maxCommonNeighborsSyndrome 肝火上扰\n"
     ]
    },
    {
     "data": {
      "application/javascript": [
       "\n",
       "        if (window._pyforest_update_imports_cell) { window._pyforest_update_imports_cell('import pandas as pd'); }\n",
       "    "
      ],
      "text/plain": [
       "<IPython.core.display.Javascript object>"
      ]
     },
     "metadata": {},
     "output_type": "display_data"
    },
    {
     "name": "stdout",
     "output_type": "stream",
     "text": [
      "maxCommonNeighborsSyndrome 痰火郁结\n"
     ]
    },
    {
     "data": {
      "application/javascript": [
       "\n",
       "        if (window._pyforest_update_imports_cell) { window._pyforest_update_imports_cell('import pandas as pd'); }\n",
       "    "
      ],
      "text/plain": [
       "<IPython.core.display.Javascript object>"
      ]
     },
     "metadata": {},
     "output_type": "display_data"
    },
    {
     "name": "stdout",
     "output_type": "stream",
     "text": [
      "maxCommonNeighborsSyndrome 痰火郁结\n"
     ]
    },
    {
     "data": {
      "application/javascript": [
       "\n",
       "        if (window._pyforest_update_imports_cell) { window._pyforest_update_imports_cell('import pandas as pd'); }\n",
       "    "
      ],
      "text/plain": [
       "<IPython.core.display.Javascript object>"
      ]
     },
     "metadata": {},
     "output_type": "display_data"
    },
    {
     "name": "stdout",
     "output_type": "stream",
     "text": [
      "maxCommonNeighborsSyndrome 痰火郁结\n"
     ]
    },
    {
     "data": {
      "application/javascript": [
       "\n",
       "        if (window._pyforest_update_imports_cell) { window._pyforest_update_imports_cell('import pandas as pd'); }\n",
       "    "
      ],
      "text/plain": [
       "<IPython.core.display.Javascript object>"
      ]
     },
     "metadata": {},
     "output_type": "display_data"
    },
    {
     "name": "stdout",
     "output_type": "stream",
     "text": [
      "maxCommonNeighborsSyndrome 痰火郁结\n"
     ]
    },
    {
     "data": {
      "application/javascript": [
       "\n",
       "        if (window._pyforest_update_imports_cell) { window._pyforest_update_imports_cell('import pandas as pd'); }\n",
       "    "
      ],
      "text/plain": [
       "<IPython.core.display.Javascript object>"
      ]
     },
     "metadata": {},
     "output_type": "display_data"
    },
    {
     "name": "stdout",
     "output_type": "stream",
     "text": [
      "maxCommonNeighborsSyndrome 肾精亏虚\n"
     ]
    },
    {
     "data": {
      "application/javascript": [
       "\n",
       "        if (window._pyforest_update_imports_cell) { window._pyforest_update_imports_cell('import pandas as pd'); }\n",
       "    "
      ],
      "text/plain": [
       "<IPython.core.display.Javascript object>"
      ]
     },
     "metadata": {},
     "output_type": "display_data"
    },
    {
     "name": "stdout",
     "output_type": "stream",
     "text": [
      "maxCommonNeighborsSyndrome 脾胃虚弱\n"
     ]
    },
    {
     "data": {
      "application/javascript": [
       "\n",
       "        if (window._pyforest_update_imports_cell) { window._pyforest_update_imports_cell('import pandas as pd'); }\n",
       "    "
      ],
      "text/plain": [
       "<IPython.core.display.Javascript object>"
      ]
     },
     "metadata": {},
     "output_type": "display_data"
    },
    {
     "name": "stdout",
     "output_type": "stream",
     "text": [
      "maxCommonNeighborsSyndrome 肝火上扰\n"
     ]
    },
    {
     "data": {
      "application/javascript": [
       "\n",
       "        if (window._pyforest_update_imports_cell) { window._pyforest_update_imports_cell('import pandas as pd'); }\n",
       "    "
      ],
      "text/plain": [
       "<IPython.core.display.Javascript object>"
      ]
     },
     "metadata": {},
     "output_type": "display_data"
    },
    {
     "name": "stdout",
     "output_type": "stream",
     "text": [
      "maxCommonNeighborsSyndrome 肾精亏虚\n"
     ]
    },
    {
     "data": {
      "application/javascript": [
       "\n",
       "        if (window._pyforest_update_imports_cell) { window._pyforest_update_imports_cell('import pandas as pd'); }\n",
       "    "
      ],
      "text/plain": [
       "<IPython.core.display.Javascript object>"
      ]
     },
     "metadata": {},
     "output_type": "display_data"
    },
    {
     "name": "stdout",
     "output_type": "stream",
     "text": [
      "maxCommonNeighborsSyndrome 脾胃虚弱\n"
     ]
    },
    {
     "data": {
      "application/javascript": [
       "\n",
       "        if (window._pyforest_update_imports_cell) { window._pyforest_update_imports_cell('import pandas as pd'); }\n",
       "    "
      ],
      "text/plain": [
       "<IPython.core.display.Javascript object>"
      ]
     },
     "metadata": {},
     "output_type": "display_data"
    },
    {
     "name": "stdout",
     "output_type": "stream",
     "text": [
      "maxCommonNeighborsSyndrome 风热侵袭\n"
     ]
    },
    {
     "data": {
      "application/javascript": [
       "\n",
       "        if (window._pyforest_update_imports_cell) { window._pyforest_update_imports_cell('import pandas as pd'); }\n",
       "    "
      ],
      "text/plain": [
       "<IPython.core.display.Javascript object>"
      ]
     },
     "metadata": {},
     "output_type": "display_data"
    },
    {
     "name": "stdout",
     "output_type": "stream",
     "text": [
      "maxCommonNeighborsSyndrome 风热侵袭\n"
     ]
    },
    {
     "data": {
      "application/javascript": [
       "\n",
       "        if (window._pyforest_update_imports_cell) { window._pyforest_update_imports_cell('import pandas as pd'); }\n",
       "    "
      ],
      "text/plain": [
       "<IPython.core.display.Javascript object>"
      ]
     },
     "metadata": {},
     "output_type": "display_data"
    },
    {
     "name": "stdout",
     "output_type": "stream",
     "text": [
      "maxCommonNeighborsSyndrome 肝火上扰\n"
     ]
    },
    {
     "data": {
      "application/javascript": [
       "\n",
       "        if (window._pyforest_update_imports_cell) { window._pyforest_update_imports_cell('import pandas as pd'); }\n",
       "    "
      ],
      "text/plain": [
       "<IPython.core.display.Javascript object>"
      ]
     },
     "metadata": {},
     "output_type": "display_data"
    },
    {
     "name": "stdout",
     "output_type": "stream",
     "text": [
      "maxCommonNeighborsSyndrome 脾胃虚弱\n"
     ]
    },
    {
     "data": {
      "application/javascript": [
       "\n",
       "        if (window._pyforest_update_imports_cell) { window._pyforest_update_imports_cell('import pandas as pd'); }\n",
       "    "
      ],
      "text/plain": [
       "<IPython.core.display.Javascript object>"
      ]
     },
     "metadata": {},
     "output_type": "display_data"
    },
    {
     "name": "stdout",
     "output_type": "stream",
     "text": [
      "maxCommonNeighborsSyndrome 风热侵袭\n"
     ]
    },
    {
     "data": {
      "application/javascript": [
       "\n",
       "        if (window._pyforest_update_imports_cell) { window._pyforest_update_imports_cell('import pandas as pd'); }\n",
       "    "
      ],
      "text/plain": [
       "<IPython.core.display.Javascript object>"
      ]
     },
     "metadata": {},
     "output_type": "display_data"
    },
    {
     "name": "stdout",
     "output_type": "stream",
     "text": [
      "maxCommonNeighborsSyndrome 肝火上扰\n"
     ]
    },
    {
     "data": {
      "application/javascript": [
       "\n",
       "        if (window._pyforest_update_imports_cell) { window._pyforest_update_imports_cell('import pandas as pd'); }\n",
       "    "
      ],
      "text/plain": [
       "<IPython.core.display.Javascript object>"
      ]
     },
     "metadata": {},
     "output_type": "display_data"
    },
    {
     "name": "stdout",
     "output_type": "stream",
     "text": [
      "maxCommonNeighborsSyndrome 肾精亏虚\n"
     ]
    },
    {
     "data": {
      "application/javascript": [
       "\n",
       "        if (window._pyforest_update_imports_cell) { window._pyforest_update_imports_cell('import pandas as pd'); }\n",
       "    "
      ],
      "text/plain": [
       "<IPython.core.display.Javascript object>"
      ]
     },
     "metadata": {},
     "output_type": "display_data"
    },
    {
     "name": "stdout",
     "output_type": "stream",
     "text": [
      "maxCommonNeighborsSyndrome 肾精亏虚\n"
     ]
    },
    {
     "data": {
      "application/javascript": [
       "\n",
       "        if (window._pyforest_update_imports_cell) { window._pyforest_update_imports_cell('import pandas as pd'); }\n",
       "    "
      ],
      "text/plain": [
       "<IPython.core.display.Javascript object>"
      ]
     },
     "metadata": {},
     "output_type": "display_data"
    },
    {
     "name": "stdout",
     "output_type": "stream",
     "text": [
      "maxCommonNeighborsSyndrome 肾精亏虚\n"
     ]
    },
    {
     "data": {
      "application/javascript": [
       "\n",
       "        if (window._pyforest_update_imports_cell) { window._pyforest_update_imports_cell('import pandas as pd'); }\n",
       "    "
      ],
      "text/plain": [
       "<IPython.core.display.Javascript object>"
      ]
     },
     "metadata": {},
     "output_type": "display_data"
    },
    {
     "name": "stdout",
     "output_type": "stream",
     "text": [
      "maxCommonNeighborsSyndrome 肾精亏虚\n"
     ]
    },
    {
     "data": {
      "application/javascript": [
       "\n",
       "        if (window._pyforest_update_imports_cell) { window._pyforest_update_imports_cell('import pandas as pd'); }\n",
       "    "
      ],
      "text/plain": [
       "<IPython.core.display.Javascript object>"
      ]
     },
     "metadata": {},
     "output_type": "display_data"
    },
    {
     "name": "stdout",
     "output_type": "stream",
     "text": [
      "maxCommonNeighborsSyndrome 肾精亏虚\n"
     ]
    },
    {
     "data": {
      "application/javascript": [
       "\n",
       "        if (window._pyforest_update_imports_cell) { window._pyforest_update_imports_cell('import pandas as pd'); }\n",
       "    "
      ],
      "text/plain": [
       "<IPython.core.display.Javascript object>"
      ]
     },
     "metadata": {},
     "output_type": "display_data"
    },
    {
     "name": "stdout",
     "output_type": "stream",
     "text": [
      "maxCommonNeighborsSyndrome 肾精亏虚\n"
     ]
    },
    {
     "data": {
      "application/javascript": [
       "\n",
       "        if (window._pyforest_update_imports_cell) { window._pyforest_update_imports_cell('import pandas as pd'); }\n",
       "    "
      ],
      "text/plain": [
       "<IPython.core.display.Javascript object>"
      ]
     },
     "metadata": {},
     "output_type": "display_data"
    },
    {
     "name": "stdout",
     "output_type": "stream",
     "text": [
      "maxCommonNeighborsSyndrome 肾精亏虚\n"
     ]
    },
    {
     "data": {
      "application/javascript": [
       "\n",
       "        if (window._pyforest_update_imports_cell) { window._pyforest_update_imports_cell('import pandas as pd'); }\n",
       "    "
      ],
      "text/plain": [
       "<IPython.core.display.Javascript object>"
      ]
     },
     "metadata": {},
     "output_type": "display_data"
    },
    {
     "name": "stdout",
     "output_type": "stream",
     "text": [
      "maxCommonNeighborsSyndrome 肾精亏虚\n"
     ]
    },
    {
     "data": {
      "application/javascript": [
       "\n",
       "        if (window._pyforest_update_imports_cell) { window._pyforest_update_imports_cell('import pandas as pd'); }\n",
       "    "
      ],
      "text/plain": [
       "<IPython.core.display.Javascript object>"
      ]
     },
     "metadata": {},
     "output_type": "display_data"
    },
    {
     "name": "stdout",
     "output_type": "stream",
     "text": [
      "maxCommonNeighborsSyndrome 脾胃虚弱\n"
     ]
    },
    {
     "data": {
      "application/javascript": [
       "\n",
       "        if (window._pyforest_update_imports_cell) { window._pyforest_update_imports_cell('import pandas as pd'); }\n",
       "    "
      ],
      "text/plain": [
       "<IPython.core.display.Javascript object>"
      ]
     },
     "metadata": {},
     "output_type": "display_data"
    },
    {
     "name": "stdout",
     "output_type": "stream",
     "text": [
      "maxCommonNeighborsSyndrome 肾精亏虚\n"
     ]
    },
    {
     "data": {
      "application/javascript": [
       "\n",
       "        if (window._pyforest_update_imports_cell) { window._pyforest_update_imports_cell('import pandas as pd'); }\n",
       "    "
      ],
      "text/plain": [
       "<IPython.core.display.Javascript object>"
      ]
     },
     "metadata": {},
     "output_type": "display_data"
    },
    {
     "name": "stdout",
     "output_type": "stream",
     "text": [
      "maxCommonNeighborsSyndrome 肾精亏虚\n"
     ]
    },
    {
     "data": {
      "application/javascript": [
       "\n",
       "        if (window._pyforest_update_imports_cell) { window._pyforest_update_imports_cell('import pandas as pd'); }\n",
       "    "
      ],
      "text/plain": [
       "<IPython.core.display.Javascript object>"
      ]
     },
     "metadata": {},
     "output_type": "display_data"
    },
    {
     "name": "stdout",
     "output_type": "stream",
     "text": [
      "maxCommonNeighborsSyndrome 肾精亏虚\n"
     ]
    },
    {
     "data": {
      "application/javascript": [
       "\n",
       "        if (window._pyforest_update_imports_cell) { window._pyforest_update_imports_cell('import pandas as pd'); }\n",
       "    "
      ],
      "text/plain": [
       "<IPython.core.display.Javascript object>"
      ]
     },
     "metadata": {},
     "output_type": "display_data"
    },
    {
     "name": "stdout",
     "output_type": "stream",
     "text": [
      "maxCommonNeighborsSyndrome 肾精亏虚\n"
     ]
    },
    {
     "data": {
      "application/javascript": [
       "\n",
       "        if (window._pyforest_update_imports_cell) { window._pyforest_update_imports_cell('import pandas as pd'); }\n",
       "    "
      ],
      "text/plain": [
       "<IPython.core.display.Javascript object>"
      ]
     },
     "metadata": {},
     "output_type": "display_data"
    },
    {
     "name": "stdout",
     "output_type": "stream",
     "text": [
      "maxCommonNeighborsSyndrome 风热侵袭\n"
     ]
    },
    {
     "data": {
      "application/javascript": [
       "\n",
       "        if (window._pyforest_update_imports_cell) { window._pyforest_update_imports_cell('import pandas as pd'); }\n",
       "    "
      ],
      "text/plain": [
       "<IPython.core.display.Javascript object>"
      ]
     },
     "metadata": {},
     "output_type": "display_data"
    },
    {
     "name": "stdout",
     "output_type": "stream",
     "text": [
      "maxCommonNeighborsSyndrome 肾精亏虚\n"
     ]
    },
    {
     "data": {
      "application/javascript": [
       "\n",
       "        if (window._pyforest_update_imports_cell) { window._pyforest_update_imports_cell('import pandas as pd'); }\n",
       "    "
      ],
      "text/plain": [
       "<IPython.core.display.Javascript object>"
      ]
     },
     "metadata": {},
     "output_type": "display_data"
    },
    {
     "name": "stdout",
     "output_type": "stream",
     "text": [
      "maxCommonNeighborsSyndrome 脾胃虚弱\n"
     ]
    },
    {
     "data": {
      "application/javascript": [
       "\n",
       "        if (window._pyforest_update_imports_cell) { window._pyforest_update_imports_cell('import pandas as pd'); }\n",
       "    "
      ],
      "text/plain": [
       "<IPython.core.display.Javascript object>"
      ]
     },
     "metadata": {},
     "output_type": "display_data"
    },
    {
     "name": "stdout",
     "output_type": "stream",
     "text": [
      "maxCommonNeighborsSyndrome 脾胃虚弱\n"
     ]
    },
    {
     "data": {
      "application/javascript": [
       "\n",
       "        if (window._pyforest_update_imports_cell) { window._pyforest_update_imports_cell('import pandas as pd'); }\n",
       "    "
      ],
      "text/plain": [
       "<IPython.core.display.Javascript object>"
      ]
     },
     "metadata": {},
     "output_type": "display_data"
    },
    {
     "name": "stdout",
     "output_type": "stream",
     "text": [
      "maxCommonNeighborsSyndrome 脾胃虚弱\n"
     ]
    },
    {
     "data": {
      "application/javascript": [
       "\n",
       "        if (window._pyforest_update_imports_cell) { window._pyforest_update_imports_cell('import pandas as pd'); }\n",
       "    "
      ],
      "text/plain": [
       "<IPython.core.display.Javascript object>"
      ]
     },
     "metadata": {},
     "output_type": "display_data"
    },
    {
     "name": "stdout",
     "output_type": "stream",
     "text": [
      "maxCommonNeighborsSyndrome 痰火郁结\n"
     ]
    },
    {
     "data": {
      "application/javascript": [
       "\n",
       "        if (window._pyforest_update_imports_cell) { window._pyforest_update_imports_cell('import pandas as pd'); }\n",
       "    "
      ],
      "text/plain": [
       "<IPython.core.display.Javascript object>"
      ]
     },
     "metadata": {},
     "output_type": "display_data"
    },
    {
     "name": "stdout",
     "output_type": "stream",
     "text": [
      "maxCommonNeighborsSyndrome 痰火郁结\n"
     ]
    },
    {
     "data": {
      "application/javascript": [
       "\n",
       "        if (window._pyforest_update_imports_cell) { window._pyforest_update_imports_cell('import pandas as pd'); }\n",
       "    "
      ],
      "text/plain": [
       "<IPython.core.display.Javascript object>"
      ]
     },
     "metadata": {},
     "output_type": "display_data"
    },
    {
     "name": "stdout",
     "output_type": "stream",
     "text": [
      "maxCommonNeighborsSyndrome 脾胃虚弱\n"
     ]
    },
    {
     "data": {
      "application/javascript": [
       "\n",
       "        if (window._pyforest_update_imports_cell) { window._pyforest_update_imports_cell('import pandas as pd'); }\n",
       "    "
      ],
      "text/plain": [
       "<IPython.core.display.Javascript object>"
      ]
     },
     "metadata": {},
     "output_type": "display_data"
    },
    {
     "name": "stdout",
     "output_type": "stream",
     "text": [
      "maxCommonNeighborsSyndrome 脾胃虚弱\n"
     ]
    },
    {
     "data": {
      "application/javascript": [
       "\n",
       "        if (window._pyforest_update_imports_cell) { window._pyforest_update_imports_cell('import pandas as pd'); }\n",
       "    "
      ],
      "text/plain": [
       "<IPython.core.display.Javascript object>"
      ]
     },
     "metadata": {},
     "output_type": "display_data"
    },
    {
     "name": "stdout",
     "output_type": "stream",
     "text": [
      "maxCommonNeighborsSyndrome 脾胃虚弱\n"
     ]
    },
    {
     "data": {
      "application/javascript": [
       "\n",
       "        if (window._pyforest_update_imports_cell) { window._pyforest_update_imports_cell('import pandas as pd'); }\n",
       "    "
      ],
      "text/plain": [
       "<IPython.core.display.Javascript object>"
      ]
     },
     "metadata": {},
     "output_type": "display_data"
    },
    {
     "name": "stdout",
     "output_type": "stream",
     "text": [
      "maxCommonNeighborsSyndrome 肝火上扰\n"
     ]
    },
    {
     "data": {
      "application/javascript": [
       "\n",
       "        if (window._pyforest_update_imports_cell) { window._pyforest_update_imports_cell('import pandas as pd'); }\n",
       "    "
      ],
      "text/plain": [
       "<IPython.core.display.Javascript object>"
      ]
     },
     "metadata": {},
     "output_type": "display_data"
    },
    {
     "name": "stdout",
     "output_type": "stream",
     "text": [
      "maxCommonNeighborsSyndrome 肝火上扰\n"
     ]
    },
    {
     "data": {
      "application/javascript": [
       "\n",
       "        if (window._pyforest_update_imports_cell) { window._pyforest_update_imports_cell('import pandas as pd'); }\n",
       "    "
      ],
      "text/plain": [
       "<IPython.core.display.Javascript object>"
      ]
     },
     "metadata": {},
     "output_type": "display_data"
    },
    {
     "name": "stdout",
     "output_type": "stream",
     "text": [
      "maxCommonNeighborsSyndrome 肝火上扰\n"
     ]
    },
    {
     "data": {
      "application/javascript": [
       "\n",
       "        if (window._pyforest_update_imports_cell) { window._pyforest_update_imports_cell('import pandas as pd'); }\n",
       "    "
      ],
      "text/plain": [
       "<IPython.core.display.Javascript object>"
      ]
     },
     "metadata": {},
     "output_type": "display_data"
    },
    {
     "name": "stdout",
     "output_type": "stream",
     "text": [
      "maxCommonNeighborsSyndrome 肾精亏虚\n"
     ]
    },
    {
     "data": {
      "application/javascript": [
       "\n",
       "        if (window._pyforest_update_imports_cell) { window._pyforest_update_imports_cell('import pandas as pd'); }\n",
       "    "
      ],
      "text/plain": [
       "<IPython.core.display.Javascript object>"
      ]
     },
     "metadata": {},
     "output_type": "display_data"
    },
    {
     "name": "stdout",
     "output_type": "stream",
     "text": [
      "maxCommonNeighborsSyndrome 脾胃虚弱\n"
     ]
    },
    {
     "data": {
      "application/javascript": [
       "\n",
       "        if (window._pyforest_update_imports_cell) { window._pyforest_update_imports_cell('import pandas as pd'); }\n",
       "    "
      ],
      "text/plain": [
       "<IPython.core.display.Javascript object>"
      ]
     },
     "metadata": {},
     "output_type": "display_data"
    },
    {
     "name": "stdout",
     "output_type": "stream",
     "text": [
      "maxCommonNeighborsSyndrome 风热侵袭\n"
     ]
    },
    {
     "data": {
      "application/javascript": [
       "\n",
       "        if (window._pyforest_update_imports_cell) { window._pyforest_update_imports_cell('import pandas as pd'); }\n",
       "    "
      ],
      "text/plain": [
       "<IPython.core.display.Javascript object>"
      ]
     },
     "metadata": {},
     "output_type": "display_data"
    },
    {
     "name": "stdout",
     "output_type": "stream",
     "text": [
      "maxCommonNeighborsSyndrome 肾精亏虚\n"
     ]
    },
    {
     "data": {
      "application/javascript": [
       "\n",
       "        if (window._pyforest_update_imports_cell) { window._pyforest_update_imports_cell('import pandas as pd'); }\n",
       "    "
      ],
      "text/plain": [
       "<IPython.core.display.Javascript object>"
      ]
     },
     "metadata": {},
     "output_type": "display_data"
    },
    {
     "name": "stdout",
     "output_type": "stream",
     "text": [
      "maxCommonNeighborsSyndrome 肾精亏虚\n"
     ]
    },
    {
     "data": {
      "application/javascript": [
       "\n",
       "        if (window._pyforest_update_imports_cell) { window._pyforest_update_imports_cell('import pandas as pd'); }\n",
       "    "
      ],
      "text/plain": [
       "<IPython.core.display.Javascript object>"
      ]
     },
     "metadata": {},
     "output_type": "display_data"
    },
    {
     "name": "stdout",
     "output_type": "stream",
     "text": [
      "maxCommonNeighborsSyndrome 肾精亏虚\n"
     ]
    },
    {
     "data": {
      "application/javascript": [
       "\n",
       "        if (window._pyforest_update_imports_cell) { window._pyforest_update_imports_cell('import pandas as pd'); }\n",
       "    "
      ],
      "text/plain": [
       "<IPython.core.display.Javascript object>"
      ]
     },
     "metadata": {},
     "output_type": "display_data"
    },
    {
     "name": "stdout",
     "output_type": "stream",
     "text": [
      "maxCommonNeighborsSyndrome 脾胃虚弱\n"
     ]
    },
    {
     "data": {
      "application/javascript": [
       "\n",
       "        if (window._pyforest_update_imports_cell) { window._pyforest_update_imports_cell('import pandas as pd'); }\n",
       "    "
      ],
      "text/plain": [
       "<IPython.core.display.Javascript object>"
      ]
     },
     "metadata": {},
     "output_type": "display_data"
    },
    {
     "name": "stdout",
     "output_type": "stream",
     "text": [
      "maxCommonNeighborsSyndrome 痰火郁结\n"
     ]
    },
    {
     "data": {
      "application/javascript": [
       "\n",
       "        if (window._pyforest_update_imports_cell) { window._pyforest_update_imports_cell('import pandas as pd'); }\n",
       "    "
      ],
      "text/plain": [
       "<IPython.core.display.Javascript object>"
      ]
     },
     "metadata": {},
     "output_type": "display_data"
    },
    {
     "name": "stdout",
     "output_type": "stream",
     "text": [
      "maxCommonNeighborsSyndrome 痰火郁结\n"
     ]
    },
    {
     "data": {
      "application/javascript": [
       "\n",
       "        if (window._pyforest_update_imports_cell) { window._pyforest_update_imports_cell('import pandas as pd'); }\n",
       "    "
      ],
      "text/plain": [
       "<IPython.core.display.Javascript object>"
      ]
     },
     "metadata": {},
     "output_type": "display_data"
    },
    {
     "name": "stdout",
     "output_type": "stream",
     "text": [
      "maxCommonNeighborsSyndrome 风热侵袭\n"
     ]
    },
    {
     "data": {
      "application/javascript": [
       "\n",
       "        if (window._pyforest_update_imports_cell) { window._pyforest_update_imports_cell('import pandas as pd'); }\n",
       "    "
      ],
      "text/plain": [
       "<IPython.core.display.Javascript object>"
      ]
     },
     "metadata": {},
     "output_type": "display_data"
    },
    {
     "name": "stdout",
     "output_type": "stream",
     "text": [
      "maxCommonNeighborsSyndrome 风热侵袭\n"
     ]
    },
    {
     "data": {
      "application/javascript": [
       "\n",
       "        if (window._pyforest_update_imports_cell) { window._pyforest_update_imports_cell('import pandas as pd'); }\n",
       "    "
      ],
      "text/plain": [
       "<IPython.core.display.Javascript object>"
      ]
     },
     "metadata": {},
     "output_type": "display_data"
    },
    {
     "name": "stdout",
     "output_type": "stream",
     "text": [
      "maxCommonNeighborsSyndrome 痰火郁结\n"
     ]
    },
    {
     "data": {
      "application/javascript": [
       "\n",
       "        if (window._pyforest_update_imports_cell) { window._pyforest_update_imports_cell('import pandas as pd'); }\n",
       "    "
      ],
      "text/plain": [
       "<IPython.core.display.Javascript object>"
      ]
     },
     "metadata": {},
     "output_type": "display_data"
    },
    {
     "name": "stdout",
     "output_type": "stream",
     "text": [
      "maxCommonNeighborsSyndrome 痰火郁结\n"
     ]
    },
    {
     "data": {
      "application/javascript": [
       "\n",
       "        if (window._pyforest_update_imports_cell) { window._pyforest_update_imports_cell('import pandas as pd'); }\n",
       "    "
      ],
      "text/plain": [
       "<IPython.core.display.Javascript object>"
      ]
     },
     "metadata": {},
     "output_type": "display_data"
    },
    {
     "name": "stdout",
     "output_type": "stream",
     "text": [
      "maxCommonNeighborsSyndrome 肝火上扰\n"
     ]
    },
    {
     "data": {
      "application/javascript": [
       "\n",
       "        if (window._pyforest_update_imports_cell) { window._pyforest_update_imports_cell('import pandas as pd'); }\n",
       "    "
      ],
      "text/plain": [
       "<IPython.core.display.Javascript object>"
      ]
     },
     "metadata": {},
     "output_type": "display_data"
    },
    {
     "name": "stdout",
     "output_type": "stream",
     "text": [
      "maxCommonNeighborsSyndrome 肝火上扰\n"
     ]
    },
    {
     "data": {
      "application/javascript": [
       "\n",
       "        if (window._pyforest_update_imports_cell) { window._pyforest_update_imports_cell('import pandas as pd'); }\n",
       "    "
      ],
      "text/plain": [
       "<IPython.core.display.Javascript object>"
      ]
     },
     "metadata": {},
     "output_type": "display_data"
    },
    {
     "name": "stdout",
     "output_type": "stream",
     "text": [
      "maxCommonNeighborsSyndrome 风热侵袭\n"
     ]
    },
    {
     "data": {
      "application/javascript": [
       "\n",
       "        if (window._pyforest_update_imports_cell) { window._pyforest_update_imports_cell('import pandas as pd'); }\n",
       "    "
      ],
      "text/plain": [
       "<IPython.core.display.Javascript object>"
      ]
     },
     "metadata": {},
     "output_type": "display_data"
    },
    {
     "name": "stdout",
     "output_type": "stream",
     "text": [
      "maxCommonNeighborsSyndrome 肝火上扰\n"
     ]
    },
    {
     "data": {
      "application/javascript": [
       "\n",
       "        if (window._pyforest_update_imports_cell) { window._pyforest_update_imports_cell('import pandas as pd'); }\n",
       "    "
      ],
      "text/plain": [
       "<IPython.core.display.Javascript object>"
      ]
     },
     "metadata": {},
     "output_type": "display_data"
    },
    {
     "name": "stdout",
     "output_type": "stream",
     "text": [
      "maxCommonNeighborsSyndrome 肾精亏虚\n"
     ]
    },
    {
     "data": {
      "application/javascript": [
       "\n",
       "        if (window._pyforest_update_imports_cell) { window._pyforest_update_imports_cell('import pandas as pd'); }\n",
       "    "
      ],
      "text/plain": [
       "<IPython.core.display.Javascript object>"
      ]
     },
     "metadata": {},
     "output_type": "display_data"
    },
    {
     "name": "stdout",
     "output_type": "stream",
     "text": [
      "maxCommonNeighborsSyndrome 肾精亏虚\n"
     ]
    },
    {
     "data": {
      "application/javascript": [
       "\n",
       "        if (window._pyforest_update_imports_cell) { window._pyforest_update_imports_cell('import pandas as pd'); }\n",
       "    "
      ],
      "text/plain": [
       "<IPython.core.display.Javascript object>"
      ]
     },
     "metadata": {},
     "output_type": "display_data"
    },
    {
     "name": "stdout",
     "output_type": "stream",
     "text": [
      "maxCommonNeighborsSyndrome 风热侵袭\n"
     ]
    },
    {
     "data": {
      "application/javascript": [
       "\n",
       "        if (window._pyforest_update_imports_cell) { window._pyforest_update_imports_cell('import pandas as pd'); }\n",
       "    "
      ],
      "text/plain": [
       "<IPython.core.display.Javascript object>"
      ]
     },
     "metadata": {},
     "output_type": "display_data"
    },
    {
     "name": "stdout",
     "output_type": "stream",
     "text": [
      "maxCommonNeighborsSyndrome 肝火上扰\n"
     ]
    },
    {
     "data": {
      "application/javascript": [
       "\n",
       "        if (window._pyforest_update_imports_cell) { window._pyforest_update_imports_cell('import pandas as pd'); }\n",
       "    "
      ],
      "text/plain": [
       "<IPython.core.display.Javascript object>"
      ]
     },
     "metadata": {},
     "output_type": "display_data"
    },
    {
     "name": "stdout",
     "output_type": "stream",
     "text": [
      "maxCommonNeighborsSyndrome 肝火上扰\n"
     ]
    },
    {
     "data": {
      "application/javascript": [
       "\n",
       "        if (window._pyforest_update_imports_cell) { window._pyforest_update_imports_cell('import pandas as pd'); }\n",
       "    "
      ],
      "text/plain": [
       "<IPython.core.display.Javascript object>"
      ]
     },
     "metadata": {},
     "output_type": "display_data"
    },
    {
     "name": "stdout",
     "output_type": "stream",
     "text": [
      "maxCommonNeighborsSyndrome 肾精亏虚\n"
     ]
    },
    {
     "data": {
      "application/javascript": [
       "\n",
       "        if (window._pyforest_update_imports_cell) { window._pyforest_update_imports_cell('import pandas as pd'); }\n",
       "    "
      ],
      "text/plain": [
       "<IPython.core.display.Javascript object>"
      ]
     },
     "metadata": {},
     "output_type": "display_data"
    },
    {
     "name": "stdout",
     "output_type": "stream",
     "text": [
      "maxCommonNeighborsSyndrome 肾精亏虚\n"
     ]
    },
    {
     "data": {
      "application/javascript": [
       "\n",
       "        if (window._pyforest_update_imports_cell) { window._pyforest_update_imports_cell('import pandas as pd'); }\n",
       "    "
      ],
      "text/plain": [
       "<IPython.core.display.Javascript object>"
      ]
     },
     "metadata": {},
     "output_type": "display_data"
    },
    {
     "name": "stdout",
     "output_type": "stream",
     "text": [
      "maxCommonNeighborsSyndrome 风热侵袭\n"
     ]
    },
    {
     "data": {
      "application/javascript": [
       "\n",
       "        if (window._pyforest_update_imports_cell) { window._pyforest_update_imports_cell('import pandas as pd'); }\n",
       "    "
      ],
      "text/plain": [
       "<IPython.core.display.Javascript object>"
      ]
     },
     "metadata": {},
     "output_type": "display_data"
    },
    {
     "name": "stdout",
     "output_type": "stream",
     "text": [
      "maxCommonNeighborsSyndrome 肾精亏虚\n"
     ]
    },
    {
     "data": {
      "application/javascript": [
       "\n",
       "        if (window._pyforest_update_imports_cell) { window._pyforest_update_imports_cell('import pandas as pd'); }\n",
       "    "
      ],
      "text/plain": [
       "<IPython.core.display.Javascript object>"
      ]
     },
     "metadata": {},
     "output_type": "display_data"
    },
    {
     "name": "stdout",
     "output_type": "stream",
     "text": [
      "maxCommonNeighborsSyndrome 肝火上扰\n"
     ]
    },
    {
     "data": {
      "application/javascript": [
       "\n",
       "        if (window._pyforest_update_imports_cell) { window._pyforest_update_imports_cell('import pandas as pd'); }\n",
       "    "
      ],
      "text/plain": [
       "<IPython.core.display.Javascript object>"
      ]
     },
     "metadata": {},
     "output_type": "display_data"
    },
    {
     "name": "stdout",
     "output_type": "stream",
     "text": [
      "maxCommonNeighborsSyndrome 风热侵袭\n"
     ]
    },
    {
     "data": {
      "application/javascript": [
       "\n",
       "        if (window._pyforest_update_imports_cell) { window._pyforest_update_imports_cell('import pandas as pd'); }\n",
       "    "
      ],
      "text/plain": [
       "<IPython.core.display.Javascript object>"
      ]
     },
     "metadata": {},
     "output_type": "display_data"
    },
    {
     "name": "stdout",
     "output_type": "stream",
     "text": [
      "maxCommonNeighborsSyndrome 痰火郁结\n"
     ]
    },
    {
     "data": {
      "application/javascript": [
       "\n",
       "        if (window._pyforest_update_imports_cell) { window._pyforest_update_imports_cell('import pandas as pd'); }\n",
       "    "
      ],
      "text/plain": [
       "<IPython.core.display.Javascript object>"
      ]
     },
     "metadata": {},
     "output_type": "display_data"
    },
    {
     "name": "stdout",
     "output_type": "stream",
     "text": [
      "maxCommonNeighborsSyndrome 肝火上扰\n"
     ]
    },
    {
     "data": {
      "application/javascript": [
       "\n",
       "        if (window._pyforest_update_imports_cell) { window._pyforest_update_imports_cell('import pandas as pd'); }\n",
       "    "
      ],
      "text/plain": [
       "<IPython.core.display.Javascript object>"
      ]
     },
     "metadata": {},
     "output_type": "display_data"
    },
    {
     "name": "stdout",
     "output_type": "stream",
     "text": [
      "maxCommonNeighborsSyndrome 肝火上扰\n"
     ]
    },
    {
     "data": {
      "application/javascript": [
       "\n",
       "        if (window._pyforest_update_imports_cell) { window._pyforest_update_imports_cell('import pandas as pd'); }\n",
       "    "
      ],
      "text/plain": [
       "<IPython.core.display.Javascript object>"
      ]
     },
     "metadata": {},
     "output_type": "display_data"
    },
    {
     "name": "stdout",
     "output_type": "stream",
     "text": [
      "maxCommonNeighborsSyndrome 肝火上扰\n"
     ]
    },
    {
     "data": {
      "application/javascript": [
       "\n",
       "        if (window._pyforest_update_imports_cell) { window._pyforest_update_imports_cell('import pandas as pd'); }\n",
       "    "
      ],
      "text/plain": [
       "<IPython.core.display.Javascript object>"
      ]
     },
     "metadata": {},
     "output_type": "display_data"
    },
    {
     "name": "stdout",
     "output_type": "stream",
     "text": [
      "maxCommonNeighborsSyndrome 肾精亏虚\n"
     ]
    },
    {
     "data": {
      "application/javascript": [
       "\n",
       "        if (window._pyforest_update_imports_cell) { window._pyforest_update_imports_cell('import pandas as pd'); }\n",
       "    "
      ],
      "text/plain": [
       "<IPython.core.display.Javascript object>"
      ]
     },
     "metadata": {},
     "output_type": "display_data"
    },
    {
     "name": "stdout",
     "output_type": "stream",
     "text": [
      "maxCommonNeighborsSyndrome 风热侵袭\n"
     ]
    },
    {
     "data": {
      "application/javascript": [
       "\n",
       "        if (window._pyforest_update_imports_cell) { window._pyforest_update_imports_cell('import pandas as pd'); }\n",
       "    "
      ],
      "text/plain": [
       "<IPython.core.display.Javascript object>"
      ]
     },
     "metadata": {},
     "output_type": "display_data"
    },
    {
     "name": "stdout",
     "output_type": "stream",
     "text": [
      "maxCommonNeighborsSyndrome 肝火上扰\n"
     ]
    },
    {
     "data": {
      "application/javascript": [
       "\n",
       "        if (window._pyforest_update_imports_cell) { window._pyforest_update_imports_cell('import pandas as pd'); }\n",
       "    "
      ],
      "text/plain": [
       "<IPython.core.display.Javascript object>"
      ]
     },
     "metadata": {},
     "output_type": "display_data"
    },
    {
     "name": "stdout",
     "output_type": "stream",
     "text": [
      "maxCommonNeighborsSyndrome 肝火上扰\n"
     ]
    },
    {
     "data": {
      "application/javascript": [
       "\n",
       "        if (window._pyforest_update_imports_cell) { window._pyforest_update_imports_cell('import pandas as pd'); }\n",
       "    "
      ],
      "text/plain": [
       "<IPython.core.display.Javascript object>"
      ]
     },
     "metadata": {},
     "output_type": "display_data"
    },
    {
     "name": "stdout",
     "output_type": "stream",
     "text": [
      "maxCommonNeighborsSyndrome 脾胃虚弱\n"
     ]
    },
    {
     "data": {
      "application/javascript": [
       "\n",
       "        if (window._pyforest_update_imports_cell) { window._pyforest_update_imports_cell('import pandas as pd'); }\n",
       "    "
      ],
      "text/plain": [
       "<IPython.core.display.Javascript object>"
      ]
     },
     "metadata": {},
     "output_type": "display_data"
    },
    {
     "name": "stdout",
     "output_type": "stream",
     "text": [
      "maxCommonNeighborsSyndrome 风热侵袭\n"
     ]
    },
    {
     "data": {
      "application/javascript": [
       "\n",
       "        if (window._pyforest_update_imports_cell) { window._pyforest_update_imports_cell('import pandas as pd'); }\n",
       "    "
      ],
      "text/plain": [
       "<IPython.core.display.Javascript object>"
      ]
     },
     "metadata": {},
     "output_type": "display_data"
    },
    {
     "name": "stdout",
     "output_type": "stream",
     "text": [
      "maxCommonNeighborsSyndrome 肝火上扰\n"
     ]
    },
    {
     "data": {
      "application/javascript": [
       "\n",
       "        if (window._pyforest_update_imports_cell) { window._pyforest_update_imports_cell('import pandas as pd'); }\n",
       "    "
      ],
      "text/plain": [
       "<IPython.core.display.Javascript object>"
      ]
     },
     "metadata": {},
     "output_type": "display_data"
    },
    {
     "name": "stdout",
     "output_type": "stream",
     "text": [
      "maxCommonNeighborsSyndrome 肾精亏虚\n"
     ]
    },
    {
     "data": {
      "application/javascript": [
       "\n",
       "        if (window._pyforest_update_imports_cell) { window._pyforest_update_imports_cell('import pandas as pd'); }\n",
       "    "
      ],
      "text/plain": [
       "<IPython.core.display.Javascript object>"
      ]
     },
     "metadata": {},
     "output_type": "display_data"
    },
    {
     "name": "stdout",
     "output_type": "stream",
     "text": [
      "maxCommonNeighborsSyndrome 痰火郁结\n"
     ]
    },
    {
     "data": {
      "application/javascript": [
       "\n",
       "        if (window._pyforest_update_imports_cell) { window._pyforest_update_imports_cell('import pandas as pd'); }\n",
       "    "
      ],
      "text/plain": [
       "<IPython.core.display.Javascript object>"
      ]
     },
     "metadata": {},
     "output_type": "display_data"
    },
    {
     "name": "stdout",
     "output_type": "stream",
     "text": [
      "maxCommonNeighborsSyndrome 痰火郁结\n"
     ]
    },
    {
     "data": {
      "application/javascript": [
       "\n",
       "        if (window._pyforest_update_imports_cell) { window._pyforest_update_imports_cell('import pandas as pd'); }\n",
       "    "
      ],
      "text/plain": [
       "<IPython.core.display.Javascript object>"
      ]
     },
     "metadata": {},
     "output_type": "display_data"
    },
    {
     "name": "stdout",
     "output_type": "stream",
     "text": [
      "maxCommonNeighborsSyndrome 痰火郁结\n"
     ]
    },
    {
     "data": {
      "application/javascript": [
       "\n",
       "        if (window._pyforest_update_imports_cell) { window._pyforest_update_imports_cell('import pandas as pd'); }\n",
       "    "
      ],
      "text/plain": [
       "<IPython.core.display.Javascript object>"
      ]
     },
     "metadata": {},
     "output_type": "display_data"
    },
    {
     "name": "stdout",
     "output_type": "stream",
     "text": [
      "maxCommonNeighborsSyndrome 肾精亏虚\n"
     ]
    },
    {
     "data": {
      "application/javascript": [
       "\n",
       "        if (window._pyforest_update_imports_cell) { window._pyforest_update_imports_cell('import pandas as pd'); }\n",
       "    "
      ],
      "text/plain": [
       "<IPython.core.display.Javascript object>"
      ]
     },
     "metadata": {},
     "output_type": "display_data"
    },
    {
     "name": "stdout",
     "output_type": "stream",
     "text": [
      "maxCommonNeighborsSyndrome 痰火郁结\n"
     ]
    },
    {
     "data": {
      "application/javascript": [
       "\n",
       "        if (window._pyforest_update_imports_cell) { window._pyforest_update_imports_cell('import pandas as pd'); }\n",
       "    "
      ],
      "text/plain": [
       "<IPython.core.display.Javascript object>"
      ]
     },
     "metadata": {},
     "output_type": "display_data"
    },
    {
     "name": "stdout",
     "output_type": "stream",
     "text": [
      "maxCommonNeighborsSyndrome 肾精亏虚\n"
     ]
    },
    {
     "data": {
      "application/javascript": [
       "\n",
       "        if (window._pyforest_update_imports_cell) { window._pyforest_update_imports_cell('import pandas as pd'); }\n",
       "    "
      ],
      "text/plain": [
       "<IPython.core.display.Javascript object>"
      ]
     },
     "metadata": {},
     "output_type": "display_data"
    },
    {
     "name": "stdout",
     "output_type": "stream",
     "text": [
      "maxCommonNeighborsSyndrome 脾胃虚弱\n"
     ]
    },
    {
     "data": {
      "application/javascript": [
       "\n",
       "        if (window._pyforest_update_imports_cell) { window._pyforest_update_imports_cell('import pandas as pd'); }\n",
       "    "
      ],
      "text/plain": [
       "<IPython.core.display.Javascript object>"
      ]
     },
     "metadata": {},
     "output_type": "display_data"
    },
    {
     "name": "stdout",
     "output_type": "stream",
     "text": [
      "maxCommonNeighborsSyndrome 肝火上扰\n"
     ]
    },
    {
     "data": {
      "application/javascript": [
       "\n",
       "        if (window._pyforest_update_imports_cell) { window._pyforest_update_imports_cell('import pandas as pd'); }\n",
       "    "
      ],
      "text/plain": [
       "<IPython.core.display.Javascript object>"
      ]
     },
     "metadata": {},
     "output_type": "display_data"
    },
    {
     "name": "stdout",
     "output_type": "stream",
     "text": [
      "maxCommonNeighborsSyndrome 肾精亏虚\n"
     ]
    },
    {
     "data": {
      "application/javascript": [
       "\n",
       "        if (window._pyforest_update_imports_cell) { window._pyforest_update_imports_cell('import pandas as pd'); }\n",
       "    "
      ],
      "text/plain": [
       "<IPython.core.display.Javascript object>"
      ]
     },
     "metadata": {},
     "output_type": "display_data"
    },
    {
     "name": "stdout",
     "output_type": "stream",
     "text": [
      "maxCommonNeighborsSyndrome 痰火郁结\n"
     ]
    },
    {
     "data": {
      "application/javascript": [
       "\n",
       "        if (window._pyforest_update_imports_cell) { window._pyforest_update_imports_cell('import pandas as pd'); }\n",
       "    "
      ],
      "text/plain": [
       "<IPython.core.display.Javascript object>"
      ]
     },
     "metadata": {},
     "output_type": "display_data"
    },
    {
     "name": "stdout",
     "output_type": "stream",
     "text": [
      "maxCommonNeighborsSyndrome 风热侵袭\n"
     ]
    },
    {
     "data": {
      "application/javascript": [
       "\n",
       "        if (window._pyforest_update_imports_cell) { window._pyforest_update_imports_cell('import pandas as pd'); }\n",
       "    "
      ],
      "text/plain": [
       "<IPython.core.display.Javascript object>"
      ]
     },
     "metadata": {},
     "output_type": "display_data"
    },
    {
     "name": "stdout",
     "output_type": "stream",
     "text": [
      "maxCommonNeighborsSyndrome 肝火上扰\n"
     ]
    },
    {
     "data": {
      "application/javascript": [
       "\n",
       "        if (window._pyforest_update_imports_cell) { window._pyforest_update_imports_cell('import pandas as pd'); }\n",
       "    "
      ],
      "text/plain": [
       "<IPython.core.display.Javascript object>"
      ]
     },
     "metadata": {},
     "output_type": "display_data"
    },
    {
     "name": "stdout",
     "output_type": "stream",
     "text": [
      "maxCommonNeighborsSyndrome 肾精亏虚\n"
     ]
    },
    {
     "data": {
      "application/javascript": [
       "\n",
       "        if (window._pyforest_update_imports_cell) { window._pyforest_update_imports_cell('import pandas as pd'); }\n",
       "    "
      ],
      "text/plain": [
       "<IPython.core.display.Javascript object>"
      ]
     },
     "metadata": {},
     "output_type": "display_data"
    },
    {
     "name": "stdout",
     "output_type": "stream",
     "text": [
      "maxCommonNeighborsSyndrome 痰火郁结\n"
     ]
    },
    {
     "data": {
      "application/javascript": [
       "\n",
       "        if (window._pyforest_update_imports_cell) { window._pyforest_update_imports_cell('import pandas as pd'); }\n",
       "    "
      ],
      "text/plain": [
       "<IPython.core.display.Javascript object>"
      ]
     },
     "metadata": {},
     "output_type": "display_data"
    },
    {
     "name": "stdout",
     "output_type": "stream",
     "text": [
      "maxCommonNeighborsSyndrome 肝火上扰\n"
     ]
    },
    {
     "data": {
      "application/javascript": [
       "\n",
       "        if (window._pyforest_update_imports_cell) { window._pyforest_update_imports_cell('import pandas as pd'); }\n",
       "    "
      ],
      "text/plain": [
       "<IPython.core.display.Javascript object>"
      ]
     },
     "metadata": {},
     "output_type": "display_data"
    },
    {
     "name": "stdout",
     "output_type": "stream",
     "text": [
      "maxCommonNeighborsSyndrome 肾精亏虚\n"
     ]
    },
    {
     "data": {
      "application/javascript": [
       "\n",
       "        if (window._pyforest_update_imports_cell) { window._pyforest_update_imports_cell('import pandas as pd'); }\n",
       "    "
      ],
      "text/plain": [
       "<IPython.core.display.Javascript object>"
      ]
     },
     "metadata": {},
     "output_type": "display_data"
    },
    {
     "name": "stdout",
     "output_type": "stream",
     "text": [
      "maxCommonNeighborsSyndrome 肾精亏虚\n"
     ]
    },
    {
     "data": {
      "application/javascript": [
       "\n",
       "        if (window._pyforest_update_imports_cell) { window._pyforest_update_imports_cell('import pandas as pd'); }\n",
       "    "
      ],
      "text/plain": [
       "<IPython.core.display.Javascript object>"
      ]
     },
     "metadata": {},
     "output_type": "display_data"
    },
    {
     "name": "stdout",
     "output_type": "stream",
     "text": [
      "maxCommonNeighborsSyndrome 痰火郁结\n"
     ]
    },
    {
     "data": {
      "application/javascript": [
       "\n",
       "        if (window._pyforest_update_imports_cell) { window._pyforest_update_imports_cell('import pandas as pd'); }\n",
       "    "
      ],
      "text/plain": [
       "<IPython.core.display.Javascript object>"
      ]
     },
     "metadata": {},
     "output_type": "display_data"
    },
    {
     "name": "stdout",
     "output_type": "stream",
     "text": [
      "maxCommonNeighborsSyndrome 肾精亏虚\n"
     ]
    },
    {
     "data": {
      "application/javascript": [
       "\n",
       "        if (window._pyforest_update_imports_cell) { window._pyforest_update_imports_cell('import pandas as pd'); }\n",
       "    "
      ],
      "text/plain": [
       "<IPython.core.display.Javascript object>"
      ]
     },
     "metadata": {},
     "output_type": "display_data"
    },
    {
     "name": "stdout",
     "output_type": "stream",
     "text": [
      "maxCommonNeighborsSyndrome 肾精亏虚\n"
     ]
    },
    {
     "data": {
      "application/javascript": [
       "\n",
       "        if (window._pyforest_update_imports_cell) { window._pyforest_update_imports_cell('import pandas as pd'); }\n",
       "    "
      ],
      "text/plain": [
       "<IPython.core.display.Javascript object>"
      ]
     },
     "metadata": {},
     "output_type": "display_data"
    },
    {
     "name": "stdout",
     "output_type": "stream",
     "text": [
      "maxCommonNeighborsSyndrome 肝火上扰\n"
     ]
    },
    {
     "data": {
      "application/javascript": [
       "\n",
       "        if (window._pyforest_update_imports_cell) { window._pyforest_update_imports_cell('import pandas as pd'); }\n",
       "    "
      ],
      "text/plain": [
       "<IPython.core.display.Javascript object>"
      ]
     },
     "metadata": {},
     "output_type": "display_data"
    },
    {
     "name": "stdout",
     "output_type": "stream",
     "text": [
      "maxCommonNeighborsSyndrome 肾精亏虚\n"
     ]
    },
    {
     "data": {
      "application/javascript": [
       "\n",
       "        if (window._pyforest_update_imports_cell) { window._pyforest_update_imports_cell('import pandas as pd'); }\n",
       "    "
      ],
      "text/plain": [
       "<IPython.core.display.Javascript object>"
      ]
     },
     "metadata": {},
     "output_type": "display_data"
    },
    {
     "name": "stdout",
     "output_type": "stream",
     "text": [
      "maxCommonNeighborsSyndrome 痰火郁结\n"
     ]
    },
    {
     "data": {
      "application/javascript": [
       "\n",
       "        if (window._pyforest_update_imports_cell) { window._pyforest_update_imports_cell('import pandas as pd'); }\n",
       "    "
      ],
      "text/plain": [
       "<IPython.core.display.Javascript object>"
      ]
     },
     "metadata": {},
     "output_type": "display_data"
    },
    {
     "name": "stdout",
     "output_type": "stream",
     "text": [
      "maxCommonNeighborsSyndrome 脾胃虚弱\n"
     ]
    },
    {
     "data": {
      "application/javascript": [
       "\n",
       "        if (window._pyforest_update_imports_cell) { window._pyforest_update_imports_cell('import pandas as pd'); }\n",
       "    "
      ],
      "text/plain": [
       "<IPython.core.display.Javascript object>"
      ]
     },
     "metadata": {},
     "output_type": "display_data"
    },
    {
     "name": "stdout",
     "output_type": "stream",
     "text": [
      "maxCommonNeighborsSyndrome 脾胃虚弱\n"
     ]
    },
    {
     "data": {
      "application/javascript": [
       "\n",
       "        if (window._pyforest_update_imports_cell) { window._pyforest_update_imports_cell('import pandas as pd'); }\n",
       "    "
      ],
      "text/plain": [
       "<IPython.core.display.Javascript object>"
      ]
     },
     "metadata": {},
     "output_type": "display_data"
    },
    {
     "name": "stdout",
     "output_type": "stream",
     "text": [
      "maxCommonNeighborsSyndrome 风热侵袭\n"
     ]
    },
    {
     "data": {
      "application/javascript": [
       "\n",
       "        if (window._pyforest_update_imports_cell) { window._pyforest_update_imports_cell('import pandas as pd'); }\n",
       "    "
      ],
      "text/plain": [
       "<IPython.core.display.Javascript object>"
      ]
     },
     "metadata": {},
     "output_type": "display_data"
    },
    {
     "name": "stdout",
     "output_type": "stream",
     "text": [
      "maxCommonNeighborsSyndrome 肝火上扰\n"
     ]
    },
    {
     "data": {
      "application/javascript": [
       "\n",
       "        if (window._pyforest_update_imports_cell) { window._pyforest_update_imports_cell('import pandas as pd'); }\n",
       "    "
      ],
      "text/plain": [
       "<IPython.core.display.Javascript object>"
      ]
     },
     "metadata": {},
     "output_type": "display_data"
    },
    {
     "name": "stdout",
     "output_type": "stream",
     "text": [
      "maxCommonNeighborsSyndrome 脾胃虚弱\n"
     ]
    },
    {
     "data": {
      "application/javascript": [
       "\n",
       "        if (window._pyforest_update_imports_cell) { window._pyforest_update_imports_cell('import pandas as pd'); }\n",
       "    "
      ],
      "text/plain": [
       "<IPython.core.display.Javascript object>"
      ]
     },
     "metadata": {},
     "output_type": "display_data"
    },
    {
     "name": "stdout",
     "output_type": "stream",
     "text": [
      "maxCommonNeighborsSyndrome 肝火上扰\n"
     ]
    },
    {
     "data": {
      "application/javascript": [
       "\n",
       "        if (window._pyforest_update_imports_cell) { window._pyforest_update_imports_cell('import pandas as pd'); }\n",
       "    "
      ],
      "text/plain": [
       "<IPython.core.display.Javascript object>"
      ]
     },
     "metadata": {},
     "output_type": "display_data"
    },
    {
     "name": "stdout",
     "output_type": "stream",
     "text": [
      "maxCommonNeighborsSyndrome 肾精亏虚\n"
     ]
    },
    {
     "data": {
      "application/javascript": [
       "\n",
       "        if (window._pyforest_update_imports_cell) { window._pyforest_update_imports_cell('import pandas as pd'); }\n",
       "    "
      ],
      "text/plain": [
       "<IPython.core.display.Javascript object>"
      ]
     },
     "metadata": {},
     "output_type": "display_data"
    },
    {
     "name": "stdout",
     "output_type": "stream",
     "text": [
      "maxCommonNeighborsSyndrome 肝火上扰\n"
     ]
    },
    {
     "data": {
      "application/javascript": [
       "\n",
       "        if (window._pyforest_update_imports_cell) { window._pyforest_update_imports_cell('import pandas as pd'); }\n",
       "    "
      ],
      "text/plain": [
       "<IPython.core.display.Javascript object>"
      ]
     },
     "metadata": {},
     "output_type": "display_data"
    },
    {
     "name": "stdout",
     "output_type": "stream",
     "text": [
      "maxCommonNeighborsSyndrome 脾胃虚弱\n"
     ]
    },
    {
     "data": {
      "application/javascript": [
       "\n",
       "        if (window._pyforest_update_imports_cell) { window._pyforest_update_imports_cell('import pandas as pd'); }\n",
       "    "
      ],
      "text/plain": [
       "<IPython.core.display.Javascript object>"
      ]
     },
     "metadata": {},
     "output_type": "display_data"
    },
    {
     "name": "stdout",
     "output_type": "stream",
     "text": [
      "maxCommonNeighborsSyndrome 肾精亏虚\n"
     ]
    },
    {
     "data": {
      "application/javascript": [
       "\n",
       "        if (window._pyforest_update_imports_cell) { window._pyforest_update_imports_cell('import pandas as pd'); }\n",
       "    "
      ],
      "text/plain": [
       "<IPython.core.display.Javascript object>"
      ]
     },
     "metadata": {},
     "output_type": "display_data"
    },
    {
     "name": "stdout",
     "output_type": "stream",
     "text": [
      "maxCommonNeighborsSyndrome 风热侵袭\n"
     ]
    },
    {
     "data": {
      "application/javascript": [
       "\n",
       "        if (window._pyforest_update_imports_cell) { window._pyforest_update_imports_cell('import pandas as pd'); }\n",
       "    "
      ],
      "text/plain": [
       "<IPython.core.display.Javascript object>"
      ]
     },
     "metadata": {},
     "output_type": "display_data"
    },
    {
     "name": "stdout",
     "output_type": "stream",
     "text": [
      "maxCommonNeighborsSyndrome 肝火上扰\n"
     ]
    },
    {
     "data": {
      "application/javascript": [
       "\n",
       "        if (window._pyforest_update_imports_cell) { window._pyforest_update_imports_cell('import pandas as pd'); }\n",
       "    "
      ],
      "text/plain": [
       "<IPython.core.display.Javascript object>"
      ]
     },
     "metadata": {},
     "output_type": "display_data"
    },
    {
     "name": "stdout",
     "output_type": "stream",
     "text": [
      "maxCommonNeighborsSyndrome 痰火郁结\n"
     ]
    },
    {
     "data": {
      "application/javascript": [
       "\n",
       "        if (window._pyforest_update_imports_cell) { window._pyforest_update_imports_cell('import pandas as pd'); }\n",
       "    "
      ],
      "text/plain": [
       "<IPython.core.display.Javascript object>"
      ]
     },
     "metadata": {},
     "output_type": "display_data"
    },
    {
     "name": "stdout",
     "output_type": "stream",
     "text": [
      "maxCommonNeighborsSyndrome 肝火上扰\n"
     ]
    },
    {
     "data": {
      "application/javascript": [
       "\n",
       "        if (window._pyforest_update_imports_cell) { window._pyforest_update_imports_cell('import pandas as pd'); }\n",
       "    "
      ],
      "text/plain": [
       "<IPython.core.display.Javascript object>"
      ]
     },
     "metadata": {},
     "output_type": "display_data"
    },
    {
     "name": "stdout",
     "output_type": "stream",
     "text": [
      "maxCommonNeighborsSyndrome 肾精亏虚\n"
     ]
    },
    {
     "data": {
      "application/javascript": [
       "\n",
       "        if (window._pyforest_update_imports_cell) { window._pyforest_update_imports_cell('import pandas as pd'); }\n",
       "    "
      ],
      "text/plain": [
       "<IPython.core.display.Javascript object>"
      ]
     },
     "metadata": {},
     "output_type": "display_data"
    },
    {
     "name": "stdout",
     "output_type": "stream",
     "text": [
      "maxCommonNeighborsSyndrome 肾精亏虚\n"
     ]
    },
    {
     "data": {
      "application/javascript": [
       "\n",
       "        if (window._pyforest_update_imports_cell) { window._pyforest_update_imports_cell('import pandas as pd'); }\n",
       "    "
      ],
      "text/plain": [
       "<IPython.core.display.Javascript object>"
      ]
     },
     "metadata": {},
     "output_type": "display_data"
    },
    {
     "name": "stdout",
     "output_type": "stream",
     "text": [
      "maxCommonNeighborsSyndrome 肝火上扰\n"
     ]
    },
    {
     "data": {
      "application/javascript": [
       "\n",
       "        if (window._pyforest_update_imports_cell) { window._pyforest_update_imports_cell('import pandas as pd'); }\n",
       "    "
      ],
      "text/plain": [
       "<IPython.core.display.Javascript object>"
      ]
     },
     "metadata": {},
     "output_type": "display_data"
    },
    {
     "name": "stdout",
     "output_type": "stream",
     "text": [
      "maxCommonNeighborsSyndrome 肝火上扰\n"
     ]
    },
    {
     "data": {
      "application/javascript": [
       "\n",
       "        if (window._pyforest_update_imports_cell) { window._pyforest_update_imports_cell('import pandas as pd'); }\n",
       "    "
      ],
      "text/plain": [
       "<IPython.core.display.Javascript object>"
      ]
     },
     "metadata": {},
     "output_type": "display_data"
    },
    {
     "name": "stdout",
     "output_type": "stream",
     "text": [
      "maxCommonNeighborsSyndrome 痰火郁结\n"
     ]
    },
    {
     "data": {
      "application/javascript": [
       "\n",
       "        if (window._pyforest_update_imports_cell) { window._pyforest_update_imports_cell('import pandas as pd'); }\n",
       "    "
      ],
      "text/plain": [
       "<IPython.core.display.Javascript object>"
      ]
     },
     "metadata": {},
     "output_type": "display_data"
    },
    {
     "name": "stdout",
     "output_type": "stream",
     "text": [
      "maxCommonNeighborsSyndrome 痰火郁结\n"
     ]
    },
    {
     "data": {
      "application/javascript": [
       "\n",
       "        if (window._pyforest_update_imports_cell) { window._pyforest_update_imports_cell('import pandas as pd'); }\n",
       "    "
      ],
      "text/plain": [
       "<IPython.core.display.Javascript object>"
      ]
     },
     "metadata": {},
     "output_type": "display_data"
    },
    {
     "name": "stdout",
     "output_type": "stream",
     "text": [
      "maxCommonNeighborsSyndrome 风热侵袭\n"
     ]
    },
    {
     "data": {
      "application/javascript": [
       "\n",
       "        if (window._pyforest_update_imports_cell) { window._pyforest_update_imports_cell('import pandas as pd'); }\n",
       "    "
      ],
      "text/plain": [
       "<IPython.core.display.Javascript object>"
      ]
     },
     "metadata": {},
     "output_type": "display_data"
    },
    {
     "name": "stdout",
     "output_type": "stream",
     "text": [
      "maxCommonNeighborsSyndrome 痰火郁结\n"
     ]
    },
    {
     "data": {
      "application/javascript": [
       "\n",
       "        if (window._pyforest_update_imports_cell) { window._pyforest_update_imports_cell('import pandas as pd'); }\n",
       "    "
      ],
      "text/plain": [
       "<IPython.core.display.Javascript object>"
      ]
     },
     "metadata": {},
     "output_type": "display_data"
    },
    {
     "name": "stdout",
     "output_type": "stream",
     "text": [
      "maxCommonNeighborsSyndrome 肾精亏虚\n"
     ]
    },
    {
     "data": {
      "application/javascript": [
       "\n",
       "        if (window._pyforest_update_imports_cell) { window._pyforest_update_imports_cell('import pandas as pd'); }\n",
       "    "
      ],
      "text/plain": [
       "<IPython.core.display.Javascript object>"
      ]
     },
     "metadata": {},
     "output_type": "display_data"
    },
    {
     "name": "stdout",
     "output_type": "stream",
     "text": [
      "maxCommonNeighborsSyndrome 肝火上扰\n"
     ]
    },
    {
     "data": {
      "application/javascript": [
       "\n",
       "        if (window._pyforest_update_imports_cell) { window._pyforest_update_imports_cell('import pandas as pd'); }\n",
       "    "
      ],
      "text/plain": [
       "<IPython.core.display.Javascript object>"
      ]
     },
     "metadata": {},
     "output_type": "display_data"
    },
    {
     "name": "stdout",
     "output_type": "stream",
     "text": [
      "maxCommonNeighborsSyndrome 风热侵袭\n"
     ]
    },
    {
     "data": {
      "application/javascript": [
       "\n",
       "        if (window._pyforest_update_imports_cell) { window._pyforest_update_imports_cell('import pandas as pd'); }\n",
       "    "
      ],
      "text/plain": [
       "<IPython.core.display.Javascript object>"
      ]
     },
     "metadata": {},
     "output_type": "display_data"
    },
    {
     "name": "stdout",
     "output_type": "stream",
     "text": [
      "maxCommonNeighborsSyndrome 肾精亏虚\n"
     ]
    },
    {
     "data": {
      "application/javascript": [
       "\n",
       "        if (window._pyforest_update_imports_cell) { window._pyforest_update_imports_cell('import pandas as pd'); }\n",
       "    "
      ],
      "text/plain": [
       "<IPython.core.display.Javascript object>"
      ]
     },
     "metadata": {},
     "output_type": "display_data"
    },
    {
     "name": "stdout",
     "output_type": "stream",
     "text": [
      "maxCommonNeighborsSyndrome 肾精亏虚\n"
     ]
    },
    {
     "data": {
      "application/javascript": [
       "\n",
       "        if (window._pyforest_update_imports_cell) { window._pyforest_update_imports_cell('import pandas as pd'); }\n",
       "    "
      ],
      "text/plain": [
       "<IPython.core.display.Javascript object>"
      ]
     },
     "metadata": {},
     "output_type": "display_data"
    },
    {
     "name": "stdout",
     "output_type": "stream",
     "text": [
      "maxCommonNeighborsSyndrome 肝火上扰\n"
     ]
    },
    {
     "data": {
      "application/javascript": [
       "\n",
       "        if (window._pyforest_update_imports_cell) { window._pyforest_update_imports_cell('import pandas as pd'); }\n",
       "    "
      ],
      "text/plain": [
       "<IPython.core.display.Javascript object>"
      ]
     },
     "metadata": {},
     "output_type": "display_data"
    },
    {
     "name": "stdout",
     "output_type": "stream",
     "text": [
      "maxCommonNeighborsSyndrome 肝火上扰\n"
     ]
    },
    {
     "data": {
      "application/javascript": [
       "\n",
       "        if (window._pyforest_update_imports_cell) { window._pyforest_update_imports_cell('import pandas as pd'); }\n",
       "    "
      ],
      "text/plain": [
       "<IPython.core.display.Javascript object>"
      ]
     },
     "metadata": {},
     "output_type": "display_data"
    },
    {
     "name": "stdout",
     "output_type": "stream",
     "text": [
      "maxCommonNeighborsSyndrome 脾胃虚弱\n"
     ]
    },
    {
     "data": {
      "application/javascript": [
       "\n",
       "        if (window._pyforest_update_imports_cell) { window._pyforest_update_imports_cell('import pandas as pd'); }\n",
       "    "
      ],
      "text/plain": [
       "<IPython.core.display.Javascript object>"
      ]
     },
     "metadata": {},
     "output_type": "display_data"
    },
    {
     "name": "stdout",
     "output_type": "stream",
     "text": [
      "maxCommonNeighborsSyndrome 肾精亏虚\n"
     ]
    },
    {
     "data": {
      "application/javascript": [
       "\n",
       "        if (window._pyforest_update_imports_cell) { window._pyforest_update_imports_cell('import pandas as pd'); }\n",
       "    "
      ],
      "text/plain": [
       "<IPython.core.display.Javascript object>"
      ]
     },
     "metadata": {},
     "output_type": "display_data"
    },
    {
     "name": "stdout",
     "output_type": "stream",
     "text": [
      "maxCommonNeighborsSyndrome 肝火上扰\n"
     ]
    },
    {
     "data": {
      "application/javascript": [
       "\n",
       "        if (window._pyforest_update_imports_cell) { window._pyforest_update_imports_cell('import pandas as pd'); }\n",
       "    "
      ],
      "text/plain": [
       "<IPython.core.display.Javascript object>"
      ]
     },
     "metadata": {},
     "output_type": "display_data"
    },
    {
     "name": "stdout",
     "output_type": "stream",
     "text": [
      "maxCommonNeighborsSyndrome 痰火郁结\n"
     ]
    },
    {
     "data": {
      "application/javascript": [
       "\n",
       "        if (window._pyforest_update_imports_cell) { window._pyforest_update_imports_cell('import pandas as pd'); }\n",
       "    "
      ],
      "text/plain": [
       "<IPython.core.display.Javascript object>"
      ]
     },
     "metadata": {},
     "output_type": "display_data"
    },
    {
     "name": "stdout",
     "output_type": "stream",
     "text": [
      "maxCommonNeighborsSyndrome 脾胃虚弱\n"
     ]
    },
    {
     "data": {
      "application/javascript": [
       "\n",
       "        if (window._pyforest_update_imports_cell) { window._pyforest_update_imports_cell('import pandas as pd'); }\n",
       "    "
      ],
      "text/plain": [
       "<IPython.core.display.Javascript object>"
      ]
     },
     "metadata": {},
     "output_type": "display_data"
    },
    {
     "name": "stdout",
     "output_type": "stream",
     "text": [
      "maxCommonNeighborsSyndrome 肝火上扰\n"
     ]
    },
    {
     "data": {
      "application/javascript": [
       "\n",
       "        if (window._pyforest_update_imports_cell) { window._pyforest_update_imports_cell('import pandas as pd'); }\n",
       "    "
      ],
      "text/plain": [
       "<IPython.core.display.Javascript object>"
      ]
     },
     "metadata": {},
     "output_type": "display_data"
    },
    {
     "name": "stdout",
     "output_type": "stream",
     "text": [
      "maxCommonNeighborsSyndrome 肝火上扰\n"
     ]
    },
    {
     "data": {
      "application/javascript": [
       "\n",
       "        if (window._pyforest_update_imports_cell) { window._pyforest_update_imports_cell('import pandas as pd'); }\n",
       "    "
      ],
      "text/plain": [
       "<IPython.core.display.Javascript object>"
      ]
     },
     "metadata": {},
     "output_type": "display_data"
    },
    {
     "name": "stdout",
     "output_type": "stream",
     "text": [
      "maxCommonNeighborsSyndrome 脾胃虚弱\n"
     ]
    },
    {
     "data": {
      "application/javascript": [
       "\n",
       "        if (window._pyforest_update_imports_cell) { window._pyforest_update_imports_cell('import pandas as pd'); }\n",
       "    "
      ],
      "text/plain": [
       "<IPython.core.display.Javascript object>"
      ]
     },
     "metadata": {},
     "output_type": "display_data"
    },
    {
     "name": "stdout",
     "output_type": "stream",
     "text": [
      "maxCommonNeighborsSyndrome 痰火郁结\n"
     ]
    },
    {
     "data": {
      "application/javascript": [
       "\n",
       "        if (window._pyforest_update_imports_cell) { window._pyforest_update_imports_cell('import pandas as pd'); }\n",
       "    "
      ],
      "text/plain": [
       "<IPython.core.display.Javascript object>"
      ]
     },
     "metadata": {},
     "output_type": "display_data"
    },
    {
     "name": "stdout",
     "output_type": "stream",
     "text": [
      "maxCommonNeighborsSyndrome 脾胃虚弱\n"
     ]
    },
    {
     "data": {
      "application/javascript": [
       "\n",
       "        if (window._pyforest_update_imports_cell) { window._pyforest_update_imports_cell('import pandas as pd'); }\n",
       "    "
      ],
      "text/plain": [
       "<IPython.core.display.Javascript object>"
      ]
     },
     "metadata": {},
     "output_type": "display_data"
    },
    {
     "name": "stdout",
     "output_type": "stream",
     "text": [
      "maxCommonNeighborsSyndrome 痰火郁结\n"
     ]
    },
    {
     "data": {
      "application/javascript": [
       "\n",
       "        if (window._pyforest_update_imports_cell) { window._pyforest_update_imports_cell('import pandas as pd'); }\n",
       "    "
      ],
      "text/plain": [
       "<IPython.core.display.Javascript object>"
      ]
     },
     "metadata": {},
     "output_type": "display_data"
    },
    {
     "name": "stdout",
     "output_type": "stream",
     "text": [
      "maxCommonNeighborsSyndrome 痰火郁结\n"
     ]
    },
    {
     "data": {
      "application/javascript": [
       "\n",
       "        if (window._pyforest_update_imports_cell) { window._pyforest_update_imports_cell('import pandas as pd'); }\n",
       "    "
      ],
      "text/plain": [
       "<IPython.core.display.Javascript object>"
      ]
     },
     "metadata": {},
     "output_type": "display_data"
    },
    {
     "name": "stdout",
     "output_type": "stream",
     "text": [
      "maxCommonNeighborsSyndrome 肝火上扰\n"
     ]
    },
    {
     "data": {
      "application/javascript": [
       "\n",
       "        if (window._pyforest_update_imports_cell) { window._pyforest_update_imports_cell('import pandas as pd'); }\n",
       "    "
      ],
      "text/plain": [
       "<IPython.core.display.Javascript object>"
      ]
     },
     "metadata": {},
     "output_type": "display_data"
    },
    {
     "name": "stdout",
     "output_type": "stream",
     "text": [
      "maxCommonNeighborsSyndrome 肝火上扰\n"
     ]
    },
    {
     "data": {
      "application/javascript": [
       "\n",
       "        if (window._pyforest_update_imports_cell) { window._pyforest_update_imports_cell('import pandas as pd'); }\n",
       "    "
      ],
      "text/plain": [
       "<IPython.core.display.Javascript object>"
      ]
     },
     "metadata": {},
     "output_type": "display_data"
    },
    {
     "name": "stdout",
     "output_type": "stream",
     "text": [
      "maxCommonNeighborsSyndrome 肝火上扰\n"
     ]
    },
    {
     "data": {
      "application/javascript": [
       "\n",
       "        if (window._pyforest_update_imports_cell) { window._pyforest_update_imports_cell('import pandas as pd'); }\n",
       "    "
      ],
      "text/plain": [
       "<IPython.core.display.Javascript object>"
      ]
     },
     "metadata": {},
     "output_type": "display_data"
    },
    {
     "name": "stdout",
     "output_type": "stream",
     "text": [
      "maxCommonNeighborsSyndrome 肝火上扰\n"
     ]
    },
    {
     "data": {
      "application/javascript": [
       "\n",
       "        if (window._pyforest_update_imports_cell) { window._pyforest_update_imports_cell('import pandas as pd'); }\n",
       "    "
      ],
      "text/plain": [
       "<IPython.core.display.Javascript object>"
      ]
     },
     "metadata": {},
     "output_type": "display_data"
    },
    {
     "name": "stdout",
     "output_type": "stream",
     "text": [
      "maxCommonNeighborsSyndrome 风热侵袭\n"
     ]
    },
    {
     "data": {
      "application/javascript": [
       "\n",
       "        if (window._pyforest_update_imports_cell) { window._pyforest_update_imports_cell('import pandas as pd'); }\n",
       "    "
      ],
      "text/plain": [
       "<IPython.core.display.Javascript object>"
      ]
     },
     "metadata": {},
     "output_type": "display_data"
    },
    {
     "name": "stdout",
     "output_type": "stream",
     "text": [
      "maxCommonNeighborsSyndrome 肝火上扰\n"
     ]
    },
    {
     "data": {
      "application/javascript": [
       "\n",
       "        if (window._pyforest_update_imports_cell) { window._pyforest_update_imports_cell('import pandas as pd'); }\n",
       "    "
      ],
      "text/plain": [
       "<IPython.core.display.Javascript object>"
      ]
     },
     "metadata": {},
     "output_type": "display_data"
    },
    {
     "name": "stdout",
     "output_type": "stream",
     "text": [
      "maxCommonNeighborsSyndrome 脾胃虚弱\n"
     ]
    },
    {
     "data": {
      "application/javascript": [
       "\n",
       "        if (window._pyforest_update_imports_cell) { window._pyforest_update_imports_cell('import pandas as pd'); }\n",
       "    "
      ],
      "text/plain": [
       "<IPython.core.display.Javascript object>"
      ]
     },
     "metadata": {},
     "output_type": "display_data"
    },
    {
     "name": "stdout",
     "output_type": "stream",
     "text": [
      "maxCommonNeighborsSyndrome 肾精亏虚\n"
     ]
    },
    {
     "data": {
      "application/javascript": [
       "\n",
       "        if (window._pyforest_update_imports_cell) { window._pyforest_update_imports_cell('import pandas as pd'); }\n",
       "    "
      ],
      "text/plain": [
       "<IPython.core.display.Javascript object>"
      ]
     },
     "metadata": {},
     "output_type": "display_data"
    },
    {
     "name": "stdout",
     "output_type": "stream",
     "text": [
      "maxCommonNeighborsSyndrome 痰火郁结\n"
     ]
    },
    {
     "data": {
      "application/javascript": [
       "\n",
       "        if (window._pyforest_update_imports_cell) { window._pyforest_update_imports_cell('import pandas as pd'); }\n",
       "    "
      ],
      "text/plain": [
       "<IPython.core.display.Javascript object>"
      ]
     },
     "metadata": {},
     "output_type": "display_data"
    },
    {
     "name": "stdout",
     "output_type": "stream",
     "text": [
      "maxCommonNeighborsSyndrome 肾精亏虚\n"
     ]
    },
    {
     "data": {
      "application/javascript": [
       "\n",
       "        if (window._pyforest_update_imports_cell) { window._pyforest_update_imports_cell('import pandas as pd'); }\n",
       "    "
      ],
      "text/plain": [
       "<IPython.core.display.Javascript object>"
      ]
     },
     "metadata": {},
     "output_type": "display_data"
    },
    {
     "name": "stdout",
     "output_type": "stream",
     "text": [
      "maxCommonNeighborsSyndrome 肝火上扰\n"
     ]
    },
    {
     "data": {
      "application/javascript": [
       "\n",
       "        if (window._pyforest_update_imports_cell) { window._pyforest_update_imports_cell('import pandas as pd'); }\n",
       "    "
      ],
      "text/plain": [
       "<IPython.core.display.Javascript object>"
      ]
     },
     "metadata": {},
     "output_type": "display_data"
    },
    {
     "name": "stdout",
     "output_type": "stream",
     "text": [
      "maxCommonNeighborsSyndrome 痰火郁结\n"
     ]
    },
    {
     "data": {
      "application/javascript": [
       "\n",
       "        if (window._pyforest_update_imports_cell) { window._pyforest_update_imports_cell('import pandas as pd'); }\n",
       "    "
      ],
      "text/plain": [
       "<IPython.core.display.Javascript object>"
      ]
     },
     "metadata": {},
     "output_type": "display_data"
    },
    {
     "name": "stdout",
     "output_type": "stream",
     "text": [
      "maxCommonNeighborsSyndrome 肝火上扰\n"
     ]
    },
    {
     "data": {
      "application/javascript": [
       "\n",
       "        if (window._pyforest_update_imports_cell) { window._pyforest_update_imports_cell('import pandas as pd'); }\n",
       "    "
      ],
      "text/plain": [
       "<IPython.core.display.Javascript object>"
      ]
     },
     "metadata": {},
     "output_type": "display_data"
    },
    {
     "name": "stdout",
     "output_type": "stream",
     "text": [
      "maxCommonNeighborsSyndrome 肾精亏虚\n"
     ]
    },
    {
     "data": {
      "application/javascript": [
       "\n",
       "        if (window._pyforest_update_imports_cell) { window._pyforest_update_imports_cell('import pandas as pd'); }\n",
       "    "
      ],
      "text/plain": [
       "<IPython.core.display.Javascript object>"
      ]
     },
     "metadata": {},
     "output_type": "display_data"
    },
    {
     "name": "stdout",
     "output_type": "stream",
     "text": [
      "maxCommonNeighborsSyndrome 痰火郁结\n"
     ]
    },
    {
     "data": {
      "application/javascript": [
       "\n",
       "        if (window._pyforest_update_imports_cell) { window._pyforest_update_imports_cell('import pandas as pd'); }\n",
       "    "
      ],
      "text/plain": [
       "<IPython.core.display.Javascript object>"
      ]
     },
     "metadata": {},
     "output_type": "display_data"
    },
    {
     "name": "stdout",
     "output_type": "stream",
     "text": [
      "maxCommonNeighborsSyndrome 肾精亏虚\n"
     ]
    },
    {
     "data": {
      "application/javascript": [
       "\n",
       "        if (window._pyforest_update_imports_cell) { window._pyforest_update_imports_cell('import pandas as pd'); }\n",
       "    "
      ],
      "text/plain": [
       "<IPython.core.display.Javascript object>"
      ]
     },
     "metadata": {},
     "output_type": "display_data"
    },
    {
     "name": "stdout",
     "output_type": "stream",
     "text": [
      "maxCommonNeighborsSyndrome 风热侵袭\n"
     ]
    },
    {
     "data": {
      "application/javascript": [
       "\n",
       "        if (window._pyforest_update_imports_cell) { window._pyforest_update_imports_cell('import pandas as pd'); }\n",
       "    "
      ],
      "text/plain": [
       "<IPython.core.display.Javascript object>"
      ]
     },
     "metadata": {},
     "output_type": "display_data"
    },
    {
     "name": "stdout",
     "output_type": "stream",
     "text": [
      "maxCommonNeighborsSyndrome 肾精亏虚\n"
     ]
    },
    {
     "data": {
      "application/javascript": [
       "\n",
       "        if (window._pyforest_update_imports_cell) { window._pyforest_update_imports_cell('import pandas as pd'); }\n",
       "    "
      ],
      "text/plain": [
       "<IPython.core.display.Javascript object>"
      ]
     },
     "metadata": {},
     "output_type": "display_data"
    },
    {
     "name": "stdout",
     "output_type": "stream",
     "text": [
      "maxCommonNeighborsSyndrome 风热侵袭\n"
     ]
    },
    {
     "data": {
      "application/javascript": [
       "\n",
       "        if (window._pyforest_update_imports_cell) { window._pyforest_update_imports_cell('import pandas as pd'); }\n",
       "    "
      ],
      "text/plain": [
       "<IPython.core.display.Javascript object>"
      ]
     },
     "metadata": {},
     "output_type": "display_data"
    },
    {
     "name": "stdout",
     "output_type": "stream",
     "text": [
      "maxCommonNeighborsSyndrome 脾胃虚弱\n"
     ]
    },
    {
     "data": {
      "application/javascript": [
       "\n",
       "        if (window._pyforest_update_imports_cell) { window._pyforest_update_imports_cell('import pandas as pd'); }\n",
       "    "
      ],
      "text/plain": [
       "<IPython.core.display.Javascript object>"
      ]
     },
     "metadata": {},
     "output_type": "display_data"
    },
    {
     "name": "stdout",
     "output_type": "stream",
     "text": [
      "maxCommonNeighborsSyndrome 肝火上扰\n"
     ]
    },
    {
     "data": {
      "application/javascript": [
       "\n",
       "        if (window._pyforest_update_imports_cell) { window._pyforest_update_imports_cell('import pandas as pd'); }\n",
       "    "
      ],
      "text/plain": [
       "<IPython.core.display.Javascript object>"
      ]
     },
     "metadata": {},
     "output_type": "display_data"
    },
    {
     "name": "stdout",
     "output_type": "stream",
     "text": [
      "maxCommonNeighborsSyndrome 肾精亏虚\n"
     ]
    },
    {
     "data": {
      "application/javascript": [
       "\n",
       "        if (window._pyforest_update_imports_cell) { window._pyforest_update_imports_cell('import pandas as pd'); }\n",
       "    "
      ],
      "text/plain": [
       "<IPython.core.display.Javascript object>"
      ]
     },
     "metadata": {},
     "output_type": "display_data"
    },
    {
     "name": "stdout",
     "output_type": "stream",
     "text": [
      "maxCommonNeighborsSyndrome 肝火上扰\n"
     ]
    },
    {
     "data": {
      "application/javascript": [
       "\n",
       "        if (window._pyforest_update_imports_cell) { window._pyforest_update_imports_cell('import pandas as pd'); }\n",
       "    "
      ],
      "text/plain": [
       "<IPython.core.display.Javascript object>"
      ]
     },
     "metadata": {},
     "output_type": "display_data"
    },
    {
     "name": "stdout",
     "output_type": "stream",
     "text": [
      "maxCommonNeighborsSyndrome 肝火上扰\n"
     ]
    },
    {
     "data": {
      "application/javascript": [
       "\n",
       "        if (window._pyforest_update_imports_cell) { window._pyforest_update_imports_cell('import pandas as pd'); }\n",
       "    "
      ],
      "text/plain": [
       "<IPython.core.display.Javascript object>"
      ]
     },
     "metadata": {},
     "output_type": "display_data"
    },
    {
     "name": "stdout",
     "output_type": "stream",
     "text": [
      "maxCommonNeighborsSyndrome 脾胃虚弱\n"
     ]
    },
    {
     "data": {
      "application/javascript": [
       "\n",
       "        if (window._pyforest_update_imports_cell) { window._pyforest_update_imports_cell('import pandas as pd'); }\n",
       "    "
      ],
      "text/plain": [
       "<IPython.core.display.Javascript object>"
      ]
     },
     "metadata": {},
     "output_type": "display_data"
    },
    {
     "name": "stdout",
     "output_type": "stream",
     "text": [
      "maxCommonNeighborsSyndrome 肾精亏虚\n"
     ]
    },
    {
     "data": {
      "application/javascript": [
       "\n",
       "        if (window._pyforest_update_imports_cell) { window._pyforest_update_imports_cell('import pandas as pd'); }\n",
       "    "
      ],
      "text/plain": [
       "<IPython.core.display.Javascript object>"
      ]
     },
     "metadata": {},
     "output_type": "display_data"
    },
    {
     "name": "stdout",
     "output_type": "stream",
     "text": [
      "maxCommonNeighborsSyndrome 脾胃虚弱\n"
     ]
    },
    {
     "data": {
      "application/javascript": [
       "\n",
       "        if (window._pyforest_update_imports_cell) { window._pyforest_update_imports_cell('import pandas as pd'); }\n",
       "    "
      ],
      "text/plain": [
       "<IPython.core.display.Javascript object>"
      ]
     },
     "metadata": {},
     "output_type": "display_data"
    },
    {
     "name": "stdout",
     "output_type": "stream",
     "text": [
      "maxCommonNeighborsSyndrome 肾精亏虚\n"
     ]
    },
    {
     "data": {
      "application/javascript": [
       "\n",
       "        if (window._pyforest_update_imports_cell) { window._pyforest_update_imports_cell('import pandas as pd'); }\n",
       "    "
      ],
      "text/plain": [
       "<IPython.core.display.Javascript object>"
      ]
     },
     "metadata": {},
     "output_type": "display_data"
    },
    {
     "name": "stdout",
     "output_type": "stream",
     "text": [
      "maxCommonNeighborsSyndrome 肾精亏虚\n"
     ]
    },
    {
     "data": {
      "application/javascript": [
       "\n",
       "        if (window._pyforest_update_imports_cell) { window._pyforest_update_imports_cell('import pandas as pd'); }\n",
       "    "
      ],
      "text/plain": [
       "<IPython.core.display.Javascript object>"
      ]
     },
     "metadata": {},
     "output_type": "display_data"
    },
    {
     "name": "stdout",
     "output_type": "stream",
     "text": [
      "maxCommonNeighborsSyndrome 肾精亏虚\n"
     ]
    },
    {
     "data": {
      "application/javascript": [
       "\n",
       "        if (window._pyforest_update_imports_cell) { window._pyforest_update_imports_cell('import pandas as pd'); }\n",
       "    "
      ],
      "text/plain": [
       "<IPython.core.display.Javascript object>"
      ]
     },
     "metadata": {},
     "output_type": "display_data"
    },
    {
     "name": "stdout",
     "output_type": "stream",
     "text": [
      "maxCommonNeighborsSyndrome 肝火上扰\n"
     ]
    },
    {
     "data": {
      "application/javascript": [
       "\n",
       "        if (window._pyforest_update_imports_cell) { window._pyforest_update_imports_cell('import pandas as pd'); }\n",
       "    "
      ],
      "text/plain": [
       "<IPython.core.display.Javascript object>"
      ]
     },
     "metadata": {},
     "output_type": "display_data"
    },
    {
     "name": "stdout",
     "output_type": "stream",
     "text": [
      "maxCommonNeighborsSyndrome 痰火郁结\n"
     ]
    },
    {
     "data": {
      "application/javascript": [
       "\n",
       "        if (window._pyforest_update_imports_cell) { window._pyforest_update_imports_cell('import pandas as pd'); }\n",
       "    "
      ],
      "text/plain": [
       "<IPython.core.display.Javascript object>"
      ]
     },
     "metadata": {},
     "output_type": "display_data"
    },
    {
     "name": "stdout",
     "output_type": "stream",
     "text": [
      "maxCommonNeighborsSyndrome 痰火郁结\n"
     ]
    },
    {
     "data": {
      "application/javascript": [
       "\n",
       "        if (window._pyforest_update_imports_cell) { window._pyforest_update_imports_cell('import pandas as pd'); }\n",
       "    "
      ],
      "text/plain": [
       "<IPython.core.display.Javascript object>"
      ]
     },
     "metadata": {},
     "output_type": "display_data"
    },
    {
     "name": "stdout",
     "output_type": "stream",
     "text": [
      "maxCommonNeighborsSyndrome 脾胃虚弱\n"
     ]
    },
    {
     "data": {
      "application/javascript": [
       "\n",
       "        if (window._pyforest_update_imports_cell) { window._pyforest_update_imports_cell('import pandas as pd'); }\n",
       "    "
      ],
      "text/plain": [
       "<IPython.core.display.Javascript object>"
      ]
     },
     "metadata": {},
     "output_type": "display_data"
    },
    {
     "name": "stdout",
     "output_type": "stream",
     "text": [
      "maxCommonNeighborsSyndrome 痰火郁结\n"
     ]
    },
    {
     "data": {
      "application/javascript": [
       "\n",
       "        if (window._pyforest_update_imports_cell) { window._pyforest_update_imports_cell('import pandas as pd'); }\n",
       "    "
      ],
      "text/plain": [
       "<IPython.core.display.Javascript object>"
      ]
     },
     "metadata": {},
     "output_type": "display_data"
    },
    {
     "name": "stdout",
     "output_type": "stream",
     "text": [
      "maxCommonNeighborsSyndrome 风热侵袭\n"
     ]
    },
    {
     "data": {
      "application/javascript": [
       "\n",
       "        if (window._pyforest_update_imports_cell) { window._pyforest_update_imports_cell('import pandas as pd'); }\n",
       "    "
      ],
      "text/plain": [
       "<IPython.core.display.Javascript object>"
      ]
     },
     "metadata": {},
     "output_type": "display_data"
    },
    {
     "name": "stdout",
     "output_type": "stream",
     "text": [
      "maxCommonNeighborsSyndrome 肝火上扰\n"
     ]
    },
    {
     "data": {
      "application/javascript": [
       "\n",
       "        if (window._pyforest_update_imports_cell) { window._pyforest_update_imports_cell('import pandas as pd'); }\n",
       "    "
      ],
      "text/plain": [
       "<IPython.core.display.Javascript object>"
      ]
     },
     "metadata": {},
     "output_type": "display_data"
    },
    {
     "name": "stdout",
     "output_type": "stream",
     "text": [
      "maxCommonNeighborsSyndrome 肝火上扰\n"
     ]
    },
    {
     "data": {
      "application/javascript": [
       "\n",
       "        if (window._pyforest_update_imports_cell) { window._pyforest_update_imports_cell('import pandas as pd'); }\n",
       "    "
      ],
      "text/plain": [
       "<IPython.core.display.Javascript object>"
      ]
     },
     "metadata": {},
     "output_type": "display_data"
    },
    {
     "name": "stdout",
     "output_type": "stream",
     "text": [
      "maxCommonNeighborsSyndrome 肝火上扰\n"
     ]
    },
    {
     "data": {
      "application/javascript": [
       "\n",
       "        if (window._pyforest_update_imports_cell) { window._pyforest_update_imports_cell('import pandas as pd'); }\n",
       "    "
      ],
      "text/plain": [
       "<IPython.core.display.Javascript object>"
      ]
     },
     "metadata": {},
     "output_type": "display_data"
    },
    {
     "name": "stdout",
     "output_type": "stream",
     "text": [
      "maxCommonNeighborsSyndrome 痰火郁结\n"
     ]
    },
    {
     "data": {
      "application/javascript": [
       "\n",
       "        if (window._pyforest_update_imports_cell) { window._pyforest_update_imports_cell('import pandas as pd'); }\n",
       "    "
      ],
      "text/plain": [
       "<IPython.core.display.Javascript object>"
      ]
     },
     "metadata": {},
     "output_type": "display_data"
    },
    {
     "name": "stdout",
     "output_type": "stream",
     "text": [
      "maxCommonNeighborsSyndrome 脾胃虚弱\n"
     ]
    },
    {
     "data": {
      "application/javascript": [
       "\n",
       "        if (window._pyforest_update_imports_cell) { window._pyforest_update_imports_cell('import pandas as pd'); }\n",
       "    "
      ],
      "text/plain": [
       "<IPython.core.display.Javascript object>"
      ]
     },
     "metadata": {},
     "output_type": "display_data"
    },
    {
     "name": "stdout",
     "output_type": "stream",
     "text": [
      "maxCommonNeighborsSyndrome 肝火上扰\n"
     ]
    },
    {
     "data": {
      "application/javascript": [
       "\n",
       "        if (window._pyforest_update_imports_cell) { window._pyforest_update_imports_cell('import pandas as pd'); }\n",
       "    "
      ],
      "text/plain": [
       "<IPython.core.display.Javascript object>"
      ]
     },
     "metadata": {},
     "output_type": "display_data"
    },
    {
     "name": "stdout",
     "output_type": "stream",
     "text": [
      "maxCommonNeighborsSyndrome 风热侵袭\n"
     ]
    },
    {
     "data": {
      "application/javascript": [
       "\n",
       "        if (window._pyforest_update_imports_cell) { window._pyforest_update_imports_cell('import pandas as pd'); }\n",
       "    "
      ],
      "text/plain": [
       "<IPython.core.display.Javascript object>"
      ]
     },
     "metadata": {},
     "output_type": "display_data"
    },
    {
     "name": "stdout",
     "output_type": "stream",
     "text": [
      "maxCommonNeighborsSyndrome 痰火郁结\n"
     ]
    },
    {
     "data": {
      "application/javascript": [
       "\n",
       "        if (window._pyforest_update_imports_cell) { window._pyforest_update_imports_cell('import pandas as pd'); }\n",
       "    "
      ],
      "text/plain": [
       "<IPython.core.display.Javascript object>"
      ]
     },
     "metadata": {},
     "output_type": "display_data"
    },
    {
     "name": "stdout",
     "output_type": "stream",
     "text": [
      "maxCommonNeighborsSyndrome 痰火郁结\n"
     ]
    },
    {
     "data": {
      "application/javascript": [
       "\n",
       "        if (window._pyforest_update_imports_cell) { window._pyforest_update_imports_cell('import pandas as pd'); }\n",
       "    "
      ],
      "text/plain": [
       "<IPython.core.display.Javascript object>"
      ]
     },
     "metadata": {},
     "output_type": "display_data"
    },
    {
     "name": "stdout",
     "output_type": "stream",
     "text": [
      "maxCommonNeighborsSyndrome 痰火郁结\n"
     ]
    }
   ],
   "source": [
    "data_Syndrome1=[]\n",
    "data_Syndrome1_=[]\n",
    "data_Syndrome2_=[]\n",
    "result_commonNeighbors_=[]\n",
    "patients1=[]\n",
    "patients2=[]\n",
    "result_Syndrome=[]\n",
    "#训练集trainData[\"患者\"]\n",
    "label='中医辨证'\n",
    "# label='二十五音'\n",
    "#所有数据\n",
    "for patientName1 in testData[\"患者\"]:\n",
    "    data_Syndrome2=[]\n",
    "    result_commonNeighbors=[]\n",
    "    patient1_Syndrome=graph.nodes.match('Patient', name=f'{patientName1}').first()[f'{label}']\n",
    "    data_Syndrome1.append(patient1_Syndrome)\n",
    "    for patientName2 in trainData[\"患者\"]:\n",
    "        if patientName1 != patientName2:\n",
    "            cypher_=\"MATCH (p1:Patient {name:\\'\"+f'{patientName1}'+\"\\'}) MATCH (p2:Patient {name: \\'\"+f'{patientName2}'+\"\\'}) RETURN gds.alpha.linkprediction.adamicAdar(p1, p2) AS score\"\n",
    "            data_commonNeighbors = graph.run(cypher_).to_data_frame()\n",
    "            patient2_Syndrome=graph.nodes.match('Patient', name=f'{patientName2}').first()[f'{label}']\n",
    "            data_Syndrome2.append(patient2_Syndrome)\n",
    "            data_Syndrome1_.append(patient1_Syndrome)\n",
    "            data_Syndrome2_.append(patient2_Syndrome)\n",
    "            result_commonNeighbors_.append(data_commonNeighbors[\"score\"][0])\n",
    "            result_commonNeighbors.append(data_commonNeighbors[\"score\"][0])\n",
    "            patients1.append(patientName1)\n",
    "            patients2.append(patientName2)\n",
    "    commonNeighbors_result1=getMaxcommonNeighborsSyndrome(data_Syndrome2,result_commonNeighbors)\n",
    "    maxCommonNeighborsSyndrome=max_list(commonNeighbors_result1['Patient2证型'].values.tolist())\n",
    "    print(\"maxCommonNeighborsSyndrome\",maxCommonNeighborsSyndrome)\n",
    "    result_Syndrome.append(maxCommonNeighborsSyndrome)\n"
   ]
  },
  {
   "cell_type": "markdown",
   "id": "3ef9e5eb-6a92-4c73-bb08-84d99acaf427",
   "metadata": {},
   "source": [
    "### resourceAllocation"
   ]
  },
  {
   "cell_type": "code",
   "execution_count": 63,
   "id": "90522e34-6b52-435e-b50f-bdd9c0150603",
   "metadata": {},
   "outputs": [
    {
     "data": {
      "application/javascript": [
       "\n",
       "        if (window._pyforest_update_imports_cell) { window._pyforest_update_imports_cell('import pandas as pd'); }\n",
       "    "
      ],
      "text/plain": [
       "<IPython.core.display.Javascript object>"
      ]
     },
     "metadata": {},
     "output_type": "display_data"
    },
    {
     "name": "stdout",
     "output_type": "stream",
     "text": [
      "maxCommonNeighborsSyndrome 肾精亏虚\n"
     ]
    },
    {
     "data": {
      "application/javascript": [
       "\n",
       "        if (window._pyforest_update_imports_cell) { window._pyforest_update_imports_cell('import pandas as pd'); }\n",
       "    "
      ],
      "text/plain": [
       "<IPython.core.display.Javascript object>"
      ]
     },
     "metadata": {},
     "output_type": "display_data"
    },
    {
     "name": "stdout",
     "output_type": "stream",
     "text": [
      "maxCommonNeighborsSyndrome 脾胃虚弱\n"
     ]
    },
    {
     "data": {
      "application/javascript": [
       "\n",
       "        if (window._pyforest_update_imports_cell) { window._pyforest_update_imports_cell('import pandas as pd'); }\n",
       "    "
      ],
      "text/plain": [
       "<IPython.core.display.Javascript object>"
      ]
     },
     "metadata": {},
     "output_type": "display_data"
    },
    {
     "name": "stdout",
     "output_type": "stream",
     "text": [
      "maxCommonNeighborsSyndrome 脾胃虚弱\n"
     ]
    },
    {
     "data": {
      "application/javascript": [
       "\n",
       "        if (window._pyforest_update_imports_cell) { window._pyforest_update_imports_cell('import pandas as pd'); }\n",
       "    "
      ],
      "text/plain": [
       "<IPython.core.display.Javascript object>"
      ]
     },
     "metadata": {},
     "output_type": "display_data"
    },
    {
     "name": "stdout",
     "output_type": "stream",
     "text": [
      "maxCommonNeighborsSyndrome 脾胃虚弱\n"
     ]
    },
    {
     "data": {
      "application/javascript": [
       "\n",
       "        if (window._pyforest_update_imports_cell) { window._pyforest_update_imports_cell('import pandas as pd'); }\n",
       "    "
      ],
      "text/plain": [
       "<IPython.core.display.Javascript object>"
      ]
     },
     "metadata": {},
     "output_type": "display_data"
    },
    {
     "name": "stdout",
     "output_type": "stream",
     "text": [
      "maxCommonNeighborsSyndrome 肝火上扰\n"
     ]
    },
    {
     "data": {
      "application/javascript": [
       "\n",
       "        if (window._pyforest_update_imports_cell) { window._pyforest_update_imports_cell('import pandas as pd'); }\n",
       "    "
      ],
      "text/plain": [
       "<IPython.core.display.Javascript object>"
      ]
     },
     "metadata": {},
     "output_type": "display_data"
    },
    {
     "name": "stdout",
     "output_type": "stream",
     "text": [
      "maxCommonNeighborsSyndrome 脾胃虚弱\n"
     ]
    },
    {
     "data": {
      "application/javascript": [
       "\n",
       "        if (window._pyforest_update_imports_cell) { window._pyforest_update_imports_cell('import pandas as pd'); }\n",
       "    "
      ],
      "text/plain": [
       "<IPython.core.display.Javascript object>"
      ]
     },
     "metadata": {},
     "output_type": "display_data"
    },
    {
     "name": "stdout",
     "output_type": "stream",
     "text": [
      "maxCommonNeighborsSyndrome 脾胃虚弱\n"
     ]
    },
    {
     "data": {
      "application/javascript": [
       "\n",
       "        if (window._pyforest_update_imports_cell) { window._pyforest_update_imports_cell('import pandas as pd'); }\n",
       "    "
      ],
      "text/plain": [
       "<IPython.core.display.Javascript object>"
      ]
     },
     "metadata": {},
     "output_type": "display_data"
    },
    {
     "name": "stdout",
     "output_type": "stream",
     "text": [
      "maxCommonNeighborsSyndrome 肾精亏虚\n"
     ]
    },
    {
     "data": {
      "application/javascript": [
       "\n",
       "        if (window._pyforest_update_imports_cell) { window._pyforest_update_imports_cell('import pandas as pd'); }\n",
       "    "
      ],
      "text/plain": [
       "<IPython.core.display.Javascript object>"
      ]
     },
     "metadata": {},
     "output_type": "display_data"
    },
    {
     "name": "stdout",
     "output_type": "stream",
     "text": [
      "maxCommonNeighborsSyndrome 肝火上扰\n"
     ]
    },
    {
     "data": {
      "application/javascript": [
       "\n",
       "        if (window._pyforest_update_imports_cell) { window._pyforest_update_imports_cell('import pandas as pd'); }\n",
       "    "
      ],
      "text/plain": [
       "<IPython.core.display.Javascript object>"
      ]
     },
     "metadata": {},
     "output_type": "display_data"
    },
    {
     "name": "stdout",
     "output_type": "stream",
     "text": [
      "maxCommonNeighborsSyndrome 脾胃虚弱\n"
     ]
    },
    {
     "data": {
      "application/javascript": [
       "\n",
       "        if (window._pyforest_update_imports_cell) { window._pyforest_update_imports_cell('import pandas as pd'); }\n",
       "    "
      ],
      "text/plain": [
       "<IPython.core.display.Javascript object>"
      ]
     },
     "metadata": {},
     "output_type": "display_data"
    },
    {
     "name": "stdout",
     "output_type": "stream",
     "text": [
      "maxCommonNeighborsSyndrome 脾胃虚弱\n"
     ]
    },
    {
     "data": {
      "application/javascript": [
       "\n",
       "        if (window._pyforest_update_imports_cell) { window._pyforest_update_imports_cell('import pandas as pd'); }\n",
       "    "
      ],
      "text/plain": [
       "<IPython.core.display.Javascript object>"
      ]
     },
     "metadata": {},
     "output_type": "display_data"
    },
    {
     "name": "stdout",
     "output_type": "stream",
     "text": [
      "maxCommonNeighborsSyndrome 脾胃虚弱\n"
     ]
    },
    {
     "data": {
      "application/javascript": [
       "\n",
       "        if (window._pyforest_update_imports_cell) { window._pyforest_update_imports_cell('import pandas as pd'); }\n",
       "    "
      ],
      "text/plain": [
       "<IPython.core.display.Javascript object>"
      ]
     },
     "metadata": {},
     "output_type": "display_data"
    },
    {
     "name": "stdout",
     "output_type": "stream",
     "text": [
      "maxCommonNeighborsSyndrome 脾胃虚弱\n"
     ]
    },
    {
     "data": {
      "application/javascript": [
       "\n",
       "        if (window._pyforest_update_imports_cell) { window._pyforest_update_imports_cell('import pandas as pd'); }\n",
       "    "
      ],
      "text/plain": [
       "<IPython.core.display.Javascript object>"
      ]
     },
     "metadata": {},
     "output_type": "display_data"
    },
    {
     "name": "stdout",
     "output_type": "stream",
     "text": [
      "maxCommonNeighborsSyndrome 肾精亏虚\n"
     ]
    },
    {
     "data": {
      "application/javascript": [
       "\n",
       "        if (window._pyforest_update_imports_cell) { window._pyforest_update_imports_cell('import pandas as pd'); }\n",
       "    "
      ],
      "text/plain": [
       "<IPython.core.display.Javascript object>"
      ]
     },
     "metadata": {},
     "output_type": "display_data"
    },
    {
     "name": "stdout",
     "output_type": "stream",
     "text": [
      "maxCommonNeighborsSyndrome 脾胃虚弱\n"
     ]
    },
    {
     "data": {
      "application/javascript": [
       "\n",
       "        if (window._pyforest_update_imports_cell) { window._pyforest_update_imports_cell('import pandas as pd'); }\n",
       "    "
      ],
      "text/plain": [
       "<IPython.core.display.Javascript object>"
      ]
     },
     "metadata": {},
     "output_type": "display_data"
    },
    {
     "name": "stdout",
     "output_type": "stream",
     "text": [
      "maxCommonNeighborsSyndrome 脾胃虚弱\n"
     ]
    },
    {
     "data": {
      "application/javascript": [
       "\n",
       "        if (window._pyforest_update_imports_cell) { window._pyforest_update_imports_cell('import pandas as pd'); }\n",
       "    "
      ],
      "text/plain": [
       "<IPython.core.display.Javascript object>"
      ]
     },
     "metadata": {},
     "output_type": "display_data"
    },
    {
     "name": "stdout",
     "output_type": "stream",
     "text": [
      "maxCommonNeighborsSyndrome 脾胃虚弱\n"
     ]
    },
    {
     "data": {
      "application/javascript": [
       "\n",
       "        if (window._pyforest_update_imports_cell) { window._pyforest_update_imports_cell('import pandas as pd'); }\n",
       "    "
      ],
      "text/plain": [
       "<IPython.core.display.Javascript object>"
      ]
     },
     "metadata": {},
     "output_type": "display_data"
    },
    {
     "name": "stdout",
     "output_type": "stream",
     "text": [
      "maxCommonNeighborsSyndrome 肾精亏虚\n"
     ]
    },
    {
     "data": {
      "application/javascript": [
       "\n",
       "        if (window._pyforest_update_imports_cell) { window._pyforest_update_imports_cell('import pandas as pd'); }\n",
       "    "
      ],
      "text/plain": [
       "<IPython.core.display.Javascript object>"
      ]
     },
     "metadata": {},
     "output_type": "display_data"
    },
    {
     "name": "stdout",
     "output_type": "stream",
     "text": [
      "maxCommonNeighborsSyndrome 脾胃虚弱\n"
     ]
    },
    {
     "data": {
      "application/javascript": [
       "\n",
       "        if (window._pyforest_update_imports_cell) { window._pyforest_update_imports_cell('import pandas as pd'); }\n",
       "    "
      ],
      "text/plain": [
       "<IPython.core.display.Javascript object>"
      ]
     },
     "metadata": {},
     "output_type": "display_data"
    },
    {
     "name": "stdout",
     "output_type": "stream",
     "text": [
      "maxCommonNeighborsSyndrome 脾胃虚弱\n"
     ]
    },
    {
     "data": {
      "application/javascript": [
       "\n",
       "        if (window._pyforest_update_imports_cell) { window._pyforest_update_imports_cell('import pandas as pd'); }\n",
       "    "
      ],
      "text/plain": [
       "<IPython.core.display.Javascript object>"
      ]
     },
     "metadata": {},
     "output_type": "display_data"
    },
    {
     "name": "stdout",
     "output_type": "stream",
     "text": [
      "maxCommonNeighborsSyndrome 肝火上扰\n"
     ]
    },
    {
     "data": {
      "application/javascript": [
       "\n",
       "        if (window._pyforest_update_imports_cell) { window._pyforest_update_imports_cell('import pandas as pd'); }\n",
       "    "
      ],
      "text/plain": [
       "<IPython.core.display.Javascript object>"
      ]
     },
     "metadata": {},
     "output_type": "display_data"
    },
    {
     "name": "stdout",
     "output_type": "stream",
     "text": [
      "maxCommonNeighborsSyndrome 脾胃虚弱\n"
     ]
    },
    {
     "data": {
      "application/javascript": [
       "\n",
       "        if (window._pyforest_update_imports_cell) { window._pyforest_update_imports_cell('import pandas as pd'); }\n",
       "    "
      ],
      "text/plain": [
       "<IPython.core.display.Javascript object>"
      ]
     },
     "metadata": {},
     "output_type": "display_data"
    },
    {
     "name": "stdout",
     "output_type": "stream",
     "text": [
      "maxCommonNeighborsSyndrome 肾精亏虚\n"
     ]
    },
    {
     "data": {
      "application/javascript": [
       "\n",
       "        if (window._pyforest_update_imports_cell) { window._pyforest_update_imports_cell('import pandas as pd'); }\n",
       "    "
      ],
      "text/plain": [
       "<IPython.core.display.Javascript object>"
      ]
     },
     "metadata": {},
     "output_type": "display_data"
    },
    {
     "name": "stdout",
     "output_type": "stream",
     "text": [
      "maxCommonNeighborsSyndrome 脾胃虚弱\n"
     ]
    },
    {
     "data": {
      "application/javascript": [
       "\n",
       "        if (window._pyforest_update_imports_cell) { window._pyforest_update_imports_cell('import pandas as pd'); }\n",
       "    "
      ],
      "text/plain": [
       "<IPython.core.display.Javascript object>"
      ]
     },
     "metadata": {},
     "output_type": "display_data"
    },
    {
     "name": "stdout",
     "output_type": "stream",
     "text": [
      "maxCommonNeighborsSyndrome 脾胃虚弱\n"
     ]
    },
    {
     "data": {
      "application/javascript": [
       "\n",
       "        if (window._pyforest_update_imports_cell) { window._pyforest_update_imports_cell('import pandas as pd'); }\n",
       "    "
      ],
      "text/plain": [
       "<IPython.core.display.Javascript object>"
      ]
     },
     "metadata": {},
     "output_type": "display_data"
    },
    {
     "name": "stdout",
     "output_type": "stream",
     "text": [
      "maxCommonNeighborsSyndrome 脾胃虚弱\n"
     ]
    },
    {
     "data": {
      "application/javascript": [
       "\n",
       "        if (window._pyforest_update_imports_cell) { window._pyforest_update_imports_cell('import pandas as pd'); }\n",
       "    "
      ],
      "text/plain": [
       "<IPython.core.display.Javascript object>"
      ]
     },
     "metadata": {},
     "output_type": "display_data"
    },
    {
     "name": "stdout",
     "output_type": "stream",
     "text": [
      "maxCommonNeighborsSyndrome 肾精亏虚\n"
     ]
    },
    {
     "data": {
      "application/javascript": [
       "\n",
       "        if (window._pyforest_update_imports_cell) { window._pyforest_update_imports_cell('import pandas as pd'); }\n",
       "    "
      ],
      "text/plain": [
       "<IPython.core.display.Javascript object>"
      ]
     },
     "metadata": {},
     "output_type": "display_data"
    },
    {
     "name": "stdout",
     "output_type": "stream",
     "text": [
      "maxCommonNeighborsSyndrome 肾精亏虚\n"
     ]
    },
    {
     "data": {
      "application/javascript": [
       "\n",
       "        if (window._pyforest_update_imports_cell) { window._pyforest_update_imports_cell('import pandas as pd'); }\n",
       "    "
      ],
      "text/plain": [
       "<IPython.core.display.Javascript object>"
      ]
     },
     "metadata": {},
     "output_type": "display_data"
    },
    {
     "name": "stdout",
     "output_type": "stream",
     "text": [
      "maxCommonNeighborsSyndrome 肾精亏虚\n"
     ]
    },
    {
     "data": {
      "application/javascript": [
       "\n",
       "        if (window._pyforest_update_imports_cell) { window._pyforest_update_imports_cell('import pandas as pd'); }\n",
       "    "
      ],
      "text/plain": [
       "<IPython.core.display.Javascript object>"
      ]
     },
     "metadata": {},
     "output_type": "display_data"
    },
    {
     "name": "stdout",
     "output_type": "stream",
     "text": [
      "maxCommonNeighborsSyndrome 肾精亏虚\n"
     ]
    },
    {
     "data": {
      "application/javascript": [
       "\n",
       "        if (window._pyforest_update_imports_cell) { window._pyforest_update_imports_cell('import pandas as pd'); }\n",
       "    "
      ],
      "text/plain": [
       "<IPython.core.display.Javascript object>"
      ]
     },
     "metadata": {},
     "output_type": "display_data"
    },
    {
     "name": "stdout",
     "output_type": "stream",
     "text": [
      "maxCommonNeighborsSyndrome 脾胃虚弱\n"
     ]
    },
    {
     "data": {
      "application/javascript": [
       "\n",
       "        if (window._pyforest_update_imports_cell) { window._pyforest_update_imports_cell('import pandas as pd'); }\n",
       "    "
      ],
      "text/plain": [
       "<IPython.core.display.Javascript object>"
      ]
     },
     "metadata": {},
     "output_type": "display_data"
    },
    {
     "name": "stdout",
     "output_type": "stream",
     "text": [
      "maxCommonNeighborsSyndrome 肝火上扰\n"
     ]
    },
    {
     "data": {
      "application/javascript": [
       "\n",
       "        if (window._pyforest_update_imports_cell) { window._pyforest_update_imports_cell('import pandas as pd'); }\n",
       "    "
      ],
      "text/plain": [
       "<IPython.core.display.Javascript object>"
      ]
     },
     "metadata": {},
     "output_type": "display_data"
    },
    {
     "name": "stdout",
     "output_type": "stream",
     "text": [
      "maxCommonNeighborsSyndrome 肾精亏虚\n"
     ]
    },
    {
     "data": {
      "application/javascript": [
       "\n",
       "        if (window._pyforest_update_imports_cell) { window._pyforest_update_imports_cell('import pandas as pd'); }\n",
       "    "
      ],
      "text/plain": [
       "<IPython.core.display.Javascript object>"
      ]
     },
     "metadata": {},
     "output_type": "display_data"
    },
    {
     "name": "stdout",
     "output_type": "stream",
     "text": [
      "maxCommonNeighborsSyndrome 脾胃虚弱\n"
     ]
    },
    {
     "data": {
      "application/javascript": [
       "\n",
       "        if (window._pyforest_update_imports_cell) { window._pyforest_update_imports_cell('import pandas as pd'); }\n",
       "    "
      ],
      "text/plain": [
       "<IPython.core.display.Javascript object>"
      ]
     },
     "metadata": {},
     "output_type": "display_data"
    },
    {
     "name": "stdout",
     "output_type": "stream",
     "text": [
      "maxCommonNeighborsSyndrome 肝火上扰\n"
     ]
    },
    {
     "data": {
      "application/javascript": [
       "\n",
       "        if (window._pyforest_update_imports_cell) { window._pyforest_update_imports_cell('import pandas as pd'); }\n",
       "    "
      ],
      "text/plain": [
       "<IPython.core.display.Javascript object>"
      ]
     },
     "metadata": {},
     "output_type": "display_data"
    },
    {
     "name": "stdout",
     "output_type": "stream",
     "text": [
      "maxCommonNeighborsSyndrome 脾胃虚弱\n"
     ]
    },
    {
     "data": {
      "application/javascript": [
       "\n",
       "        if (window._pyforest_update_imports_cell) { window._pyforest_update_imports_cell('import pandas as pd'); }\n",
       "    "
      ],
      "text/plain": [
       "<IPython.core.display.Javascript object>"
      ]
     },
     "metadata": {},
     "output_type": "display_data"
    },
    {
     "name": "stdout",
     "output_type": "stream",
     "text": [
      "maxCommonNeighborsSyndrome 肝火上扰\n"
     ]
    },
    {
     "data": {
      "application/javascript": [
       "\n",
       "        if (window._pyforest_update_imports_cell) { window._pyforest_update_imports_cell('import pandas as pd'); }\n",
       "    "
      ],
      "text/plain": [
       "<IPython.core.display.Javascript object>"
      ]
     },
     "metadata": {},
     "output_type": "display_data"
    },
    {
     "name": "stdout",
     "output_type": "stream",
     "text": [
      "maxCommonNeighborsSyndrome 脾胃虚弱\n"
     ]
    },
    {
     "data": {
      "application/javascript": [
       "\n",
       "        if (window._pyforest_update_imports_cell) { window._pyforest_update_imports_cell('import pandas as pd'); }\n",
       "    "
      ],
      "text/plain": [
       "<IPython.core.display.Javascript object>"
      ]
     },
     "metadata": {},
     "output_type": "display_data"
    },
    {
     "name": "stdout",
     "output_type": "stream",
     "text": [
      "maxCommonNeighborsSyndrome 肝火上扰\n"
     ]
    },
    {
     "data": {
      "application/javascript": [
       "\n",
       "        if (window._pyforest_update_imports_cell) { window._pyforest_update_imports_cell('import pandas as pd'); }\n",
       "    "
      ],
      "text/plain": [
       "<IPython.core.display.Javascript object>"
      ]
     },
     "metadata": {},
     "output_type": "display_data"
    },
    {
     "name": "stdout",
     "output_type": "stream",
     "text": [
      "maxCommonNeighborsSyndrome 肝火上扰\n"
     ]
    },
    {
     "data": {
      "application/javascript": [
       "\n",
       "        if (window._pyforest_update_imports_cell) { window._pyforest_update_imports_cell('import pandas as pd'); }\n",
       "    "
      ],
      "text/plain": [
       "<IPython.core.display.Javascript object>"
      ]
     },
     "metadata": {},
     "output_type": "display_data"
    },
    {
     "name": "stdout",
     "output_type": "stream",
     "text": [
      "maxCommonNeighborsSyndrome 肝火上扰\n"
     ]
    },
    {
     "data": {
      "application/javascript": [
       "\n",
       "        if (window._pyforest_update_imports_cell) { window._pyforest_update_imports_cell('import pandas as pd'); }\n",
       "    "
      ],
      "text/plain": [
       "<IPython.core.display.Javascript object>"
      ]
     },
     "metadata": {},
     "output_type": "display_data"
    },
    {
     "name": "stdout",
     "output_type": "stream",
     "text": [
      "maxCommonNeighborsSyndrome 肾精亏虚\n"
     ]
    },
    {
     "data": {
      "application/javascript": [
       "\n",
       "        if (window._pyforest_update_imports_cell) { window._pyforest_update_imports_cell('import pandas as pd'); }\n",
       "    "
      ],
      "text/plain": [
       "<IPython.core.display.Javascript object>"
      ]
     },
     "metadata": {},
     "output_type": "display_data"
    },
    {
     "name": "stdout",
     "output_type": "stream",
     "text": [
      "maxCommonNeighborsSyndrome 肝火上扰\n"
     ]
    },
    {
     "data": {
      "application/javascript": [
       "\n",
       "        if (window._pyforest_update_imports_cell) { window._pyforest_update_imports_cell('import pandas as pd'); }\n",
       "    "
      ],
      "text/plain": [
       "<IPython.core.display.Javascript object>"
      ]
     },
     "metadata": {},
     "output_type": "display_data"
    },
    {
     "name": "stdout",
     "output_type": "stream",
     "text": [
      "maxCommonNeighborsSyndrome 脾胃虚弱\n"
     ]
    },
    {
     "data": {
      "application/javascript": [
       "\n",
       "        if (window._pyforest_update_imports_cell) { window._pyforest_update_imports_cell('import pandas as pd'); }\n",
       "    "
      ],
      "text/plain": [
       "<IPython.core.display.Javascript object>"
      ]
     },
     "metadata": {},
     "output_type": "display_data"
    },
    {
     "name": "stdout",
     "output_type": "stream",
     "text": [
      "maxCommonNeighborsSyndrome 肾精亏虚\n"
     ]
    },
    {
     "data": {
      "application/javascript": [
       "\n",
       "        if (window._pyforest_update_imports_cell) { window._pyforest_update_imports_cell('import pandas as pd'); }\n",
       "    "
      ],
      "text/plain": [
       "<IPython.core.display.Javascript object>"
      ]
     },
     "metadata": {},
     "output_type": "display_data"
    },
    {
     "name": "stdout",
     "output_type": "stream",
     "text": [
      "maxCommonNeighborsSyndrome 肾精亏虚\n"
     ]
    },
    {
     "data": {
      "application/javascript": [
       "\n",
       "        if (window._pyforest_update_imports_cell) { window._pyforest_update_imports_cell('import pandas as pd'); }\n",
       "    "
      ],
      "text/plain": [
       "<IPython.core.display.Javascript object>"
      ]
     },
     "metadata": {},
     "output_type": "display_data"
    },
    {
     "name": "stdout",
     "output_type": "stream",
     "text": [
      "maxCommonNeighborsSyndrome 肾精亏虚\n"
     ]
    },
    {
     "data": {
      "application/javascript": [
       "\n",
       "        if (window._pyforest_update_imports_cell) { window._pyforest_update_imports_cell('import pandas as pd'); }\n",
       "    "
      ],
      "text/plain": [
       "<IPython.core.display.Javascript object>"
      ]
     },
     "metadata": {},
     "output_type": "display_data"
    },
    {
     "name": "stdout",
     "output_type": "stream",
     "text": [
      "maxCommonNeighborsSyndrome 肾精亏虚\n"
     ]
    },
    {
     "data": {
      "application/javascript": [
       "\n",
       "        if (window._pyforest_update_imports_cell) { window._pyforest_update_imports_cell('import pandas as pd'); }\n",
       "    "
      ],
      "text/plain": [
       "<IPython.core.display.Javascript object>"
      ]
     },
     "metadata": {},
     "output_type": "display_data"
    },
    {
     "name": "stdout",
     "output_type": "stream",
     "text": [
      "maxCommonNeighborsSyndrome 肝火上扰\n"
     ]
    },
    {
     "data": {
      "application/javascript": [
       "\n",
       "        if (window._pyforest_update_imports_cell) { window._pyforest_update_imports_cell('import pandas as pd'); }\n",
       "    "
      ],
      "text/plain": [
       "<IPython.core.display.Javascript object>"
      ]
     },
     "metadata": {},
     "output_type": "display_data"
    },
    {
     "name": "stdout",
     "output_type": "stream",
     "text": [
      "maxCommonNeighborsSyndrome 肝火上扰\n"
     ]
    },
    {
     "data": {
      "application/javascript": [
       "\n",
       "        if (window._pyforest_update_imports_cell) { window._pyforest_update_imports_cell('import pandas as pd'); }\n",
       "    "
      ],
      "text/plain": [
       "<IPython.core.display.Javascript object>"
      ]
     },
     "metadata": {},
     "output_type": "display_data"
    },
    {
     "name": "stdout",
     "output_type": "stream",
     "text": [
      "maxCommonNeighborsSyndrome 肾精亏虚\n"
     ]
    },
    {
     "data": {
      "application/javascript": [
       "\n",
       "        if (window._pyforest_update_imports_cell) { window._pyforest_update_imports_cell('import pandas as pd'); }\n",
       "    "
      ],
      "text/plain": [
       "<IPython.core.display.Javascript object>"
      ]
     },
     "metadata": {},
     "output_type": "display_data"
    },
    {
     "name": "stdout",
     "output_type": "stream",
     "text": [
      "maxCommonNeighborsSyndrome 肝火上扰\n"
     ]
    },
    {
     "data": {
      "application/javascript": [
       "\n",
       "        if (window._pyforest_update_imports_cell) { window._pyforest_update_imports_cell('import pandas as pd'); }\n",
       "    "
      ],
      "text/plain": [
       "<IPython.core.display.Javascript object>"
      ]
     },
     "metadata": {},
     "output_type": "display_data"
    },
    {
     "name": "stdout",
     "output_type": "stream",
     "text": [
      "maxCommonNeighborsSyndrome 肝火上扰\n"
     ]
    },
    {
     "data": {
      "application/javascript": [
       "\n",
       "        if (window._pyforest_update_imports_cell) { window._pyforest_update_imports_cell('import pandas as pd'); }\n",
       "    "
      ],
      "text/plain": [
       "<IPython.core.display.Javascript object>"
      ]
     },
     "metadata": {},
     "output_type": "display_data"
    },
    {
     "name": "stdout",
     "output_type": "stream",
     "text": [
      "maxCommonNeighborsSyndrome 脾胃虚弱\n"
     ]
    },
    {
     "data": {
      "application/javascript": [
       "\n",
       "        if (window._pyforest_update_imports_cell) { window._pyforest_update_imports_cell('import pandas as pd'); }\n",
       "    "
      ],
      "text/plain": [
       "<IPython.core.display.Javascript object>"
      ]
     },
     "metadata": {},
     "output_type": "display_data"
    },
    {
     "name": "stdout",
     "output_type": "stream",
     "text": [
      "maxCommonNeighborsSyndrome 肝火上扰\n"
     ]
    },
    {
     "data": {
      "application/javascript": [
       "\n",
       "        if (window._pyforest_update_imports_cell) { window._pyforest_update_imports_cell('import pandas as pd'); }\n",
       "    "
      ],
      "text/plain": [
       "<IPython.core.display.Javascript object>"
      ]
     },
     "metadata": {},
     "output_type": "display_data"
    },
    {
     "name": "stdout",
     "output_type": "stream",
     "text": [
      "maxCommonNeighborsSyndrome 脾胃虚弱\n"
     ]
    },
    {
     "data": {
      "application/javascript": [
       "\n",
       "        if (window._pyforest_update_imports_cell) { window._pyforest_update_imports_cell('import pandas as pd'); }\n",
       "    "
      ],
      "text/plain": [
       "<IPython.core.display.Javascript object>"
      ]
     },
     "metadata": {},
     "output_type": "display_data"
    },
    {
     "name": "stdout",
     "output_type": "stream",
     "text": [
      "maxCommonNeighborsSyndrome 痰火郁结\n"
     ]
    },
    {
     "data": {
      "application/javascript": [
       "\n",
       "        if (window._pyforest_update_imports_cell) { window._pyforest_update_imports_cell('import pandas as pd'); }\n",
       "    "
      ],
      "text/plain": [
       "<IPython.core.display.Javascript object>"
      ]
     },
     "metadata": {},
     "output_type": "display_data"
    },
    {
     "name": "stdout",
     "output_type": "stream",
     "text": [
      "maxCommonNeighborsSyndrome 肾精亏虚\n"
     ]
    },
    {
     "data": {
      "application/javascript": [
       "\n",
       "        if (window._pyforest_update_imports_cell) { window._pyforest_update_imports_cell('import pandas as pd'); }\n",
       "    "
      ],
      "text/plain": [
       "<IPython.core.display.Javascript object>"
      ]
     },
     "metadata": {},
     "output_type": "display_data"
    },
    {
     "name": "stdout",
     "output_type": "stream",
     "text": [
      "maxCommonNeighborsSyndrome 肾精亏虚\n"
     ]
    },
    {
     "data": {
      "application/javascript": [
       "\n",
       "        if (window._pyforest_update_imports_cell) { window._pyforest_update_imports_cell('import pandas as pd'); }\n",
       "    "
      ],
      "text/plain": [
       "<IPython.core.display.Javascript object>"
      ]
     },
     "metadata": {},
     "output_type": "display_data"
    },
    {
     "name": "stdout",
     "output_type": "stream",
     "text": [
      "maxCommonNeighborsSyndrome 痰火郁结\n"
     ]
    },
    {
     "data": {
      "application/javascript": [
       "\n",
       "        if (window._pyforest_update_imports_cell) { window._pyforest_update_imports_cell('import pandas as pd'); }\n",
       "    "
      ],
      "text/plain": [
       "<IPython.core.display.Javascript object>"
      ]
     },
     "metadata": {},
     "output_type": "display_data"
    },
    {
     "name": "stdout",
     "output_type": "stream",
     "text": [
      "maxCommonNeighborsSyndrome 痰火郁结\n"
     ]
    },
    {
     "data": {
      "application/javascript": [
       "\n",
       "        if (window._pyforest_update_imports_cell) { window._pyforest_update_imports_cell('import pandas as pd'); }\n",
       "    "
      ],
      "text/plain": [
       "<IPython.core.display.Javascript object>"
      ]
     },
     "metadata": {},
     "output_type": "display_data"
    },
    {
     "name": "stdout",
     "output_type": "stream",
     "text": [
      "maxCommonNeighborsSyndrome 肾精亏虚\n"
     ]
    },
    {
     "data": {
      "application/javascript": [
       "\n",
       "        if (window._pyforest_update_imports_cell) { window._pyforest_update_imports_cell('import pandas as pd'); }\n",
       "    "
      ],
      "text/plain": [
       "<IPython.core.display.Javascript object>"
      ]
     },
     "metadata": {},
     "output_type": "display_data"
    },
    {
     "name": "stdout",
     "output_type": "stream",
     "text": [
      "maxCommonNeighborsSyndrome 痰火郁结\n"
     ]
    },
    {
     "data": {
      "application/javascript": [
       "\n",
       "        if (window._pyforest_update_imports_cell) { window._pyforest_update_imports_cell('import pandas as pd'); }\n",
       "    "
      ],
      "text/plain": [
       "<IPython.core.display.Javascript object>"
      ]
     },
     "metadata": {},
     "output_type": "display_data"
    },
    {
     "name": "stdout",
     "output_type": "stream",
     "text": [
      "maxCommonNeighborsSyndrome 痰火郁结\n"
     ]
    },
    {
     "data": {
      "application/javascript": [
       "\n",
       "        if (window._pyforest_update_imports_cell) { window._pyforest_update_imports_cell('import pandas as pd'); }\n",
       "    "
      ],
      "text/plain": [
       "<IPython.core.display.Javascript object>"
      ]
     },
     "metadata": {},
     "output_type": "display_data"
    },
    {
     "name": "stdout",
     "output_type": "stream",
     "text": [
      "maxCommonNeighborsSyndrome 肾精亏虚\n"
     ]
    },
    {
     "data": {
      "application/javascript": [
       "\n",
       "        if (window._pyforest_update_imports_cell) { window._pyforest_update_imports_cell('import pandas as pd'); }\n",
       "    "
      ],
      "text/plain": [
       "<IPython.core.display.Javascript object>"
      ]
     },
     "metadata": {},
     "output_type": "display_data"
    },
    {
     "name": "stdout",
     "output_type": "stream",
     "text": [
      "maxCommonNeighborsSyndrome 痰火郁结\n"
     ]
    },
    {
     "data": {
      "application/javascript": [
       "\n",
       "        if (window._pyforest_update_imports_cell) { window._pyforest_update_imports_cell('import pandas as pd'); }\n",
       "    "
      ],
      "text/plain": [
       "<IPython.core.display.Javascript object>"
      ]
     },
     "metadata": {},
     "output_type": "display_data"
    },
    {
     "name": "stdout",
     "output_type": "stream",
     "text": [
      "maxCommonNeighborsSyndrome 风热侵袭\n"
     ]
    },
    {
     "data": {
      "application/javascript": [
       "\n",
       "        if (window._pyforest_update_imports_cell) { window._pyforest_update_imports_cell('import pandas as pd'); }\n",
       "    "
      ],
      "text/plain": [
       "<IPython.core.display.Javascript object>"
      ]
     },
     "metadata": {},
     "output_type": "display_data"
    },
    {
     "name": "stdout",
     "output_type": "stream",
     "text": [
      "maxCommonNeighborsSyndrome 肾精亏虚\n"
     ]
    },
    {
     "data": {
      "application/javascript": [
       "\n",
       "        if (window._pyforest_update_imports_cell) { window._pyforest_update_imports_cell('import pandas as pd'); }\n",
       "    "
      ],
      "text/plain": [
       "<IPython.core.display.Javascript object>"
      ]
     },
     "metadata": {},
     "output_type": "display_data"
    },
    {
     "name": "stdout",
     "output_type": "stream",
     "text": [
      "maxCommonNeighborsSyndrome 脾胃虚弱\n"
     ]
    },
    {
     "data": {
      "application/javascript": [
       "\n",
       "        if (window._pyforest_update_imports_cell) { window._pyforest_update_imports_cell('import pandas as pd'); }\n",
       "    "
      ],
      "text/plain": [
       "<IPython.core.display.Javascript object>"
      ]
     },
     "metadata": {},
     "output_type": "display_data"
    },
    {
     "name": "stdout",
     "output_type": "stream",
     "text": [
      "maxCommonNeighborsSyndrome 肝火上扰\n"
     ]
    },
    {
     "data": {
      "application/javascript": [
       "\n",
       "        if (window._pyforest_update_imports_cell) { window._pyforest_update_imports_cell('import pandas as pd'); }\n",
       "    "
      ],
      "text/plain": [
       "<IPython.core.display.Javascript object>"
      ]
     },
     "metadata": {},
     "output_type": "display_data"
    },
    {
     "name": "stdout",
     "output_type": "stream",
     "text": [
      "maxCommonNeighborsSyndrome 风热侵袭\n"
     ]
    },
    {
     "data": {
      "application/javascript": [
       "\n",
       "        if (window._pyforest_update_imports_cell) { window._pyforest_update_imports_cell('import pandas as pd'); }\n",
       "    "
      ],
      "text/plain": [
       "<IPython.core.display.Javascript object>"
      ]
     },
     "metadata": {},
     "output_type": "display_data"
    },
    {
     "name": "stdout",
     "output_type": "stream",
     "text": [
      "maxCommonNeighborsSyndrome 风热侵袭\n"
     ]
    },
    {
     "data": {
      "application/javascript": [
       "\n",
       "        if (window._pyforest_update_imports_cell) { window._pyforest_update_imports_cell('import pandas as pd'); }\n",
       "    "
      ],
      "text/plain": [
       "<IPython.core.display.Javascript object>"
      ]
     },
     "metadata": {},
     "output_type": "display_data"
    },
    {
     "name": "stdout",
     "output_type": "stream",
     "text": [
      "maxCommonNeighborsSyndrome 脾胃虚弱\n"
     ]
    },
    {
     "data": {
      "application/javascript": [
       "\n",
       "        if (window._pyforest_update_imports_cell) { window._pyforest_update_imports_cell('import pandas as pd'); }\n",
       "    "
      ],
      "text/plain": [
       "<IPython.core.display.Javascript object>"
      ]
     },
     "metadata": {},
     "output_type": "display_data"
    },
    {
     "name": "stdout",
     "output_type": "stream",
     "text": [
      "maxCommonNeighborsSyndrome 风热侵袭\n"
     ]
    },
    {
     "data": {
      "application/javascript": [
       "\n",
       "        if (window._pyforest_update_imports_cell) { window._pyforest_update_imports_cell('import pandas as pd'); }\n",
       "    "
      ],
      "text/plain": [
       "<IPython.core.display.Javascript object>"
      ]
     },
     "metadata": {},
     "output_type": "display_data"
    },
    {
     "name": "stdout",
     "output_type": "stream",
     "text": [
      "maxCommonNeighborsSyndrome 风热侵袭\n"
     ]
    },
    {
     "data": {
      "application/javascript": [
       "\n",
       "        if (window._pyforest_update_imports_cell) { window._pyforest_update_imports_cell('import pandas as pd'); }\n",
       "    "
      ],
      "text/plain": [
       "<IPython.core.display.Javascript object>"
      ]
     },
     "metadata": {},
     "output_type": "display_data"
    },
    {
     "name": "stdout",
     "output_type": "stream",
     "text": [
      "maxCommonNeighborsSyndrome 肝火上扰\n"
     ]
    },
    {
     "data": {
      "application/javascript": [
       "\n",
       "        if (window._pyforest_update_imports_cell) { window._pyforest_update_imports_cell('import pandas as pd'); }\n",
       "    "
      ],
      "text/plain": [
       "<IPython.core.display.Javascript object>"
      ]
     },
     "metadata": {},
     "output_type": "display_data"
    },
    {
     "name": "stdout",
     "output_type": "stream",
     "text": [
      "maxCommonNeighborsSyndrome 肾精亏虚\n"
     ]
    },
    {
     "data": {
      "application/javascript": [
       "\n",
       "        if (window._pyforest_update_imports_cell) { window._pyforest_update_imports_cell('import pandas as pd'); }\n",
       "    "
      ],
      "text/plain": [
       "<IPython.core.display.Javascript object>"
      ]
     },
     "metadata": {},
     "output_type": "display_data"
    },
    {
     "name": "stdout",
     "output_type": "stream",
     "text": [
      "maxCommonNeighborsSyndrome 脾胃虚弱\n"
     ]
    },
    {
     "data": {
      "application/javascript": [
       "\n",
       "        if (window._pyforest_update_imports_cell) { window._pyforest_update_imports_cell('import pandas as pd'); }\n",
       "    "
      ],
      "text/plain": [
       "<IPython.core.display.Javascript object>"
      ]
     },
     "metadata": {},
     "output_type": "display_data"
    },
    {
     "name": "stdout",
     "output_type": "stream",
     "text": [
      "maxCommonNeighborsSyndrome 肾精亏虚\n"
     ]
    },
    {
     "data": {
      "application/javascript": [
       "\n",
       "        if (window._pyforest_update_imports_cell) { window._pyforest_update_imports_cell('import pandas as pd'); }\n",
       "    "
      ],
      "text/plain": [
       "<IPython.core.display.Javascript object>"
      ]
     },
     "metadata": {},
     "output_type": "display_data"
    },
    {
     "name": "stdout",
     "output_type": "stream",
     "text": [
      "maxCommonNeighborsSyndrome 肾精亏虚\n"
     ]
    },
    {
     "data": {
      "application/javascript": [
       "\n",
       "        if (window._pyforest_update_imports_cell) { window._pyforest_update_imports_cell('import pandas as pd'); }\n",
       "    "
      ],
      "text/plain": [
       "<IPython.core.display.Javascript object>"
      ]
     },
     "metadata": {},
     "output_type": "display_data"
    },
    {
     "name": "stdout",
     "output_type": "stream",
     "text": [
      "maxCommonNeighborsSyndrome 肾精亏虚\n"
     ]
    },
    {
     "data": {
      "application/javascript": [
       "\n",
       "        if (window._pyforest_update_imports_cell) { window._pyforest_update_imports_cell('import pandas as pd'); }\n",
       "    "
      ],
      "text/plain": [
       "<IPython.core.display.Javascript object>"
      ]
     },
     "metadata": {},
     "output_type": "display_data"
    },
    {
     "name": "stdout",
     "output_type": "stream",
     "text": [
      "maxCommonNeighborsSyndrome 肾精亏虚\n"
     ]
    },
    {
     "data": {
      "application/javascript": [
       "\n",
       "        if (window._pyforest_update_imports_cell) { window._pyforest_update_imports_cell('import pandas as pd'); }\n",
       "    "
      ],
      "text/plain": [
       "<IPython.core.display.Javascript object>"
      ]
     },
     "metadata": {},
     "output_type": "display_data"
    },
    {
     "name": "stdout",
     "output_type": "stream",
     "text": [
      "maxCommonNeighborsSyndrome 肾精亏虚\n"
     ]
    },
    {
     "data": {
      "application/javascript": [
       "\n",
       "        if (window._pyforest_update_imports_cell) { window._pyforest_update_imports_cell('import pandas as pd'); }\n",
       "    "
      ],
      "text/plain": [
       "<IPython.core.display.Javascript object>"
      ]
     },
     "metadata": {},
     "output_type": "display_data"
    },
    {
     "name": "stdout",
     "output_type": "stream",
     "text": [
      "maxCommonNeighborsSyndrome 肾精亏虚\n"
     ]
    },
    {
     "data": {
      "application/javascript": [
       "\n",
       "        if (window._pyforest_update_imports_cell) { window._pyforest_update_imports_cell('import pandas as pd'); }\n",
       "    "
      ],
      "text/plain": [
       "<IPython.core.display.Javascript object>"
      ]
     },
     "metadata": {},
     "output_type": "display_data"
    },
    {
     "name": "stdout",
     "output_type": "stream",
     "text": [
      "maxCommonNeighborsSyndrome 肝火上扰\n"
     ]
    },
    {
     "data": {
      "application/javascript": [
       "\n",
       "        if (window._pyforest_update_imports_cell) { window._pyforest_update_imports_cell('import pandas as pd'); }\n",
       "    "
      ],
      "text/plain": [
       "<IPython.core.display.Javascript object>"
      ]
     },
     "metadata": {},
     "output_type": "display_data"
    },
    {
     "name": "stdout",
     "output_type": "stream",
     "text": [
      "maxCommonNeighborsSyndrome 脾胃虚弱\n"
     ]
    },
    {
     "data": {
      "application/javascript": [
       "\n",
       "        if (window._pyforest_update_imports_cell) { window._pyforest_update_imports_cell('import pandas as pd'); }\n",
       "    "
      ],
      "text/plain": [
       "<IPython.core.display.Javascript object>"
      ]
     },
     "metadata": {},
     "output_type": "display_data"
    },
    {
     "name": "stdout",
     "output_type": "stream",
     "text": [
      "maxCommonNeighborsSyndrome 脾胃虚弱\n"
     ]
    },
    {
     "data": {
      "application/javascript": [
       "\n",
       "        if (window._pyforest_update_imports_cell) { window._pyforest_update_imports_cell('import pandas as pd'); }\n",
       "    "
      ],
      "text/plain": [
       "<IPython.core.display.Javascript object>"
      ]
     },
     "metadata": {},
     "output_type": "display_data"
    },
    {
     "name": "stdout",
     "output_type": "stream",
     "text": [
      "maxCommonNeighborsSyndrome 肝火上扰\n"
     ]
    },
    {
     "data": {
      "application/javascript": [
       "\n",
       "        if (window._pyforest_update_imports_cell) { window._pyforest_update_imports_cell('import pandas as pd'); }\n",
       "    "
      ],
      "text/plain": [
       "<IPython.core.display.Javascript object>"
      ]
     },
     "metadata": {},
     "output_type": "display_data"
    },
    {
     "name": "stdout",
     "output_type": "stream",
     "text": [
      "maxCommonNeighborsSyndrome 肾精亏虚\n"
     ]
    },
    {
     "data": {
      "application/javascript": [
       "\n",
       "        if (window._pyforest_update_imports_cell) { window._pyforest_update_imports_cell('import pandas as pd'); }\n",
       "    "
      ],
      "text/plain": [
       "<IPython.core.display.Javascript object>"
      ]
     },
     "metadata": {},
     "output_type": "display_data"
    },
    {
     "name": "stdout",
     "output_type": "stream",
     "text": [
      "maxCommonNeighborsSyndrome 脾胃虚弱\n"
     ]
    },
    {
     "data": {
      "application/javascript": [
       "\n",
       "        if (window._pyforest_update_imports_cell) { window._pyforest_update_imports_cell('import pandas as pd'); }\n",
       "    "
      ],
      "text/plain": [
       "<IPython.core.display.Javascript object>"
      ]
     },
     "metadata": {},
     "output_type": "display_data"
    },
    {
     "name": "stdout",
     "output_type": "stream",
     "text": [
      "maxCommonNeighborsSyndrome 肾精亏虚\n"
     ]
    },
    {
     "data": {
      "application/javascript": [
       "\n",
       "        if (window._pyforest_update_imports_cell) { window._pyforest_update_imports_cell('import pandas as pd'); }\n",
       "    "
      ],
      "text/plain": [
       "<IPython.core.display.Javascript object>"
      ]
     },
     "metadata": {},
     "output_type": "display_data"
    },
    {
     "name": "stdout",
     "output_type": "stream",
     "text": [
      "maxCommonNeighborsSyndrome 肾精亏虚\n"
     ]
    },
    {
     "data": {
      "application/javascript": [
       "\n",
       "        if (window._pyforest_update_imports_cell) { window._pyforest_update_imports_cell('import pandas as pd'); }\n",
       "    "
      ],
      "text/plain": [
       "<IPython.core.display.Javascript object>"
      ]
     },
     "metadata": {},
     "output_type": "display_data"
    },
    {
     "name": "stdout",
     "output_type": "stream",
     "text": [
      "maxCommonNeighborsSyndrome 肾精亏虚\n"
     ]
    },
    {
     "data": {
      "application/javascript": [
       "\n",
       "        if (window._pyforest_update_imports_cell) { window._pyforest_update_imports_cell('import pandas as pd'); }\n",
       "    "
      ],
      "text/plain": [
       "<IPython.core.display.Javascript object>"
      ]
     },
     "metadata": {},
     "output_type": "display_data"
    },
    {
     "name": "stdout",
     "output_type": "stream",
     "text": [
      "maxCommonNeighborsSyndrome 脾胃虚弱\n"
     ]
    },
    {
     "data": {
      "application/javascript": [
       "\n",
       "        if (window._pyforest_update_imports_cell) { window._pyforest_update_imports_cell('import pandas as pd'); }\n",
       "    "
      ],
      "text/plain": [
       "<IPython.core.display.Javascript object>"
      ]
     },
     "metadata": {},
     "output_type": "display_data"
    },
    {
     "name": "stdout",
     "output_type": "stream",
     "text": [
      "maxCommonNeighborsSyndrome 脾胃虚弱\n"
     ]
    },
    {
     "data": {
      "application/javascript": [
       "\n",
       "        if (window._pyforest_update_imports_cell) { window._pyforest_update_imports_cell('import pandas as pd'); }\n",
       "    "
      ],
      "text/plain": [
       "<IPython.core.display.Javascript object>"
      ]
     },
     "metadata": {},
     "output_type": "display_data"
    },
    {
     "name": "stdout",
     "output_type": "stream",
     "text": [
      "maxCommonNeighborsSyndrome 肾精亏虚\n"
     ]
    },
    {
     "data": {
      "application/javascript": [
       "\n",
       "        if (window._pyforest_update_imports_cell) { window._pyforest_update_imports_cell('import pandas as pd'); }\n",
       "    "
      ],
      "text/plain": [
       "<IPython.core.display.Javascript object>"
      ]
     },
     "metadata": {},
     "output_type": "display_data"
    },
    {
     "name": "stdout",
     "output_type": "stream",
     "text": [
      "maxCommonNeighborsSyndrome 肾精亏虚\n"
     ]
    },
    {
     "data": {
      "application/javascript": [
       "\n",
       "        if (window._pyforest_update_imports_cell) { window._pyforest_update_imports_cell('import pandas as pd'); }\n",
       "    "
      ],
      "text/plain": [
       "<IPython.core.display.Javascript object>"
      ]
     },
     "metadata": {},
     "output_type": "display_data"
    },
    {
     "name": "stdout",
     "output_type": "stream",
     "text": [
      "maxCommonNeighborsSyndrome 肝火上扰\n"
     ]
    },
    {
     "data": {
      "application/javascript": [
       "\n",
       "        if (window._pyforest_update_imports_cell) { window._pyforest_update_imports_cell('import pandas as pd'); }\n",
       "    "
      ],
      "text/plain": [
       "<IPython.core.display.Javascript object>"
      ]
     },
     "metadata": {},
     "output_type": "display_data"
    },
    {
     "name": "stdout",
     "output_type": "stream",
     "text": [
      "maxCommonNeighborsSyndrome 肝火上扰\n"
     ]
    },
    {
     "data": {
      "application/javascript": [
       "\n",
       "        if (window._pyforest_update_imports_cell) { window._pyforest_update_imports_cell('import pandas as pd'); }\n",
       "    "
      ],
      "text/plain": [
       "<IPython.core.display.Javascript object>"
      ]
     },
     "metadata": {},
     "output_type": "display_data"
    },
    {
     "name": "stdout",
     "output_type": "stream",
     "text": [
      "maxCommonNeighborsSyndrome 风热侵袭\n"
     ]
    },
    {
     "data": {
      "application/javascript": [
       "\n",
       "        if (window._pyforest_update_imports_cell) { window._pyforest_update_imports_cell('import pandas as pd'); }\n",
       "    "
      ],
      "text/plain": [
       "<IPython.core.display.Javascript object>"
      ]
     },
     "metadata": {},
     "output_type": "display_data"
    },
    {
     "name": "stdout",
     "output_type": "stream",
     "text": [
      "maxCommonNeighborsSyndrome 脾胃虚弱\n"
     ]
    },
    {
     "data": {
      "application/javascript": [
       "\n",
       "        if (window._pyforest_update_imports_cell) { window._pyforest_update_imports_cell('import pandas as pd'); }\n",
       "    "
      ],
      "text/plain": [
       "<IPython.core.display.Javascript object>"
      ]
     },
     "metadata": {},
     "output_type": "display_data"
    },
    {
     "name": "stdout",
     "output_type": "stream",
     "text": [
      "maxCommonNeighborsSyndrome 痰火郁结\n"
     ]
    },
    {
     "data": {
      "application/javascript": [
       "\n",
       "        if (window._pyforest_update_imports_cell) { window._pyforest_update_imports_cell('import pandas as pd'); }\n",
       "    "
      ],
      "text/plain": [
       "<IPython.core.display.Javascript object>"
      ]
     },
     "metadata": {},
     "output_type": "display_data"
    },
    {
     "name": "stdout",
     "output_type": "stream",
     "text": [
      "maxCommonNeighborsSyndrome 脾胃虚弱\n"
     ]
    },
    {
     "data": {
      "application/javascript": [
       "\n",
       "        if (window._pyforest_update_imports_cell) { window._pyforest_update_imports_cell('import pandas as pd'); }\n",
       "    "
      ],
      "text/plain": [
       "<IPython.core.display.Javascript object>"
      ]
     },
     "metadata": {},
     "output_type": "display_data"
    },
    {
     "name": "stdout",
     "output_type": "stream",
     "text": [
      "maxCommonNeighborsSyndrome 肾精亏虚\n"
     ]
    },
    {
     "data": {
      "application/javascript": [
       "\n",
       "        if (window._pyforest_update_imports_cell) { window._pyforest_update_imports_cell('import pandas as pd'); }\n",
       "    "
      ],
      "text/plain": [
       "<IPython.core.display.Javascript object>"
      ]
     },
     "metadata": {},
     "output_type": "display_data"
    },
    {
     "name": "stdout",
     "output_type": "stream",
     "text": [
      "maxCommonNeighborsSyndrome 风热侵袭\n"
     ]
    },
    {
     "data": {
      "application/javascript": [
       "\n",
       "        if (window._pyforest_update_imports_cell) { window._pyforest_update_imports_cell('import pandas as pd'); }\n",
       "    "
      ],
      "text/plain": [
       "<IPython.core.display.Javascript object>"
      ]
     },
     "metadata": {},
     "output_type": "display_data"
    },
    {
     "name": "stdout",
     "output_type": "stream",
     "text": [
      "maxCommonNeighborsSyndrome 肾精亏虚\n"
     ]
    },
    {
     "data": {
      "application/javascript": [
       "\n",
       "        if (window._pyforest_update_imports_cell) { window._pyforest_update_imports_cell('import pandas as pd'); }\n",
       "    "
      ],
      "text/plain": [
       "<IPython.core.display.Javascript object>"
      ]
     },
     "metadata": {},
     "output_type": "display_data"
    },
    {
     "name": "stdout",
     "output_type": "stream",
     "text": [
      "maxCommonNeighborsSyndrome 肾精亏虚\n"
     ]
    },
    {
     "data": {
      "application/javascript": [
       "\n",
       "        if (window._pyforest_update_imports_cell) { window._pyforest_update_imports_cell('import pandas as pd'); }\n",
       "    "
      ],
      "text/plain": [
       "<IPython.core.display.Javascript object>"
      ]
     },
     "metadata": {},
     "output_type": "display_data"
    },
    {
     "name": "stdout",
     "output_type": "stream",
     "text": [
      "maxCommonNeighborsSyndrome 风热侵袭\n"
     ]
    },
    {
     "data": {
      "application/javascript": [
       "\n",
       "        if (window._pyforest_update_imports_cell) { window._pyforest_update_imports_cell('import pandas as pd'); }\n",
       "    "
      ],
      "text/plain": [
       "<IPython.core.display.Javascript object>"
      ]
     },
     "metadata": {},
     "output_type": "display_data"
    },
    {
     "name": "stdout",
     "output_type": "stream",
     "text": [
      "maxCommonNeighborsSyndrome 痰火郁结\n"
     ]
    },
    {
     "data": {
      "application/javascript": [
       "\n",
       "        if (window._pyforest_update_imports_cell) { window._pyforest_update_imports_cell('import pandas as pd'); }\n",
       "    "
      ],
      "text/plain": [
       "<IPython.core.display.Javascript object>"
      ]
     },
     "metadata": {},
     "output_type": "display_data"
    },
    {
     "name": "stdout",
     "output_type": "stream",
     "text": [
      "maxCommonNeighborsSyndrome 肝火上扰\n"
     ]
    },
    {
     "data": {
      "application/javascript": [
       "\n",
       "        if (window._pyforest_update_imports_cell) { window._pyforest_update_imports_cell('import pandas as pd'); }\n",
       "    "
      ],
      "text/plain": [
       "<IPython.core.display.Javascript object>"
      ]
     },
     "metadata": {},
     "output_type": "display_data"
    },
    {
     "name": "stdout",
     "output_type": "stream",
     "text": [
      "maxCommonNeighborsSyndrome 痰火郁结\n"
     ]
    },
    {
     "data": {
      "application/javascript": [
       "\n",
       "        if (window._pyforest_update_imports_cell) { window._pyforest_update_imports_cell('import pandas as pd'); }\n",
       "    "
      ],
      "text/plain": [
       "<IPython.core.display.Javascript object>"
      ]
     },
     "metadata": {},
     "output_type": "display_data"
    },
    {
     "name": "stdout",
     "output_type": "stream",
     "text": [
      "maxCommonNeighborsSyndrome 肾精亏虚\n"
     ]
    },
    {
     "data": {
      "application/javascript": [
       "\n",
       "        if (window._pyforest_update_imports_cell) { window._pyforest_update_imports_cell('import pandas as pd'); }\n",
       "    "
      ],
      "text/plain": [
       "<IPython.core.display.Javascript object>"
      ]
     },
     "metadata": {},
     "output_type": "display_data"
    },
    {
     "name": "stdout",
     "output_type": "stream",
     "text": [
      "maxCommonNeighborsSyndrome 风热侵袭\n"
     ]
    },
    {
     "data": {
      "application/javascript": [
       "\n",
       "        if (window._pyforest_update_imports_cell) { window._pyforest_update_imports_cell('import pandas as pd'); }\n",
       "    "
      ],
      "text/plain": [
       "<IPython.core.display.Javascript object>"
      ]
     },
     "metadata": {},
     "output_type": "display_data"
    },
    {
     "name": "stdout",
     "output_type": "stream",
     "text": [
      "maxCommonNeighborsSyndrome 脾胃虚弱\n"
     ]
    },
    {
     "data": {
      "application/javascript": [
       "\n",
       "        if (window._pyforest_update_imports_cell) { window._pyforest_update_imports_cell('import pandas as pd'); }\n",
       "    "
      ],
      "text/plain": [
       "<IPython.core.display.Javascript object>"
      ]
     },
     "metadata": {},
     "output_type": "display_data"
    },
    {
     "name": "stdout",
     "output_type": "stream",
     "text": [
      "maxCommonNeighborsSyndrome 肾精亏虚\n"
     ]
    },
    {
     "data": {
      "application/javascript": [
       "\n",
       "        if (window._pyforest_update_imports_cell) { window._pyforest_update_imports_cell('import pandas as pd'); }\n",
       "    "
      ],
      "text/plain": [
       "<IPython.core.display.Javascript object>"
      ]
     },
     "metadata": {},
     "output_type": "display_data"
    },
    {
     "name": "stdout",
     "output_type": "stream",
     "text": [
      "maxCommonNeighborsSyndrome 脾胃虚弱\n"
     ]
    },
    {
     "data": {
      "application/javascript": [
       "\n",
       "        if (window._pyforest_update_imports_cell) { window._pyforest_update_imports_cell('import pandas as pd'); }\n",
       "    "
      ],
      "text/plain": [
       "<IPython.core.display.Javascript object>"
      ]
     },
     "metadata": {},
     "output_type": "display_data"
    },
    {
     "name": "stdout",
     "output_type": "stream",
     "text": [
      "maxCommonNeighborsSyndrome 肝火上扰\n"
     ]
    },
    {
     "data": {
      "application/javascript": [
       "\n",
       "        if (window._pyforest_update_imports_cell) { window._pyforest_update_imports_cell('import pandas as pd'); }\n",
       "    "
      ],
      "text/plain": [
       "<IPython.core.display.Javascript object>"
      ]
     },
     "metadata": {},
     "output_type": "display_data"
    },
    {
     "name": "stdout",
     "output_type": "stream",
     "text": [
      "maxCommonNeighborsSyndrome 肾精亏虚\n"
     ]
    },
    {
     "data": {
      "application/javascript": [
       "\n",
       "        if (window._pyforest_update_imports_cell) { window._pyforest_update_imports_cell('import pandas as pd'); }\n",
       "    "
      ],
      "text/plain": [
       "<IPython.core.display.Javascript object>"
      ]
     },
     "metadata": {},
     "output_type": "display_data"
    },
    {
     "name": "stdout",
     "output_type": "stream",
     "text": [
      "maxCommonNeighborsSyndrome 肝火上扰\n"
     ]
    },
    {
     "data": {
      "application/javascript": [
       "\n",
       "        if (window._pyforest_update_imports_cell) { window._pyforest_update_imports_cell('import pandas as pd'); }\n",
       "    "
      ],
      "text/plain": [
       "<IPython.core.display.Javascript object>"
      ]
     },
     "metadata": {},
     "output_type": "display_data"
    },
    {
     "name": "stdout",
     "output_type": "stream",
     "text": [
      "maxCommonNeighborsSyndrome 痰火郁结\n"
     ]
    },
    {
     "data": {
      "application/javascript": [
       "\n",
       "        if (window._pyforest_update_imports_cell) { window._pyforest_update_imports_cell('import pandas as pd'); }\n",
       "    "
      ],
      "text/plain": [
       "<IPython.core.display.Javascript object>"
      ]
     },
     "metadata": {},
     "output_type": "display_data"
    },
    {
     "name": "stdout",
     "output_type": "stream",
     "text": [
      "maxCommonNeighborsSyndrome 脾胃虚弱\n"
     ]
    },
    {
     "data": {
      "application/javascript": [
       "\n",
       "        if (window._pyforest_update_imports_cell) { window._pyforest_update_imports_cell('import pandas as pd'); }\n",
       "    "
      ],
      "text/plain": [
       "<IPython.core.display.Javascript object>"
      ]
     },
     "metadata": {},
     "output_type": "display_data"
    },
    {
     "name": "stdout",
     "output_type": "stream",
     "text": [
      "maxCommonNeighborsSyndrome 肝火上扰\n"
     ]
    },
    {
     "data": {
      "application/javascript": [
       "\n",
       "        if (window._pyforest_update_imports_cell) { window._pyforest_update_imports_cell('import pandas as pd'); }\n",
       "    "
      ],
      "text/plain": [
       "<IPython.core.display.Javascript object>"
      ]
     },
     "metadata": {},
     "output_type": "display_data"
    },
    {
     "name": "stdout",
     "output_type": "stream",
     "text": [
      "maxCommonNeighborsSyndrome 痰火郁结\n"
     ]
    },
    {
     "data": {
      "application/javascript": [
       "\n",
       "        if (window._pyforest_update_imports_cell) { window._pyforest_update_imports_cell('import pandas as pd'); }\n",
       "    "
      ],
      "text/plain": [
       "<IPython.core.display.Javascript object>"
      ]
     },
     "metadata": {},
     "output_type": "display_data"
    },
    {
     "name": "stdout",
     "output_type": "stream",
     "text": [
      "maxCommonNeighborsSyndrome 脾胃虚弱\n"
     ]
    },
    {
     "data": {
      "application/javascript": [
       "\n",
       "        if (window._pyforest_update_imports_cell) { window._pyforest_update_imports_cell('import pandas as pd'); }\n",
       "    "
      ],
      "text/plain": [
       "<IPython.core.display.Javascript object>"
      ]
     },
     "metadata": {},
     "output_type": "display_data"
    },
    {
     "name": "stdout",
     "output_type": "stream",
     "text": [
      "maxCommonNeighborsSyndrome 肾精亏虚\n"
     ]
    },
    {
     "data": {
      "application/javascript": [
       "\n",
       "        if (window._pyforest_update_imports_cell) { window._pyforest_update_imports_cell('import pandas as pd'); }\n",
       "    "
      ],
      "text/plain": [
       "<IPython.core.display.Javascript object>"
      ]
     },
     "metadata": {},
     "output_type": "display_data"
    },
    {
     "name": "stdout",
     "output_type": "stream",
     "text": [
      "maxCommonNeighborsSyndrome 风热侵袭\n"
     ]
    },
    {
     "data": {
      "application/javascript": [
       "\n",
       "        if (window._pyforest_update_imports_cell) { window._pyforest_update_imports_cell('import pandas as pd'); }\n",
       "    "
      ],
      "text/plain": [
       "<IPython.core.display.Javascript object>"
      ]
     },
     "metadata": {},
     "output_type": "display_data"
    },
    {
     "name": "stdout",
     "output_type": "stream",
     "text": [
      "maxCommonNeighborsSyndrome 肾精亏虚\n"
     ]
    },
    {
     "data": {
      "application/javascript": [
       "\n",
       "        if (window._pyforest_update_imports_cell) { window._pyforest_update_imports_cell('import pandas as pd'); }\n",
       "    "
      ],
      "text/plain": [
       "<IPython.core.display.Javascript object>"
      ]
     },
     "metadata": {},
     "output_type": "display_data"
    },
    {
     "name": "stdout",
     "output_type": "stream",
     "text": [
      "maxCommonNeighborsSyndrome 肝火上扰\n"
     ]
    },
    {
     "data": {
      "application/javascript": [
       "\n",
       "        if (window._pyforest_update_imports_cell) { window._pyforest_update_imports_cell('import pandas as pd'); }\n",
       "    "
      ],
      "text/plain": [
       "<IPython.core.display.Javascript object>"
      ]
     },
     "metadata": {},
     "output_type": "display_data"
    },
    {
     "name": "stdout",
     "output_type": "stream",
     "text": [
      "maxCommonNeighborsSyndrome 肝火上扰\n"
     ]
    },
    {
     "data": {
      "application/javascript": [
       "\n",
       "        if (window._pyforest_update_imports_cell) { window._pyforest_update_imports_cell('import pandas as pd'); }\n",
       "    "
      ],
      "text/plain": [
       "<IPython.core.display.Javascript object>"
      ]
     },
     "metadata": {},
     "output_type": "display_data"
    },
    {
     "name": "stdout",
     "output_type": "stream",
     "text": [
      "maxCommonNeighborsSyndrome 肝火上扰\n"
     ]
    },
    {
     "data": {
      "application/javascript": [
       "\n",
       "        if (window._pyforest_update_imports_cell) { window._pyforest_update_imports_cell('import pandas as pd'); }\n",
       "    "
      ],
      "text/plain": [
       "<IPython.core.display.Javascript object>"
      ]
     },
     "metadata": {},
     "output_type": "display_data"
    },
    {
     "name": "stdout",
     "output_type": "stream",
     "text": [
      "maxCommonNeighborsSyndrome 痰火郁结\n"
     ]
    },
    {
     "data": {
      "application/javascript": [
       "\n",
       "        if (window._pyforest_update_imports_cell) { window._pyforest_update_imports_cell('import pandas as pd'); }\n",
       "    "
      ],
      "text/plain": [
       "<IPython.core.display.Javascript object>"
      ]
     },
     "metadata": {},
     "output_type": "display_data"
    },
    {
     "name": "stdout",
     "output_type": "stream",
     "text": [
      "maxCommonNeighborsSyndrome 风热侵袭\n"
     ]
    },
    {
     "data": {
      "application/javascript": [
       "\n",
       "        if (window._pyforest_update_imports_cell) { window._pyforest_update_imports_cell('import pandas as pd'); }\n",
       "    "
      ],
      "text/plain": [
       "<IPython.core.display.Javascript object>"
      ]
     },
     "metadata": {},
     "output_type": "display_data"
    },
    {
     "name": "stdout",
     "output_type": "stream",
     "text": [
      "maxCommonNeighborsSyndrome 肝火上扰\n"
     ]
    },
    {
     "data": {
      "application/javascript": [
       "\n",
       "        if (window._pyforest_update_imports_cell) { window._pyforest_update_imports_cell('import pandas as pd'); }\n",
       "    "
      ],
      "text/plain": [
       "<IPython.core.display.Javascript object>"
      ]
     },
     "metadata": {},
     "output_type": "display_data"
    },
    {
     "name": "stdout",
     "output_type": "stream",
     "text": [
      "maxCommonNeighborsSyndrome 风热侵袭\n"
     ]
    },
    {
     "data": {
      "application/javascript": [
       "\n",
       "        if (window._pyforest_update_imports_cell) { window._pyforest_update_imports_cell('import pandas as pd'); }\n",
       "    "
      ],
      "text/plain": [
       "<IPython.core.display.Javascript object>"
      ]
     },
     "metadata": {},
     "output_type": "display_data"
    },
    {
     "name": "stdout",
     "output_type": "stream",
     "text": [
      "maxCommonNeighborsSyndrome 肝火上扰\n"
     ]
    },
    {
     "data": {
      "application/javascript": [
       "\n",
       "        if (window._pyforest_update_imports_cell) { window._pyforest_update_imports_cell('import pandas as pd'); }\n",
       "    "
      ],
      "text/plain": [
       "<IPython.core.display.Javascript object>"
      ]
     },
     "metadata": {},
     "output_type": "display_data"
    },
    {
     "name": "stdout",
     "output_type": "stream",
     "text": [
      "maxCommonNeighborsSyndrome 肾精亏虚\n"
     ]
    },
    {
     "data": {
      "application/javascript": [
       "\n",
       "        if (window._pyforest_update_imports_cell) { window._pyforest_update_imports_cell('import pandas as pd'); }\n",
       "    "
      ],
      "text/plain": [
       "<IPython.core.display.Javascript object>"
      ]
     },
     "metadata": {},
     "output_type": "display_data"
    },
    {
     "name": "stdout",
     "output_type": "stream",
     "text": [
      "maxCommonNeighborsSyndrome 肝火上扰\n"
     ]
    },
    {
     "data": {
      "application/javascript": [
       "\n",
       "        if (window._pyforest_update_imports_cell) { window._pyforest_update_imports_cell('import pandas as pd'); }\n",
       "    "
      ],
      "text/plain": [
       "<IPython.core.display.Javascript object>"
      ]
     },
     "metadata": {},
     "output_type": "display_data"
    },
    {
     "name": "stdout",
     "output_type": "stream",
     "text": [
      "maxCommonNeighborsSyndrome 痰火郁结\n"
     ]
    },
    {
     "data": {
      "application/javascript": [
       "\n",
       "        if (window._pyforest_update_imports_cell) { window._pyforest_update_imports_cell('import pandas as pd'); }\n",
       "    "
      ],
      "text/plain": [
       "<IPython.core.display.Javascript object>"
      ]
     },
     "metadata": {},
     "output_type": "display_data"
    },
    {
     "name": "stdout",
     "output_type": "stream",
     "text": [
      "maxCommonNeighborsSyndrome 肾精亏虚\n"
     ]
    },
    {
     "data": {
      "application/javascript": [
       "\n",
       "        if (window._pyforest_update_imports_cell) { window._pyforest_update_imports_cell('import pandas as pd'); }\n",
       "    "
      ],
      "text/plain": [
       "<IPython.core.display.Javascript object>"
      ]
     },
     "metadata": {},
     "output_type": "display_data"
    },
    {
     "name": "stdout",
     "output_type": "stream",
     "text": [
      "maxCommonNeighborsSyndrome 痰火郁结\n"
     ]
    },
    {
     "data": {
      "application/javascript": [
       "\n",
       "        if (window._pyforest_update_imports_cell) { window._pyforest_update_imports_cell('import pandas as pd'); }\n",
       "    "
      ],
      "text/plain": [
       "<IPython.core.display.Javascript object>"
      ]
     },
     "metadata": {},
     "output_type": "display_data"
    },
    {
     "name": "stdout",
     "output_type": "stream",
     "text": [
      "maxCommonNeighborsSyndrome 肝火上扰\n"
     ]
    },
    {
     "data": {
      "application/javascript": [
       "\n",
       "        if (window._pyforest_update_imports_cell) { window._pyforest_update_imports_cell('import pandas as pd'); }\n",
       "    "
      ],
      "text/plain": [
       "<IPython.core.display.Javascript object>"
      ]
     },
     "metadata": {},
     "output_type": "display_data"
    },
    {
     "name": "stdout",
     "output_type": "stream",
     "text": [
      "maxCommonNeighborsSyndrome 风热侵袭\n"
     ]
    },
    {
     "data": {
      "application/javascript": [
       "\n",
       "        if (window._pyforest_update_imports_cell) { window._pyforest_update_imports_cell('import pandas as pd'); }\n",
       "    "
      ],
      "text/plain": [
       "<IPython.core.display.Javascript object>"
      ]
     },
     "metadata": {},
     "output_type": "display_data"
    },
    {
     "name": "stdout",
     "output_type": "stream",
     "text": [
      "maxCommonNeighborsSyndrome 肾精亏虚\n"
     ]
    },
    {
     "data": {
      "application/javascript": [
       "\n",
       "        if (window._pyforest_update_imports_cell) { window._pyforest_update_imports_cell('import pandas as pd'); }\n",
       "    "
      ],
      "text/plain": [
       "<IPython.core.display.Javascript object>"
      ]
     },
     "metadata": {},
     "output_type": "display_data"
    },
    {
     "name": "stdout",
     "output_type": "stream",
     "text": [
      "maxCommonNeighborsSyndrome 脾胃虚弱\n"
     ]
    },
    {
     "data": {
      "application/javascript": [
       "\n",
       "        if (window._pyforest_update_imports_cell) { window._pyforest_update_imports_cell('import pandas as pd'); }\n",
       "    "
      ],
      "text/plain": [
       "<IPython.core.display.Javascript object>"
      ]
     },
     "metadata": {},
     "output_type": "display_data"
    },
    {
     "name": "stdout",
     "output_type": "stream",
     "text": [
      "maxCommonNeighborsSyndrome 肝火上扰\n"
     ]
    },
    {
     "data": {
      "application/javascript": [
       "\n",
       "        if (window._pyforest_update_imports_cell) { window._pyforest_update_imports_cell('import pandas as pd'); }\n",
       "    "
      ],
      "text/plain": [
       "<IPython.core.display.Javascript object>"
      ]
     },
     "metadata": {},
     "output_type": "display_data"
    },
    {
     "name": "stdout",
     "output_type": "stream",
     "text": [
      "maxCommonNeighborsSyndrome 肝火上扰\n"
     ]
    },
    {
     "data": {
      "application/javascript": [
       "\n",
       "        if (window._pyforest_update_imports_cell) { window._pyforest_update_imports_cell('import pandas as pd'); }\n",
       "    "
      ],
      "text/plain": [
       "<IPython.core.display.Javascript object>"
      ]
     },
     "metadata": {},
     "output_type": "display_data"
    },
    {
     "name": "stdout",
     "output_type": "stream",
     "text": [
      "maxCommonNeighborsSyndrome 肝火上扰\n"
     ]
    },
    {
     "data": {
      "application/javascript": [
       "\n",
       "        if (window._pyforest_update_imports_cell) { window._pyforest_update_imports_cell('import pandas as pd'); }\n",
       "    "
      ],
      "text/plain": [
       "<IPython.core.display.Javascript object>"
      ]
     },
     "metadata": {},
     "output_type": "display_data"
    },
    {
     "name": "stdout",
     "output_type": "stream",
     "text": [
      "maxCommonNeighborsSyndrome 脾胃虚弱\n"
     ]
    },
    {
     "data": {
      "application/javascript": [
       "\n",
       "        if (window._pyforest_update_imports_cell) { window._pyforest_update_imports_cell('import pandas as pd'); }\n",
       "    "
      ],
      "text/plain": [
       "<IPython.core.display.Javascript object>"
      ]
     },
     "metadata": {},
     "output_type": "display_data"
    },
    {
     "name": "stdout",
     "output_type": "stream",
     "text": [
      "maxCommonNeighborsSyndrome 脾胃虚弱\n"
     ]
    },
    {
     "data": {
      "application/javascript": [
       "\n",
       "        if (window._pyforest_update_imports_cell) { window._pyforest_update_imports_cell('import pandas as pd'); }\n",
       "    "
      ],
      "text/plain": [
       "<IPython.core.display.Javascript object>"
      ]
     },
     "metadata": {},
     "output_type": "display_data"
    },
    {
     "name": "stdout",
     "output_type": "stream",
     "text": [
      "maxCommonNeighborsSyndrome 肝火上扰\n"
     ]
    },
    {
     "data": {
      "application/javascript": [
       "\n",
       "        if (window._pyforest_update_imports_cell) { window._pyforest_update_imports_cell('import pandas as pd'); }\n",
       "    "
      ],
      "text/plain": [
       "<IPython.core.display.Javascript object>"
      ]
     },
     "metadata": {},
     "output_type": "display_data"
    },
    {
     "name": "stdout",
     "output_type": "stream",
     "text": [
      "maxCommonNeighborsSyndrome 肝火上扰\n"
     ]
    },
    {
     "data": {
      "application/javascript": [
       "\n",
       "        if (window._pyforest_update_imports_cell) { window._pyforest_update_imports_cell('import pandas as pd'); }\n",
       "    "
      ],
      "text/plain": [
       "<IPython.core.display.Javascript object>"
      ]
     },
     "metadata": {},
     "output_type": "display_data"
    },
    {
     "name": "stdout",
     "output_type": "stream",
     "text": [
      "maxCommonNeighborsSyndrome 肾精亏虚\n"
     ]
    },
    {
     "data": {
      "application/javascript": [
       "\n",
       "        if (window._pyforest_update_imports_cell) { window._pyforest_update_imports_cell('import pandas as pd'); }\n",
       "    "
      ],
      "text/plain": [
       "<IPython.core.display.Javascript object>"
      ]
     },
     "metadata": {},
     "output_type": "display_data"
    },
    {
     "name": "stdout",
     "output_type": "stream",
     "text": [
      "maxCommonNeighborsSyndrome 肾精亏虚\n"
     ]
    },
    {
     "data": {
      "application/javascript": [
       "\n",
       "        if (window._pyforest_update_imports_cell) { window._pyforest_update_imports_cell('import pandas as pd'); }\n",
       "    "
      ],
      "text/plain": [
       "<IPython.core.display.Javascript object>"
      ]
     },
     "metadata": {},
     "output_type": "display_data"
    },
    {
     "name": "stdout",
     "output_type": "stream",
     "text": [
      "maxCommonNeighborsSyndrome 痰火郁结\n"
     ]
    },
    {
     "data": {
      "application/javascript": [
       "\n",
       "        if (window._pyforest_update_imports_cell) { window._pyforest_update_imports_cell('import pandas as pd'); }\n",
       "    "
      ],
      "text/plain": [
       "<IPython.core.display.Javascript object>"
      ]
     },
     "metadata": {},
     "output_type": "display_data"
    },
    {
     "name": "stdout",
     "output_type": "stream",
     "text": [
      "maxCommonNeighborsSyndrome 肝火上扰\n"
     ]
    },
    {
     "data": {
      "application/javascript": [
       "\n",
       "        if (window._pyforest_update_imports_cell) { window._pyforest_update_imports_cell('import pandas as pd'); }\n",
       "    "
      ],
      "text/plain": [
       "<IPython.core.display.Javascript object>"
      ]
     },
     "metadata": {},
     "output_type": "display_data"
    },
    {
     "name": "stdout",
     "output_type": "stream",
     "text": [
      "maxCommonNeighborsSyndrome 肾精亏虚\n"
     ]
    },
    {
     "data": {
      "application/javascript": [
       "\n",
       "        if (window._pyforest_update_imports_cell) { window._pyforest_update_imports_cell('import pandas as pd'); }\n",
       "    "
      ],
      "text/plain": [
       "<IPython.core.display.Javascript object>"
      ]
     },
     "metadata": {},
     "output_type": "display_data"
    },
    {
     "name": "stdout",
     "output_type": "stream",
     "text": [
      "maxCommonNeighborsSyndrome 痰火郁结\n"
     ]
    },
    {
     "data": {
      "application/javascript": [
       "\n",
       "        if (window._pyforest_update_imports_cell) { window._pyforest_update_imports_cell('import pandas as pd'); }\n",
       "    "
      ],
      "text/plain": [
       "<IPython.core.display.Javascript object>"
      ]
     },
     "metadata": {},
     "output_type": "display_data"
    },
    {
     "name": "stdout",
     "output_type": "stream",
     "text": [
      "maxCommonNeighborsSyndrome 肾精亏虚\n"
     ]
    },
    {
     "data": {
      "application/javascript": [
       "\n",
       "        if (window._pyforest_update_imports_cell) { window._pyforest_update_imports_cell('import pandas as pd'); }\n",
       "    "
      ],
      "text/plain": [
       "<IPython.core.display.Javascript object>"
      ]
     },
     "metadata": {},
     "output_type": "display_data"
    },
    {
     "name": "stdout",
     "output_type": "stream",
     "text": [
      "maxCommonNeighborsSyndrome 风热侵袭\n"
     ]
    },
    {
     "data": {
      "application/javascript": [
       "\n",
       "        if (window._pyforest_update_imports_cell) { window._pyforest_update_imports_cell('import pandas as pd'); }\n",
       "    "
      ],
      "text/plain": [
       "<IPython.core.display.Javascript object>"
      ]
     },
     "metadata": {},
     "output_type": "display_data"
    },
    {
     "name": "stdout",
     "output_type": "stream",
     "text": [
      "maxCommonNeighborsSyndrome 肾精亏虚\n"
     ]
    },
    {
     "data": {
      "application/javascript": [
       "\n",
       "        if (window._pyforest_update_imports_cell) { window._pyforest_update_imports_cell('import pandas as pd'); }\n",
       "    "
      ],
      "text/plain": [
       "<IPython.core.display.Javascript object>"
      ]
     },
     "metadata": {},
     "output_type": "display_data"
    },
    {
     "name": "stdout",
     "output_type": "stream",
     "text": [
      "maxCommonNeighborsSyndrome 肝火上扰\n"
     ]
    },
    {
     "data": {
      "application/javascript": [
       "\n",
       "        if (window._pyforest_update_imports_cell) { window._pyforest_update_imports_cell('import pandas as pd'); }\n",
       "    "
      ],
      "text/plain": [
       "<IPython.core.display.Javascript object>"
      ]
     },
     "metadata": {},
     "output_type": "display_data"
    },
    {
     "name": "stdout",
     "output_type": "stream",
     "text": [
      "maxCommonNeighborsSyndrome 脾胃虚弱\n"
     ]
    },
    {
     "data": {
      "application/javascript": [
       "\n",
       "        if (window._pyforest_update_imports_cell) { window._pyforest_update_imports_cell('import pandas as pd'); }\n",
       "    "
      ],
      "text/plain": [
       "<IPython.core.display.Javascript object>"
      ]
     },
     "metadata": {},
     "output_type": "display_data"
    },
    {
     "name": "stdout",
     "output_type": "stream",
     "text": [
      "maxCommonNeighborsSyndrome 肝火上扰\n"
     ]
    },
    {
     "data": {
      "application/javascript": [
       "\n",
       "        if (window._pyforest_update_imports_cell) { window._pyforest_update_imports_cell('import pandas as pd'); }\n",
       "    "
      ],
      "text/plain": [
       "<IPython.core.display.Javascript object>"
      ]
     },
     "metadata": {},
     "output_type": "display_data"
    },
    {
     "name": "stdout",
     "output_type": "stream",
     "text": [
      "maxCommonNeighborsSyndrome 肝火上扰\n"
     ]
    },
    {
     "data": {
      "application/javascript": [
       "\n",
       "        if (window._pyforest_update_imports_cell) { window._pyforest_update_imports_cell('import pandas as pd'); }\n",
       "    "
      ],
      "text/plain": [
       "<IPython.core.display.Javascript object>"
      ]
     },
     "metadata": {},
     "output_type": "display_data"
    },
    {
     "name": "stdout",
     "output_type": "stream",
     "text": [
      "maxCommonNeighborsSyndrome 肾精亏虚\n"
     ]
    },
    {
     "data": {
      "application/javascript": [
       "\n",
       "        if (window._pyforest_update_imports_cell) { window._pyforest_update_imports_cell('import pandas as pd'); }\n",
       "    "
      ],
      "text/plain": [
       "<IPython.core.display.Javascript object>"
      ]
     },
     "metadata": {},
     "output_type": "display_data"
    },
    {
     "name": "stdout",
     "output_type": "stream",
     "text": [
      "maxCommonNeighborsSyndrome 肝火上扰\n"
     ]
    },
    {
     "data": {
      "application/javascript": [
       "\n",
       "        if (window._pyforest_update_imports_cell) { window._pyforest_update_imports_cell('import pandas as pd'); }\n",
       "    "
      ],
      "text/plain": [
       "<IPython.core.display.Javascript object>"
      ]
     },
     "metadata": {},
     "output_type": "display_data"
    },
    {
     "name": "stdout",
     "output_type": "stream",
     "text": [
      "maxCommonNeighborsSyndrome 肝火上扰\n"
     ]
    },
    {
     "data": {
      "application/javascript": [
       "\n",
       "        if (window._pyforest_update_imports_cell) { window._pyforest_update_imports_cell('import pandas as pd'); }\n",
       "    "
      ],
      "text/plain": [
       "<IPython.core.display.Javascript object>"
      ]
     },
     "metadata": {},
     "output_type": "display_data"
    },
    {
     "name": "stdout",
     "output_type": "stream",
     "text": [
      "maxCommonNeighborsSyndrome 肾精亏虚\n"
     ]
    },
    {
     "data": {
      "application/javascript": [
       "\n",
       "        if (window._pyforest_update_imports_cell) { window._pyforest_update_imports_cell('import pandas as pd'); }\n",
       "    "
      ],
      "text/plain": [
       "<IPython.core.display.Javascript object>"
      ]
     },
     "metadata": {},
     "output_type": "display_data"
    },
    {
     "name": "stdout",
     "output_type": "stream",
     "text": [
      "maxCommonNeighborsSyndrome 痰火郁结\n"
     ]
    },
    {
     "data": {
      "application/javascript": [
       "\n",
       "        if (window._pyforest_update_imports_cell) { window._pyforest_update_imports_cell('import pandas as pd'); }\n",
       "    "
      ],
      "text/plain": [
       "<IPython.core.display.Javascript object>"
      ]
     },
     "metadata": {},
     "output_type": "display_data"
    },
    {
     "name": "stdout",
     "output_type": "stream",
     "text": [
      "maxCommonNeighborsSyndrome 痰火郁结\n"
     ]
    },
    {
     "data": {
      "application/javascript": [
       "\n",
       "        if (window._pyforest_update_imports_cell) { window._pyforest_update_imports_cell('import pandas as pd'); }\n",
       "    "
      ],
      "text/plain": [
       "<IPython.core.display.Javascript object>"
      ]
     },
     "metadata": {},
     "output_type": "display_data"
    },
    {
     "name": "stdout",
     "output_type": "stream",
     "text": [
      "maxCommonNeighborsSyndrome 肝火上扰\n"
     ]
    },
    {
     "data": {
      "application/javascript": [
       "\n",
       "        if (window._pyforest_update_imports_cell) { window._pyforest_update_imports_cell('import pandas as pd'); }\n",
       "    "
      ],
      "text/plain": [
       "<IPython.core.display.Javascript object>"
      ]
     },
     "metadata": {},
     "output_type": "display_data"
    },
    {
     "name": "stdout",
     "output_type": "stream",
     "text": [
      "maxCommonNeighborsSyndrome 痰火郁结\n"
     ]
    },
    {
     "data": {
      "application/javascript": [
       "\n",
       "        if (window._pyforest_update_imports_cell) { window._pyforest_update_imports_cell('import pandas as pd'); }\n",
       "    "
      ],
      "text/plain": [
       "<IPython.core.display.Javascript object>"
      ]
     },
     "metadata": {},
     "output_type": "display_data"
    },
    {
     "name": "stdout",
     "output_type": "stream",
     "text": [
      "maxCommonNeighborsSyndrome 痰火郁结\n"
     ]
    },
    {
     "data": {
      "application/javascript": [
       "\n",
       "        if (window._pyforest_update_imports_cell) { window._pyforest_update_imports_cell('import pandas as pd'); }\n",
       "    "
      ],
      "text/plain": [
       "<IPython.core.display.Javascript object>"
      ]
     },
     "metadata": {},
     "output_type": "display_data"
    },
    {
     "name": "stdout",
     "output_type": "stream",
     "text": [
      "maxCommonNeighborsSyndrome 肾精亏虚\n"
     ]
    },
    {
     "data": {
      "application/javascript": [
       "\n",
       "        if (window._pyforest_update_imports_cell) { window._pyforest_update_imports_cell('import pandas as pd'); }\n",
       "    "
      ],
      "text/plain": [
       "<IPython.core.display.Javascript object>"
      ]
     },
     "metadata": {},
     "output_type": "display_data"
    },
    {
     "name": "stdout",
     "output_type": "stream",
     "text": [
      "maxCommonNeighborsSyndrome 脾胃虚弱\n"
     ]
    },
    {
     "data": {
      "application/javascript": [
       "\n",
       "        if (window._pyforest_update_imports_cell) { window._pyforest_update_imports_cell('import pandas as pd'); }\n",
       "    "
      ],
      "text/plain": [
       "<IPython.core.display.Javascript object>"
      ]
     },
     "metadata": {},
     "output_type": "display_data"
    },
    {
     "name": "stdout",
     "output_type": "stream",
     "text": [
      "maxCommonNeighborsSyndrome 肾精亏虚\n"
     ]
    },
    {
     "data": {
      "application/javascript": [
       "\n",
       "        if (window._pyforest_update_imports_cell) { window._pyforest_update_imports_cell('import pandas as pd'); }\n",
       "    "
      ],
      "text/plain": [
       "<IPython.core.display.Javascript object>"
      ]
     },
     "metadata": {},
     "output_type": "display_data"
    },
    {
     "name": "stdout",
     "output_type": "stream",
     "text": [
      "maxCommonNeighborsSyndrome 风热侵袭\n"
     ]
    },
    {
     "data": {
      "application/javascript": [
       "\n",
       "        if (window._pyforest_update_imports_cell) { window._pyforest_update_imports_cell('import pandas as pd'); }\n",
       "    "
      ],
      "text/plain": [
       "<IPython.core.display.Javascript object>"
      ]
     },
     "metadata": {},
     "output_type": "display_data"
    },
    {
     "name": "stdout",
     "output_type": "stream",
     "text": [
      "maxCommonNeighborsSyndrome 痰火郁结\n"
     ]
    },
    {
     "data": {
      "application/javascript": [
       "\n",
       "        if (window._pyforest_update_imports_cell) { window._pyforest_update_imports_cell('import pandas as pd'); }\n",
       "    "
      ],
      "text/plain": [
       "<IPython.core.display.Javascript object>"
      ]
     },
     "metadata": {},
     "output_type": "display_data"
    },
    {
     "name": "stdout",
     "output_type": "stream",
     "text": [
      "maxCommonNeighborsSyndrome 肾精亏虚\n"
     ]
    },
    {
     "data": {
      "application/javascript": [
       "\n",
       "        if (window._pyforest_update_imports_cell) { window._pyforest_update_imports_cell('import pandas as pd'); }\n",
       "    "
      ],
      "text/plain": [
       "<IPython.core.display.Javascript object>"
      ]
     },
     "metadata": {},
     "output_type": "display_data"
    },
    {
     "name": "stdout",
     "output_type": "stream",
     "text": [
      "maxCommonNeighborsSyndrome 痰火郁结\n"
     ]
    },
    {
     "data": {
      "application/javascript": [
       "\n",
       "        if (window._pyforest_update_imports_cell) { window._pyforest_update_imports_cell('import pandas as pd'); }\n",
       "    "
      ],
      "text/plain": [
       "<IPython.core.display.Javascript object>"
      ]
     },
     "metadata": {},
     "output_type": "display_data"
    },
    {
     "name": "stdout",
     "output_type": "stream",
     "text": [
      "maxCommonNeighborsSyndrome 痰火郁结\n"
     ]
    },
    {
     "data": {
      "application/javascript": [
       "\n",
       "        if (window._pyforest_update_imports_cell) { window._pyforest_update_imports_cell('import pandas as pd'); }\n",
       "    "
      ],
      "text/plain": [
       "<IPython.core.display.Javascript object>"
      ]
     },
     "metadata": {},
     "output_type": "display_data"
    },
    {
     "name": "stdout",
     "output_type": "stream",
     "text": [
      "maxCommonNeighborsSyndrome 肾精亏虚\n"
     ]
    },
    {
     "data": {
      "application/javascript": [
       "\n",
       "        if (window._pyforest_update_imports_cell) { window._pyforest_update_imports_cell('import pandas as pd'); }\n",
       "    "
      ],
      "text/plain": [
       "<IPython.core.display.Javascript object>"
      ]
     },
     "metadata": {},
     "output_type": "display_data"
    },
    {
     "name": "stdout",
     "output_type": "stream",
     "text": [
      "maxCommonNeighborsSyndrome 肾精亏虚\n"
     ]
    },
    {
     "data": {
      "application/javascript": [
       "\n",
       "        if (window._pyforest_update_imports_cell) { window._pyforest_update_imports_cell('import pandas as pd'); }\n",
       "    "
      ],
      "text/plain": [
       "<IPython.core.display.Javascript object>"
      ]
     },
     "metadata": {},
     "output_type": "display_data"
    },
    {
     "name": "stdout",
     "output_type": "stream",
     "text": [
      "maxCommonNeighborsSyndrome 风热侵袭\n"
     ]
    },
    {
     "data": {
      "application/javascript": [
       "\n",
       "        if (window._pyforest_update_imports_cell) { window._pyforest_update_imports_cell('import pandas as pd'); }\n",
       "    "
      ],
      "text/plain": [
       "<IPython.core.display.Javascript object>"
      ]
     },
     "metadata": {},
     "output_type": "display_data"
    },
    {
     "name": "stdout",
     "output_type": "stream",
     "text": [
      "maxCommonNeighborsSyndrome 肝火上扰\n"
     ]
    },
    {
     "data": {
      "application/javascript": [
       "\n",
       "        if (window._pyforest_update_imports_cell) { window._pyforest_update_imports_cell('import pandas as pd'); }\n",
       "    "
      ],
      "text/plain": [
       "<IPython.core.display.Javascript object>"
      ]
     },
     "metadata": {},
     "output_type": "display_data"
    },
    {
     "name": "stdout",
     "output_type": "stream",
     "text": [
      "maxCommonNeighborsSyndrome 脾胃虚弱\n"
     ]
    },
    {
     "data": {
      "application/javascript": [
       "\n",
       "        if (window._pyforest_update_imports_cell) { window._pyforest_update_imports_cell('import pandas as pd'); }\n",
       "    "
      ],
      "text/plain": [
       "<IPython.core.display.Javascript object>"
      ]
     },
     "metadata": {},
     "output_type": "display_data"
    },
    {
     "name": "stdout",
     "output_type": "stream",
     "text": [
      "maxCommonNeighborsSyndrome 脾胃虚弱\n"
     ]
    },
    {
     "data": {
      "application/javascript": [
       "\n",
       "        if (window._pyforest_update_imports_cell) { window._pyforest_update_imports_cell('import pandas as pd'); }\n",
       "    "
      ],
      "text/plain": [
       "<IPython.core.display.Javascript object>"
      ]
     },
     "metadata": {},
     "output_type": "display_data"
    },
    {
     "name": "stdout",
     "output_type": "stream",
     "text": [
      "maxCommonNeighborsSyndrome 肾精亏虚\n"
     ]
    },
    {
     "data": {
      "application/javascript": [
       "\n",
       "        if (window._pyforest_update_imports_cell) { window._pyforest_update_imports_cell('import pandas as pd'); }\n",
       "    "
      ],
      "text/plain": [
       "<IPython.core.display.Javascript object>"
      ]
     },
     "metadata": {},
     "output_type": "display_data"
    },
    {
     "name": "stdout",
     "output_type": "stream",
     "text": [
      "maxCommonNeighborsSyndrome 肾精亏虚\n"
     ]
    },
    {
     "data": {
      "application/javascript": [
       "\n",
       "        if (window._pyforest_update_imports_cell) { window._pyforest_update_imports_cell('import pandas as pd'); }\n",
       "    "
      ],
      "text/plain": [
       "<IPython.core.display.Javascript object>"
      ]
     },
     "metadata": {},
     "output_type": "display_data"
    },
    {
     "name": "stdout",
     "output_type": "stream",
     "text": [
      "maxCommonNeighborsSyndrome 肝火上扰\n"
     ]
    },
    {
     "data": {
      "application/javascript": [
       "\n",
       "        if (window._pyforest_update_imports_cell) { window._pyforest_update_imports_cell('import pandas as pd'); }\n",
       "    "
      ],
      "text/plain": [
       "<IPython.core.display.Javascript object>"
      ]
     },
     "metadata": {},
     "output_type": "display_data"
    },
    {
     "name": "stdout",
     "output_type": "stream",
     "text": [
      "maxCommonNeighborsSyndrome 风热侵袭\n"
     ]
    },
    {
     "data": {
      "application/javascript": [
       "\n",
       "        if (window._pyforest_update_imports_cell) { window._pyforest_update_imports_cell('import pandas as pd'); }\n",
       "    "
      ],
      "text/plain": [
       "<IPython.core.display.Javascript object>"
      ]
     },
     "metadata": {},
     "output_type": "display_data"
    },
    {
     "name": "stdout",
     "output_type": "stream",
     "text": [
      "maxCommonNeighborsSyndrome 风热侵袭\n"
     ]
    },
    {
     "data": {
      "application/javascript": [
       "\n",
       "        if (window._pyforest_update_imports_cell) { window._pyforest_update_imports_cell('import pandas as pd'); }\n",
       "    "
      ],
      "text/plain": [
       "<IPython.core.display.Javascript object>"
      ]
     },
     "metadata": {},
     "output_type": "display_data"
    },
    {
     "name": "stdout",
     "output_type": "stream",
     "text": [
      "maxCommonNeighborsSyndrome 肝火上扰\n"
     ]
    },
    {
     "data": {
      "application/javascript": [
       "\n",
       "        if (window._pyforest_update_imports_cell) { window._pyforest_update_imports_cell('import pandas as pd'); }\n",
       "    "
      ],
      "text/plain": [
       "<IPython.core.display.Javascript object>"
      ]
     },
     "metadata": {},
     "output_type": "display_data"
    },
    {
     "name": "stdout",
     "output_type": "stream",
     "text": [
      "maxCommonNeighborsSyndrome 风热侵袭\n"
     ]
    },
    {
     "data": {
      "application/javascript": [
       "\n",
       "        if (window._pyforest_update_imports_cell) { window._pyforest_update_imports_cell('import pandas as pd'); }\n",
       "    "
      ],
      "text/plain": [
       "<IPython.core.display.Javascript object>"
      ]
     },
     "metadata": {},
     "output_type": "display_data"
    },
    {
     "name": "stdout",
     "output_type": "stream",
     "text": [
      "maxCommonNeighborsSyndrome 脾胃虚弱\n"
     ]
    },
    {
     "data": {
      "application/javascript": [
       "\n",
       "        if (window._pyforest_update_imports_cell) { window._pyforest_update_imports_cell('import pandas as pd'); }\n",
       "    "
      ],
      "text/plain": [
       "<IPython.core.display.Javascript object>"
      ]
     },
     "metadata": {},
     "output_type": "display_data"
    },
    {
     "name": "stdout",
     "output_type": "stream",
     "text": [
      "maxCommonNeighborsSyndrome 肝火上扰\n"
     ]
    },
    {
     "data": {
      "application/javascript": [
       "\n",
       "        if (window._pyforest_update_imports_cell) { window._pyforest_update_imports_cell('import pandas as pd'); }\n",
       "    "
      ],
      "text/plain": [
       "<IPython.core.display.Javascript object>"
      ]
     },
     "metadata": {},
     "output_type": "display_data"
    },
    {
     "name": "stdout",
     "output_type": "stream",
     "text": [
      "maxCommonNeighborsSyndrome 脾胃虚弱\n"
     ]
    },
    {
     "data": {
      "application/javascript": [
       "\n",
       "        if (window._pyforest_update_imports_cell) { window._pyforest_update_imports_cell('import pandas as pd'); }\n",
       "    "
      ],
      "text/plain": [
       "<IPython.core.display.Javascript object>"
      ]
     },
     "metadata": {},
     "output_type": "display_data"
    },
    {
     "name": "stdout",
     "output_type": "stream",
     "text": [
      "maxCommonNeighborsSyndrome 肝火上扰\n"
     ]
    },
    {
     "data": {
      "application/javascript": [
       "\n",
       "        if (window._pyforest_update_imports_cell) { window._pyforest_update_imports_cell('import pandas as pd'); }\n",
       "    "
      ],
      "text/plain": [
       "<IPython.core.display.Javascript object>"
      ]
     },
     "metadata": {},
     "output_type": "display_data"
    },
    {
     "name": "stdout",
     "output_type": "stream",
     "text": [
      "maxCommonNeighborsSyndrome 痰火郁结\n"
     ]
    },
    {
     "data": {
      "application/javascript": [
       "\n",
       "        if (window._pyforest_update_imports_cell) { window._pyforest_update_imports_cell('import pandas as pd'); }\n",
       "    "
      ],
      "text/plain": [
       "<IPython.core.display.Javascript object>"
      ]
     },
     "metadata": {},
     "output_type": "display_data"
    },
    {
     "name": "stdout",
     "output_type": "stream",
     "text": [
      "maxCommonNeighborsSyndrome 风热侵袭\n"
     ]
    },
    {
     "data": {
      "application/javascript": [
       "\n",
       "        if (window._pyforest_update_imports_cell) { window._pyforest_update_imports_cell('import pandas as pd'); }\n",
       "    "
      ],
      "text/plain": [
       "<IPython.core.display.Javascript object>"
      ]
     },
     "metadata": {},
     "output_type": "display_data"
    },
    {
     "name": "stdout",
     "output_type": "stream",
     "text": [
      "maxCommonNeighborsSyndrome 肾精亏虚\n"
     ]
    },
    {
     "data": {
      "application/javascript": [
       "\n",
       "        if (window._pyforest_update_imports_cell) { window._pyforest_update_imports_cell('import pandas as pd'); }\n",
       "    "
      ],
      "text/plain": [
       "<IPython.core.display.Javascript object>"
      ]
     },
     "metadata": {},
     "output_type": "display_data"
    },
    {
     "name": "stdout",
     "output_type": "stream",
     "text": [
      "maxCommonNeighborsSyndrome 风热侵袭\n"
     ]
    },
    {
     "data": {
      "application/javascript": [
       "\n",
       "        if (window._pyforest_update_imports_cell) { window._pyforest_update_imports_cell('import pandas as pd'); }\n",
       "    "
      ],
      "text/plain": [
       "<IPython.core.display.Javascript object>"
      ]
     },
     "metadata": {},
     "output_type": "display_data"
    },
    {
     "name": "stdout",
     "output_type": "stream",
     "text": [
      "maxCommonNeighborsSyndrome 肾精亏虚\n"
     ]
    },
    {
     "data": {
      "application/javascript": [
       "\n",
       "        if (window._pyforest_update_imports_cell) { window._pyforest_update_imports_cell('import pandas as pd'); }\n",
       "    "
      ],
      "text/plain": [
       "<IPython.core.display.Javascript object>"
      ]
     },
     "metadata": {},
     "output_type": "display_data"
    },
    {
     "name": "stdout",
     "output_type": "stream",
     "text": [
      "maxCommonNeighborsSyndrome 肝火上扰\n"
     ]
    },
    {
     "data": {
      "application/javascript": [
       "\n",
       "        if (window._pyforest_update_imports_cell) { window._pyforest_update_imports_cell('import pandas as pd'); }\n",
       "    "
      ],
      "text/plain": [
       "<IPython.core.display.Javascript object>"
      ]
     },
     "metadata": {},
     "output_type": "display_data"
    },
    {
     "name": "stdout",
     "output_type": "stream",
     "text": [
      "maxCommonNeighborsSyndrome 痰火郁结\n"
     ]
    },
    {
     "data": {
      "application/javascript": [
       "\n",
       "        if (window._pyforest_update_imports_cell) { window._pyforest_update_imports_cell('import pandas as pd'); }\n",
       "    "
      ],
      "text/plain": [
       "<IPython.core.display.Javascript object>"
      ]
     },
     "metadata": {},
     "output_type": "display_data"
    },
    {
     "name": "stdout",
     "output_type": "stream",
     "text": [
      "maxCommonNeighborsSyndrome 脾胃虚弱\n"
     ]
    },
    {
     "data": {
      "application/javascript": [
       "\n",
       "        if (window._pyforest_update_imports_cell) { window._pyforest_update_imports_cell('import pandas as pd'); }\n",
       "    "
      ],
      "text/plain": [
       "<IPython.core.display.Javascript object>"
      ]
     },
     "metadata": {},
     "output_type": "display_data"
    },
    {
     "name": "stdout",
     "output_type": "stream",
     "text": [
      "maxCommonNeighborsSyndrome 肾精亏虚\n"
     ]
    },
    {
     "data": {
      "application/javascript": [
       "\n",
       "        if (window._pyforest_update_imports_cell) { window._pyforest_update_imports_cell('import pandas as pd'); }\n",
       "    "
      ],
      "text/plain": [
       "<IPython.core.display.Javascript object>"
      ]
     },
     "metadata": {},
     "output_type": "display_data"
    },
    {
     "name": "stdout",
     "output_type": "stream",
     "text": [
      "maxCommonNeighborsSyndrome 痰火郁结\n"
     ]
    },
    {
     "data": {
      "application/javascript": [
       "\n",
       "        if (window._pyforest_update_imports_cell) { window._pyforest_update_imports_cell('import pandas as pd'); }\n",
       "    "
      ],
      "text/plain": [
       "<IPython.core.display.Javascript object>"
      ]
     },
     "metadata": {},
     "output_type": "display_data"
    },
    {
     "name": "stdout",
     "output_type": "stream",
     "text": [
      "maxCommonNeighborsSyndrome 风热侵袭\n"
     ]
    },
    {
     "data": {
      "application/javascript": [
       "\n",
       "        if (window._pyforest_update_imports_cell) { window._pyforest_update_imports_cell('import pandas as pd'); }\n",
       "    "
      ],
      "text/plain": [
       "<IPython.core.display.Javascript object>"
      ]
     },
     "metadata": {},
     "output_type": "display_data"
    },
    {
     "name": "stdout",
     "output_type": "stream",
     "text": [
      "maxCommonNeighborsSyndrome 风热侵袭\n"
     ]
    },
    {
     "data": {
      "application/javascript": [
       "\n",
       "        if (window._pyforest_update_imports_cell) { window._pyforest_update_imports_cell('import pandas as pd'); }\n",
       "    "
      ],
      "text/plain": [
       "<IPython.core.display.Javascript object>"
      ]
     },
     "metadata": {},
     "output_type": "display_data"
    },
    {
     "name": "stdout",
     "output_type": "stream",
     "text": [
      "maxCommonNeighborsSyndrome 肝火上扰\n"
     ]
    },
    {
     "data": {
      "application/javascript": [
       "\n",
       "        if (window._pyforest_update_imports_cell) { window._pyforest_update_imports_cell('import pandas as pd'); }\n",
       "    "
      ],
      "text/plain": [
       "<IPython.core.display.Javascript object>"
      ]
     },
     "metadata": {},
     "output_type": "display_data"
    },
    {
     "name": "stdout",
     "output_type": "stream",
     "text": [
      "maxCommonNeighborsSyndrome 痰火郁结\n"
     ]
    },
    {
     "data": {
      "application/javascript": [
       "\n",
       "        if (window._pyforest_update_imports_cell) { window._pyforest_update_imports_cell('import pandas as pd'); }\n",
       "    "
      ],
      "text/plain": [
       "<IPython.core.display.Javascript object>"
      ]
     },
     "metadata": {},
     "output_type": "display_data"
    },
    {
     "name": "stdout",
     "output_type": "stream",
     "text": [
      "maxCommonNeighborsSyndrome 肝火上扰\n"
     ]
    },
    {
     "data": {
      "application/javascript": [
       "\n",
       "        if (window._pyforest_update_imports_cell) { window._pyforest_update_imports_cell('import pandas as pd'); }\n",
       "    "
      ],
      "text/plain": [
       "<IPython.core.display.Javascript object>"
      ]
     },
     "metadata": {},
     "output_type": "display_data"
    },
    {
     "name": "stdout",
     "output_type": "stream",
     "text": [
      "maxCommonNeighborsSyndrome 肾精亏虚\n"
     ]
    },
    {
     "data": {
      "application/javascript": [
       "\n",
       "        if (window._pyforest_update_imports_cell) { window._pyforest_update_imports_cell('import pandas as pd'); }\n",
       "    "
      ],
      "text/plain": [
       "<IPython.core.display.Javascript object>"
      ]
     },
     "metadata": {},
     "output_type": "display_data"
    },
    {
     "name": "stdout",
     "output_type": "stream",
     "text": [
      "maxCommonNeighborsSyndrome 肝火上扰\n"
     ]
    },
    {
     "data": {
      "application/javascript": [
       "\n",
       "        if (window._pyforest_update_imports_cell) { window._pyforest_update_imports_cell('import pandas as pd'); }\n",
       "    "
      ],
      "text/plain": [
       "<IPython.core.display.Javascript object>"
      ]
     },
     "metadata": {},
     "output_type": "display_data"
    },
    {
     "name": "stdout",
     "output_type": "stream",
     "text": [
      "maxCommonNeighborsSyndrome 肾精亏虚\n"
     ]
    },
    {
     "data": {
      "application/javascript": [
       "\n",
       "        if (window._pyforest_update_imports_cell) { window._pyforest_update_imports_cell('import pandas as pd'); }\n",
       "    "
      ],
      "text/plain": [
       "<IPython.core.display.Javascript object>"
      ]
     },
     "metadata": {},
     "output_type": "display_data"
    },
    {
     "name": "stdout",
     "output_type": "stream",
     "text": [
      "maxCommonNeighborsSyndrome 风热侵袭\n"
     ]
    },
    {
     "data": {
      "application/javascript": [
       "\n",
       "        if (window._pyforest_update_imports_cell) { window._pyforest_update_imports_cell('import pandas as pd'); }\n",
       "    "
      ],
      "text/plain": [
       "<IPython.core.display.Javascript object>"
      ]
     },
     "metadata": {},
     "output_type": "display_data"
    },
    {
     "name": "stdout",
     "output_type": "stream",
     "text": [
      "maxCommonNeighborsSyndrome 风热侵袭\n"
     ]
    },
    {
     "data": {
      "application/javascript": [
       "\n",
       "        if (window._pyforest_update_imports_cell) { window._pyforest_update_imports_cell('import pandas as pd'); }\n",
       "    "
      ],
      "text/plain": [
       "<IPython.core.display.Javascript object>"
      ]
     },
     "metadata": {},
     "output_type": "display_data"
    },
    {
     "name": "stdout",
     "output_type": "stream",
     "text": [
      "maxCommonNeighborsSyndrome 肝火上扰\n"
     ]
    },
    {
     "data": {
      "application/javascript": [
       "\n",
       "        if (window._pyforest_update_imports_cell) { window._pyforest_update_imports_cell('import pandas as pd'); }\n",
       "    "
      ],
      "text/plain": [
       "<IPython.core.display.Javascript object>"
      ]
     },
     "metadata": {},
     "output_type": "display_data"
    },
    {
     "name": "stdout",
     "output_type": "stream",
     "text": [
      "maxCommonNeighborsSyndrome 肝火上扰\n"
     ]
    },
    {
     "data": {
      "application/javascript": [
       "\n",
       "        if (window._pyforest_update_imports_cell) { window._pyforest_update_imports_cell('import pandas as pd'); }\n",
       "    "
      ],
      "text/plain": [
       "<IPython.core.display.Javascript object>"
      ]
     },
     "metadata": {},
     "output_type": "display_data"
    },
    {
     "name": "stdout",
     "output_type": "stream",
     "text": [
      "maxCommonNeighborsSyndrome 肝火上扰\n"
     ]
    },
    {
     "data": {
      "application/javascript": [
       "\n",
       "        if (window._pyforest_update_imports_cell) { window._pyforest_update_imports_cell('import pandas as pd'); }\n",
       "    "
      ],
      "text/plain": [
       "<IPython.core.display.Javascript object>"
      ]
     },
     "metadata": {},
     "output_type": "display_data"
    },
    {
     "name": "stdout",
     "output_type": "stream",
     "text": [
      "maxCommonNeighborsSyndrome 脾胃虚弱\n"
     ]
    },
    {
     "data": {
      "application/javascript": [
       "\n",
       "        if (window._pyforest_update_imports_cell) { window._pyforest_update_imports_cell('import pandas as pd'); }\n",
       "    "
      ],
      "text/plain": [
       "<IPython.core.display.Javascript object>"
      ]
     },
     "metadata": {},
     "output_type": "display_data"
    },
    {
     "name": "stdout",
     "output_type": "stream",
     "text": [
      "maxCommonNeighborsSyndrome 肝火上扰\n"
     ]
    },
    {
     "data": {
      "application/javascript": [
       "\n",
       "        if (window._pyforest_update_imports_cell) { window._pyforest_update_imports_cell('import pandas as pd'); }\n",
       "    "
      ],
      "text/plain": [
       "<IPython.core.display.Javascript object>"
      ]
     },
     "metadata": {},
     "output_type": "display_data"
    },
    {
     "name": "stdout",
     "output_type": "stream",
     "text": [
      "maxCommonNeighborsSyndrome 肾精亏虚\n"
     ]
    },
    {
     "data": {
      "application/javascript": [
       "\n",
       "        if (window._pyforest_update_imports_cell) { window._pyforest_update_imports_cell('import pandas as pd'); }\n",
       "    "
      ],
      "text/plain": [
       "<IPython.core.display.Javascript object>"
      ]
     },
     "metadata": {},
     "output_type": "display_data"
    },
    {
     "name": "stdout",
     "output_type": "stream",
     "text": [
      "maxCommonNeighborsSyndrome 痰火郁结\n"
     ]
    },
    {
     "data": {
      "application/javascript": [
       "\n",
       "        if (window._pyforest_update_imports_cell) { window._pyforest_update_imports_cell('import pandas as pd'); }\n",
       "    "
      ],
      "text/plain": [
       "<IPython.core.display.Javascript object>"
      ]
     },
     "metadata": {},
     "output_type": "display_data"
    },
    {
     "name": "stdout",
     "output_type": "stream",
     "text": [
      "maxCommonNeighborsSyndrome 痰火郁结\n"
     ]
    },
    {
     "data": {
      "application/javascript": [
       "\n",
       "        if (window._pyforest_update_imports_cell) { window._pyforest_update_imports_cell('import pandas as pd'); }\n",
       "    "
      ],
      "text/plain": [
       "<IPython.core.display.Javascript object>"
      ]
     },
     "metadata": {},
     "output_type": "display_data"
    },
    {
     "name": "stdout",
     "output_type": "stream",
     "text": [
      "maxCommonNeighborsSyndrome 肝火上扰\n"
     ]
    },
    {
     "data": {
      "application/javascript": [
       "\n",
       "        if (window._pyforest_update_imports_cell) { window._pyforest_update_imports_cell('import pandas as pd'); }\n",
       "    "
      ],
      "text/plain": [
       "<IPython.core.display.Javascript object>"
      ]
     },
     "metadata": {},
     "output_type": "display_data"
    },
    {
     "name": "stdout",
     "output_type": "stream",
     "text": [
      "maxCommonNeighborsSyndrome 肝火上扰\n"
     ]
    },
    {
     "data": {
      "application/javascript": [
       "\n",
       "        if (window._pyforest_update_imports_cell) { window._pyforest_update_imports_cell('import pandas as pd'); }\n",
       "    "
      ],
      "text/plain": [
       "<IPython.core.display.Javascript object>"
      ]
     },
     "metadata": {},
     "output_type": "display_data"
    },
    {
     "name": "stdout",
     "output_type": "stream",
     "text": [
      "maxCommonNeighborsSyndrome 肝火上扰\n"
     ]
    },
    {
     "data": {
      "application/javascript": [
       "\n",
       "        if (window._pyforest_update_imports_cell) { window._pyforest_update_imports_cell('import pandas as pd'); }\n",
       "    "
      ],
      "text/plain": [
       "<IPython.core.display.Javascript object>"
      ]
     },
     "metadata": {},
     "output_type": "display_data"
    },
    {
     "name": "stdout",
     "output_type": "stream",
     "text": [
      "maxCommonNeighborsSyndrome 肾精亏虚\n"
     ]
    },
    {
     "data": {
      "application/javascript": [
       "\n",
       "        if (window._pyforest_update_imports_cell) { window._pyforest_update_imports_cell('import pandas as pd'); }\n",
       "    "
      ],
      "text/plain": [
       "<IPython.core.display.Javascript object>"
      ]
     },
     "metadata": {},
     "output_type": "display_data"
    },
    {
     "name": "stdout",
     "output_type": "stream",
     "text": [
      "maxCommonNeighborsSyndrome 肾精亏虚\n"
     ]
    },
    {
     "data": {
      "application/javascript": [
       "\n",
       "        if (window._pyforest_update_imports_cell) { window._pyforest_update_imports_cell('import pandas as pd'); }\n",
       "    "
      ],
      "text/plain": [
       "<IPython.core.display.Javascript object>"
      ]
     },
     "metadata": {},
     "output_type": "display_data"
    },
    {
     "name": "stdout",
     "output_type": "stream",
     "text": [
      "maxCommonNeighborsSyndrome 脾胃虚弱\n"
     ]
    },
    {
     "data": {
      "application/javascript": [
       "\n",
       "        if (window._pyforest_update_imports_cell) { window._pyforest_update_imports_cell('import pandas as pd'); }\n",
       "    "
      ],
      "text/plain": [
       "<IPython.core.display.Javascript object>"
      ]
     },
     "metadata": {},
     "output_type": "display_data"
    },
    {
     "name": "stdout",
     "output_type": "stream",
     "text": [
      "maxCommonNeighborsSyndrome 肝火上扰\n"
     ]
    },
    {
     "data": {
      "application/javascript": [
       "\n",
       "        if (window._pyforest_update_imports_cell) { window._pyforest_update_imports_cell('import pandas as pd'); }\n",
       "    "
      ],
      "text/plain": [
       "<IPython.core.display.Javascript object>"
      ]
     },
     "metadata": {},
     "output_type": "display_data"
    },
    {
     "name": "stdout",
     "output_type": "stream",
     "text": [
      "maxCommonNeighborsSyndrome 痰火郁结\n"
     ]
    },
    {
     "data": {
      "application/javascript": [
       "\n",
       "        if (window._pyforest_update_imports_cell) { window._pyforest_update_imports_cell('import pandas as pd'); }\n",
       "    "
      ],
      "text/plain": [
       "<IPython.core.display.Javascript object>"
      ]
     },
     "metadata": {},
     "output_type": "display_data"
    },
    {
     "name": "stdout",
     "output_type": "stream",
     "text": [
      "maxCommonNeighborsSyndrome 肝火上扰\n"
     ]
    },
    {
     "data": {
      "application/javascript": [
       "\n",
       "        if (window._pyforest_update_imports_cell) { window._pyforest_update_imports_cell('import pandas as pd'); }\n",
       "    "
      ],
      "text/plain": [
       "<IPython.core.display.Javascript object>"
      ]
     },
     "metadata": {},
     "output_type": "display_data"
    },
    {
     "name": "stdout",
     "output_type": "stream",
     "text": [
      "maxCommonNeighborsSyndrome 肾精亏虚\n"
     ]
    },
    {
     "data": {
      "application/javascript": [
       "\n",
       "        if (window._pyforest_update_imports_cell) { window._pyforest_update_imports_cell('import pandas as pd'); }\n",
       "    "
      ],
      "text/plain": [
       "<IPython.core.display.Javascript object>"
      ]
     },
     "metadata": {},
     "output_type": "display_data"
    },
    {
     "name": "stdout",
     "output_type": "stream",
     "text": [
      "maxCommonNeighborsSyndrome 肾精亏虚\n"
     ]
    },
    {
     "data": {
      "application/javascript": [
       "\n",
       "        if (window._pyforest_update_imports_cell) { window._pyforest_update_imports_cell('import pandas as pd'); }\n",
       "    "
      ],
      "text/plain": [
       "<IPython.core.display.Javascript object>"
      ]
     },
     "metadata": {},
     "output_type": "display_data"
    },
    {
     "name": "stdout",
     "output_type": "stream",
     "text": [
      "maxCommonNeighborsSyndrome 痰火郁结\n"
     ]
    },
    {
     "data": {
      "application/javascript": [
       "\n",
       "        if (window._pyforest_update_imports_cell) { window._pyforest_update_imports_cell('import pandas as pd'); }\n",
       "    "
      ],
      "text/plain": [
       "<IPython.core.display.Javascript object>"
      ]
     },
     "metadata": {},
     "output_type": "display_data"
    },
    {
     "name": "stdout",
     "output_type": "stream",
     "text": [
      "maxCommonNeighborsSyndrome 痰火郁结\n"
     ]
    },
    {
     "data": {
      "application/javascript": [
       "\n",
       "        if (window._pyforest_update_imports_cell) { window._pyforest_update_imports_cell('import pandas as pd'); }\n",
       "    "
      ],
      "text/plain": [
       "<IPython.core.display.Javascript object>"
      ]
     },
     "metadata": {},
     "output_type": "display_data"
    },
    {
     "name": "stdout",
     "output_type": "stream",
     "text": [
      "maxCommonNeighborsSyndrome 痰火郁结\n"
     ]
    },
    {
     "data": {
      "application/javascript": [
       "\n",
       "        if (window._pyforest_update_imports_cell) { window._pyforest_update_imports_cell('import pandas as pd'); }\n",
       "    "
      ],
      "text/plain": [
       "<IPython.core.display.Javascript object>"
      ]
     },
     "metadata": {},
     "output_type": "display_data"
    },
    {
     "name": "stdout",
     "output_type": "stream",
     "text": [
      "maxCommonNeighborsSyndrome 痰火郁结\n"
     ]
    },
    {
     "data": {
      "application/javascript": [
       "\n",
       "        if (window._pyforest_update_imports_cell) { window._pyforest_update_imports_cell('import pandas as pd'); }\n",
       "    "
      ],
      "text/plain": [
       "<IPython.core.display.Javascript object>"
      ]
     },
     "metadata": {},
     "output_type": "display_data"
    },
    {
     "name": "stdout",
     "output_type": "stream",
     "text": [
      "maxCommonNeighborsSyndrome 肝火上扰\n"
     ]
    },
    {
     "data": {
      "application/javascript": [
       "\n",
       "        if (window._pyforest_update_imports_cell) { window._pyforest_update_imports_cell('import pandas as pd'); }\n",
       "    "
      ],
      "text/plain": [
       "<IPython.core.display.Javascript object>"
      ]
     },
     "metadata": {},
     "output_type": "display_data"
    },
    {
     "name": "stdout",
     "output_type": "stream",
     "text": [
      "maxCommonNeighborsSyndrome 肝火上扰\n"
     ]
    },
    {
     "data": {
      "application/javascript": [
       "\n",
       "        if (window._pyforest_update_imports_cell) { window._pyforest_update_imports_cell('import pandas as pd'); }\n",
       "    "
      ],
      "text/plain": [
       "<IPython.core.display.Javascript object>"
      ]
     },
     "metadata": {},
     "output_type": "display_data"
    },
    {
     "name": "stdout",
     "output_type": "stream",
     "text": [
      "maxCommonNeighborsSyndrome 脾胃虚弱\n"
     ]
    },
    {
     "data": {
      "application/javascript": [
       "\n",
       "        if (window._pyforest_update_imports_cell) { window._pyforest_update_imports_cell('import pandas as pd'); }\n",
       "    "
      ],
      "text/plain": [
       "<IPython.core.display.Javascript object>"
      ]
     },
     "metadata": {},
     "output_type": "display_data"
    },
    {
     "name": "stdout",
     "output_type": "stream",
     "text": [
      "maxCommonNeighborsSyndrome 肾精亏虚\n"
     ]
    },
    {
     "data": {
      "application/javascript": [
       "\n",
       "        if (window._pyforest_update_imports_cell) { window._pyforest_update_imports_cell('import pandas as pd'); }\n",
       "    "
      ],
      "text/plain": [
       "<IPython.core.display.Javascript object>"
      ]
     },
     "metadata": {},
     "output_type": "display_data"
    },
    {
     "name": "stdout",
     "output_type": "stream",
     "text": [
      "maxCommonNeighborsSyndrome 风热侵袭\n"
     ]
    },
    {
     "data": {
      "application/javascript": [
       "\n",
       "        if (window._pyforest_update_imports_cell) { window._pyforest_update_imports_cell('import pandas as pd'); }\n",
       "    "
      ],
      "text/plain": [
       "<IPython.core.display.Javascript object>"
      ]
     },
     "metadata": {},
     "output_type": "display_data"
    },
    {
     "name": "stdout",
     "output_type": "stream",
     "text": [
      "maxCommonNeighborsSyndrome 肾精亏虚\n"
     ]
    },
    {
     "data": {
      "application/javascript": [
       "\n",
       "        if (window._pyforest_update_imports_cell) { window._pyforest_update_imports_cell('import pandas as pd'); }\n",
       "    "
      ],
      "text/plain": [
       "<IPython.core.display.Javascript object>"
      ]
     },
     "metadata": {},
     "output_type": "display_data"
    },
    {
     "name": "stdout",
     "output_type": "stream",
     "text": [
      "maxCommonNeighborsSyndrome 肾精亏虚\n"
     ]
    },
    {
     "data": {
      "application/javascript": [
       "\n",
       "        if (window._pyforest_update_imports_cell) { window._pyforest_update_imports_cell('import pandas as pd'); }\n",
       "    "
      ],
      "text/plain": [
       "<IPython.core.display.Javascript object>"
      ]
     },
     "metadata": {},
     "output_type": "display_data"
    },
    {
     "name": "stdout",
     "output_type": "stream",
     "text": [
      "maxCommonNeighborsSyndrome 风热侵袭\n"
     ]
    },
    {
     "data": {
      "application/javascript": [
       "\n",
       "        if (window._pyforest_update_imports_cell) { window._pyforest_update_imports_cell('import pandas as pd'); }\n",
       "    "
      ],
      "text/plain": [
       "<IPython.core.display.Javascript object>"
      ]
     },
     "metadata": {},
     "output_type": "display_data"
    },
    {
     "name": "stdout",
     "output_type": "stream",
     "text": [
      "maxCommonNeighborsSyndrome 肝火上扰\n"
     ]
    },
    {
     "data": {
      "application/javascript": [
       "\n",
       "        if (window._pyforest_update_imports_cell) { window._pyforest_update_imports_cell('import pandas as pd'); }\n",
       "    "
      ],
      "text/plain": [
       "<IPython.core.display.Javascript object>"
      ]
     },
     "metadata": {},
     "output_type": "display_data"
    },
    {
     "name": "stdout",
     "output_type": "stream",
     "text": [
      "maxCommonNeighborsSyndrome 肝火上扰\n"
     ]
    },
    {
     "data": {
      "application/javascript": [
       "\n",
       "        if (window._pyforest_update_imports_cell) { window._pyforest_update_imports_cell('import pandas as pd'); }\n",
       "    "
      ],
      "text/plain": [
       "<IPython.core.display.Javascript object>"
      ]
     },
     "metadata": {},
     "output_type": "display_data"
    },
    {
     "name": "stdout",
     "output_type": "stream",
     "text": [
      "maxCommonNeighborsSyndrome 脾胃虚弱\n"
     ]
    },
    {
     "data": {
      "application/javascript": [
       "\n",
       "        if (window._pyforest_update_imports_cell) { window._pyforest_update_imports_cell('import pandas as pd'); }\n",
       "    "
      ],
      "text/plain": [
       "<IPython.core.display.Javascript object>"
      ]
     },
     "metadata": {},
     "output_type": "display_data"
    },
    {
     "name": "stdout",
     "output_type": "stream",
     "text": [
      "maxCommonNeighborsSyndrome 脾胃虚弱\n"
     ]
    }
   ],
   "source": [
    "data_Syndrome1=[]\n",
    "data_Syndrome1_=[]\n",
    "data_Syndrome2_=[]\n",
    "result_commonNeighbors_=[]\n",
    "patients1=[]\n",
    "patients2=[]\n",
    "result_Syndrome=[]\n",
    "#训练集trainData[\"患者\"]\n",
    "label='中医辨证'\n",
    "# label='二十五音'\n",
    "#所有数据\n",
    "for patientName1 in testData[\"患者\"]:\n",
    "    data_Syndrome2=[]\n",
    "    result_commonNeighbors=[]\n",
    "    patient1_Syndrome=graph.nodes.match('Patient', name=f'{patientName1}').first()[f'{label}']\n",
    "    data_Syndrome1.append(patient1_Syndrome)\n",
    "    for patientName2 in trainData[\"患者\"]:\n",
    "        if patientName1 != patientName2:\n",
    "            cypher_=\"MATCH (p1:Patient {name:\\'\"+f'{patientName1}'+\"\\'}) MATCH (p2:Patient {name: \\'\"+f'{patientName2}'+\"\\'}) RETURN gds.alpha.linkprediction.resourceAllocation(p1, p2) AS score\"\n",
    "            data_commonNeighbors = graph.run(cypher_).to_data_frame()\n",
    "            patient2_Syndrome=graph.nodes.match('Patient', name=f'{patientName2}').first()[f'{label}']\n",
    "            data_Syndrome2.append(patient2_Syndrome)\n",
    "            data_Syndrome1_.append(patient1_Syndrome)\n",
    "            data_Syndrome2_.append(patient2_Syndrome)\n",
    "            result_commonNeighbors_.append(data_commonNeighbors[\"score\"][0])\n",
    "            result_commonNeighbors.append(data_commonNeighbors[\"score\"][0])\n",
    "            patients1.append(patientName1)\n",
    "            patients2.append(patientName2)\n",
    "    commonNeighbors_result1=getMaxcommonNeighborsSyndrome(data_Syndrome2,result_commonNeighbors)\n",
    "    maxCommonNeighborsSyndrome=max_list(commonNeighbors_result1['Patient2证型'].values.tolist())\n",
    "    print(\"maxCommonNeighborsSyndrome\",maxCommonNeighborsSyndrome)\n",
    "    result_Syndrome.append(maxCommonNeighborsSyndrome)\n"
   ]
  },
  {
   "cell_type": "code",
   "execution_count": 9,
   "id": "d80aeb2b-a777-4cfd-8727-d927a39b0651",
   "metadata": {},
   "outputs": [
    {
     "data": {
      "application/javascript": [
       "\n",
       "        if (window._pyforest_update_imports_cell) { window._pyforest_update_imports_cell('import pandas as pd'); }\n",
       "    "
      ],
      "text/plain": [
       "<IPython.core.display.Javascript object>"
      ]
     },
     "metadata": {},
     "output_type": "display_data"
    },
    {
     "name": "stdout",
     "output_type": "stream",
     "text": [
      "maxCommonNeighborsSyndrome 钛商\n"
     ]
    },
    {
     "data": {
      "application/javascript": [
       "\n",
       "        if (window._pyforest_update_imports_cell) { window._pyforest_update_imports_cell('import pandas as pd'); }\n",
       "    "
      ],
      "text/plain": [
       "<IPython.core.display.Javascript object>"
      ]
     },
     "metadata": {},
     "output_type": "display_data"
    },
    {
     "name": "stdout",
     "output_type": "stream",
     "text": [
      "maxCommonNeighborsSyndrome 质徵\n"
     ]
    },
    {
     "data": {
      "application/javascript": [
       "\n",
       "        if (window._pyforest_update_imports_cell) { window._pyforest_update_imports_cell('import pandas as pd'); }\n",
       "    "
      ],
      "text/plain": [
       "<IPython.core.display.Javascript object>"
      ]
     },
     "metadata": {},
     "output_type": "display_data"
    },
    {
     "name": "stdout",
     "output_type": "stream",
     "text": [
      "maxCommonNeighborsSyndrome 上徵\n"
     ]
    },
    {
     "data": {
      "application/javascript": [
       "\n",
       "        if (window._pyforest_update_imports_cell) { window._pyforest_update_imports_cell('import pandas as pd'); }\n",
       "    "
      ],
      "text/plain": [
       "<IPython.core.display.Javascript object>"
      ]
     },
     "metadata": {},
     "output_type": "display_data"
    },
    {
     "name": "stdout",
     "output_type": "stream",
     "text": [
      "maxCommonNeighborsSyndrome 上徵\n"
     ]
    },
    {
     "data": {
      "application/javascript": [
       "\n",
       "        if (window._pyforest_update_imports_cell) { window._pyforest_update_imports_cell('import pandas as pd'); }\n",
       "    "
      ],
      "text/plain": [
       "<IPython.core.display.Javascript object>"
      ]
     },
     "metadata": {},
     "output_type": "display_data"
    },
    {
     "name": "stdout",
     "output_type": "stream",
     "text": [
      "maxCommonNeighborsSyndrome 上徵\n"
     ]
    },
    {
     "data": {
      "application/javascript": [
       "\n",
       "        if (window._pyforest_update_imports_cell) { window._pyforest_update_imports_cell('import pandas as pd'); }\n",
       "    "
      ],
      "text/plain": [
       "<IPython.core.display.Javascript object>"
      ]
     },
     "metadata": {},
     "output_type": "display_data"
    },
    {
     "name": "stdout",
     "output_type": "stream",
     "text": [
      "maxCommonNeighborsSyndrome 上角\n"
     ]
    },
    {
     "data": {
      "application/javascript": [
       "\n",
       "        if (window._pyforest_update_imports_cell) { window._pyforest_update_imports_cell('import pandas as pd'); }\n",
       "    "
      ],
      "text/plain": [
       "<IPython.core.display.Javascript object>"
      ]
     },
     "metadata": {},
     "output_type": "display_data"
    },
    {
     "name": "stdout",
     "output_type": "stream",
     "text": [
      "maxCommonNeighborsSyndrome 众羽\n"
     ]
    },
    {
     "data": {
      "application/javascript": [
       "\n",
       "        if (window._pyforest_update_imports_cell) { window._pyforest_update_imports_cell('import pandas as pd'); }\n",
       "    "
      ],
      "text/plain": [
       "<IPython.core.display.Javascript object>"
      ]
     },
     "metadata": {},
     "output_type": "display_data"
    },
    {
     "name": "stdout",
     "output_type": "stream",
     "text": [
      "maxCommonNeighborsSyndrome 钛角\n"
     ]
    },
    {
     "data": {
      "application/javascript": [
       "\n",
       "        if (window._pyforest_update_imports_cell) { window._pyforest_update_imports_cell('import pandas as pd'); }\n",
       "    "
      ],
      "text/plain": [
       "<IPython.core.display.Javascript object>"
      ]
     },
     "metadata": {},
     "output_type": "display_data"
    },
    {
     "name": "stdout",
     "output_type": "stream",
     "text": [
      "maxCommonNeighborsSyndrome 上徵\n"
     ]
    },
    {
     "data": {
      "application/javascript": [
       "\n",
       "        if (window._pyforest_update_imports_cell) { window._pyforest_update_imports_cell('import pandas as pd'); }\n",
       "    "
      ],
      "text/plain": [
       "<IPython.core.display.Javascript object>"
      ]
     },
     "metadata": {},
     "output_type": "display_data"
    },
    {
     "name": "stdout",
     "output_type": "stream",
     "text": [
      "maxCommonNeighborsSyndrome 右商\n"
     ]
    },
    {
     "data": {
      "application/javascript": [
       "\n",
       "        if (window._pyforest_update_imports_cell) { window._pyforest_update_imports_cell('import pandas as pd'); }\n",
       "    "
      ],
      "text/plain": [
       "<IPython.core.display.Javascript object>"
      ]
     },
     "metadata": {},
     "output_type": "display_data"
    },
    {
     "name": "stdout",
     "output_type": "stream",
     "text": [
      "maxCommonNeighborsSyndrome 钛角\n"
     ]
    },
    {
     "data": {
      "application/javascript": [
       "\n",
       "        if (window._pyforest_update_imports_cell) { window._pyforest_update_imports_cell('import pandas as pd'); }\n",
       "    "
      ],
      "text/plain": [
       "<IPython.core.display.Javascript object>"
      ]
     },
     "metadata": {},
     "output_type": "display_data"
    },
    {
     "name": "stdout",
     "output_type": "stream",
     "text": [
      "maxCommonNeighborsSyndrome 上羽\n"
     ]
    },
    {
     "data": {
      "application/javascript": [
       "\n",
       "        if (window._pyforest_update_imports_cell) { window._pyforest_update_imports_cell('import pandas as pd'); }\n",
       "    "
      ],
      "text/plain": [
       "<IPython.core.display.Javascript object>"
      ]
     },
     "metadata": {},
     "output_type": "display_data"
    },
    {
     "name": "stdout",
     "output_type": "stream",
     "text": [
      "maxCommonNeighborsSyndrome 大宫\n"
     ]
    },
    {
     "data": {
      "application/javascript": [
       "\n",
       "        if (window._pyforest_update_imports_cell) { window._pyforest_update_imports_cell('import pandas as pd'); }\n",
       "    "
      ],
      "text/plain": [
       "<IPython.core.display.Javascript object>"
      ]
     },
     "metadata": {},
     "output_type": "display_data"
    },
    {
     "name": "stdout",
     "output_type": "stream",
     "text": [
      "maxCommonNeighborsSyndrome 钛角\n"
     ]
    },
    {
     "data": {
      "application/javascript": [
       "\n",
       "        if (window._pyforest_update_imports_cell) { window._pyforest_update_imports_cell('import pandas as pd'); }\n",
       "    "
      ],
      "text/plain": [
       "<IPython.core.display.Javascript object>"
      ]
     },
     "metadata": {},
     "output_type": "display_data"
    },
    {
     "name": "stdout",
     "output_type": "stream",
     "text": [
      "maxCommonNeighborsSyndrome 大宫\n"
     ]
    },
    {
     "data": {
      "application/javascript": [
       "\n",
       "        if (window._pyforest_update_imports_cell) { window._pyforest_update_imports_cell('import pandas as pd'); }\n",
       "    "
      ],
      "text/plain": [
       "<IPython.core.display.Javascript object>"
      ]
     },
     "metadata": {},
     "output_type": "display_data"
    },
    {
     "name": "stdout",
     "output_type": "stream",
     "text": [
      "maxCommonNeighborsSyndrome 上徵\n"
     ]
    },
    {
     "data": {
      "application/javascript": [
       "\n",
       "        if (window._pyforest_update_imports_cell) { window._pyforest_update_imports_cell('import pandas as pd'); }\n",
       "    "
      ],
      "text/plain": [
       "<IPython.core.display.Javascript object>"
      ]
     },
     "metadata": {},
     "output_type": "display_data"
    },
    {
     "name": "stdout",
     "output_type": "stream",
     "text": [
      "maxCommonNeighborsSyndrome 上徵\n"
     ]
    },
    {
     "data": {
      "application/javascript": [
       "\n",
       "        if (window._pyforest_update_imports_cell) { window._pyforest_update_imports_cell('import pandas as pd'); }\n",
       "    "
      ],
      "text/plain": [
       "<IPython.core.display.Javascript object>"
      ]
     },
     "metadata": {},
     "output_type": "display_data"
    },
    {
     "name": "stdout",
     "output_type": "stream",
     "text": [
      "maxCommonNeighborsSyndrome 质徵\n"
     ]
    },
    {
     "data": {
      "application/javascript": [
       "\n",
       "        if (window._pyforest_update_imports_cell) { window._pyforest_update_imports_cell('import pandas as pd'); }\n",
       "    "
      ],
      "text/plain": [
       "<IPython.core.display.Javascript object>"
      ]
     },
     "metadata": {},
     "output_type": "display_data"
    },
    {
     "name": "stdout",
     "output_type": "stream",
     "text": [
      "maxCommonNeighborsSyndrome 右徵\n"
     ]
    },
    {
     "data": {
      "application/javascript": [
       "\n",
       "        if (window._pyforest_update_imports_cell) { window._pyforest_update_imports_cell('import pandas as pd'); }\n",
       "    "
      ],
      "text/plain": [
       "<IPython.core.display.Javascript object>"
      ]
     },
     "metadata": {},
     "output_type": "display_data"
    },
    {
     "name": "stdout",
     "output_type": "stream",
     "text": [
      "maxCommonNeighborsSyndrome 上羽\n"
     ]
    },
    {
     "data": {
      "application/javascript": [
       "\n",
       "        if (window._pyforest_update_imports_cell) { window._pyforest_update_imports_cell('import pandas as pd'); }\n",
       "    "
      ],
      "text/plain": [
       "<IPython.core.display.Javascript object>"
      ]
     },
     "metadata": {},
     "output_type": "display_data"
    },
    {
     "name": "stdout",
     "output_type": "stream",
     "text": [
      "maxCommonNeighborsSyndrome 钛角\n"
     ]
    },
    {
     "data": {
      "application/javascript": [
       "\n",
       "        if (window._pyforest_update_imports_cell) { window._pyforest_update_imports_cell('import pandas as pd'); }\n",
       "    "
      ],
      "text/plain": [
       "<IPython.core.display.Javascript object>"
      ]
     },
     "metadata": {},
     "output_type": "display_data"
    },
    {
     "name": "stdout",
     "output_type": "stream",
     "text": [
      "maxCommonNeighborsSyndrome 大宫\n"
     ]
    },
    {
     "data": {
      "application/javascript": [
       "\n",
       "        if (window._pyforest_update_imports_cell) { window._pyforest_update_imports_cell('import pandas as pd'); }\n",
       "    "
      ],
      "text/plain": [
       "<IPython.core.display.Javascript object>"
      ]
     },
     "metadata": {},
     "output_type": "display_data"
    },
    {
     "name": "stdout",
     "output_type": "stream",
     "text": [
      "maxCommonNeighborsSyndrome 众羽\n"
     ]
    },
    {
     "data": {
      "application/javascript": [
       "\n",
       "        if (window._pyforest_update_imports_cell) { window._pyforest_update_imports_cell('import pandas as pd'); }\n",
       "    "
      ],
      "text/plain": [
       "<IPython.core.display.Javascript object>"
      ]
     },
     "metadata": {},
     "output_type": "display_data"
    },
    {
     "name": "stdout",
     "output_type": "stream",
     "text": [
      "maxCommonNeighborsSyndrome 大宫\n"
     ]
    },
    {
     "data": {
      "application/javascript": [
       "\n",
       "        if (window._pyforest_update_imports_cell) { window._pyforest_update_imports_cell('import pandas as pd'); }\n",
       "    "
      ],
      "text/plain": [
       "<IPython.core.display.Javascript object>"
      ]
     },
     "metadata": {},
     "output_type": "display_data"
    },
    {
     "name": "stdout",
     "output_type": "stream",
     "text": [
      "maxCommonNeighborsSyndrome 钛角\n"
     ]
    },
    {
     "data": {
      "application/javascript": [
       "\n",
       "        if (window._pyforest_update_imports_cell) { window._pyforest_update_imports_cell('import pandas as pd'); }\n",
       "    "
      ],
      "text/plain": [
       "<IPython.core.display.Javascript object>"
      ]
     },
     "metadata": {},
     "output_type": "display_data"
    },
    {
     "name": "stdout",
     "output_type": "stream",
     "text": [
      "maxCommonNeighborsSyndrome 众羽\n"
     ]
    },
    {
     "data": {
      "application/javascript": [
       "\n",
       "        if (window._pyforest_update_imports_cell) { window._pyforest_update_imports_cell('import pandas as pd'); }\n",
       "    "
      ],
      "text/plain": [
       "<IPython.core.display.Javascript object>"
      ]
     },
     "metadata": {},
     "output_type": "display_data"
    },
    {
     "name": "stdout",
     "output_type": "stream",
     "text": [
      "maxCommonNeighborsSyndrome 大羽\n"
     ]
    },
    {
     "data": {
      "application/javascript": [
       "\n",
       "        if (window._pyforest_update_imports_cell) { window._pyforest_update_imports_cell('import pandas as pd'); }\n",
       "    "
      ],
      "text/plain": [
       "<IPython.core.display.Javascript object>"
      ]
     },
     "metadata": {},
     "output_type": "display_data"
    },
    {
     "name": "stdout",
     "output_type": "stream",
     "text": [
      "maxCommonNeighborsSyndrome 钛角\n"
     ]
    },
    {
     "data": {
      "application/javascript": [
       "\n",
       "        if (window._pyforest_update_imports_cell) { window._pyforest_update_imports_cell('import pandas as pd'); }\n",
       "    "
      ],
      "text/plain": [
       "<IPython.core.display.Javascript object>"
      ]
     },
     "metadata": {},
     "output_type": "display_data"
    },
    {
     "name": "stdout",
     "output_type": "stream",
     "text": [
      "maxCommonNeighborsSyndrome 大羽\n"
     ]
    },
    {
     "data": {
      "application/javascript": [
       "\n",
       "        if (window._pyforest_update_imports_cell) { window._pyforest_update_imports_cell('import pandas as pd'); }\n",
       "    "
      ],
      "text/plain": [
       "<IPython.core.display.Javascript object>"
      ]
     },
     "metadata": {},
     "output_type": "display_data"
    },
    {
     "name": "stdout",
     "output_type": "stream",
     "text": [
      "maxCommonNeighborsSyndrome 上羽\n"
     ]
    },
    {
     "data": {
      "application/javascript": [
       "\n",
       "        if (window._pyforest_update_imports_cell) { window._pyforest_update_imports_cell('import pandas as pd'); }\n",
       "    "
      ],
      "text/plain": [
       "<IPython.core.display.Javascript object>"
      ]
     },
     "metadata": {},
     "output_type": "display_data"
    },
    {
     "name": "stdout",
     "output_type": "stream",
     "text": [
      "maxCommonNeighborsSyndrome 上角\n"
     ]
    },
    {
     "data": {
      "application/javascript": [
       "\n",
       "        if (window._pyforest_update_imports_cell) { window._pyforest_update_imports_cell('import pandas as pd'); }\n",
       "    "
      ],
      "text/plain": [
       "<IPython.core.display.Javascript object>"
      ]
     },
     "metadata": {},
     "output_type": "display_data"
    },
    {
     "name": "stdout",
     "output_type": "stream",
     "text": [
      "maxCommonNeighborsSyndrome 质徵\n"
     ]
    },
    {
     "data": {
      "application/javascript": [
       "\n",
       "        if (window._pyforest_update_imports_cell) { window._pyforest_update_imports_cell('import pandas as pd'); }\n",
       "    "
      ],
      "text/plain": [
       "<IPython.core.display.Javascript object>"
      ]
     },
     "metadata": {},
     "output_type": "display_data"
    },
    {
     "name": "stdout",
     "output_type": "stream",
     "text": [
      "maxCommonNeighborsSyndrome 钛角\n"
     ]
    },
    {
     "data": {
      "application/javascript": [
       "\n",
       "        if (window._pyforest_update_imports_cell) { window._pyforest_update_imports_cell('import pandas as pd'); }\n",
       "    "
      ],
      "text/plain": [
       "<IPython.core.display.Javascript object>"
      ]
     },
     "metadata": {},
     "output_type": "display_data"
    },
    {
     "name": "stdout",
     "output_type": "stream",
     "text": [
      "maxCommonNeighborsSyndrome 上羽\n"
     ]
    },
    {
     "data": {
      "application/javascript": [
       "\n",
       "        if (window._pyforest_update_imports_cell) { window._pyforest_update_imports_cell('import pandas as pd'); }\n",
       "    "
      ],
      "text/plain": [
       "<IPython.core.display.Javascript object>"
      ]
     },
     "metadata": {},
     "output_type": "display_data"
    },
    {
     "name": "stdout",
     "output_type": "stream",
     "text": [
      "maxCommonNeighborsSyndrome 钛角\n"
     ]
    },
    {
     "data": {
      "application/javascript": [
       "\n",
       "        if (window._pyforest_update_imports_cell) { window._pyforest_update_imports_cell('import pandas as pd'); }\n",
       "    "
      ],
      "text/plain": [
       "<IPython.core.display.Javascript object>"
      ]
     },
     "metadata": {},
     "output_type": "display_data"
    },
    {
     "name": "stdout",
     "output_type": "stream",
     "text": [
      "maxCommonNeighborsSyndrome 加宫\n"
     ]
    },
    {
     "data": {
      "application/javascript": [
       "\n",
       "        if (window._pyforest_update_imports_cell) { window._pyforest_update_imports_cell('import pandas as pd'); }\n",
       "    "
      ],
      "text/plain": [
       "<IPython.core.display.Javascript object>"
      ]
     },
     "metadata": {},
     "output_type": "display_data"
    },
    {
     "name": "stdout",
     "output_type": "stream",
     "text": [
      "maxCommonNeighborsSyndrome 众羽\n"
     ]
    },
    {
     "data": {
      "application/javascript": [
       "\n",
       "        if (window._pyforest_update_imports_cell) { window._pyforest_update_imports_cell('import pandas as pd'); }\n",
       "    "
      ],
      "text/plain": [
       "<IPython.core.display.Javascript object>"
      ]
     },
     "metadata": {},
     "output_type": "display_data"
    },
    {
     "name": "stdout",
     "output_type": "stream",
     "text": [
      "maxCommonNeighborsSyndrome 钛商\n"
     ]
    },
    {
     "data": {
      "application/javascript": [
       "\n",
       "        if (window._pyforest_update_imports_cell) { window._pyforest_update_imports_cell('import pandas as pd'); }\n",
       "    "
      ],
      "text/plain": [
       "<IPython.core.display.Javascript object>"
      ]
     },
     "metadata": {},
     "output_type": "display_data"
    },
    {
     "name": "stdout",
     "output_type": "stream",
     "text": [
      "maxCommonNeighborsSyndrome 质徵\n"
     ]
    },
    {
     "data": {
      "application/javascript": [
       "\n",
       "        if (window._pyforest_update_imports_cell) { window._pyforest_update_imports_cell('import pandas as pd'); }\n",
       "    "
      ],
      "text/plain": [
       "<IPython.core.display.Javascript object>"
      ]
     },
     "metadata": {},
     "output_type": "display_data"
    },
    {
     "name": "stdout",
     "output_type": "stream",
     "text": [
      "maxCommonNeighborsSyndrome 大角\n"
     ]
    },
    {
     "data": {
      "application/javascript": [
       "\n",
       "        if (window._pyforest_update_imports_cell) { window._pyforest_update_imports_cell('import pandas as pd'); }\n",
       "    "
      ],
      "text/plain": [
       "<IPython.core.display.Javascript object>"
      ]
     },
     "metadata": {},
     "output_type": "display_data"
    },
    {
     "name": "stdout",
     "output_type": "stream",
     "text": [
      "maxCommonNeighborsSyndrome 大羽\n"
     ]
    },
    {
     "data": {
      "application/javascript": [
       "\n",
       "        if (window._pyforest_update_imports_cell) { window._pyforest_update_imports_cell('import pandas as pd'); }\n",
       "    "
      ],
      "text/plain": [
       "<IPython.core.display.Javascript object>"
      ]
     },
     "metadata": {},
     "output_type": "display_data"
    },
    {
     "name": "stdout",
     "output_type": "stream",
     "text": [
      "maxCommonNeighborsSyndrome 大宫\n"
     ]
    },
    {
     "data": {
      "application/javascript": [
       "\n",
       "        if (window._pyforest_update_imports_cell) { window._pyforest_update_imports_cell('import pandas as pd'); }\n",
       "    "
      ],
      "text/plain": [
       "<IPython.core.display.Javascript object>"
      ]
     },
     "metadata": {},
     "output_type": "display_data"
    },
    {
     "name": "stdout",
     "output_type": "stream",
     "text": [
      "maxCommonNeighborsSyndrome 大宫\n"
     ]
    },
    {
     "data": {
      "application/javascript": [
       "\n",
       "        if (window._pyforest_update_imports_cell) { window._pyforest_update_imports_cell('import pandas as pd'); }\n",
       "    "
      ],
      "text/plain": [
       "<IPython.core.display.Javascript object>"
      ]
     },
     "metadata": {},
     "output_type": "display_data"
    },
    {
     "name": "stdout",
     "output_type": "stream",
     "text": [
      "maxCommonNeighborsSyndrome 判角\n"
     ]
    },
    {
     "data": {
      "application/javascript": [
       "\n",
       "        if (window._pyforest_update_imports_cell) { window._pyforest_update_imports_cell('import pandas as pd'); }\n",
       "    "
      ],
      "text/plain": [
       "<IPython.core.display.Javascript object>"
      ]
     },
     "metadata": {},
     "output_type": "display_data"
    },
    {
     "name": "stdout",
     "output_type": "stream",
     "text": [
      "maxCommonNeighborsSyndrome 大宫\n"
     ]
    },
    {
     "data": {
      "application/javascript": [
       "\n",
       "        if (window._pyforest_update_imports_cell) { window._pyforest_update_imports_cell('import pandas as pd'); }\n",
       "    "
      ],
      "text/plain": [
       "<IPython.core.display.Javascript object>"
      ]
     },
     "metadata": {},
     "output_type": "display_data"
    },
    {
     "name": "stdout",
     "output_type": "stream",
     "text": [
      "maxCommonNeighborsSyndrome 上角\n"
     ]
    },
    {
     "data": {
      "application/javascript": [
       "\n",
       "        if (window._pyforest_update_imports_cell) { window._pyforest_update_imports_cell('import pandas as pd'); }\n",
       "    "
      ],
      "text/plain": [
       "<IPython.core.display.Javascript object>"
      ]
     },
     "metadata": {},
     "output_type": "display_data"
    },
    {
     "name": "stdout",
     "output_type": "stream",
     "text": [
      "maxCommonNeighborsSyndrome 大宫\n"
     ]
    },
    {
     "data": {
      "application/javascript": [
       "\n",
       "        if (window._pyforest_update_imports_cell) { window._pyforest_update_imports_cell('import pandas as pd'); }\n",
       "    "
      ],
      "text/plain": [
       "<IPython.core.display.Javascript object>"
      ]
     },
     "metadata": {},
     "output_type": "display_data"
    },
    {
     "name": "stdout",
     "output_type": "stream",
     "text": [
      "maxCommonNeighborsSyndrome 上羽\n"
     ]
    },
    {
     "data": {
      "application/javascript": [
       "\n",
       "        if (window._pyforest_update_imports_cell) { window._pyforest_update_imports_cell('import pandas as pd'); }\n",
       "    "
      ],
      "text/plain": [
       "<IPython.core.display.Javascript object>"
      ]
     },
     "metadata": {},
     "output_type": "display_data"
    },
    {
     "name": "stdout",
     "output_type": "stream",
     "text": [
      "maxCommonNeighborsSyndrome 大宫\n"
     ]
    },
    {
     "data": {
      "application/javascript": [
       "\n",
       "        if (window._pyforest_update_imports_cell) { window._pyforest_update_imports_cell('import pandas as pd'); }\n",
       "    "
      ],
      "text/plain": [
       "<IPython.core.display.Javascript object>"
      ]
     },
     "metadata": {},
     "output_type": "display_data"
    },
    {
     "name": "stdout",
     "output_type": "stream",
     "text": [
      "maxCommonNeighborsSyndrome 大宫\n"
     ]
    },
    {
     "data": {
      "application/javascript": [
       "\n",
       "        if (window._pyforest_update_imports_cell) { window._pyforest_update_imports_cell('import pandas as pd'); }\n",
       "    "
      ],
      "text/plain": [
       "<IPython.core.display.Javascript object>"
      ]
     },
     "metadata": {},
     "output_type": "display_data"
    },
    {
     "name": "stdout",
     "output_type": "stream",
     "text": [
      "maxCommonNeighborsSyndrome 钛角\n"
     ]
    },
    {
     "data": {
      "application/javascript": [
       "\n",
       "        if (window._pyforest_update_imports_cell) { window._pyforest_update_imports_cell('import pandas as pd'); }\n",
       "    "
      ],
      "text/plain": [
       "<IPython.core.display.Javascript object>"
      ]
     },
     "metadata": {},
     "output_type": "display_data"
    },
    {
     "name": "stdout",
     "output_type": "stream",
     "text": [
      "maxCommonNeighborsSyndrome 众羽\n"
     ]
    },
    {
     "data": {
      "application/javascript": [
       "\n",
       "        if (window._pyforest_update_imports_cell) { window._pyforest_update_imports_cell('import pandas as pd'); }\n",
       "    "
      ],
      "text/plain": [
       "<IPython.core.display.Javascript object>"
      ]
     },
     "metadata": {},
     "output_type": "display_data"
    },
    {
     "name": "stdout",
     "output_type": "stream",
     "text": [
      "maxCommonNeighborsSyndrome 钛角\n"
     ]
    },
    {
     "data": {
      "application/javascript": [
       "\n",
       "        if (window._pyforest_update_imports_cell) { window._pyforest_update_imports_cell('import pandas as pd'); }\n",
       "    "
      ],
      "text/plain": [
       "<IPython.core.display.Javascript object>"
      ]
     },
     "metadata": {},
     "output_type": "display_data"
    },
    {
     "name": "stdout",
     "output_type": "stream",
     "text": [
      "maxCommonNeighborsSyndrome 大羽\n"
     ]
    },
    {
     "data": {
      "application/javascript": [
       "\n",
       "        if (window._pyforest_update_imports_cell) { window._pyforest_update_imports_cell('import pandas as pd'); }\n",
       "    "
      ],
      "text/plain": [
       "<IPython.core.display.Javascript object>"
      ]
     },
     "metadata": {},
     "output_type": "display_data"
    },
    {
     "name": "stdout",
     "output_type": "stream",
     "text": [
      "maxCommonNeighborsSyndrome 众羽\n"
     ]
    },
    {
     "data": {
      "application/javascript": [
       "\n",
       "        if (window._pyforest_update_imports_cell) { window._pyforest_update_imports_cell('import pandas as pd'); }\n",
       "    "
      ],
      "text/plain": [
       "<IPython.core.display.Javascript object>"
      ]
     },
     "metadata": {},
     "output_type": "display_data"
    },
    {
     "name": "stdout",
     "output_type": "stream",
     "text": [
      "maxCommonNeighborsSyndrome 大羽\n"
     ]
    },
    {
     "data": {
      "application/javascript": [
       "\n",
       "        if (window._pyforest_update_imports_cell) { window._pyforest_update_imports_cell('import pandas as pd'); }\n",
       "    "
      ],
      "text/plain": [
       "<IPython.core.display.Javascript object>"
      ]
     },
     "metadata": {},
     "output_type": "display_data"
    },
    {
     "name": "stdout",
     "output_type": "stream",
     "text": [
      "maxCommonNeighborsSyndrome 质徵\n"
     ]
    },
    {
     "data": {
      "application/javascript": [
       "\n",
       "        if (window._pyforest_update_imports_cell) { window._pyforest_update_imports_cell('import pandas as pd'); }\n",
       "    "
      ],
      "text/plain": [
       "<IPython.core.display.Javascript object>"
      ]
     },
     "metadata": {},
     "output_type": "display_data"
    },
    {
     "name": "stdout",
     "output_type": "stream",
     "text": [
      "maxCommonNeighborsSyndrome 判角\n"
     ]
    },
    {
     "data": {
      "application/javascript": [
       "\n",
       "        if (window._pyforest_update_imports_cell) { window._pyforest_update_imports_cell('import pandas as pd'); }\n",
       "    "
      ],
      "text/plain": [
       "<IPython.core.display.Javascript object>"
      ]
     },
     "metadata": {},
     "output_type": "display_data"
    },
    {
     "name": "stdout",
     "output_type": "stream",
     "text": [
      "maxCommonNeighborsSyndrome 众羽\n"
     ]
    },
    {
     "data": {
      "application/javascript": [
       "\n",
       "        if (window._pyforest_update_imports_cell) { window._pyforest_update_imports_cell('import pandas as pd'); }\n",
       "    "
      ],
      "text/plain": [
       "<IPython.core.display.Javascript object>"
      ]
     },
     "metadata": {},
     "output_type": "display_data"
    },
    {
     "name": "stdout",
     "output_type": "stream",
     "text": [
      "maxCommonNeighborsSyndrome 大宫\n"
     ]
    },
    {
     "data": {
      "application/javascript": [
       "\n",
       "        if (window._pyforest_update_imports_cell) { window._pyforest_update_imports_cell('import pandas as pd'); }\n",
       "    "
      ],
      "text/plain": [
       "<IPython.core.display.Javascript object>"
      ]
     },
     "metadata": {},
     "output_type": "display_data"
    },
    {
     "name": "stdout",
     "output_type": "stream",
     "text": [
      "maxCommonNeighborsSyndrome 钛角\n"
     ]
    },
    {
     "data": {
      "application/javascript": [
       "\n",
       "        if (window._pyforest_update_imports_cell) { window._pyforest_update_imports_cell('import pandas as pd'); }\n",
       "    "
      ],
      "text/plain": [
       "<IPython.core.display.Javascript object>"
      ]
     },
     "metadata": {},
     "output_type": "display_data"
    },
    {
     "name": "stdout",
     "output_type": "stream",
     "text": [
      "maxCommonNeighborsSyndrome 大羽\n"
     ]
    },
    {
     "data": {
      "application/javascript": [
       "\n",
       "        if (window._pyforest_update_imports_cell) { window._pyforest_update_imports_cell('import pandas as pd'); }\n",
       "    "
      ],
      "text/plain": [
       "<IPython.core.display.Javascript object>"
      ]
     },
     "metadata": {},
     "output_type": "display_data"
    },
    {
     "name": "stdout",
     "output_type": "stream",
     "text": [
      "maxCommonNeighborsSyndrome 大宫\n"
     ]
    },
    {
     "data": {
      "application/javascript": [
       "\n",
       "        if (window._pyforest_update_imports_cell) { window._pyforest_update_imports_cell('import pandas as pd'); }\n",
       "    "
      ],
      "text/plain": [
       "<IPython.core.display.Javascript object>"
      ]
     },
     "metadata": {},
     "output_type": "display_data"
    },
    {
     "name": "stdout",
     "output_type": "stream",
     "text": [
      "maxCommonNeighborsSyndrome 上徵\n"
     ]
    },
    {
     "data": {
      "application/javascript": [
       "\n",
       "        if (window._pyforest_update_imports_cell) { window._pyforest_update_imports_cell('import pandas as pd'); }\n",
       "    "
      ],
      "text/plain": [
       "<IPython.core.display.Javascript object>"
      ]
     },
     "metadata": {},
     "output_type": "display_data"
    },
    {
     "name": "stdout",
     "output_type": "stream",
     "text": [
      "maxCommonNeighborsSyndrome 上角\n"
     ]
    },
    {
     "data": {
      "application/javascript": [
       "\n",
       "        if (window._pyforest_update_imports_cell) { window._pyforest_update_imports_cell('import pandas as pd'); }\n",
       "    "
      ],
      "text/plain": [
       "<IPython.core.display.Javascript object>"
      ]
     },
     "metadata": {},
     "output_type": "display_data"
    },
    {
     "name": "stdout",
     "output_type": "stream",
     "text": [
      "maxCommonNeighborsSyndrome 大角\n"
     ]
    },
    {
     "data": {
      "application/javascript": [
       "\n",
       "        if (window._pyforest_update_imports_cell) { window._pyforest_update_imports_cell('import pandas as pd'); }\n",
       "    "
      ],
      "text/plain": [
       "<IPython.core.display.Javascript object>"
      ]
     },
     "metadata": {},
     "output_type": "display_data"
    },
    {
     "name": "stdout",
     "output_type": "stream",
     "text": [
      "maxCommonNeighborsSyndrome 上徵\n"
     ]
    },
    {
     "data": {
      "application/javascript": [
       "\n",
       "        if (window._pyforest_update_imports_cell) { window._pyforest_update_imports_cell('import pandas as pd'); }\n",
       "    "
      ],
      "text/plain": [
       "<IPython.core.display.Javascript object>"
      ]
     },
     "metadata": {},
     "output_type": "display_data"
    },
    {
     "name": "stdout",
     "output_type": "stream",
     "text": [
      "maxCommonNeighborsSyndrome 上徵\n"
     ]
    },
    {
     "data": {
      "application/javascript": [
       "\n",
       "        if (window._pyforest_update_imports_cell) { window._pyforest_update_imports_cell('import pandas as pd'); }\n",
       "    "
      ],
      "text/plain": [
       "<IPython.core.display.Javascript object>"
      ]
     },
     "metadata": {},
     "output_type": "display_data"
    },
    {
     "name": "stdout",
     "output_type": "stream",
     "text": [
      "maxCommonNeighborsSyndrome 上徵\n"
     ]
    },
    {
     "data": {
      "application/javascript": [
       "\n",
       "        if (window._pyforest_update_imports_cell) { window._pyforest_update_imports_cell('import pandas as pd'); }\n",
       "    "
      ],
      "text/plain": [
       "<IPython.core.display.Javascript object>"
      ]
     },
     "metadata": {},
     "output_type": "display_data"
    },
    {
     "name": "stdout",
     "output_type": "stream",
     "text": [
      "maxCommonNeighborsSyndrome 钛角\n"
     ]
    },
    {
     "data": {
      "application/javascript": [
       "\n",
       "        if (window._pyforest_update_imports_cell) { window._pyforest_update_imports_cell('import pandas as pd'); }\n",
       "    "
      ],
      "text/plain": [
       "<IPython.core.display.Javascript object>"
      ]
     },
     "metadata": {},
     "output_type": "display_data"
    },
    {
     "name": "stdout",
     "output_type": "stream",
     "text": [
      "maxCommonNeighborsSyndrome 钛角\n"
     ]
    },
    {
     "data": {
      "application/javascript": [
       "\n",
       "        if (window._pyforest_update_imports_cell) { window._pyforest_update_imports_cell('import pandas as pd'); }\n",
       "    "
      ],
      "text/plain": [
       "<IPython.core.display.Javascript object>"
      ]
     },
     "metadata": {},
     "output_type": "display_data"
    },
    {
     "name": "stdout",
     "output_type": "stream",
     "text": [
      "maxCommonNeighborsSyndrome 上徵\n"
     ]
    },
    {
     "data": {
      "application/javascript": [
       "\n",
       "        if (window._pyforest_update_imports_cell) { window._pyforest_update_imports_cell('import pandas as pd'); }\n",
       "    "
      ],
      "text/plain": [
       "<IPython.core.display.Javascript object>"
      ]
     },
     "metadata": {},
     "output_type": "display_data"
    },
    {
     "name": "stdout",
     "output_type": "stream",
     "text": [
      "maxCommonNeighborsSyndrome 上羽\n"
     ]
    },
    {
     "data": {
      "application/javascript": [
       "\n",
       "        if (window._pyforest_update_imports_cell) { window._pyforest_update_imports_cell('import pandas as pd'); }\n",
       "    "
      ],
      "text/plain": [
       "<IPython.core.display.Javascript object>"
      ]
     },
     "metadata": {},
     "output_type": "display_data"
    },
    {
     "name": "stdout",
     "output_type": "stream",
     "text": [
      "maxCommonNeighborsSyndrome 钛角\n"
     ]
    },
    {
     "data": {
      "application/javascript": [
       "\n",
       "        if (window._pyforest_update_imports_cell) { window._pyforest_update_imports_cell('import pandas as pd'); }\n",
       "    "
      ],
      "text/plain": [
       "<IPython.core.display.Javascript object>"
      ]
     },
     "metadata": {},
     "output_type": "display_data"
    },
    {
     "name": "stdout",
     "output_type": "stream",
     "text": [
      "maxCommonNeighborsSyndrome 大羽\n"
     ]
    },
    {
     "data": {
      "application/javascript": [
       "\n",
       "        if (window._pyforest_update_imports_cell) { window._pyforest_update_imports_cell('import pandas as pd'); }\n",
       "    "
      ],
      "text/plain": [
       "<IPython.core.display.Javascript object>"
      ]
     },
     "metadata": {},
     "output_type": "display_data"
    },
    {
     "name": "stdout",
     "output_type": "stream",
     "text": [
      "maxCommonNeighborsSyndrome 钛角\n"
     ]
    },
    {
     "data": {
      "application/javascript": [
       "\n",
       "        if (window._pyforest_update_imports_cell) { window._pyforest_update_imports_cell('import pandas as pd'); }\n",
       "    "
      ],
      "text/plain": [
       "<IPython.core.display.Javascript object>"
      ]
     },
     "metadata": {},
     "output_type": "display_data"
    },
    {
     "name": "stdout",
     "output_type": "stream",
     "text": [
      "maxCommonNeighborsSyndrome 少羽\n"
     ]
    },
    {
     "data": {
      "application/javascript": [
       "\n",
       "        if (window._pyforest_update_imports_cell) { window._pyforest_update_imports_cell('import pandas as pd'); }\n",
       "    "
      ],
      "text/plain": [
       "<IPython.core.display.Javascript object>"
      ]
     },
     "metadata": {},
     "output_type": "display_data"
    },
    {
     "name": "stdout",
     "output_type": "stream",
     "text": [
      "maxCommonNeighborsSyndrome 钛角\n"
     ]
    },
    {
     "data": {
      "application/javascript": [
       "\n",
       "        if (window._pyforest_update_imports_cell) { window._pyforest_update_imports_cell('import pandas as pd'); }\n",
       "    "
      ],
      "text/plain": [
       "<IPython.core.display.Javascript object>"
      ]
     },
     "metadata": {},
     "output_type": "display_data"
    },
    {
     "name": "stdout",
     "output_type": "stream",
     "text": [
      "maxCommonNeighborsSyndrome 上徵\n"
     ]
    },
    {
     "data": {
      "application/javascript": [
       "\n",
       "        if (window._pyforest_update_imports_cell) { window._pyforest_update_imports_cell('import pandas as pd'); }\n",
       "    "
      ],
      "text/plain": [
       "<IPython.core.display.Javascript object>"
      ]
     },
     "metadata": {},
     "output_type": "display_data"
    },
    {
     "name": "stdout",
     "output_type": "stream",
     "text": [
      "maxCommonNeighborsSyndrome 钛角\n"
     ]
    },
    {
     "data": {
      "application/javascript": [
       "\n",
       "        if (window._pyforest_update_imports_cell) { window._pyforest_update_imports_cell('import pandas as pd'); }\n",
       "    "
      ],
      "text/plain": [
       "<IPython.core.display.Javascript object>"
      ]
     },
     "metadata": {},
     "output_type": "display_data"
    },
    {
     "name": "stdout",
     "output_type": "stream",
     "text": [
      "maxCommonNeighborsSyndrome 右徵\n"
     ]
    },
    {
     "data": {
      "application/javascript": [
       "\n",
       "        if (window._pyforest_update_imports_cell) { window._pyforest_update_imports_cell('import pandas as pd'); }\n",
       "    "
      ],
      "text/plain": [
       "<IPython.core.display.Javascript object>"
      ]
     },
     "metadata": {},
     "output_type": "display_data"
    },
    {
     "name": "stdout",
     "output_type": "stream",
     "text": [
      "maxCommonNeighborsSyndrome 大宫\n"
     ]
    },
    {
     "data": {
      "application/javascript": [
       "\n",
       "        if (window._pyforest_update_imports_cell) { window._pyforest_update_imports_cell('import pandas as pd'); }\n",
       "    "
      ],
      "text/plain": [
       "<IPython.core.display.Javascript object>"
      ]
     },
     "metadata": {},
     "output_type": "display_data"
    },
    {
     "name": "stdout",
     "output_type": "stream",
     "text": [
      "maxCommonNeighborsSyndrome 上徵\n"
     ]
    },
    {
     "data": {
      "application/javascript": [
       "\n",
       "        if (window._pyforest_update_imports_cell) { window._pyforest_update_imports_cell('import pandas as pd'); }\n",
       "    "
      ],
      "text/plain": [
       "<IPython.core.display.Javascript object>"
      ]
     },
     "metadata": {},
     "output_type": "display_data"
    },
    {
     "name": "stdout",
     "output_type": "stream",
     "text": [
      "maxCommonNeighborsSyndrome 上徵\n"
     ]
    },
    {
     "data": {
      "application/javascript": [
       "\n",
       "        if (window._pyforest_update_imports_cell) { window._pyforest_update_imports_cell('import pandas as pd'); }\n",
       "    "
      ],
      "text/plain": [
       "<IPython.core.display.Javascript object>"
      ]
     },
     "metadata": {},
     "output_type": "display_data"
    },
    {
     "name": "stdout",
     "output_type": "stream",
     "text": [
      "maxCommonNeighborsSyndrome 大宫\n"
     ]
    },
    {
     "data": {
      "application/javascript": [
       "\n",
       "        if (window._pyforest_update_imports_cell) { window._pyforest_update_imports_cell('import pandas as pd'); }\n",
       "    "
      ],
      "text/plain": [
       "<IPython.core.display.Javascript object>"
      ]
     },
     "metadata": {},
     "output_type": "display_data"
    },
    {
     "name": "stdout",
     "output_type": "stream",
     "text": [
      "maxCommonNeighborsSyndrome 上徵\n"
     ]
    },
    {
     "data": {
      "application/javascript": [
       "\n",
       "        if (window._pyforest_update_imports_cell) { window._pyforest_update_imports_cell('import pandas as pd'); }\n",
       "    "
      ],
      "text/plain": [
       "<IPython.core.display.Javascript object>"
      ]
     },
     "metadata": {},
     "output_type": "display_data"
    },
    {
     "name": "stdout",
     "output_type": "stream",
     "text": [
      "maxCommonNeighborsSyndrome 众羽\n"
     ]
    },
    {
     "data": {
      "application/javascript": [
       "\n",
       "        if (window._pyforest_update_imports_cell) { window._pyforest_update_imports_cell('import pandas as pd'); }\n",
       "    "
      ],
      "text/plain": [
       "<IPython.core.display.Javascript object>"
      ]
     },
     "metadata": {},
     "output_type": "display_data"
    },
    {
     "name": "stdout",
     "output_type": "stream",
     "text": [
      "maxCommonNeighborsSyndrome 判角\n"
     ]
    },
    {
     "data": {
      "application/javascript": [
       "\n",
       "        if (window._pyforest_update_imports_cell) { window._pyforest_update_imports_cell('import pandas as pd'); }\n",
       "    "
      ],
      "text/plain": [
       "<IPython.core.display.Javascript object>"
      ]
     },
     "metadata": {},
     "output_type": "display_data"
    },
    {
     "name": "stdout",
     "output_type": "stream",
     "text": [
      "maxCommonNeighborsSyndrome 众羽\n"
     ]
    },
    {
     "data": {
      "application/javascript": [
       "\n",
       "        if (window._pyforest_update_imports_cell) { window._pyforest_update_imports_cell('import pandas as pd'); }\n",
       "    "
      ],
      "text/plain": [
       "<IPython.core.display.Javascript object>"
      ]
     },
     "metadata": {},
     "output_type": "display_data"
    },
    {
     "name": "stdout",
     "output_type": "stream",
     "text": [
      "maxCommonNeighborsSyndrome 判角\n"
     ]
    },
    {
     "data": {
      "application/javascript": [
       "\n",
       "        if (window._pyforest_update_imports_cell) { window._pyforest_update_imports_cell('import pandas as pd'); }\n",
       "    "
      ],
      "text/plain": [
       "<IPython.core.display.Javascript object>"
      ]
     },
     "metadata": {},
     "output_type": "display_data"
    },
    {
     "name": "stdout",
     "output_type": "stream",
     "text": [
      "maxCommonNeighborsSyndrome 判角\n"
     ]
    },
    {
     "data": {
      "application/javascript": [
       "\n",
       "        if (window._pyforest_update_imports_cell) { window._pyforest_update_imports_cell('import pandas as pd'); }\n",
       "    "
      ],
      "text/plain": [
       "<IPython.core.display.Javascript object>"
      ]
     },
     "metadata": {},
     "output_type": "display_data"
    },
    {
     "name": "stdout",
     "output_type": "stream",
     "text": [
      "maxCommonNeighborsSyndrome 上角\n"
     ]
    },
    {
     "data": {
      "application/javascript": [
       "\n",
       "        if (window._pyforest_update_imports_cell) { window._pyforest_update_imports_cell('import pandas as pd'); }\n",
       "    "
      ],
      "text/plain": [
       "<IPython.core.display.Javascript object>"
      ]
     },
     "metadata": {},
     "output_type": "display_data"
    },
    {
     "name": "stdout",
     "output_type": "stream",
     "text": [
      "maxCommonNeighborsSyndrome 大宫\n"
     ]
    },
    {
     "data": {
      "application/javascript": [
       "\n",
       "        if (window._pyforest_update_imports_cell) { window._pyforest_update_imports_cell('import pandas as pd'); }\n",
       "    "
      ],
      "text/plain": [
       "<IPython.core.display.Javascript object>"
      ]
     },
     "metadata": {},
     "output_type": "display_data"
    },
    {
     "name": "stdout",
     "output_type": "stream",
     "text": [
      "maxCommonNeighborsSyndrome 大角\n"
     ]
    },
    {
     "data": {
      "application/javascript": [
       "\n",
       "        if (window._pyforest_update_imports_cell) { window._pyforest_update_imports_cell('import pandas as pd'); }\n",
       "    "
      ],
      "text/plain": [
       "<IPython.core.display.Javascript object>"
      ]
     },
     "metadata": {},
     "output_type": "display_data"
    },
    {
     "name": "stdout",
     "output_type": "stream",
     "text": [
      "maxCommonNeighborsSyndrome 少羽\n"
     ]
    },
    {
     "data": {
      "application/javascript": [
       "\n",
       "        if (window._pyforest_update_imports_cell) { window._pyforest_update_imports_cell('import pandas as pd'); }\n",
       "    "
      ],
      "text/plain": [
       "<IPython.core.display.Javascript object>"
      ]
     },
     "metadata": {},
     "output_type": "display_data"
    },
    {
     "name": "stdout",
     "output_type": "stream",
     "text": [
      "maxCommonNeighborsSyndrome 大羽\n"
     ]
    },
    {
     "data": {
      "application/javascript": [
       "\n",
       "        if (window._pyforest_update_imports_cell) { window._pyforest_update_imports_cell('import pandas as pd'); }\n",
       "    "
      ],
      "text/plain": [
       "<IPython.core.display.Javascript object>"
      ]
     },
     "metadata": {},
     "output_type": "display_data"
    },
    {
     "name": "stdout",
     "output_type": "stream",
     "text": [
      "maxCommonNeighborsSyndrome 众羽\n"
     ]
    },
    {
     "data": {
      "application/javascript": [
       "\n",
       "        if (window._pyforest_update_imports_cell) { window._pyforest_update_imports_cell('import pandas as pd'); }\n",
       "    "
      ],
      "text/plain": [
       "<IPython.core.display.Javascript object>"
      ]
     },
     "metadata": {},
     "output_type": "display_data"
    },
    {
     "name": "stdout",
     "output_type": "stream",
     "text": [
      "maxCommonNeighborsSyndrome 大角\n"
     ]
    },
    {
     "data": {
      "application/javascript": [
       "\n",
       "        if (window._pyforest_update_imports_cell) { window._pyforest_update_imports_cell('import pandas as pd'); }\n",
       "    "
      ],
      "text/plain": [
       "<IPython.core.display.Javascript object>"
      ]
     },
     "metadata": {},
     "output_type": "display_data"
    },
    {
     "name": "stdout",
     "output_type": "stream",
     "text": [
      "maxCommonNeighborsSyndrome 大羽\n"
     ]
    },
    {
     "data": {
      "application/javascript": [
       "\n",
       "        if (window._pyforest_update_imports_cell) { window._pyforest_update_imports_cell('import pandas as pd'); }\n",
       "    "
      ],
      "text/plain": [
       "<IPython.core.display.Javascript object>"
      ]
     },
     "metadata": {},
     "output_type": "display_data"
    },
    {
     "name": "stdout",
     "output_type": "stream",
     "text": [
      "maxCommonNeighborsSyndrome 质徵\n"
     ]
    },
    {
     "data": {
      "application/javascript": [
       "\n",
       "        if (window._pyforest_update_imports_cell) { window._pyforest_update_imports_cell('import pandas as pd'); }\n",
       "    "
      ],
      "text/plain": [
       "<IPython.core.display.Javascript object>"
      ]
     },
     "metadata": {},
     "output_type": "display_data"
    },
    {
     "name": "stdout",
     "output_type": "stream",
     "text": [
      "maxCommonNeighborsSyndrome 上角\n"
     ]
    },
    {
     "data": {
      "application/javascript": [
       "\n",
       "        if (window._pyforest_update_imports_cell) { window._pyforest_update_imports_cell('import pandas as pd'); }\n",
       "    "
      ],
      "text/plain": [
       "<IPython.core.display.Javascript object>"
      ]
     },
     "metadata": {},
     "output_type": "display_data"
    },
    {
     "name": "stdout",
     "output_type": "stream",
     "text": [
      "maxCommonNeighborsSyndrome 钛角\n"
     ]
    },
    {
     "data": {
      "application/javascript": [
       "\n",
       "        if (window._pyforest_update_imports_cell) { window._pyforest_update_imports_cell('import pandas as pd'); }\n",
       "    "
      ],
      "text/plain": [
       "<IPython.core.display.Javascript object>"
      ]
     },
     "metadata": {},
     "output_type": "display_data"
    },
    {
     "name": "stdout",
     "output_type": "stream",
     "text": [
      "maxCommonNeighborsSyndrome 钛角\n"
     ]
    },
    {
     "data": {
      "application/javascript": [
       "\n",
       "        if (window._pyforest_update_imports_cell) { window._pyforest_update_imports_cell('import pandas as pd'); }\n",
       "    "
      ],
      "text/plain": [
       "<IPython.core.display.Javascript object>"
      ]
     },
     "metadata": {},
     "output_type": "display_data"
    },
    {
     "name": "stdout",
     "output_type": "stream",
     "text": [
      "maxCommonNeighborsSyndrome 大宫\n"
     ]
    },
    {
     "data": {
      "application/javascript": [
       "\n",
       "        if (window._pyforest_update_imports_cell) { window._pyforest_update_imports_cell('import pandas as pd'); }\n",
       "    "
      ],
      "text/plain": [
       "<IPython.core.display.Javascript object>"
      ]
     },
     "metadata": {},
     "output_type": "display_data"
    },
    {
     "name": "stdout",
     "output_type": "stream",
     "text": [
      "maxCommonNeighborsSyndrome 判角\n"
     ]
    },
    {
     "data": {
      "application/javascript": [
       "\n",
       "        if (window._pyforest_update_imports_cell) { window._pyforest_update_imports_cell('import pandas as pd'); }\n",
       "    "
      ],
      "text/plain": [
       "<IPython.core.display.Javascript object>"
      ]
     },
     "metadata": {},
     "output_type": "display_data"
    },
    {
     "name": "stdout",
     "output_type": "stream",
     "text": [
      "maxCommonNeighborsSyndrome 众羽\n"
     ]
    },
    {
     "data": {
      "application/javascript": [
       "\n",
       "        if (window._pyforest_update_imports_cell) { window._pyforest_update_imports_cell('import pandas as pd'); }\n",
       "    "
      ],
      "text/plain": [
       "<IPython.core.display.Javascript object>"
      ]
     },
     "metadata": {},
     "output_type": "display_data"
    },
    {
     "name": "stdout",
     "output_type": "stream",
     "text": [
      "maxCommonNeighborsSyndrome 钛角\n"
     ]
    },
    {
     "data": {
      "application/javascript": [
       "\n",
       "        if (window._pyforest_update_imports_cell) { window._pyforest_update_imports_cell('import pandas as pd'); }\n",
       "    "
      ],
      "text/plain": [
       "<IPython.core.display.Javascript object>"
      ]
     },
     "metadata": {},
     "output_type": "display_data"
    },
    {
     "name": "stdout",
     "output_type": "stream",
     "text": [
      "maxCommonNeighborsSyndrome 大宫\n"
     ]
    },
    {
     "data": {
      "application/javascript": [
       "\n",
       "        if (window._pyforest_update_imports_cell) { window._pyforest_update_imports_cell('import pandas as pd'); }\n",
       "    "
      ],
      "text/plain": [
       "<IPython.core.display.Javascript object>"
      ]
     },
     "metadata": {},
     "output_type": "display_data"
    },
    {
     "name": "stdout",
     "output_type": "stream",
     "text": [
      "maxCommonNeighborsSyndrome 上徵\n"
     ]
    },
    {
     "data": {
      "application/javascript": [
       "\n",
       "        if (window._pyforest_update_imports_cell) { window._pyforest_update_imports_cell('import pandas as pd'); }\n",
       "    "
      ],
      "text/plain": [
       "<IPython.core.display.Javascript object>"
      ]
     },
     "metadata": {},
     "output_type": "display_data"
    },
    {
     "name": "stdout",
     "output_type": "stream",
     "text": [
      "maxCommonNeighborsSyndrome 上角\n"
     ]
    },
    {
     "data": {
      "application/javascript": [
       "\n",
       "        if (window._pyforest_update_imports_cell) { window._pyforest_update_imports_cell('import pandas as pd'); }\n",
       "    "
      ],
      "text/plain": [
       "<IPython.core.display.Javascript object>"
      ]
     },
     "metadata": {},
     "output_type": "display_data"
    },
    {
     "name": "stdout",
     "output_type": "stream",
     "text": [
      "maxCommonNeighborsSyndrome 钛角\n"
     ]
    },
    {
     "data": {
      "application/javascript": [
       "\n",
       "        if (window._pyforest_update_imports_cell) { window._pyforest_update_imports_cell('import pandas as pd'); }\n",
       "    "
      ],
      "text/plain": [
       "<IPython.core.display.Javascript object>"
      ]
     },
     "metadata": {},
     "output_type": "display_data"
    },
    {
     "name": "stdout",
     "output_type": "stream",
     "text": [
      "maxCommonNeighborsSyndrome 上徵\n"
     ]
    },
    {
     "data": {
      "application/javascript": [
       "\n",
       "        if (window._pyforest_update_imports_cell) { window._pyforest_update_imports_cell('import pandas as pd'); }\n",
       "    "
      ],
      "text/plain": [
       "<IPython.core.display.Javascript object>"
      ]
     },
     "metadata": {},
     "output_type": "display_data"
    },
    {
     "name": "stdout",
     "output_type": "stream",
     "text": [
      "maxCommonNeighborsSyndrome 上徵\n"
     ]
    },
    {
     "data": {
      "application/javascript": [
       "\n",
       "        if (window._pyforest_update_imports_cell) { window._pyforest_update_imports_cell('import pandas as pd'); }\n",
       "    "
      ],
      "text/plain": [
       "<IPython.core.display.Javascript object>"
      ]
     },
     "metadata": {},
     "output_type": "display_data"
    },
    {
     "name": "stdout",
     "output_type": "stream",
     "text": [
      "maxCommonNeighborsSyndrome 上徵\n"
     ]
    },
    {
     "data": {
      "application/javascript": [
       "\n",
       "        if (window._pyforest_update_imports_cell) { window._pyforest_update_imports_cell('import pandas as pd'); }\n",
       "    "
      ],
      "text/plain": [
       "<IPython.core.display.Javascript object>"
      ]
     },
     "metadata": {},
     "output_type": "display_data"
    },
    {
     "name": "stdout",
     "output_type": "stream",
     "text": [
      "maxCommonNeighborsSyndrome 大宫\n"
     ]
    },
    {
     "data": {
      "application/javascript": [
       "\n",
       "        if (window._pyforest_update_imports_cell) { window._pyforest_update_imports_cell('import pandas as pd'); }\n",
       "    "
      ],
      "text/plain": [
       "<IPython.core.display.Javascript object>"
      ]
     },
     "metadata": {},
     "output_type": "display_data"
    },
    {
     "name": "stdout",
     "output_type": "stream",
     "text": [
      "maxCommonNeighborsSyndrome 上徵\n"
     ]
    },
    {
     "data": {
      "application/javascript": [
       "\n",
       "        if (window._pyforest_update_imports_cell) { window._pyforest_update_imports_cell('import pandas as pd'); }\n",
       "    "
      ],
      "text/plain": [
       "<IPython.core.display.Javascript object>"
      ]
     },
     "metadata": {},
     "output_type": "display_data"
    },
    {
     "name": "stdout",
     "output_type": "stream",
     "text": [
      "maxCommonNeighborsSyndrome 大宫\n"
     ]
    },
    {
     "data": {
      "application/javascript": [
       "\n",
       "        if (window._pyforest_update_imports_cell) { window._pyforest_update_imports_cell('import pandas as pd'); }\n",
       "    "
      ],
      "text/plain": [
       "<IPython.core.display.Javascript object>"
      ]
     },
     "metadata": {},
     "output_type": "display_data"
    },
    {
     "name": "stdout",
     "output_type": "stream",
     "text": [
      "maxCommonNeighborsSyndrome 大宫\n"
     ]
    },
    {
     "data": {
      "application/javascript": [
       "\n",
       "        if (window._pyforest_update_imports_cell) { window._pyforest_update_imports_cell('import pandas as pd'); }\n",
       "    "
      ],
      "text/plain": [
       "<IPython.core.display.Javascript object>"
      ]
     },
     "metadata": {},
     "output_type": "display_data"
    },
    {
     "name": "stdout",
     "output_type": "stream",
     "text": [
      "maxCommonNeighborsSyndrome 大羽\n"
     ]
    }
   ],
   "source": [
    "data_Syndrome1=[]\n",
    "data_Syndrome1_=[]\n",
    "data_Syndrome2_=[]\n",
    "result_commonNeighbors_=[]\n",
    "patients1=[]\n",
    "patients2=[]\n",
    "result_Syndrome=[]\n",
    "#训练集trainData[\"患者\"]\n",
    "# label='中医辨证'\n",
    "label='二十五音'\n",
    "#所有数据\n",
    "for patientName1 in testData[\"患者\"]:\n",
    "    data_Syndrome2=[]\n",
    "    result_commonNeighbors=[]\n",
    "    patient1_Syndrome=graph.nodes.match('Patient', name=f'{patientName1}').first()[f'{label}']\n",
    "    data_Syndrome1.append(patient1_Syndrome)\n",
    "    for patientName2 in trainData[\"患者\"]:\n",
    "        if patientName1 != patientName2:\n",
    "            cypher_=\"MATCH (p1:Patient {name:\\'\"+f'{patientName1}'+\"\\'}) MATCH (p2:Patient {name: \\'\"+f'{patientName2}'+\"\\'}) RETURN gds.alpha.linkprediction.resourceAllocation(p1, p2) AS score\"\n",
    "            data_commonNeighbors = graph.run(cypher_).to_data_frame()\n",
    "            patient2_Syndrome=graph.nodes.match('Patient', name=f'{patientName2}').first()[f'{label}']\n",
    "            data_Syndrome2.append(patient2_Syndrome)\n",
    "            data_Syndrome1_.append(patient1_Syndrome)\n",
    "            data_Syndrome2_.append(patient2_Syndrome)\n",
    "            result_commonNeighbors_.append(data_commonNeighbors[\"score\"][0])\n",
    "            result_commonNeighbors.append(data_commonNeighbors[\"score\"][0])\n",
    "            patients1.append(patientName1)\n",
    "            patients2.append(patientName2)\n",
    "    commonNeighbors_result1=getMaxcommonNeighborsSyndrome(data_Syndrome2,result_commonNeighbors)\n",
    "    maxCommonNeighborsSyndrome=max_list(commonNeighbors_result1['Patient2证型'].values.tolist())\n",
    "    print(\"maxCommonNeighborsSyndrome\",maxCommonNeighborsSyndrome)\n",
    "    result_Syndrome.append(maxCommonNeighborsSyndrome)\n"
   ]
  },
  {
   "cell_type": "code",
   "execution_count": 10,
   "id": "5b6450c1-dbbd-4428-bd2a-c43ef7c88fd2",
   "metadata": {},
   "outputs": [
    {
     "data": {
      "text/plain": [
       "119"
      ]
     },
     "execution_count": 10,
     "metadata": {},
     "output_type": "execute_result"
    }
   ],
   "source": [
    "len(result_Syndrome)"
   ]
  },
  {
   "cell_type": "markdown",
   "id": "a580f25d-6fb7-4973-8ec1-8e915d9be4a5",
   "metadata": {},
   "source": [
    "## 保存一 保存共同邻居算法前20%出现证型次数最多结果"
   ]
  },
  {
   "cell_type": "code",
   "execution_count": 64,
   "id": "b48ba12d-eee3-467e-b0f0-44129ebc75e8",
   "metadata": {},
   "outputs": [
    {
     "data": {
      "application/javascript": [
       "\n",
       "        if (window._pyforest_update_imports_cell) { window._pyforest_update_imports_cell('import pandas as pd'); }\n",
       "    "
      ],
      "text/plain": [
       "<IPython.core.display.Javascript object>"
      ]
     },
     "metadata": {},
     "output_type": "display_data"
    },
    {
     "data": {
      "text/html": [
       "<div>\n",
       "<style scoped>\n",
       "    .dataframe tbody tr th:only-of-type {\n",
       "        vertical-align: middle;\n",
       "    }\n",
       "\n",
       "    .dataframe tbody tr th {\n",
       "        vertical-align: top;\n",
       "    }\n",
       "\n",
       "    .dataframe thead th {\n",
       "        text-align: right;\n",
       "    }\n",
       "</style>\n",
       "<table border=\"1\" class=\"dataframe\">\n",
       "  <thead>\n",
       "    <tr style=\"text-align: right;\">\n",
       "      <th></th>\n",
       "      <th>Patient1</th>\n",
       "      <th>Patient1中医辨证</th>\n",
       "      <th>前20出现次数最多</th>\n",
       "    </tr>\n",
       "  </thead>\n",
       "  <tbody>\n",
       "    <tr>\n",
       "      <th>0</th>\n",
       "      <td>患者7</td>\n",
       "      <td>肝火上扰</td>\n",
       "      <td>肾精亏虚</td>\n",
       "    </tr>\n",
       "    <tr>\n",
       "      <th>1</th>\n",
       "      <td>患者9</td>\n",
       "      <td>脾胃虚弱</td>\n",
       "      <td>脾胃虚弱</td>\n",
       "    </tr>\n",
       "    <tr>\n",
       "      <th>2</th>\n",
       "      <td>患者11</td>\n",
       "      <td>脾胃虚弱</td>\n",
       "      <td>脾胃虚弱</td>\n",
       "    </tr>\n",
       "    <tr>\n",
       "      <th>3</th>\n",
       "      <td>患者16</td>\n",
       "      <td>脾胃虚弱</td>\n",
       "      <td>脾胃虚弱</td>\n",
       "    </tr>\n",
       "    <tr>\n",
       "      <th>4</th>\n",
       "      <td>患者20</td>\n",
       "      <td>脾胃虚弱</td>\n",
       "      <td>肝火上扰</td>\n",
       "    </tr>\n",
       "    <tr>\n",
       "      <th>...</th>\n",
       "      <td>...</td>\n",
       "      <td>...</td>\n",
       "      <td>...</td>\n",
       "    </tr>\n",
       "    <tr>\n",
       "      <th>248</th>\n",
       "      <td>患者1246</td>\n",
       "      <td>风热侵袭</td>\n",
       "      <td>风热侵袭</td>\n",
       "    </tr>\n",
       "    <tr>\n",
       "      <th>249</th>\n",
       "      <td>患者1248</td>\n",
       "      <td>肝火上扰</td>\n",
       "      <td>肝火上扰</td>\n",
       "    </tr>\n",
       "    <tr>\n",
       "      <th>250</th>\n",
       "      <td>患者1249</td>\n",
       "      <td>肝火上扰</td>\n",
       "      <td>肝火上扰</td>\n",
       "    </tr>\n",
       "    <tr>\n",
       "      <th>251</th>\n",
       "      <td>患者1255</td>\n",
       "      <td>脾胃虚弱</td>\n",
       "      <td>脾胃虚弱</td>\n",
       "    </tr>\n",
       "    <tr>\n",
       "      <th>252</th>\n",
       "      <td>患者1259</td>\n",
       "      <td>脾胃虚弱</td>\n",
       "      <td>脾胃虚弱</td>\n",
       "    </tr>\n",
       "  </tbody>\n",
       "</table>\n",
       "<p>253 rows × 3 columns</p>\n",
       "</div>"
      ],
      "text/plain": [
       "    Patient1 Patient1中医辨证 前20出现次数最多\n",
       "0        患者7         肝火上扰      肾精亏虚\n",
       "1        患者9         脾胃虚弱      脾胃虚弱\n",
       "2       患者11         脾胃虚弱      脾胃虚弱\n",
       "3       患者16         脾胃虚弱      脾胃虚弱\n",
       "4       患者20         脾胃虚弱      肝火上扰\n",
       "..       ...          ...       ...\n",
       "248   患者1246         风热侵袭      风热侵袭\n",
       "249   患者1248         肝火上扰      肝火上扰\n",
       "250   患者1249         肝火上扰      肝火上扰\n",
       "251   患者1255         脾胃虚弱      脾胃虚弱\n",
       "252   患者1259         脾胃虚弱      脾胃虚弱\n",
       "\n",
       "[253 rows x 3 columns]"
      ]
     },
     "execution_count": 64,
     "metadata": {},
     "output_type": "execute_result"
    }
   ],
   "source": [
    "# commonNeighbors_result=saveResult(testData,result_Syndrome,5,'test','中医辨证','无权重')\n",
    "# commonNeighbors_result=saveResult(testData,result_Syndrome,1,'test','中医辨证','AA')\n",
    "commonNeighbors_result=saveResult(testData,result_Syndrome,5,'test','中医辨证','resourceAllocation')\n",
    "\n",
    "\n",
    "commonNeighbors_result"
   ]
  },
  {
   "cell_type": "code",
   "execution_count": 16,
   "id": "eb643c03-1721-4f0a-92f0-4df68f79b491",
   "metadata": {},
   "outputs": [],
   "source": [
    "def saveResult(Data,result_Syndrome,i,Type,label,fileName):\n",
    "    commonNeighbors_result=pd.DataFrame()\n",
    "    commonNeighbors_result[\"Patient1\"]=Data[\"患者\"]\n",
    "    commonNeighbors_result[f\"Patient1{label}\"]=Data[f\"{label}\"]\n",
    "    commonNeighbors_result[\"前20出现次数最多\"]=result_Syndrome\n",
    "    commonNeighbors_result.to_csv(f\"./outData新数据/{fileName}/5折_{i}{Type}{label}_20result.csv\")\n",
    "    # commonNeighbors_result.to_csv(f\"./outData/AA共同邻居/5折_{i}{Type}{label}_20result.csv\")\n",
    "    return commonNeighbors_result"
   ]
  },
  {
   "cell_type": "code",
   "execution_count": 17,
   "id": "b8c03936-cb09-4b56-9d40-f607b84ad179",
   "metadata": {},
   "outputs": [],
   "source": [
    "def save(Data,fileName,i,Type,label):\n",
    "    # Data.to_csv(f\"./outData/AA共同邻居/5折_{i}{Type}{label}_{fileName}.csv\")\n",
    "    Data.to_csv(f\"./outData新数据/{fileName}/5折_{i}{Type}{label}.csv\")\n",
    "    return Data"
   ]
  },
  {
   "cell_type": "markdown",
   "id": "a9849310-a393-4885-8114-c8714ed2be42",
   "metadata": {},
   "source": [
    "## 保存二 准确率"
   ]
  },
  {
   "cell_type": "code",
   "execution_count": 56,
   "id": "463df9d4-12b7-468b-ba37-f4eaf9c7fa2e",
   "metadata": {},
   "outputs": [
    {
     "data": {
      "application/javascript": [
       "\n",
       "        if (window._pyforest_update_imports_cell) { window._pyforest_update_imports_cell('import pandas as pd'); }\n",
       "    "
      ],
      "text/plain": [
       "<IPython.core.display.Javascript object>"
      ]
     },
     "metadata": {},
     "output_type": "display_data"
    },
    {
     "name": "stdout",
     "output_type": "stream",
     "text": [
      "肾精亏虚\n",
      "0.9272727272727272\n",
      "脾胃虚弱\n",
      "0.8181818181818182\n",
      "肝火上扰\n",
      "0.9122807017543859\n",
      "痰火郁结\n",
      "0.723404255319149\n",
      "风热侵袭\n",
      "0.8974358974358975\n"
     ]
    },
    {
     "data": {
      "text/html": [
       "<div>\n",
       "<style scoped>\n",
       "    .dataframe tbody tr th:only-of-type {\n",
       "        vertical-align: middle;\n",
       "    }\n",
       "\n",
       "    .dataframe tbody tr th {\n",
       "        vertical-align: top;\n",
       "    }\n",
       "\n",
       "    .dataframe thead th {\n",
       "        text-align: right;\n",
       "    }\n",
       "</style>\n",
       "<table border=\"1\" class=\"dataframe\">\n",
       "  <thead>\n",
       "    <tr style=\"text-align: right;\">\n",
       "      <th></th>\n",
       "      <th>测试集证型</th>\n",
       "      <th>准确率</th>\n",
       "    </tr>\n",
       "  </thead>\n",
       "  <tbody>\n",
       "    <tr>\n",
       "      <th>0</th>\n",
       "      <td>肾精亏虚</td>\n",
       "      <td>0.927273</td>\n",
       "    </tr>\n",
       "    <tr>\n",
       "      <th>1</th>\n",
       "      <td>脾胃虚弱</td>\n",
       "      <td>0.818182</td>\n",
       "    </tr>\n",
       "    <tr>\n",
       "      <th>2</th>\n",
       "      <td>肝火上扰</td>\n",
       "      <td>0.912281</td>\n",
       "    </tr>\n",
       "    <tr>\n",
       "      <th>3</th>\n",
       "      <td>痰火郁结</td>\n",
       "      <td>0.723404</td>\n",
       "    </tr>\n",
       "    <tr>\n",
       "      <th>4</th>\n",
       "      <td>风热侵袭</td>\n",
       "      <td>0.897436</td>\n",
       "    </tr>\n",
       "  </tbody>\n",
       "</table>\n",
       "</div>"
      ],
      "text/plain": [
       "  测试集证型       准确率\n",
       "0  肾精亏虚  0.927273\n",
       "1  脾胃虚弱  0.818182\n",
       "2  肝火上扰  0.912281\n",
       "3  痰火郁结  0.723404\n",
       "4  风热侵袭  0.897436"
      ]
     },
     "execution_count": 56,
     "metadata": {},
     "output_type": "execute_result"
    }
   ],
   "source": [
    "syndrome=[]\n",
    "accuracys=[]\n",
    "syndrome_accuracys=pd.DataFrame()\n",
    "for item in commonNeighbors_result[\"前20出现次数最多\"].unique():\n",
    "    syndrome.append(item)\n",
    "    accuracy=sum(commonNeighbors_result[commonNeighbors_result[\"Patient1中医辨证\"]==f\"{item}\"][\"Patient1中医辨证\"]==commonNeighbors_result[commonNeighbors_result[\"Patient1中医辨证\"]==f\"{item}\"][\"前20出现次数最多\"])/len(commonNeighbors_result[commonNeighbors_result[\"Patient1中医辨证\"]==f\"{item}\"])\n",
    "    accuracys.append(accuracy)\n",
    "    print(item)\n",
    "    print(accuracy)\n",
    "syndrome_accuracys[\"测试集证型\"]=syndrome\n",
    "syndrome_accuracys[\"准确率\"]=accuracys\n",
    "syndrome_accuracys\n",
    "# save(syndrome_accuracys,\"无权重\",5,\"中医辨证\",\"多分类结果\")\n",
    "# save(syndrome_accuracys,\"AA\",2,\"中医辨证\",\"多分类结果2\")\n",
    "save(syndrome_accuracys,\"resourceAllocation\",4,\"中医辨证\",\"多分类结果\")\n"
   ]
  },
  {
   "cell_type": "code",
   "execution_count": 12,
   "id": "e9e2c248-c081-47a6-8b2d-d54103c04682",
   "metadata": {},
   "outputs": [
    {
     "data": {
      "text/plain": [
       "0.33613445378151263"
      ]
     },
     "execution_count": 12,
     "metadata": {},
     "output_type": "execute_result"
    }
   ],
   "source": [
    "sum(commonNeighbors_result[\"Patient1二十五音\"]==commonNeighbors_result[\"前20出现次数最多\"])/119"
   ]
  },
  {
   "cell_type": "code",
   "execution_count": 357,
   "id": "c76cccba-0ca6-4354-9769-572ff556609f",
   "metadata": {},
   "outputs": [
    {
     "data": {
      "text/plain": [
       "0.9705882352941176"
      ]
     },
     "execution_count": 357,
     "metadata": {},
     "output_type": "execute_result"
    }
   ],
   "source": [
    "#训练集\n",
    "sum(commonNeighbors_result[\"Patient1中医辨证\"]==commonNeighbors_result[\"前20出现次数最多\"])/476"
   ]
  },
  {
   "cell_type": "code",
   "execution_count": 108,
   "id": "8ed88a69-8a66-48ed-949b-a1c042caa27d",
   "metadata": {},
   "outputs": [
    {
     "data": {
      "text/plain": [
       "0.8235294117647058"
      ]
     },
     "execution_count": 108,
     "metadata": {},
     "output_type": "execute_result"
    }
   ],
   "source": [
    "#测试集\n",
    "\n",
    "sum(commonNeighbors_result[\"Patient1中医辨证\"]==commonNeighbors_result[\"前20出现次数最多\"])/119"
   ]
  },
  {
   "cell_type": "code",
   "execution_count": 28,
   "id": "d1109ea1-7f3a-4d2b-b334-ef7798cecc1c",
   "metadata": {},
   "outputs": [
    {
     "data": {
      "text/html": [
       "<div>\n",
       "<style scoped>\n",
       "    .dataframe tbody tr th:only-of-type {\n",
       "        vertical-align: middle;\n",
       "    }\n",
       "\n",
       "    .dataframe tbody tr th {\n",
       "        vertical-align: top;\n",
       "    }\n",
       "\n",
       "    .dataframe thead th {\n",
       "        text-align: right;\n",
       "    }\n",
       "</style>\n",
       "<table border=\"1\" class=\"dataframe\">\n",
       "  <thead>\n",
       "    <tr style=\"text-align: right;\">\n",
       "      <th></th>\n",
       "      <th>Patient1</th>\n",
       "      <th>Patient1中医辨证</th>\n",
       "      <th>前20出现次数最多</th>\n",
       "    </tr>\n",
       "  </thead>\n",
       "  <tbody>\n",
       "    <tr>\n",
       "      <th>0</th>\n",
       "      <td>患者7</td>\n",
       "      <td>脾胃亏虚</td>\n",
       "      <td>脾胃亏虚</td>\n",
       "    </tr>\n",
       "    <tr>\n",
       "      <th>1</th>\n",
       "      <td>患者17</td>\n",
       "      <td>脾胃亏虚</td>\n",
       "      <td>脾胃亏虚</td>\n",
       "    </tr>\n",
       "    <tr>\n",
       "      <th>2</th>\n",
       "      <td>患者24</td>\n",
       "      <td>脾胃亏虚</td>\n",
       "      <td>脾胃亏虚</td>\n",
       "    </tr>\n",
       "    <tr>\n",
       "      <th>3</th>\n",
       "      <td>患者25</td>\n",
       "      <td>脾胃亏虚</td>\n",
       "      <td>脾胃亏虚</td>\n",
       "    </tr>\n",
       "    <tr>\n",
       "      <th>4</th>\n",
       "      <td>患者27</td>\n",
       "      <td>脾胃亏虚</td>\n",
       "      <td>脾胃亏虚</td>\n",
       "    </tr>\n",
       "    <tr>\n",
       "      <th>5</th>\n",
       "      <td>患者32</td>\n",
       "      <td>脾胃亏虚</td>\n",
       "      <td>脾胃亏虚</td>\n",
       "    </tr>\n",
       "    <tr>\n",
       "      <th>6</th>\n",
       "      <td>患者40</td>\n",
       "      <td>脾胃亏虚</td>\n",
       "      <td>脾胃亏虚</td>\n",
       "    </tr>\n",
       "    <tr>\n",
       "      <th>7</th>\n",
       "      <td>患者41</td>\n",
       "      <td>脾胃亏虚</td>\n",
       "      <td>脾胃亏虚</td>\n",
       "    </tr>\n",
       "    <tr>\n",
       "      <th>8</th>\n",
       "      <td>患者46</td>\n",
       "      <td>脾胃亏虚</td>\n",
       "      <td>脾胃亏虚</td>\n",
       "    </tr>\n",
       "    <tr>\n",
       "      <th>9</th>\n",
       "      <td>患者50</td>\n",
       "      <td>脾胃亏虚</td>\n",
       "      <td>脾胃亏虚</td>\n",
       "    </tr>\n",
       "    <tr>\n",
       "      <th>10</th>\n",
       "      <td>患者52</td>\n",
       "      <td>脾胃亏虚</td>\n",
       "      <td>脾胃亏虚</td>\n",
       "    </tr>\n",
       "    <tr>\n",
       "      <th>11</th>\n",
       "      <td>患者56</td>\n",
       "      <td>脾胃亏虚</td>\n",
       "      <td>脾胃亏虚</td>\n",
       "    </tr>\n",
       "    <tr>\n",
       "      <th>12</th>\n",
       "      <td>患者57</td>\n",
       "      <td>脾胃亏虚</td>\n",
       "      <td>脾胃亏虚</td>\n",
       "    </tr>\n",
       "    <tr>\n",
       "      <th>13</th>\n",
       "      <td>患者61</td>\n",
       "      <td>脾胃亏虚</td>\n",
       "      <td>脾胃亏虚</td>\n",
       "    </tr>\n",
       "    <tr>\n",
       "      <th>14</th>\n",
       "      <td>患者72</td>\n",
       "      <td>脾胃亏虚</td>\n",
       "      <td>脾胃亏虚</td>\n",
       "    </tr>\n",
       "    <tr>\n",
       "      <th>15</th>\n",
       "      <td>患者93</td>\n",
       "      <td>脾胃亏虚</td>\n",
       "      <td>脾胃亏虚</td>\n",
       "    </tr>\n",
       "    <tr>\n",
       "      <th>16</th>\n",
       "      <td>患者96</td>\n",
       "      <td>脾胃亏虚</td>\n",
       "      <td>脾胃亏虚</td>\n",
       "    </tr>\n",
       "    <tr>\n",
       "      <th>17</th>\n",
       "      <td>患者98</td>\n",
       "      <td>脾胃亏虚</td>\n",
       "      <td>脾胃亏虚</td>\n",
       "    </tr>\n",
       "    <tr>\n",
       "      <th>18</th>\n",
       "      <td>患者103</td>\n",
       "      <td>脾胃亏虚</td>\n",
       "      <td>脾胃亏虚</td>\n",
       "    </tr>\n",
       "    <tr>\n",
       "      <th>19</th>\n",
       "      <td>患者104</td>\n",
       "      <td>脾胃亏虚</td>\n",
       "      <td>脾胃亏虚</td>\n",
       "    </tr>\n",
       "    <tr>\n",
       "      <th>20</th>\n",
       "      <td>患者111</td>\n",
       "      <td>脾胃亏虚</td>\n",
       "      <td>脾胃亏虚</td>\n",
       "    </tr>\n",
       "    <tr>\n",
       "      <th>21</th>\n",
       "      <td>患者114</td>\n",
       "      <td>脾胃亏虚</td>\n",
       "      <td>脾胃亏虚</td>\n",
       "    </tr>\n",
       "    <tr>\n",
       "      <th>22</th>\n",
       "      <td>患者119</td>\n",
       "      <td>脾胃亏虚</td>\n",
       "      <td>脾胃亏虚</td>\n",
       "    </tr>\n",
       "    <tr>\n",
       "      <th>23</th>\n",
       "      <td>患者120</td>\n",
       "      <td>脾胃亏虚</td>\n",
       "      <td>脾胃亏虚</td>\n",
       "    </tr>\n",
       "    <tr>\n",
       "      <th>24</th>\n",
       "      <td>患者122</td>\n",
       "      <td>脾胃亏虚</td>\n",
       "      <td>脾胃亏虚</td>\n",
       "    </tr>\n",
       "    <tr>\n",
       "      <th>25</th>\n",
       "      <td>患者123</td>\n",
       "      <td>脾胃亏虚</td>\n",
       "      <td>脾胃亏虚</td>\n",
       "    </tr>\n",
       "    <tr>\n",
       "      <th>26</th>\n",
       "      <td>患者126</td>\n",
       "      <td>脾胃亏虚</td>\n",
       "      <td>脾胃亏虚</td>\n",
       "    </tr>\n",
       "    <tr>\n",
       "      <th>27</th>\n",
       "      <td>患者130</td>\n",
       "      <td>脾胃亏虚</td>\n",
       "      <td>脾胃亏虚</td>\n",
       "    </tr>\n",
       "    <tr>\n",
       "      <th>28</th>\n",
       "      <td>患者140</td>\n",
       "      <td>脾胃亏虚</td>\n",
       "      <td>脾胃亏虚</td>\n",
       "    </tr>\n",
       "    <tr>\n",
       "      <th>29</th>\n",
       "      <td>患者144</td>\n",
       "      <td>脾胃亏虚</td>\n",
       "      <td>脾胃亏虚</td>\n",
       "    </tr>\n",
       "    <tr>\n",
       "      <th>30</th>\n",
       "      <td>患者154</td>\n",
       "      <td>脾胃亏虚</td>\n",
       "      <td>脾胃亏虚</td>\n",
       "    </tr>\n",
       "    <tr>\n",
       "      <th>31</th>\n",
       "      <td>患者158</td>\n",
       "      <td>脾胃亏虚</td>\n",
       "      <td>脾胃亏虚</td>\n",
       "    </tr>\n",
       "    <tr>\n",
       "      <th>32</th>\n",
       "      <td>患者160</td>\n",
       "      <td>脾胃亏虚</td>\n",
       "      <td>脾胃亏虚</td>\n",
       "    </tr>\n",
       "    <tr>\n",
       "      <th>33</th>\n",
       "      <td>患者161</td>\n",
       "      <td>脾胃亏虚</td>\n",
       "      <td>脾胃亏虚</td>\n",
       "    </tr>\n",
       "    <tr>\n",
       "      <th>34</th>\n",
       "      <td>患者163</td>\n",
       "      <td>脾胃亏虚</td>\n",
       "      <td>脾胃亏虚</td>\n",
       "    </tr>\n",
       "    <tr>\n",
       "      <th>35</th>\n",
       "      <td>患者172</td>\n",
       "      <td>脾胃亏虚</td>\n",
       "      <td>脾胃亏虚</td>\n",
       "    </tr>\n",
       "  </tbody>\n",
       "</table>\n",
       "</div>"
      ],
      "text/plain": [
       "   Patient1 Patient1中医辨证 前20出现次数最多\n",
       "0       患者7         脾胃亏虚      脾胃亏虚\n",
       "1      患者17         脾胃亏虚      脾胃亏虚\n",
       "2      患者24         脾胃亏虚      脾胃亏虚\n",
       "3      患者25         脾胃亏虚      脾胃亏虚\n",
       "4      患者27         脾胃亏虚      脾胃亏虚\n",
       "5      患者32         脾胃亏虚      脾胃亏虚\n",
       "6      患者40         脾胃亏虚      脾胃亏虚\n",
       "7      患者41         脾胃亏虚      脾胃亏虚\n",
       "8      患者46         脾胃亏虚      脾胃亏虚\n",
       "9      患者50         脾胃亏虚      脾胃亏虚\n",
       "10     患者52         脾胃亏虚      脾胃亏虚\n",
       "11     患者56         脾胃亏虚      脾胃亏虚\n",
       "12     患者57         脾胃亏虚      脾胃亏虚\n",
       "13     患者61         脾胃亏虚      脾胃亏虚\n",
       "14     患者72         脾胃亏虚      脾胃亏虚\n",
       "15     患者93         脾胃亏虚      脾胃亏虚\n",
       "16     患者96         脾胃亏虚      脾胃亏虚\n",
       "17     患者98         脾胃亏虚      脾胃亏虚\n",
       "18    患者103         脾胃亏虚      脾胃亏虚\n",
       "19    患者104         脾胃亏虚      脾胃亏虚\n",
       "20    患者111         脾胃亏虚      脾胃亏虚\n",
       "21    患者114         脾胃亏虚      脾胃亏虚\n",
       "22    患者119         脾胃亏虚      脾胃亏虚\n",
       "23    患者120         脾胃亏虚      脾胃亏虚\n",
       "24    患者122         脾胃亏虚      脾胃亏虚\n",
       "25    患者123         脾胃亏虚      脾胃亏虚\n",
       "26    患者126         脾胃亏虚      脾胃亏虚\n",
       "27    患者130         脾胃亏虚      脾胃亏虚\n",
       "28    患者140         脾胃亏虚      脾胃亏虚\n",
       "29    患者144         脾胃亏虚      脾胃亏虚\n",
       "30    患者154         脾胃亏虚      脾胃亏虚\n",
       "31    患者158         脾胃亏虚      脾胃亏虚\n",
       "32    患者160         脾胃亏虚      脾胃亏虚\n",
       "33    患者161         脾胃亏虚      脾胃亏虚\n",
       "34    患者163         脾胃亏虚      脾胃亏虚\n",
       "35    患者172         脾胃亏虚      脾胃亏虚"
      ]
     },
     "execution_count": 28,
     "metadata": {},
     "output_type": "execute_result"
    }
   ],
   "source": [
    "commonNeighbors_result[commonNeighbors_result[\"Patient1中医辨证\"]==\"脾胃亏虚\"]"
   ]
  },
  {
   "cell_type": "code",
   "execution_count": null,
   "id": "4f73e4c3-4cf0-4269-b307-9c19b7de6c97",
   "metadata": {},
   "outputs": [],
   "source": [
    "sum(commonNeighbors_result[\"Patient1中医辨证\"]==commonNeighbors_result[\"前20出现次数最多\"])/119"
   ]
  },
  {
   "cell_type": "code",
   "execution_count": 198,
   "id": "05e9c753-af44-4708-b058-0a6e4c8dee3e",
   "metadata": {},
   "outputs": [
    {
     "data": {
      "application/javascript": [
       "\n",
       "        if (window._pyforest_update_imports_cell) { window._pyforest_update_imports_cell('import numpy as np\\nimport pandas as pd'); }\n",
       "    "
      ],
      "text/plain": [
       "<IPython.core.display.Javascript object>"
      ]
     },
     "metadata": {},
     "output_type": "display_data"
    },
    {
     "data": {
      "text/html": [
       "<div>\n",
       "<style scoped>\n",
       "    .dataframe tbody tr th:only-of-type {\n",
       "        vertical-align: middle;\n",
       "    }\n",
       "\n",
       "    .dataframe tbody tr th {\n",
       "        vertical-align: top;\n",
       "    }\n",
       "\n",
       "    .dataframe thead th {\n",
       "        text-align: right;\n",
       "    }\n",
       "</style>\n",
       "<table border=\"1\" class=\"dataframe\">\n",
       "  <thead>\n",
       "    <tr style=\"text-align: right;\">\n",
       "      <th></th>\n",
       "      <th>Unnamed: 0</th>\n",
       "      <th>Patient1</th>\n",
       "      <th>Patient1证型</th>\n",
       "      <th>前20%出现次数最多</th>\n",
       "    </tr>\n",
       "  </thead>\n",
       "  <tbody>\n",
       "    <tr>\n",
       "      <th>0</th>\n",
       "      <td>0</td>\n",
       "      <td>患者1</td>\n",
       "      <td>脾胃亏虚</td>\n",
       "      <td>脾胃亏虚</td>\n",
       "    </tr>\n",
       "    <tr>\n",
       "      <th>1</th>\n",
       "      <td>1</td>\n",
       "      <td>患者2</td>\n",
       "      <td>脾胃亏虚</td>\n",
       "      <td>脾胃亏虚</td>\n",
       "    </tr>\n",
       "    <tr>\n",
       "      <th>2</th>\n",
       "      <td>2</td>\n",
       "      <td>患者3</td>\n",
       "      <td>脾胃亏虚</td>\n",
       "      <td>脾胃亏虚</td>\n",
       "    </tr>\n",
       "    <tr>\n",
       "      <th>3</th>\n",
       "      <td>3</td>\n",
       "      <td>患者4</td>\n",
       "      <td>脾胃亏虚</td>\n",
       "      <td>脾胃亏虚</td>\n",
       "    </tr>\n",
       "    <tr>\n",
       "      <th>4</th>\n",
       "      <td>4</td>\n",
       "      <td>患者5</td>\n",
       "      <td>脾胃亏虚</td>\n",
       "      <td>脾胃亏虚</td>\n",
       "    </tr>\n",
       "    <tr>\n",
       "      <th>...</th>\n",
       "      <td>...</td>\n",
       "      <td>...</td>\n",
       "      <td>...</td>\n",
       "      <td>...</td>\n",
       "    </tr>\n",
       "    <tr>\n",
       "      <th>471</th>\n",
       "      <td>471</td>\n",
       "      <td>患者591</td>\n",
       "      <td>肾精亏损</td>\n",
       "      <td>肾精亏损</td>\n",
       "    </tr>\n",
       "    <tr>\n",
       "      <th>472</th>\n",
       "      <td>472</td>\n",
       "      <td>患者592</td>\n",
       "      <td>肾精亏损</td>\n",
       "      <td>肾精亏损</td>\n",
       "    </tr>\n",
       "    <tr>\n",
       "      <th>473</th>\n",
       "      <td>473</td>\n",
       "      <td>患者593</td>\n",
       "      <td>肾精亏损</td>\n",
       "      <td>肾精亏损</td>\n",
       "    </tr>\n",
       "    <tr>\n",
       "      <th>474</th>\n",
       "      <td>474</td>\n",
       "      <td>患者594</td>\n",
       "      <td>肾精亏损</td>\n",
       "      <td>肾精亏损</td>\n",
       "    </tr>\n",
       "    <tr>\n",
       "      <th>475</th>\n",
       "      <td>475</td>\n",
       "      <td>患者595</td>\n",
       "      <td>脾胃亏虚</td>\n",
       "      <td>脾胃亏虚</td>\n",
       "    </tr>\n",
       "  </tbody>\n",
       "</table>\n",
       "<p>476 rows × 4 columns</p>\n",
       "</div>"
      ],
      "text/plain": [
       "     Unnamed: 0 Patient1 Patient1证型 前20%出现次数最多\n",
       "0             0      患者1       脾胃亏虚       脾胃亏虚\n",
       "1             1      患者2       脾胃亏虚       脾胃亏虚\n",
       "2             2      患者3       脾胃亏虚       脾胃亏虚\n",
       "3             3      患者4       脾胃亏虚       脾胃亏虚\n",
       "4             4      患者5       脾胃亏虚       脾胃亏虚\n",
       "..          ...      ...        ...        ...\n",
       "471         471    患者591       肾精亏损       肾精亏损\n",
       "472         472    患者592       肾精亏损       肾精亏损\n",
       "473         473    患者593       肾精亏损       肾精亏损\n",
       "474         474    患者594       肾精亏损       肾精亏损\n",
       "475         475    患者595       脾胃亏虚       脾胃亏虚\n",
       "\n",
       "[476 rows x 4 columns]"
      ]
     },
     "execution_count": 198,
     "metadata": {},
     "output_type": "execute_result"
    }
   ],
   "source": [
    "commonNeighbors_result=pd.read_csv('./outData/前20test_commonNeighbors_result1.csv')\n",
    "commonNeighbors_result"
   ]
  },
  {
   "cell_type": "markdown",
   "id": "870bf077-f73e-4e9f-b9d6-6bc3a8192847",
   "metadata": {},
   "source": [
    "## 保存共同邻居算法运行结果"
   ]
  },
  {
   "cell_type": "code",
   "execution_count": 219,
   "id": "e0bd8993-fafc-4c47-b29f-ef017e0430f2",
   "metadata": {},
   "outputs": [
    {
     "data": {
      "application/javascript": [
       "\n",
       "        if (window._pyforest_update_imports_cell) { window._pyforest_update_imports_cell('import pandas as pd\\nimport numpy as np'); }\n",
       "    "
      ],
      "text/plain": [
       "<IPython.core.display.Javascript object>"
      ]
     },
     "metadata": {},
     "output_type": "display_data"
    },
    {
     "data": {
      "text/html": [
       "<div>\n",
       "<style scoped>\n",
       "    .dataframe tbody tr th:only-of-type {\n",
       "        vertical-align: middle;\n",
       "    }\n",
       "\n",
       "    .dataframe tbody tr th {\n",
       "        vertical-align: top;\n",
       "    }\n",
       "\n",
       "    .dataframe thead th {\n",
       "        text-align: right;\n",
       "    }\n",
       "</style>\n",
       "<table border=\"1\" class=\"dataframe\">\n",
       "  <thead>\n",
       "    <tr style=\"text-align: right;\">\n",
       "      <th></th>\n",
       "      <th>Patient1</th>\n",
       "      <th>Patient1证型</th>\n",
       "      <th>Patient2</th>\n",
       "      <th>Patient2证型</th>\n",
       "      <th>共同邻居数量</th>\n",
       "    </tr>\n",
       "  </thead>\n",
       "  <tbody>\n",
       "    <tr>\n",
       "      <th>0</th>\n",
       "      <td>患者7</td>\n",
       "      <td>脾胃亏虚</td>\n",
       "      <td>患者1</td>\n",
       "      <td>脾胃亏虚</td>\n",
       "      <td>3.0</td>\n",
       "    </tr>\n",
       "    <tr>\n",
       "      <th>1</th>\n",
       "      <td>患者7</td>\n",
       "      <td>脾胃亏虚</td>\n",
       "      <td>患者2</td>\n",
       "      <td>脾胃亏虚</td>\n",
       "      <td>6.0</td>\n",
       "    </tr>\n",
       "    <tr>\n",
       "      <th>2</th>\n",
       "      <td>患者7</td>\n",
       "      <td>脾胃亏虚</td>\n",
       "      <td>患者3</td>\n",
       "      <td>脾胃亏虚</td>\n",
       "      <td>6.0</td>\n",
       "    </tr>\n",
       "    <tr>\n",
       "      <th>3</th>\n",
       "      <td>患者7</td>\n",
       "      <td>脾胃亏虚</td>\n",
       "      <td>患者4</td>\n",
       "      <td>脾胃亏虚</td>\n",
       "      <td>5.0</td>\n",
       "    </tr>\n",
       "    <tr>\n",
       "      <th>4</th>\n",
       "      <td>患者7</td>\n",
       "      <td>脾胃亏虚</td>\n",
       "      <td>患者5</td>\n",
       "      <td>脾胃亏虚</td>\n",
       "      <td>6.0</td>\n",
       "    </tr>\n",
       "    <tr>\n",
       "      <th>...</th>\n",
       "      <td>...</td>\n",
       "      <td>...</td>\n",
       "      <td>...</td>\n",
       "      <td>...</td>\n",
       "      <td>...</td>\n",
       "    </tr>\n",
       "    <tr>\n",
       "      <th>56639</th>\n",
       "      <td>患者587</td>\n",
       "      <td>肾精亏损</td>\n",
       "      <td>患者591</td>\n",
       "      <td>肾精亏损</td>\n",
       "      <td>6.0</td>\n",
       "    </tr>\n",
       "    <tr>\n",
       "      <th>56640</th>\n",
       "      <td>患者587</td>\n",
       "      <td>肾精亏损</td>\n",
       "      <td>患者592</td>\n",
       "      <td>肾精亏损</td>\n",
       "      <td>5.0</td>\n",
       "    </tr>\n",
       "    <tr>\n",
       "      <th>56641</th>\n",
       "      <td>患者587</td>\n",
       "      <td>肾精亏损</td>\n",
       "      <td>患者593</td>\n",
       "      <td>肾精亏损</td>\n",
       "      <td>3.0</td>\n",
       "    </tr>\n",
       "    <tr>\n",
       "      <th>56642</th>\n",
       "      <td>患者587</td>\n",
       "      <td>肾精亏损</td>\n",
       "      <td>患者594</td>\n",
       "      <td>肾精亏损</td>\n",
       "      <td>4.0</td>\n",
       "    </tr>\n",
       "    <tr>\n",
       "      <th>56643</th>\n",
       "      <td>患者587</td>\n",
       "      <td>肾精亏损</td>\n",
       "      <td>患者595</td>\n",
       "      <td>脾胃亏虚</td>\n",
       "      <td>4.0</td>\n",
       "    </tr>\n",
       "  </tbody>\n",
       "</table>\n",
       "<p>56644 rows × 5 columns</p>\n",
       "</div>"
      ],
      "text/plain": [
       "      Patient1 Patient1证型 Patient2 Patient2证型  共同邻居数量\n",
       "0          患者7       脾胃亏虚      患者1       脾胃亏虚     3.0\n",
       "1          患者7       脾胃亏虚      患者2       脾胃亏虚     6.0\n",
       "2          患者7       脾胃亏虚      患者3       脾胃亏虚     6.0\n",
       "3          患者7       脾胃亏虚      患者4       脾胃亏虚     5.0\n",
       "4          患者7       脾胃亏虚      患者5       脾胃亏虚     6.0\n",
       "...        ...        ...      ...        ...     ...\n",
       "56639    患者587       肾精亏损    患者591       肾精亏损     6.0\n",
       "56640    患者587       肾精亏损    患者592       肾精亏损     5.0\n",
       "56641    患者587       肾精亏损    患者593       肾精亏损     3.0\n",
       "56642    患者587       肾精亏损    患者594       肾精亏损     4.0\n",
       "56643    患者587       肾精亏损    患者595       脾胃亏虚     4.0\n",
       "\n",
       "[56644 rows x 5 columns]"
      ]
     },
     "execution_count": 219,
     "metadata": {},
     "output_type": "execute_result"
    }
   ],
   "source": [
    "#测试集\n",
    "commonNeighbors_result=pd.DataFrame()\n",
    "commonNeighbors_result[\"Patient1\"]=patients1\n",
    "commonNeighbors_result[\"Patient1证型\"]=data_Syndrome1_\n",
    "commonNeighbors_result[\"Patient2\"]=patients2\n",
    "commonNeighbors_result[\"Patient2证型\"]=data_Syndrome2_\n",
    "commonNeighbors_result[\"共同邻居数量\"]=result_commonNeighbors_\n",
    "\n",
    "commonNeighbors_result.to_csv(\"./outData/5折_1Alltest_commonNeighbors_20result.csv\")\n",
    "commonNeighbors_result"
   ]
  },
  {
   "cell_type": "markdown",
   "id": "31e0f9c8-26ce-44c5-94ef-1f9aa09bba99",
   "metadata": {},
   "source": [
    "## 计算共同邻居数量前20节点出现次数最多的证型"
   ]
  },
  {
   "cell_type": "code",
   "execution_count": 8,
   "id": "25dbb8d0-f710-429f-9f97-a4cef77e8eee",
   "metadata": {},
   "outputs": [],
   "source": [
    "def getMaxcommonNeighborsSyndrome(data_Syndrome2,result_commonNeighbors):\n",
    "    commonNeighbors_result=pd.DataFrame()\n",
    "    # commonNeighbors_result[\"Patient1证型\"]=data_Syndrome1\n",
    "    # commonNeighbors_result[\"Patient2\"]=patients2\n",
    "    commonNeighbors_result[\"Patient2证型\"]=data_Syndrome2\n",
    "    commonNeighbors_result[\"共同邻居数量\"]=result_commonNeighbors\n",
    "    commonNeighbors_result=commonNeighbors_result.sort_values(by=['共同邻居数量'],ascending=False)\n",
    "    commonNeighbors_result1=commonNeighbors_result[:20]\n",
    "    # maxSyndrome=max_list(commonNeighbors_result1['Patient2证型'].values.tolist())\n",
    "\n",
    "    return commonNeighbors_result1\n"
   ]
  },
  {
   "cell_type": "code",
   "execution_count": 91,
   "id": "61722bc5-252c-425d-a0cc-24f29af9d929",
   "metadata": {},
   "outputs": [
    {
     "data": {
      "application/javascript": [
       "\n",
       "        if (window._pyforest_update_imports_cell) { window._pyforest_update_imports_cell('import pandas as pd'); }\n",
       "    "
      ],
      "text/plain": [
       "<IPython.core.display.Javascript object>"
      ]
     },
     "metadata": {},
     "output_type": "display_data"
    },
    {
     "data": {
      "text/html": [
       "<div>\n",
       "<style scoped>\n",
       "    .dataframe tbody tr th:only-of-type {\n",
       "        vertical-align: middle;\n",
       "    }\n",
       "\n",
       "    .dataframe tbody tr th {\n",
       "        vertical-align: top;\n",
       "    }\n",
       "\n",
       "    .dataframe thead th {\n",
       "        text-align: right;\n",
       "    }\n",
       "</style>\n",
       "<table border=\"1\" class=\"dataframe\">\n",
       "  <thead>\n",
       "    <tr style=\"text-align: right;\">\n",
       "      <th></th>\n",
       "      <th>Unnamed: 0</th>\n",
       "      <th>Patient1</th>\n",
       "      <th>Patient1证型</th>\n",
       "      <th>前20%出现次数最多证型</th>\n",
       "    </tr>\n",
       "  </thead>\n",
       "  <tbody>\n",
       "    <tr>\n",
       "      <th>0</th>\n",
       "      <td>0</td>\n",
       "      <td>患者471</td>\n",
       "      <td>0</td>\n",
       "      <td>3</td>\n",
       "    </tr>\n",
       "    <tr>\n",
       "      <th>1</th>\n",
       "      <td>1</td>\n",
       "      <td>患者328</td>\n",
       "      <td>1</td>\n",
       "      <td>2</td>\n",
       "    </tr>\n",
       "    <tr>\n",
       "      <th>2</th>\n",
       "      <td>2</td>\n",
       "      <td>患者355</td>\n",
       "      <td>1</td>\n",
       "      <td>0</td>\n",
       "    </tr>\n",
       "    <tr>\n",
       "      <th>3</th>\n",
       "      <td>3</td>\n",
       "      <td>患者564</td>\n",
       "      <td>0</td>\n",
       "      <td>0</td>\n",
       "    </tr>\n",
       "    <tr>\n",
       "      <th>4</th>\n",
       "      <td>4</td>\n",
       "      <td>患者326</td>\n",
       "      <td>1</td>\n",
       "      <td>1</td>\n",
       "    </tr>\n",
       "    <tr>\n",
       "      <th>...</th>\n",
       "      <td>...</td>\n",
       "      <td>...</td>\n",
       "      <td>...</td>\n",
       "      <td>...</td>\n",
       "    </tr>\n",
       "    <tr>\n",
       "      <th>174</th>\n",
       "      <td>174</td>\n",
       "      <td>患者475</td>\n",
       "      <td>0</td>\n",
       "      <td>4</td>\n",
       "    </tr>\n",
       "    <tr>\n",
       "      <th>175</th>\n",
       "      <td>175</td>\n",
       "      <td>患者189</td>\n",
       "      <td>4</td>\n",
       "      <td>1</td>\n",
       "    </tr>\n",
       "    <tr>\n",
       "      <th>176</th>\n",
       "      <td>176</td>\n",
       "      <td>患者31</td>\n",
       "      <td>3</td>\n",
       "      <td>3</td>\n",
       "    </tr>\n",
       "    <tr>\n",
       "      <th>177</th>\n",
       "      <td>177</td>\n",
       "      <td>患者195</td>\n",
       "      <td>4</td>\n",
       "      <td>1</td>\n",
       "    </tr>\n",
       "    <tr>\n",
       "      <th>178</th>\n",
       "      <td>178</td>\n",
       "      <td>患者305</td>\n",
       "      <td>2</td>\n",
       "      <td>4</td>\n",
       "    </tr>\n",
       "  </tbody>\n",
       "</table>\n",
       "<p>179 rows × 4 columns</p>\n",
       "</div>"
      ],
      "text/plain": [
       "     Unnamed: 0 Patient1  Patient1证型  前20%出现次数最多证型\n",
       "0             0    患者471           0             3\n",
       "1             1    患者328           1             2\n",
       "2             2    患者355           1             0\n",
       "3             3    患者564           0             0\n",
       "4             4    患者326           1             1\n",
       "..          ...      ...         ...           ...\n",
       "174         174    患者475           0             4\n",
       "175         175    患者189           4             1\n",
       "176         176     患者31           3             3\n",
       "177         177    患者195           4             1\n",
       "178         178    患者305           2             4\n",
       "\n",
       "[179 rows x 4 columns]"
      ]
     },
     "execution_count": 91,
     "metadata": {},
     "output_type": "execute_result"
    }
   ],
   "source": [
    "#读取测试集数据\n",
    "commonNeighbors_testresult = pd.read_csv(r\"./outData/dataAll_commonNeighbors_testresult.csv\",encoding=\"gbk\")\n",
    "commonNeighbors_testresult"
   ]
  },
  {
   "cell_type": "code",
   "execution_count": 95,
   "id": "1321b572-308d-46b5-bf06-f0f7b466586a",
   "metadata": {},
   "outputs": [
    {
     "data": {
      "text/plain": [
       "0.4692737430167598"
      ]
     },
     "execution_count": 95,
     "metadata": {},
     "output_type": "execute_result"
    }
   ],
   "source": [
    "sum(commonNeighbors_testresult[\"Patient1证型\"]==commonNeighbors_testresult[\"前20%出现次数最多证型\"])/179"
   ]
  },
  {
   "cell_type": "markdown",
   "id": "e1c88653-2e27-4ef1-a34c-8f670c9ada37",
   "metadata": {},
   "source": [
    "# 准确率计算"
   ]
  },
  {
   "cell_type": "code",
   "execution_count": 24,
   "id": "b94b68ae-da5f-4d52-8ac1-eacf010089dd",
   "metadata": {},
   "outputs": [
    {
     "data": {
      "application/javascript": [
       "\n",
       "        if (window._pyforest_update_imports_cell) { window._pyforest_update_imports_cell('import pandas as pd'); }\n",
       "    "
      ],
      "text/plain": [
       "<IPython.core.display.Javascript object>"
      ]
     },
     "metadata": {},
     "output_type": "display_data"
    },
    {
     "data": {
      "text/html": [
       "<div>\n",
       "<style scoped>\n",
       "    .dataframe tbody tr th:only-of-type {\n",
       "        vertical-align: middle;\n",
       "    }\n",
       "\n",
       "    .dataframe tbody tr th {\n",
       "        vertical-align: top;\n",
       "    }\n",
       "\n",
       "    .dataframe thead th {\n",
       "        text-align: right;\n",
       "    }\n",
       "</style>\n",
       "<table border=\"1\" class=\"dataframe\">\n",
       "  <thead>\n",
       "    <tr style=\"text-align: right;\">\n",
       "      <th></th>\n",
       "      <th>患者</th>\n",
       "      <th>性别</th>\n",
       "      <th>发病节气</th>\n",
       "      <th>噪音</th>\n",
       "      <th>劳累</th>\n",
       "      <th>压力</th>\n",
       "      <th>感染</th>\n",
       "      <th>外伤</th>\n",
       "      <th>高血压</th>\n",
       "      <th>糖尿病</th>\n",
       "      <th>...</th>\n",
       "      <th>APTT</th>\n",
       "      <th>FIB</th>\n",
       "      <th>D-二聚体</th>\n",
       "      <th>TT</th>\n",
       "      <th>频率</th>\n",
       "      <th>TEQ</th>\n",
       "      <th>THI</th>\n",
       "      <th>VAS</th>\n",
       "      <th>病程(月)</th>\n",
       "      <th>年龄</th>\n",
       "    </tr>\n",
       "  </thead>\n",
       "  <tbody>\n",
       "    <tr>\n",
       "      <th>0</th>\n",
       "      <td>患者1</td>\n",
       "      <td>女</td>\n",
       "      <td>秋分</td>\n",
       "      <td>0</td>\n",
       "      <td>0</td>\n",
       "      <td>0</td>\n",
       "      <td>0</td>\n",
       "      <td>0</td>\n",
       "      <td>高血压</td>\n",
       "      <td>0</td>\n",
       "      <td>...</td>\n",
       "      <td>27.615</td>\n",
       "      <td>2.696</td>\n",
       "      <td>0.334</td>\n",
       "      <td>18.399</td>\n",
       "      <td>4315</td>\n",
       "      <td>13</td>\n",
       "      <td>46</td>\n",
       "      <td>6</td>\n",
       "      <td>60.0</td>\n",
       "      <td>63</td>\n",
       "    </tr>\n",
       "    <tr>\n",
       "      <th>1</th>\n",
       "      <td>患者2</td>\n",
       "      <td>女</td>\n",
       "      <td>大雪</td>\n",
       "      <td>0</td>\n",
       "      <td>0</td>\n",
       "      <td>0</td>\n",
       "      <td>0</td>\n",
       "      <td>0</td>\n",
       "      <td>高血压</td>\n",
       "      <td>0</td>\n",
       "      <td>...</td>\n",
       "      <td>31.800</td>\n",
       "      <td>3.470</td>\n",
       "      <td>0.250</td>\n",
       "      <td>17.300</td>\n",
       "      <td>2243</td>\n",
       "      <td>8</td>\n",
       "      <td>18</td>\n",
       "      <td>6</td>\n",
       "      <td>1.0</td>\n",
       "      <td>45</td>\n",
       "    </tr>\n",
       "    <tr>\n",
       "      <th>2</th>\n",
       "      <td>患者3</td>\n",
       "      <td>女</td>\n",
       "      <td>冬至</td>\n",
       "      <td>0</td>\n",
       "      <td>0</td>\n",
       "      <td>0</td>\n",
       "      <td>0</td>\n",
       "      <td>0</td>\n",
       "      <td>0</td>\n",
       "      <td>0</td>\n",
       "      <td>...</td>\n",
       "      <td>25.900</td>\n",
       "      <td>2.940</td>\n",
       "      <td>0.570</td>\n",
       "      <td>17.700</td>\n",
       "      <td>682</td>\n",
       "      <td>10</td>\n",
       "      <td>14</td>\n",
       "      <td>2</td>\n",
       "      <td>0.1</td>\n",
       "      <td>69</td>\n",
       "    </tr>\n",
       "    <tr>\n",
       "      <th>3</th>\n",
       "      <td>患者4</td>\n",
       "      <td>女</td>\n",
       "      <td>小寒</td>\n",
       "      <td>0</td>\n",
       "      <td>0</td>\n",
       "      <td>0</td>\n",
       "      <td>0</td>\n",
       "      <td>0</td>\n",
       "      <td>高血压</td>\n",
       "      <td>0</td>\n",
       "      <td>...</td>\n",
       "      <td>20.900</td>\n",
       "      <td>2.696</td>\n",
       "      <td>0.334</td>\n",
       "      <td>18.399</td>\n",
       "      <td>6631</td>\n",
       "      <td>13</td>\n",
       "      <td>44</td>\n",
       "      <td>5</td>\n",
       "      <td>0.2</td>\n",
       "      <td>57</td>\n",
       "    </tr>\n",
       "    <tr>\n",
       "      <th>4</th>\n",
       "      <td>患者5</td>\n",
       "      <td>男</td>\n",
       "      <td>小寒</td>\n",
       "      <td>0</td>\n",
       "      <td>0</td>\n",
       "      <td>0</td>\n",
       "      <td>0</td>\n",
       "      <td>0</td>\n",
       "      <td>0</td>\n",
       "      <td>0</td>\n",
       "      <td>...</td>\n",
       "      <td>27.615</td>\n",
       "      <td>2.696</td>\n",
       "      <td>0.334</td>\n",
       "      <td>18.399</td>\n",
       "      <td>1352</td>\n",
       "      <td>10</td>\n",
       "      <td>34</td>\n",
       "      <td>4</td>\n",
       "      <td>1.0</td>\n",
       "      <td>67</td>\n",
       "    </tr>\n",
       "    <tr>\n",
       "      <th>...</th>\n",
       "      <td>...</td>\n",
       "      <td>...</td>\n",
       "      <td>...</td>\n",
       "      <td>...</td>\n",
       "      <td>...</td>\n",
       "      <td>...</td>\n",
       "      <td>...</td>\n",
       "      <td>...</td>\n",
       "      <td>...</td>\n",
       "      <td>...</td>\n",
       "      <td>...</td>\n",
       "      <td>...</td>\n",
       "      <td>...</td>\n",
       "      <td>...</td>\n",
       "      <td>...</td>\n",
       "      <td>...</td>\n",
       "      <td>...</td>\n",
       "      <td>...</td>\n",
       "      <td>...</td>\n",
       "      <td>...</td>\n",
       "      <td>...</td>\n",
       "    </tr>\n",
       "    <tr>\n",
       "      <th>590</th>\n",
       "      <td>患者591</td>\n",
       "      <td>男</td>\n",
       "      <td>秋分</td>\n",
       "      <td>噪音</td>\n",
       "      <td>0</td>\n",
       "      <td>0</td>\n",
       "      <td>0</td>\n",
       "      <td>0</td>\n",
       "      <td>0</td>\n",
       "      <td>0</td>\n",
       "      <td>...</td>\n",
       "      <td>27.615</td>\n",
       "      <td>2.696</td>\n",
       "      <td>0.334</td>\n",
       "      <td>18.399</td>\n",
       "      <td>646</td>\n",
       "      <td>13</td>\n",
       "      <td>24</td>\n",
       "      <td>5</td>\n",
       "      <td>5.0</td>\n",
       "      <td>52</td>\n",
       "    </tr>\n",
       "    <tr>\n",
       "      <th>591</th>\n",
       "      <td>患者592</td>\n",
       "      <td>男</td>\n",
       "      <td>秋分</td>\n",
       "      <td>0</td>\n",
       "      <td>0</td>\n",
       "      <td>压力</td>\n",
       "      <td>感染</td>\n",
       "      <td>0</td>\n",
       "      <td>0</td>\n",
       "      <td>0</td>\n",
       "      <td>...</td>\n",
       "      <td>27.615</td>\n",
       "      <td>2.696</td>\n",
       "      <td>0.334</td>\n",
       "      <td>18.399</td>\n",
       "      <td>1352</td>\n",
       "      <td>11</td>\n",
       "      <td>4</td>\n",
       "      <td>4</td>\n",
       "      <td>216.0</td>\n",
       "      <td>37</td>\n",
       "    </tr>\n",
       "    <tr>\n",
       "      <th>592</th>\n",
       "      <td>患者593</td>\n",
       "      <td>女</td>\n",
       "      <td>秋分</td>\n",
       "      <td>0</td>\n",
       "      <td>0</td>\n",
       "      <td>压力</td>\n",
       "      <td>0</td>\n",
       "      <td>0</td>\n",
       "      <td>0</td>\n",
       "      <td>0</td>\n",
       "      <td>...</td>\n",
       "      <td>27.615</td>\n",
       "      <td>2.696</td>\n",
       "      <td>0.334</td>\n",
       "      <td>18.399</td>\n",
       "      <td>6165</td>\n",
       "      <td>8</td>\n",
       "      <td>2</td>\n",
       "      <td>6</td>\n",
       "      <td>24.0</td>\n",
       "      <td>54</td>\n",
       "    </tr>\n",
       "    <tr>\n",
       "      <th>593</th>\n",
       "      <td>患者594</td>\n",
       "      <td>男</td>\n",
       "      <td>白露</td>\n",
       "      <td>0</td>\n",
       "      <td>0</td>\n",
       "      <td>0</td>\n",
       "      <td>0</td>\n",
       "      <td>0</td>\n",
       "      <td>高血压</td>\n",
       "      <td>0</td>\n",
       "      <td>...</td>\n",
       "      <td>25.200</td>\n",
       "      <td>2.440</td>\n",
       "      <td>0.190</td>\n",
       "      <td>17.600</td>\n",
       "      <td>2644</td>\n",
       "      <td>11</td>\n",
       "      <td>34</td>\n",
       "      <td>6</td>\n",
       "      <td>3.0</td>\n",
       "      <td>63</td>\n",
       "    </tr>\n",
       "    <tr>\n",
       "      <th>594</th>\n",
       "      <td>患者595</td>\n",
       "      <td>女</td>\n",
       "      <td>立冬</td>\n",
       "      <td>0</td>\n",
       "      <td>0</td>\n",
       "      <td>0</td>\n",
       "      <td>0</td>\n",
       "      <td>0</td>\n",
       "      <td>高血压</td>\n",
       "      <td>0</td>\n",
       "      <td>...</td>\n",
       "      <td>27.615</td>\n",
       "      <td>2.696</td>\n",
       "      <td>0.334</td>\n",
       "      <td>18.399</td>\n",
       "      <td>1685</td>\n",
       "      <td>15</td>\n",
       "      <td>16</td>\n",
       "      <td>7</td>\n",
       "      <td>10.0</td>\n",
       "      <td>78</td>\n",
       "    </tr>\n",
       "  </tbody>\n",
       "</table>\n",
       "<p>595 rows × 80 columns</p>\n",
       "</div>"
      ],
      "text/plain": [
       "        患者 性别 发病节气  噪音 劳累  压力  感染 外伤  高血压 糖尿病  ...    APTT    FIB  D-二聚体  \\\n",
       "0      患者1  女   秋分   0  0   0   0  0  高血压   0  ...  27.615  2.696  0.334   \n",
       "1      患者2  女   大雪   0  0   0   0  0  高血压   0  ...  31.800  3.470  0.250   \n",
       "2      患者3  女   冬至   0  0   0   0  0    0   0  ...  25.900  2.940  0.570   \n",
       "3      患者4  女   小寒   0  0   0   0  0  高血压   0  ...  20.900  2.696  0.334   \n",
       "4      患者5  男   小寒   0  0   0   0  0    0   0  ...  27.615  2.696  0.334   \n",
       "..     ... ..  ...  .. ..  ..  .. ..  ...  ..  ...     ...    ...    ...   \n",
       "590  患者591  男   秋分  噪音  0   0   0  0    0   0  ...  27.615  2.696  0.334   \n",
       "591  患者592  男   秋分   0  0  压力  感染  0    0   0  ...  27.615  2.696  0.334   \n",
       "592  患者593  女   秋分   0  0  压力   0  0    0   0  ...  27.615  2.696  0.334   \n",
       "593  患者594  男   白露   0  0   0   0  0  高血压   0  ...  25.200  2.440  0.190   \n",
       "594  患者595  女   立冬   0  0   0   0  0  高血压   0  ...  27.615  2.696  0.334   \n",
       "\n",
       "         TT    频率 TEQ THI VAS  病程(月)  年龄  \n",
       "0    18.399  4315  13  46   6   60.0  63  \n",
       "1    17.300  2243   8  18   6    1.0  45  \n",
       "2    17.700   682  10  14   2    0.1  69  \n",
       "3    18.399  6631  13  44   5    0.2  57  \n",
       "4    18.399  1352  10  34   4    1.0  67  \n",
       "..      ...   ...  ..  ..  ..    ...  ..  \n",
       "590  18.399   646  13  24   5    5.0  52  \n",
       "591  18.399  1352  11   4   4  216.0  37  \n",
       "592  18.399  6165   8   2   6   24.0  54  \n",
       "593  17.600  2644  11  34   6    3.0  63  \n",
       "594  18.399  1685  15  16   7   10.0  78  \n",
       "\n",
       "[595 rows x 80 columns]"
      ]
     },
     "execution_count": 24,
     "metadata": {},
     "output_type": "execute_result"
    }
   ],
   "source": [
    "data1 = pd.read_csv(r\"D:\\学习资料\\项目资料\\耳鸣中医知识图谱\\neo4j\\知识图谱耳鸣数据.csv\",encoding=\"gbk\")\n",
    "data1"
   ]
  },
  {
   "cell_type": "markdown",
   "id": "fa164f77-e986-4a8a-a9a2-69228d0db9e3",
   "metadata": {},
   "source": [
    "## 读取Louvain运行结果\n"
   ]
  },
  {
   "cell_type": "code",
   "execution_count": 21,
   "id": "9179ac6a-a074-43b7-9300-f26bd03d19e6",
   "metadata": {},
   "outputs": [
    {
     "data": {
      "application/javascript": [
       "\n",
       "        if (window._pyforest_update_imports_cell) { window._pyforest_update_imports_cell('import pandas as pd'); }\n",
       "    "
      ],
      "text/plain": [
       "<IPython.core.display.Javascript object>"
      ]
     },
     "metadata": {},
     "output_type": "display_data"
    },
    {
     "data": {
      "text/plain": [
       "(     Unnamed: 0                        name  communityId  \\\n",
       " 0             0                CoatedTongue          117   \n",
       " 1             1      ConditionOfPersistence           42   \n",
       " 2             2  DiagnosisofWesternMedicine          104   \n",
       " 3             3             IncitingFactors           28   \n",
       " 4             4                 PastHistory           34   \n",
       " ..          ...                         ...          ...   \n",
       " 722         722                        风热侵袭           77   \n",
       " 723         723                          饮酒           41   \n",
       " 724         724                        高脂血症           37   \n",
       " 725         725                         高血压           35   \n",
       " 726         726                         鸣笛声           49   \n",
       " \n",
       "     intermediateCommunityIds  \n",
       " 0                      [117]  \n",
       " 1                       [42]  \n",
       " 2                      [104]  \n",
       " 3                       [28]  \n",
       " 4                       [34]  \n",
       " ..                       ...  \n",
       " 722                     [77]  \n",
       " 723                     [41]  \n",
       " 724                     [37]  \n",
       " 725                     [35]  \n",
       " 726                     [49]  \n",
       " \n",
       " [727 rows x 4 columns],\n",
       " Index(['Unnamed: 0', 'name', 'communityId', 'intermediateCommunityIds'], dtype='object'))"
      ]
     },
     "execution_count": 21,
     "metadata": {},
     "output_type": "execute_result"
    }
   ],
   "source": [
    "#data_Louvain02\n",
    "data2 = pd.read_csv(r\"./outData/dataAll_Louvain权重.csv\")\n",
    "columns=data2.columns\n",
    "data2,columns"
   ]
  },
  {
   "cell_type": "markdown",
   "id": "4064ef8b-1bbd-4421-8459-ff195cf0b340",
   "metadata": {},
   "source": [
    "\n",
    "## 读取leiden运行结果\n"
   ]
  },
  {
   "cell_type": "code",
   "execution_count": 32,
   "id": "d46567cf-db20-4ecd-8af9-a2fce4b77a2b",
   "metadata": {},
   "outputs": [
    {
     "data": {
      "application/javascript": [
       "\n",
       "        if (window._pyforest_update_imports_cell) { window._pyforest_update_imports_cell('import pandas as pd'); }\n",
       "    "
      ],
      "text/plain": [
       "<IPython.core.display.Javascript object>"
      ]
     },
     "metadata": {},
     "output_type": "display_data"
    },
    {
     "name": "stdout",
     "output_type": "stream",
     "text": [
      "Index(['Unnamed: 0', 'name', 'communityId', 'intermediateCommunityIds'], dtype='object')\n"
     ]
    },
    {
     "data": {
      "text/html": [
       "<div>\n",
       "<style scoped>\n",
       "    .dataframe tbody tr th:only-of-type {\n",
       "        vertical-align: middle;\n",
       "    }\n",
       "\n",
       "    .dataframe tbody tr th {\n",
       "        vertical-align: top;\n",
       "    }\n",
       "\n",
       "    .dataframe thead th {\n",
       "        text-align: right;\n",
       "    }\n",
       "</style>\n",
       "<table border=\"1\" class=\"dataframe\">\n",
       "  <thead>\n",
       "    <tr style=\"text-align: right;\">\n",
       "      <th></th>\n",
       "      <th>Unnamed: 0</th>\n",
       "      <th>name</th>\n",
       "      <th>communityId</th>\n",
       "      <th>intermediateCommunityIds</th>\n",
       "    </tr>\n",
       "  </thead>\n",
       "  <tbody>\n",
       "    <tr>\n",
       "      <th>0</th>\n",
       "      <td>0</td>\n",
       "      <td>CoatedTongue</td>\n",
       "      <td>373</td>\n",
       "      <td>[373]</td>\n",
       "    </tr>\n",
       "    <tr>\n",
       "      <th>1</th>\n",
       "      <td>1</td>\n",
       "      <td>ConditionofPersistence</td>\n",
       "      <td>373</td>\n",
       "      <td>[373]</td>\n",
       "    </tr>\n",
       "    <tr>\n",
       "      <th>2</th>\n",
       "      <td>2</td>\n",
       "      <td>DiagnosisofWesternMedicine</td>\n",
       "      <td>373</td>\n",
       "      <td>[373]</td>\n",
       "    </tr>\n",
       "    <tr>\n",
       "      <th>3</th>\n",
       "      <td>3</td>\n",
       "      <td>IncitingFactors</td>\n",
       "      <td>373</td>\n",
       "      <td>[373]</td>\n",
       "    </tr>\n",
       "    <tr>\n",
       "      <th>4</th>\n",
       "      <td>4</td>\n",
       "      <td>PastHistory</td>\n",
       "      <td>373</td>\n",
       "      <td>[373]</td>\n",
       "    </tr>\n",
       "    <tr>\n",
       "      <th>...</th>\n",
       "      <td>...</td>\n",
       "      <td>...</td>\n",
       "      <td>...</td>\n",
       "      <td>...</td>\n",
       "    </tr>\n",
       "    <tr>\n",
       "      <th>698</th>\n",
       "      <td>698</td>\n",
       "      <td>风热侵袭</td>\n",
       "      <td>337</td>\n",
       "      <td>[337]</td>\n",
       "    </tr>\n",
       "    <tr>\n",
       "      <th>699</th>\n",
       "      <td>699</td>\n",
       "      <td>饮酒</td>\n",
       "      <td>373</td>\n",
       "      <td>[373]</td>\n",
       "    </tr>\n",
       "    <tr>\n",
       "      <th>700</th>\n",
       "      <td>700</td>\n",
       "      <td>高脂血症</td>\n",
       "      <td>373</td>\n",
       "      <td>[373]</td>\n",
       "    </tr>\n",
       "    <tr>\n",
       "      <th>701</th>\n",
       "      <td>701</td>\n",
       "      <td>高血压</td>\n",
       "      <td>373</td>\n",
       "      <td>[373]</td>\n",
       "    </tr>\n",
       "    <tr>\n",
       "      <th>702</th>\n",
       "      <td>702</td>\n",
       "      <td>鸣笛声</td>\n",
       "      <td>373</td>\n",
       "      <td>[373]</td>\n",
       "    </tr>\n",
       "  </tbody>\n",
       "</table>\n",
       "<p>703 rows × 4 columns</p>\n",
       "</div>"
      ],
      "text/plain": [
       "     Unnamed: 0                        name  communityId  \\\n",
       "0             0                CoatedTongue          373   \n",
       "1             1      ConditionofPersistence          373   \n",
       "2             2  DiagnosisofWesternMedicine          373   \n",
       "3             3             IncitingFactors          373   \n",
       "4             4                 PastHistory          373   \n",
       "..          ...                         ...          ...   \n",
       "698         698                        风热侵袭          337   \n",
       "699         699                          饮酒          373   \n",
       "700         700                        高脂血症          373   \n",
       "701         701                         高血压          373   \n",
       "702         702                         鸣笛声          373   \n",
       "\n",
       "    intermediateCommunityIds  \n",
       "0                      [373]  \n",
       "1                      [373]  \n",
       "2                      [373]  \n",
       "3                      [373]  \n",
       "4                      [373]  \n",
       "..                       ...  \n",
       "698                    [337]  \n",
       "699                    [373]  \n",
       "700                    [373]  \n",
       "701                    [373]  \n",
       "702                    [373]  \n",
       "\n",
       "[703 rows x 4 columns]"
      ]
     },
     "execution_count": 32,
     "metadata": {},
     "output_type": "execute_result"
    }
   ],
   "source": [
    "#data_leiden01\n",
    "data2 = pd.read_csv(r\"./outData/dataAll_leiden.csv\")\n",
    "columns=data2.columns\n",
    "print(columns)\n",
    "data2\n"
   ]
  },
  {
   "cell_type": "markdown",
   "id": "1b455770-2947-4236-bd46-328830fb8fdf",
   "metadata": {},
   "source": [
    "## 读取标签传播算法运行"
   ]
  },
  {
   "cell_type": "code",
   "execution_count": 68,
   "id": "7ef113ef-528a-424c-8568-53d6abb82fb8",
   "metadata": {},
   "outputs": [
    {
     "data": {
      "application/javascript": [
       "\n",
       "        if (window._pyforest_update_imports_cell) { window._pyforest_update_imports_cell('import pandas as pd'); }\n",
       "    "
      ],
      "text/plain": [
       "<IPython.core.display.Javascript object>"
      ]
     },
     "metadata": {},
     "output_type": "display_data"
    },
    {
     "name": "stdout",
     "output_type": "stream",
     "text": [
      "Index(['Unnamed: 0', 'name', 'communityId'], dtype='object')\n"
     ]
    },
    {
     "data": {
      "text/html": [
       "<div>\n",
       "<style scoped>\n",
       "    .dataframe tbody tr th:only-of-type {\n",
       "        vertical-align: middle;\n",
       "    }\n",
       "\n",
       "    .dataframe tbody tr th {\n",
       "        vertical-align: top;\n",
       "    }\n",
       "\n",
       "    .dataframe thead th {\n",
       "        text-align: right;\n",
       "    }\n",
       "</style>\n",
       "<table border=\"1\" class=\"dataframe\">\n",
       "  <thead>\n",
       "    <tr style=\"text-align: right;\">\n",
       "      <th></th>\n",
       "      <th>Unnamed: 0</th>\n",
       "      <th>name</th>\n",
       "      <th>communityId</th>\n",
       "    </tr>\n",
       "  </thead>\n",
       "  <tbody>\n",
       "    <tr>\n",
       "      <th>0</th>\n",
       "      <td>0</td>\n",
       "      <td>患者398</td>\n",
       "      <td>0</td>\n",
       "    </tr>\n",
       "    <tr>\n",
       "      <th>1</th>\n",
       "      <td>1</td>\n",
       "      <td>患者399</td>\n",
       "      <td>0</td>\n",
       "    </tr>\n",
       "    <tr>\n",
       "      <th>2</th>\n",
       "      <td>2</td>\n",
       "      <td>患者401</td>\n",
       "      <td>0</td>\n",
       "    </tr>\n",
       "    <tr>\n",
       "      <th>3</th>\n",
       "      <td>3</td>\n",
       "      <td>患者402</td>\n",
       "      <td>0</td>\n",
       "    </tr>\n",
       "    <tr>\n",
       "      <th>4</th>\n",
       "      <td>4</td>\n",
       "      <td>患者403</td>\n",
       "      <td>0</td>\n",
       "    </tr>\n",
       "    <tr>\n",
       "      <th>...</th>\n",
       "      <td>...</td>\n",
       "      <td>...</td>\n",
       "      <td>...</td>\n",
       "    </tr>\n",
       "    <tr>\n",
       "      <th>590</th>\n",
       "      <td>590</td>\n",
       "      <td>患者475</td>\n",
       "      <td>987</td>\n",
       "    </tr>\n",
       "    <tr>\n",
       "      <th>591</th>\n",
       "      <td>591</td>\n",
       "      <td>患者189</td>\n",
       "      <td>988</td>\n",
       "    </tr>\n",
       "    <tr>\n",
       "      <th>592</th>\n",
       "      <td>592</td>\n",
       "      <td>患者31</td>\n",
       "      <td>989</td>\n",
       "    </tr>\n",
       "    <tr>\n",
       "      <th>593</th>\n",
       "      <td>593</td>\n",
       "      <td>患者195</td>\n",
       "      <td>990</td>\n",
       "    </tr>\n",
       "    <tr>\n",
       "      <th>594</th>\n",
       "      <td>594</td>\n",
       "      <td>患者305</td>\n",
       "      <td>991</td>\n",
       "    </tr>\n",
       "  </tbody>\n",
       "</table>\n",
       "<p>595 rows × 3 columns</p>\n",
       "</div>"
      ],
      "text/plain": [
       "     Unnamed: 0   name  communityId\n",
       "0             0  患者398            0\n",
       "1             1  患者399            0\n",
       "2             2  患者401            0\n",
       "3             3  患者402            0\n",
       "4             4  患者403            0\n",
       "..          ...    ...          ...\n",
       "590         590  患者475          987\n",
       "591         591  患者189          988\n",
       "592         592   患者31          989\n",
       "593         593  患者195          990\n",
       "594         594  患者305          991\n",
       "\n",
       "[595 rows x 3 columns]"
      ]
     },
     "execution_count": 68,
     "metadata": {},
     "output_type": "execute_result"
    }
   ],
   "source": [
    "data2 = pd.read_csv(r\"./outData/data_labelPropagation.csv\")\n",
    "columns=data2.columns\n",
    "print(columns)\n",
    "data2\n"
   ]
  },
  {
   "cell_type": "code",
   "execution_count": 22,
   "id": "f6b39d86-1cd7-4431-a6ba-6672f40def0a",
   "metadata": {},
   "outputs": [
    {
     "data": {
      "application/javascript": [
       "\n",
       "        if (window._pyforest_update_imports_cell) { window._pyforest_update_imports_cell('import pandas as pd'); }\n",
       "    "
      ],
      "text/plain": [
       "<IPython.core.display.Javascript object>"
      ]
     },
     "metadata": {},
     "output_type": "display_data"
    },
    {
     "data": {
      "text/html": [
       "<div>\n",
       "<style scoped>\n",
       "    .dataframe tbody tr th:only-of-type {\n",
       "        vertical-align: middle;\n",
       "    }\n",
       "\n",
       "    .dataframe tbody tr th {\n",
       "        vertical-align: top;\n",
       "    }\n",
       "\n",
       "    .dataframe thead th {\n",
       "        text-align: right;\n",
       "    }\n",
       "</style>\n",
       "<table border=\"1\" class=\"dataframe\">\n",
       "  <thead>\n",
       "    <tr style=\"text-align: right;\">\n",
       "      <th></th>\n",
       "      <th>Unnamed: 0</th>\n",
       "      <th>name</th>\n",
       "      <th>communityId</th>\n",
       "      <th>intermediateCommunityIds</th>\n",
       "    </tr>\n",
       "  </thead>\n",
       "  <tbody>\n",
       "    <tr>\n",
       "      <th>0</th>\n",
       "      <td>66</td>\n",
       "      <td>患者1</td>\n",
       "      <td>285</td>\n",
       "      <td>[285]</td>\n",
       "    </tr>\n",
       "    <tr>\n",
       "      <th>1</th>\n",
       "      <td>67</td>\n",
       "      <td>患者10</td>\n",
       "      <td>489</td>\n",
       "      <td>[489]</td>\n",
       "    </tr>\n",
       "    <tr>\n",
       "      <th>2</th>\n",
       "      <td>68</td>\n",
       "      <td>患者100</td>\n",
       "      <td>284</td>\n",
       "      <td>[284]</td>\n",
       "    </tr>\n",
       "    <tr>\n",
       "      <th>3</th>\n",
       "      <td>69</td>\n",
       "      <td>患者101</td>\n",
       "      <td>528</td>\n",
       "      <td>[528]</td>\n",
       "    </tr>\n",
       "    <tr>\n",
       "      <th>4</th>\n",
       "      <td>70</td>\n",
       "      <td>患者102</td>\n",
       "      <td>468</td>\n",
       "      <td>[468]</td>\n",
       "    </tr>\n",
       "    <tr>\n",
       "      <th>...</th>\n",
       "      <td>...</td>\n",
       "      <td>...</td>\n",
       "      <td>...</td>\n",
       "      <td>...</td>\n",
       "    </tr>\n",
       "    <tr>\n",
       "      <th>590</th>\n",
       "      <td>656</td>\n",
       "      <td>患者95</td>\n",
       "      <td>431</td>\n",
       "      <td>[431]</td>\n",
       "    </tr>\n",
       "    <tr>\n",
       "      <th>591</th>\n",
       "      <td>657</td>\n",
       "      <td>患者96</td>\n",
       "      <td>506</td>\n",
       "      <td>[506]</td>\n",
       "    </tr>\n",
       "    <tr>\n",
       "      <th>592</th>\n",
       "      <td>658</td>\n",
       "      <td>患者97</td>\n",
       "      <td>430</td>\n",
       "      <td>[430]</td>\n",
       "    </tr>\n",
       "    <tr>\n",
       "      <th>593</th>\n",
       "      <td>659</td>\n",
       "      <td>患者98</td>\n",
       "      <td>691</td>\n",
       "      <td>[691]</td>\n",
       "    </tr>\n",
       "    <tr>\n",
       "      <th>594</th>\n",
       "      <td>660</td>\n",
       "      <td>患者99</td>\n",
       "      <td>340</td>\n",
       "      <td>[340]</td>\n",
       "    </tr>\n",
       "  </tbody>\n",
       "</table>\n",
       "<p>595 rows × 4 columns</p>\n",
       "</div>"
      ],
      "text/plain": [
       "    Unnamed: 0   name communityId intermediateCommunityIds\n",
       "0           66    患者1         285                    [285]\n",
       "1           67   患者10         489                    [489]\n",
       "2           68  患者100         284                    [284]\n",
       "3           69  患者101         528                    [528]\n",
       "4           70  患者102         468                    [468]\n",
       "..         ...    ...         ...                      ...\n",
       "590        656   患者95         431                    [431]\n",
       "591        657   患者96         506                    [506]\n",
       "592        658   患者97         430                    [430]\n",
       "593        659   患者98         691                    [691]\n",
       "594        660   患者99         340                    [340]\n",
       "\n",
       "[595 rows x 4 columns]"
      ]
     },
     "execution_count": 22,
     "metadata": {},
     "output_type": "execute_result"
    }
   ],
   "source": [
    "#只获取name为患者的行\n",
    "data2_=pd.DataFrame(columns=columns)\n",
    "\n",
    "j=0\n",
    "for i in range(len(data2)):\n",
    "    res = re.findall('患者', data2['name'][i])\n",
    "    if res!=[] and res[0] == '患者':\n",
    "        data2_.loc[j]=data2.loc[i]\n",
    "        j=j+1\n",
    "data2_"
   ]
  },
  {
   "cell_type": "code",
   "execution_count": 25,
   "id": "51f96728-df15-40e8-b6ec-fa3fffecbdd0",
   "metadata": {},
   "outputs": [],
   "source": [
    "#提取各个耳鸣分类的患者名\n",
    "pwkx=data1[data1[\"中医辨证\"] == \"脾胃亏虚\"][\"患者\"].values\n",
    "sjks=data1[data1[\"中医辨证\"] == \"肾精亏损\"][\"患者\"].values\n",
    "thyj=data1[data1[\"中医辨证\"] == \"痰火郁结\"][\"患者\"].values\n",
    "frqx=data1[data1[\"中医辨证\"] == \"风热侵袭\"][\"患者\"].values\n",
    "ghsr=data1[data1[\"中医辨证\"] == \"肝火上扰\"][\"患者\"].values\n",
    "# pwkx,sjks,thyj,frqx,ghsr"
   ]
  },
  {
   "cell_type": "markdown",
   "id": "2c413246-8593-44f5-964e-75637aeb1acf",
   "metadata": {},
   "source": [
    "## 计算社区里每个耳鸣分类的占比"
   ]
  },
  {
   "cell_type": "code",
   "execution_count": 26,
   "id": "a2d5d33c-1c44-41cf-b138-6e643070ed48",
   "metadata": {},
   "outputs": [
    {
     "name": "stdout",
     "output_type": "stream",
     "text": [
      "1\n",
      "1\n",
      "1\n",
      "1\n",
      "1\n",
      "1\n",
      "1\n",
      "1\n",
      "1\n",
      "1\n",
      "1\n",
      "1\n",
      "1\n",
      "1\n",
      "1\n",
      "1\n",
      "1\n",
      "1\n",
      "1\n",
      "1\n",
      "1\n",
      "1\n",
      "1\n",
      "1\n",
      "1\n",
      "1\n",
      "1\n",
      "1\n",
      "1\n",
      "1\n",
      "1\n",
      "1\n",
      "1\n",
      "1\n",
      "1\n",
      "1\n",
      "1\n",
      "1\n",
      "1\n",
      "1\n",
      "1\n",
      "1\n",
      "1\n",
      "1\n",
      "1\n",
      "1\n",
      "1\n",
      "1\n",
      "1\n",
      "1\n",
      "1\n",
      "1\n",
      "1\n",
      "1\n",
      "1\n",
      "1\n",
      "1\n",
      "1\n",
      "1\n",
      "1\n",
      "1\n",
      "1\n",
      "1\n",
      "1\n",
      "1\n",
      "1\n",
      "1\n",
      "1\n",
      "1\n",
      "1\n",
      "1\n",
      "1\n",
      "1\n",
      "1\n",
      "1\n",
      "1\n",
      "1\n",
      "1\n",
      "1\n",
      "1\n",
      "1\n",
      "1\n",
      "1\n",
      "1\n",
      "1\n",
      "1\n",
      "1\n",
      "1\n",
      "1\n",
      "1\n",
      "1\n",
      "1\n",
      "1\n",
      "1\n",
      "1\n",
      "1\n",
      "1\n",
      "1\n",
      "1\n",
      "1\n",
      "1\n",
      "1\n",
      "1\n",
      "1\n",
      "1\n",
      "1\n",
      "1\n",
      "1\n",
      "1\n",
      "1\n",
      "1\n",
      "1\n",
      "1\n",
      "1\n",
      "1\n",
      "1\n",
      "1\n",
      "1\n",
      "1\n",
      "1\n",
      "1\n",
      "1\n",
      "1\n",
      "1\n",
      "1\n",
      "1\n",
      "1\n",
      "1\n",
      "1\n",
      "1\n",
      "1\n",
      "1\n",
      "1\n",
      "1\n",
      "1\n",
      "1\n",
      "1\n",
      "1\n",
      "1\n",
      "1\n",
      "1\n",
      "1\n",
      "1\n",
      "1\n",
      "1\n",
      "1\n",
      "1\n",
      "1\n",
      "1\n",
      "1\n",
      "1\n",
      "1\n",
      "1\n",
      "1\n",
      "1\n",
      "1\n",
      "1\n",
      "1\n",
      "1\n",
      "1\n",
      "1\n",
      "1\n",
      "1\n",
      "1\n",
      "1\n",
      "1\n",
      "1\n",
      "1\n",
      "1\n",
      "1\n",
      "1\n",
      "1\n",
      "1\n",
      "1\n",
      "1\n",
      "1\n",
      "1\n",
      "1\n",
      "1\n",
      "1\n",
      "1\n",
      "1\n",
      "1\n",
      "1\n",
      "1\n",
      "1\n",
      "1\n",
      "1\n",
      "1\n",
      "1\n",
      "1\n",
      "1\n",
      "1\n",
      "1\n",
      "1\n",
      "1\n",
      "1\n",
      "1\n",
      "1\n",
      "1\n",
      "1\n",
      "1\n",
      "1\n",
      "1\n",
      "1\n",
      "1\n",
      "1\n",
      "1\n",
      "1\n",
      "1\n",
      "1\n",
      "1\n",
      "1\n",
      "1\n",
      "1\n",
      "1\n",
      "1\n",
      "1\n",
      "1\n",
      "1\n",
      "1\n",
      "1\n",
      "1\n",
      "1\n",
      "1\n",
      "1\n",
      "1\n",
      "1\n",
      "1\n",
      "1\n",
      "1\n",
      "1\n",
      "1\n",
      "1\n",
      "1\n",
      "1\n",
      "1\n",
      "1\n",
      "1\n",
      "1\n",
      "1\n",
      "1\n",
      "1\n",
      "1\n",
      "1\n",
      "1\n",
      "1\n",
      "1\n",
      "1\n",
      "1\n",
      "1\n",
      "1\n",
      "1\n",
      "1\n",
      "1\n",
      "1\n",
      "1\n",
      "1\n",
      "1\n",
      "1\n",
      "1\n",
      "1\n",
      "1\n",
      "1\n",
      "1\n",
      "1\n",
      "1\n",
      "1\n",
      "1\n",
      "1\n",
      "1\n",
      "1\n",
      "1\n",
      "1\n",
      "1\n",
      "1\n",
      "1\n",
      "1\n",
      "1\n",
      "1\n",
      "1\n",
      "1\n",
      "1\n",
      "1\n",
      "1\n",
      "1\n",
      "1\n",
      "1\n",
      "1\n",
      "1\n",
      "1\n",
      "1\n",
      "1\n",
      "1\n",
      "1\n",
      "1\n",
      "1\n",
      "1\n",
      "1\n",
      "1\n",
      "1\n",
      "1\n",
      "1\n",
      "1\n",
      "1\n",
      "1\n",
      "1\n",
      "1\n",
      "1\n",
      "1\n",
      "1\n",
      "1\n",
      "1\n",
      "1\n",
      "1\n",
      "1\n",
      "1\n",
      "1\n",
      "1\n",
      "1\n",
      "1\n",
      "1\n",
      "1\n",
      "1\n",
      "1\n",
      "1\n",
      "1\n",
      "1\n",
      "1\n",
      "1\n",
      "1\n",
      "1\n",
      "1\n",
      "1\n",
      "1\n",
      "1\n",
      "1\n",
      "1\n",
      "1\n",
      "1\n",
      "1\n",
      "1\n",
      "1\n",
      "1\n",
      "1\n",
      "1\n",
      "1\n",
      "1\n",
      "1\n",
      "1\n",
      "1\n",
      "1\n",
      "1\n",
      "1\n",
      "1\n",
      "1\n",
      "1\n",
      "1\n",
      "1\n",
      "1\n",
      "1\n",
      "1\n",
      "1\n",
      "1\n",
      "1\n",
      "1\n",
      "1\n",
      "1\n",
      "1\n",
      "1\n",
      "1\n",
      "1\n",
      "1\n",
      "1\n",
      "1\n",
      "1\n",
      "1\n",
      "1\n",
      "1\n",
      "1\n",
      "1\n",
      "1\n",
      "1\n",
      "1\n",
      "1\n",
      "1\n",
      "1\n",
      "1\n",
      "1\n",
      "1\n",
      "1\n",
      "1\n",
      "1\n",
      "1\n",
      "1\n",
      "1\n",
      "1\n",
      "1\n",
      "1\n",
      "1\n",
      "1\n",
      "1\n",
      "1\n",
      "1\n",
      "1\n",
      "1\n",
      "1\n",
      "1\n",
      "1\n",
      "1\n",
      "1\n",
      "1\n",
      "1\n",
      "1\n",
      "1\n",
      "1\n",
      "1\n",
      "1\n",
      "1\n",
      "1\n",
      "1\n",
      "1\n",
      "1\n",
      "1\n",
      "1\n",
      "1\n",
      "1\n",
      "1\n",
      "1\n",
      "1\n",
      "1\n",
      "1\n",
      "1\n",
      "1\n",
      "1\n",
      "1\n",
      "1\n",
      "1\n",
      "1\n",
      "1\n",
      "1\n",
      "1\n",
      "1\n",
      "1\n",
      "1\n",
      "1\n",
      "1\n",
      "1\n",
      "1\n",
      "1\n",
      "1\n",
      "1\n",
      "1\n",
      "1\n",
      "1\n",
      "1\n",
      "1\n",
      "1\n",
      "1\n",
      "1\n",
      "1\n",
      "1\n",
      "1\n",
      "1\n",
      "1\n",
      "1\n",
      "1\n",
      "1\n",
      "1\n",
      "1\n",
      "1\n",
      "1\n",
      "1\n",
      "1\n",
      "1\n",
      "1\n",
      "1\n",
      "1\n",
      "1\n",
      "1\n",
      "1\n",
      "1\n",
      "1\n",
      "1\n",
      "1\n",
      "1\n",
      "1\n",
      "1\n",
      "1\n",
      "1\n",
      "1\n",
      "1\n",
      "1\n",
      "1\n",
      "1\n",
      "1\n",
      "1\n",
      "1\n",
      "1\n",
      "1\n",
      "1\n",
      "1\n",
      "1\n",
      "1\n",
      "1\n",
      "1\n",
      "1\n",
      "1\n",
      "1\n",
      "1\n",
      "1\n",
      "1\n",
      "1\n",
      "1\n",
      "1\n",
      "1\n",
      "1\n",
      "1\n",
      "1\n",
      "1\n",
      "1\n",
      "1\n",
      "1\n",
      "1\n",
      "1\n",
      "1\n",
      "1\n",
      "1\n",
      "1\n",
      "1\n",
      "1\n",
      "1\n",
      "1\n",
      "1\n",
      "1\n",
      "1\n",
      "1\n",
      "1\n",
      "1\n",
      "1\n",
      "1\n",
      "1\n",
      "1\n",
      "1\n",
      "1\n",
      "1\n",
      "1\n",
      "1\n",
      "1\n",
      "1\n",
      "1\n",
      "1\n",
      "1\n",
      "1\n",
      "1\n",
      "1\n",
      "1\n",
      "1\n",
      "1\n",
      "1\n",
      "1\n",
      "1\n",
      "1\n",
      "1\n",
      "1\n",
      "1\n",
      "1\n",
      "1\n",
      "1\n",
      "1\n",
      "1\n",
      "1\n",
      "1\n",
      "1\n",
      "1\n",
      "1\n",
      "1\n",
      "1\n",
      "1\n",
      "1\n",
      "1\n",
      "1\n",
      "1\n",
      "1\n",
      "1\n",
      "1\n",
      "1\n",
      "1\n",
      "1\n",
      "1\n",
      "1\n",
      "1\n",
      "1\n",
      "1\n",
      "1\n",
      "[[285, 1, 0, 0, 0, 0], [489, 1, 0, 0, 0, 0], [284, 1, 0, 0, 0, 0], [528, 1, 0, 0, 0, 0], [468, 1, 0, 0, 0, 0], [700, 1, 0, 0, 0, 0], [374, 1, 0, 0, 0, 0], [245, 1, 0, 0, 0, 0], [452, 1, 0, 0, 0, 0], [381, 1, 0, 0, 0, 0], [404, 1, 0, 0, 0, 0], [307, 1, 0, 0, 0, 0], [386, 1, 0, 0, 0, 0], [444, 1, 0, 0, 0, 0], [590, 1, 0, 0, 0, 0], [268, 1, 0, 0, 0, 0], [477, 1, 0, 0, 0, 0], [592, 1, 0, 0, 0, 0], [400, 1, 0, 0, 0, 0], [624, 1, 0, 0, 0, 0], [519, 1, 0, 0, 0, 0], [667, 1, 0, 0, 0, 0], [173, 1, 0, 0, 0, 0], [207, 1, 0, 0, 0, 0], [322, 1, 0, 0, 0, 0], [228, 1, 0, 0, 0, 0], [674, 1, 0, 0, 0, 0], [481, 1, 0, 0, 0, 0], [500, 1, 0, 0, 0, 0], [139, 1, 0, 0, 0, 0], [704, 1, 0, 0, 0, 0], [515, 1, 0, 0, 0, 0], [578, 1, 0, 0, 0, 0], [251, 1, 0, 0, 0, 0], [504, 1, 0, 0, 0, 0], [170, 1, 0, 0, 0, 0], [191, 1, 0, 0, 0, 0], [164, 1, 0, 0, 0, 0], [275, 1, 0, 0, 0, 0], [229, 1, 0, 0, 0, 0], [650, 1, 0, 0, 0, 0], [162, 1, 0, 0, 0, 0], [582, 1, 0, 0, 0, 0], [372, 1, 0, 0, 0, 0], [622, 1, 0, 0, 0, 0], [672, 1, 0, 0, 0, 0], [616, 1, 0, 0, 0, 0], [491, 1, 0, 0, 0, 0], [388, 1, 0, 0, 0, 0], [243, 1, 0, 0, 0, 0], [621, 1, 0, 0, 0, 0], [136, 1, 0, 0, 0, 0], [708, 1, 0, 0, 0, 0], [353, 1, 0, 0, 0, 0], [344, 1, 0, 0, 0, 0], [556, 1, 0, 0, 0, 0], [574, 1, 0, 0, 0, 0], [176, 1, 0, 0, 0, 0], [412, 1, 0, 0, 0, 0], [387, 1, 0, 0, 0, 0], [670, 1, 0, 0, 0, 0], [393, 1, 0, 0, 0, 0], [368, 1, 0, 0, 0, 0], [499, 1, 0, 0, 0, 0], [688, 1, 0, 0, 0, 0], [181, 1, 0, 0, 0, 0], [680, 1, 0, 0, 0, 0], [521, 1, 0, 0, 0, 0], [361, 1, 0, 0, 0, 0], [345, 1, 0, 0, 0, 0], [252, 1, 0, 0, 0, 0], [539, 1, 0, 0, 0, 0], [663, 1, 0, 0, 0, 0], [308, 1, 0, 0, 0, 0], [685, 1, 0, 0, 0, 0], [279, 1, 0, 0, 0, 0], [434, 1, 0, 0, 0, 0], [654, 1, 0, 0, 0, 0], [449, 1, 0, 0, 0, 0], [545, 1, 0, 0, 0, 0], [320, 1, 0, 0, 0, 0], [258, 1, 0, 0, 0, 0], [273, 1, 0, 0, 0, 0], [235, 0, 0, 0, 1, 0], [384, 0, 0, 0, 1, 0], [428, 0, 0, 0, 1, 0], [579, 0, 0, 0, 1, 0], [485, 0, 0, 0, 1, 0], [661, 0, 0, 0, 1, 0], [238, 1, 0, 0, 0, 0], [318, 0, 0, 0, 1, 0], [179, 0, 0, 0, 1, 0], [293, 0, 0, 0, 1, 0], [280, 0, 0, 0, 1, 0], [426, 0, 0, 0, 1, 0], [323, 0, 0, 0, 1, 0], [715, 0, 0, 0, 1, 0], [380, 0, 0, 0, 1, 0], [407, 0, 0, 0, 1, 0], [723, 0, 0, 0, 1, 0], [682, 1, 0, 0, 0, 0], [390, 0, 0, 0, 1, 0], [602, 0, 0, 0, 1, 0], [304, 0, 0, 0, 1, 0], [382, 0, 0, 0, 1, 0], [276, 0, 0, 0, 1, 0], [725, 0, 0, 0, 1, 0], [472, 0, 0, 0, 1, 0], [593, 0, 0, 0, 1, 0], [459, 0, 0, 0, 1, 0], [567, 0, 0, 0, 1, 0], [508, 1, 0, 0, 0, 0], [639, 1, 0, 0, 0, 0], [572, 0, 0, 0, 1, 0], [653, 0, 0, 0, 1, 0], [443, 0, 0, 0, 1, 0], [613, 0, 0, 0, 1, 0], [230, 0, 0, 0, 1, 0], [326, 0, 0, 0, 1, 0], [649, 0, 0, 0, 1, 0], [190, 0, 0, 0, 1, 0], [422, 0, 0, 0, 1, 0], [242, 0, 0, 0, 1, 0], [132, 1, 0, 0, 0, 0], [189, 0, 0, 0, 1, 0], [309, 0, 0, 0, 1, 0], [239, 0, 0, 0, 1, 0], [689, 0, 0, 0, 1, 0], [456, 0, 0, 0, 1, 0], [147, 0, 0, 0, 1, 0], [716, 0, 0, 0, 1, 0], [180, 0, 0, 0, 1, 0], [265, 0, 0, 0, 1, 0], [332, 0, 0, 0, 1, 0], [143, 1, 0, 0, 0, 0], [450, 0, 0, 0, 1, 0], [657, 0, 0, 0, 1, 0], [677, 0, 0, 0, 1, 0], [420, 0, 0, 0, 1, 0], [617, 0, 0, 0, 1, 0], [544, 0, 0, 0, 1, 0], [186, 0, 0, 0, 1, 0], [156, 0, 0, 0, 1, 0], [225, 0, 0, 0, 1, 0], [138, 0, 0, 0, 1, 0], [198, 1, 0, 0, 0, 0], [419, 0, 0, 0, 1, 0], [192, 0, 0, 1, 0, 0], [394, 0, 0, 1, 0, 0], [355, 0, 0, 1, 0, 0], [140, 0, 0, 1, 0, 0], [246, 0, 0, 1, 0, 0], [291, 0, 0, 1, 0, 0], [336, 0, 0, 1, 0, 0], [633, 0, 0, 1, 0, 0], [559, 0, 0, 1, 0, 0], [281, 1, 0, 0, 0, 0], [538, 0, 0, 1, 0, 0], [498, 0, 0, 1, 0, 0], [698, 0, 0, 1, 0, 0], [253, 0, 0, 1, 0, 0], [165, 0, 0, 1, 0, 0], [260, 0, 0, 1, 0, 0], [497, 0, 0, 1, 0, 0], [626, 0, 0, 1, 0, 0], [702, 0, 0, 1, 0, 0], [429, 0, 0, 1, 0, 0], [338, 1, 0, 0, 0, 0], [257, 0, 0, 1, 0, 0], [188, 0, 0, 1, 0, 0], [595, 0, 0, 1, 0, 0], [342, 0, 0, 1, 0, 0], [601, 0, 0, 1, 0, 0], [277, 0, 0, 1, 0, 0], [401, 0, 0, 1, 0, 0], [417, 0, 0, 1, 0, 0], [214, 0, 0, 1, 0, 0], [254, 0, 0, 1, 0, 0], [410, 1, 0, 0, 0, 0], [464, 0, 0, 1, 0, 0], [157, 0, 0, 1, 0, 0], [569, 0, 0, 1, 0, 0], [396, 0, 0, 1, 0, 0], [263, 0, 0, 1, 0, 0], [299, 0, 0, 1, 0, 0], [496, 0, 0, 1, 0, 0], [604, 0, 0, 1, 0, 0], [686, 0, 0, 1, 0, 0], [690, 0, 0, 1, 0, 0], [195, 1, 0, 0, 0, 0], [134, 0, 0, 1, 0, 0], [208, 0, 0, 1, 0, 0], [509, 0, 0, 1, 0, 0], [197, 0, 0, 1, 0, 0], [241, 0, 0, 1, 0, 0], [526, 0, 0, 1, 0, 0], [177, 0, 0, 1, 0, 0], [204, 0, 0, 1, 0, 0], [145, 0, 0, 1, 0, 0], [614, 0, 0, 1, 0, 0], [619, 1, 0, 0, 0, 0], [364, 0, 0, 1, 0, 0], [553, 0, 0, 1, 0, 0], [605, 0, 0, 1, 0, 0], [437, 0, 0, 1, 0, 0], [423, 0, 0, 1, 0, 0], [385, 0, 0, 1, 0, 0], [433, 0, 0, 1, 0, 0], [523, 0, 0, 1, 0, 0], [606, 0, 0, 1, 0, 0], [695, 0, 0, 1, 0, 0], [378, 1, 0, 0, 0, 0], [303, 0, 0, 1, 0, 0], [660, 0, 0, 1, 0, 0], [266, 0, 0, 1, 0, 0], [360, 0, 0, 1, 0, 0], [543, 0, 0, 1, 0, 0], [701, 0, 0, 1, 0, 0], [357, 0, 0, 1, 0, 0], [681, 0, 0, 1, 0, 0], [562, 0, 0, 1, 0, 0], [442, 0, 0, 1, 0, 0], [224, 1, 0, 0, 0, 0], [635, 1, 0, 0, 0, 0], [460, 0, 0, 1, 0, 0], [699, 0, 0, 1, 0, 0], [312, 0, 0, 1, 0, 0], [679, 0, 0, 1, 0, 0], [333, 0, 0, 1, 0, 0], [726, 0, 0, 1, 0, 0], [352, 0, 0, 1, 0, 0], [178, 0, 0, 0, 0, 1], [274, 0, 0, 0, 0, 1], [644, 0, 0, 0, 0, 1], [724, 1, 0, 0, 0, 0], [365, 0, 0, 0, 0, 1], [707, 0, 0, 0, 0, 1], [249, 0, 0, 0, 0, 1], [248, 0, 0, 0, 0, 1], [272, 0, 0, 0, 0, 1], [155, 0, 0, 0, 0, 1], [295, 0, 0, 0, 0, 1], [493, 0, 0, 0, 0, 1], [591, 0, 0, 0, 0, 1], [609, 0, 0, 0, 0, 1], [432, 1, 0, 0, 0, 0], [194, 0, 0, 0, 0, 1], [389, 0, 0, 0, 0, 1], [706, 0, 0, 0, 0, 1], [524, 0, 0, 0, 0, 1], [148, 0, 0, 0, 0, 1], [174, 0, 0, 0, 0, 1], [552, 0, 0, 0, 0, 1], [455, 0, 0, 0, 0, 1], [549, 0, 0, 0, 0, 1], [684, 0, 0, 0, 0, 1], [328, 1, 0, 0, 0, 0], [415, 0, 0, 0, 0, 1], [168, 0, 0, 0, 0, 1], [530, 0, 0, 0, 0, 1], [237, 0, 0, 0, 0, 1], [324, 0, 0, 0, 0, 1], [146, 0, 0, 0, 0, 1], [510, 0, 0, 0, 0, 1], [215, 0, 0, 0, 0, 1], [570, 0, 0, 0, 0, 1], [311, 0, 0, 0, 0, 1], [223, 1, 0, 0, 0, 0], [711, 0, 0, 0, 0, 1], [292, 0, 0, 0, 0, 1], [642, 0, 0, 0, 0, 1], [319, 0, 0, 0, 0, 1], [440, 0, 0, 0, 0, 1], [676, 0, 0, 0, 0, 1], [458, 0, 0, 0, 0, 1], [453, 0, 0, 0, 0, 1], [205, 0, 0, 0, 0, 1], [144, 0, 0, 0, 0, 1], [184, 1, 0, 0, 0, 0], [383, 0, 0, 0, 0, 1], [343, 0, 0, 0, 0, 1], [159, 0, 0, 0, 0, 1], [714, 0, 0, 0, 0, 1], [331, 0, 0, 0, 0, 1], [550, 0, 0, 0, 0, 1], [692, 0, 0, 0, 0, 1], [536, 0, 0, 0, 0, 1], [348, 0, 0, 0, 0, 1], [717, 0, 0, 0, 0, 1], [581, 1, 0, 0, 0, 0], [470, 0, 0, 0, 0, 1], [694, 0, 0, 0, 0, 1], [531, 0, 0, 0, 0, 1], [630, 0, 0, 0, 0, 1], [483, 0, 0, 0, 0, 1], [712, 0, 0, 0, 0, 1], [643, 0, 0, 0, 0, 1], [673, 0, 0, 0, 0, 1], [376, 0, 0, 0, 0, 1], [471, 0, 0, 0, 0, 1], [467, 1, 0, 0, 0, 0], [377, 0, 0, 0, 0, 1], [351, 0, 0, 0, 0, 1], [314, 0, 0, 0, 0, 1], [558, 0, 0, 0, 0, 1], [375, 0, 0, 0, 0, 1], [634, 0, 0, 0, 0, 1], [222, 0, 0, 0, 0, 1], [408, 0, 0, 0, 0, 1], [557, 0, 0, 0, 0, 1], [391, 0, 0, 0, 0, 1], [577, 1, 0, 0, 0, 0], [167, 0, 0, 0, 0, 1], [454, 0, 0, 0, 0, 1], [486, 0, 0, 0, 0, 1], [658, 0, 0, 0, 0, 1], [288, 0, 0, 0, 0, 1], [671, 0, 0, 0, 0, 1], [542, 0, 0, 0, 0, 1], [325, 0, 0, 0, 0, 1], [662, 0, 0, 0, 0, 1], [211, 0, 0, 0, 0, 1], [441, 1, 0, 0, 0, 0], [534, 0, 0, 0, 0, 1], [371, 0, 0, 0, 0, 1], [337, 0, 0, 0, 0, 1], [436, 0, 0, 0, 0, 1], [202, 0, 0, 0, 0, 1], [161, 0, 0, 0, 0, 1], [637, 0, 0, 0, 0, 1], [234, 0, 0, 0, 0, 1], [546, 0, 1, 0, 0, 0], [356, 0, 1, 0, 0, 0], [651, 1, 0, 0, 0, 0], [321, 1, 0, 0, 0, 0], [563, 0, 1, 0, 0, 0], [511, 0, 1, 0, 0, 0], [135, 0, 1, 0, 0, 0], [219, 0, 1, 0, 0, 0], [457, 0, 1, 0, 0, 0], [425, 0, 1, 0, 0, 0], [439, 0, 1, 0, 0, 0], [244, 0, 1, 0, 0, 0], [473, 0, 1, 0, 0, 0], [683, 0, 1, 0, 0, 0], [586, 1, 0, 0, 0, 0], [373, 0, 1, 0, 0, 0], [446, 0, 1, 0, 0, 0], [397, 0, 1, 0, 0, 0], [302, 0, 1, 0, 0, 0], [451, 0, 1, 0, 0, 0], [647, 0, 1, 0, 0, 0], [199, 0, 1, 0, 0, 0], [200, 0, 1, 0, 0, 0], [427, 0, 1, 0, 0, 0], [271, 0, 1, 0, 0, 0], [183, 1, 0, 0, 0, 0], [366, 0, 1, 0, 0, 0], [597, 0, 1, 0, 0, 0], [142, 0, 1, 0, 0, 0], [646, 0, 1, 0, 0, 0], [334, 0, 1, 0, 0, 0], [301, 0, 1, 0, 0, 0], [502, 0, 1, 0, 0, 0], [709, 0, 1, 0, 0, 0], [232, 0, 1, 0, 0, 0], [587, 0, 1, 0, 0, 0], [409, 1, 0, 0, 0, 0], [478, 0, 1, 0, 0, 0], [705, 0, 1, 0, 0, 0], [541, 0, 1, 0, 0, 0], [571, 0, 1, 0, 0, 0], [669, 0, 1, 0, 0, 0], [599, 0, 1, 0, 0, 0], [247, 0, 1, 0, 0, 0], [594, 0, 1, 0, 0, 0], [171, 0, 1, 0, 0, 0], [720, 0, 1, 0, 0, 0], [329, 1, 0, 0, 0, 0], [435, 0, 1, 0, 0, 0], [655, 0, 1, 0, 0, 0], [262, 0, 1, 0, 0, 0], [416, 0, 1, 0, 0, 0], [315, 0, 1, 0, 0, 0], [576, 0, 1, 0, 0, 0], [418, 0, 1, 0, 0, 0], [565, 0, 1, 0, 0, 0], [516, 0, 1, 0, 0, 0], [625, 0, 1, 0, 0, 0], [175, 1, 0, 0, 0, 0], [507, 0, 1, 0, 0, 0], [693, 0, 1, 0, 0, 0], [520, 0, 1, 0, 0, 0], [475, 0, 1, 0, 0, 0], [666, 0, 1, 0, 0, 0], [447, 0, 1, 0, 0, 0], [560, 0, 1, 0, 0, 0], [488, 0, 1, 0, 0, 0], [610, 0, 1, 0, 0, 0], [628, 0, 1, 0, 0, 0], [589, 1, 0, 0, 0, 0], [466, 0, 1, 0, 0, 0], [710, 0, 1, 0, 0, 0], [631, 0, 1, 0, 0, 0], [236, 0, 1, 0, 0, 0], [469, 0, 1, 0, 0, 0], [584, 0, 1, 0, 0, 0], [335, 0, 1, 0, 0, 0], [636, 0, 1, 0, 0, 0], [665, 0, 1, 0, 0, 0], [522, 0, 1, 0, 0, 0], [484, 1, 0, 0, 0, 0], [514, 0, 1, 0, 0, 0], [548, 0, 1, 0, 0, 0], [278, 0, 1, 0, 0, 0], [547, 0, 1, 0, 0, 0], [675, 0, 1, 0, 0, 0], [722, 0, 1, 0, 0, 0], [221, 0, 1, 0, 0, 0], [620, 0, 1, 0, 0, 0], [532, 0, 1, 0, 0, 0], [554, 0, 1, 0, 0, 0], [150, 1, 0, 0, 0, 0], [585, 0, 1, 0, 0, 0], [618, 0, 1, 0, 0, 0], [438, 0, 1, 0, 0, 0], [402, 0, 1, 0, 0, 0], [153, 0, 1, 0, 0, 0], [347, 0, 1, 0, 0, 0], [182, 0, 1, 0, 0, 0], [306, 0, 1, 0, 0, 0], [250, 0, 1, 0, 0, 0], [629, 0, 1, 0, 0, 0], [627, 1, 0, 0, 0, 0], [575, 0, 1, 0, 0, 0], [537, 0, 1, 0, 0, 0], [513, 0, 1, 0, 0, 0], [203, 0, 1, 0, 0, 0], [226, 0, 1, 0, 0, 0], [220, 0, 1, 0, 0, 0], [149, 0, 1, 0, 0, 0], [399, 0, 1, 0, 0, 0], [596, 0, 1, 0, 0, 0], [533, 0, 1, 0, 0, 0], [687, 1, 0, 0, 0, 0], [349, 1, 0, 0, 0, 0], [529, 0, 1, 0, 0, 0], [421, 0, 1, 0, 0, 0], [294, 0, 1, 0, 0, 0], [379, 0, 1, 0, 0, 0], [645, 0, 1, 0, 0, 0], [479, 0, 1, 0, 0, 0], [641, 0, 1, 0, 0, 0], [608, 0, 1, 0, 0, 0], [638, 0, 1, 0, 0, 0], [327, 0, 1, 0, 0, 0], [152, 1, 0, 0, 0, 0], [256, 0, 1, 0, 0, 0], [525, 0, 1, 0, 0, 0], [664, 0, 1, 0, 0, 0], [573, 0, 1, 0, 0, 0], [612, 0, 1, 0, 0, 0], [133, 0, 1, 0, 0, 0], [463, 0, 1, 0, 0, 0], [185, 0, 1, 0, 0, 0], [503, 0, 1, 0, 0, 0], [424, 0, 1, 0, 0, 0], [588, 1, 0, 0, 0, 0], [317, 0, 1, 0, 0, 0], [398, 0, 1, 0, 0, 0], [367, 0, 1, 0, 0, 0], [233, 0, 1, 0, 0, 0], [640, 0, 1, 0, 0, 0], [495, 0, 1, 0, 0, 0], [350, 0, 1, 0, 0, 0], [286, 0, 1, 0, 0, 0], [517, 0, 1, 0, 0, 0], [564, 0, 1, 0, 0, 0], [465, 1, 0, 0, 0, 0], [316, 0, 1, 0, 0, 0], [403, 0, 1, 0, 0, 0], [217, 0, 1, 0, 0, 0], [163, 0, 1, 0, 0, 0], [154, 0, 1, 0, 0, 0], [287, 0, 1, 0, 0, 0], [678, 0, 1, 0, 0, 0], [490, 0, 1, 0, 0, 0], [218, 0, 1, 0, 0, 0], [413, 0, 1, 0, 0, 0], [632, 1, 0, 0, 0, 0], [270, 0, 1, 0, 0, 0], [282, 0, 1, 0, 0, 0], [448, 0, 1, 0, 0, 0], [505, 0, 1, 0, 0, 0], [568, 0, 1, 0, 0, 0], [290, 0, 1, 0, 0, 0], [213, 0, 1, 0, 0, 0], [310, 0, 1, 0, 0, 0], [611, 0, 1, 0, 0, 0], [603, 0, 1, 0, 0, 0], [358, 1, 0, 0, 0, 0], [648, 0, 1, 0, 0, 0], [305, 0, 1, 0, 0, 0], [354, 0, 1, 0, 0, 0], [193, 0, 1, 0, 0, 0], [216, 0, 1, 0, 0, 0], [696, 0, 1, 0, 0, 0], [392, 0, 1, 0, 0, 0], [158, 0, 1, 0, 0, 0], [461, 0, 1, 0, 0, 0], [267, 0, 1, 0, 0, 0], [151, 1, 0, 0, 0, 0], [259, 0, 1, 0, 0, 0], [474, 0, 1, 0, 0, 0], [583, 0, 1, 0, 0, 0], [512, 0, 1, 0, 0, 0], [551, 0, 1, 0, 0, 0], [445, 0, 1, 0, 0, 0], [482, 0, 1, 0, 0, 0], [476, 0, 1, 0, 0, 0], [231, 0, 1, 0, 0, 0], [369, 0, 1, 0, 0, 0], [169, 1, 0, 0, 0, 0], [346, 0, 1, 0, 0, 0], [487, 0, 1, 0, 0, 0], [668, 0, 1, 0, 0, 0], [313, 0, 1, 0, 0, 0], [518, 0, 1, 0, 0, 0], [240, 0, 1, 0, 0, 0], [406, 0, 1, 0, 0, 0], [718, 0, 1, 0, 0, 0], [187, 0, 1, 0, 0, 0], [535, 0, 1, 0, 0, 0], [480, 1, 0, 0, 0, 0], [206, 0, 1, 0, 0, 0], [264, 0, 1, 0, 0, 0], [370, 0, 1, 0, 0, 0], [227, 0, 1, 0, 0, 0], [462, 0, 1, 0, 0, 0], [359, 0, 1, 0, 0, 0], [296, 0, 1, 0, 0, 0], [598, 0, 1, 0, 0, 0], [411, 0, 1, 0, 0, 0], [298, 0, 1, 0, 0, 0], [659, 1, 0, 0, 0, 0], [300, 0, 1, 0, 0, 0], [623, 0, 1, 0, 0, 0], [721, 0, 1, 0, 0, 0], [330, 0, 1, 0, 0, 0], [341, 0, 1, 0, 0, 0], [210, 1, 0, 0, 0, 0], [555, 1, 0, 0, 0, 0], [494, 1, 0, 0, 0, 0], [261, 1, 0, 0, 0, 0], [339, 1, 0, 0, 0, 0], [255, 1, 0, 0, 0, 0], [713, 1, 0, 0, 0, 0], [212, 1, 0, 0, 0, 0], [141, 1, 0, 0, 0, 0], [289, 1, 0, 0, 0, 0], [566, 1, 0, 0, 0, 0], [209, 1, 0, 0, 0, 0], [607, 1, 0, 0, 0, 0], [137, 1, 0, 0, 0, 0], [580, 1, 0, 0, 0, 0], [501, 1, 0, 0, 0, 0], [703, 1, 0, 0, 0, 0], [492, 1, 0, 0, 0, 0], [201, 1, 0, 0, 0, 0], [160, 1, 0, 0, 0, 0], [719, 1, 0, 0, 0, 0], [363, 1, 0, 0, 0, 0], [269, 1, 0, 0, 0, 0], [414, 1, 0, 0, 0, 0], [172, 1, 0, 0, 0, 0], [561, 1, 0, 0, 0, 0], [656, 1, 0, 0, 0, 0], [395, 1, 0, 0, 0, 0], [652, 1, 0, 0, 0, 0], [405, 1, 0, 0, 0, 0], [615, 1, 0, 0, 0, 0], [362, 1, 0, 0, 0, 0], [166, 1, 0, 0, 0, 0], [600, 1, 0, 0, 0, 0], [527, 1, 0, 0, 0, 0], [196, 1, 0, 0, 0, 0], [297, 1, 0, 0, 0, 0], [283, 1, 0, 0, 0, 0], [697, 1, 0, 0, 0, 0], [540, 1, 0, 0, 0, 0], [431, 1, 0, 0, 0, 0], [506, 1, 0, 0, 0, 0], [430, 1, 0, 0, 0, 0], [691, 1, 0, 0, 0, 0], [340, 1, 0, 0, 0, 0]]\n"
     ]
    }
   ],
   "source": [
    "#计算社区里每个耳鸣分类的占比脾胃亏虚肾精亏损痰火郁结肝火上扰\n",
    "communityIds=data2_[\"communityId\"].unique()\n",
    "community_datas=[]\n",
    "for community_id in communityIds:\n",
    "    community_pwkx=[]\n",
    "    community_sjks=[]\n",
    "    community_thyj=[]\n",
    "    community_frqx=[]\n",
    "    community_ghsr=[]\n",
    "    for i in range(len(data2_)):\n",
    "        patient_item=data2_[\"name\"][i]\n",
    "        communityId=data2_[\"communityId\"][i]\n",
    "        if communityId==community_id:\n",
    "            if patient_item in pwkx:\n",
    "                community_pwkx.append(patient_item)\n",
    "                # print(patient_item,\"脾胃亏虚\")\n",
    "            if patient_item in sjks:\n",
    "                community_sjks.append(patient_item)\n",
    "                # print(patient_item,\"肾精亏损\")\n",
    "            if patient_item in thyj:\n",
    "                community_thyj.append(patient_item)\n",
    "                # print(patient_item,\"痰火郁结\")\n",
    "            if patient_item in frqx:\n",
    "                community_frqx.append(patient_item)\n",
    "                # print(patient_item,\"风热侵袭\")\n",
    "            if patient_item in ghsr:\n",
    "                community_ghsr.append(patient_item)\n",
    "                # print(patient_item,\"肝火上扰\")\n",
    "    community_data=[community_id,len(community_pwkx),len(community_sjks),len(community_thyj),len(community_frqx),len(community_ghsr)]            \n",
    "    sum_community=len(community_pwkx)+len(community_sjks)+len(community_thyj)+len(community_frqx)+len(community_ghsr)\n",
    "    print(sum_community)\n",
    "    # print(community_id,sum_community,\"脾胃亏虚\",len(community_pwkx),\"肾精亏损\",len(community_sjks),\"痰火郁结\",len(community_thyj),\"风热侵袭\",len(community_frqx),\"肝火上扰\",len(community_ghsr))\n",
    "    community_datas.append(community_data)\n",
    "print(community_datas)\n",
    "    "
   ]
  },
  {
   "cell_type": "markdown",
   "id": "2d8643ea-8d2b-4a86-99ab-f8b690ba1527",
   "metadata": {},
   "source": [
    "## 保存Louvain准确率结果\n"
   ]
  },
  {
   "cell_type": "code",
   "execution_count": 27,
   "id": "e42dc987-53fb-4d80-aa32-61baaeb3944d",
   "metadata": {},
   "outputs": [
    {
     "data": {
      "application/javascript": [
       "\n",
       "        if (window._pyforest_update_imports_cell) { window._pyforest_update_imports_cell('import pandas as pd'); }\n",
       "    "
      ],
      "text/plain": [
       "<IPython.core.display.Javascript object>"
      ]
     },
     "metadata": {},
     "output_type": "display_data"
    },
    {
     "data": {
      "text/html": [
       "<div>\n",
       "<style scoped>\n",
       "    .dataframe tbody tr th:only-of-type {\n",
       "        vertical-align: middle;\n",
       "    }\n",
       "\n",
       "    .dataframe tbody tr th {\n",
       "        vertical-align: top;\n",
       "    }\n",
       "\n",
       "    .dataframe thead th {\n",
       "        text-align: right;\n",
       "    }\n",
       "</style>\n",
       "<table border=\"1\" class=\"dataframe\">\n",
       "  <thead>\n",
       "    <tr style=\"text-align: right;\">\n",
       "      <th></th>\n",
       "      <th>communityId</th>\n",
       "      <th>脾胃亏虚</th>\n",
       "      <th>肾精亏损</th>\n",
       "      <th>痰火郁结</th>\n",
       "      <th>风热侵袭</th>\n",
       "      <th>肝火上扰</th>\n",
       "    </tr>\n",
       "  </thead>\n",
       "  <tbody>\n",
       "    <tr>\n",
       "      <th>0</th>\n",
       "      <td>285</td>\n",
       "      <td>1</td>\n",
       "      <td>0</td>\n",
       "      <td>0</td>\n",
       "      <td>0</td>\n",
       "      <td>0</td>\n",
       "    </tr>\n",
       "    <tr>\n",
       "      <th>1</th>\n",
       "      <td>489</td>\n",
       "      <td>1</td>\n",
       "      <td>0</td>\n",
       "      <td>0</td>\n",
       "      <td>0</td>\n",
       "      <td>0</td>\n",
       "    </tr>\n",
       "    <tr>\n",
       "      <th>2</th>\n",
       "      <td>284</td>\n",
       "      <td>1</td>\n",
       "      <td>0</td>\n",
       "      <td>0</td>\n",
       "      <td>0</td>\n",
       "      <td>0</td>\n",
       "    </tr>\n",
       "    <tr>\n",
       "      <th>3</th>\n",
       "      <td>528</td>\n",
       "      <td>1</td>\n",
       "      <td>0</td>\n",
       "      <td>0</td>\n",
       "      <td>0</td>\n",
       "      <td>0</td>\n",
       "    </tr>\n",
       "    <tr>\n",
       "      <th>4</th>\n",
       "      <td>468</td>\n",
       "      <td>1</td>\n",
       "      <td>0</td>\n",
       "      <td>0</td>\n",
       "      <td>0</td>\n",
       "      <td>0</td>\n",
       "    </tr>\n",
       "    <tr>\n",
       "      <th>...</th>\n",
       "      <td>...</td>\n",
       "      <td>...</td>\n",
       "      <td>...</td>\n",
       "      <td>...</td>\n",
       "      <td>...</td>\n",
       "      <td>...</td>\n",
       "    </tr>\n",
       "    <tr>\n",
       "      <th>590</th>\n",
       "      <td>431</td>\n",
       "      <td>1</td>\n",
       "      <td>0</td>\n",
       "      <td>0</td>\n",
       "      <td>0</td>\n",
       "      <td>0</td>\n",
       "    </tr>\n",
       "    <tr>\n",
       "      <th>591</th>\n",
       "      <td>506</td>\n",
       "      <td>1</td>\n",
       "      <td>0</td>\n",
       "      <td>0</td>\n",
       "      <td>0</td>\n",
       "      <td>0</td>\n",
       "    </tr>\n",
       "    <tr>\n",
       "      <th>592</th>\n",
       "      <td>430</td>\n",
       "      <td>1</td>\n",
       "      <td>0</td>\n",
       "      <td>0</td>\n",
       "      <td>0</td>\n",
       "      <td>0</td>\n",
       "    </tr>\n",
       "    <tr>\n",
       "      <th>593</th>\n",
       "      <td>691</td>\n",
       "      <td>1</td>\n",
       "      <td>0</td>\n",
       "      <td>0</td>\n",
       "      <td>0</td>\n",
       "      <td>0</td>\n",
       "    </tr>\n",
       "    <tr>\n",
       "      <th>594</th>\n",
       "      <td>340</td>\n",
       "      <td>1</td>\n",
       "      <td>0</td>\n",
       "      <td>0</td>\n",
       "      <td>0</td>\n",
       "      <td>0</td>\n",
       "    </tr>\n",
       "  </tbody>\n",
       "</table>\n",
       "<p>595 rows × 6 columns</p>\n",
       "</div>"
      ],
      "text/plain": [
       "     communityId  脾胃亏虚  肾精亏损  痰火郁结  风热侵袭  肝火上扰\n",
       "0            285     1     0     0     0     0\n",
       "1            489     1     0     0     0     0\n",
       "2            284     1     0     0     0     0\n",
       "3            528     1     0     0     0     0\n",
       "4            468     1     0     0     0     0\n",
       "..           ...   ...   ...   ...   ...   ...\n",
       "590          431     1     0     0     0     0\n",
       "591          506     1     0     0     0     0\n",
       "592          430     1     0     0     0     0\n",
       "593          691     1     0     0     0     0\n",
       "594          340     1     0     0     0     0\n",
       "\n",
       "[595 rows x 6 columns]"
      ]
     },
     "execution_count": 27,
     "metadata": {},
     "output_type": "execute_result"
    }
   ],
   "source": [
    "community_result=pd.DataFrame(data=community_datas,columns=['communityId','脾胃亏虚','肾精亏损','痰火郁结','风热侵袭','肝火上扰'])\n",
    "community_result.to_csv(\"./outData/dataAll_louvain_result权重.csv\")\n",
    "community_result"
   ]
  },
  {
   "cell_type": "markdown",
   "id": "86e700a9-f46c-48fd-b09c-56ae8596f472",
   "metadata": {},
   "source": [
    "## 保存leiden准确率结果\n"
   ]
  },
  {
   "cell_type": "code",
   "execution_count": 35,
   "id": "cdb08115-6641-47dc-a5a2-a8a32321f4a7",
   "metadata": {},
   "outputs": [
    {
     "data": {
      "application/javascript": [
       "\n",
       "        if (window._pyforest_update_imports_cell) { window._pyforest_update_imports_cell('import pandas as pd'); }\n",
       "    "
      ],
      "text/plain": [
       "<IPython.core.display.Javascript object>"
      ]
     },
     "metadata": {},
     "output_type": "display_data"
    },
    {
     "data": {
      "text/html": [
       "<div>\n",
       "<style scoped>\n",
       "    .dataframe tbody tr th:only-of-type {\n",
       "        vertical-align: middle;\n",
       "    }\n",
       "\n",
       "    .dataframe tbody tr th {\n",
       "        vertical-align: top;\n",
       "    }\n",
       "\n",
       "    .dataframe thead th {\n",
       "        text-align: right;\n",
       "    }\n",
       "</style>\n",
       "<table border=\"1\" class=\"dataframe\">\n",
       "  <thead>\n",
       "    <tr style=\"text-align: right;\">\n",
       "      <th></th>\n",
       "      <th>communityId</th>\n",
       "      <th>脾胃亏虚</th>\n",
       "      <th>肾精亏损</th>\n",
       "      <th>痰火郁结</th>\n",
       "      <th>风热侵袭</th>\n",
       "      <th>肝火上扰</th>\n",
       "    </tr>\n",
       "  </thead>\n",
       "  <tbody>\n",
       "    <tr>\n",
       "      <th>0</th>\n",
       "      <td>248</td>\n",
       "      <td>174</td>\n",
       "      <td>0</td>\n",
       "      <td>0</td>\n",
       "      <td>0</td>\n",
       "      <td>0</td>\n",
       "    </tr>\n",
       "    <tr>\n",
       "      <th>1</th>\n",
       "      <td>337</td>\n",
       "      <td>0</td>\n",
       "      <td>0</td>\n",
       "      <td>0</td>\n",
       "      <td>57</td>\n",
       "      <td>0</td>\n",
       "    </tr>\n",
       "    <tr>\n",
       "      <th>2</th>\n",
       "      <td>373</td>\n",
       "      <td>0</td>\n",
       "      <td>0</td>\n",
       "      <td>76</td>\n",
       "      <td>0</td>\n",
       "      <td>91</td>\n",
       "    </tr>\n",
       "    <tr>\n",
       "      <th>3</th>\n",
       "      <td>636</td>\n",
       "      <td>0</td>\n",
       "      <td>197</td>\n",
       "      <td>0</td>\n",
       "      <td>0</td>\n",
       "      <td>0</td>\n",
       "    </tr>\n",
       "  </tbody>\n",
       "</table>\n",
       "</div>"
      ],
      "text/plain": [
       "   communityId  脾胃亏虚  肾精亏损  痰火郁结  风热侵袭  肝火上扰\n",
       "0          248   174     0     0     0     0\n",
       "1          337     0     0     0    57     0\n",
       "2          373     0     0    76     0    91\n",
       "3          636     0   197     0     0     0"
      ]
     },
     "execution_count": 35,
     "metadata": {},
     "output_type": "execute_result"
    }
   ],
   "source": [
    "#leiden_result\n",
    "community_result=pd.DataFrame(data=community_datas,columns=['communityId','脾胃亏虚','肾精亏损','痰火郁结','风热侵袭','肝火上扰'])\n",
    "community_result.to_csv(\"./outData/dataAll_leiden_result.csv\")\n",
    "community_result"
   ]
  },
  {
   "cell_type": "markdown",
   "id": "2060cf51-7d8e-4648-b17f-fa973df70dde",
   "metadata": {},
   "source": [
    "## 保存标签传播准确率结果\n"
   ]
  },
  {
   "cell_type": "code",
   "execution_count": 69,
   "id": "68cdb88b-01ac-4fec-aafd-9ff0d30fc6fe",
   "metadata": {},
   "outputs": [
    {
     "data": {
      "application/javascript": [
       "\n",
       "        if (window._pyforest_update_imports_cell) { window._pyforest_update_imports_cell('import pandas as pd'); }\n",
       "    "
      ],
      "text/plain": [
       "<IPython.core.display.Javascript object>"
      ]
     },
     "metadata": {},
     "output_type": "display_data"
    },
    {
     "data": {
      "text/html": [
       "<div>\n",
       "<style scoped>\n",
       "    .dataframe tbody tr th:only-of-type {\n",
       "        vertical-align: middle;\n",
       "    }\n",
       "\n",
       "    .dataframe tbody tr th {\n",
       "        vertical-align: top;\n",
       "    }\n",
       "\n",
       "    .dataframe thead th {\n",
       "        text-align: right;\n",
       "    }\n",
       "</style>\n",
       "<table border=\"1\" class=\"dataframe\">\n",
       "  <thead>\n",
       "    <tr style=\"text-align: right;\">\n",
       "      <th></th>\n",
       "      <th>communityId</th>\n",
       "      <th>脾胃亏虚</th>\n",
       "      <th>肾精亏损</th>\n",
       "      <th>痰火郁结</th>\n",
       "      <th>风热侵袭</th>\n",
       "      <th>肝火上扰</th>\n",
       "    </tr>\n",
       "  </thead>\n",
       "  <tbody>\n",
       "    <tr>\n",
       "      <th>0</th>\n",
       "      <td>0</td>\n",
       "      <td>0</td>\n",
       "      <td>138</td>\n",
       "      <td>0</td>\n",
       "      <td>0</td>\n",
       "      <td>0</td>\n",
       "    </tr>\n",
       "    <tr>\n",
       "      <th>1</th>\n",
       "      <td>1</td>\n",
       "      <td>0</td>\n",
       "      <td>0</td>\n",
       "      <td>0</td>\n",
       "      <td>0</td>\n",
       "      <td>63</td>\n",
       "    </tr>\n",
       "    <tr>\n",
       "      <th>2</th>\n",
       "      <td>2</td>\n",
       "      <td>0</td>\n",
       "      <td>0</td>\n",
       "      <td>53</td>\n",
       "      <td>0</td>\n",
       "      <td>0</td>\n",
       "    </tr>\n",
       "    <tr>\n",
       "      <th>3</th>\n",
       "      <td>3</td>\n",
       "      <td>122</td>\n",
       "      <td>0</td>\n",
       "      <td>0</td>\n",
       "      <td>0</td>\n",
       "      <td>0</td>\n",
       "    </tr>\n",
       "    <tr>\n",
       "      <th>4</th>\n",
       "      <td>4</td>\n",
       "      <td>0</td>\n",
       "      <td>0</td>\n",
       "      <td>0</td>\n",
       "      <td>40</td>\n",
       "      <td>0</td>\n",
       "    </tr>\n",
       "    <tr>\n",
       "      <th>...</th>\n",
       "      <td>...</td>\n",
       "      <td>...</td>\n",
       "      <td>...</td>\n",
       "      <td>...</td>\n",
       "      <td>...</td>\n",
       "      <td>...</td>\n",
       "    </tr>\n",
       "    <tr>\n",
       "      <th>179</th>\n",
       "      <td>987</td>\n",
       "      <td>0</td>\n",
       "      <td>1</td>\n",
       "      <td>0</td>\n",
       "      <td>0</td>\n",
       "      <td>0</td>\n",
       "    </tr>\n",
       "    <tr>\n",
       "      <th>180</th>\n",
       "      <td>988</td>\n",
       "      <td>0</td>\n",
       "      <td>0</td>\n",
       "      <td>0</td>\n",
       "      <td>1</td>\n",
       "      <td>0</td>\n",
       "    </tr>\n",
       "    <tr>\n",
       "      <th>181</th>\n",
       "      <td>989</td>\n",
       "      <td>1</td>\n",
       "      <td>0</td>\n",
       "      <td>0</td>\n",
       "      <td>0</td>\n",
       "      <td>0</td>\n",
       "    </tr>\n",
       "    <tr>\n",
       "      <th>182</th>\n",
       "      <td>990</td>\n",
       "      <td>0</td>\n",
       "      <td>0</td>\n",
       "      <td>0</td>\n",
       "      <td>1</td>\n",
       "      <td>0</td>\n",
       "    </tr>\n",
       "    <tr>\n",
       "      <th>183</th>\n",
       "      <td>991</td>\n",
       "      <td>0</td>\n",
       "      <td>0</td>\n",
       "      <td>1</td>\n",
       "      <td>0</td>\n",
       "      <td>0</td>\n",
       "    </tr>\n",
       "  </tbody>\n",
       "</table>\n",
       "<p>184 rows × 6 columns</p>\n",
       "</div>"
      ],
      "text/plain": [
       "     communityId  脾胃亏虚  肾精亏损  痰火郁结  风热侵袭  肝火上扰\n",
       "0              0     0   138     0     0     0\n",
       "1              1     0     0     0     0    63\n",
       "2              2     0     0    53     0     0\n",
       "3              3   122     0     0     0     0\n",
       "4              4     0     0     0    40     0\n",
       "..           ...   ...   ...   ...   ...   ...\n",
       "179          987     0     1     0     0     0\n",
       "180          988     0     0     0     1     0\n",
       "181          989     1     0     0     0     0\n",
       "182          990     0     0     0     1     0\n",
       "183          991     0     0     1     0     0\n",
       "\n",
       "[184 rows x 6 columns]"
      ]
     },
     "execution_count": 69,
     "metadata": {},
     "output_type": "execute_result"
    }
   ],
   "source": [
    "labelPropagation_result=pd.DataFrame(data=community_datas,columns=['communityId','脾胃亏虚','肾精亏损','痰火郁结','风热侵袭','肝火上扰'])\n",
    "labelPropagation_result.to_csv(\"./outData/labelPropagation_result.csv\")\n",
    "labelPropagation_result"
   ]
  },
  {
   "cell_type": "markdown",
   "id": "cdb70e6b-6b0a-4da9-8b39-8fe483b232b3",
   "metadata": {},
   "source": [
    "# 节点相似度排序"
   ]
  },
  {
   "cell_type": "code",
   "execution_count": 22,
   "id": "08d6ce26-3f8d-470e-86d6-cd08e5c30bfb",
   "metadata": {},
   "outputs": [
    {
     "data": {
      "application/javascript": [
       "\n",
       "        if (window._pyforest_update_imports_cell) { window._pyforest_update_imports_cell('import pandas as pd'); }\n",
       "    "
      ],
      "text/plain": [
       "<IPython.core.display.Javascript object>"
      ]
     },
     "metadata": {},
     "output_type": "display_data"
    },
    {
     "data": {
      "application/javascript": [
       "\n",
       "        if (window._pyforest_update_imports_cell) { window._pyforest_update_imports_cell('import pandas as pd'); }\n",
       "    "
      ],
      "text/plain": [
       "<IPython.core.display.Javascript object>"
      ]
     },
     "metadata": {},
     "output_type": "display_data"
    },
    {
     "data": {
      "text/plain": [
       "(        患者 性别 发病节气  噪音 劳累  压力  感染 外伤  高血压 糖尿病  ...    APTT    FIB  D-二聚体  \\\n",
       " 0      患者1  女   秋分   0  0   0   0  0  高血压   0  ...  27.615  2.696  0.334   \n",
       " 1      患者2  女   大雪   0  0   0   0  0  高血压   0  ...  31.800  3.470  0.250   \n",
       " 2      患者3  女   冬至   0  0   0   0  0    0   0  ...  25.900  2.940  0.570   \n",
       " 3      患者4  女   小寒   0  0   0   0  0  高血压   0  ...  20.900  2.696  0.334   \n",
       " 4      患者5  男   小寒   0  0   0   0  0    0   0  ...  27.615  2.696  0.334   \n",
       " ..     ... ..  ...  .. ..  ..  .. ..  ...  ..  ...     ...    ...    ...   \n",
       " 471  患者591  男   秋分  噪音  0   0   0  0    0   0  ...  27.615  2.696  0.334   \n",
       " 472  患者592  男   秋分   0  0  压力  感染  0    0   0  ...  27.615  2.696  0.334   \n",
       " 473  患者593  女   秋分   0  0  压力   0  0    0   0  ...  27.615  2.696  0.334   \n",
       " 474  患者594  男   白露   0  0   0   0  0  高血压   0  ...  25.200  2.440  0.190   \n",
       " 475  患者595  女   立冬   0  0   0   0  0  高血压   0  ...  27.615  2.696  0.334   \n",
       " \n",
       "          TT    频率 TEQ THI VAS  病程(月)  年龄  \n",
       " 0    18.399  4315  13  46   6   60.0  63  \n",
       " 1    17.300  2243   8  18   6    1.0  45  \n",
       " 2    17.700   682  10  14   2    0.1  69  \n",
       " 3    18.399  6631  13  44   5    0.2  57  \n",
       " 4    18.399  1352  10  34   4    1.0  67  \n",
       " ..      ...   ...  ..  ..  ..    ...  ..  \n",
       " 471  18.399   646  13  24   5    5.0  52  \n",
       " 472  18.399  1352  11   4   4  216.0  37  \n",
       " 473  18.399  6165   8   2   6   24.0  54  \n",
       " 474  17.600  2644  11  34   6    3.0  63  \n",
       " 475  18.399  1685  15  16   7   10.0  78  \n",
       " \n",
       " [476 rows x 80 columns],\n",
       "         患者 性别 发病节气 噪音 劳累 压力  感染  外伤  高血压 糖尿病  ...    APTT    FIB  D-二聚体  \\\n",
       " 0      患者7  女   霜降  0  0  0   0   0    0   0  ...  21.200  1.580  0.130   \n",
       " 1     患者17  女   处暑  0  0  0   0  外伤    0   0  ...  29.600  2.590  0.334   \n",
       " 2     患者24  男   大寒  0  0  0   0   0  高血压   0  ...  19.400  3.180  0.570   \n",
       " 3     患者25  女   大寒  0  0  0   0   0    0   0  ...  27.615  2.696  0.334   \n",
       " 4     患者27  男   大寒  0  0  0   0   0    0   0  ...  27.615  2.696  0.334   \n",
       " ..     ... ..  ... .. .. ..  ..  ..  ...  ..  ...     ...    ...    ...   \n",
       " 114  患者574  女   夏至  0  0  0  感染   0  高血压   0  ...  27.615  2.696  0.334   \n",
       " 115  患者575  男   小暑  0  0  0   0   0    0   0  ...  30.200  3.310  0.190   \n",
       " 116  患者576  女   小暑  0  0  0   0   0    0   0  ...  38.500  2.030  0.600   \n",
       " 117  患者578  男   夏至  0  0  0   0   0    0   0  ...  30.600  2.470  0.100   \n",
       " 118  患者587  女   秋分  0  0  0   0   0    0   0  ...  27.615  2.696  0.334   \n",
       " \n",
       "          TT    频率 TEQ THI VAS 病程(月)  年龄  \n",
       " 0    17.500  4685  10  16   2   0.3  40  \n",
       " 1    16.400  3105   8  32   5   4.0  56  \n",
       " 2    18.600  4260   5  26   4   0.1  70  \n",
       " 3    18.399  1625  10  18   5  48.0  58  \n",
       " 4    18.399  2265   6  26   4   0.1  47  \n",
       " ..      ...   ...  ..  ..  ..   ...  ..  \n",
       " 114  18.399  4358  13  34   7   0.3  88  \n",
       " 115  16.900  1583   8  34   6   0.7  69  \n",
       " 116  17.800  4325   5  22   4   0.1  63  \n",
       " 117  18.500  1654   6  32   4   0.3  66  \n",
       " 118  18.399  2205  10  58   7  36.0  68  \n",
       " \n",
       " [119 rows x 80 columns])"
      ]
     },
     "execution_count": 22,
     "metadata": {},
     "output_type": "execute_result"
    }
   ],
   "source": [
    "#读取训练集数据\n",
    "# trainData = pd.read_csv(r\"D:\\学习资料\\项目资料\\耳鸣中医知识图谱\\neo4j\\知识图谱训练数据.csv\",encoding=\"gbk\")\n",
    "trainData = pd.read_csv(r\"./data/五折训练集1.csv\")\n",
    "trainData=trainData.drop(\"Unnamed: 0\",axis=1)\n",
    "#读取测试集数据\n",
    "# testData = pd.read_csv(r\"D:\\学习资料\\项目资料\\耳鸣中医知识图谱\\neo4j\\知识图谱测试数据.csv\",encoding=\"gbk\")\n",
    "testData = pd.read_csv(r\"./data/五折测试集1.csv\")\n",
    "testData=testData.drop(\"Unnamed: 0\",axis=1)\n",
    "trainData,testData"
   ]
  },
  {
   "cell_type": "code",
   "execution_count": 368,
   "id": "9e9f5560-8cba-4d38-a13c-b3b8fb9bdc24",
   "metadata": {},
   "outputs": [
    {
     "data": {
      "application/javascript": [
       "\n",
       "        if (window._pyforest_update_imports_cell) { window._pyforest_update_imports_cell('import pandas as pd\\nimport numpy as np'); }\n",
       "    "
      ],
      "text/plain": [
       "<IPython.core.display.Javascript object>"
      ]
     },
     "metadata": {},
     "output_type": "display_data"
    },
    {
     "name": "stdout",
     "output_type": "stream",
     "text": [
      "Index(['Unnamed: 0', 'Person1', 'Person2', 'similarity'], dtype='object')\n"
     ]
    },
    {
     "data": {
      "text/html": [
       "<div>\n",
       "<style scoped>\n",
       "    .dataframe tbody tr th:only-of-type {\n",
       "        vertical-align: middle;\n",
       "    }\n",
       "\n",
       "    .dataframe tbody tr th {\n",
       "        vertical-align: top;\n",
       "    }\n",
       "\n",
       "    .dataframe thead th {\n",
       "        text-align: right;\n",
       "    }\n",
       "</style>\n",
       "<table border=\"1\" class=\"dataframe\">\n",
       "  <thead>\n",
       "    <tr style=\"text-align: right;\">\n",
       "      <th></th>\n",
       "      <th>Unnamed: 0</th>\n",
       "      <th>Person1</th>\n",
       "      <th>Person2</th>\n",
       "      <th>similarity</th>\n",
       "    </tr>\n",
       "  </thead>\n",
       "  <tbody>\n",
       "    <tr>\n",
       "      <th>0</th>\n",
       "      <td>0</td>\n",
       "      <td>患者1</td>\n",
       "      <td>患者102</td>\n",
       "      <td>1.000000</td>\n",
       "    </tr>\n",
       "    <tr>\n",
       "      <th>1</th>\n",
       "      <td>1</td>\n",
       "      <td>患者10</td>\n",
       "      <td>患者118</td>\n",
       "      <td>1.000000</td>\n",
       "    </tr>\n",
       "    <tr>\n",
       "      <th>2</th>\n",
       "      <td>2</td>\n",
       "      <td>患者10</td>\n",
       "      <td>患者127</td>\n",
       "      <td>1.000000</td>\n",
       "    </tr>\n",
       "    <tr>\n",
       "      <th>3</th>\n",
       "      <td>3</td>\n",
       "      <td>患者10</td>\n",
       "      <td>患者143</td>\n",
       "      <td>1.000000</td>\n",
       "    </tr>\n",
       "    <tr>\n",
       "      <th>4</th>\n",
       "      <td>4</td>\n",
       "      <td>患者100</td>\n",
       "      <td>患者14</td>\n",
       "      <td>1.000000</td>\n",
       "    </tr>\n",
       "    <tr>\n",
       "      <th>...</th>\n",
       "      <td>...</td>\n",
       "      <td>...</td>\n",
       "      <td>...</td>\n",
       "      <td>...</td>\n",
       "    </tr>\n",
       "    <tr>\n",
       "      <th>6785</th>\n",
       "      <td>6785</td>\n",
       "      <td>耳外伤</td>\n",
       "      <td>入睡困难</td>\n",
       "      <td>0.006061</td>\n",
       "    </tr>\n",
       "    <tr>\n",
       "      <th>6786</th>\n",
       "      <td>6786</td>\n",
       "      <td>耳外伤</td>\n",
       "      <td>数脉</td>\n",
       "      <td>0.006061</td>\n",
       "    </tr>\n",
       "    <tr>\n",
       "      <th>6787</th>\n",
       "      <td>6787</td>\n",
       "      <td>耳外伤</td>\n",
       "      <td>眠浅易醒</td>\n",
       "      <td>0.005348</td>\n",
       "    </tr>\n",
       "    <tr>\n",
       "      <th>6788</th>\n",
       "      <td>6788</td>\n",
       "      <td>耳外伤</td>\n",
       "      <td>苔薄</td>\n",
       "      <td>0.004525</td>\n",
       "    </tr>\n",
       "    <tr>\n",
       "      <th>6789</th>\n",
       "      <td>6789</td>\n",
       "      <td>耳外伤</td>\n",
       "      <td>蝉鸣声</td>\n",
       "      <td>0.004255</td>\n",
       "    </tr>\n",
       "  </tbody>\n",
       "</table>\n",
       "<p>6790 rows × 4 columns</p>\n",
       "</div>"
      ],
      "text/plain": [
       "      Unnamed: 0 Person1 Person2  similarity\n",
       "0              0     患者1   患者102    1.000000\n",
       "1              1    患者10   患者118    1.000000\n",
       "2              2    患者10   患者127    1.000000\n",
       "3              3    患者10   患者143    1.000000\n",
       "4              4   患者100    患者14    1.000000\n",
       "...          ...     ...     ...         ...\n",
       "6785        6785     耳外伤    入睡困难    0.006061\n",
       "6786        6786     耳外伤      数脉    0.006061\n",
       "6787        6787     耳外伤    眠浅易醒    0.005348\n",
       "6788        6788     耳外伤      苔薄    0.004525\n",
       "6789        6789     耳外伤     蝉鸣声    0.004255\n",
       "\n",
       "[6790 rows x 4 columns]"
      ]
     },
     "execution_count": 368,
     "metadata": {},
     "output_type": "execute_result"
    }
   ],
   "source": [
    "# data3 = pd.read_csv(r\"./outData无权重/dataAll_nodeSimilarity权重.csv\")\n",
    "data3 = pd.read_csv(r\"./outData/5折_5dataAll_nodeSimilarity.csv\")\n",
    "# data3 =pd.read_csv(r\"D:\\学习资料\\项目资料\\耳鸣中医知识图谱\\neo4j\\outData\\data_nodeSimilarity.csv\",encoding=\"gbk\")\n",
    "#,encoding=\"gbk\"\n",
    "columns=data3.columns\n",
    "print(columns)\n",
    "data3"
   ]
  },
  {
   "cell_type": "code",
   "execution_count": 27,
   "id": "77362a25-4110-4e71-b37c-5ab39278c9ae",
   "metadata": {},
   "outputs": [
    {
     "data": {
      "application/javascript": [
       "\n",
       "        if (window._pyforest_update_imports_cell) { window._pyforest_update_imports_cell('import pandas as pd'); }\n",
       "    "
      ],
      "text/plain": [
       "<IPython.core.display.Javascript object>"
      ]
     },
     "metadata": {},
     "output_type": "display_data"
    },
    {
     "data": {
      "text/html": [
       "<div>\n",
       "<style scoped>\n",
       "    .dataframe tbody tr th:only-of-type {\n",
       "        vertical-align: middle;\n",
       "    }\n",
       "\n",
       "    .dataframe tbody tr th {\n",
       "        vertical-align: top;\n",
       "    }\n",
       "\n",
       "    .dataframe thead th {\n",
       "        text-align: right;\n",
       "    }\n",
       "</style>\n",
       "<table border=\"1\" class=\"dataframe\">\n",
       "  <thead>\n",
       "    <tr style=\"text-align: right;\">\n",
       "      <th></th>\n",
       "      <th>Person1</th>\n",
       "      <th>Person2</th>\n",
       "      <th>similarity</th>\n",
       "    </tr>\n",
       "  </thead>\n",
       "  <tbody>\n",
       "    <tr>\n",
       "      <th>0</th>\n",
       "      <td>患者400</td>\n",
       "      <td>患者410</td>\n",
       "      <td>0.987261</td>\n",
       "    </tr>\n",
       "    <tr>\n",
       "      <th>1</th>\n",
       "      <td>患者400</td>\n",
       "      <td>患者428</td>\n",
       "      <td>0.987261</td>\n",
       "    </tr>\n",
       "    <tr>\n",
       "      <th>2</th>\n",
       "      <td>患者400</td>\n",
       "      <td>患者439</td>\n",
       "      <td>0.987261</td>\n",
       "    </tr>\n",
       "    <tr>\n",
       "      <th>3</th>\n",
       "      <td>患者400</td>\n",
       "      <td>患者521</td>\n",
       "      <td>0.987261</td>\n",
       "    </tr>\n",
       "    <tr>\n",
       "      <th>4</th>\n",
       "      <td>患者401</td>\n",
       "      <td>患者437</td>\n",
       "      <td>0.987261</td>\n",
       "    </tr>\n",
       "    <tr>\n",
       "      <th>...</th>\n",
       "      <td>...</td>\n",
       "      <td>...</td>\n",
       "      <td>...</td>\n",
       "    </tr>\n",
       "    <tr>\n",
       "      <th>5945</th>\n",
       "      <td>患者225</td>\n",
       "      <td>患者192</td>\n",
       "      <td>0.833333</td>\n",
       "    </tr>\n",
       "    <tr>\n",
       "      <th>5946</th>\n",
       "      <td>患者225</td>\n",
       "      <td>患者193</td>\n",
       "      <td>0.833333</td>\n",
       "    </tr>\n",
       "    <tr>\n",
       "      <th>5947</th>\n",
       "      <td>患者225</td>\n",
       "      <td>患者200</td>\n",
       "      <td>0.833333</td>\n",
       "    </tr>\n",
       "    <tr>\n",
       "      <th>5948</th>\n",
       "      <td>患者225</td>\n",
       "      <td>患者218</td>\n",
       "      <td>0.833333</td>\n",
       "    </tr>\n",
       "    <tr>\n",
       "      <th>5949</th>\n",
       "      <td>患者225</td>\n",
       "      <td>患者223</td>\n",
       "      <td>0.833333</td>\n",
       "    </tr>\n",
       "  </tbody>\n",
       "</table>\n",
       "<p>5950 rows × 3 columns</p>\n",
       "</div>"
      ],
      "text/plain": [
       "     Person1 Person2  similarity\n",
       "0      患者400   患者410    0.987261\n",
       "1      患者400   患者428    0.987261\n",
       "2      患者400   患者439    0.987261\n",
       "3      患者400   患者521    0.987261\n",
       "4      患者401   患者437    0.987261\n",
       "...      ...     ...         ...\n",
       "5945   患者225   患者192    0.833333\n",
       "5946   患者225   患者193    0.833333\n",
       "5947   患者225   患者200    0.833333\n",
       "5948   患者225   患者218    0.833333\n",
       "5949   患者225   患者223    0.833333\n",
       "\n",
       "[5950 rows x 3 columns]"
      ]
     },
     "execution_count": 27,
     "metadata": {},
     "output_type": "execute_result"
    }
   ],
   "source": [
    "data3=data_nodeSimilarity\n",
    "columns=data3.columns\n",
    "data_=getNameRow(data3,columns)\n",
    "data_"
   ]
  },
  {
   "cell_type": "code",
   "execution_count": null,
   "id": "9b1afcb2-39c3-4e56-a8bc-f0961833b52c",
   "metadata": {},
   "outputs": [
    {
     "data": {
      "text/plain": [
       "True"
      ]
     },
     "execution_count": 313,
     "metadata": {},
     "output_type": "execute_result"
    }
   ],
   "source": [
    "'患者2' in testData[\"患者\"].values"
   ]
  },
  {
   "cell_type": "code",
   "execution_count": null,
   "id": "2d0ed7cb-f4c6-41e1-bd15-c88b5b6bc13e",
   "metadata": {},
   "outputs": [
    {
     "data": {
      "text/plain": [
       "517"
      ]
     },
     "execution_count": 270,
     "metadata": {},
     "output_type": "execute_result"
    }
   ],
   "source": [
    "len(data_[\"Person2\"].unique())"
   ]
  },
  {
   "cell_type": "code",
   "execution_count": null,
   "id": "5efef072-07b4-4f2d-80c2-98bd7ae5aedb",
   "metadata": {},
   "outputs": [],
   "source": [
    "for item in data_[data_[\"Person1\"]==\"患者2\"][\"Person2\"]:\n",
    "    if item in testData[\"患者\"].values:\n",
    "        print(\"item\")"
   ]
  },
  {
   "cell_type": "code",
   "execution_count": 29,
   "id": "768cc28c-51b0-4954-82a9-4e0e05d62319",
   "metadata": {},
   "outputs": [],
   "source": [
    "for item in data_[\"Person1\"]:\n",
    "    person2=data_[data_[\"Person1\"]==\"item\"][\"Person2\"]\n",
    "    if item in testData[\"患者\"].values:\n",
    "        for item2 in person2:\n",
    "            if  item2 in trainData[\"患者\"].values:\n",
    "                print(\"item\",item)"
   ]
  },
  {
   "cell_type": "code",
   "execution_count": null,
   "id": "ce0bee7f-c72f-4e9f-a3f2-eeaa80fbc9ae",
   "metadata": {},
   "outputs": [
    {
     "name": "stdout",
     "output_type": "stream",
     "text": [
      "similarity_datas数组为空\n"
     ]
    },
    {
     "ename": "UnboundLocalError",
     "evalue": "local variable 'max_str' referenced before assignment",
     "output_type": "error",
     "traceback": [
      "\u001b[1;31m---------------------------------------------------------------------------\u001b[0m",
      "\u001b[1;31mUnboundLocalError\u001b[0m                         Traceback (most recent call last)",
      "\u001b[1;32m<ipython-input-28-4657e0aa3bcd>\u001b[0m in \u001b[0;36m<module>\u001b[1;34m\u001b[0m\n\u001b[0;32m     20\u001b[0m                 \u001b[0msimilarity_datas\u001b[0m\u001b[1;33m.\u001b[0m\u001b[0mappend\u001b[0m\u001b[1;33m(\u001b[0m\u001b[0mdata_Syndrome\u001b[0m\u001b[1;33m)\u001b[0m\u001b[1;33m\u001b[0m\u001b[1;33m\u001b[0m\u001b[0m\n\u001b[0;32m     21\u001b[0m                 \u001b[1;31m# print(item1,data_Syndrome)\u001b[0m\u001b[1;33m\u001b[0m\u001b[1;33m\u001b[0m\u001b[1;33m\u001b[0m\u001b[0m\n\u001b[1;32m---> 22\u001b[1;33m         \u001b[0mmax_Syndrome\u001b[0m\u001b[1;33m=\u001b[0m\u001b[0mmax_list\u001b[0m\u001b[1;33m(\u001b[0m\u001b[0msimilarity_datas\u001b[0m\u001b[1;33m)\u001b[0m\u001b[1;33m\u001b[0m\u001b[1;33m\u001b[0m\u001b[0m\n\u001b[0m\u001b[0;32m     23\u001b[0m         \u001b[0msimilarity_Syndrome\u001b[0m\u001b[1;33m.\u001b[0m\u001b[0mappend\u001b[0m\u001b[1;33m(\u001b[0m\u001b[0mmax_Syndrome\u001b[0m\u001b[1;33m)\u001b[0m\u001b[1;33m\u001b[0m\u001b[1;33m\u001b[0m\u001b[0m\n\u001b[0;32m     24\u001b[0m \u001b[1;31m# similarity_datas=[]\u001b[0m\u001b[1;33m\u001b[0m\u001b[1;33m\u001b[0m\u001b[1;33m\u001b[0m\u001b[0m\n",
      "\u001b[1;32m<ipython-input-23-3294fff89320>\u001b[0m in \u001b[0;36mmax_list\u001b[1;34m(similarity_datas)\u001b[0m\n\u001b[0;32m      9\u001b[0m     \u001b[1;32melse\u001b[0m\u001b[1;33m:\u001b[0m\u001b[1;33m\u001b[0m\u001b[1;33m\u001b[0m\u001b[0m\n\u001b[0;32m     10\u001b[0m         \u001b[0mprint\u001b[0m\u001b[1;33m(\u001b[0m\u001b[1;34m\"similarity_datas数组为空\"\u001b[0m\u001b[1;33m)\u001b[0m\u001b[1;33m\u001b[0m\u001b[1;33m\u001b[0m\u001b[0m\n\u001b[1;32m---> 11\u001b[1;33m     \u001b[1;32mreturn\u001b[0m \u001b[0mmax_str\u001b[0m\u001b[1;33m\u001b[0m\u001b[1;33m\u001b[0m\u001b[0m\n\u001b[0m",
      "\u001b[1;31mUnboundLocalError\u001b[0m: local variable 'max_str' referenced before assignment"
     ]
    }
   ],
   "source": [
    "#训练集\n",
    "\n",
    "similarity_Syndrome=[]\n",
    "patient_Syndrome=[]\n",
    "patient1=[]\n",
    "patient2=[]\n",
    "for item in data_[\"Person1\"].unique():\n",
    "    if item in trainData[\"患者\"].values:\n",
    "        # print(\"item\",item)\n",
    "        node_Syndrome=graph.nodes.match('Patient', name=f'{item}').first()['中医辨证']\n",
    "        patient_Syndrome.append(node_Syndrome)\n",
    "        patient1.append(item)\n",
    "        # print(\"item\",item,patient_Syndrome)\n",
    "        similarity_datas=[]\n",
    "        Patient_similarity=data_[data_[\"Person1\"] == f\"{item}\"]\n",
    "        for item1 in Patient_similarity[\"Person2\"]:\n",
    "            if item1 in trainData[\"患者\"].values:\n",
    "                patient2.append(item1)\n",
    "                data_Syndrome=graph.nodes.match('Patient', name=f'{item1}').first()['中医辨证']\n",
    "                similarity_datas.append(data_Syndrome)\n",
    "                # print(item1,data_Syndrome)\n",
    "        max_Syndrome=max_list(similarity_datas)\n",
    "        similarity_Syndrome.append(max_Syndrome)\n",
    "# similarity_datas=[]\n",
    "# similarity_Syndrome=[]\n",
    "# Patient_similarity=data_[data_[\"Person1\"] == '患者1']\n",
    "# for item1 in Patient_similarity[\"Person2\"]:\n",
    "#     data_Syndrome=graph.nodes.match('Patient', name=f'{item1}').first()['中医辨证']\n",
    "#     similarity_datas.append(data_Syndrome)\n",
    "#     print(item1,data_Syndrome)\n",
    "# max_Syndrome=max_list(similarity_datas)"
   ]
  },
  {
   "cell_type": "code",
   "execution_count": 370,
   "id": "3b7e4b17-4e28-431c-8b89-6482a3e92775",
   "metadata": {},
   "outputs": [
    {
     "name": "stdout",
     "output_type": "stream",
     "text": [
      "similarity_datas数组为空\n"
     ]
    },
    {
     "ename": "UnboundLocalError",
     "evalue": "local variable 'max_str' referenced before assignment",
     "output_type": "error",
     "traceback": [
      "\u001b[1;31m---------------------------------------------------------------------------\u001b[0m",
      "\u001b[1;31mUnboundLocalError\u001b[0m                         Traceback (most recent call last)",
      "\u001b[1;32m<ipython-input-370-d70f26cae60d>\u001b[0m in \u001b[0;36m<module>\u001b[1;34m\u001b[0m\n\u001b[0;32m     20\u001b[0m                 \u001b[0msimilarity_datas\u001b[0m\u001b[1;33m.\u001b[0m\u001b[0mappend\u001b[0m\u001b[1;33m(\u001b[0m\u001b[0mdata_Syndrome\u001b[0m\u001b[1;33m)\u001b[0m\u001b[1;33m\u001b[0m\u001b[1;33m\u001b[0m\u001b[0m\n\u001b[0;32m     21\u001b[0m         \u001b[1;31m# print(\"similarity_datas\",similarity_datas)\u001b[0m\u001b[1;33m\u001b[0m\u001b[1;33m\u001b[0m\u001b[1;33m\u001b[0m\u001b[0m\n\u001b[1;32m---> 22\u001b[1;33m         \u001b[0mmax_Syndrome\u001b[0m\u001b[1;33m=\u001b[0m\u001b[0mmax_list\u001b[0m\u001b[1;33m(\u001b[0m\u001b[0msimilarity_datas\u001b[0m\u001b[1;33m)\u001b[0m\u001b[1;33m\u001b[0m\u001b[1;33m\u001b[0m\u001b[0m\n\u001b[0m\u001b[0;32m     23\u001b[0m         \u001b[0msimilarity_Syndrome\u001b[0m\u001b[1;33m.\u001b[0m\u001b[0mappend\u001b[0m\u001b[1;33m(\u001b[0m\u001b[0mmax_Syndrome\u001b[0m\u001b[1;33m)\u001b[0m\u001b[1;33m\u001b[0m\u001b[1;33m\u001b[0m\u001b[0m\n\u001b[0;32m     24\u001b[0m \u001b[0mprint\u001b[0m\u001b[1;33m(\u001b[0m\u001b[0mlen\u001b[0m\u001b[1;33m(\u001b[0m\u001b[0msimilarity_Syndrome\u001b[0m\u001b[1;33m)\u001b[0m\u001b[1;33m)\u001b[0m\u001b[1;33m\u001b[0m\u001b[1;33m\u001b[0m\u001b[0m\n",
      "\u001b[1;32m<ipython-input-282-3294fff89320>\u001b[0m in \u001b[0;36mmax_list\u001b[1;34m(similarity_datas)\u001b[0m\n\u001b[0;32m      9\u001b[0m     \u001b[1;32melse\u001b[0m\u001b[1;33m:\u001b[0m\u001b[1;33m\u001b[0m\u001b[1;33m\u001b[0m\u001b[0m\n\u001b[0;32m     10\u001b[0m         \u001b[0mprint\u001b[0m\u001b[1;33m(\u001b[0m\u001b[1;34m\"similarity_datas数组为空\"\u001b[0m\u001b[1;33m)\u001b[0m\u001b[1;33m\u001b[0m\u001b[1;33m\u001b[0m\u001b[0m\n\u001b[1;32m---> 11\u001b[1;33m     \u001b[1;32mreturn\u001b[0m \u001b[0mmax_str\u001b[0m\u001b[1;33m\u001b[0m\u001b[1;33m\u001b[0m\u001b[0m\n\u001b[0m",
      "\u001b[1;31mUnboundLocalError\u001b[0m: local variable 'max_str' referenced before assignment"
     ]
    }
   ],
   "source": [
    "#测试集\n",
    "similarity_Syndrome=[]\n",
    "patient_Syndrome=[]\n",
    "patient1=[]\n",
    "patient2=[]\n",
    "for item in data_[\"Person1\"].unique():\n",
    "    if item in testData[\"患者\"].values:\n",
    "        # print(\"item\",item)\n",
    "        node_Syndrome=graph.nodes.match('Patient', name=f'{item}').first()['中医辨证']\n",
    "        patient_Syndrome.append(node_Syndrome)\n",
    "        patient1.append(item)\n",
    "        # print(\"item\",item,patient_Syndrome)\n",
    "        similarity_datas=[]\n",
    "        Patient_similarity=data_[data_[\"Person1\"] == f\"{item}\"]\n",
    "        for item1 in Patient_similarity[\"Person2\"]:\n",
    "            if item1 in trainData[\"患者\"].values:\n",
    "                # print(item1)\n",
    "                patient2.append(item1)\n",
    "                data_Syndrome=graph.nodes.match('Patient', name=f'{item1}').first()['中医辨证']\n",
    "                similarity_datas.append(data_Syndrome)\n",
    "        # print(\"similarity_datas\",similarity_datas)\n",
    "        max_Syndrome=max_list(similarity_datas)\n",
    "        similarity_Syndrome.append(max_Syndrome)\n",
    "print(len(similarity_Syndrome))\n",
    "# similarity_datas=[]\n",
    "# similarity_Syndrome=[]\n",
    "# Patient_similarity=data_[data_[\"Person1\"] == '患者1']\n",
    "# for item1 in Patient_similarity[\"Person2\"]:\n",
    "#     data_Syndrome=graph.nodes.match('Patient', name=f'{item1}').first()['中医辨证']\n",
    "#     similarity_datas.append(data_Syndrome)\n",
    "#     print(item1,data_Syndrome)\n",
    "# max_Syndrome=max_list(similarity_datas)"
   ]
  },
  {
   "cell_type": "code",
   "execution_count": 321,
   "id": "d608d715-5d56-4771-80f8-6d2268a1c7ef",
   "metadata": {},
   "outputs": [
    {
     "data": {
      "text/plain": [
       "Counter()"
      ]
     },
     "execution_count": 321,
     "metadata": {},
     "output_type": "execute_result"
    }
   ],
   "source": [
    "from collections import Counter\n",
    "\n",
    "a=Counter(similarity_datas)\n",
    "a"
   ]
  },
  {
   "cell_type": "code",
   "execution_count": 128,
   "id": "431b42ec-ed46-412b-aae2-91605da368cd",
   "metadata": {},
   "outputs": [
    {
     "data": {
      "text/plain": [
       "179"
      ]
     },
     "execution_count": 128,
     "metadata": {},
     "output_type": "execute_result"
    }
   ],
   "source": [
    "len(patient1)"
   ]
  },
  {
   "cell_type": "code",
   "execution_count": 251,
   "id": "7b6a410a-85fa-43d2-aa97-a762f9f04841",
   "metadata": {},
   "outputs": [
    {
     "name": "stdout",
     "output_type": "stream",
     "text": [
      "患者442 肾精亏损\n",
      "患者454 肾精亏损\n",
      "患者458 肾精亏损\n",
      "患者462 肾精亏损\n",
      "患者466 肾精亏损\n",
      "患者478 肾精亏损\n",
      "患者486 肾精亏损\n",
      "患者489 肾精亏损\n",
      "患者494 肾精亏损\n",
      "患者522 肾精亏损\n"
     ]
    },
    {
     "data": {
      "text/plain": [
       "(['肾精亏损',\n",
       "  '肾精亏损',\n",
       "  '肾精亏损',\n",
       "  '肾精亏损',\n",
       "  '肾精亏损',\n",
       "  '肾精亏损',\n",
       "  '肾精亏损',\n",
       "  '肾精亏损',\n",
       "  '肾精亏损',\n",
       "  '肾精亏损'],\n",
       " ['肾精亏损'])"
      ]
     },
     "execution_count": 251,
     "metadata": {},
     "output_type": "execute_result"
    }
   ],
   "source": [
    "similarity_datas=[]\n",
    "similarity_Syndrome=[]\n",
    "Patient_similarity=data_[data_[\"Person1\"] == '患者445']\n",
    "for item1 in Patient_similarity[\"Person2\"]:\n",
    "    \n",
    "    data_Syndrome=graph.nodes.match('Patient', name=f'{item1}').first()['中医辨证']\n",
    "    similarity_datas.append(data_Syndrome)\n",
    "    print(item1,data_Syndrome)\n",
    "max_Syndrome=max_list(similarity_datas)\n",
    "\n",
    "similarity_Syndrome.append(max_Syndrome)\n",
    "similarity_datas,similarity_Syndrome"
   ]
  },
  {
   "cell_type": "code",
   "execution_count": 50,
   "id": "f50cb641-f947-4b82-8dbd-63477e627986",
   "metadata": {},
   "outputs": [
    {
     "data": {
      "text/plain": [
       "3"
      ]
     },
     "execution_count": 50,
     "metadata": {},
     "output_type": "execute_result"
    }
   ],
   "source": [
    "data_Syndrome=graph.nodes.match('Patient', name='患者2').first()['中医辨证']\n",
    "data_Syndrome"
   ]
  },
  {
   "cell_type": "code",
   "execution_count": 41,
   "id": "9cd28c99-e421-4750-b563-f1c1942d075c",
   "metadata": {},
   "outputs": [
    {
     "data": {
      "text/plain": [
       "3"
      ]
     },
     "execution_count": 41,
     "metadata": {},
     "output_type": "execute_result"
    }
   ],
   "source": [
    "cypher_=\"Match (n:Patient{name:'患者1'}) return n.中医辨证 AS Syndrome\"\n",
    "data_Syndrome = graph.run(cypher_).to_data_frame()[\"Syndrome\"][0]\n",
    "data_Syndrome"
   ]
  },
  {
   "cell_type": "code",
   "execution_count": 24,
   "id": "124b8f81-b8d9-49f1-ae66-570098d79017",
   "metadata": {},
   "outputs": [],
   "source": []
  },
  {
   "cell_type": "markdown",
   "id": "72d8ff49-ca3b-4fe3-b021-d317e6e1d1fc",
   "metadata": {},
   "source": [
    "## 保存前10出现次数最多证型结果"
   ]
  },
  {
   "cell_type": "code",
   "execution_count": 208,
   "id": "53e10157-faea-4429-b508-3861f8c55493",
   "metadata": {
    "tags": []
   },
   "outputs": [
    {
     "data": {
      "application/javascript": [
       "\n",
       "        if (window._pyforest_update_imports_cell) { window._pyforest_update_imports_cell('import pandas as pd\\nimport numpy as np'); }\n",
       "    "
      ],
      "text/plain": [
       "<IPython.core.display.Javascript object>"
      ]
     },
     "metadata": {},
     "output_type": "display_data"
    },
    {
     "data": {
      "text/html": [
       "<div>\n",
       "<style scoped>\n",
       "    .dataframe tbody tr th:only-of-type {\n",
       "        vertical-align: middle;\n",
       "    }\n",
       "\n",
       "    .dataframe tbody tr th {\n",
       "        vertical-align: top;\n",
       "    }\n",
       "\n",
       "    .dataframe thead th {\n",
       "        text-align: right;\n",
       "    }\n",
       "</style>\n",
       "<table border=\"1\" class=\"dataframe\">\n",
       "  <thead>\n",
       "    <tr style=\"text-align: right;\">\n",
       "      <th></th>\n",
       "      <th>Patient1</th>\n",
       "      <th>证型</th>\n",
       "      <th>前10出现次数最多证型</th>\n",
       "    </tr>\n",
       "  </thead>\n",
       "  <tbody>\n",
       "    <tr>\n",
       "      <th>0</th>\n",
       "      <td>患者1</td>\n",
       "      <td>脾胃亏虚</td>\n",
       "      <td>脾胃亏虚</td>\n",
       "    </tr>\n",
       "    <tr>\n",
       "      <th>1</th>\n",
       "      <td>患者10</td>\n",
       "      <td>脾胃亏虚</td>\n",
       "      <td>脾胃亏虚</td>\n",
       "    </tr>\n",
       "    <tr>\n",
       "      <th>2</th>\n",
       "      <td>患者100</td>\n",
       "      <td>脾胃亏虚</td>\n",
       "      <td>脾胃亏虚</td>\n",
       "    </tr>\n",
       "    <tr>\n",
       "      <th>3</th>\n",
       "      <td>患者101</td>\n",
       "      <td>脾胃亏虚</td>\n",
       "      <td>脾胃亏虚</td>\n",
       "    </tr>\n",
       "    <tr>\n",
       "      <th>4</th>\n",
       "      <td>患者102</td>\n",
       "      <td>脾胃亏虚</td>\n",
       "      <td>脾胃亏虚</td>\n",
       "    </tr>\n",
       "    <tr>\n",
       "      <th>...</th>\n",
       "      <td>...</td>\n",
       "      <td>...</td>\n",
       "      <td>...</td>\n",
       "    </tr>\n",
       "    <tr>\n",
       "      <th>471</th>\n",
       "      <td>患者586</td>\n",
       "      <td>肾精亏损</td>\n",
       "      <td>肾精亏损</td>\n",
       "    </tr>\n",
       "    <tr>\n",
       "      <th>472</th>\n",
       "      <td>患者588</td>\n",
       "      <td>肾精亏损</td>\n",
       "      <td>肾精亏损</td>\n",
       "    </tr>\n",
       "    <tr>\n",
       "      <th>473</th>\n",
       "      <td>患者84</td>\n",
       "      <td>脾胃亏虚</td>\n",
       "      <td>脾胃亏虚</td>\n",
       "    </tr>\n",
       "    <tr>\n",
       "      <th>474</th>\n",
       "      <td>患者87</td>\n",
       "      <td>脾胃亏虚</td>\n",
       "      <td>脾胃亏虚</td>\n",
       "    </tr>\n",
       "    <tr>\n",
       "      <th>475</th>\n",
       "      <td>患者91</td>\n",
       "      <td>脾胃亏虚</td>\n",
       "      <td>脾胃亏虚</td>\n",
       "    </tr>\n",
       "  </tbody>\n",
       "</table>\n",
       "<p>476 rows × 3 columns</p>\n",
       "</div>"
      ],
      "text/plain": [
       "    Patient1    证型 前10出现次数最多证型\n",
       "0        患者1  脾胃亏虚        脾胃亏虚\n",
       "1       患者10  脾胃亏虚        脾胃亏虚\n",
       "2      患者100  脾胃亏虚        脾胃亏虚\n",
       "3      患者101  脾胃亏虚        脾胃亏虚\n",
       "4      患者102  脾胃亏虚        脾胃亏虚\n",
       "..       ...   ...         ...\n",
       "471    患者586  肾精亏损        肾精亏损\n",
       "472    患者588  肾精亏损        肾精亏损\n",
       "473     患者84  脾胃亏虚        脾胃亏虚\n",
       "474     患者87  脾胃亏虚        脾胃亏虚\n",
       "475     患者91  脾胃亏虚        脾胃亏虚\n",
       "\n",
       "[476 rows x 3 columns]"
      ]
     },
     "execution_count": 208,
     "metadata": {},
     "output_type": "execute_result"
    }
   ],
   "source": [
    "#测试集\n",
    "similarity_result=pd.DataFrame()\n",
    "similarity_result[\"Patient1\"]=patient1\n",
    "similarity_result[\"证型\"]=patient_Syndrome\n",
    "similarity_result[\"前10出现次数最多证型\"]=similarity_Syndrome\n",
    "similarity_result.to_csv(\"./outData/5折_1similarity_trainResult.csv\")\n",
    "similarity_result"
   ]
  },
  {
   "cell_type": "code",
   "execution_count": 209,
   "id": "1f4b9560-222a-4882-8332-8a583768c971",
   "metadata": {},
   "outputs": [
    {
     "data": {
      "application/javascript": [
       "\n",
       "        if (window._pyforest_update_imports_cell) { window._pyforest_update_imports_cell('import pandas as pd\\nimport numpy as np'); }\n",
       "    "
      ],
      "text/plain": [
       "<IPython.core.display.Javascript object>"
      ]
     },
     "metadata": {},
     "output_type": "display_data"
    },
    {
     "data": {
      "text/plain": [
       "0.9411764705882353"
      ]
     },
     "execution_count": 209,
     "metadata": {},
     "output_type": "execute_result"
    }
   ],
   "source": [
    "correct=np.sum(similarity_result[\"证型\"]==similarity_result[\"前10出现次数最多证型\"])\n",
    "correct/476"
   ]
  },
  {
   "cell_type": "code",
   "execution_count": 211,
   "id": "6d4b30d7-a687-434a-b5e8-867ce6c2c4af",
   "metadata": {},
   "outputs": [
    {
     "data": {
      "application/javascript": [
       "\n",
       "        if (window._pyforest_update_imports_cell) { window._pyforest_update_imports_cell('import pandas as pd\\nimport numpy as np'); }\n",
       "    "
      ],
      "text/plain": [
       "<IPython.core.display.Javascript object>"
      ]
     },
     "metadata": {},
     "output_type": "display_data"
    },
    {
     "data": {
      "text/html": [
       "<div>\n",
       "<style scoped>\n",
       "    .dataframe tbody tr th:only-of-type {\n",
       "        vertical-align: middle;\n",
       "    }\n",
       "\n",
       "    .dataframe tbody tr th {\n",
       "        vertical-align: top;\n",
       "    }\n",
       "\n",
       "    .dataframe thead th {\n",
       "        text-align: right;\n",
       "    }\n",
       "</style>\n",
       "<table border=\"1\" class=\"dataframe\">\n",
       "  <thead>\n",
       "    <tr style=\"text-align: right;\">\n",
       "      <th></th>\n",
       "      <th>Patient1</th>\n",
       "      <th>证型</th>\n",
       "      <th>前10出现次数最多证型</th>\n",
       "    </tr>\n",
       "  </thead>\n",
       "  <tbody>\n",
       "    <tr>\n",
       "      <th>0</th>\n",
       "      <td>患者10</td>\n",
       "      <td>脾胃亏虚</td>\n",
       "      <td>脾胃亏虚</td>\n",
       "    </tr>\n",
       "    <tr>\n",
       "      <th>1</th>\n",
       "      <td>患者118</td>\n",
       "      <td>脾胃亏虚</td>\n",
       "      <td>脾胃亏虚</td>\n",
       "    </tr>\n",
       "    <tr>\n",
       "      <th>2</th>\n",
       "      <td>患者148</td>\n",
       "      <td>脾胃亏虚</td>\n",
       "      <td>脾胃亏虚</td>\n",
       "    </tr>\n",
       "    <tr>\n",
       "      <th>3</th>\n",
       "      <td>患者152</td>\n",
       "      <td>脾胃亏虚</td>\n",
       "      <td>脾胃亏虚</td>\n",
       "    </tr>\n",
       "    <tr>\n",
       "      <th>4</th>\n",
       "      <td>患者153</td>\n",
       "      <td>脾胃亏虚</td>\n",
       "      <td>脾胃亏虚</td>\n",
       "    </tr>\n",
       "    <tr>\n",
       "      <th>...</th>\n",
       "      <td>...</td>\n",
       "      <td>...</td>\n",
       "      <td>...</td>\n",
       "    </tr>\n",
       "    <tr>\n",
       "      <th>114</th>\n",
       "      <td>患者53</td>\n",
       "      <td>脾胃亏虚</td>\n",
       "      <td>脾胃亏虚</td>\n",
       "    </tr>\n",
       "    <tr>\n",
       "      <th>115</th>\n",
       "      <td>患者550</td>\n",
       "      <td>肾精亏损</td>\n",
       "      <td>肾精亏损</td>\n",
       "    </tr>\n",
       "    <tr>\n",
       "      <th>116</th>\n",
       "      <td>患者552</td>\n",
       "      <td>肾精亏损</td>\n",
       "      <td>肾精亏损</td>\n",
       "    </tr>\n",
       "    <tr>\n",
       "      <th>117</th>\n",
       "      <td>患者87</td>\n",
       "      <td>脾胃亏虚</td>\n",
       "      <td>脾胃亏虚</td>\n",
       "    </tr>\n",
       "    <tr>\n",
       "      <th>118</th>\n",
       "      <td>患者91</td>\n",
       "      <td>脾胃亏虚</td>\n",
       "      <td>脾胃亏虚</td>\n",
       "    </tr>\n",
       "  </tbody>\n",
       "</table>\n",
       "<p>119 rows × 3 columns</p>\n",
       "</div>"
      ],
      "text/plain": [
       "    Patient1    证型 前10出现次数最多证型\n",
       "0       患者10  脾胃亏虚        脾胃亏虚\n",
       "1      患者118  脾胃亏虚        脾胃亏虚\n",
       "2      患者148  脾胃亏虚        脾胃亏虚\n",
       "3      患者152  脾胃亏虚        脾胃亏虚\n",
       "4      患者153  脾胃亏虚        脾胃亏虚\n",
       "..       ...   ...         ...\n",
       "114     患者53  脾胃亏虚        脾胃亏虚\n",
       "115    患者550  肾精亏损        肾精亏损\n",
       "116    患者552  肾精亏损        肾精亏损\n",
       "117     患者87  脾胃亏虚        脾胃亏虚\n",
       "118     患者91  脾胃亏虚        脾胃亏虚\n",
       "\n",
       "[119 rows x 3 columns]"
      ]
     },
     "execution_count": 211,
     "metadata": {},
     "output_type": "execute_result"
    }
   ],
   "source": [
    "#测试集\n",
    "similarity_result=pd.DataFrame()\n",
    "similarity_result[\"Patient1\"]=patient1\n",
    "similarity_result[\"证型\"]=patient_Syndrome\n",
    "similarity_result[\"前10出现次数最多证型\"]=similarity_Syndrome\n",
    "similarity_result.to_csv(\"./outData/5折_1similarity_testResult.csv\")\n",
    "similarity_result"
   ]
  },
  {
   "cell_type": "code",
   "execution_count": 212,
   "id": "94284fcb-772e-4aea-90a3-d7c901ede856",
   "metadata": {},
   "outputs": [
    {
     "data": {
      "application/javascript": [
       "\n",
       "        if (window._pyforest_update_imports_cell) { window._pyforest_update_imports_cell('import pandas as pd\\nimport numpy as np'); }\n",
       "    "
      ],
      "text/plain": [
       "<IPython.core.display.Javascript object>"
      ]
     },
     "metadata": {},
     "output_type": "display_data"
    },
    {
     "data": {
      "text/plain": [
       "0.9411764705882353"
      ]
     },
     "execution_count": 212,
     "metadata": {},
     "output_type": "execute_result"
    }
   ],
   "source": [
    "correct=np.sum(similarity_result[\"证型\"]==similarity_result[\"前10出现次数最多证型\"])\n",
    "correct/119"
   ]
  },
  {
   "cell_type": "code",
   "execution_count": 130,
   "id": "682dadb3-64cf-4d0f-b1b2-c6e932e83d75",
   "metadata": {},
   "outputs": [
    {
     "data": {
      "application/javascript": [
       "\n",
       "        if (window._pyforest_update_imports_cell) { window._pyforest_update_imports_cell('import pandas as pd'); }\n",
       "    "
      ],
      "text/plain": [
       "<IPython.core.display.Javascript object>"
      ]
     },
     "metadata": {},
     "output_type": "display_data"
    },
    {
     "data": {
      "text/html": [
       "<div>\n",
       "<style scoped>\n",
       "    .dataframe tbody tr th:only-of-type {\n",
       "        vertical-align: middle;\n",
       "    }\n",
       "\n",
       "    .dataframe tbody tr th {\n",
       "        vertical-align: top;\n",
       "    }\n",
       "\n",
       "    .dataframe thead th {\n",
       "        text-align: right;\n",
       "    }\n",
       "</style>\n",
       "<table border=\"1\" class=\"dataframe\">\n",
       "  <thead>\n",
       "    <tr style=\"text-align: right;\">\n",
       "      <th></th>\n",
       "      <th>Unnamed: 0</th>\n",
       "      <th>Patient1</th>\n",
       "      <th>证型</th>\n",
       "      <th>前10出现次数最多证型</th>\n",
       "    </tr>\n",
       "  </thead>\n",
       "  <tbody>\n",
       "    <tr>\n",
       "      <th>0</th>\n",
       "      <td>0</td>\n",
       "      <td>患者267</td>\n",
       "      <td>2</td>\n",
       "      <td>2</td>\n",
       "    </tr>\n",
       "    <tr>\n",
       "      <th>1</th>\n",
       "      <td>1</td>\n",
       "      <td>患者269</td>\n",
       "      <td>2</td>\n",
       "      <td>1</td>\n",
       "    </tr>\n",
       "    <tr>\n",
       "      <th>2</th>\n",
       "      <td>2</td>\n",
       "      <td>患者288</td>\n",
       "      <td>2</td>\n",
       "      <td>2</td>\n",
       "    </tr>\n",
       "    <tr>\n",
       "      <th>3</th>\n",
       "      <td>3</td>\n",
       "      <td>患者303</td>\n",
       "      <td>2</td>\n",
       "      <td>2</td>\n",
       "    </tr>\n",
       "    <tr>\n",
       "      <th>4</th>\n",
       "      <td>4</td>\n",
       "      <td>患者311</td>\n",
       "      <td>1</td>\n",
       "      <td>1</td>\n",
       "    </tr>\n",
       "    <tr>\n",
       "      <th>...</th>\n",
       "      <td>...</td>\n",
       "      <td>...</td>\n",
       "      <td>...</td>\n",
       "      <td>...</td>\n",
       "    </tr>\n",
       "    <tr>\n",
       "      <th>174</th>\n",
       "      <td>174</td>\n",
       "      <td>患者367</td>\n",
       "      <td>1</td>\n",
       "      <td>1</td>\n",
       "    </tr>\n",
       "    <tr>\n",
       "      <th>175</th>\n",
       "      <td>175</td>\n",
       "      <td>患者375</td>\n",
       "      <td>1</td>\n",
       "      <td>1</td>\n",
       "    </tr>\n",
       "    <tr>\n",
       "      <th>176</th>\n",
       "      <td>176</td>\n",
       "      <td>患者385</td>\n",
       "      <td>1</td>\n",
       "      <td>1</td>\n",
       "    </tr>\n",
       "    <tr>\n",
       "      <th>177</th>\n",
       "      <td>177</td>\n",
       "      <td>患者388</td>\n",
       "      <td>1</td>\n",
       "      <td>1</td>\n",
       "    </tr>\n",
       "    <tr>\n",
       "      <th>178</th>\n",
       "      <td>178</td>\n",
       "      <td>患者396</td>\n",
       "      <td>1</td>\n",
       "      <td>1</td>\n",
       "    </tr>\n",
       "  </tbody>\n",
       "</table>\n",
       "<p>179 rows × 4 columns</p>\n",
       "</div>"
      ],
      "text/plain": [
       "     Unnamed: 0 Patient1  证型  前10出现次数最多证型\n",
       "0             0    患者267   2            2\n",
       "1             1    患者269   2            1\n",
       "2             2    患者288   2            2\n",
       "3             3    患者303   2            2\n",
       "4             4    患者311   1            1\n",
       "..          ...      ...  ..          ...\n",
       "174         174    患者367   1            1\n",
       "175         175    患者375   1            1\n",
       "176         176    患者385   1            1\n",
       "177         177    患者388   1            1\n",
       "178         178    患者396   1            1\n",
       "\n",
       "[179 rows x 4 columns]"
      ]
     },
     "execution_count": 130,
     "metadata": {},
     "output_type": "execute_result"
    }
   ],
   "source": [
    "similarity_testResult = pd.read_csv(r\"./outData/similarity_testResult.csv\",encoding=\"gbk\")\n",
    "similarity_testResult"
   ]
  },
  {
   "cell_type": "code",
   "execution_count": 135,
   "id": "b4f3d9c4-089b-4770-9821-55a195d31a9a",
   "metadata": {},
   "outputs": [
    {
     "data": {
      "application/javascript": [
       "\n",
       "        if (window._pyforest_update_imports_cell) { window._pyforest_update_imports_cell('import pandas as pd\\nimport numpy as np'); }\n",
       "    "
      ],
      "text/plain": [
       "<IPython.core.display.Javascript object>"
      ]
     },
     "metadata": {},
     "output_type": "display_data"
    },
    {
     "data": {
      "text/plain": [
       "176"
      ]
     },
     "execution_count": 135,
     "metadata": {},
     "output_type": "execute_result"
    }
   ],
   "source": [
    "correct=np.sum(similarity_testResult[\"证型\"]==similarity_testResult[\"前10出现次数最多证型\"])\n",
    "correct"
   ]
  },
  {
   "cell_type": "code",
   "execution_count": 132,
   "id": "7f58d4f7-8840-4e22-853c-204fd01f2405",
   "metadata": {},
   "outputs": [
    {
     "data": {
      "text/plain": [
       "0.9832402234636871"
      ]
     },
     "execution_count": 132,
     "metadata": {},
     "output_type": "execute_result"
    }
   ],
   "source": [
    "correct/179"
   ]
  },
  {
   "cell_type": "markdown",
   "id": "fc1f83c7-2672-472e-8f8b-71cf9674a66b",
   "metadata": {},
   "source": [
    "# 只获取name为患者的行"
   ]
  },
  {
   "cell_type": "code",
   "execution_count": 9,
   "id": "6a508707-6052-4efa-b5e1-6903bc47fb6b",
   "metadata": {},
   "outputs": [],
   "source": [
    "#只获取name为患者的行\n",
    "def getNameRow(df,columns):\n",
    "    data_=pd.DataFrame(columns=columns)\n",
    "    j=0\n",
    "    for i in range(len(df)):\n",
    "        res = re.findall('患者', data3['Person1'][i])\n",
    "        if res!=[] and res[0] == '患者':\n",
    "            data_.loc[j]=df.loc[i]\n",
    "            j=j+1\n",
    "    return data_"
   ]
  },
  {
   "cell_type": "markdown",
   "id": "34c21b22-3ed3-4478-a612-13ba700e8b2e",
   "metadata": {},
   "source": [
    "# 获取出现次数最多的证型\n"
   ]
  },
  {
   "cell_type": "code",
   "execution_count": 10,
   "id": "7da48cab-f99b-4184-a8db-bb75d8c6799b",
   "metadata": {},
   "outputs": [],
   "source": [
    "#获取出现次数最多的证型\n",
    "def max_list(similarity_datas):\n",
    "    temp = 0\n",
    "    if len(similarity_datas) !=0:\n",
    "        for item in similarity_datas:\n",
    "            if similarity_datas.count(item) > temp:\n",
    "                max_str = item\n",
    "                temp = similarity_datas.count(item)\n",
    "    else:\n",
    "        print(\"similarity_datas数组为空\")\n",
    "    return max_str"
   ]
  },
  {
   "cell_type": "code",
   "execution_count": null,
   "id": "f1d2d715-6234-4353-8998-143b797c8474",
   "metadata": {},
   "outputs": [],
   "source": []
  }
 ],
 "metadata": {
  "kernelspec": {
   "display_name": "Python 3",
   "language": "python",
   "name": "python3"
  },
  "language_info": {
   "codemirror_mode": {
    "name": "ipython",
    "version": 3
   },
   "file_extension": ".py",
   "mimetype": "text/x-python",
   "name": "python",
   "nbconvert_exporter": "python",
   "pygments_lexer": "ipython3",
   "version": "3.6.13"
  },
  "toc-autonumbering": true,
  "toc-showcode": false,
  "toc-showmarkdowntxt": true,
  "toc-showtags": false
 },
 "nbformat": 4,
 "nbformat_minor": 5
}
