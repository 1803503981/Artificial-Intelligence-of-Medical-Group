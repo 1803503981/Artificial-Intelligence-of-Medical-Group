{
 "cells": [
  {
   "cell_type": "markdown",
   "id": "7145d486-9759-458d-a335-6654a7f77d02",
   "metadata": {},
   "source": [
    "# 第一步 读取数据集"
   ]
  },
  {
   "cell_type": "markdown",
   "id": "3d172cb3-a26b-4c7f-a6f0-065d2725cd52",
   "metadata": {},
   "source": [
    "## 加载图数据库"
   ]
  },
  {
   "cell_type": "code",
   "execution_count": 1,
   "id": "8ae55338-8de7-447f-8253-35eba1e50939",
   "metadata": {},
   "outputs": [],
   "source": [
    "from py2neo import Node, Relationship, Graph, NodeMatcher, RelationshipMatcher\n",
    "\n",
    "# 打开数据库\n",
    "graph = Graph(\"bolt://localhost:7687\", auth=(\"neo4j\", \"kzldeneo4j@\"))"
   ]
  },
  {
   "cell_type": "code",
   "execution_count": 3,
   "id": "b4593f79-cb43-4a03-bf14-e465d60cd2ae",
   "metadata": {},
   "outputs": [
    {
     "data": {
      "text/html": [
       "<table><tr><th>count(n)</th></tr><tr><td style=\"text-align:right\">2368</td></tr></table>"
      ],
      "text/plain": [
       " count(n) \n",
       "----------\n",
       "     2368 "
      ]
     },
     "execution_count": 3,
     "metadata": {},
     "output_type": "execute_result"
    }
   ],
   "source": [
    "cypher_=\"MATCH (n) RETURN count(n)\"\n",
    "graph.run(cypher_)"
   ]
  },
  {
   "cell_type": "markdown",
   "id": "3b698bf3-9a10-4e3a-9c32-9a8ec5e820b9",
   "metadata": {},
   "source": [
    "## 训练集数据"
   ]
  },
  {
   "cell_type": "code",
   "execution_count": 17,
   "id": "d1b40705-4c7a-4ca5-b57c-6a80c0cca466",
   "metadata": {},
   "outputs": [
    {
     "data": {
      "application/javascript": "\n        if (window._pyforest_update_imports_cell) { window._pyforest_update_imports_cell('import pandas as pd'); }\n    ",
      "text/plain": [
       "<IPython.core.display.Javascript object>"
      ]
     },
     "metadata": {},
     "output_type": "display_data"
    },
    {
     "data": {
      "text/html": [
       "<div>\n",
       "<style scoped>\n",
       "    .dataframe tbody tr th:only-of-type {\n",
       "        vertical-align: middle;\n",
       "    }\n",
       "\n",
       "    .dataframe tbody tr th {\n",
       "        vertical-align: top;\n",
       "    }\n",
       "\n",
       "    .dataframe thead th {\n",
       "        text-align: right;\n",
       "    }\n",
       "</style>\n",
       "<table border=\"1\" class=\"dataframe\">\n",
       "  <thead>\n",
       "    <tr style=\"text-align: right;\">\n",
       "      <th></th>\n",
       "      <th>患者</th>\n",
       "      <th>性别</th>\n",
       "      <th>发病节气</th>\n",
       "      <th>劳累</th>\n",
       "      <th>噪音</th>\n",
       "      <th>耳机使用</th>\n",
       "      <th>锻炼</th>\n",
       "      <th>压力</th>\n",
       "      <th>感染</th>\n",
       "      <th>抽烟</th>\n",
       "      <th>...</th>\n",
       "      <th>INR</th>\n",
       "      <th>APTT</th>\n",
       "      <th>FIB</th>\n",
       "      <th>D-二聚体</th>\n",
       "      <th>TT</th>\n",
       "      <th>年龄</th>\n",
       "      <th>病程（月）</th>\n",
       "      <th>TEQ</th>\n",
       "      <th>THI</th>\n",
       "      <th>VAS</th>\n",
       "    </tr>\n",
       "  </thead>\n",
       "  <tbody>\n",
       "    <tr>\n",
       "      <th>0</th>\n",
       "      <td>患者397</td>\n",
       "      <td>女</td>\n",
       "      <td>白露</td>\n",
       "      <td>0</td>\n",
       "      <td>0</td>\n",
       "      <td>0</td>\n",
       "      <td>0</td>\n",
       "      <td>0</td>\n",
       "      <td>0</td>\n",
       "      <td>0</td>\n",
       "      <td>...</td>\n",
       "      <td>1.05</td>\n",
       "      <td>37.4</td>\n",
       "      <td>2.79</td>\n",
       "      <td>0.24</td>\n",
       "      <td>17.6</td>\n",
       "      <td>63.0</td>\n",
       "      <td>7.0</td>\n",
       "      <td>14</td>\n",
       "      <td>32</td>\n",
       "      <td>6.0</td>\n",
       "    </tr>\n",
       "    <tr>\n",
       "      <th>1</th>\n",
       "      <td>患者254</td>\n",
       "      <td>女</td>\n",
       "      <td>立夏</td>\n",
       "      <td>0</td>\n",
       "      <td>0</td>\n",
       "      <td>0</td>\n",
       "      <td>0</td>\n",
       "      <td>0</td>\n",
       "      <td>0</td>\n",
       "      <td>0</td>\n",
       "      <td>...</td>\n",
       "      <td>NaN</td>\n",
       "      <td>NaN</td>\n",
       "      <td>NaN</td>\n",
       "      <td>NaN</td>\n",
       "      <td>NaN</td>\n",
       "      <td>46.0</td>\n",
       "      <td>3.0</td>\n",
       "      <td>12</td>\n",
       "      <td>38</td>\n",
       "      <td>6.0</td>\n",
       "    </tr>\n",
       "    <tr>\n",
       "      <th>2</th>\n",
       "      <td>患者1101</td>\n",
       "      <td>女</td>\n",
       "      <td>0</td>\n",
       "      <td>0</td>\n",
       "      <td>0</td>\n",
       "      <td>0</td>\n",
       "      <td>0</td>\n",
       "      <td>0</td>\n",
       "      <td>0</td>\n",
       "      <td>0</td>\n",
       "      <td>...</td>\n",
       "      <td>NaN</td>\n",
       "      <td>NaN</td>\n",
       "      <td>NaN</td>\n",
       "      <td>NaN</td>\n",
       "      <td>NaN</td>\n",
       "      <td>60.0</td>\n",
       "      <td>1.0</td>\n",
       "      <td>7</td>\n",
       "      <td>18</td>\n",
       "      <td>5.0</td>\n",
       "    </tr>\n",
       "    <tr>\n",
       "      <th>3</th>\n",
       "      <td>患者43</td>\n",
       "      <td>女</td>\n",
       "      <td>小暑</td>\n",
       "      <td>0</td>\n",
       "      <td>0</td>\n",
       "      <td>0</td>\n",
       "      <td>0</td>\n",
       "      <td>0</td>\n",
       "      <td>0</td>\n",
       "      <td>0</td>\n",
       "      <td>...</td>\n",
       "      <td>1.18</td>\n",
       "      <td>21.7</td>\n",
       "      <td>0.54</td>\n",
       "      <td>0.57</td>\n",
       "      <td>28.3</td>\n",
       "      <td>44.0</td>\n",
       "      <td>24.0</td>\n",
       "      <td>10</td>\n",
       "      <td>16</td>\n",
       "      <td>4.0</td>\n",
       "    </tr>\n",
       "    <tr>\n",
       "      <th>4</th>\n",
       "      <td>患者852</td>\n",
       "      <td>女</td>\n",
       "      <td>0</td>\n",
       "      <td>0</td>\n",
       "      <td>0</td>\n",
       "      <td>0</td>\n",
       "      <td>锻炼</td>\n",
       "      <td>0</td>\n",
       "      <td>0</td>\n",
       "      <td>0</td>\n",
       "      <td>...</td>\n",
       "      <td>NaN</td>\n",
       "      <td>NaN</td>\n",
       "      <td>NaN</td>\n",
       "      <td>NaN</td>\n",
       "      <td>NaN</td>\n",
       "      <td>57.0</td>\n",
       "      <td>5.0</td>\n",
       "      <td>8</td>\n",
       "      <td>12</td>\n",
       "      <td>1.0</td>\n",
       "    </tr>\n",
       "    <tr>\n",
       "      <th>...</th>\n",
       "      <td>...</td>\n",
       "      <td>...</td>\n",
       "      <td>...</td>\n",
       "      <td>...</td>\n",
       "      <td>...</td>\n",
       "      <td>...</td>\n",
       "      <td>...</td>\n",
       "      <td>...</td>\n",
       "      <td>...</td>\n",
       "      <td>...</td>\n",
       "      <td>...</td>\n",
       "      <td>...</td>\n",
       "      <td>...</td>\n",
       "      <td>...</td>\n",
       "      <td>...</td>\n",
       "      <td>...</td>\n",
       "      <td>...</td>\n",
       "      <td>...</td>\n",
       "      <td>...</td>\n",
       "      <td>...</td>\n",
       "      <td>...</td>\n",
       "    </tr>\n",
       "    <tr>\n",
       "      <th>275</th>\n",
       "      <td>患者433</td>\n",
       "      <td>女</td>\n",
       "      <td>寒露</td>\n",
       "      <td>0</td>\n",
       "      <td>0</td>\n",
       "      <td>0</td>\n",
       "      <td>0</td>\n",
       "      <td>0</td>\n",
       "      <td>0</td>\n",
       "      <td>0</td>\n",
       "      <td>...</td>\n",
       "      <td>0.96</td>\n",
       "      <td>31.3</td>\n",
       "      <td>1.88</td>\n",
       "      <td>0.22</td>\n",
       "      <td>20.1</td>\n",
       "      <td>42.0</td>\n",
       "      <td>24.0</td>\n",
       "      <td>8</td>\n",
       "      <td>16</td>\n",
       "      <td>4.0</td>\n",
       "    </tr>\n",
       "    <tr>\n",
       "      <th>276</th>\n",
       "      <td>患者1128</td>\n",
       "      <td>女</td>\n",
       "      <td>0</td>\n",
       "      <td>0</td>\n",
       "      <td>0</td>\n",
       "      <td>0</td>\n",
       "      <td>0</td>\n",
       "      <td>压力</td>\n",
       "      <td>0</td>\n",
       "      <td>0</td>\n",
       "      <td>...</td>\n",
       "      <td>NaN</td>\n",
       "      <td>NaN</td>\n",
       "      <td>NaN</td>\n",
       "      <td>NaN</td>\n",
       "      <td>NaN</td>\n",
       "      <td>40.0</td>\n",
       "      <td>1.0</td>\n",
       "      <td>13</td>\n",
       "      <td>83</td>\n",
       "      <td>9.0</td>\n",
       "    </tr>\n",
       "    <tr>\n",
       "      <th>277</th>\n",
       "      <td>患者737</td>\n",
       "      <td>男</td>\n",
       "      <td>0</td>\n",
       "      <td>0</td>\n",
       "      <td>0</td>\n",
       "      <td>0</td>\n",
       "      <td>0</td>\n",
       "      <td>0</td>\n",
       "      <td>0</td>\n",
       "      <td>抽烟</td>\n",
       "      <td>...</td>\n",
       "      <td>NaN</td>\n",
       "      <td>NaN</td>\n",
       "      <td>NaN</td>\n",
       "      <td>NaN</td>\n",
       "      <td>NaN</td>\n",
       "      <td>55.0</td>\n",
       "      <td>8.0</td>\n",
       "      <td>4</td>\n",
       "      <td>6</td>\n",
       "      <td>2.0</td>\n",
       "    </tr>\n",
       "    <tr>\n",
       "      <th>278</th>\n",
       "      <td>患者28</td>\n",
       "      <td>女</td>\n",
       "      <td>谷雨</td>\n",
       "      <td>0</td>\n",
       "      <td>0</td>\n",
       "      <td>0</td>\n",
       "      <td>0</td>\n",
       "      <td>0</td>\n",
       "      <td>感染</td>\n",
       "      <td>0</td>\n",
       "      <td>...</td>\n",
       "      <td>NaN</td>\n",
       "      <td>NaN</td>\n",
       "      <td>NaN</td>\n",
       "      <td>NaN</td>\n",
       "      <td>NaN</td>\n",
       "      <td>66.0</td>\n",
       "      <td>0.5</td>\n",
       "      <td>7</td>\n",
       "      <td>12</td>\n",
       "      <td>2.0</td>\n",
       "    </tr>\n",
       "    <tr>\n",
       "      <th>279</th>\n",
       "      <td>患者1232</td>\n",
       "      <td>男</td>\n",
       "      <td>0</td>\n",
       "      <td>0</td>\n",
       "      <td>0</td>\n",
       "      <td>0</td>\n",
       "      <td>0</td>\n",
       "      <td>0</td>\n",
       "      <td>0</td>\n",
       "      <td>0</td>\n",
       "      <td>...</td>\n",
       "      <td>NaN</td>\n",
       "      <td>NaN</td>\n",
       "      <td>NaN</td>\n",
       "      <td>NaN</td>\n",
       "      <td>NaN</td>\n",
       "      <td>58.0</td>\n",
       "      <td>24.0</td>\n",
       "      <td>15</td>\n",
       "      <td>82</td>\n",
       "      <td>7.0</td>\n",
       "    </tr>\n",
       "  </tbody>\n",
       "</table>\n",
       "<p>280 rows × 109 columns</p>\n",
       "</div>"
      ],
      "text/plain": [
       "         患者 性别 发病节气 劳累 噪音 耳机使用  锻炼  压力  感染  抽烟  ...   INR  APTT   FIB D-二聚体  \\\n",
       "0     患者397  女   白露  0  0    0   0   0   0   0  ...  1.05  37.4  2.79  0.24   \n",
       "1     患者254  女   立夏  0  0    0   0   0   0   0  ...   NaN   NaN   NaN   NaN   \n",
       "2    患者1101  女    0  0  0    0   0   0   0   0  ...   NaN   NaN   NaN   NaN   \n",
       "3      患者43  女   小暑  0  0    0   0   0   0   0  ...  1.18  21.7  0.54  0.57   \n",
       "4     患者852  女    0  0  0    0  锻炼   0   0   0  ...   NaN   NaN   NaN   NaN   \n",
       "..      ... ..  ... .. ..  ...  ..  ..  ..  ..  ...   ...   ...   ...   ...   \n",
       "275   患者433  女   寒露  0  0    0   0   0   0   0  ...  0.96  31.3  1.88  0.22   \n",
       "276  患者1128  女    0  0  0    0   0  压力   0   0  ...   NaN   NaN   NaN   NaN   \n",
       "277   患者737  男    0  0  0    0   0   0   0  抽烟  ...   NaN   NaN   NaN   NaN   \n",
       "278    患者28  女   谷雨  0  0    0   0   0  感染   0  ...   NaN   NaN   NaN   NaN   \n",
       "279  患者1232  男    0  0  0    0   0   0   0   0  ...   NaN   NaN   NaN   NaN   \n",
       "\n",
       "       TT    年龄 病程（月） TEQ THI  VAS  \n",
       "0    17.6  63.0   7.0  14  32  6.0  \n",
       "1     NaN  46.0   3.0  12  38  6.0  \n",
       "2     NaN  60.0   1.0   7  18  5.0  \n",
       "3    28.3  44.0  24.0  10  16  4.0  \n",
       "4     NaN  57.0   5.0   8  12  1.0  \n",
       "..    ...   ...   ...  ..  ..  ...  \n",
       "275  20.1  42.0  24.0   8  16  4.0  \n",
       "276   NaN  40.0   1.0  13  83  9.0  \n",
       "277   NaN  55.0   8.0   4   6  2.0  \n",
       "278   NaN  66.0   0.5   7  12  2.0  \n",
       "279   NaN  58.0  24.0  15  82  7.0  \n",
       "\n",
       "[280 rows x 109 columns]"
      ]
     },
     "execution_count": 17,
     "metadata": {},
     "output_type": "execute_result"
    }
   ],
   "source": [
    "trainData = pd.read_csv(r\"./outData新数据/递增数据/数据400训练集.csv\",encoding=\"gbk\")\n",
    "trainData=trainData.drop(\"Unnamed: 0\",axis=1)\n",
    "trainData"
   ]
  },
  {
   "cell_type": "code",
   "execution_count": 1,
   "id": "0d3cbedc-d69b-4f1b-846e-95c53720823a",
   "metadata": {},
   "outputs": [
    {
     "data": {
      "application/javascript": "\n        if (window._pyforest_update_imports_cell) { window._pyforest_update_imports_cell('import pandas as pd'); }\n    ",
      "text/plain": [
       "<IPython.core.display.Javascript object>"
      ]
     },
     "metadata": {},
     "output_type": "display_data"
    },
    {
     "data": {
      "application/javascript": "\n        if (window._pyforest_update_imports_cell) { window._pyforest_update_imports_cell('import pandas as pd'); }\n    ",
      "text/plain": [
       "<IPython.core.display.Javascript object>"
      ]
     },
     "metadata": {},
     "output_type": "display_data"
    },
    {
     "data": {
      "text/plain": [
       "(          患者 性别 发病节气  劳累 噪音  耳机使用  锻炼  压力  感染  抽烟  ...   INR  APTT   FIB  \\\n",
       " 0        患者0  女   大寒   0  0     0   0   0   0   0  ...  0.97  35.3  2.39   \n",
       " 1        患者1  男   大寒   0  0     0   0   0   0   0  ...  1.03  34.7  2.85   \n",
       " 2        患者2  男   立春   0  0     0   0   0   0   0  ...  1.13  38.8  2.79   \n",
       " 3        患者3  女   立春   0  0     0   0   0  感染   0  ...  1.16  23.6  5.66   \n",
       " 4        患者4  女   大寒  劳累  0     0   0   0   0   0  ...  0.95  25.1  3.17   \n",
       " ...      ... ..  ...  .. ..   ...  ..  ..  ..  ..  ...   ...   ...   ...   \n",
       " 1007  患者1260  女    0   0  0  耳机使用   0  压力   0   0  ...   NaN   NaN   NaN   \n",
       " 1008  患者1261  女    0   0  0  耳机使用  锻炼  压力   0   0  ...   NaN   NaN   NaN   \n",
       " 1009  患者1262  女    0   0  0     0   0  压力   0   0  ...   NaN   NaN   NaN   \n",
       " 1010  患者1263  女    0   0  0     0   0  压力   0   0  ...   NaN   NaN   NaN   \n",
       " 1011  患者1264  男    0   0  0     0  锻炼   0   0  抽烟  ...   NaN   NaN   NaN   \n",
       " \n",
       "      D-二聚体    TT    年龄  病程（月） TEQ THI  VAS  \n",
       " 0     0.19  18.3  45.0    7.0  10  18  6.0  \n",
       " 1     0.36  18.6  75.0   36.0   8  22  3.0  \n",
       " 2     0.34  19.5  74.0    1.0  12  42  8.0  \n",
       " 3     0.71  14.7  72.0    0.3   8  24  6.0  \n",
       " 4     0.32  15.6  50.0    1.0  18  78  9.0  \n",
       " ...    ...   ...   ...    ...  ..  ..  ...  \n",
       " 1007   NaN   NaN  36.0    5.0  19  60  8.0  \n",
       " 1008   NaN   NaN  52.0    1.0  14  26  7.0  \n",
       " 1009   NaN   NaN  29.0    6.0  17  44  9.0  \n",
       " 1010   NaN   NaN  33.0  108.0  16  46  9.0  \n",
       " 1011   NaN   NaN  64.0   84.0  13  44  7.0  \n",
       " \n",
       " [1012 rows x 109 columns],\n",
       "          患者 性别 发病节气 劳累  噪音  耳机使用 锻炼  压力 感染  抽烟  ...   INR  APTT   FIB D-二聚体  \\\n",
       " 0       患者7  男   雨水  0   0     0  0   0  0   0  ...  1.06  32.4  2.35  0.16   \n",
       " 1       患者9  女   立春  0   0     0  0   0  0   0  ...   NaN   NaN   NaN   NaN   \n",
       " 2      患者11  男   惊蛰  0   0     0  0   0  0   0  ...   NaN   NaN  3.30  0.01   \n",
       " 3      患者16  男   春分  0   0     0  0   0  0   0  ...   NaN   NaN  1.45   NaN   \n",
       " 4      患者20  男   清明  0   0     0  0   0  0   0  ...   NaN   NaN  0.58   NaN   \n",
       " ..      ... ..  ... ..  ..   ... ..  .. ..  ..  ...   ...   ...   ...   ...   \n",
       " 248  患者1246  女    0  0   0     0  0   0  0   0  ...   NaN   NaN   NaN   NaN   \n",
       " 249  患者1248  男    0  0   0     0  0  压力  0  抽烟  ...   NaN   NaN   NaN   NaN   \n",
       " 250  患者1249  女    0  0  噪音     0  0   0  0   0  ...   NaN   NaN   NaN   NaN   \n",
       " 251  患者1255  男    0  0  噪音     0  0   0  0  抽烟  ...   NaN   NaN   NaN   NaN   \n",
       " 252  患者1259  男    0  0  噪音  耳机使用  0  压力  0   0  ...   NaN   NaN   NaN   NaN   \n",
       " \n",
       "        TT    年龄  病程（月） TEQ THI  VAS  \n",
       " 0    19.0  30.0    1.0   6  14  6.0  \n",
       " 1     NaN  66.0    1.0  18  68  9.0  \n",
       " 2    18.0  36.0    1.0  12  78  8.0  \n",
       " 3    22.1  26.0  180.0   5  12  2.0  \n",
       " 4    24.9  40.0    0.1   8  32  5.0  \n",
       " ..    ...   ...    ...  ..  ..  ...  \n",
       " 248   NaN  48.0    6.0   7  12  3.0  \n",
       " 249   NaN  47.0   60.0  10   4  7.0  \n",
       " 250   NaN  62.0   36.0  12   8  9.0  \n",
       " 251   NaN  36.0   24.0   7  10  3.0  \n",
       " 252   NaN  33.0   12.0   9  36  7.0  \n",
       " \n",
       " [253 rows x 109 columns])"
      ]
     },
     "execution_count": 1,
     "metadata": {},
     "output_type": "execute_result"
    }
   ],
   "source": [
    "#读取测试集数据,encoding=\"gbk\"\n",
    "trainData = pd.read_csv(r\"D:\\学习资料\\项目资料\\耳鸣中医知识图谱\\neo4j\\数据\\新数据\\五折训练集5.csv\")\n",
    "trainData=trainData.drop(\"Unnamed: 0\",axis=1)\n",
    "#读取测试集数据\n",
    "testData = pd.read_csv(r\"D:\\学习资料\\项目资料\\耳鸣中医知识图谱\\neo4j\\数据\\新数据\\五折测试集5.csv\")\n",
    "testData=testData.drop(\"Unnamed: 0\",axis=1)\n",
    "\n",
    "trainData,testData"
   ]
  },
  {
   "cell_type": "markdown",
   "id": "4315e8d3-844f-4ae6-af99-48e283c19a3f",
   "metadata": {},
   "source": [
    "## 测试集数据"
   ]
  },
  {
   "cell_type": "code",
   "execution_count": 18,
   "id": "7d93a148-8419-4516-a2c6-96b253fc829f",
   "metadata": {},
   "outputs": [
    {
     "data": {
      "application/javascript": "\n        if (window._pyforest_update_imports_cell) { window._pyforest_update_imports_cell('import pandas as pd'); }\n    ",
      "text/plain": [
       "<IPython.core.display.Javascript object>"
      ]
     },
     "metadata": {},
     "output_type": "display_data"
    },
    {
     "data": {
      "text/html": [
       "<div>\n",
       "<style scoped>\n",
       "    .dataframe tbody tr th:only-of-type {\n",
       "        vertical-align: middle;\n",
       "    }\n",
       "\n",
       "    .dataframe tbody tr th {\n",
       "        vertical-align: top;\n",
       "    }\n",
       "\n",
       "    .dataframe thead th {\n",
       "        text-align: right;\n",
       "    }\n",
       "</style>\n",
       "<table border=\"1\" class=\"dataframe\">\n",
       "  <thead>\n",
       "    <tr style=\"text-align: right;\">\n",
       "      <th></th>\n",
       "      <th>患者</th>\n",
       "      <th>性别</th>\n",
       "      <th>发病节气</th>\n",
       "      <th>劳累</th>\n",
       "      <th>噪音</th>\n",
       "      <th>耳机使用</th>\n",
       "      <th>锻炼</th>\n",
       "      <th>压力</th>\n",
       "      <th>感染</th>\n",
       "      <th>抽烟</th>\n",
       "      <th>...</th>\n",
       "      <th>INR</th>\n",
       "      <th>APTT</th>\n",
       "      <th>FIB</th>\n",
       "      <th>D-二聚体</th>\n",
       "      <th>TT</th>\n",
       "      <th>年龄</th>\n",
       "      <th>病程（月）</th>\n",
       "      <th>TEQ</th>\n",
       "      <th>THI</th>\n",
       "      <th>VAS</th>\n",
       "    </tr>\n",
       "  </thead>\n",
       "  <tbody>\n",
       "    <tr>\n",
       "      <th>0</th>\n",
       "      <td>患者752</td>\n",
       "      <td>女</td>\n",
       "      <td>0</td>\n",
       "      <td>0</td>\n",
       "      <td>0</td>\n",
       "      <td>0</td>\n",
       "      <td>0</td>\n",
       "      <td>0</td>\n",
       "      <td>0</td>\n",
       "      <td>0</td>\n",
       "      <td>...</td>\n",
       "      <td>NaN</td>\n",
       "      <td>NaN</td>\n",
       "      <td>NaN</td>\n",
       "      <td>NaN</td>\n",
       "      <td>NaN</td>\n",
       "      <td>34.0</td>\n",
       "      <td>120.0</td>\n",
       "      <td>13</td>\n",
       "      <td>4</td>\n",
       "      <td>1.0</td>\n",
       "    </tr>\n",
       "    <tr>\n",
       "      <th>1</th>\n",
       "      <td>患者661</td>\n",
       "      <td>女</td>\n",
       "      <td>0</td>\n",
       "      <td>劳累</td>\n",
       "      <td>0</td>\n",
       "      <td>0</td>\n",
       "      <td>0</td>\n",
       "      <td>0</td>\n",
       "      <td>0</td>\n",
       "      <td>0</td>\n",
       "      <td>...</td>\n",
       "      <td>NaN</td>\n",
       "      <td>NaN</td>\n",
       "      <td>NaN</td>\n",
       "      <td>NaN</td>\n",
       "      <td>NaN</td>\n",
       "      <td>75.0</td>\n",
       "      <td>24.0</td>\n",
       "      <td>13</td>\n",
       "      <td>8</td>\n",
       "      <td>2.0</td>\n",
       "    </tr>\n",
       "    <tr>\n",
       "      <th>2</th>\n",
       "      <td>患者826</td>\n",
       "      <td>女</td>\n",
       "      <td>0</td>\n",
       "      <td>劳累</td>\n",
       "      <td>0</td>\n",
       "      <td>0</td>\n",
       "      <td>0</td>\n",
       "      <td>0</td>\n",
       "      <td>0</td>\n",
       "      <td>0</td>\n",
       "      <td>...</td>\n",
       "      <td>NaN</td>\n",
       "      <td>NaN</td>\n",
       "      <td>NaN</td>\n",
       "      <td>NaN</td>\n",
       "      <td>NaN</td>\n",
       "      <td>43.0</td>\n",
       "      <td>6.0</td>\n",
       "      <td>14</td>\n",
       "      <td>16</td>\n",
       "      <td>5.0</td>\n",
       "    </tr>\n",
       "    <tr>\n",
       "      <th>3</th>\n",
       "      <td>患者828</td>\n",
       "      <td>女</td>\n",
       "      <td>0</td>\n",
       "      <td>0</td>\n",
       "      <td>0</td>\n",
       "      <td>0</td>\n",
       "      <td>0</td>\n",
       "      <td>0</td>\n",
       "      <td>0</td>\n",
       "      <td>0</td>\n",
       "      <td>...</td>\n",
       "      <td>NaN</td>\n",
       "      <td>NaN</td>\n",
       "      <td>NaN</td>\n",
       "      <td>NaN</td>\n",
       "      <td>NaN</td>\n",
       "      <td>71.0</td>\n",
       "      <td>60.0</td>\n",
       "      <td>12</td>\n",
       "      <td>22</td>\n",
       "      <td>2.0</td>\n",
       "    </tr>\n",
       "    <tr>\n",
       "      <th>4</th>\n",
       "      <td>患者460</td>\n",
       "      <td>男</td>\n",
       "      <td>立冬</td>\n",
       "      <td>0</td>\n",
       "      <td>0</td>\n",
       "      <td>0</td>\n",
       "      <td>0</td>\n",
       "      <td>0</td>\n",
       "      <td>0</td>\n",
       "      <td>0</td>\n",
       "      <td>...</td>\n",
       "      <td>1.22</td>\n",
       "      <td>NaN</td>\n",
       "      <td>0.39</td>\n",
       "      <td>NaN</td>\n",
       "      <td>28.4</td>\n",
       "      <td>56.0</td>\n",
       "      <td>0.1</td>\n",
       "      <td>7</td>\n",
       "      <td>14</td>\n",
       "      <td>3.0</td>\n",
       "    </tr>\n",
       "    <tr>\n",
       "      <th>...</th>\n",
       "      <td>...</td>\n",
       "      <td>...</td>\n",
       "      <td>...</td>\n",
       "      <td>...</td>\n",
       "      <td>...</td>\n",
       "      <td>...</td>\n",
       "      <td>...</td>\n",
       "      <td>...</td>\n",
       "      <td>...</td>\n",
       "      <td>...</td>\n",
       "      <td>...</td>\n",
       "      <td>...</td>\n",
       "      <td>...</td>\n",
       "      <td>...</td>\n",
       "      <td>...</td>\n",
       "      <td>...</td>\n",
       "      <td>...</td>\n",
       "      <td>...</td>\n",
       "      <td>...</td>\n",
       "      <td>...</td>\n",
       "      <td>...</td>\n",
       "    </tr>\n",
       "    <tr>\n",
       "      <th>115</th>\n",
       "      <td>患者464</td>\n",
       "      <td>男</td>\n",
       "      <td>立冬</td>\n",
       "      <td>0</td>\n",
       "      <td>0</td>\n",
       "      <td>0</td>\n",
       "      <td>0</td>\n",
       "      <td>0</td>\n",
       "      <td>0</td>\n",
       "      <td>0</td>\n",
       "      <td>...</td>\n",
       "      <td>0.92</td>\n",
       "      <td>33.4</td>\n",
       "      <td>17.80</td>\n",
       "      <td>0.04</td>\n",
       "      <td>17.8</td>\n",
       "      <td>27.0</td>\n",
       "      <td>0.5</td>\n",
       "      <td>8</td>\n",
       "      <td>12</td>\n",
       "      <td>5.0</td>\n",
       "    </tr>\n",
       "    <tr>\n",
       "      <th>116</th>\n",
       "      <td>患者695</td>\n",
       "      <td>男</td>\n",
       "      <td>0</td>\n",
       "      <td>0</td>\n",
       "      <td>0</td>\n",
       "      <td>0</td>\n",
       "      <td>0</td>\n",
       "      <td>0</td>\n",
       "      <td>0</td>\n",
       "      <td>抽烟</td>\n",
       "      <td>...</td>\n",
       "      <td>NaN</td>\n",
       "      <td>NaN</td>\n",
       "      <td>NaN</td>\n",
       "      <td>NaN</td>\n",
       "      <td>NaN</td>\n",
       "      <td>52.0</td>\n",
       "      <td>72.0</td>\n",
       "      <td>10</td>\n",
       "      <td>2</td>\n",
       "      <td>1.0</td>\n",
       "    </tr>\n",
       "    <tr>\n",
       "      <th>117</th>\n",
       "      <td>患者875</td>\n",
       "      <td>女</td>\n",
       "      <td>0</td>\n",
       "      <td>劳累</td>\n",
       "      <td>噪音</td>\n",
       "      <td>0</td>\n",
       "      <td>0</td>\n",
       "      <td>0</td>\n",
       "      <td>0</td>\n",
       "      <td>抽烟</td>\n",
       "      <td>...</td>\n",
       "      <td>NaN</td>\n",
       "      <td>NaN</td>\n",
       "      <td>NaN</td>\n",
       "      <td>NaN</td>\n",
       "      <td>NaN</td>\n",
       "      <td>53.0</td>\n",
       "      <td>6.0</td>\n",
       "      <td>14</td>\n",
       "      <td>26</td>\n",
       "      <td>3.0</td>\n",
       "    </tr>\n",
       "    <tr>\n",
       "      <th>118</th>\n",
       "      <td>患者674</td>\n",
       "      <td>女</td>\n",
       "      <td>0</td>\n",
       "      <td>0</td>\n",
       "      <td>噪音</td>\n",
       "      <td>0</td>\n",
       "      <td>锻炼</td>\n",
       "      <td>0</td>\n",
       "      <td>0</td>\n",
       "      <td>0</td>\n",
       "      <td>...</td>\n",
       "      <td>NaN</td>\n",
       "      <td>NaN</td>\n",
       "      <td>NaN</td>\n",
       "      <td>NaN</td>\n",
       "      <td>NaN</td>\n",
       "      <td>69.0</td>\n",
       "      <td>2.0</td>\n",
       "      <td>12</td>\n",
       "      <td>36</td>\n",
       "      <td>5.0</td>\n",
       "    </tr>\n",
       "    <tr>\n",
       "      <th>119</th>\n",
       "      <td>患者1118</td>\n",
       "      <td>男</td>\n",
       "      <td>0</td>\n",
       "      <td>0</td>\n",
       "      <td>0</td>\n",
       "      <td>0</td>\n",
       "      <td>锻炼</td>\n",
       "      <td>0</td>\n",
       "      <td>0</td>\n",
       "      <td>抽烟</td>\n",
       "      <td>...</td>\n",
       "      <td>NaN</td>\n",
       "      <td>NaN</td>\n",
       "      <td>NaN</td>\n",
       "      <td>NaN</td>\n",
       "      <td>NaN</td>\n",
       "      <td>61.0</td>\n",
       "      <td>1.0</td>\n",
       "      <td>7</td>\n",
       "      <td>8</td>\n",
       "      <td>5.0</td>\n",
       "    </tr>\n",
       "  </tbody>\n",
       "</table>\n",
       "<p>120 rows × 109 columns</p>\n",
       "</div>"
      ],
      "text/plain": [
       "         患者 性别 发病节气  劳累  噪音 耳机使用  锻炼 压力 感染  抽烟  ...   INR  APTT    FIB D-二聚体  \\\n",
       "0     患者752  女    0   0   0    0   0  0  0   0  ...   NaN   NaN    NaN   NaN   \n",
       "1     患者661  女    0  劳累   0    0   0  0  0   0  ...   NaN   NaN    NaN   NaN   \n",
       "2     患者826  女    0  劳累   0    0   0  0  0   0  ...   NaN   NaN    NaN   NaN   \n",
       "3     患者828  女    0   0   0    0   0  0  0   0  ...   NaN   NaN    NaN   NaN   \n",
       "4     患者460  男   立冬   0   0    0   0  0  0   0  ...  1.22   NaN   0.39   NaN   \n",
       "..      ... ..  ...  ..  ..  ...  .. .. ..  ..  ...   ...   ...    ...   ...   \n",
       "115   患者464  男   立冬   0   0    0   0  0  0   0  ...  0.92  33.4  17.80  0.04   \n",
       "116   患者695  男    0   0   0    0   0  0  0  抽烟  ...   NaN   NaN    NaN   NaN   \n",
       "117   患者875  女    0  劳累  噪音    0   0  0  0  抽烟  ...   NaN   NaN    NaN   NaN   \n",
       "118   患者674  女    0   0  噪音    0  锻炼  0  0   0  ...   NaN   NaN    NaN   NaN   \n",
       "119  患者1118  男    0   0   0    0  锻炼  0  0  抽烟  ...   NaN   NaN    NaN   NaN   \n",
       "\n",
       "       TT    年龄  病程（月） TEQ THI  VAS  \n",
       "0     NaN  34.0  120.0  13   4  1.0  \n",
       "1     NaN  75.0   24.0  13   8  2.0  \n",
       "2     NaN  43.0    6.0  14  16  5.0  \n",
       "3     NaN  71.0   60.0  12  22  2.0  \n",
       "4    28.4  56.0    0.1   7  14  3.0  \n",
       "..    ...   ...    ...  ..  ..  ...  \n",
       "115  17.8  27.0    0.5   8  12  5.0  \n",
       "116   NaN  52.0   72.0  10   2  1.0  \n",
       "117   NaN  53.0    6.0  14  26  3.0  \n",
       "118   NaN  69.0    2.0  12  36  5.0  \n",
       "119   NaN  61.0    1.0   7   8  5.0  \n",
       "\n",
       "[120 rows x 109 columns]"
      ]
     },
     "execution_count": 18,
     "metadata": {},
     "output_type": "execute_result"
    }
   ],
   "source": [
    "testData = pd.read_csv(r\"./outData新数据/递增数据/数据400测试集.csv\",encoding=\"gbk\")#,encoding=\"gbk\"\n",
    "testData=testData.drop(\"Unnamed: 0\",axis=1)\n",
    "testData"
   ]
  },
  {
   "cell_type": "code",
   "execution_count": 17,
   "id": "52d86e7f-a123-4af9-a84d-04c3ef191672",
   "metadata": {},
   "outputs": [
    {
     "data": {
      "text/plain": [
       "0.9841897233201581"
      ]
     },
     "execution_count": 17,
     "metadata": {},
     "output_type": "execute_result"
    }
   ],
   "source": [
    "sum(data2_CN_weight1[\"测试集证型\"]==data2_CN_weight1[\"出现次数最多证型\"])/253"
   ]
  },
  {
   "cell_type": "code",
   "execution_count": 25,
   "id": "94740a95-de0c-4f4e-b7a9-0d7262fbeb1e",
   "metadata": {},
   "outputs": [
    {
     "data": {
      "text/plain": [
       "0.8991596638655462"
      ]
     },
     "execution_count": 25,
     "metadata": {},
     "output_type": "execute_result"
    }
   ],
   "source": [
    "#1\n",
    "sum(data2_CN_weight[\"测试集证型\"]==data2_CN_weight[\"出现次数最多证型\"])/119"
   ]
  },
  {
   "cell_type": "code",
   "execution_count": 31,
   "id": "908ad06d-912d-4009-ae14-08ed91c5601d",
   "metadata": {},
   "outputs": [
    {
     "data": {
      "text/plain": [
       "0.8991596638655462"
      ]
     },
     "execution_count": 31,
     "metadata": {},
     "output_type": "execute_result"
    }
   ],
   "source": [
    "#2\n",
    "sum(data2_CN_weight[\"测试集证型\"]==data2_CN_weight[\"出现次数最多证型\"])/119"
   ]
  },
  {
   "cell_type": "code",
   "execution_count": 11,
   "id": "ca97a226-9b6c-44f5-9f18-4a66e2fc1c35",
   "metadata": {},
   "outputs": [
    {
     "ename": "NameError",
     "evalue": "name 'data2_CN_weight' is not defined",
     "output_type": "error",
     "traceback": [
      "\u001b[1;31m---------------------------------------------------------------------------\u001b[0m",
      "\u001b[1;31mNameError\u001b[0m                                 Traceback (most recent call last)",
      "\u001b[1;32m<ipython-input-11-c2c35ba049dd>\u001b[0m in \u001b[0;36m<module>\u001b[1;34m\u001b[0m\n\u001b[0;32m      1\u001b[0m \u001b[1;31m#3\u001b[0m\u001b[1;33m\u001b[0m\u001b[1;33m\u001b[0m\u001b[1;33m\u001b[0m\u001b[0m\n\u001b[1;32m----> 2\u001b[1;33m \u001b[0msum\u001b[0m\u001b[1;33m(\u001b[0m\u001b[0mdata2_CN_weight\u001b[0m\u001b[1;33m[\u001b[0m\u001b[1;34m\"测试集证型\"\u001b[0m\u001b[1;33m]\u001b[0m\u001b[1;33m==\u001b[0m\u001b[0mdata2_CN_weight\u001b[0m\u001b[1;33m[\u001b[0m\u001b[1;34m\"出现次数最多证型\"\u001b[0m\u001b[1;33m]\u001b[0m\u001b[1;33m)\u001b[0m\u001b[1;33m/\u001b[0m\u001b[1;36m119\u001b[0m\u001b[1;33m\u001b[0m\u001b[1;33m\u001b[0m\u001b[0m\n\u001b[0m",
      "\u001b[1;31mNameError\u001b[0m: name 'data2_CN_weight' is not defined"
     ]
    }
   ],
   "source": [
    "#3\n",
    "sum(data2_CN_weight[\"测试集证型\"]==data2_CN_weight[\"出现次数最多证型\"])/119"
   ]
  },
  {
   "cell_type": "code",
   "execution_count": 11,
   "id": "d83fe127-08b0-441c-ab6d-1fc8dfa1bda0",
   "metadata": {},
   "outputs": [
    {
     "data": {
      "text/plain": [
       "0.9243697478991597"
      ]
     },
     "execution_count": 11,
     "metadata": {},
     "output_type": "execute_result"
    }
   ],
   "source": [
    "#4\n",
    "sum(data2_CN_weight[\"测试集证型\"]==data2_CN_weight[\"出现次数最多证型\"])/119"
   ]
  },
  {
   "cell_type": "code",
   "execution_count": 17,
   "id": "cb969be9-4b6c-48ba-b639-8dfeb1e92a45",
   "metadata": {},
   "outputs": [
    {
     "data": {
      "text/plain": [
       "0.8991596638655462"
      ]
     },
     "execution_count": 17,
     "metadata": {},
     "output_type": "execute_result"
    }
   ],
   "source": [
    "#5\n",
    "sum(data2_CN_weight[\"测试集证型\"]==data2_CN_weight[\"出现次数最多证型\"])/119"
   ]
  },
  {
   "cell_type": "markdown",
   "id": "cf74538f-c012-46de-a424-44b10da9e49c",
   "metadata": {},
   "source": [
    "# 第二步 获取患者间最短路径，获取训练集共同邻居权重前20出现次数最多的节点证型"
   ]
  },
  {
   "cell_type": "code",
   "execution_count": 13,
   "id": "b8f5b50f-2ce5-481a-906a-217651c67ff4",
   "metadata": {},
   "outputs": [
    {
     "data": {
      "application/javascript": "\n        if (window._pyforest_update_imports_cell) { window._pyforest_update_imports_cell('import pandas as pd'); }\n    ",
      "text/plain": [
       "<IPython.core.display.Javascript object>"
      ]
     },
     "metadata": {},
     "output_type": "display_data"
    },
    {
     "data": {
      "application/javascript": "\n        if (window._pyforest_update_imports_cell) { window._pyforest_update_imports_cell('import pandas as pd'); }\n    ",
      "text/plain": [
       "<IPython.core.display.Javascript object>"
      ]
     },
     "metadata": {},
     "output_type": "display_data"
    },
    {
     "data": {
      "application/javascript": "\n        if (window._pyforest_update_imports_cell) { window._pyforest_update_imports_cell('import pandas as pd'); }\n    ",
      "text/plain": [
       "<IPython.core.display.Javascript object>"
      ]
     },
     "metadata": {},
     "output_type": "display_data"
    },
    {
     "name": "stdout",
     "output_type": "stream",
     "text": [
      "patient2_MAXSyndrome 患者7 上徵 加宫\n"
     ]
    },
    {
     "data": {
      "application/javascript": "\n        if (window._pyforest_update_imports_cell) { window._pyforest_update_imports_cell('import pandas as pd'); }\n    ",
      "text/plain": [
       "<IPython.core.display.Javascript object>"
      ]
     },
     "metadata": {},
     "output_type": "display_data"
    },
    {
     "name": "stdout",
     "output_type": "stream",
     "text": [
      "patient2_MAXSyndrome 患者9 大羽 右商\n"
     ]
    },
    {
     "data": {
      "application/javascript": "\n        if (window._pyforest_update_imports_cell) { window._pyforest_update_imports_cell('import pandas as pd'); }\n    ",
      "text/plain": [
       "<IPython.core.display.Javascript object>"
      ]
     },
     "metadata": {},
     "output_type": "display_data"
    },
    {
     "name": "stdout",
     "output_type": "stream",
     "text": [
      "patient2_MAXSyndrome 患者11 钛商 大宫\n"
     ]
    },
    {
     "data": {
      "application/javascript": "\n        if (window._pyforest_update_imports_cell) { window._pyforest_update_imports_cell('import pandas as pd'); }\n    ",
      "text/plain": [
       "<IPython.core.display.Javascript object>"
      ]
     },
     "metadata": {},
     "output_type": "display_data"
    },
    {
     "name": "stdout",
     "output_type": "stream",
     "text": [
      "patient2_MAXSyndrome 患者16 上徵 右商\n"
     ]
    },
    {
     "data": {
      "application/javascript": "\n        if (window._pyforest_update_imports_cell) { window._pyforest_update_imports_cell('import pandas as pd'); }\n    ",
      "text/plain": [
       "<IPython.core.display.Javascript object>"
      ]
     },
     "metadata": {},
     "output_type": "display_data"
    },
    {
     "name": "stdout",
     "output_type": "stream",
     "text": [
      "patient2_MAXSyndrome 患者20 上角 少羽\n"
     ]
    },
    {
     "data": {
      "application/javascript": "\n        if (window._pyforest_update_imports_cell) { window._pyforest_update_imports_cell('import pandas as pd'); }\n    ",
      "text/plain": [
       "<IPython.core.display.Javascript object>"
      ]
     },
     "metadata": {},
     "output_type": "display_data"
    },
    {
     "name": "stdout",
     "output_type": "stream",
     "text": [
      "patient2_MAXSyndrome 患者23 大宫 大宫\n"
     ]
    },
    {
     "data": {
      "application/javascript": "\n        if (window._pyforest_update_imports_cell) { window._pyforest_update_imports_cell('import pandas as pd'); }\n    ",
      "text/plain": [
       "<IPython.core.display.Javascript object>"
      ]
     },
     "metadata": {},
     "output_type": "display_data"
    },
    {
     "name": "stdout",
     "output_type": "stream",
     "text": [
      "patient2_MAXSyndrome 患者24 少宫 质徵\n"
     ]
    },
    {
     "data": {
      "application/javascript": "\n        if (window._pyforest_update_imports_cell) { window._pyforest_update_imports_cell('import pandas as pd'); }\n    ",
      "text/plain": [
       "<IPython.core.display.Javascript object>"
      ]
     },
     "metadata": {},
     "output_type": "display_data"
    },
    {
     "name": "stdout",
     "output_type": "stream",
     "text": [
      "patient2_MAXSyndrome 患者37 上角 右徵\n"
     ]
    },
    {
     "data": {
      "application/javascript": "\n        if (window._pyforest_update_imports_cell) { window._pyforest_update_imports_cell('import pandas as pd'); }\n    ",
      "text/plain": [
       "<IPython.core.display.Javascript object>"
      ]
     },
     "metadata": {},
     "output_type": "display_data"
    },
    {
     "name": "stdout",
     "output_type": "stream",
     "text": [
      "patient2_MAXSyndrome 患者42 上角 右商\n"
     ]
    },
    {
     "data": {
      "application/javascript": "\n        if (window._pyforest_update_imports_cell) { window._pyforest_update_imports_cell('import pandas as pd'); }\n    ",
      "text/plain": [
       "<IPython.core.display.Javascript object>"
      ]
     },
     "metadata": {},
     "output_type": "display_data"
    },
    {
     "name": "stdout",
     "output_type": "stream",
     "text": [
      "patient2_MAXSyndrome 患者43 大角 质徵\n"
     ]
    },
    {
     "data": {
      "application/javascript": "\n        if (window._pyforest_update_imports_cell) { window._pyforest_update_imports_cell('import pandas as pd'); }\n    ",
      "text/plain": [
       "<IPython.core.display.Javascript object>"
      ]
     },
     "metadata": {},
     "output_type": "display_data"
    },
    {
     "name": "stdout",
     "output_type": "stream",
     "text": [
      "patient2_MAXSyndrome 患者48 大羽 加宫\n"
     ]
    },
    {
     "data": {
      "application/javascript": "\n        if (window._pyforest_update_imports_cell) { window._pyforest_update_imports_cell('import pandas as pd'); }\n    ",
      "text/plain": [
       "<IPython.core.display.Javascript object>"
      ]
     },
     "metadata": {},
     "output_type": "display_data"
    },
    {
     "name": "stdout",
     "output_type": "stream",
     "text": [
      "patient2_MAXSyndrome 患者51 钛角 大宫\n"
     ]
    },
    {
     "data": {
      "application/javascript": "\n        if (window._pyforest_update_imports_cell) { window._pyforest_update_imports_cell('import pandas as pd'); }\n    ",
      "text/plain": [
       "<IPython.core.display.Javascript object>"
      ]
     },
     "metadata": {},
     "output_type": "display_data"
    },
    {
     "name": "stdout",
     "output_type": "stream",
     "text": [
      "patient2_MAXSyndrome 患者59 判角 上羽\n"
     ]
    },
    {
     "data": {
      "application/javascript": "\n        if (window._pyforest_update_imports_cell) { window._pyforest_update_imports_cell('import pandas as pd'); }\n    ",
      "text/plain": [
       "<IPython.core.display.Javascript object>"
      ]
     },
     "metadata": {},
     "output_type": "display_data"
    },
    {
     "name": "stdout",
     "output_type": "stream",
     "text": [
      "patient2_MAXSyndrome 患者64 少宫 众羽\n"
     ]
    },
    {
     "data": {
      "application/javascript": "\n        if (window._pyforest_update_imports_cell) { window._pyforest_update_imports_cell('import pandas as pd'); }\n    ",
      "text/plain": [
       "<IPython.core.display.Javascript object>"
      ]
     },
     "metadata": {},
     "output_type": "display_data"
    },
    {
     "name": "stdout",
     "output_type": "stream",
     "text": [
      "patient2_MAXSyndrome 患者66 上徵 右徵\n"
     ]
    },
    {
     "data": {
      "application/javascript": "\n        if (window._pyforest_update_imports_cell) { window._pyforest_update_imports_cell('import pandas as pd'); }\n    ",
      "text/plain": [
       "<IPython.core.display.Javascript object>"
      ]
     },
     "metadata": {},
     "output_type": "display_data"
    },
    {
     "name": "stdout",
     "output_type": "stream",
     "text": [
      "patient2_MAXSyndrome 患者76 上徵 右徵\n"
     ]
    },
    {
     "data": {
      "application/javascript": "\n        if (window._pyforest_update_imports_cell) { window._pyforest_update_imports_cell('import pandas as pd'); }\n    ",
      "text/plain": [
       "<IPython.core.display.Javascript object>"
      ]
     },
     "metadata": {},
     "output_type": "display_data"
    },
    {
     "name": "stdout",
     "output_type": "stream",
     "text": [
      "patient2_MAXSyndrome 患者79 上徵 钛商\n"
     ]
    },
    {
     "data": {
      "application/javascript": "\n        if (window._pyforest_update_imports_cell) { window._pyforest_update_imports_cell('import pandas as pd'); }\n    ",
      "text/plain": [
       "<IPython.core.display.Javascript object>"
      ]
     },
     "metadata": {},
     "output_type": "display_data"
    },
    {
     "name": "stdout",
     "output_type": "stream",
     "text": [
      "patient2_MAXSyndrome 患者84 大宫 钛角\n"
     ]
    },
    {
     "data": {
      "application/javascript": "\n        if (window._pyforest_update_imports_cell) { window._pyforest_update_imports_cell('import pandas as pd'); }\n    ",
      "text/plain": [
       "<IPython.core.display.Javascript object>"
      ]
     },
     "metadata": {},
     "output_type": "display_data"
    },
    {
     "name": "stdout",
     "output_type": "stream",
     "text": [
      "patient2_MAXSyndrome 患者87 右商 上羽\n"
     ]
    },
    {
     "data": {
      "application/javascript": "\n        if (window._pyforest_update_imports_cell) { window._pyforest_update_imports_cell('import pandas as pd'); }\n    ",
      "text/plain": [
       "<IPython.core.display.Javascript object>"
      ]
     },
     "metadata": {},
     "output_type": "display_data"
    },
    {
     "name": "stdout",
     "output_type": "stream",
     "text": [
      "patient2_MAXSyndrome 患者88 上徵 上羽\n"
     ]
    },
    {
     "data": {
      "application/javascript": "\n        if (window._pyforest_update_imports_cell) { window._pyforest_update_imports_cell('import pandas as pd'); }\n    ",
      "text/plain": [
       "<IPython.core.display.Javascript object>"
      ]
     },
     "metadata": {},
     "output_type": "display_data"
    },
    {
     "name": "stdout",
     "output_type": "stream",
     "text": [
      "patient2_MAXSyndrome 患者90 上徵 上角\n"
     ]
    },
    {
     "data": {
      "application/javascript": "\n        if (window._pyforest_update_imports_cell) { window._pyforest_update_imports_cell('import pandas as pd'); }\n    ",
      "text/plain": [
       "<IPython.core.display.Javascript object>"
      ]
     },
     "metadata": {},
     "output_type": "display_data"
    },
    {
     "name": "stdout",
     "output_type": "stream",
     "text": [
      "patient2_MAXSyndrome 患者92 上徵 钛商\n"
     ]
    },
    {
     "data": {
      "application/javascript": "\n        if (window._pyforest_update_imports_cell) { window._pyforest_update_imports_cell('import pandas as pd'); }\n    ",
      "text/plain": [
       "<IPython.core.display.Javascript object>"
      ]
     },
     "metadata": {},
     "output_type": "display_data"
    },
    {
     "name": "stdout",
     "output_type": "stream",
     "text": [
      "patient2_MAXSyndrome 患者94 上角 钛角\n"
     ]
    },
    {
     "data": {
      "application/javascript": "\n        if (window._pyforest_update_imports_cell) { window._pyforest_update_imports_cell('import pandas as pd'); }\n    ",
      "text/plain": [
       "<IPython.core.display.Javascript object>"
      ]
     },
     "metadata": {},
     "output_type": "display_data"
    },
    {
     "name": "stdout",
     "output_type": "stream",
     "text": [
      "patient2_MAXSyndrome 患者97 大角 钛商\n"
     ]
    },
    {
     "data": {
      "application/javascript": "\n        if (window._pyforest_update_imports_cell) { window._pyforest_update_imports_cell('import pandas as pd'); }\n    ",
      "text/plain": [
       "<IPython.core.display.Javascript object>"
      ]
     },
     "metadata": {},
     "output_type": "display_data"
    },
    {
     "name": "stdout",
     "output_type": "stream",
     "text": [
      "patient2_MAXSyndrome 患者103 上徵 右商\n"
     ]
    },
    {
     "data": {
      "application/javascript": "\n        if (window._pyforest_update_imports_cell) { window._pyforest_update_imports_cell('import pandas as pd'); }\n    ",
      "text/plain": [
       "<IPython.core.display.Javascript object>"
      ]
     },
     "metadata": {},
     "output_type": "display_data"
    },
    {
     "name": "stdout",
     "output_type": "stream",
     "text": [
      "patient2_MAXSyndrome 患者105 钛角 右徵\n"
     ]
    },
    {
     "data": {
      "application/javascript": "\n        if (window._pyforest_update_imports_cell) { window._pyforest_update_imports_cell('import pandas as pd'); }\n    ",
      "text/plain": [
       "<IPython.core.display.Javascript object>"
      ]
     },
     "metadata": {},
     "output_type": "display_data"
    },
    {
     "name": "stdout",
     "output_type": "stream",
     "text": [
      "patient2_MAXSyndrome 患者109 上角 众羽\n"
     ]
    },
    {
     "data": {
      "application/javascript": "\n        if (window._pyforest_update_imports_cell) { window._pyforest_update_imports_cell('import pandas as pd'); }\n    ",
      "text/plain": [
       "<IPython.core.display.Javascript object>"
      ]
     },
     "metadata": {},
     "output_type": "display_data"
    },
    {
     "name": "stdout",
     "output_type": "stream",
     "text": [
      "patient2_MAXSyndrome 患者117 右商 众羽\n"
     ]
    },
    {
     "data": {
      "application/javascript": "\n        if (window._pyforest_update_imports_cell) { window._pyforest_update_imports_cell('import pandas as pd'); }\n    ",
      "text/plain": [
       "<IPython.core.display.Javascript object>"
      ]
     },
     "metadata": {},
     "output_type": "display_data"
    },
    {
     "name": "stdout",
     "output_type": "stream",
     "text": [
      "patient2_MAXSyndrome 患者121 少宫 上徵\n"
     ]
    },
    {
     "data": {
      "application/javascript": "\n        if (window._pyforest_update_imports_cell) { window._pyforest_update_imports_cell('import pandas as pd'); }\n    ",
      "text/plain": [
       "<IPython.core.display.Javascript object>"
      ]
     },
     "metadata": {},
     "output_type": "display_data"
    },
    {
     "name": "stdout",
     "output_type": "stream",
     "text": [
      "patient2_MAXSyndrome 患者125 上徵 大宫\n"
     ]
    },
    {
     "data": {
      "application/javascript": "\n        if (window._pyforest_update_imports_cell) { window._pyforest_update_imports_cell('import pandas as pd'); }\n    ",
      "text/plain": [
       "<IPython.core.display.Javascript object>"
      ]
     },
     "metadata": {},
     "output_type": "display_data"
    },
    {
     "name": "stdout",
     "output_type": "stream",
     "text": [
      "patient2_MAXSyndrome 患者128 钛角 钛角\n"
     ]
    },
    {
     "data": {
      "application/javascript": "\n        if (window._pyforest_update_imports_cell) { window._pyforest_update_imports_cell('import pandas as pd'); }\n    ",
      "text/plain": [
       "<IPython.core.display.Javascript object>"
      ]
     },
     "metadata": {},
     "output_type": "display_data"
    },
    {
     "name": "stdout",
     "output_type": "stream",
     "text": [
      "patient2_MAXSyndrome 患者135 大羽 上徵\n"
     ]
    },
    {
     "data": {
      "application/javascript": "\n        if (window._pyforest_update_imports_cell) { window._pyforest_update_imports_cell('import pandas as pd'); }\n    ",
      "text/plain": [
       "<IPython.core.display.Javascript object>"
      ]
     },
     "metadata": {},
     "output_type": "display_data"
    },
    {
     "name": "stdout",
     "output_type": "stream",
     "text": [
      "patient2_MAXSyndrome 患者136 大羽 右徵\n"
     ]
    },
    {
     "data": {
      "application/javascript": "\n        if (window._pyforest_update_imports_cell) { window._pyforest_update_imports_cell('import pandas as pd'); }\n    ",
      "text/plain": [
       "<IPython.core.display.Javascript object>"
      ]
     },
     "metadata": {},
     "output_type": "display_data"
    },
    {
     "name": "stdout",
     "output_type": "stream",
     "text": [
      "patient2_MAXSyndrome 患者147 众羽 上羽\n"
     ]
    },
    {
     "data": {
      "application/javascript": "\n        if (window._pyforest_update_imports_cell) { window._pyforest_update_imports_cell('import pandas as pd'); }\n    ",
      "text/plain": [
       "<IPython.core.display.Javascript object>"
      ]
     },
     "metadata": {},
     "output_type": "display_data"
    },
    {
     "name": "stdout",
     "output_type": "stream",
     "text": [
      "patient2_MAXSyndrome 患者150 钛角 钛角\n"
     ]
    },
    {
     "data": {
      "application/javascript": "\n        if (window._pyforest_update_imports_cell) { window._pyforest_update_imports_cell('import pandas as pd'); }\n    ",
      "text/plain": [
       "<IPython.core.display.Javascript object>"
      ]
     },
     "metadata": {},
     "output_type": "display_data"
    },
    {
     "name": "stdout",
     "output_type": "stream",
     "text": [
      "patient2_MAXSyndrome 患者154 上商 右商\n"
     ]
    },
    {
     "data": {
      "application/javascript": "\n        if (window._pyforest_update_imports_cell) { window._pyforest_update_imports_cell('import pandas as pd'); }\n    ",
      "text/plain": [
       "<IPython.core.display.Javascript object>"
      ]
     },
     "metadata": {},
     "output_type": "display_data"
    },
    {
     "name": "stdout",
     "output_type": "stream",
     "text": [
      "patient2_MAXSyndrome 患者159 大羽 钛角\n"
     ]
    },
    {
     "data": {
      "application/javascript": "\n        if (window._pyforest_update_imports_cell) { window._pyforest_update_imports_cell('import pandas as pd'); }\n    ",
      "text/plain": [
       "<IPython.core.display.Javascript object>"
      ]
     },
     "metadata": {},
     "output_type": "display_data"
    },
    {
     "name": "stdout",
     "output_type": "stream",
     "text": [
      "patient2_MAXSyndrome 患者162 钛角 钛角\n"
     ]
    },
    {
     "data": {
      "application/javascript": "\n        if (window._pyforest_update_imports_cell) { window._pyforest_update_imports_cell('import pandas as pd'); }\n    ",
      "text/plain": [
       "<IPython.core.display.Javascript object>"
      ]
     },
     "metadata": {},
     "output_type": "display_data"
    },
    {
     "name": "stdout",
     "output_type": "stream",
     "text": [
      "patient2_MAXSyndrome 患者163 上角 钛角\n"
     ]
    },
    {
     "data": {
      "application/javascript": "\n        if (window._pyforest_update_imports_cell) { window._pyforest_update_imports_cell('import pandas as pd'); }\n    ",
      "text/plain": [
       "<IPython.core.display.Javascript object>"
      ]
     },
     "metadata": {},
     "output_type": "display_data"
    },
    {
     "name": "stdout",
     "output_type": "stream",
     "text": [
      "patient2_MAXSyndrome 患者167 上徵 上徵\n"
     ]
    },
    {
     "data": {
      "application/javascript": "\n        if (window._pyforest_update_imports_cell) { window._pyforest_update_imports_cell('import pandas as pd'); }\n    ",
      "text/plain": [
       "<IPython.core.display.Javascript object>"
      ]
     },
     "metadata": {},
     "output_type": "display_data"
    },
    {
     "name": "stdout",
     "output_type": "stream",
     "text": [
      "patient2_MAXSyndrome 患者168 少宫 上徵\n"
     ]
    },
    {
     "data": {
      "application/javascript": "\n        if (window._pyforest_update_imports_cell) { window._pyforest_update_imports_cell('import pandas as pd'); }\n    ",
      "text/plain": [
       "<IPython.core.display.Javascript object>"
      ]
     },
     "metadata": {},
     "output_type": "display_data"
    },
    {
     "name": "stdout",
     "output_type": "stream",
     "text": [
      "patient2_MAXSyndrome 患者179 质徵 大羽\n"
     ]
    },
    {
     "data": {
      "application/javascript": "\n        if (window._pyforest_update_imports_cell) { window._pyforest_update_imports_cell('import pandas as pd'); }\n    ",
      "text/plain": [
       "<IPython.core.display.Javascript object>"
      ]
     },
     "metadata": {},
     "output_type": "display_data"
    },
    {
     "name": "stdout",
     "output_type": "stream",
     "text": [
      "patient2_MAXSyndrome 患者188 少羽 上徵\n"
     ]
    },
    {
     "data": {
      "application/javascript": "\n        if (window._pyforest_update_imports_cell) { window._pyforest_update_imports_cell('import pandas as pd'); }\n    ",
      "text/plain": [
       "<IPython.core.display.Javascript object>"
      ]
     },
     "metadata": {},
     "output_type": "display_data"
    },
    {
     "name": "stdout",
     "output_type": "stream",
     "text": [
      "patient2_MAXSyndrome 患者190 上商 质徵\n"
     ]
    },
    {
     "data": {
      "application/javascript": "\n        if (window._pyforest_update_imports_cell) { window._pyforest_update_imports_cell('import pandas as pd'); }\n    ",
      "text/plain": [
       "<IPython.core.display.Javascript object>"
      ]
     },
     "metadata": {},
     "output_type": "display_data"
    },
    {
     "name": "stdout",
     "output_type": "stream",
     "text": [
      "patient2_MAXSyndrome 患者196 加宫 上徵\n"
     ]
    },
    {
     "data": {
      "application/javascript": "\n        if (window._pyforest_update_imports_cell) { window._pyforest_update_imports_cell('import pandas as pd'); }\n    ",
      "text/plain": [
       "<IPython.core.display.Javascript object>"
      ]
     },
     "metadata": {},
     "output_type": "display_data"
    },
    {
     "name": "stdout",
     "output_type": "stream",
     "text": [
      "patient2_MAXSyndrome 患者202 大宫 钛角\n"
     ]
    },
    {
     "data": {
      "application/javascript": "\n        if (window._pyforest_update_imports_cell) { window._pyforest_update_imports_cell('import pandas as pd'); }\n    ",
      "text/plain": [
       "<IPython.core.display.Javascript object>"
      ]
     },
     "metadata": {},
     "output_type": "display_data"
    },
    {
     "name": "stdout",
     "output_type": "stream",
     "text": [
      "patient2_MAXSyndrome 患者220 上徵 大宫\n"
     ]
    },
    {
     "data": {
      "application/javascript": "\n        if (window._pyforest_update_imports_cell) { window._pyforest_update_imports_cell('import pandas as pd'); }\n    ",
      "text/plain": [
       "<IPython.core.display.Javascript object>"
      ]
     },
     "metadata": {},
     "output_type": "display_data"
    },
    {
     "name": "stdout",
     "output_type": "stream",
     "text": [
      "patient2_MAXSyndrome 患者222 众羽 上徵\n"
     ]
    },
    {
     "data": {
      "application/javascript": "\n        if (window._pyforest_update_imports_cell) { window._pyforest_update_imports_cell('import pandas as pd'); }\n    ",
      "text/plain": [
       "<IPython.core.display.Javascript object>"
      ]
     },
     "metadata": {},
     "output_type": "display_data"
    },
    {
     "name": "stdout",
     "output_type": "stream",
     "text": [
      "patient2_MAXSyndrome 患者232 上角 钛角\n"
     ]
    },
    {
     "data": {
      "application/javascript": "\n        if (window._pyforest_update_imports_cell) { window._pyforest_update_imports_cell('import pandas as pd'); }\n    ",
      "text/plain": [
       "<IPython.core.display.Javascript object>"
      ]
     },
     "metadata": {},
     "output_type": "display_data"
    },
    {
     "name": "stdout",
     "output_type": "stream",
     "text": [
      "patient2_MAXSyndrome 患者242 钛角 钛角\n"
     ]
    },
    {
     "data": {
      "application/javascript": "\n        if (window._pyforest_update_imports_cell) { window._pyforest_update_imports_cell('import pandas as pd'); }\n    ",
      "text/plain": [
       "<IPython.core.display.Javascript object>"
      ]
     },
     "metadata": {},
     "output_type": "display_data"
    },
    {
     "name": "stdout",
     "output_type": "stream",
     "text": [
      "patient2_MAXSyndrome 患者246 大宫 钛角\n"
     ]
    },
    {
     "data": {
      "application/javascript": "\n        if (window._pyforest_update_imports_cell) { window._pyforest_update_imports_cell('import pandas as pd'); }\n    ",
      "text/plain": [
       "<IPython.core.display.Javascript object>"
      ]
     },
     "metadata": {},
     "output_type": "display_data"
    },
    {
     "name": "stdout",
     "output_type": "stream",
     "text": [
      "patient2_MAXSyndrome 患者251 判角 上角\n"
     ]
    },
    {
     "data": {
      "application/javascript": "\n        if (window._pyforest_update_imports_cell) { window._pyforest_update_imports_cell('import pandas as pd'); }\n    ",
      "text/plain": [
       "<IPython.core.display.Javascript object>"
      ]
     },
     "metadata": {},
     "output_type": "display_data"
    },
    {
     "name": "stdout",
     "output_type": "stream",
     "text": [
      "patient2_MAXSyndrome 患者256 大角 钛商\n"
     ]
    },
    {
     "data": {
      "application/javascript": "\n        if (window._pyforest_update_imports_cell) { window._pyforest_update_imports_cell('import pandas as pd'); }\n    ",
      "text/plain": [
       "<IPython.core.display.Javascript object>"
      ]
     },
     "metadata": {},
     "output_type": "display_data"
    },
    {
     "name": "stdout",
     "output_type": "stream",
     "text": [
      "patient2_MAXSyndrome 患者258 上羽 钛角\n"
     ]
    },
    {
     "data": {
      "application/javascript": "\n        if (window._pyforest_update_imports_cell) { window._pyforest_update_imports_cell('import pandas as pd'); }\n    ",
      "text/plain": [
       "<IPython.core.display.Javascript object>"
      ]
     },
     "metadata": {},
     "output_type": "display_data"
    },
    {
     "name": "stdout",
     "output_type": "stream",
     "text": [
      "patient2_MAXSyndrome 患者261 上角 上商\n"
     ]
    },
    {
     "data": {
      "application/javascript": "\n        if (window._pyforest_update_imports_cell) { window._pyforest_update_imports_cell('import pandas as pd'); }\n    ",
      "text/plain": [
       "<IPython.core.display.Javascript object>"
      ]
     },
     "metadata": {},
     "output_type": "display_data"
    },
    {
     "name": "stdout",
     "output_type": "stream",
     "text": [
      "patient2_MAXSyndrome 患者263 上羽 上羽\n"
     ]
    },
    {
     "data": {
      "application/javascript": "\n        if (window._pyforest_update_imports_cell) { window._pyforest_update_imports_cell('import pandas as pd'); }\n    ",
      "text/plain": [
       "<IPython.core.display.Javascript object>"
      ]
     },
     "metadata": {},
     "output_type": "display_data"
    },
    {
     "name": "stdout",
     "output_type": "stream",
     "text": [
      "patient2_MAXSyndrome 患者265 钛角 上羽\n"
     ]
    },
    {
     "data": {
      "application/javascript": "\n        if (window._pyforest_update_imports_cell) { window._pyforest_update_imports_cell('import pandas as pd'); }\n    ",
      "text/plain": [
       "<IPython.core.display.Javascript object>"
      ]
     },
     "metadata": {},
     "output_type": "display_data"
    },
    {
     "name": "stdout",
     "output_type": "stream",
     "text": [
      "patient2_MAXSyndrome 患者268 钛商 钛角\n"
     ]
    },
    {
     "data": {
      "application/javascript": "\n        if (window._pyforest_update_imports_cell) { window._pyforest_update_imports_cell('import pandas as pd'); }\n    ",
      "text/plain": [
       "<IPython.core.display.Javascript object>"
      ]
     },
     "metadata": {},
     "output_type": "display_data"
    },
    {
     "name": "stdout",
     "output_type": "stream",
     "text": [
      "patient2_MAXSyndrome 患者277 上羽 上徵\n"
     ]
    },
    {
     "data": {
      "application/javascript": "\n        if (window._pyforest_update_imports_cell) { window._pyforest_update_imports_cell('import pandas as pd'); }\n    ",
      "text/plain": [
       "<IPython.core.display.Javascript object>"
      ]
     },
     "metadata": {},
     "output_type": "display_data"
    },
    {
     "name": "stdout",
     "output_type": "stream",
     "text": [
      "patient2_MAXSyndrome 患者282 右商 右徵\n"
     ]
    },
    {
     "data": {
      "application/javascript": "\n        if (window._pyforest_update_imports_cell) { window._pyforest_update_imports_cell('import pandas as pd'); }\n    ",
      "text/plain": [
       "<IPython.core.display.Javascript object>"
      ]
     },
     "metadata": {},
     "output_type": "display_data"
    },
    {
     "name": "stdout",
     "output_type": "stream",
     "text": [
      "patient2_MAXSyndrome 患者293 钛角 大宫\n"
     ]
    },
    {
     "data": {
      "application/javascript": "\n        if (window._pyforest_update_imports_cell) { window._pyforest_update_imports_cell('import pandas as pd'); }\n    ",
      "text/plain": [
       "<IPython.core.display.Javascript object>"
      ]
     },
     "metadata": {},
     "output_type": "display_data"
    },
    {
     "name": "stdout",
     "output_type": "stream",
     "text": [
      "patient2_MAXSyndrome 患者295 上徵 右商\n"
     ]
    },
    {
     "data": {
      "application/javascript": "\n        if (window._pyforest_update_imports_cell) { window._pyforest_update_imports_cell('import pandas as pd'); }\n    ",
      "text/plain": [
       "<IPython.core.display.Javascript object>"
      ]
     },
     "metadata": {},
     "output_type": "display_data"
    },
    {
     "name": "stdout",
     "output_type": "stream",
     "text": [
      "patient2_MAXSyndrome 患者296 钛角 大宫\n"
     ]
    },
    {
     "data": {
      "application/javascript": "\n        if (window._pyforest_update_imports_cell) { window._pyforest_update_imports_cell('import pandas as pd'); }\n    ",
      "text/plain": [
       "<IPython.core.display.Javascript object>"
      ]
     },
     "metadata": {},
     "output_type": "display_data"
    },
    {
     "name": "stdout",
     "output_type": "stream",
     "text": [
      "patient2_MAXSyndrome 患者299 众羽 大宫\n"
     ]
    },
    {
     "data": {
      "application/javascript": "\n        if (window._pyforest_update_imports_cell) { window._pyforest_update_imports_cell('import pandas as pd'); }\n    ",
      "text/plain": [
       "<IPython.core.display.Javascript object>"
      ]
     },
     "metadata": {},
     "output_type": "display_data"
    },
    {
     "name": "stdout",
     "output_type": "stream",
     "text": [
      "patient2_MAXSyndrome 患者324 少宫 上羽\n"
     ]
    },
    {
     "data": {
      "application/javascript": "\n        if (window._pyforest_update_imports_cell) { window._pyforest_update_imports_cell('import pandas as pd'); }\n    ",
      "text/plain": [
       "<IPython.core.display.Javascript object>"
      ]
     },
     "metadata": {},
     "output_type": "display_data"
    },
    {
     "name": "stdout",
     "output_type": "stream",
     "text": [
      "patient2_MAXSyndrome 患者327 右徵 右徵\n"
     ]
    },
    {
     "data": {
      "application/javascript": "\n        if (window._pyforest_update_imports_cell) { window._pyforest_update_imports_cell('import pandas as pd'); }\n    ",
      "text/plain": [
       "<IPython.core.display.Javascript object>"
      ]
     },
     "metadata": {},
     "output_type": "display_data"
    },
    {
     "name": "stdout",
     "output_type": "stream",
     "text": [
      "patient2_MAXSyndrome 患者328 上羽 上徵\n"
     ]
    },
    {
     "data": {
      "application/javascript": "\n        if (window._pyforest_update_imports_cell) { window._pyforest_update_imports_cell('import pandas as pd'); }\n    ",
      "text/plain": [
       "<IPython.core.display.Javascript object>"
      ]
     },
     "metadata": {},
     "output_type": "display_data"
    },
    {
     "name": "stdout",
     "output_type": "stream",
     "text": [
      "patient2_MAXSyndrome 患者329 加宫 大羽\n"
     ]
    },
    {
     "data": {
      "application/javascript": "\n        if (window._pyforest_update_imports_cell) { window._pyforest_update_imports_cell('import pandas as pd'); }\n    ",
      "text/plain": [
       "<IPython.core.display.Javascript object>"
      ]
     },
     "metadata": {},
     "output_type": "display_data"
    },
    {
     "name": "stdout",
     "output_type": "stream",
     "text": [
      "patient2_MAXSyndrome 患者332 加宫 上角\n"
     ]
    },
    {
     "data": {
      "application/javascript": "\n        if (window._pyforest_update_imports_cell) { window._pyforest_update_imports_cell('import pandas as pd'); }\n    ",
      "text/plain": [
       "<IPython.core.display.Javascript object>"
      ]
     },
     "metadata": {},
     "output_type": "display_data"
    },
    {
     "name": "stdout",
     "output_type": "stream",
     "text": [
      "patient2_MAXSyndrome 患者341 上角 上徵\n"
     ]
    },
    {
     "data": {
      "application/javascript": "\n        if (window._pyforest_update_imports_cell) { window._pyforest_update_imports_cell('import pandas as pd'); }\n    ",
      "text/plain": [
       "<IPython.core.display.Javascript object>"
      ]
     },
     "metadata": {},
     "output_type": "display_data"
    },
    {
     "name": "stdout",
     "output_type": "stream",
     "text": [
      "patient2_MAXSyndrome 患者345 上角 众羽\n"
     ]
    },
    {
     "data": {
      "application/javascript": "\n        if (window._pyforest_update_imports_cell) { window._pyforest_update_imports_cell('import pandas as pd'); }\n    ",
      "text/plain": [
       "<IPython.core.display.Javascript object>"
      ]
     },
     "metadata": {},
     "output_type": "display_data"
    },
    {
     "name": "stdout",
     "output_type": "stream",
     "text": [
      "patient2_MAXSyndrome 患者352 质徵 众羽\n"
     ]
    },
    {
     "data": {
      "application/javascript": "\n        if (window._pyforest_update_imports_cell) { window._pyforest_update_imports_cell('import pandas as pd'); }\n    ",
      "text/plain": [
       "<IPython.core.display.Javascript object>"
      ]
     },
     "metadata": {},
     "output_type": "display_data"
    },
    {
     "name": "stdout",
     "output_type": "stream",
     "text": [
      "patient2_MAXSyndrome 患者366 右徵 上羽\n"
     ]
    },
    {
     "data": {
      "application/javascript": "\n        if (window._pyforest_update_imports_cell) { window._pyforest_update_imports_cell('import pandas as pd'); }\n    ",
      "text/plain": [
       "<IPython.core.display.Javascript object>"
      ]
     },
     "metadata": {},
     "output_type": "display_data"
    },
    {
     "name": "stdout",
     "output_type": "stream",
     "text": [
      "patient2_MAXSyndrome 患者367 上羽 大羽\n"
     ]
    },
    {
     "data": {
      "application/javascript": "\n        if (window._pyforest_update_imports_cell) { window._pyforest_update_imports_cell('import pandas as pd'); }\n    ",
      "text/plain": [
       "<IPython.core.display.Javascript object>"
      ]
     },
     "metadata": {},
     "output_type": "display_data"
    },
    {
     "name": "stdout",
     "output_type": "stream",
     "text": [
      "patient2_MAXSyndrome 患者368 大宫 众羽\n"
     ]
    },
    {
     "data": {
      "application/javascript": "\n        if (window._pyforest_update_imports_cell) { window._pyforest_update_imports_cell('import pandas as pd'); }\n    ",
      "text/plain": [
       "<IPython.core.display.Javascript object>"
      ]
     },
     "metadata": {},
     "output_type": "display_data"
    },
    {
     "name": "stdout",
     "output_type": "stream",
     "text": [
      "patient2_MAXSyndrome 患者372 大宫 众羽\n"
     ]
    },
    {
     "data": {
      "application/javascript": "\n        if (window._pyforest_update_imports_cell) { window._pyforest_update_imports_cell('import pandas as pd'); }\n    ",
      "text/plain": [
       "<IPython.core.display.Javascript object>"
      ]
     },
     "metadata": {},
     "output_type": "display_data"
    },
    {
     "name": "stdout",
     "output_type": "stream",
     "text": [
      "patient2_MAXSyndrome 患者381 上徵 众羽\n"
     ]
    },
    {
     "data": {
      "application/javascript": "\n        if (window._pyforest_update_imports_cell) { window._pyforest_update_imports_cell('import pandas as pd'); }\n    ",
      "text/plain": [
       "<IPython.core.display.Javascript object>"
      ]
     },
     "metadata": {},
     "output_type": "display_data"
    },
    {
     "name": "stdout",
     "output_type": "stream",
     "text": [
      "patient2_MAXSyndrome 患者383 少羽 大宫\n"
     ]
    },
    {
     "data": {
      "application/javascript": "\n        if (window._pyforest_update_imports_cell) { window._pyforest_update_imports_cell('import pandas as pd'); }\n    ",
      "text/plain": [
       "<IPython.core.display.Javascript object>"
      ]
     },
     "metadata": {},
     "output_type": "display_data"
    },
    {
     "name": "stdout",
     "output_type": "stream",
     "text": [
      "patient2_MAXSyndrome 患者390 右徵 钛角\n"
     ]
    },
    {
     "data": {
      "application/javascript": "\n        if (window._pyforest_update_imports_cell) { window._pyforest_update_imports_cell('import pandas as pd'); }\n    ",
      "text/plain": [
       "<IPython.core.display.Javascript object>"
      ]
     },
     "metadata": {},
     "output_type": "display_data"
    },
    {
     "name": "stdout",
     "output_type": "stream",
     "text": [
      "patient2_MAXSyndrome 患者391 大宫 大宫\n"
     ]
    },
    {
     "data": {
      "application/javascript": "\n        if (window._pyforest_update_imports_cell) { window._pyforest_update_imports_cell('import pandas as pd'); }\n    ",
      "text/plain": [
       "<IPython.core.display.Javascript object>"
      ]
     },
     "metadata": {},
     "output_type": "display_data"
    },
    {
     "name": "stdout",
     "output_type": "stream",
     "text": [
      "patient2_MAXSyndrome 患者395 桎羽 大宫\n"
     ]
    },
    {
     "data": {
      "application/javascript": "\n        if (window._pyforest_update_imports_cell) { window._pyforest_update_imports_cell('import pandas as pd'); }\n    ",
      "text/plain": [
       "<IPython.core.display.Javascript object>"
      ]
     },
     "metadata": {},
     "output_type": "display_data"
    },
    {
     "name": "stdout",
     "output_type": "stream",
     "text": [
      "patient2_MAXSyndrome 患者406 桎羽 大宫\n"
     ]
    },
    {
     "data": {
      "application/javascript": "\n        if (window._pyforest_update_imports_cell) { window._pyforest_update_imports_cell('import pandas as pd'); }\n    ",
      "text/plain": [
       "<IPython.core.display.Javascript object>"
      ]
     },
     "metadata": {},
     "output_type": "display_data"
    },
    {
     "name": "stdout",
     "output_type": "stream",
     "text": [
      "patient2_MAXSyndrome 患者408 众羽 众羽\n"
     ]
    },
    {
     "data": {
      "application/javascript": "\n        if (window._pyforest_update_imports_cell) { window._pyforest_update_imports_cell('import pandas as pd'); }\n    ",
      "text/plain": [
       "<IPython.core.display.Javascript object>"
      ]
     },
     "metadata": {},
     "output_type": "display_data"
    },
    {
     "name": "stdout",
     "output_type": "stream",
     "text": [
      "patient2_MAXSyndrome 患者416 众羽 上徵\n"
     ]
    },
    {
     "data": {
      "application/javascript": "\n        if (window._pyforest_update_imports_cell) { window._pyforest_update_imports_cell('import pandas as pd'); }\n    ",
      "text/plain": [
       "<IPython.core.display.Javascript object>"
      ]
     },
     "metadata": {},
     "output_type": "display_data"
    },
    {
     "name": "stdout",
     "output_type": "stream",
     "text": [
      "patient2_MAXSyndrome 患者432 右徵 上徵\n"
     ]
    },
    {
     "data": {
      "application/javascript": "\n        if (window._pyforest_update_imports_cell) { window._pyforest_update_imports_cell('import pandas as pd'); }\n    ",
      "text/plain": [
       "<IPython.core.display.Javascript object>"
      ]
     },
     "metadata": {},
     "output_type": "display_data"
    },
    {
     "name": "stdout",
     "output_type": "stream",
     "text": [
      "patient2_MAXSyndrome 患者434 上徵 大宫\n"
     ]
    },
    {
     "data": {
      "application/javascript": "\n        if (window._pyforest_update_imports_cell) { window._pyforest_update_imports_cell('import pandas as pd'); }\n    ",
      "text/plain": [
       "<IPython.core.display.Javascript object>"
      ]
     },
     "metadata": {},
     "output_type": "display_data"
    },
    {
     "name": "stdout",
     "output_type": "stream",
     "text": [
      "patient2_MAXSyndrome 患者436 钛角 右商\n"
     ]
    },
    {
     "data": {
      "application/javascript": "\n        if (window._pyforest_update_imports_cell) { window._pyforest_update_imports_cell('import pandas as pd'); }\n    ",
      "text/plain": [
       "<IPython.core.display.Javascript object>"
      ]
     },
     "metadata": {},
     "output_type": "display_data"
    },
    {
     "name": "stdout",
     "output_type": "stream",
     "text": [
      "patient2_MAXSyndrome 患者455 上商 钛角\n"
     ]
    },
    {
     "data": {
      "application/javascript": "\n        if (window._pyforest_update_imports_cell) { window._pyforest_update_imports_cell('import pandas as pd'); }\n    ",
      "text/plain": [
       "<IPython.core.display.Javascript object>"
      ]
     },
     "metadata": {},
     "output_type": "display_data"
    },
    {
     "name": "stdout",
     "output_type": "stream",
     "text": [
      "patient2_MAXSyndrome 患者458 桎羽 上徵\n"
     ]
    },
    {
     "data": {
      "application/javascript": "\n        if (window._pyforest_update_imports_cell) { window._pyforest_update_imports_cell('import pandas as pd'); }\n    ",
      "text/plain": [
       "<IPython.core.display.Javascript object>"
      ]
     },
     "metadata": {},
     "output_type": "display_data"
    },
    {
     "name": "stdout",
     "output_type": "stream",
     "text": [
      "patient2_MAXSyndrome 患者459 少羽 上羽\n"
     ]
    },
    {
     "data": {
      "application/javascript": "\n        if (window._pyforest_update_imports_cell) { window._pyforest_update_imports_cell('import pandas as pd'); }\n    ",
      "text/plain": [
       "<IPython.core.display.Javascript object>"
      ]
     },
     "metadata": {},
     "output_type": "display_data"
    },
    {
     "name": "stdout",
     "output_type": "stream",
     "text": [
      "patient2_MAXSyndrome 患者465 质徵 大宫\n"
     ]
    },
    {
     "data": {
      "application/javascript": "\n        if (window._pyforest_update_imports_cell) { window._pyforest_update_imports_cell('import pandas as pd'); }\n    ",
      "text/plain": [
       "<IPython.core.display.Javascript object>"
      ]
     },
     "metadata": {},
     "output_type": "display_data"
    },
    {
     "name": "stdout",
     "output_type": "stream",
     "text": [
      "patient2_MAXSyndrome 患者468 上羽 钛角\n"
     ]
    },
    {
     "data": {
      "application/javascript": "\n        if (window._pyforest_update_imports_cell) { window._pyforest_update_imports_cell('import pandas as pd'); }\n    ",
      "text/plain": [
       "<IPython.core.display.Javascript object>"
      ]
     },
     "metadata": {},
     "output_type": "display_data"
    },
    {
     "name": "stdout",
     "output_type": "stream",
     "text": [
      "patient2_MAXSyndrome 患者471 判角 钛角\n"
     ]
    },
    {
     "data": {
      "application/javascript": "\n        if (window._pyforest_update_imports_cell) { window._pyforest_update_imports_cell('import pandas as pd'); }\n    ",
      "text/plain": [
       "<IPython.core.display.Javascript object>"
      ]
     },
     "metadata": {},
     "output_type": "display_data"
    },
    {
     "name": "stdout",
     "output_type": "stream",
     "text": [
      "patient2_MAXSyndrome 患者474 右徵 钛角\n"
     ]
    },
    {
     "data": {
      "application/javascript": "\n        if (window._pyforest_update_imports_cell) { window._pyforest_update_imports_cell('import pandas as pd'); }\n    ",
      "text/plain": [
       "<IPython.core.display.Javascript object>"
      ]
     },
     "metadata": {},
     "output_type": "display_data"
    },
    {
     "name": "stdout",
     "output_type": "stream",
     "text": [
      "patient2_MAXSyndrome 患者480 钛角 右徵\n"
     ]
    },
    {
     "data": {
      "application/javascript": "\n        if (window._pyforest_update_imports_cell) { window._pyforest_update_imports_cell('import pandas as pd'); }\n    ",
      "text/plain": [
       "<IPython.core.display.Javascript object>"
      ]
     },
     "metadata": {},
     "output_type": "display_data"
    },
    {
     "name": "stdout",
     "output_type": "stream",
     "text": [
      "patient2_MAXSyndrome 患者484 少羽 上徵\n"
     ]
    },
    {
     "data": {
      "application/javascript": "\n        if (window._pyforest_update_imports_cell) { window._pyforest_update_imports_cell('import pandas as pd'); }\n    ",
      "text/plain": [
       "<IPython.core.display.Javascript object>"
      ]
     },
     "metadata": {},
     "output_type": "display_data"
    },
    {
     "name": "stdout",
     "output_type": "stream",
     "text": [
      "patient2_MAXSyndrome 患者485 众羽 钛角\n"
     ]
    },
    {
     "data": {
      "application/javascript": "\n        if (window._pyforest_update_imports_cell) { window._pyforest_update_imports_cell('import pandas as pd'); }\n    ",
      "text/plain": [
       "<IPython.core.display.Javascript object>"
      ]
     },
     "metadata": {},
     "output_type": "display_data"
    },
    {
     "name": "stdout",
     "output_type": "stream",
     "text": [
      "patient2_MAXSyndrome 患者491 众羽 大宫\n"
     ]
    },
    {
     "data": {
      "application/javascript": "\n        if (window._pyforest_update_imports_cell) { window._pyforest_update_imports_cell('import pandas as pd'); }\n    ",
      "text/plain": [
       "<IPython.core.display.Javascript object>"
      ]
     },
     "metadata": {},
     "output_type": "display_data"
    },
    {
     "name": "stdout",
     "output_type": "stream",
     "text": [
      "patient2_MAXSyndrome 患者499 加宫 大宫\n"
     ]
    },
    {
     "data": {
      "application/javascript": "\n        if (window._pyforest_update_imports_cell) { window._pyforest_update_imports_cell('import pandas as pd'); }\n    ",
      "text/plain": [
       "<IPython.core.display.Javascript object>"
      ]
     },
     "metadata": {},
     "output_type": "display_data"
    },
    {
     "name": "stdout",
     "output_type": "stream",
     "text": [
      "patient2_MAXSyndrome 患者507 大宫 大羽\n"
     ]
    },
    {
     "data": {
      "application/javascript": "\n        if (window._pyforest_update_imports_cell) { window._pyforest_update_imports_cell('import pandas as pd'); }\n    ",
      "text/plain": [
       "<IPython.core.display.Javascript object>"
      ]
     },
     "metadata": {},
     "output_type": "display_data"
    },
    {
     "name": "stdout",
     "output_type": "stream",
     "text": [
      "patient2_MAXSyndrome 患者511 大宫 钛商\n"
     ]
    },
    {
     "data": {
      "application/javascript": "\n        if (window._pyforest_update_imports_cell) { window._pyforest_update_imports_cell('import pandas as pd'); }\n    ",
      "text/plain": [
       "<IPython.core.display.Javascript object>"
      ]
     },
     "metadata": {},
     "output_type": "display_data"
    },
    {
     "name": "stdout",
     "output_type": "stream",
     "text": [
      "patient2_MAXSyndrome 患者512 质徵 大宫\n"
     ]
    },
    {
     "data": {
      "application/javascript": "\n        if (window._pyforest_update_imports_cell) { window._pyforest_update_imports_cell('import pandas as pd'); }\n    ",
      "text/plain": [
       "<IPython.core.display.Javascript object>"
      ]
     },
     "metadata": {},
     "output_type": "display_data"
    },
    {
     "name": "stdout",
     "output_type": "stream",
     "text": [
      "patient2_MAXSyndrome 患者520 大角 上羽\n"
     ]
    },
    {
     "data": {
      "application/javascript": "\n        if (window._pyforest_update_imports_cell) { window._pyforest_update_imports_cell('import pandas as pd'); }\n    ",
      "text/plain": [
       "<IPython.core.display.Javascript object>"
      ]
     },
     "metadata": {},
     "output_type": "display_data"
    },
    {
     "name": "stdout",
     "output_type": "stream",
     "text": [
      "patient2_MAXSyndrome 患者521 大角 大宫\n"
     ]
    },
    {
     "data": {
      "application/javascript": "\n        if (window._pyforest_update_imports_cell) { window._pyforest_update_imports_cell('import pandas as pd'); }\n    ",
      "text/plain": [
       "<IPython.core.display.Javascript object>"
      ]
     },
     "metadata": {},
     "output_type": "display_data"
    },
    {
     "name": "stdout",
     "output_type": "stream",
     "text": [
      "patient2_MAXSyndrome 患者529 上徵 上角\n"
     ]
    },
    {
     "data": {
      "application/javascript": "\n        if (window._pyforest_update_imports_cell) { window._pyforest_update_imports_cell('import pandas as pd'); }\n    ",
      "text/plain": [
       "<IPython.core.display.Javascript object>"
      ]
     },
     "metadata": {},
     "output_type": "display_data"
    },
    {
     "name": "stdout",
     "output_type": "stream",
     "text": [
      "patient2_MAXSyndrome 患者536 众羽 钛角\n"
     ]
    },
    {
     "data": {
      "application/javascript": "\n        if (window._pyforest_update_imports_cell) { window._pyforest_update_imports_cell('import pandas as pd'); }\n    ",
      "text/plain": [
       "<IPython.core.display.Javascript object>"
      ]
     },
     "metadata": {},
     "output_type": "display_data"
    },
    {
     "name": "stdout",
     "output_type": "stream",
     "text": [
      "patient2_MAXSyndrome 患者538 大宫 上徵\n"
     ]
    },
    {
     "data": {
      "application/javascript": "\n        if (window._pyforest_update_imports_cell) { window._pyforest_update_imports_cell('import pandas as pd'); }\n    ",
      "text/plain": [
       "<IPython.core.display.Javascript object>"
      ]
     },
     "metadata": {},
     "output_type": "display_data"
    },
    {
     "name": "stdout",
     "output_type": "stream",
     "text": [
      "patient2_MAXSyndrome 患者539 少徵 众羽\n"
     ]
    },
    {
     "data": {
      "application/javascript": "\n        if (window._pyforest_update_imports_cell) { window._pyforest_update_imports_cell('import pandas as pd'); }\n    ",
      "text/plain": [
       "<IPython.core.display.Javascript object>"
      ]
     },
     "metadata": {},
     "output_type": "display_data"
    },
    {
     "name": "stdout",
     "output_type": "stream",
     "text": [
      "patient2_MAXSyndrome 患者553 质徵 右徵\n"
     ]
    },
    {
     "data": {
      "application/javascript": "\n        if (window._pyforest_update_imports_cell) { window._pyforest_update_imports_cell('import pandas as pd'); }\n    ",
      "text/plain": [
       "<IPython.core.display.Javascript object>"
      ]
     },
     "metadata": {},
     "output_type": "display_data"
    },
    {
     "name": "stdout",
     "output_type": "stream",
     "text": [
      "patient2_MAXSyndrome 患者559 大角 右商\n"
     ]
    },
    {
     "data": {
      "application/javascript": "\n        if (window._pyforest_update_imports_cell) { window._pyforest_update_imports_cell('import pandas as pd'); }\n    ",
      "text/plain": [
       "<IPython.core.display.Javascript object>"
      ]
     },
     "metadata": {},
     "output_type": "display_data"
    },
    {
     "name": "stdout",
     "output_type": "stream",
     "text": [
      "patient2_MAXSyndrome 患者568 钛商 众羽\n"
     ]
    },
    {
     "data": {
      "application/javascript": "\n        if (window._pyforest_update_imports_cell) { window._pyforest_update_imports_cell('import pandas as pd'); }\n    ",
      "text/plain": [
       "<IPython.core.display.Javascript object>"
      ]
     },
     "metadata": {},
     "output_type": "display_data"
    },
    {
     "name": "stdout",
     "output_type": "stream",
     "text": [
      "patient2_MAXSyndrome 患者572 上羽 上徵\n"
     ]
    },
    {
     "data": {
      "application/javascript": "\n        if (window._pyforest_update_imports_cell) { window._pyforest_update_imports_cell('import pandas as pd'); }\n    ",
      "text/plain": [
       "<IPython.core.display.Javascript object>"
      ]
     },
     "metadata": {},
     "output_type": "display_data"
    },
    {
     "name": "stdout",
     "output_type": "stream",
     "text": [
      "patient2_MAXSyndrome 患者580 加宫 众羽\n"
     ]
    },
    {
     "data": {
      "application/javascript": "\n        if (window._pyforest_update_imports_cell) { window._pyforest_update_imports_cell('import pandas as pd'); }\n    ",
      "text/plain": [
       "<IPython.core.display.Javascript object>"
      ]
     },
     "metadata": {},
     "output_type": "display_data"
    },
    {
     "name": "stdout",
     "output_type": "stream",
     "text": [
      "patient2_MAXSyndrome 患者582 上角 钛角\n"
     ]
    },
    {
     "data": {
      "application/javascript": "\n        if (window._pyforest_update_imports_cell) { window._pyforest_update_imports_cell('import pandas as pd'); }\n    ",
      "text/plain": [
       "<IPython.core.display.Javascript object>"
      ]
     },
     "metadata": {},
     "output_type": "display_data"
    },
    {
     "name": "stdout",
     "output_type": "stream",
     "text": [
      "patient2_MAXSyndrome 患者588 右徵 上徵\n"
     ]
    },
    {
     "data": {
      "application/javascript": "\n        if (window._pyforest_update_imports_cell) { window._pyforest_update_imports_cell('import pandas as pd'); }\n    ",
      "text/plain": [
       "<IPython.core.display.Javascript object>"
      ]
     },
     "metadata": {},
     "output_type": "display_data"
    },
    {
     "name": "stdout",
     "output_type": "stream",
     "text": [
      "patient2_MAXSyndrome 患者591 众羽 大宫\n"
     ]
    },
    {
     "data": {
      "application/javascript": "\n        if (window._pyforest_update_imports_cell) { window._pyforest_update_imports_cell('import pandas as pd'); }\n    ",
      "text/plain": [
       "<IPython.core.display.Javascript object>"
      ]
     },
     "metadata": {},
     "output_type": "display_data"
    },
    {
     "name": "stdout",
     "output_type": "stream",
     "text": [
      "patient2_MAXSyndrome 患者605 众羽 右徵\n"
     ]
    },
    {
     "data": {
      "application/javascript": "\n        if (window._pyforest_update_imports_cell) { window._pyforest_update_imports_cell('import pandas as pd'); }\n    ",
      "text/plain": [
       "<IPython.core.display.Javascript object>"
      ]
     },
     "metadata": {},
     "output_type": "display_data"
    },
    {
     "name": "stdout",
     "output_type": "stream",
     "text": [
      "patient2_MAXSyndrome 患者606 左宫 众羽\n"
     ]
    },
    {
     "data": {
      "application/javascript": "\n        if (window._pyforest_update_imports_cell) { window._pyforest_update_imports_cell('import pandas as pd'); }\n    ",
      "text/plain": [
       "<IPython.core.display.Javascript object>"
      ]
     },
     "metadata": {},
     "output_type": "display_data"
    },
    {
     "name": "stdout",
     "output_type": "stream",
     "text": [
      "patient2_MAXSyndrome 患者611 钛商 上徵\n"
     ]
    },
    {
     "data": {
      "application/javascript": "\n        if (window._pyforest_update_imports_cell) { window._pyforest_update_imports_cell('import pandas as pd'); }\n    ",
      "text/plain": [
       "<IPython.core.display.Javascript object>"
      ]
     },
     "metadata": {},
     "output_type": "display_data"
    },
    {
     "name": "stdout",
     "output_type": "stream",
     "text": [
      "patient2_MAXSyndrome 患者612 判角 右徵\n"
     ]
    },
    {
     "data": {
      "application/javascript": "\n        if (window._pyforest_update_imports_cell) { window._pyforest_update_imports_cell('import pandas as pd'); }\n    ",
      "text/plain": [
       "<IPython.core.display.Javascript object>"
      ]
     },
     "metadata": {},
     "output_type": "display_data"
    },
    {
     "name": "stdout",
     "output_type": "stream",
     "text": [
      "patient2_MAXSyndrome 患者617 上徵 右徵\n"
     ]
    },
    {
     "data": {
      "application/javascript": "\n        if (window._pyforest_update_imports_cell) { window._pyforest_update_imports_cell('import pandas as pd'); }\n    ",
      "text/plain": [
       "<IPython.core.display.Javascript object>"
      ]
     },
     "metadata": {},
     "output_type": "display_data"
    },
    {
     "name": "stdout",
     "output_type": "stream",
     "text": [
      "patient2_MAXSyndrome 患者620 桎羽 众羽\n"
     ]
    },
    {
     "data": {
      "application/javascript": "\n        if (window._pyforest_update_imports_cell) { window._pyforest_update_imports_cell('import pandas as pd'); }\n    ",
      "text/plain": [
       "<IPython.core.display.Javascript object>"
      ]
     },
     "metadata": {},
     "output_type": "display_data"
    },
    {
     "name": "stdout",
     "output_type": "stream",
     "text": [
      "patient2_MAXSyndrome 患者622 右商 上徵\n"
     ]
    },
    {
     "data": {
      "application/javascript": "\n        if (window._pyforest_update_imports_cell) { window._pyforest_update_imports_cell('import pandas as pd'); }\n    ",
      "text/plain": [
       "<IPython.core.display.Javascript object>"
      ]
     },
     "metadata": {},
     "output_type": "display_data"
    },
    {
     "name": "stdout",
     "output_type": "stream",
     "text": [
      "patient2_MAXSyndrome 患者626 右角 右徵\n"
     ]
    },
    {
     "data": {
      "application/javascript": "\n        if (window._pyforest_update_imports_cell) { window._pyforest_update_imports_cell('import pandas as pd'); }\n    ",
      "text/plain": [
       "<IPython.core.display.Javascript object>"
      ]
     },
     "metadata": {},
     "output_type": "display_data"
    },
    {
     "name": "stdout",
     "output_type": "stream",
     "text": [
      "patient2_MAXSyndrome 患者636 左商 钛角\n"
     ]
    },
    {
     "data": {
      "application/javascript": "\n        if (window._pyforest_update_imports_cell) { window._pyforest_update_imports_cell('import pandas as pd'); }\n    ",
      "text/plain": [
       "<IPython.core.display.Javascript object>"
      ]
     },
     "metadata": {},
     "output_type": "display_data"
    },
    {
     "name": "stdout",
     "output_type": "stream",
     "text": [
      "patient2_MAXSyndrome 患者646 上徵 上徵\n"
     ]
    },
    {
     "data": {
      "application/javascript": "\n        if (window._pyforest_update_imports_cell) { window._pyforest_update_imports_cell('import pandas as pd'); }\n    ",
      "text/plain": [
       "<IPython.core.display.Javascript object>"
      ]
     },
     "metadata": {},
     "output_type": "display_data"
    },
    {
     "name": "stdout",
     "output_type": "stream",
     "text": [
      "patient2_MAXSyndrome 患者649 上羽 判角\n"
     ]
    },
    {
     "data": {
      "application/javascript": "\n        if (window._pyforest_update_imports_cell) { window._pyforest_update_imports_cell('import pandas as pd'); }\n    ",
      "text/plain": [
       "<IPython.core.display.Javascript object>"
      ]
     },
     "metadata": {},
     "output_type": "display_data"
    },
    {
     "name": "stdout",
     "output_type": "stream",
     "text": [
      "patient2_MAXSyndrome 患者650 上徵 大羽\n"
     ]
    },
    {
     "data": {
      "application/javascript": "\n        if (window._pyforest_update_imports_cell) { window._pyforest_update_imports_cell('import pandas as pd'); }\n    ",
      "text/plain": [
       "<IPython.core.display.Javascript object>"
      ]
     },
     "metadata": {},
     "output_type": "display_data"
    },
    {
     "name": "stdout",
     "output_type": "stream",
     "text": [
      "patient2_MAXSyndrome 患者671 上徵 上徵\n"
     ]
    },
    {
     "data": {
      "application/javascript": "\n        if (window._pyforest_update_imports_cell) { window._pyforest_update_imports_cell('import pandas as pd'); }\n    ",
      "text/plain": [
       "<IPython.core.display.Javascript object>"
      ]
     },
     "metadata": {},
     "output_type": "display_data"
    },
    {
     "name": "stdout",
     "output_type": "stream",
     "text": [
      "patient2_MAXSyndrome 患者680 质徵 众羽\n"
     ]
    },
    {
     "data": {
      "application/javascript": "\n        if (window._pyforest_update_imports_cell) { window._pyforest_update_imports_cell('import pandas as pd'); }\n    ",
      "text/plain": [
       "<IPython.core.display.Javascript object>"
      ]
     },
     "metadata": {},
     "output_type": "display_data"
    },
    {
     "name": "stdout",
     "output_type": "stream",
     "text": [
      "patient2_MAXSyndrome 患者686 上徵 钛角\n"
     ]
    },
    {
     "data": {
      "application/javascript": "\n        if (window._pyforest_update_imports_cell) { window._pyforest_update_imports_cell('import pandas as pd'); }\n    ",
      "text/plain": [
       "<IPython.core.display.Javascript object>"
      ]
     },
     "metadata": {},
     "output_type": "display_data"
    },
    {
     "name": "stdout",
     "output_type": "stream",
     "text": [
      "patient2_MAXSyndrome 患者687 上徵 众羽\n"
     ]
    },
    {
     "data": {
      "application/javascript": "\n        if (window._pyforest_update_imports_cell) { window._pyforest_update_imports_cell('import pandas as pd'); }\n    ",
      "text/plain": [
       "<IPython.core.display.Javascript object>"
      ]
     },
     "metadata": {},
     "output_type": "display_data"
    },
    {
     "name": "stdout",
     "output_type": "stream",
     "text": [
      "patient2_MAXSyndrome 患者690 判角 大羽\n"
     ]
    },
    {
     "data": {
      "application/javascript": "\n        if (window._pyforest_update_imports_cell) { window._pyforest_update_imports_cell('import pandas as pd'); }\n    ",
      "text/plain": [
       "<IPython.core.display.Javascript object>"
      ]
     },
     "metadata": {},
     "output_type": "display_data"
    },
    {
     "name": "stdout",
     "output_type": "stream",
     "text": [
      "patient2_MAXSyndrome 患者691 钛角 上徵\n"
     ]
    },
    {
     "data": {
      "application/javascript": "\n        if (window._pyforest_update_imports_cell) { window._pyforest_update_imports_cell('import pandas as pd'); }\n    ",
      "text/plain": [
       "<IPython.core.display.Javascript object>"
      ]
     },
     "metadata": {},
     "output_type": "display_data"
    },
    {
     "name": "stdout",
     "output_type": "stream",
     "text": [
      "patient2_MAXSyndrome 患者693 上角 上徵\n"
     ]
    },
    {
     "data": {
      "application/javascript": "\n        if (window._pyforest_update_imports_cell) { window._pyforest_update_imports_cell('import pandas as pd'); }\n    ",
      "text/plain": [
       "<IPython.core.display.Javascript object>"
      ]
     },
     "metadata": {},
     "output_type": "display_data"
    },
    {
     "name": "stdout",
     "output_type": "stream",
     "text": [
      "patient2_MAXSyndrome 患者700 加宫 右徵\n"
     ]
    },
    {
     "data": {
      "application/javascript": "\n        if (window._pyforest_update_imports_cell) { window._pyforest_update_imports_cell('import pandas as pd'); }\n    ",
      "text/plain": [
       "<IPython.core.display.Javascript object>"
      ]
     },
     "metadata": {},
     "output_type": "display_data"
    },
    {
     "name": "stdout",
     "output_type": "stream",
     "text": [
      "patient2_MAXSyndrome 患者701 质徵 上徵\n"
     ]
    },
    {
     "data": {
      "application/javascript": "\n        if (window._pyforest_update_imports_cell) { window._pyforest_update_imports_cell('import pandas as pd'); }\n    ",
      "text/plain": [
       "<IPython.core.display.Javascript object>"
      ]
     },
     "metadata": {},
     "output_type": "display_data"
    },
    {
     "name": "stdout",
     "output_type": "stream",
     "text": [
      "patient2_MAXSyndrome 患者704 上角 大羽\n"
     ]
    },
    {
     "data": {
      "application/javascript": "\n        if (window._pyforest_update_imports_cell) { window._pyforest_update_imports_cell('import pandas as pd'); }\n    ",
      "text/plain": [
       "<IPython.core.display.Javascript object>"
      ]
     },
     "metadata": {},
     "output_type": "display_data"
    },
    {
     "name": "stdout",
     "output_type": "stream",
     "text": [
      "patient2_MAXSyndrome 患者706 右徵 上徵\n"
     ]
    },
    {
     "data": {
      "application/javascript": "\n        if (window._pyforest_update_imports_cell) { window._pyforest_update_imports_cell('import pandas as pd'); }\n    ",
      "text/plain": [
       "<IPython.core.display.Javascript object>"
      ]
     },
     "metadata": {},
     "output_type": "display_data"
    },
    {
     "name": "stdout",
     "output_type": "stream",
     "text": [
      "patient2_MAXSyndrome 患者708 右徵 钛角\n"
     ]
    },
    {
     "data": {
      "application/javascript": "\n        if (window._pyforest_update_imports_cell) { window._pyforest_update_imports_cell('import pandas as pd'); }\n    ",
      "text/plain": [
       "<IPython.core.display.Javascript object>"
      ]
     },
     "metadata": {},
     "output_type": "display_data"
    },
    {
     "name": "stdout",
     "output_type": "stream",
     "text": [
      "patient2_MAXSyndrome 患者709 钛角 钛商\n"
     ]
    },
    {
     "data": {
      "application/javascript": "\n        if (window._pyforest_update_imports_cell) { window._pyforest_update_imports_cell('import pandas as pd'); }\n    ",
      "text/plain": [
       "<IPython.core.display.Javascript object>"
      ]
     },
     "metadata": {},
     "output_type": "display_data"
    },
    {
     "name": "stdout",
     "output_type": "stream",
     "text": [
      "patient2_MAXSyndrome 患者710 大羽 众羽\n"
     ]
    },
    {
     "data": {
      "application/javascript": "\n        if (window._pyforest_update_imports_cell) { window._pyforest_update_imports_cell('import pandas as pd'); }\n    ",
      "text/plain": [
       "<IPython.core.display.Javascript object>"
      ]
     },
     "metadata": {},
     "output_type": "display_data"
    },
    {
     "name": "stdout",
     "output_type": "stream",
     "text": [
      "patient2_MAXSyndrome 患者715 上角 大角\n"
     ]
    },
    {
     "data": {
      "application/javascript": "\n        if (window._pyforest_update_imports_cell) { window._pyforest_update_imports_cell('import pandas as pd'); }\n    ",
      "text/plain": [
       "<IPython.core.display.Javascript object>"
      ]
     },
     "metadata": {},
     "output_type": "display_data"
    },
    {
     "name": "stdout",
     "output_type": "stream",
     "text": [
      "patient2_MAXSyndrome 患者716 加宫 上角\n"
     ]
    },
    {
     "data": {
      "application/javascript": "\n        if (window._pyforest_update_imports_cell) { window._pyforest_update_imports_cell('import pandas as pd'); }\n    ",
      "text/plain": [
       "<IPython.core.display.Javascript object>"
      ]
     },
     "metadata": {},
     "output_type": "display_data"
    },
    {
     "name": "stdout",
     "output_type": "stream",
     "text": [
      "patient2_MAXSyndrome 患者723 质徵 上徵\n"
     ]
    },
    {
     "data": {
      "application/javascript": "\n        if (window._pyforest_update_imports_cell) { window._pyforest_update_imports_cell('import pandas as pd'); }\n    ",
      "text/plain": [
       "<IPython.core.display.Javascript object>"
      ]
     },
     "metadata": {},
     "output_type": "display_data"
    },
    {
     "name": "stdout",
     "output_type": "stream",
     "text": [
      "patient2_MAXSyndrome 患者730 右商 钛角\n"
     ]
    },
    {
     "data": {
      "application/javascript": "\n        if (window._pyforest_update_imports_cell) { window._pyforest_update_imports_cell('import pandas as pd'); }\n    ",
      "text/plain": [
       "<IPython.core.display.Javascript object>"
      ]
     },
     "metadata": {},
     "output_type": "display_data"
    },
    {
     "name": "stdout",
     "output_type": "stream",
     "text": [
      "patient2_MAXSyndrome 患者736 钛商 右徵\n"
     ]
    },
    {
     "data": {
      "application/javascript": "\n        if (window._pyforest_update_imports_cell) { window._pyforest_update_imports_cell('import pandas as pd'); }\n    ",
      "text/plain": [
       "<IPython.core.display.Javascript object>"
      ]
     },
     "metadata": {},
     "output_type": "display_data"
    },
    {
     "name": "stdout",
     "output_type": "stream",
     "text": [
      "patient2_MAXSyndrome 患者738 钛角 大宫\n"
     ]
    },
    {
     "data": {
      "application/javascript": "\n        if (window._pyforest_update_imports_cell) { window._pyforest_update_imports_cell('import pandas as pd'); }\n    ",
      "text/plain": [
       "<IPython.core.display.Javascript object>"
      ]
     },
     "metadata": {},
     "output_type": "display_data"
    },
    {
     "name": "stdout",
     "output_type": "stream",
     "text": [
      "patient2_MAXSyndrome 患者739 加宫 上羽\n"
     ]
    },
    {
     "data": {
      "application/javascript": "\n        if (window._pyforest_update_imports_cell) { window._pyforest_update_imports_cell('import pandas as pd'); }\n    ",
      "text/plain": [
       "<IPython.core.display.Javascript object>"
      ]
     },
     "metadata": {},
     "output_type": "display_data"
    },
    {
     "name": "stdout",
     "output_type": "stream",
     "text": [
      "patient2_MAXSyndrome 患者744 大羽 钛角\n"
     ]
    },
    {
     "data": {
      "application/javascript": "\n        if (window._pyforest_update_imports_cell) { window._pyforest_update_imports_cell('import pandas as pd'); }\n    ",
      "text/plain": [
       "<IPython.core.display.Javascript object>"
      ]
     },
     "metadata": {},
     "output_type": "display_data"
    },
    {
     "name": "stdout",
     "output_type": "stream",
     "text": [
      "patient2_MAXSyndrome 患者748 右徵 右徵\n"
     ]
    },
    {
     "data": {
      "application/javascript": "\n        if (window._pyforest_update_imports_cell) { window._pyforest_update_imports_cell('import pandas as pd'); }\n    ",
      "text/plain": [
       "<IPython.core.display.Javascript object>"
      ]
     },
     "metadata": {},
     "output_type": "display_data"
    },
    {
     "name": "stdout",
     "output_type": "stream",
     "text": [
      "patient2_MAXSyndrome 患者755 右徵 钛角\n"
     ]
    },
    {
     "data": {
      "application/javascript": "\n        if (window._pyforest_update_imports_cell) { window._pyforest_update_imports_cell('import pandas as pd'); }\n    ",
      "text/plain": [
       "<IPython.core.display.Javascript object>"
      ]
     },
     "metadata": {},
     "output_type": "display_data"
    },
    {
     "name": "stdout",
     "output_type": "stream",
     "text": [
      "patient2_MAXSyndrome 患者760 钛商 大角\n"
     ]
    },
    {
     "data": {
      "application/javascript": "\n        if (window._pyforest_update_imports_cell) { window._pyforest_update_imports_cell('import pandas as pd'); }\n    ",
      "text/plain": [
       "<IPython.core.display.Javascript object>"
      ]
     },
     "metadata": {},
     "output_type": "display_data"
    },
    {
     "name": "stdout",
     "output_type": "stream",
     "text": [
      "patient2_MAXSyndrome 患者763 大角 右徵\n"
     ]
    },
    {
     "data": {
      "application/javascript": "\n        if (window._pyforest_update_imports_cell) { window._pyforest_update_imports_cell('import pandas as pd'); }\n    ",
      "text/plain": [
       "<IPython.core.display.Javascript object>"
      ]
     },
     "metadata": {},
     "output_type": "display_data"
    },
    {
     "name": "stdout",
     "output_type": "stream",
     "text": [
      "patient2_MAXSyndrome 患者767 钛角 众羽\n"
     ]
    },
    {
     "data": {
      "application/javascript": "\n        if (window._pyforest_update_imports_cell) { window._pyforest_update_imports_cell('import pandas as pd'); }\n    ",
      "text/plain": [
       "<IPython.core.display.Javascript object>"
      ]
     },
     "metadata": {},
     "output_type": "display_data"
    },
    {
     "name": "stdout",
     "output_type": "stream",
     "text": [
      "patient2_MAXSyndrome 患者768 大羽 右徵\n"
     ]
    },
    {
     "data": {
      "application/javascript": "\n        if (window._pyforest_update_imports_cell) { window._pyforest_update_imports_cell('import pandas as pd'); }\n    ",
      "text/plain": [
       "<IPython.core.display.Javascript object>"
      ]
     },
     "metadata": {},
     "output_type": "display_data"
    },
    {
     "name": "stdout",
     "output_type": "stream",
     "text": [
      "patient2_MAXSyndrome 患者769 大宫 钛角\n"
     ]
    },
    {
     "data": {
      "application/javascript": "\n        if (window._pyforest_update_imports_cell) { window._pyforest_update_imports_cell('import pandas as pd'); }\n    ",
      "text/plain": [
       "<IPython.core.display.Javascript object>"
      ]
     },
     "metadata": {},
     "output_type": "display_data"
    },
    {
     "name": "stdout",
     "output_type": "stream",
     "text": [
      "patient2_MAXSyndrome 患者773 判徵 右商\n"
     ]
    },
    {
     "data": {
      "application/javascript": "\n        if (window._pyforest_update_imports_cell) { window._pyforest_update_imports_cell('import pandas as pd'); }\n    ",
      "text/plain": [
       "<IPython.core.display.Javascript object>"
      ]
     },
     "metadata": {},
     "output_type": "display_data"
    },
    {
     "name": "stdout",
     "output_type": "stream",
     "text": [
      "patient2_MAXSyndrome 患者776 上商 上徵\n"
     ]
    },
    {
     "data": {
      "application/javascript": "\n        if (window._pyforest_update_imports_cell) { window._pyforest_update_imports_cell('import pandas as pd'); }\n    ",
      "text/plain": [
       "<IPython.core.display.Javascript object>"
      ]
     },
     "metadata": {},
     "output_type": "display_data"
    },
    {
     "name": "stdout",
     "output_type": "stream",
     "text": [
      "patient2_MAXSyndrome 患者789 右徵 大宫\n"
     ]
    },
    {
     "data": {
      "application/javascript": "\n        if (window._pyforest_update_imports_cell) { window._pyforest_update_imports_cell('import pandas as pd'); }\n    ",
      "text/plain": [
       "<IPython.core.display.Javascript object>"
      ]
     },
     "metadata": {},
     "output_type": "display_data"
    },
    {
     "name": "stdout",
     "output_type": "stream",
     "text": [
      "patient2_MAXSyndrome 患者794 钛商 钛角\n"
     ]
    },
    {
     "data": {
      "application/javascript": "\n        if (window._pyforest_update_imports_cell) { window._pyforest_update_imports_cell('import pandas as pd'); }\n    ",
      "text/plain": [
       "<IPython.core.display.Javascript object>"
      ]
     },
     "metadata": {},
     "output_type": "display_data"
    },
    {
     "name": "stdout",
     "output_type": "stream",
     "text": [
      "patient2_MAXSyndrome 患者796 大羽 上徵\n"
     ]
    },
    {
     "data": {
      "application/javascript": "\n        if (window._pyforest_update_imports_cell) { window._pyforest_update_imports_cell('import pandas as pd'); }\n    ",
      "text/plain": [
       "<IPython.core.display.Javascript object>"
      ]
     },
     "metadata": {},
     "output_type": "display_data"
    },
    {
     "name": "stdout",
     "output_type": "stream",
     "text": [
      "patient2_MAXSyndrome 患者799 大羽 钛角\n"
     ]
    },
    {
     "data": {
      "application/javascript": "\n        if (window._pyforest_update_imports_cell) { window._pyforest_update_imports_cell('import pandas as pd'); }\n    ",
      "text/plain": [
       "<IPython.core.display.Javascript object>"
      ]
     },
     "metadata": {},
     "output_type": "display_data"
    },
    {
     "name": "stdout",
     "output_type": "stream",
     "text": [
      "patient2_MAXSyndrome 患者807 上羽 上羽\n"
     ]
    },
    {
     "data": {
      "application/javascript": "\n        if (window._pyforest_update_imports_cell) { window._pyforest_update_imports_cell('import pandas as pd'); }\n    ",
      "text/plain": [
       "<IPython.core.display.Javascript object>"
      ]
     },
     "metadata": {},
     "output_type": "display_data"
    },
    {
     "name": "stdout",
     "output_type": "stream",
     "text": [
      "patient2_MAXSyndrome 患者811 质徵 右徵\n"
     ]
    },
    {
     "data": {
      "application/javascript": "\n        if (window._pyforest_update_imports_cell) { window._pyforest_update_imports_cell('import pandas as pd'); }\n    ",
      "text/plain": [
       "<IPython.core.display.Javascript object>"
      ]
     },
     "metadata": {},
     "output_type": "display_data"
    },
    {
     "name": "stdout",
     "output_type": "stream",
     "text": [
      "patient2_MAXSyndrome 患者819 大羽 上羽\n"
     ]
    },
    {
     "data": {
      "application/javascript": "\n        if (window._pyforest_update_imports_cell) { window._pyforest_update_imports_cell('import pandas as pd'); }\n    ",
      "text/plain": [
       "<IPython.core.display.Javascript object>"
      ]
     },
     "metadata": {},
     "output_type": "display_data"
    },
    {
     "name": "stdout",
     "output_type": "stream",
     "text": [
      "patient2_MAXSyndrome 患者825 钛角 上徵\n"
     ]
    },
    {
     "data": {
      "application/javascript": "\n        if (window._pyforest_update_imports_cell) { window._pyforest_update_imports_cell('import pandas as pd'); }\n    ",
      "text/plain": [
       "<IPython.core.display.Javascript object>"
      ]
     },
     "metadata": {},
     "output_type": "display_data"
    },
    {
     "name": "stdout",
     "output_type": "stream",
     "text": [
      "patient2_MAXSyndrome 患者830 上商 钛角\n"
     ]
    },
    {
     "data": {
      "application/javascript": "\n        if (window._pyforest_update_imports_cell) { window._pyforest_update_imports_cell('import pandas as pd'); }\n    ",
      "text/plain": [
       "<IPython.core.display.Javascript object>"
      ]
     },
     "metadata": {},
     "output_type": "display_data"
    },
    {
     "name": "stdout",
     "output_type": "stream",
     "text": [
      "patient2_MAXSyndrome 患者834 桎羽 右徵\n"
     ]
    },
    {
     "data": {
      "application/javascript": "\n        if (window._pyforest_update_imports_cell) { window._pyforest_update_imports_cell('import pandas as pd'); }\n    ",
      "text/plain": [
       "<IPython.core.display.Javascript object>"
      ]
     },
     "metadata": {},
     "output_type": "display_data"
    },
    {
     "name": "stdout",
     "output_type": "stream",
     "text": [
      "patient2_MAXSyndrome 患者835 判角 右徵\n"
     ]
    },
    {
     "data": {
      "application/javascript": "\n        if (window._pyforest_update_imports_cell) { window._pyforest_update_imports_cell('import pandas as pd'); }\n    ",
      "text/plain": [
       "<IPython.core.display.Javascript object>"
      ]
     },
     "metadata": {},
     "output_type": "display_data"
    },
    {
     "name": "stdout",
     "output_type": "stream",
     "text": [
      "patient2_MAXSyndrome 患者837 大宫 右徵\n"
     ]
    },
    {
     "data": {
      "application/javascript": "\n        if (window._pyforest_update_imports_cell) { window._pyforest_update_imports_cell('import pandas as pd'); }\n    ",
      "text/plain": [
       "<IPython.core.display.Javascript object>"
      ]
     },
     "metadata": {},
     "output_type": "display_data"
    },
    {
     "name": "stdout",
     "output_type": "stream",
     "text": [
      "patient2_MAXSyndrome 患者838 众羽 右徵\n"
     ]
    },
    {
     "data": {
      "application/javascript": "\n        if (window._pyforest_update_imports_cell) { window._pyforest_update_imports_cell('import pandas as pd'); }\n    ",
      "text/plain": [
       "<IPython.core.display.Javascript object>"
      ]
     },
     "metadata": {},
     "output_type": "display_data"
    },
    {
     "name": "stdout",
     "output_type": "stream",
     "text": [
      "patient2_MAXSyndrome 患者850 上徵 右徵\n"
     ]
    },
    {
     "data": {
      "application/javascript": "\n        if (window._pyforest_update_imports_cell) { window._pyforest_update_imports_cell('import pandas as pd'); }\n    ",
      "text/plain": [
       "<IPython.core.display.Javascript object>"
      ]
     },
     "metadata": {},
     "output_type": "display_data"
    },
    {
     "name": "stdout",
     "output_type": "stream",
     "text": [
      "patient2_MAXSyndrome 患者855 众羽 右徵\n"
     ]
    },
    {
     "data": {
      "application/javascript": "\n        if (window._pyforest_update_imports_cell) { window._pyforest_update_imports_cell('import pandas as pd'); }\n    ",
      "text/plain": [
       "<IPython.core.display.Javascript object>"
      ]
     },
     "metadata": {},
     "output_type": "display_data"
    },
    {
     "name": "stdout",
     "output_type": "stream",
     "text": [
      "patient2_MAXSyndrome 患者863 上徵 众羽\n"
     ]
    },
    {
     "data": {
      "application/javascript": "\n        if (window._pyforest_update_imports_cell) { window._pyforest_update_imports_cell('import pandas as pd'); }\n    ",
      "text/plain": [
       "<IPython.core.display.Javascript object>"
      ]
     },
     "metadata": {},
     "output_type": "display_data"
    },
    {
     "name": "stdout",
     "output_type": "stream",
     "text": [
      "patient2_MAXSyndrome 患者867 钛角 钛商\n"
     ]
    },
    {
     "data": {
      "application/javascript": "\n        if (window._pyforest_update_imports_cell) { window._pyforest_update_imports_cell('import pandas as pd'); }\n    ",
      "text/plain": [
       "<IPython.core.display.Javascript object>"
      ]
     },
     "metadata": {},
     "output_type": "display_data"
    },
    {
     "name": "stdout",
     "output_type": "stream",
     "text": [
      "patient2_MAXSyndrome 患者868 上角 加宫\n"
     ]
    },
    {
     "data": {
      "application/javascript": "\n        if (window._pyforest_update_imports_cell) { window._pyforest_update_imports_cell('import pandas as pd'); }\n    ",
      "text/plain": [
       "<IPython.core.display.Javascript object>"
      ]
     },
     "metadata": {},
     "output_type": "display_data"
    },
    {
     "name": "stdout",
     "output_type": "stream",
     "text": [
      "patient2_MAXSyndrome 患者871 判角 右徵\n"
     ]
    },
    {
     "data": {
      "application/javascript": "\n        if (window._pyforest_update_imports_cell) { window._pyforest_update_imports_cell('import pandas as pd'); }\n    ",
      "text/plain": [
       "<IPython.core.display.Javascript object>"
      ]
     },
     "metadata": {},
     "output_type": "display_data"
    },
    {
     "name": "stdout",
     "output_type": "stream",
     "text": [
      "patient2_MAXSyndrome 患者879 右商 右徵\n"
     ]
    },
    {
     "data": {
      "application/javascript": "\n        if (window._pyforest_update_imports_cell) { window._pyforest_update_imports_cell('import pandas as pd'); }\n    ",
      "text/plain": [
       "<IPython.core.display.Javascript object>"
      ]
     },
     "metadata": {},
     "output_type": "display_data"
    },
    {
     "name": "stdout",
     "output_type": "stream",
     "text": [
      "patient2_MAXSyndrome 患者888 钛角 右徵\n"
     ]
    },
    {
     "data": {
      "application/javascript": "\n        if (window._pyforest_update_imports_cell) { window._pyforest_update_imports_cell('import pandas as pd'); }\n    ",
      "text/plain": [
       "<IPython.core.display.Javascript object>"
      ]
     },
     "metadata": {},
     "output_type": "display_data"
    },
    {
     "name": "stdout",
     "output_type": "stream",
     "text": [
      "patient2_MAXSyndrome 患者889 上宫 钛角\n"
     ]
    },
    {
     "data": {
      "application/javascript": "\n        if (window._pyforest_update_imports_cell) { window._pyforest_update_imports_cell('import pandas as pd'); }\n    ",
      "text/plain": [
       "<IPython.core.display.Javascript object>"
      ]
     },
     "metadata": {},
     "output_type": "display_data"
    },
    {
     "name": "stdout",
     "output_type": "stream",
     "text": [
      "patient2_MAXSyndrome 患者890 右徵 右徵\n"
     ]
    },
    {
     "data": {
      "application/javascript": "\n        if (window._pyforest_update_imports_cell) { window._pyforest_update_imports_cell('import pandas as pd'); }\n    ",
      "text/plain": [
       "<IPython.core.display.Javascript object>"
      ]
     },
     "metadata": {},
     "output_type": "display_data"
    },
    {
     "name": "stdout",
     "output_type": "stream",
     "text": [
      "patient2_MAXSyndrome 患者896 桎羽 钛角\n"
     ]
    },
    {
     "data": {
      "application/javascript": "\n        if (window._pyforest_update_imports_cell) { window._pyforest_update_imports_cell('import pandas as pd'); }\n    ",
      "text/plain": [
       "<IPython.core.display.Javascript object>"
      ]
     },
     "metadata": {},
     "output_type": "display_data"
    },
    {
     "name": "stdout",
     "output_type": "stream",
     "text": [
      "patient2_MAXSyndrome 患者904 上商 上徵\n"
     ]
    },
    {
     "data": {
      "application/javascript": "\n        if (window._pyforest_update_imports_cell) { window._pyforest_update_imports_cell('import pandas as pd'); }\n    ",
      "text/plain": [
       "<IPython.core.display.Javascript object>"
      ]
     },
     "metadata": {},
     "output_type": "display_data"
    },
    {
     "name": "stdout",
     "output_type": "stream",
     "text": [
      "patient2_MAXSyndrome 患者908 质徵 加宫\n"
     ]
    },
    {
     "data": {
      "application/javascript": "\n        if (window._pyforest_update_imports_cell) { window._pyforest_update_imports_cell('import pandas as pd'); }\n    ",
      "text/plain": [
       "<IPython.core.display.Javascript object>"
      ]
     },
     "metadata": {},
     "output_type": "display_data"
    },
    {
     "name": "stdout",
     "output_type": "stream",
     "text": [
      "patient2_MAXSyndrome 患者912 上商 上羽\n"
     ]
    },
    {
     "data": {
      "application/javascript": "\n        if (window._pyforest_update_imports_cell) { window._pyforest_update_imports_cell('import pandas as pd'); }\n    ",
      "text/plain": [
       "<IPython.core.display.Javascript object>"
      ]
     },
     "metadata": {},
     "output_type": "display_data"
    },
    {
     "name": "stdout",
     "output_type": "stream",
     "text": [
      "patient2_MAXSyndrome 患者916 大羽 右徵\n"
     ]
    },
    {
     "data": {
      "application/javascript": "\n        if (window._pyforest_update_imports_cell) { window._pyforest_update_imports_cell('import pandas as pd'); }\n    ",
      "text/plain": [
       "<IPython.core.display.Javascript object>"
      ]
     },
     "metadata": {},
     "output_type": "display_data"
    },
    {
     "name": "stdout",
     "output_type": "stream",
     "text": [
      "patient2_MAXSyndrome 患者919 右商 右徵\n"
     ]
    },
    {
     "data": {
      "application/javascript": "\n        if (window._pyforest_update_imports_cell) { window._pyforest_update_imports_cell('import pandas as pd'); }\n    ",
      "text/plain": [
       "<IPython.core.display.Javascript object>"
      ]
     },
     "metadata": {},
     "output_type": "display_data"
    },
    {
     "name": "stdout",
     "output_type": "stream",
     "text": [
      "patient2_MAXSyndrome 患者920 钛商 右徵\n"
     ]
    },
    {
     "data": {
      "application/javascript": "\n        if (window._pyforest_update_imports_cell) { window._pyforest_update_imports_cell('import pandas as pd'); }\n    ",
      "text/plain": [
       "<IPython.core.display.Javascript object>"
      ]
     },
     "metadata": {},
     "output_type": "display_data"
    },
    {
     "name": "stdout",
     "output_type": "stream",
     "text": [
      "patient2_MAXSyndrome 患者923 右徵 上徵\n"
     ]
    },
    {
     "data": {
      "application/javascript": "\n        if (window._pyforest_update_imports_cell) { window._pyforest_update_imports_cell('import pandas as pd'); }\n    ",
      "text/plain": [
       "<IPython.core.display.Javascript object>"
      ]
     },
     "metadata": {},
     "output_type": "display_data"
    },
    {
     "name": "stdout",
     "output_type": "stream",
     "text": [
      "patient2_MAXSyndrome 患者925 上角 上角\n"
     ]
    },
    {
     "data": {
      "application/javascript": "\n        if (window._pyforest_update_imports_cell) { window._pyforest_update_imports_cell('import pandas as pd'); }\n    ",
      "text/plain": [
       "<IPython.core.display.Javascript object>"
      ]
     },
     "metadata": {},
     "output_type": "display_data"
    },
    {
     "name": "stdout",
     "output_type": "stream",
     "text": [
      "patient2_MAXSyndrome 患者927 上宫 众羽\n"
     ]
    },
    {
     "data": {
      "application/javascript": "\n        if (window._pyforest_update_imports_cell) { window._pyforest_update_imports_cell('import pandas as pd'); }\n    ",
      "text/plain": [
       "<IPython.core.display.Javascript object>"
      ]
     },
     "metadata": {},
     "output_type": "display_data"
    },
    {
     "name": "stdout",
     "output_type": "stream",
     "text": [
      "patient2_MAXSyndrome 患者934 右徵 右徵\n"
     ]
    },
    {
     "data": {
      "application/javascript": "\n        if (window._pyforest_update_imports_cell) { window._pyforest_update_imports_cell('import pandas as pd'); }\n    ",
      "text/plain": [
       "<IPython.core.display.Javascript object>"
      ]
     },
     "metadata": {},
     "output_type": "display_data"
    },
    {
     "name": "stdout",
     "output_type": "stream",
     "text": [
      "patient2_MAXSyndrome 患者937 加宫 上徵\n"
     ]
    },
    {
     "data": {
      "application/javascript": "\n        if (window._pyforest_update_imports_cell) { window._pyforest_update_imports_cell('import pandas as pd'); }\n    ",
      "text/plain": [
       "<IPython.core.display.Javascript object>"
      ]
     },
     "metadata": {},
     "output_type": "display_data"
    },
    {
     "name": "stdout",
     "output_type": "stream",
     "text": [
      "patient2_MAXSyndrome 患者939 大羽 大羽\n"
     ]
    },
    {
     "data": {
      "application/javascript": "\n        if (window._pyforest_update_imports_cell) { window._pyforest_update_imports_cell('import pandas as pd'); }\n    ",
      "text/plain": [
       "<IPython.core.display.Javascript object>"
      ]
     },
     "metadata": {},
     "output_type": "display_data"
    },
    {
     "name": "stdout",
     "output_type": "stream",
     "text": [
      "patient2_MAXSyndrome 患者940 钛商 上徵\n"
     ]
    },
    {
     "data": {
      "application/javascript": "\n        if (window._pyforest_update_imports_cell) { window._pyforest_update_imports_cell('import pandas as pd'); }\n    ",
      "text/plain": [
       "<IPython.core.display.Javascript object>"
      ]
     },
     "metadata": {},
     "output_type": "display_data"
    },
    {
     "name": "stdout",
     "output_type": "stream",
     "text": [
      "patient2_MAXSyndrome 患者944 众羽 上羽\n"
     ]
    },
    {
     "data": {
      "application/javascript": "\n        if (window._pyforest_update_imports_cell) { window._pyforest_update_imports_cell('import pandas as pd'); }\n    ",
      "text/plain": [
       "<IPython.core.display.Javascript object>"
      ]
     },
     "metadata": {},
     "output_type": "display_data"
    },
    {
     "name": "stdout",
     "output_type": "stream",
     "text": [
      "patient2_MAXSyndrome 患者945 钛商 上羽\n"
     ]
    },
    {
     "data": {
      "application/javascript": "\n        if (window._pyforest_update_imports_cell) { window._pyforest_update_imports_cell('import pandas as pd'); }\n    ",
      "text/plain": [
       "<IPython.core.display.Javascript object>"
      ]
     },
     "metadata": {},
     "output_type": "display_data"
    },
    {
     "name": "stdout",
     "output_type": "stream",
     "text": [
      "patient2_MAXSyndrome 患者950 大羽 右徵\n"
     ]
    },
    {
     "data": {
      "application/javascript": "\n        if (window._pyforest_update_imports_cell) { window._pyforest_update_imports_cell('import pandas as pd'); }\n    ",
      "text/plain": [
       "<IPython.core.display.Javascript object>"
      ]
     },
     "metadata": {},
     "output_type": "display_data"
    },
    {
     "name": "stdout",
     "output_type": "stream",
     "text": [
      "patient2_MAXSyndrome 患者955 判徵 右商\n"
     ]
    },
    {
     "data": {
      "application/javascript": "\n        if (window._pyforest_update_imports_cell) { window._pyforest_update_imports_cell('import pandas as pd'); }\n    ",
      "text/plain": [
       "<IPython.core.display.Javascript object>"
      ]
     },
     "metadata": {},
     "output_type": "display_data"
    },
    {
     "name": "stdout",
     "output_type": "stream",
     "text": [
      "patient2_MAXSyndrome 患者966 大角 右徵\n"
     ]
    },
    {
     "data": {
      "application/javascript": "\n        if (window._pyforest_update_imports_cell) { window._pyforest_update_imports_cell('import pandas as pd'); }\n    ",
      "text/plain": [
       "<IPython.core.display.Javascript object>"
      ]
     },
     "metadata": {},
     "output_type": "display_data"
    },
    {
     "name": "stdout",
     "output_type": "stream",
     "text": [
      "patient2_MAXSyndrome 患者994 大角 右商\n"
     ]
    },
    {
     "data": {
      "application/javascript": "\n        if (window._pyforest_update_imports_cell) { window._pyforest_update_imports_cell('import pandas as pd'); }\n    ",
      "text/plain": [
       "<IPython.core.display.Javascript object>"
      ]
     },
     "metadata": {},
     "output_type": "display_data"
    },
    {
     "name": "stdout",
     "output_type": "stream",
     "text": [
      "patient2_MAXSyndrome 患者995 加宫 右徵\n"
     ]
    },
    {
     "data": {
      "application/javascript": "\n        if (window._pyforest_update_imports_cell) { window._pyforest_update_imports_cell('import pandas as pd'); }\n    ",
      "text/plain": [
       "<IPython.core.display.Javascript object>"
      ]
     },
     "metadata": {},
     "output_type": "display_data"
    },
    {
     "name": "stdout",
     "output_type": "stream",
     "text": [
      "patient2_MAXSyndrome 患者998 众羽 上徵\n"
     ]
    },
    {
     "data": {
      "application/javascript": "\n        if (window._pyforest_update_imports_cell) { window._pyforest_update_imports_cell('import pandas as pd'); }\n    ",
      "text/plain": [
       "<IPython.core.display.Javascript object>"
      ]
     },
     "metadata": {},
     "output_type": "display_data"
    },
    {
     "name": "stdout",
     "output_type": "stream",
     "text": [
      "patient2_MAXSyndrome 患者999 大羽 右徵\n"
     ]
    },
    {
     "data": {
      "application/javascript": "\n        if (window._pyforest_update_imports_cell) { window._pyforest_update_imports_cell('import pandas as pd'); }\n    ",
      "text/plain": [
       "<IPython.core.display.Javascript object>"
      ]
     },
     "metadata": {},
     "output_type": "display_data"
    },
    {
     "name": "stdout",
     "output_type": "stream",
     "text": [
      "patient2_MAXSyndrome 患者1002 众羽 钛角\n"
     ]
    },
    {
     "data": {
      "application/javascript": "\n        if (window._pyforest_update_imports_cell) { window._pyforest_update_imports_cell('import pandas as pd'); }\n    ",
      "text/plain": [
       "<IPython.core.display.Javascript object>"
      ]
     },
     "metadata": {},
     "output_type": "display_data"
    },
    {
     "name": "stdout",
     "output_type": "stream",
     "text": [
      "patient2_MAXSyndrome 患者1004 大角 大羽\n"
     ]
    },
    {
     "data": {
      "application/javascript": "\n        if (window._pyforest_update_imports_cell) { window._pyforest_update_imports_cell('import pandas as pd'); }\n    ",
      "text/plain": [
       "<IPython.core.display.Javascript object>"
      ]
     },
     "metadata": {},
     "output_type": "display_data"
    },
    {
     "name": "stdout",
     "output_type": "stream",
     "text": [
      "patient2_MAXSyndrome 患者1005 右商 右徵\n"
     ]
    },
    {
     "data": {
      "application/javascript": "\n        if (window._pyforest_update_imports_cell) { window._pyforest_update_imports_cell('import pandas as pd'); }\n    ",
      "text/plain": [
       "<IPython.core.display.Javascript object>"
      ]
     },
     "metadata": {},
     "output_type": "display_data"
    },
    {
     "name": "stdout",
     "output_type": "stream",
     "text": [
      "patient2_MAXSyndrome 患者1009 判徵 众羽\n"
     ]
    },
    {
     "data": {
      "application/javascript": "\n        if (window._pyforest_update_imports_cell) { window._pyforest_update_imports_cell('import pandas as pd'); }\n    ",
      "text/plain": [
       "<IPython.core.display.Javascript object>"
      ]
     },
     "metadata": {},
     "output_type": "display_data"
    },
    {
     "name": "stdout",
     "output_type": "stream",
     "text": [
      "patient2_MAXSyndrome 患者1015 加宫 右商\n"
     ]
    },
    {
     "data": {
      "application/javascript": "\n        if (window._pyforest_update_imports_cell) { window._pyforest_update_imports_cell('import pandas as pd'); }\n    ",
      "text/plain": [
       "<IPython.core.display.Javascript object>"
      ]
     },
     "metadata": {},
     "output_type": "display_data"
    },
    {
     "name": "stdout",
     "output_type": "stream",
     "text": [
      "patient2_MAXSyndrome 患者1016 右徵 加宫\n"
     ]
    },
    {
     "data": {
      "application/javascript": "\n        if (window._pyforest_update_imports_cell) { window._pyforest_update_imports_cell('import pandas as pd'); }\n    ",
      "text/plain": [
       "<IPython.core.display.Javascript object>"
      ]
     },
     "metadata": {},
     "output_type": "display_data"
    },
    {
     "name": "stdout",
     "output_type": "stream",
     "text": [
      "patient2_MAXSyndrome 患者1024 钛商 钛角\n"
     ]
    },
    {
     "data": {
      "application/javascript": "\n        if (window._pyforest_update_imports_cell) { window._pyforest_update_imports_cell('import pandas as pd'); }\n    ",
      "text/plain": [
       "<IPython.core.display.Javascript object>"
      ]
     },
     "metadata": {},
     "output_type": "display_data"
    },
    {
     "name": "stdout",
     "output_type": "stream",
     "text": [
      "patient2_MAXSyndrome 患者1026 质徵 上徵\n"
     ]
    },
    {
     "data": {
      "application/javascript": "\n        if (window._pyforest_update_imports_cell) { window._pyforest_update_imports_cell('import pandas as pd'); }\n    ",
      "text/plain": [
       "<IPython.core.display.Javascript object>"
      ]
     },
     "metadata": {},
     "output_type": "display_data"
    },
    {
     "name": "stdout",
     "output_type": "stream",
     "text": [
      "patient2_MAXSyndrome 患者1046 大羽 大羽\n"
     ]
    },
    {
     "data": {
      "application/javascript": "\n        if (window._pyforest_update_imports_cell) { window._pyforest_update_imports_cell('import pandas as pd'); }\n    ",
      "text/plain": [
       "<IPython.core.display.Javascript object>"
      ]
     },
     "metadata": {},
     "output_type": "display_data"
    },
    {
     "name": "stdout",
     "output_type": "stream",
     "text": [
      "patient2_MAXSyndrome 患者1052 钛角 上徵\n"
     ]
    },
    {
     "data": {
      "application/javascript": "\n        if (window._pyforest_update_imports_cell) { window._pyforest_update_imports_cell('import pandas as pd'); }\n    ",
      "text/plain": [
       "<IPython.core.display.Javascript object>"
      ]
     },
     "metadata": {},
     "output_type": "display_data"
    },
    {
     "name": "stdout",
     "output_type": "stream",
     "text": [
      "patient2_MAXSyndrome 患者1055 右徵 右徵\n"
     ]
    },
    {
     "data": {
      "application/javascript": "\n        if (window._pyforest_update_imports_cell) { window._pyforest_update_imports_cell('import pandas as pd'); }\n    ",
      "text/plain": [
       "<IPython.core.display.Javascript object>"
      ]
     },
     "metadata": {},
     "output_type": "display_data"
    },
    {
     "name": "stdout",
     "output_type": "stream",
     "text": [
      "patient2_MAXSyndrome 患者1059 右徵 众羽\n"
     ]
    },
    {
     "data": {
      "application/javascript": "\n        if (window._pyforest_update_imports_cell) { window._pyforest_update_imports_cell('import pandas as pd'); }\n    ",
      "text/plain": [
       "<IPython.core.display.Javascript object>"
      ]
     },
     "metadata": {},
     "output_type": "display_data"
    },
    {
     "name": "stdout",
     "output_type": "stream",
     "text": [
      "patient2_MAXSyndrome 患者1075 右徵 众羽\n"
     ]
    },
    {
     "data": {
      "application/javascript": "\n        if (window._pyforest_update_imports_cell) { window._pyforest_update_imports_cell('import pandas as pd'); }\n    ",
      "text/plain": [
       "<IPython.core.display.Javascript object>"
      ]
     },
     "metadata": {},
     "output_type": "display_data"
    },
    {
     "name": "stdout",
     "output_type": "stream",
     "text": [
      "patient2_MAXSyndrome 患者1076 右徵 钛角\n"
     ]
    },
    {
     "data": {
      "application/javascript": "\n        if (window._pyforest_update_imports_cell) { window._pyforest_update_imports_cell('import pandas as pd'); }\n    ",
      "text/plain": [
       "<IPython.core.display.Javascript object>"
      ]
     },
     "metadata": {},
     "output_type": "display_data"
    },
    {
     "name": "stdout",
     "output_type": "stream",
     "text": [
      "patient2_MAXSyndrome 患者1079 上羽 上角\n"
     ]
    },
    {
     "data": {
      "application/javascript": "\n        if (window._pyforest_update_imports_cell) { window._pyforest_update_imports_cell('import pandas as pd'); }\n    ",
      "text/plain": [
       "<IPython.core.display.Javascript object>"
      ]
     },
     "metadata": {},
     "output_type": "display_data"
    },
    {
     "name": "stdout",
     "output_type": "stream",
     "text": [
      "patient2_MAXSyndrome 患者1090 钛角 钛角\n"
     ]
    },
    {
     "data": {
      "application/javascript": "\n        if (window._pyforest_update_imports_cell) { window._pyforest_update_imports_cell('import pandas as pd'); }\n    ",
      "text/plain": [
       "<IPython.core.display.Javascript object>"
      ]
     },
     "metadata": {},
     "output_type": "display_data"
    },
    {
     "name": "stdout",
     "output_type": "stream",
     "text": [
      "patient2_MAXSyndrome 患者1099 右商 右徵\n"
     ]
    },
    {
     "data": {
      "application/javascript": "\n        if (window._pyforest_update_imports_cell) { window._pyforest_update_imports_cell('import pandas as pd'); }\n    ",
      "text/plain": [
       "<IPython.core.display.Javascript object>"
      ]
     },
     "metadata": {},
     "output_type": "display_data"
    },
    {
     "name": "stdout",
     "output_type": "stream",
     "text": [
      "patient2_MAXSyndrome 患者1100 加宫 上徵\n"
     ]
    },
    {
     "data": {
      "application/javascript": "\n        if (window._pyforest_update_imports_cell) { window._pyforest_update_imports_cell('import pandas as pd'); }\n    ",
      "text/plain": [
       "<IPython.core.display.Javascript object>"
      ]
     },
     "metadata": {},
     "output_type": "display_data"
    },
    {
     "name": "stdout",
     "output_type": "stream",
     "text": [
      "patient2_MAXSyndrome 患者1102 众羽 右徵\n"
     ]
    },
    {
     "data": {
      "application/javascript": "\n        if (window._pyforest_update_imports_cell) { window._pyforest_update_imports_cell('import pandas as pd'); }\n    ",
      "text/plain": [
       "<IPython.core.display.Javascript object>"
      ]
     },
     "metadata": {},
     "output_type": "display_data"
    },
    {
     "name": "stdout",
     "output_type": "stream",
     "text": [
      "patient2_MAXSyndrome 患者1107 右徵 右徵\n"
     ]
    },
    {
     "data": {
      "application/javascript": "\n        if (window._pyforest_update_imports_cell) { window._pyforest_update_imports_cell('import pandas as pd'); }\n    ",
      "text/plain": [
       "<IPython.core.display.Javascript object>"
      ]
     },
     "metadata": {},
     "output_type": "display_data"
    },
    {
     "name": "stdout",
     "output_type": "stream",
     "text": [
      "patient2_MAXSyndrome 患者1110 加宫 右徵\n"
     ]
    },
    {
     "data": {
      "application/javascript": "\n        if (window._pyforest_update_imports_cell) { window._pyforest_update_imports_cell('import pandas as pd'); }\n    ",
      "text/plain": [
       "<IPython.core.display.Javascript object>"
      ]
     },
     "metadata": {},
     "output_type": "display_data"
    },
    {
     "name": "stdout",
     "output_type": "stream",
     "text": [
      "patient2_MAXSyndrome 患者1119 钛角 上徵\n"
     ]
    },
    {
     "data": {
      "application/javascript": "\n        if (window._pyforest_update_imports_cell) { window._pyforest_update_imports_cell('import pandas as pd'); }\n    ",
      "text/plain": [
       "<IPython.core.display.Javascript object>"
      ]
     },
     "metadata": {},
     "output_type": "display_data"
    },
    {
     "name": "stdout",
     "output_type": "stream",
     "text": [
      "patient2_MAXSyndrome 患者1121 加宫 上徵\n"
     ]
    },
    {
     "data": {
      "application/javascript": "\n        if (window._pyforest_update_imports_cell) { window._pyforest_update_imports_cell('import pandas as pd'); }\n    ",
      "text/plain": [
       "<IPython.core.display.Javascript object>"
      ]
     },
     "metadata": {},
     "output_type": "display_data"
    },
    {
     "name": "stdout",
     "output_type": "stream",
     "text": [
      "patient2_MAXSyndrome 患者1123 上徵 上徵\n"
     ]
    },
    {
     "data": {
      "application/javascript": "\n        if (window._pyforest_update_imports_cell) { window._pyforest_update_imports_cell('import pandas as pd'); }\n    ",
      "text/plain": [
       "<IPython.core.display.Javascript object>"
      ]
     },
     "metadata": {},
     "output_type": "display_data"
    },
    {
     "name": "stdout",
     "output_type": "stream",
     "text": [
      "patient2_MAXSyndrome 患者1126 判角 右徵\n"
     ]
    },
    {
     "data": {
      "application/javascript": "\n        if (window._pyforest_update_imports_cell) { window._pyforest_update_imports_cell('import pandas as pd'); }\n    ",
      "text/plain": [
       "<IPython.core.display.Javascript object>"
      ]
     },
     "metadata": {},
     "output_type": "display_data"
    },
    {
     "name": "stdout",
     "output_type": "stream",
     "text": [
      "patient2_MAXSyndrome 患者1134 众羽 上宫\n"
     ]
    },
    {
     "data": {
      "application/javascript": "\n        if (window._pyforest_update_imports_cell) { window._pyforest_update_imports_cell('import pandas as pd'); }\n    ",
      "text/plain": [
       "<IPython.core.display.Javascript object>"
      ]
     },
     "metadata": {},
     "output_type": "display_data"
    },
    {
     "name": "stdout",
     "output_type": "stream",
     "text": [
      "patient2_MAXSyndrome 患者1142 右徵 众羽\n"
     ]
    },
    {
     "data": {
      "application/javascript": "\n        if (window._pyforest_update_imports_cell) { window._pyforest_update_imports_cell('import pandas as pd'); }\n    ",
      "text/plain": [
       "<IPython.core.display.Javascript object>"
      ]
     },
     "metadata": {},
     "output_type": "display_data"
    },
    {
     "name": "stdout",
     "output_type": "stream",
     "text": [
      "patient2_MAXSyndrome 患者1143 上徵 钛角\n"
     ]
    },
    {
     "data": {
      "application/javascript": "\n        if (window._pyforest_update_imports_cell) { window._pyforest_update_imports_cell('import pandas as pd'); }\n    ",
      "text/plain": [
       "<IPython.core.display.Javascript object>"
      ]
     },
     "metadata": {},
     "output_type": "display_data"
    },
    {
     "name": "stdout",
     "output_type": "stream",
     "text": [
      "patient2_MAXSyndrome 患者1148 钛角 右徵\n"
     ]
    },
    {
     "data": {
      "application/javascript": "\n        if (window._pyforest_update_imports_cell) { window._pyforest_update_imports_cell('import pandas as pd'); }\n    ",
      "text/plain": [
       "<IPython.core.display.Javascript object>"
      ]
     },
     "metadata": {},
     "output_type": "display_data"
    },
    {
     "name": "stdout",
     "output_type": "stream",
     "text": [
      "patient2_MAXSyndrome 患者1149 上角 上徵\n"
     ]
    },
    {
     "data": {
      "application/javascript": "\n        if (window._pyforest_update_imports_cell) { window._pyforest_update_imports_cell('import pandas as pd'); }\n    ",
      "text/plain": [
       "<IPython.core.display.Javascript object>"
      ]
     },
     "metadata": {},
     "output_type": "display_data"
    },
    {
     "name": "stdout",
     "output_type": "stream",
     "text": [
      "patient2_MAXSyndrome 患者1156 加宫 钛角\n"
     ]
    },
    {
     "data": {
      "application/javascript": "\n        if (window._pyforest_update_imports_cell) { window._pyforest_update_imports_cell('import pandas as pd'); }\n    ",
      "text/plain": [
       "<IPython.core.display.Javascript object>"
      ]
     },
     "metadata": {},
     "output_type": "display_data"
    },
    {
     "name": "stdout",
     "output_type": "stream",
     "text": [
      "patient2_MAXSyndrome 患者1167 加宫 右徵\n"
     ]
    },
    {
     "data": {
      "application/javascript": "\n        if (window._pyforest_update_imports_cell) { window._pyforest_update_imports_cell('import pandas as pd'); }\n    ",
      "text/plain": [
       "<IPython.core.display.Javascript object>"
      ]
     },
     "metadata": {},
     "output_type": "display_data"
    },
    {
     "name": "stdout",
     "output_type": "stream",
     "text": [
      "patient2_MAXSyndrome 患者1179 加宫 右徵\n"
     ]
    },
    {
     "data": {
      "application/javascript": "\n        if (window._pyforest_update_imports_cell) { window._pyforest_update_imports_cell('import pandas as pd'); }\n    ",
      "text/plain": [
       "<IPython.core.display.Javascript object>"
      ]
     },
     "metadata": {},
     "output_type": "display_data"
    },
    {
     "name": "stdout",
     "output_type": "stream",
     "text": [
      "patient2_MAXSyndrome 患者1185 右徵 右徵\n"
     ]
    },
    {
     "data": {
      "application/javascript": "\n        if (window._pyforest_update_imports_cell) { window._pyforest_update_imports_cell('import pandas as pd'); }\n    ",
      "text/plain": [
       "<IPython.core.display.Javascript object>"
      ]
     },
     "metadata": {},
     "output_type": "display_data"
    },
    {
     "name": "stdout",
     "output_type": "stream",
     "text": [
      "patient2_MAXSyndrome 患者1188 上羽 右徵\n"
     ]
    },
    {
     "data": {
      "application/javascript": "\n        if (window._pyforest_update_imports_cell) { window._pyforest_update_imports_cell('import pandas as pd'); }\n    ",
      "text/plain": [
       "<IPython.core.display.Javascript object>"
      ]
     },
     "metadata": {},
     "output_type": "display_data"
    },
    {
     "name": "stdout",
     "output_type": "stream",
     "text": [
      "patient2_MAXSyndrome 患者1192 众羽 右徵\n"
     ]
    },
    {
     "data": {
      "application/javascript": "\n        if (window._pyforest_update_imports_cell) { window._pyforest_update_imports_cell('import pandas as pd'); }\n    ",
      "text/plain": [
       "<IPython.core.display.Javascript object>"
      ]
     },
     "metadata": {},
     "output_type": "display_data"
    },
    {
     "name": "stdout",
     "output_type": "stream",
     "text": [
      "patient2_MAXSyndrome 患者1194 右商 上角\n"
     ]
    },
    {
     "data": {
      "application/javascript": "\n        if (window._pyforest_update_imports_cell) { window._pyforest_update_imports_cell('import pandas as pd'); }\n    ",
      "text/plain": [
       "<IPython.core.display.Javascript object>"
      ]
     },
     "metadata": {},
     "output_type": "display_data"
    },
    {
     "name": "stdout",
     "output_type": "stream",
     "text": [
      "patient2_MAXSyndrome 患者1196 众羽 上徵\n"
     ]
    },
    {
     "data": {
      "application/javascript": "\n        if (window._pyforest_update_imports_cell) { window._pyforest_update_imports_cell('import pandas as pd'); }\n    ",
      "text/plain": [
       "<IPython.core.display.Javascript object>"
      ]
     },
     "metadata": {},
     "output_type": "display_data"
    },
    {
     "name": "stdout",
     "output_type": "stream",
     "text": [
      "patient2_MAXSyndrome 患者1197 钛角 右徵\n"
     ]
    },
    {
     "data": {
      "application/javascript": "\n        if (window._pyforest_update_imports_cell) { window._pyforest_update_imports_cell('import pandas as pd'); }\n    ",
      "text/plain": [
       "<IPython.core.display.Javascript object>"
      ]
     },
     "metadata": {},
     "output_type": "display_data"
    },
    {
     "name": "stdout",
     "output_type": "stream",
     "text": [
      "patient2_MAXSyndrome 患者1217 上宫 右徵\n"
     ]
    },
    {
     "data": {
      "application/javascript": "\n        if (window._pyforest_update_imports_cell) { window._pyforest_update_imports_cell('import pandas as pd'); }\n    ",
      "text/plain": [
       "<IPython.core.display.Javascript object>"
      ]
     },
     "metadata": {},
     "output_type": "display_data"
    },
    {
     "name": "stdout",
     "output_type": "stream",
     "text": [
      "patient2_MAXSyndrome 患者1222 加宫 众羽\n"
     ]
    },
    {
     "data": {
      "application/javascript": "\n        if (window._pyforest_update_imports_cell) { window._pyforest_update_imports_cell('import pandas as pd'); }\n    ",
      "text/plain": [
       "<IPython.core.display.Javascript object>"
      ]
     },
     "metadata": {},
     "output_type": "display_data"
    },
    {
     "name": "stdout",
     "output_type": "stream",
     "text": [
      "patient2_MAXSyndrome 患者1229 右徵 右徵\n"
     ]
    },
    {
     "data": {
      "application/javascript": "\n        if (window._pyforest_update_imports_cell) { window._pyforest_update_imports_cell('import pandas as pd'); }\n    ",
      "text/plain": [
       "<IPython.core.display.Javascript object>"
      ]
     },
     "metadata": {},
     "output_type": "display_data"
    },
    {
     "name": "stdout",
     "output_type": "stream",
     "text": [
      "patient2_MAXSyndrome 患者1243 加宫 右徵\n"
     ]
    },
    {
     "data": {
      "application/javascript": "\n        if (window._pyforest_update_imports_cell) { window._pyforest_update_imports_cell('import pandas as pd'); }\n    ",
      "text/plain": [
       "<IPython.core.display.Javascript object>"
      ]
     },
     "metadata": {},
     "output_type": "display_data"
    },
    {
     "name": "stdout",
     "output_type": "stream",
     "text": [
      "patient2_MAXSyndrome 患者1246 右商 上徵\n"
     ]
    },
    {
     "data": {
      "application/javascript": "\n        if (window._pyforest_update_imports_cell) { window._pyforest_update_imports_cell('import pandas as pd'); }\n    ",
      "text/plain": [
       "<IPython.core.display.Javascript object>"
      ]
     },
     "metadata": {},
     "output_type": "display_data"
    },
    {
     "name": "stdout",
     "output_type": "stream",
     "text": [
      "patient2_MAXSyndrome 患者1248 上徵 上徵\n"
     ]
    },
    {
     "data": {
      "application/javascript": "\n        if (window._pyforest_update_imports_cell) { window._pyforest_update_imports_cell('import pandas as pd'); }\n    ",
      "text/plain": [
       "<IPython.core.display.Javascript object>"
      ]
     },
     "metadata": {},
     "output_type": "display_data"
    },
    {
     "name": "stdout",
     "output_type": "stream",
     "text": [
      "patient2_MAXSyndrome 患者1249 钛角 上徵\n"
     ]
    },
    {
     "data": {
      "application/javascript": "\n        if (window._pyforest_update_imports_cell) { window._pyforest_update_imports_cell('import pandas as pd'); }\n    ",
      "text/plain": [
       "<IPython.core.display.Javascript object>"
      ]
     },
     "metadata": {},
     "output_type": "display_data"
    },
    {
     "name": "stdout",
     "output_type": "stream",
     "text": [
      "patient2_MAXSyndrome 患者1255 右商 钛角\n"
     ]
    },
    {
     "data": {
      "application/javascript": "\n        if (window._pyforest_update_imports_cell) { window._pyforest_update_imports_cell('import pandas as pd'); }\n    ",
      "text/plain": [
       "<IPython.core.display.Javascript object>"
      ]
     },
     "metadata": {},
     "output_type": "display_data"
    },
    {
     "name": "stdout",
     "output_type": "stream",
     "text": [
      "patient2_MAXSyndrome 患者1259 上角 众羽\n",
      "程序运行时间为： 14804.840425252914 秒\n"
     ]
    }
   ],
   "source": [
    "import time\n",
    "start = time.time()\n",
    "\n",
    "# 程序代码\n",
    "\n",
    "'''返回长度为2的路径'''\n",
    "label='二十五音'\n",
    "data_Syndrome1=[]\n",
    "data2_CN_weight=pd.DataFrame(columns=[\"测试集患者\",\"测试集证型\",\"出现次数最多证型\"])\n",
    "data_CN_weight=pd.DataFrame(columns=[\"测试集患者\",\"测试集证型\",\"训练集患者\",\"出现次数最多证型\",\"weightSum\",\"ShortestPathNum\"])\n",
    "# data_CN_weight=pd.DataFrame(columns=[\"测试集患者\",\"测试集证型\",\"训练集患者\",\"训练集证型\",\"weightSum\",\"ShortestPathNum\"])\n",
    "# for patientName1 in ['患者423','患者601','患者415']:#测试集\n",
    "for patientName1 in testData[\"患者\"]:#测试集\n",
    "    data_Syndrome2=[]\n",
    "    result_commonNeighbors=[]#邻居权重\n",
    "    data_patient2=[]\n",
    "    data_path=[]#最短路径数（共同邻居数）\n",
    "    patient1_Syndrome=graph.nodes.match('Patient', name=f'{patientName1}').first()[f'{label}']\n",
    "    data_Syndrome1.append(patient1_Syndrome)#测试集患者证型\n",
    "    # for patientName2 in ['患者1','患者2','患者200']:#训练集\n",
    "    for patientName2 in trainData[\"患者\"]:\n",
    "        if patientName1 != patientName2:\n",
    "            '''只获取长度为2的最短路径'''\n",
    "            cypher_=\"MATCH (source:Patient {name: \\'\"+f'{patientName2}'+\"\\'}), (target:Patient {name:\\'\"+f'{patientName1}'+\"\\'}),path = allshortestpaths((source)-[*1..2]-(target)) RETURN source.name AS 测试集,source.中医辨证 AS 测试集证型,target.name AS 训练集,source.中医辨证 AS 训练集证型,LAST(relationships(path)).weight AS weight,path;\"\n",
    "            paths = graph.run(cypher_)\n",
    "            #存在最短路径\n",
    "            paths=paths.to_data_frame()#两个节点名，最短路径权重，所有最短路径\n",
    "            if paths.empty != True:\n",
    "                patient2_Syndrome=graph.nodes.match('Patient', name=f'{patientName2}').first()[f'{label}']\n",
    "                data_Syndrome2.append(patient2_Syndrome)\n",
    "                data_patient2.append(patientName2)\n",
    "                data1_CN=[patientName1,patient1_Syndrome,patientName2,patient2_Syndrome,paths[\"weight\"].sum(),len(paths[\"path\"])]\n",
    "                data_CN_weight.loc[len(data_CN_weight)]=data1_CN#两个节点所有最短路径权重之和，路径节点\n",
    "                result_commonNeighbors.append(paths[\"weight\"].sum())#一个测试集节点所有邻居权重之和\n",
    "                data_path.append(len(paths[\"path\"]))\n",
    "                # print(patientName1,patient1_Syndrome,patientName2,patient2_Syndrome)\n",
    "    '''获取训练集共同邻居权重前20出现次数最多的节点证型'''\n",
    "    patient2_MAXSyndrome=getMaxcommonNeighborsSyndrome(data_Syndrome2,result_commonNeighbors)\n",
    "    print(\"patient2_MAXSyndrome\",patientName1,patient1_Syndrome,patient2_MAXSyndrome)\n",
    "    # data2_CN=[patientName1,patient1_Syndrome,data_patient2,patient2_MAXSyndrome,result_commonNeighbors,data_path]\n",
    "    data2_CN=[patientName1,patient1_Syndrome,patient2_MAXSyndrome]\n",
    "    data2_CN_weight.loc[len(data2_CN_weight)]=data2_CN#所有节点所有最短路径权重之和，路径节点\n",
    "\n",
    "end = time.time()\n",
    "print('程序运行时间为：', end - start, '秒')"
   ]
  },
  {
   "cell_type": "code",
   "execution_count": 11,
   "id": "ee645b64",
   "metadata": {},
   "outputs": [
    {
     "data": {
      "text/plain": [
       "['患者415', '上角', '上羽']"
      ]
     },
     "execution_count": 11,
     "metadata": {},
     "output_type": "execute_result"
    }
   ],
   "source": [
    "data2_CN"
   ]
  },
  {
   "cell_type": "code",
   "execution_count": 12,
   "id": "1ec29c58-900f-4e35-bb06-ce913733ce99",
   "metadata": {},
   "outputs": [
    {
     "data": {
      "text/plain": [
       "(3, 3)"
      ]
     },
     "execution_count": 12,
     "metadata": {},
     "output_type": "execute_result"
    }
   ],
   "source": [
    "data2_CN_weight.shape"
   ]
  },
  {
   "cell_type": "code",
   "execution_count": 14,
   "id": "b0fe637e-bc52-4db1-af18-874c4369c174",
   "metadata": {},
   "outputs": [
    {
     "data": {
      "text/html": [
       "<div>\n",
       "<style scoped>\n",
       "    .dataframe tbody tr th:only-of-type {\n",
       "        vertical-align: middle;\n",
       "    }\n",
       "\n",
       "    .dataframe tbody tr th {\n",
       "        vertical-align: top;\n",
       "    }\n",
       "\n",
       "    .dataframe thead th {\n",
       "        text-align: right;\n",
       "    }\n",
       "</style>\n",
       "<table border=\"1\" class=\"dataframe\">\n",
       "  <thead>\n",
       "    <tr style=\"text-align: right;\">\n",
       "      <th></th>\n",
       "      <th>测试集患者</th>\n",
       "      <th>测试集证型</th>\n",
       "      <th>训练集患者</th>\n",
       "      <th>出现次数最多证型</th>\n",
       "      <th>weightSum</th>\n",
       "      <th>ShortestPathNum</th>\n",
       "    </tr>\n",
       "  </thead>\n",
       "  <tbody>\n",
       "    <tr>\n",
       "      <th>0</th>\n",
       "      <td>患者7</td>\n",
       "      <td>上徵</td>\n",
       "      <td>患者0</td>\n",
       "      <td>上徵</td>\n",
       "      <td>5.051544</td>\n",
       "      <td>10</td>\n",
       "    </tr>\n",
       "    <tr>\n",
       "      <th>1</th>\n",
       "      <td>患者7</td>\n",
       "      <td>上徵</td>\n",
       "      <td>患者1</td>\n",
       "      <td>上宫</td>\n",
       "      <td>6.383595</td>\n",
       "      <td>11</td>\n",
       "    </tr>\n",
       "    <tr>\n",
       "      <th>2</th>\n",
       "      <td>患者7</td>\n",
       "      <td>上徵</td>\n",
       "      <td>患者2</td>\n",
       "      <td>钛商</td>\n",
       "      <td>4.244177</td>\n",
       "      <td>8</td>\n",
       "    </tr>\n",
       "    <tr>\n",
       "      <th>3</th>\n",
       "      <td>患者7</td>\n",
       "      <td>上徵</td>\n",
       "      <td>患者3</td>\n",
       "      <td>大宫</td>\n",
       "      <td>3.025248</td>\n",
       "      <td>6</td>\n",
       "    </tr>\n",
       "    <tr>\n",
       "      <th>4</th>\n",
       "      <td>患者7</td>\n",
       "      <td>上徵</td>\n",
       "      <td>患者4</td>\n",
       "      <td>少羽</td>\n",
       "      <td>2.104127</td>\n",
       "      <td>4</td>\n",
       "    </tr>\n",
       "    <tr>\n",
       "      <th>...</th>\n",
       "      <td>...</td>\n",
       "      <td>...</td>\n",
       "      <td>...</td>\n",
       "      <td>...</td>\n",
       "      <td>...</td>\n",
       "      <td>...</td>\n",
       "    </tr>\n",
       "    <tr>\n",
       "      <th>254271</th>\n",
       "      <td>患者1259</td>\n",
       "      <td>上角</td>\n",
       "      <td>患者1260</td>\n",
       "      <td>判徵</td>\n",
       "      <td>3.363268</td>\n",
       "      <td>9</td>\n",
       "    </tr>\n",
       "    <tr>\n",
       "      <th>254272</th>\n",
       "      <td>患者1259</td>\n",
       "      <td>上角</td>\n",
       "      <td>患者1261</td>\n",
       "      <td>上角</td>\n",
       "      <td>2.599446</td>\n",
       "      <td>7</td>\n",
       "    </tr>\n",
       "    <tr>\n",
       "      <th>254273</th>\n",
       "      <td>患者1259</td>\n",
       "      <td>上角</td>\n",
       "      <td>患者1262</td>\n",
       "      <td>右徵</td>\n",
       "      <td>2.143432</td>\n",
       "      <td>5</td>\n",
       "    </tr>\n",
       "    <tr>\n",
       "      <th>254274</th>\n",
       "      <td>患者1259</td>\n",
       "      <td>上角</td>\n",
       "      <td>患者1263</td>\n",
       "      <td>大角</td>\n",
       "      <td>9.236890</td>\n",
       "      <td>15</td>\n",
       "    </tr>\n",
       "    <tr>\n",
       "      <th>254275</th>\n",
       "      <td>患者1259</td>\n",
       "      <td>上角</td>\n",
       "      <td>患者1264</td>\n",
       "      <td>大羽</td>\n",
       "      <td>9.110628</td>\n",
       "      <td>15</td>\n",
       "    </tr>\n",
       "  </tbody>\n",
       "</table>\n",
       "<p>254276 rows × 6 columns</p>\n",
       "</div>"
      ],
      "text/plain": [
       "         测试集患者 测试集证型   训练集患者 出现次数最多证型  weightSum ShortestPathNum\n",
       "0          患者7    上徵     患者0       上徵   5.051544              10\n",
       "1          患者7    上徵     患者1       上宫   6.383595              11\n",
       "2          患者7    上徵     患者2       钛商   4.244177               8\n",
       "3          患者7    上徵     患者3       大宫   3.025248               6\n",
       "4          患者7    上徵     患者4       少羽   2.104127               4\n",
       "...        ...   ...     ...      ...        ...             ...\n",
       "254271  患者1259    上角  患者1260       判徵   3.363268               9\n",
       "254272  患者1259    上角  患者1261       上角   2.599446               7\n",
       "254273  患者1259    上角  患者1262       右徵   2.143432               5\n",
       "254274  患者1259    上角  患者1263       大角   9.236890              15\n",
       "254275  患者1259    上角  患者1264       大羽   9.110628              15\n",
       "\n",
       "[254276 rows x 6 columns]"
      ]
     },
     "execution_count": 14,
     "metadata": {},
     "output_type": "execute_result"
    }
   ],
   "source": [
    "data_CN_weight"
   ]
  },
  {
   "cell_type": "code",
   "execution_count": 11,
   "id": "b0d59303",
   "metadata": {},
   "outputs": [
    {
     "ename": "NameError",
     "evalue": "name 'data2_CN_weight' is not defined",
     "output_type": "error",
     "traceback": [
      "\u001b[1;31m---------------------------------------------------------------------------\u001b[0m",
      "\u001b[1;31mNameError\u001b[0m                                 Traceback (most recent call last)",
      "\u001b[1;32m<ipython-input-11-279f60b43b1e>\u001b[0m in \u001b[0;36m<module>\u001b[1;34m\u001b[0m\n\u001b[1;32m----> 1\u001b[1;33m \u001b[0msyndrome_accuracys\u001b[0m \u001b[1;33m=\u001b[0m \u001b[0mGetaccuracys\u001b[0m\u001b[1;33m(\u001b[0m\u001b[0mdata2_CN_weight\u001b[0m\u001b[1;33m)\u001b[0m\u001b[1;33m\u001b[0m\u001b[1;33m\u001b[0m\u001b[0m\n\u001b[0m\u001b[0;32m      2\u001b[0m \u001b[0msyndrome_accuracys\u001b[0m\u001b[1;33m\u001b[0m\u001b[1;33m\u001b[0m\u001b[0m\n",
      "\u001b[1;31mNameError\u001b[0m: name 'data2_CN_weight' is not defined"
     ]
    }
   ],
   "source": [
    "syndrome_accuracys = Getaccuracys(data2_CN_weight)\n",
    "syndrome_accuracys"
   ]
  },
  {
   "cell_type": "markdown",
   "id": "e90bf705-14db-49e5-9e3a-ddce9f2c5757",
   "metadata": {},
   "source": [
    "## getMaxcommonNeighborsSyndrome"
   ]
  },
  {
   "cell_type": "code",
   "execution_count": 4,
   "id": "49bdb7ed-9f27-4e4c-894e-8e9bcc00c4ea",
   "metadata": {},
   "outputs": [],
   "source": [
    "def getMaxcommonNeighborsSyndrome(data_Syndrome2,result_commonNeighbors):\n",
    "    commonNeighbors_result=pd.DataFrame()\n",
    "    commonNeighbors_result[\"训练集证型\"]=data_Syndrome2\n",
    "    commonNeighbors_result[\"共同邻居数量\"]=result_commonNeighbors\n",
    "    commonNeighbors_result=commonNeighbors_result.sort_values(by=['共同邻居数量'],ascending=False)\n",
    "    commonNeighbors_result1=commonNeighbors_result[:20]\n",
    "    maxSyndrome=max_list(commonNeighbors_result1['训练集证型'].values.tolist())\n",
    "    return maxSyndrome"
   ]
  },
  {
   "cell_type": "markdown",
   "id": "e9b65f8f-e0d7-4718-a297-bb57e5e7f37f",
   "metadata": {},
   "source": [
    "## 获取出现次数最多的证型"
   ]
  },
  {
   "cell_type": "code",
   "execution_count": 5,
   "id": "18fd767a-401d-4874-bad5-7681f9f8f77a",
   "metadata": {},
   "outputs": [],
   "source": [
    "#获取出现次数最多的证型\n",
    "def max_list(similarity_datas):\n",
    "    temp = 0\n",
    "    if len(similarity_datas) !=0:\n",
    "        for item in similarity_datas:\n",
    "            if similarity_datas.count(item) > temp:\n",
    "                max_str = item\n",
    "                temp = similarity_datas.count(item)\n",
    "    else:\n",
    "        print(\"similarity_datas数组为空\")\n",
    "    return max_str"
   ]
  },
  {
   "cell_type": "markdown",
   "id": "3121fdae-85cb-4660-8f4f-3a9997601f4f",
   "metadata": {},
   "source": [
    "# 计算准确率"
   ]
  },
  {
   "cell_type": "code",
   "execution_count": 36,
   "id": "c7db39e1-098d-45b5-b861-d34cd46b4f52",
   "metadata": {},
   "outputs": [
    {
     "data": {
      "application/javascript": "\n        if (window._pyforest_update_imports_cell) { window._pyforest_update_imports_cell('import pandas as pd'); }\n    ",
      "text/plain": [
       "<IPython.core.display.Javascript object>"
      ]
     },
     "metadata": {},
     "output_type": "display_data"
    },
    {
     "name": "stdout",
     "output_type": "stream",
     "text": [
      "肝火上扰\n",
      "0.9838709677419355\n",
      "脾胃虚弱\n",
      "0.9464285714285714\n",
      "肾精亏虚\n",
      "1.0\n",
      "痰火郁结\n",
      "1.0\n",
      "风热侵袭\n",
      "0.9714285714285714\n"
     ]
    },
    {
     "data": {
      "text/html": [
       "<div>\n",
       "<style scoped>\n",
       "    .dataframe tbody tr th:only-of-type {\n",
       "        vertical-align: middle;\n",
       "    }\n",
       "\n",
       "    .dataframe tbody tr th {\n",
       "        vertical-align: top;\n",
       "    }\n",
       "\n",
       "    .dataframe thead th {\n",
       "        text-align: right;\n",
       "    }\n",
       "</style>\n",
       "<table border=\"1\" class=\"dataframe\">\n",
       "  <thead>\n",
       "    <tr style=\"text-align: right;\">\n",
       "      <th></th>\n",
       "      <th>测试集证型</th>\n",
       "      <th>准确率</th>\n",
       "    </tr>\n",
       "  </thead>\n",
       "  <tbody>\n",
       "    <tr>\n",
       "      <th>0</th>\n",
       "      <td>肝火上扰</td>\n",
       "      <td>0.983871</td>\n",
       "    </tr>\n",
       "    <tr>\n",
       "      <th>1</th>\n",
       "      <td>脾胃虚弱</td>\n",
       "      <td>0.946429</td>\n",
       "    </tr>\n",
       "    <tr>\n",
       "      <th>2</th>\n",
       "      <td>肾精亏虚</td>\n",
       "      <td>1.000000</td>\n",
       "    </tr>\n",
       "    <tr>\n",
       "      <th>3</th>\n",
       "      <td>痰火郁结</td>\n",
       "      <td>1.000000</td>\n",
       "    </tr>\n",
       "    <tr>\n",
       "      <th>4</th>\n",
       "      <td>风热侵袭</td>\n",
       "      <td>0.971429</td>\n",
       "    </tr>\n",
       "  </tbody>\n",
       "</table>\n",
       "</div>"
      ],
      "text/plain": [
       "  测试集证型       准确率\n",
       "0  肝火上扰  0.983871\n",
       "1  脾胃虚弱  0.946429\n",
       "2  肾精亏虚  1.000000\n",
       "3  痰火郁结  1.000000\n",
       "4  风热侵袭  0.971429"
      ]
     },
     "execution_count": 36,
     "metadata": {},
     "output_type": "execute_result"
    }
   ],
   "source": [
    "syndrome_accuracys = Getaccuracys(data2_CN_weight)\n",
    "saveResult1(syndrome_accuracys,\"加知识\",5,\"中医辨证\",\"测试集准确率\")\n"
   ]
  },
  {
   "cell_type": "code",
   "execution_count": 24,
   "id": "6ed2e54d-328d-4069-b83b-b93c949bd366",
   "metadata": {},
   "outputs": [],
   "source": [
    "def Getaccuracys(data2_CN_weight):\n",
    "    syndrome=[]\n",
    "    accuracys=[]\n",
    "    nmerators=[]\n",
    "    denominators=[]\n",
    "    syndrome_accuracys=pd.DataFrame()\n",
    "    for item in data2_CN_weight[\"测试集证型\"].unique():\n",
    "        syndrome.append(item)\n",
    "        accuracy=sum(data2_CN_weight[data2_CN_weight[\"测试集证型\"]==f\"{item}\"][\"测试集证型\"]==data2_CN_weight[data2_CN_weight[\"测试集证型\"]==f\"{item}\"][\"出现次数最多证型\"])/len(data2_CN_weight[data2_CN_weight[\"测试集证型\"]==f\"{item}\"])\n",
    "        accuracys.append(accuracy)\n",
    "        # print(item)\n",
    "        print(accuracy)\n",
    "        nmerator = sum(data2_CN_weight[data2_CN_weight[\"测试集证型\"]==f\"{item}\"][\"测试集证型\"]==data2_CN_weight[data2_CN_weight[\"测试集证型\"]==f\"{item}\"][\"出现次数最多证型\"])\n",
    "        denominator = len(data2_CN_weight[data2_CN_weight[\"测试集证型\"]==f\"{item}\"])\n",
    "        print(\"分子\",nmerator)\n",
    "        print(\"分母\",denominator)\n",
    "        nmerators.append(nmerator)\n",
    "        denominators.append(denominator)\n",
    "    syndrome_accuracys[\"测试集证型\"]=syndrome\n",
    "    syndrome_accuracys[\"准确率\"]=accuracys\n",
    "    syndrome_accuracys[\"分子\"]=nmerators\n",
    "    syndrome_accuracys[\"分母\"]=denominators\n",
    "\n",
    "    return syndrome_accuracys\n"
   ]
  },
  {
   "cell_type": "code",
   "execution_count": 37,
   "id": "a2a3c307-5f93-487b-923b-92df76fdc938",
   "metadata": {},
   "outputs": [
    {
     "data": {
      "application/javascript": "\n        if (window._pyforest_update_imports_cell) { window._pyforest_update_imports_cell('import pandas as pd'); }\n    ",
      "text/plain": [
       "<IPython.core.display.Javascript object>"
      ]
     },
     "metadata": {},
     "output_type": "display_data"
    },
    {
     "data": {
      "text/html": [
       "<div>\n",
       "<style scoped>\n",
       "    .dataframe tbody tr th:only-of-type {\n",
       "        vertical-align: middle;\n",
       "    }\n",
       "\n",
       "    .dataframe tbody tr th {\n",
       "        vertical-align: top;\n",
       "    }\n",
       "\n",
       "    .dataframe thead th {\n",
       "        text-align: right;\n",
       "    }\n",
       "</style>\n",
       "<table border=\"1\" class=\"dataframe\">\n",
       "  <thead>\n",
       "    <tr style=\"text-align: right;\">\n",
       "      <th></th>\n",
       "      <th>测试集患者</th>\n",
       "      <th>测试集证型</th>\n",
       "      <th>出现次数最多证型</th>\n",
       "    </tr>\n",
       "  </thead>\n",
       "  <tbody>\n",
       "    <tr>\n",
       "      <th>0</th>\n",
       "      <td>患者7</td>\n",
       "      <td>肝火上扰</td>\n",
       "      <td>肝火上扰</td>\n",
       "    </tr>\n",
       "    <tr>\n",
       "      <th>1</th>\n",
       "      <td>患者9</td>\n",
       "      <td>脾胃虚弱</td>\n",
       "      <td>脾胃虚弱</td>\n",
       "    </tr>\n",
       "    <tr>\n",
       "      <th>2</th>\n",
       "      <td>患者11</td>\n",
       "      <td>脾胃虚弱</td>\n",
       "      <td>脾胃虚弱</td>\n",
       "    </tr>\n",
       "    <tr>\n",
       "      <th>3</th>\n",
       "      <td>患者16</td>\n",
       "      <td>脾胃虚弱</td>\n",
       "      <td>脾胃虚弱</td>\n",
       "    </tr>\n",
       "    <tr>\n",
       "      <th>4</th>\n",
       "      <td>患者20</td>\n",
       "      <td>脾胃虚弱</td>\n",
       "      <td>脾胃虚弱</td>\n",
       "    </tr>\n",
       "    <tr>\n",
       "      <th>...</th>\n",
       "      <td>...</td>\n",
       "      <td>...</td>\n",
       "      <td>...</td>\n",
       "    </tr>\n",
       "    <tr>\n",
       "      <th>248</th>\n",
       "      <td>患者1246</td>\n",
       "      <td>风热侵袭</td>\n",
       "      <td>风热侵袭</td>\n",
       "    </tr>\n",
       "    <tr>\n",
       "      <th>249</th>\n",
       "      <td>患者1248</td>\n",
       "      <td>肝火上扰</td>\n",
       "      <td>肝火上扰</td>\n",
       "    </tr>\n",
       "    <tr>\n",
       "      <th>250</th>\n",
       "      <td>患者1249</td>\n",
       "      <td>肝火上扰</td>\n",
       "      <td>肝火上扰</td>\n",
       "    </tr>\n",
       "    <tr>\n",
       "      <th>251</th>\n",
       "      <td>患者1255</td>\n",
       "      <td>脾胃虚弱</td>\n",
       "      <td>脾胃虚弱</td>\n",
       "    </tr>\n",
       "    <tr>\n",
       "      <th>252</th>\n",
       "      <td>患者1259</td>\n",
       "      <td>脾胃虚弱</td>\n",
       "      <td>脾胃虚弱</td>\n",
       "    </tr>\n",
       "  </tbody>\n",
       "</table>\n",
       "<p>253 rows × 3 columns</p>\n",
       "</div>"
      ],
      "text/plain": [
       "      测试集患者 测试集证型 出现次数最多证型\n",
       "0       患者7  肝火上扰     肝火上扰\n",
       "1       患者9  脾胃虚弱     脾胃虚弱\n",
       "2      患者11  脾胃虚弱     脾胃虚弱\n",
       "3      患者16  脾胃虚弱     脾胃虚弱\n",
       "4      患者20  脾胃虚弱     脾胃虚弱\n",
       "..      ...   ...      ...\n",
       "248  患者1246  风热侵袭     风热侵袭\n",
       "249  患者1248  肝火上扰     肝火上扰\n",
       "250  患者1249  肝火上扰     肝火上扰\n",
       "251  患者1255  脾胃虚弱     脾胃虚弱\n",
       "252  患者1259  脾胃虚弱     脾胃虚弱\n",
       "\n",
       "[253 rows x 3 columns]"
      ]
     },
     "execution_count": 37,
     "metadata": {},
     "output_type": "execute_result"
    }
   ],
   "source": [
    "data2_CN_weight1 = pd.read_csv(r\"D:\\学习资料\\项目资料\\耳鸣中医知识图谱\\neo4j\\outData新数据\\5折_5中医辨证测试集_data2_CN_weight.csv\",encoding=\"gbk\")\n",
    "data2_CN_weight1=data2_CN_weight1.drop(\"Unnamed: 0\",axis=1)\n",
    "\n",
    "data2_CN_weight1"
   ]
  },
  {
   "cell_type": "code",
   "execution_count": 38,
   "id": "9a8fa94e-9d1f-4bc5-8e22-4b1a8bd8fda7",
   "metadata": {},
   "outputs": [
    {
     "data": {
      "application/javascript": "\n        if (window._pyforest_update_imports_cell) { window._pyforest_update_imports_cell('import pandas as pd'); }\n    ",
      "text/plain": [
       "<IPython.core.display.Javascript object>"
      ]
     },
     "metadata": {},
     "output_type": "display_data"
    },
    {
     "name": "stdout",
     "output_type": "stream",
     "text": [
      "0.9838709677419355\n",
      "分子 61\n",
      "分母 62\n",
      "0.9464285714285714\n",
      "分子 53\n",
      "分母 56\n",
      "1.0\n",
      "分子 61\n",
      "分母 61\n",
      "1.0\n",
      "分子 39\n",
      "分母 39\n",
      "0.9714285714285714\n",
      "分子 34\n",
      "分母 35\n"
     ]
    },
    {
     "data": {
      "text/html": [
       "<div>\n",
       "<style scoped>\n",
       "    .dataframe tbody tr th:only-of-type {\n",
       "        vertical-align: middle;\n",
       "    }\n",
       "\n",
       "    .dataframe tbody tr th {\n",
       "        vertical-align: top;\n",
       "    }\n",
       "\n",
       "    .dataframe thead th {\n",
       "        text-align: right;\n",
       "    }\n",
       "</style>\n",
       "<table border=\"1\" class=\"dataframe\">\n",
       "  <thead>\n",
       "    <tr style=\"text-align: right;\">\n",
       "      <th></th>\n",
       "      <th>测试集证型</th>\n",
       "      <th>准确率</th>\n",
       "      <th>分子</th>\n",
       "      <th>分母</th>\n",
       "    </tr>\n",
       "  </thead>\n",
       "  <tbody>\n",
       "    <tr>\n",
       "      <th>0</th>\n",
       "      <td>肝火上扰</td>\n",
       "      <td>0.983871</td>\n",
       "      <td>61</td>\n",
       "      <td>62</td>\n",
       "    </tr>\n",
       "    <tr>\n",
       "      <th>1</th>\n",
       "      <td>脾胃虚弱</td>\n",
       "      <td>0.946429</td>\n",
       "      <td>53</td>\n",
       "      <td>56</td>\n",
       "    </tr>\n",
       "    <tr>\n",
       "      <th>2</th>\n",
       "      <td>肾精亏虚</td>\n",
       "      <td>1.000000</td>\n",
       "      <td>61</td>\n",
       "      <td>61</td>\n",
       "    </tr>\n",
       "    <tr>\n",
       "      <th>3</th>\n",
       "      <td>痰火郁结</td>\n",
       "      <td>1.000000</td>\n",
       "      <td>39</td>\n",
       "      <td>39</td>\n",
       "    </tr>\n",
       "    <tr>\n",
       "      <th>4</th>\n",
       "      <td>风热侵袭</td>\n",
       "      <td>0.971429</td>\n",
       "      <td>34</td>\n",
       "      <td>35</td>\n",
       "    </tr>\n",
       "  </tbody>\n",
       "</table>\n",
       "</div>"
      ],
      "text/plain": [
       "  测试集证型       准确率  分子  分母\n",
       "0  肝火上扰  0.983871  61  62\n",
       "1  脾胃虚弱  0.946429  53  56\n",
       "2  肾精亏虚  1.000000  61  61\n",
       "3  痰火郁结  1.000000  39  39\n",
       "4  风热侵袭  0.971429  34  35"
      ]
     },
     "execution_count": 38,
     "metadata": {},
     "output_type": "execute_result"
    }
   ],
   "source": [
    "syndrome_accuracys = Getaccuracys(data2_CN_weight1)\n",
    "syndrome_accuracys"
   ]
  },
  {
   "cell_type": "markdown",
   "id": "7375bc49-b555-4b01-a1fa-9fce089f4925",
   "metadata": {},
   "source": [
    "# 保存诊断结果数据"
   ]
  },
  {
   "cell_type": "code",
   "execution_count": 27,
   "id": "42597b0f-9ef6-46e0-997c-3e7202243850",
   "metadata": {},
   "outputs": [
    {
     "data": {
      "text/html": [
       "<div>\n",
       "<style scoped>\n",
       "    .dataframe tbody tr th:only-of-type {\n",
       "        vertical-align: middle;\n",
       "    }\n",
       "\n",
       "    .dataframe tbody tr th {\n",
       "        vertical-align: top;\n",
       "    }\n",
       "\n",
       "    .dataframe thead th {\n",
       "        text-align: right;\n",
       "    }\n",
       "</style>\n",
       "<table border=\"1\" class=\"dataframe\">\n",
       "  <thead>\n",
       "    <tr style=\"text-align: right;\">\n",
       "      <th></th>\n",
       "      <th>测试集患者</th>\n",
       "      <th>测试集证型</th>\n",
       "      <th>出现次数最多证型</th>\n",
       "    </tr>\n",
       "  </thead>\n",
       "  <tbody>\n",
       "    <tr>\n",
       "      <th>0</th>\n",
       "      <td>患者3</td>\n",
       "      <td>痰火郁结</td>\n",
       "      <td>痰火郁结</td>\n",
       "    </tr>\n",
       "    <tr>\n",
       "      <th>1</th>\n",
       "      <td>患者8</td>\n",
       "      <td>肾精亏虚</td>\n",
       "      <td>肾精亏虚</td>\n",
       "    </tr>\n",
       "    <tr>\n",
       "      <th>2</th>\n",
       "      <td>患者13</td>\n",
       "      <td>脾胃虚弱</td>\n",
       "      <td>脾胃虚弱</td>\n",
       "    </tr>\n",
       "    <tr>\n",
       "      <th>3</th>\n",
       "      <td>患者17</td>\n",
       "      <td>脾胃虚弱</td>\n",
       "      <td>脾胃虚弱</td>\n",
       "    </tr>\n",
       "    <tr>\n",
       "      <th>4</th>\n",
       "      <td>患者21</td>\n",
       "      <td>脾胃虚弱</td>\n",
       "      <td>脾胃虚弱</td>\n",
       "    </tr>\n",
       "    <tr>\n",
       "      <th>...</th>\n",
       "      <td>...</td>\n",
       "      <td>...</td>\n",
       "      <td>...</td>\n",
       "    </tr>\n",
       "    <tr>\n",
       "      <th>248</th>\n",
       "      <td>患者1254</td>\n",
       "      <td>肾精亏虚</td>\n",
       "      <td>肾精亏虚</td>\n",
       "    </tr>\n",
       "    <tr>\n",
       "      <th>249</th>\n",
       "      <td>患者1257</td>\n",
       "      <td>肾精亏虚</td>\n",
       "      <td>肾精亏虚</td>\n",
       "    </tr>\n",
       "    <tr>\n",
       "      <th>250</th>\n",
       "      <td>患者1260</td>\n",
       "      <td>痰火郁结</td>\n",
       "      <td>痰火郁结</td>\n",
       "    </tr>\n",
       "    <tr>\n",
       "      <th>251</th>\n",
       "      <td>患者1262</td>\n",
       "      <td>肝火上扰</td>\n",
       "      <td>肝火上扰</td>\n",
       "    </tr>\n",
       "    <tr>\n",
       "      <th>252</th>\n",
       "      <td>患者1264</td>\n",
       "      <td>脾胃虚弱</td>\n",
       "      <td>脾胃虚弱</td>\n",
       "    </tr>\n",
       "  </tbody>\n",
       "</table>\n",
       "<p>253 rows × 3 columns</p>\n",
       "</div>"
      ],
      "text/plain": [
       "      测试集患者 测试集证型 出现次数最多证型\n",
       "0       患者3  痰火郁结     痰火郁结\n",
       "1       患者8  肾精亏虚     肾精亏虚\n",
       "2      患者13  脾胃虚弱     脾胃虚弱\n",
       "3      患者17  脾胃虚弱     脾胃虚弱\n",
       "4      患者21  脾胃虚弱     脾胃虚弱\n",
       "..      ...   ...      ...\n",
       "248  患者1254  肾精亏虚     肾精亏虚\n",
       "249  患者1257  肾精亏虚     肾精亏虚\n",
       "250  患者1260  痰火郁结     痰火郁结\n",
       "251  患者1262  肝火上扰     肝火上扰\n",
       "252  患者1264  脾胃虚弱     脾胃虚弱\n",
       "\n",
       "[253 rows x 3 columns]"
      ]
     },
     "execution_count": 27,
     "metadata": {},
     "output_type": "execute_result"
    }
   ],
   "source": [
    "data2_CN_weight"
   ]
  },
  {
   "cell_type": "code",
   "execution_count": 68,
   "id": "f916e258-e128-42aa-92cd-85634886b28c",
   "metadata": {},
   "outputs": [
    {
     "data": {
      "text/html": [
       "<div>\n",
       "<style scoped>\n",
       "    .dataframe tbody tr th:only-of-type {\n",
       "        vertical-align: middle;\n",
       "    }\n",
       "\n",
       "    .dataframe tbody tr th {\n",
       "        vertical-align: top;\n",
       "    }\n",
       "\n",
       "    .dataframe thead th {\n",
       "        text-align: right;\n",
       "    }\n",
       "</style>\n",
       "<table border=\"1\" class=\"dataframe\">\n",
       "  <thead>\n",
       "    <tr style=\"text-align: right;\">\n",
       "      <th></th>\n",
       "      <th>测试集患者</th>\n",
       "      <th>测试集证型</th>\n",
       "      <th>训练集患者</th>\n",
       "      <th>出现次数最多证型</th>\n",
       "      <th>weightSum</th>\n",
       "      <th>ShortestPathNum</th>\n",
       "    </tr>\n",
       "  </thead>\n",
       "  <tbody>\n",
       "    <tr>\n",
       "      <th>0</th>\n",
       "      <td>患者423</td>\n",
       "      <td>肾精亏虚</td>\n",
       "      <td>患者0</td>\n",
       "      <td>肾精亏虚</td>\n",
       "      <td>3.276179</td>\n",
       "      <td>7</td>\n",
       "    </tr>\n",
       "    <tr>\n",
       "      <th>1</th>\n",
       "      <td>患者423</td>\n",
       "      <td>肾精亏虚</td>\n",
       "      <td>患者1</td>\n",
       "      <td>肾精亏虚</td>\n",
       "      <td>2.362176</td>\n",
       "      <td>4</td>\n",
       "    </tr>\n",
       "    <tr>\n",
       "      <th>2</th>\n",
       "      <td>患者423</td>\n",
       "      <td>肾精亏虚</td>\n",
       "      <td>患者2</td>\n",
       "      <td>肾精亏虚</td>\n",
       "      <td>3.906366</td>\n",
       "      <td>7</td>\n",
       "    </tr>\n",
       "    <tr>\n",
       "      <th>3</th>\n",
       "      <td>患者423</td>\n",
       "      <td>肾精亏虚</td>\n",
       "      <td>患者3</td>\n",
       "      <td>痰火郁结</td>\n",
       "      <td>1.699487</td>\n",
       "      <td>5</td>\n",
       "    </tr>\n",
       "    <tr>\n",
       "      <th>4</th>\n",
       "      <td>患者423</td>\n",
       "      <td>肾精亏虚</td>\n",
       "      <td>患者4</td>\n",
       "      <td>脾胃虚弱</td>\n",
       "      <td>4.193235</td>\n",
       "      <td>8</td>\n",
       "    </tr>\n",
       "    <tr>\n",
       "      <th>...</th>\n",
       "      <td>...</td>\n",
       "      <td>...</td>\n",
       "      <td>...</td>\n",
       "      <td>...</td>\n",
       "      <td>...</td>\n",
       "      <td>...</td>\n",
       "    </tr>\n",
       "    <tr>\n",
       "      <th>2999</th>\n",
       "      <td>患者415</td>\n",
       "      <td>肾精亏虚</td>\n",
       "      <td>患者1260</td>\n",
       "      <td>痰火郁结</td>\n",
       "      <td>2.811146</td>\n",
       "      <td>6</td>\n",
       "    </tr>\n",
       "    <tr>\n",
       "      <th>3000</th>\n",
       "      <td>患者415</td>\n",
       "      <td>肾精亏虚</td>\n",
       "      <td>患者1261</td>\n",
       "      <td>风热侵袭</td>\n",
       "      <td>2.395147</td>\n",
       "      <td>7</td>\n",
       "    </tr>\n",
       "    <tr>\n",
       "      <th>3001</th>\n",
       "      <td>患者415</td>\n",
       "      <td>肾精亏虚</td>\n",
       "      <td>患者1262</td>\n",
       "      <td>肝火上扰</td>\n",
       "      <td>2.811146</td>\n",
       "      <td>6</td>\n",
       "    </tr>\n",
       "    <tr>\n",
       "      <th>3002</th>\n",
       "      <td>患者415</td>\n",
       "      <td>肾精亏虚</td>\n",
       "      <td>患者1263</td>\n",
       "      <td>脾胃虚弱</td>\n",
       "      <td>4.145664</td>\n",
       "      <td>8</td>\n",
       "    </tr>\n",
       "    <tr>\n",
       "      <th>3003</th>\n",
       "      <td>患者415</td>\n",
       "      <td>肾精亏虚</td>\n",
       "      <td>患者1264</td>\n",
       "      <td>脾胃虚弱</td>\n",
       "      <td>4.710914</td>\n",
       "      <td>9</td>\n",
       "    </tr>\n",
       "  </tbody>\n",
       "</table>\n",
       "<p>3004 rows × 6 columns</p>\n",
       "</div>"
      ],
      "text/plain": [
       "      测试集患者 测试集证型   训练集患者 出现次数最多证型  weightSum ShortestPathNum\n",
       "0     患者423  肾精亏虚     患者0     肾精亏虚   3.276179               7\n",
       "1     患者423  肾精亏虚     患者1     肾精亏虚   2.362176               4\n",
       "2     患者423  肾精亏虚     患者2     肾精亏虚   3.906366               7\n",
       "3     患者423  肾精亏虚     患者3     痰火郁结   1.699487               5\n",
       "4     患者423  肾精亏虚     患者4     脾胃虚弱   4.193235               8\n",
       "...     ...   ...     ...      ...        ...             ...\n",
       "2999  患者415  肾精亏虚  患者1260     痰火郁结   2.811146               6\n",
       "3000  患者415  肾精亏虚  患者1261     风热侵袭   2.395147               7\n",
       "3001  患者415  肾精亏虚  患者1262     肝火上扰   2.811146               6\n",
       "3002  患者415  肾精亏虚  患者1263     脾胃虚弱   4.145664               8\n",
       "3003  患者415  肾精亏虚  患者1264     脾胃虚弱   4.710914               9\n",
       "\n",
       "[3004 rows x 6 columns]"
      ]
     },
     "execution_count": 68,
     "metadata": {},
     "output_type": "execute_result"
    }
   ],
   "source": [
    "saveResult1(data_CN_weight,\"test\",5,\"中医辨证\",\"分类路径\")\n"
   ]
  },
  {
   "cell_type": "code",
   "execution_count": 38,
   "id": "7ab91d86-764b-4522-a6be-5af6f28c871b",
   "metadata": {},
   "outputs": [
    {
     "data": {
      "text/html": [
       "<div>\n",
       "<style scoped>\n",
       "    .dataframe tbody tr th:only-of-type {\n",
       "        vertical-align: middle;\n",
       "    }\n",
       "\n",
       "    .dataframe tbody tr th {\n",
       "        vertical-align: top;\n",
       "    }\n",
       "\n",
       "    .dataframe thead th {\n",
       "        text-align: right;\n",
       "    }\n",
       "</style>\n",
       "<table border=\"1\" class=\"dataframe\">\n",
       "  <thead>\n",
       "    <tr style=\"text-align: right;\">\n",
       "      <th></th>\n",
       "      <th>测试集患者</th>\n",
       "      <th>测试集证型</th>\n",
       "      <th>出现次数最多证型</th>\n",
       "    </tr>\n",
       "  </thead>\n",
       "  <tbody>\n",
       "    <tr>\n",
       "      <th>0</th>\n",
       "      <td>患者7</td>\n",
       "      <td>肝火上扰</td>\n",
       "      <td>肝火上扰</td>\n",
       "    </tr>\n",
       "    <tr>\n",
       "      <th>1</th>\n",
       "      <td>患者9</td>\n",
       "      <td>脾胃虚弱</td>\n",
       "      <td>脾胃虚弱</td>\n",
       "    </tr>\n",
       "    <tr>\n",
       "      <th>2</th>\n",
       "      <td>患者11</td>\n",
       "      <td>脾胃虚弱</td>\n",
       "      <td>脾胃虚弱</td>\n",
       "    </tr>\n",
       "    <tr>\n",
       "      <th>3</th>\n",
       "      <td>患者16</td>\n",
       "      <td>脾胃虚弱</td>\n",
       "      <td>脾胃虚弱</td>\n",
       "    </tr>\n",
       "    <tr>\n",
       "      <th>4</th>\n",
       "      <td>患者20</td>\n",
       "      <td>脾胃虚弱</td>\n",
       "      <td>脾胃虚弱</td>\n",
       "    </tr>\n",
       "    <tr>\n",
       "      <th>...</th>\n",
       "      <td>...</td>\n",
       "      <td>...</td>\n",
       "      <td>...</td>\n",
       "    </tr>\n",
       "    <tr>\n",
       "      <th>248</th>\n",
       "      <td>患者1246</td>\n",
       "      <td>风热侵袭</td>\n",
       "      <td>风热侵袭</td>\n",
       "    </tr>\n",
       "    <tr>\n",
       "      <th>249</th>\n",
       "      <td>患者1248</td>\n",
       "      <td>肝火上扰</td>\n",
       "      <td>肝火上扰</td>\n",
       "    </tr>\n",
       "    <tr>\n",
       "      <th>250</th>\n",
       "      <td>患者1249</td>\n",
       "      <td>肝火上扰</td>\n",
       "      <td>肝火上扰</td>\n",
       "    </tr>\n",
       "    <tr>\n",
       "      <th>251</th>\n",
       "      <td>患者1255</td>\n",
       "      <td>脾胃虚弱</td>\n",
       "      <td>脾胃虚弱</td>\n",
       "    </tr>\n",
       "    <tr>\n",
       "      <th>252</th>\n",
       "      <td>患者1259</td>\n",
       "      <td>脾胃虚弱</td>\n",
       "      <td>脾胃虚弱</td>\n",
       "    </tr>\n",
       "  </tbody>\n",
       "</table>\n",
       "<p>253 rows × 3 columns</p>\n",
       "</div>"
      ],
      "text/plain": [
       "      测试集患者 测试集证型 出现次数最多证型\n",
       "0       患者7  肝火上扰     肝火上扰\n",
       "1       患者9  脾胃虚弱     脾胃虚弱\n",
       "2      患者11  脾胃虚弱     脾胃虚弱\n",
       "3      患者16  脾胃虚弱     脾胃虚弱\n",
       "4      患者20  脾胃虚弱     脾胃虚弱\n",
       "..      ...   ...      ...\n",
       "248  患者1246  风热侵袭     风热侵袭\n",
       "249  患者1248  肝火上扰     肝火上扰\n",
       "250  患者1249  肝火上扰     肝火上扰\n",
       "251  患者1255  脾胃虚弱     脾胃虚弱\n",
       "252  患者1259  脾胃虚弱     脾胃虚弱\n",
       "\n",
       "[253 rows x 3 columns]"
      ]
     },
     "execution_count": 38,
     "metadata": {},
     "output_type": "execute_result"
    }
   ],
   "source": [
    "saveResult1(data2_CN_weight,\"加知识\",5,\"中医辨证\",\"分类结果\")\n"
   ]
  },
  {
   "cell_type": "code",
   "execution_count": 41,
   "id": "1d15ce90-fd51-4034-939f-092e2f59b82f",
   "metadata": {},
   "outputs": [
    {
     "data": {
      "text/html": [
       "<div>\n",
       "<style scoped>\n",
       "    .dataframe tbody tr th:only-of-type {\n",
       "        vertical-align: middle;\n",
       "    }\n",
       "\n",
       "    .dataframe tbody tr th {\n",
       "        vertical-align: top;\n",
       "    }\n",
       "\n",
       "    .dataframe thead th {\n",
       "        text-align: right;\n",
       "    }\n",
       "</style>\n",
       "<table border=\"1\" class=\"dataframe\">\n",
       "  <thead>\n",
       "    <tr style=\"text-align: right;\">\n",
       "      <th></th>\n",
       "      <th>测试集患者</th>\n",
       "      <th>测试集证型</th>\n",
       "      <th>出现次数最多证型</th>\n",
       "    </tr>\n",
       "  </thead>\n",
       "  <tbody>\n",
       "    <tr>\n",
       "      <th>0</th>\n",
       "      <td>患者0</td>\n",
       "      <td>肾精亏虚</td>\n",
       "      <td>肾精亏虚</td>\n",
       "    </tr>\n",
       "    <tr>\n",
       "      <th>1</th>\n",
       "      <td>患者2</td>\n",
       "      <td>肾精亏虚</td>\n",
       "      <td>肾精亏虚</td>\n",
       "    </tr>\n",
       "    <tr>\n",
       "      <th>2</th>\n",
       "      <td>患者6</td>\n",
       "      <td>脾胃虚弱</td>\n",
       "      <td>脾胃虚弱</td>\n",
       "    </tr>\n",
       "    <tr>\n",
       "      <th>3</th>\n",
       "      <td>患者12</td>\n",
       "      <td>脾胃虚弱</td>\n",
       "      <td>脾胃虚弱</td>\n",
       "    </tr>\n",
       "    <tr>\n",
       "      <th>4</th>\n",
       "      <td>患者19</td>\n",
       "      <td>脾胃虚弱</td>\n",
       "      <td>脾胃虚弱</td>\n",
       "    </tr>\n",
       "    <tr>\n",
       "      <th>...</th>\n",
       "      <td>...</td>\n",
       "      <td>...</td>\n",
       "      <td>...</td>\n",
       "    </tr>\n",
       "    <tr>\n",
       "      <th>248</th>\n",
       "      <td>患者1231</td>\n",
       "      <td>肝火上扰</td>\n",
       "      <td>肝火上扰</td>\n",
       "    </tr>\n",
       "    <tr>\n",
       "      <th>249</th>\n",
       "      <td>患者1237</td>\n",
       "      <td>风热侵袭</td>\n",
       "      <td>风热侵袭</td>\n",
       "    </tr>\n",
       "    <tr>\n",
       "      <th>250</th>\n",
       "      <td>患者1240</td>\n",
       "      <td>痰火郁结</td>\n",
       "      <td>痰火郁结</td>\n",
       "    </tr>\n",
       "    <tr>\n",
       "      <th>251</th>\n",
       "      <td>患者1241</td>\n",
       "      <td>痰火郁结</td>\n",
       "      <td>痰火郁结</td>\n",
       "    </tr>\n",
       "    <tr>\n",
       "      <th>252</th>\n",
       "      <td>患者1247</td>\n",
       "      <td>痰火郁结</td>\n",
       "      <td>痰火郁结</td>\n",
       "    </tr>\n",
       "  </tbody>\n",
       "</table>\n",
       "<p>253 rows × 3 columns</p>\n",
       "</div>"
      ],
      "text/plain": [
       "      测试集患者 测试集证型 出现次数最多证型\n",
       "0       患者0  肾精亏虚     肾精亏虚\n",
       "1       患者2  肾精亏虚     肾精亏虚\n",
       "2       患者6  脾胃虚弱     脾胃虚弱\n",
       "3      患者12  脾胃虚弱     脾胃虚弱\n",
       "4      患者19  脾胃虚弱     脾胃虚弱\n",
       "..      ...   ...      ...\n",
       "248  患者1231  肝火上扰     肝火上扰\n",
       "249  患者1237  风热侵袭     风热侵袭\n",
       "250  患者1240  痰火郁结     痰火郁结\n",
       "251  患者1241  痰火郁结     痰火郁结\n",
       "252  患者1247  痰火郁结     痰火郁结\n",
       "\n",
       "[253 rows x 3 columns]"
      ]
     },
     "execution_count": 41,
     "metadata": {},
     "output_type": "execute_result"
    }
   ],
   "source": [
    "saveResult1(data2_CN_weight,\"无知识\",2,\"中医辨证\",\"分类结果\")\n"
   ]
  },
  {
   "cell_type": "code",
   "execution_count": 13,
   "id": "e6b691f1-eff4-4e1e-91db-eb8a1658b8d9",
   "metadata": {},
   "outputs": [],
   "source": [
    "def saveResult(Data,fileName,i,Type,label):\n",
    "    Data.to_csv(f\"./outData新数据/{fileName}/5折_{i}{Type}{label}.csv\")\n",
    "    return Data"
   ]
  },
  {
   "cell_type": "code",
   "execution_count": 14,
   "id": "b241d036-ed21-415d-b733-dae95c7fe39c",
   "metadata": {},
   "outputs": [],
   "source": [
    "def saveResult1(Data,fileName,i,Type,label):\n",
    "    Data.to_csv(f\"./outData新数据/{fileName}/{i}{Type}{label}.csv\")\n",
    "    return Data"
   ]
  },
  {
   "cell_type": "code",
   "execution_count": null,
   "id": "0e35d71d-a4c0-4a93-a270-a2f36137ca9b",
   "metadata": {},
   "outputs": [],
   "source": []
  },
  {
   "cell_type": "markdown",
   "id": "c890faaf-e409-46dd-a73c-36d6f5d90f36",
   "metadata": {},
   "source": [
    "# 五分类结果"
   ]
  },
  {
   "cell_type": "code",
   "execution_count": 51,
   "id": "28f6452b-8434-4afe-8d0f-bc3930d3645b",
   "metadata": {},
   "outputs": [
    {
     "data": {
      "application/javascript": "\n        if (window._pyforest_update_imports_cell) { window._pyforest_update_imports_cell('import numpy as np\\nimport pandas as pd'); }\n    ",
      "text/plain": [
       "<IPython.core.display.Javascript object>"
      ]
     },
     "metadata": {},
     "output_type": "display_data"
    },
    {
     "data": {
      "text/html": [
       "<div>\n",
       "<style scoped>\n",
       "    .dataframe tbody tr th:only-of-type {\n",
       "        vertical-align: middle;\n",
       "    }\n",
       "\n",
       "    .dataframe tbody tr th {\n",
       "        vertical-align: top;\n",
       "    }\n",
       "\n",
       "    .dataframe thead th {\n",
       "        text-align: right;\n",
       "    }\n",
       "</style>\n",
       "<table border=\"1\" class=\"dataframe\">\n",
       "  <thead>\n",
       "    <tr style=\"text-align: right;\">\n",
       "      <th></th>\n",
       "      <th>测试集患者</th>\n",
       "      <th>测试集证型</th>\n",
       "      <th>出现次数最多证型</th>\n",
       "    </tr>\n",
       "  </thead>\n",
       "  <tbody>\n",
       "    <tr>\n",
       "      <th>0</th>\n",
       "      <td>患者0</td>\n",
       "      <td>0</td>\n",
       "      <td>0</td>\n",
       "    </tr>\n",
       "    <tr>\n",
       "      <th>1</th>\n",
       "      <td>患者2</td>\n",
       "      <td>0</td>\n",
       "      <td>0</td>\n",
       "    </tr>\n",
       "    <tr>\n",
       "      <th>2</th>\n",
       "      <td>患者6</td>\n",
       "      <td>3</td>\n",
       "      <td>3</td>\n",
       "    </tr>\n",
       "    <tr>\n",
       "      <th>3</th>\n",
       "      <td>患者12</td>\n",
       "      <td>3</td>\n",
       "      <td>3</td>\n",
       "    </tr>\n",
       "    <tr>\n",
       "      <th>4</th>\n",
       "      <td>患者19</td>\n",
       "      <td>3</td>\n",
       "      <td>3</td>\n",
       "    </tr>\n",
       "    <tr>\n",
       "      <th>...</th>\n",
       "      <td>...</td>\n",
       "      <td>...</td>\n",
       "      <td>...</td>\n",
       "    </tr>\n",
       "    <tr>\n",
       "      <th>248</th>\n",
       "      <td>患者1231</td>\n",
       "      <td>1</td>\n",
       "      <td>1</td>\n",
       "    </tr>\n",
       "    <tr>\n",
       "      <th>249</th>\n",
       "      <td>患者1237</td>\n",
       "      <td>4</td>\n",
       "      <td>4</td>\n",
       "    </tr>\n",
       "    <tr>\n",
       "      <th>250</th>\n",
       "      <td>患者1240</td>\n",
       "      <td>2</td>\n",
       "      <td>2</td>\n",
       "    </tr>\n",
       "    <tr>\n",
       "      <th>251</th>\n",
       "      <td>患者1241</td>\n",
       "      <td>2</td>\n",
       "      <td>2</td>\n",
       "    </tr>\n",
       "    <tr>\n",
       "      <th>252</th>\n",
       "      <td>患者1247</td>\n",
       "      <td>2</td>\n",
       "      <td>2</td>\n",
       "    </tr>\n",
       "  </tbody>\n",
       "</table>\n",
       "<p>253 rows × 3 columns</p>\n",
       "</div>"
      ],
      "text/plain": [
       "      测试集患者  测试集证型  出现次数最多证型\n",
       "0       患者0      0         0\n",
       "1       患者2      0         0\n",
       "2       患者6      3         3\n",
       "3      患者12      3         3\n",
       "4      患者19      3         3\n",
       "..      ...    ...       ...\n",
       "248  患者1231      1         1\n",
       "249  患者1237      4         4\n",
       "250  患者1240      2         2\n",
       "251  患者1241      2         2\n",
       "252  患者1247      2         2\n",
       "\n",
       "[253 rows x 3 columns]"
      ]
     },
     "execution_count": 51,
     "metadata": {},
     "output_type": "execute_result"
    }
   ],
   "source": [
    "data = pd.read_csv(r\"./outData新数据/无知识/2中医辨证分类结果.csv\")#,encoding=\"gbk\"\n",
    "data=data.drop(\"Unnamed: 0\",axis=1)\n",
    "features_name=data.columns\n",
    "data = data.replace(\"肾精亏虚\", 0)\n",
    "data = data.replace(\"肝火上扰\", 1)\n",
    "data = data.replace(\"痰火郁结\", 2)\n",
    "data = data.replace(\"脾胃虚弱\", 3)\n",
    "data = data.replace(\"风热侵袭\", 4)\n",
    "saveResult1(data,\"无知识\",2,\"中医辨证\",\"分类结果数字\")\n",
    "\n",
    "data"
   ]
  },
  {
   "cell_type": "code",
   "execution_count": 56,
   "id": "7b70bb75-1ed8-46a1-97d4-61b4e579a07b",
   "metadata": {},
   "outputs": [
    {
     "data": {
      "application/javascript": "\n        if (window._pyforest_update_imports_cell) { window._pyforest_update_imports_cell('import numpy as np\\nimport pandas as pd'); }\n    ",
      "text/plain": [
       "<IPython.core.display.Javascript object>"
      ]
     },
     "metadata": {},
     "output_type": "display_data"
    },
    {
     "data": {
      "text/html": [
       "<div>\n",
       "<style scoped>\n",
       "    .dataframe tbody tr th:only-of-type {\n",
       "        vertical-align: middle;\n",
       "    }\n",
       "\n",
       "    .dataframe tbody tr th {\n",
       "        vertical-align: top;\n",
       "    }\n",
       "\n",
       "    .dataframe thead th {\n",
       "        text-align: right;\n",
       "    }\n",
       "</style>\n",
       "<table border=\"1\" class=\"dataframe\">\n",
       "  <thead>\n",
       "    <tr style=\"text-align: right;\">\n",
       "      <th></th>\n",
       "      <th>患者</th>\n",
       "      <th>性别</th>\n",
       "      <th>发病节气</th>\n",
       "      <th>劳累</th>\n",
       "      <th>噪音</th>\n",
       "      <th>耳机使用</th>\n",
       "      <th>锻炼</th>\n",
       "      <th>压力</th>\n",
       "      <th>感染</th>\n",
       "      <th>抽烟</th>\n",
       "      <th>...</th>\n",
       "      <th>INR</th>\n",
       "      <th>APTT</th>\n",
       "      <th>FIB</th>\n",
       "      <th>D-二聚体</th>\n",
       "      <th>TT</th>\n",
       "      <th>年龄</th>\n",
       "      <th>病程（月）</th>\n",
       "      <th>TEQ</th>\n",
       "      <th>THI</th>\n",
       "      <th>VAS</th>\n",
       "    </tr>\n",
       "  </thead>\n",
       "  <tbody>\n",
       "    <tr>\n",
       "      <th>0</th>\n",
       "      <td>患者0</td>\n",
       "      <td>女</td>\n",
       "      <td>大寒</td>\n",
       "      <td>0</td>\n",
       "      <td>0</td>\n",
       "      <td>0</td>\n",
       "      <td>0</td>\n",
       "      <td>0</td>\n",
       "      <td>0</td>\n",
       "      <td>0</td>\n",
       "      <td>...</td>\n",
       "      <td>0.97</td>\n",
       "      <td>35.3</td>\n",
       "      <td>2.39</td>\n",
       "      <td>0.19</td>\n",
       "      <td>18.3</td>\n",
       "      <td>45.0</td>\n",
       "      <td>7.0</td>\n",
       "      <td>10</td>\n",
       "      <td>18</td>\n",
       "      <td>6.0</td>\n",
       "    </tr>\n",
       "    <tr>\n",
       "      <th>1</th>\n",
       "      <td>患者1</td>\n",
       "      <td>男</td>\n",
       "      <td>大寒</td>\n",
       "      <td>0</td>\n",
       "      <td>0</td>\n",
       "      <td>0</td>\n",
       "      <td>0</td>\n",
       "      <td>0</td>\n",
       "      <td>0</td>\n",
       "      <td>0</td>\n",
       "      <td>...</td>\n",
       "      <td>1.03</td>\n",
       "      <td>34.7</td>\n",
       "      <td>2.85</td>\n",
       "      <td>0.36</td>\n",
       "      <td>18.6</td>\n",
       "      <td>75.0</td>\n",
       "      <td>36.0</td>\n",
       "      <td>8</td>\n",
       "      <td>22</td>\n",
       "      <td>3.0</td>\n",
       "    </tr>\n",
       "    <tr>\n",
       "      <th>2</th>\n",
       "      <td>患者2</td>\n",
       "      <td>男</td>\n",
       "      <td>立春</td>\n",
       "      <td>0</td>\n",
       "      <td>0</td>\n",
       "      <td>0</td>\n",
       "      <td>0</td>\n",
       "      <td>0</td>\n",
       "      <td>0</td>\n",
       "      <td>0</td>\n",
       "      <td>...</td>\n",
       "      <td>1.13</td>\n",
       "      <td>38.8</td>\n",
       "      <td>2.79</td>\n",
       "      <td>0.34</td>\n",
       "      <td>19.5</td>\n",
       "      <td>74.0</td>\n",
       "      <td>1.0</td>\n",
       "      <td>12</td>\n",
       "      <td>42</td>\n",
       "      <td>8.0</td>\n",
       "    </tr>\n",
       "    <tr>\n",
       "      <th>3</th>\n",
       "      <td>患者3</td>\n",
       "      <td>女</td>\n",
       "      <td>立春</td>\n",
       "      <td>0</td>\n",
       "      <td>0</td>\n",
       "      <td>0</td>\n",
       "      <td>0</td>\n",
       "      <td>0</td>\n",
       "      <td>感染</td>\n",
       "      <td>0</td>\n",
       "      <td>...</td>\n",
       "      <td>1.16</td>\n",
       "      <td>23.6</td>\n",
       "      <td>5.66</td>\n",
       "      <td>0.71</td>\n",
       "      <td>14.7</td>\n",
       "      <td>72.0</td>\n",
       "      <td>0.3</td>\n",
       "      <td>8</td>\n",
       "      <td>24</td>\n",
       "      <td>6.0</td>\n",
       "    </tr>\n",
       "    <tr>\n",
       "      <th>4</th>\n",
       "      <td>患者4</td>\n",
       "      <td>女</td>\n",
       "      <td>大寒</td>\n",
       "      <td>劳累</td>\n",
       "      <td>0</td>\n",
       "      <td>0</td>\n",
       "      <td>0</td>\n",
       "      <td>0</td>\n",
       "      <td>0</td>\n",
       "      <td>0</td>\n",
       "      <td>...</td>\n",
       "      <td>0.95</td>\n",
       "      <td>25.1</td>\n",
       "      <td>3.17</td>\n",
       "      <td>0.32</td>\n",
       "      <td>15.6</td>\n",
       "      <td>50.0</td>\n",
       "      <td>1.0</td>\n",
       "      <td>18</td>\n",
       "      <td>78</td>\n",
       "      <td>9.0</td>\n",
       "    </tr>\n",
       "    <tr>\n",
       "      <th>...</th>\n",
       "      <td>...</td>\n",
       "      <td>...</td>\n",
       "      <td>...</td>\n",
       "      <td>...</td>\n",
       "      <td>...</td>\n",
       "      <td>...</td>\n",
       "      <td>...</td>\n",
       "      <td>...</td>\n",
       "      <td>...</td>\n",
       "      <td>...</td>\n",
       "      <td>...</td>\n",
       "      <td>...</td>\n",
       "      <td>...</td>\n",
       "      <td>...</td>\n",
       "      <td>...</td>\n",
       "      <td>...</td>\n",
       "      <td>...</td>\n",
       "      <td>...</td>\n",
       "      <td>...</td>\n",
       "      <td>...</td>\n",
       "      <td>...</td>\n",
       "    </tr>\n",
       "    <tr>\n",
       "      <th>1260</th>\n",
       "      <td>患者1260</td>\n",
       "      <td>女</td>\n",
       "      <td>0</td>\n",
       "      <td>0</td>\n",
       "      <td>0</td>\n",
       "      <td>耳机使用</td>\n",
       "      <td>0</td>\n",
       "      <td>压力</td>\n",
       "      <td>0</td>\n",
       "      <td>0</td>\n",
       "      <td>...</td>\n",
       "      <td>NaN</td>\n",
       "      <td>NaN</td>\n",
       "      <td>NaN</td>\n",
       "      <td>NaN</td>\n",
       "      <td>NaN</td>\n",
       "      <td>36.0</td>\n",
       "      <td>5.0</td>\n",
       "      <td>19</td>\n",
       "      <td>60</td>\n",
       "      <td>8.0</td>\n",
       "    </tr>\n",
       "    <tr>\n",
       "      <th>1261</th>\n",
       "      <td>患者1261</td>\n",
       "      <td>女</td>\n",
       "      <td>0</td>\n",
       "      <td>0</td>\n",
       "      <td>0</td>\n",
       "      <td>耳机使用</td>\n",
       "      <td>锻炼</td>\n",
       "      <td>压力</td>\n",
       "      <td>0</td>\n",
       "      <td>0</td>\n",
       "      <td>...</td>\n",
       "      <td>NaN</td>\n",
       "      <td>NaN</td>\n",
       "      <td>NaN</td>\n",
       "      <td>NaN</td>\n",
       "      <td>NaN</td>\n",
       "      <td>52.0</td>\n",
       "      <td>1.0</td>\n",
       "      <td>14</td>\n",
       "      <td>26</td>\n",
       "      <td>7.0</td>\n",
       "    </tr>\n",
       "    <tr>\n",
       "      <th>1262</th>\n",
       "      <td>患者1262</td>\n",
       "      <td>女</td>\n",
       "      <td>0</td>\n",
       "      <td>0</td>\n",
       "      <td>0</td>\n",
       "      <td>0</td>\n",
       "      <td>0</td>\n",
       "      <td>压力</td>\n",
       "      <td>0</td>\n",
       "      <td>0</td>\n",
       "      <td>...</td>\n",
       "      <td>NaN</td>\n",
       "      <td>NaN</td>\n",
       "      <td>NaN</td>\n",
       "      <td>NaN</td>\n",
       "      <td>NaN</td>\n",
       "      <td>29.0</td>\n",
       "      <td>6.0</td>\n",
       "      <td>17</td>\n",
       "      <td>44</td>\n",
       "      <td>9.0</td>\n",
       "    </tr>\n",
       "    <tr>\n",
       "      <th>1263</th>\n",
       "      <td>患者1263</td>\n",
       "      <td>女</td>\n",
       "      <td>0</td>\n",
       "      <td>0</td>\n",
       "      <td>0</td>\n",
       "      <td>0</td>\n",
       "      <td>0</td>\n",
       "      <td>压力</td>\n",
       "      <td>0</td>\n",
       "      <td>0</td>\n",
       "      <td>...</td>\n",
       "      <td>NaN</td>\n",
       "      <td>NaN</td>\n",
       "      <td>NaN</td>\n",
       "      <td>NaN</td>\n",
       "      <td>NaN</td>\n",
       "      <td>33.0</td>\n",
       "      <td>108.0</td>\n",
       "      <td>16</td>\n",
       "      <td>46</td>\n",
       "      <td>9.0</td>\n",
       "    </tr>\n",
       "    <tr>\n",
       "      <th>1264</th>\n",
       "      <td>患者1264</td>\n",
       "      <td>男</td>\n",
       "      <td>0</td>\n",
       "      <td>0</td>\n",
       "      <td>0</td>\n",
       "      <td>0</td>\n",
       "      <td>锻炼</td>\n",
       "      <td>0</td>\n",
       "      <td>0</td>\n",
       "      <td>抽烟</td>\n",
       "      <td>...</td>\n",
       "      <td>NaN</td>\n",
       "      <td>NaN</td>\n",
       "      <td>NaN</td>\n",
       "      <td>NaN</td>\n",
       "      <td>NaN</td>\n",
       "      <td>64.0</td>\n",
       "      <td>84.0</td>\n",
       "      <td>13</td>\n",
       "      <td>44</td>\n",
       "      <td>7.0</td>\n",
       "    </tr>\n",
       "  </tbody>\n",
       "</table>\n",
       "<p>1265 rows × 109 columns</p>\n",
       "</div>"
      ],
      "text/plain": [
       "          患者 性别 发病节气  劳累 噪音  耳机使用  锻炼  压力  感染  抽烟  ...   INR  APTT   FIB  \\\n",
       "0        患者0  女   大寒   0  0     0   0   0   0   0  ...  0.97  35.3  2.39   \n",
       "1        患者1  男   大寒   0  0     0   0   0   0   0  ...  1.03  34.7  2.85   \n",
       "2        患者2  男   立春   0  0     0   0   0   0   0  ...  1.13  38.8  2.79   \n",
       "3        患者3  女   立春   0  0     0   0   0  感染   0  ...  1.16  23.6  5.66   \n",
       "4        患者4  女   大寒  劳累  0     0   0   0   0   0  ...  0.95  25.1  3.17   \n",
       "...      ... ..  ...  .. ..   ...  ..  ..  ..  ..  ...   ...   ...   ...   \n",
       "1260  患者1260  女    0   0  0  耳机使用   0  压力   0   0  ...   NaN   NaN   NaN   \n",
       "1261  患者1261  女    0   0  0  耳机使用  锻炼  压力   0   0  ...   NaN   NaN   NaN   \n",
       "1262  患者1262  女    0   0  0     0   0  压力   0   0  ...   NaN   NaN   NaN   \n",
       "1263  患者1263  女    0   0  0     0   0  压力   0   0  ...   NaN   NaN   NaN   \n",
       "1264  患者1264  男    0   0  0     0  锻炼   0   0  抽烟  ...   NaN   NaN   NaN   \n",
       "\n",
       "     D-二聚体    TT    年龄  病程（月） TEQ THI  VAS  \n",
       "0     0.19  18.3  45.0    7.0  10  18  6.0  \n",
       "1     0.36  18.6  75.0   36.0   8  22  3.0  \n",
       "2     0.34  19.5  74.0    1.0  12  42  8.0  \n",
       "3     0.71  14.7  72.0    0.3   8  24  6.0  \n",
       "4     0.32  15.6  50.0    1.0  18  78  9.0  \n",
       "...    ...   ...   ...    ...  ..  ..  ...  \n",
       "1260   NaN   NaN  36.0    5.0  19  60  8.0  \n",
       "1261   NaN   NaN  52.0    1.0  14  26  7.0  \n",
       "1262   NaN   NaN  29.0    6.0  17  44  9.0  \n",
       "1263   NaN   NaN  33.0  108.0  16  46  9.0  \n",
       "1264   NaN   NaN  64.0   84.0  13  44  7.0  \n",
       "\n",
       "[1265 rows x 109 columns]"
      ]
     },
     "execution_count": 56,
     "metadata": {},
     "output_type": "execute_result"
    }
   ],
   "source": [
    "data = pd.read_csv(r\"D:\\学习资料\\项目资料\\耳鸣中医知识图谱\\neo4j\\数据\\新数据\\知识图谱新数据.csv\",encoding=\"gbk\")\n",
    "data"
   ]
  },
  {
   "cell_type": "code",
   "execution_count": 64,
   "id": "1b3c8d15-13e3-45bd-bf16-a49dc11d73be",
   "metadata": {},
   "outputs": [
    {
     "data": {
      "application/javascript": "\n        if (window._pyforest_update_imports_cell) { window._pyforest_update_imports_cell('import numpy as np\\nimport pandas as pd'); }\n    ",
      "text/plain": [
       "<IPython.core.display.Javascript object>"
      ]
     },
     "metadata": {},
     "output_type": "display_data"
    },
    {
     "data": {
      "application/javascript": "\n        if (window._pyforest_update_imports_cell) { window._pyforest_update_imports_cell('import numpy as np\\nimport pandas as pd'); }\n    ",
      "text/plain": [
       "<IPython.core.display.Javascript object>"
      ]
     },
     "metadata": {},
     "output_type": "display_data"
    },
    {
     "data": {
      "application/javascript": "\n        if (window._pyforest_update_imports_cell) { window._pyforest_update_imports_cell('import numpy as np\\nimport pandas as pd'); }\n    ",
      "text/plain": [
       "<IPython.core.display.Javascript object>"
      ]
     },
     "metadata": {},
     "output_type": "display_data"
    },
    {
     "data": {
      "application/javascript": "\n        if (window._pyforest_update_imports_cell) { window._pyforest_update_imports_cell('import numpy as np\\nimport pandas as pd'); }\n    ",
      "text/plain": [
       "<IPython.core.display.Javascript object>"
      ]
     },
     "metadata": {},
     "output_type": "display_data"
    },
    {
     "data": {
      "application/javascript": "\n        if (window._pyforest_update_imports_cell) { window._pyforest_update_imports_cell('import numpy as np\\nimport pandas as pd'); }\n    ",
      "text/plain": [
       "<IPython.core.display.Javascript object>"
      ]
     },
     "metadata": {},
     "output_type": "display_data"
    },
    {
     "data": {
      "application/javascript": "\n        if (window._pyforest_update_imports_cell) { window._pyforest_update_imports_cell('import numpy as np\\nimport pandas as pd'); }\n    ",
      "text/plain": [
       "<IPython.core.display.Javascript object>"
      ]
     },
     "metadata": {},
     "output_type": "display_data"
    },
    {
     "data": {
      "application/javascript": "\n        if (window._pyforest_update_imports_cell) { window._pyforest_update_imports_cell('import numpy as np\\nimport pandas as pd'); }\n    ",
      "text/plain": [
       "<IPython.core.display.Javascript object>"
      ]
     },
     "metadata": {},
     "output_type": "display_data"
    },
    {
     "name": "stdout",
     "output_type": "stream",
     "text": [
      "2\n"
     ]
    },
    {
     "data": {
      "application/javascript": "\n        if (window._pyforest_update_imports_cell) { window._pyforest_update_imports_cell('import numpy as np\\nimport pandas as pd'); }\n    ",
      "text/plain": [
       "<IPython.core.display.Javascript object>"
      ]
     },
     "metadata": {},
     "output_type": "display_data"
    },
    {
     "name": "stdout",
     "output_type": "stream",
     "text": [
      "0\n",
      "1\n",
      "2\n",
      "3\n",
      "4\n",
      "指标报告               precision    recall  f1-score   support\n",
      "\n",
      "           0       0.97      1.00      0.99        66\n",
      "           1       0.97      0.98      0.98        64\n",
      "           2       1.00      0.95      0.98        44\n",
      "           3       1.00      1.00      1.00        50\n",
      "           4       1.00      0.97      0.98        29\n",
      "\n",
      "    accuracy                           0.98       253\n",
      "   macro avg       0.99      0.98      0.98       253\n",
      "weighted avg       0.98      0.98      0.98       253\n",
      "\n"
     ]
    },
    {
     "data": {
      "application/javascript": "\n        if (window._pyforest_update_imports_cell) { window._pyforest_update_imports_cell('import numpy as np\\nimport pandas as pd'); }\n    ",
      "text/plain": [
       "<IPython.core.display.Javascript object>"
      ]
     },
     "metadata": {},
     "output_type": "display_data"
    },
    {
     "data": {
      "application/javascript": "\n        if (window._pyforest_update_imports_cell) { window._pyforest_update_imports_cell('import numpy as np\\nimport pandas as pd'); }\n    ",
      "text/plain": [
       "<IPython.core.display.Javascript object>"
      ]
     },
     "metadata": {},
     "output_type": "display_data"
    },
    {
     "data": {
      "application/javascript": "\n        if (window._pyforest_update_imports_cell) { window._pyforest_update_imports_cell('import numpy as np\\nimport pandas as pd'); }\n    ",
      "text/plain": [
       "<IPython.core.display.Javascript object>"
      ]
     },
     "metadata": {},
     "output_type": "display_data"
    },
    {
     "data": {
      "application/javascript": "\n        if (window._pyforest_update_imports_cell) { window._pyforest_update_imports_cell('import numpy as np\\nimport pandas as pd'); }\n    ",
      "text/plain": [
       "<IPython.core.display.Javascript object>"
      ]
     },
     "metadata": {},
     "output_type": "display_data"
    },
    {
     "data": {
      "application/javascript": "\n        if (window._pyforest_update_imports_cell) { window._pyforest_update_imports_cell('import numpy as np\\nimport pandas as pd'); }\n    ",
      "text/plain": [
       "<IPython.core.display.Javascript object>"
      ]
     },
     "metadata": {},
     "output_type": "display_data"
    },
    {
     "data": {
      "application/javascript": "\n        if (window._pyforest_update_imports_cell) { window._pyforest_update_imports_cell('import numpy as np\\nimport pandas as pd'); }\n    ",
      "text/plain": [
       "<IPython.core.display.Javascript object>"
      ]
     },
     "metadata": {},
     "output_type": "display_data"
    },
    {
     "data": {
      "application/javascript": "\n        if (window._pyforest_update_imports_cell) { window._pyforest_update_imports_cell('import numpy as np\\nimport pandas as pd'); }\n    ",
      "text/plain": [
       "<IPython.core.display.Javascript object>"
      ]
     },
     "metadata": {},
     "output_type": "display_data"
    },
    {
     "data": {
      "application/javascript": "\n        if (window._pyforest_update_imports_cell) { window._pyforest_update_imports_cell('import numpy as np\\nimport pandas as pd'); }\n    ",
      "text/plain": [
       "<IPython.core.display.Javascript object>"
      ]
     },
     "metadata": {},
     "output_type": "display_data"
    },
    {
     "data": {
      "application/javascript": "\n        if (window._pyforest_update_imports_cell) { window._pyforest_update_imports_cell('import numpy as np\\nimport pandas as pd'); }\n    ",
      "text/plain": [
       "<IPython.core.display.Javascript object>"
      ]
     },
     "metadata": {},
     "output_type": "display_data"
    },
    {
     "data": {
      "application/javascript": "\n        if (window._pyforest_update_imports_cell) { window._pyforest_update_imports_cell('import numpy as np\\nimport pandas as pd'); }\n    ",
      "text/plain": [
       "<IPython.core.display.Javascript object>"
      ]
     },
     "metadata": {},
     "output_type": "display_data"
    },
    {
     "data": {
      "application/javascript": "\n        if (window._pyforest_update_imports_cell) { window._pyforest_update_imports_cell('import numpy as np\\nimport pandas as pd'); }\n    ",
      "text/plain": [
       "<IPython.core.display.Javascript object>"
      ]
     },
     "metadata": {},
     "output_type": "display_data"
    },
    {
     "data": {
      "application/javascript": "\n        if (window._pyforest_update_imports_cell) { window._pyforest_update_imports_cell('import numpy as np\\nimport pandas as pd'); }\n    ",
      "text/plain": [
       "<IPython.core.display.Javascript object>"
      ]
     },
     "metadata": {},
     "output_type": "display_data"
    },
    {
     "data": {
      "application/javascript": "\n        if (window._pyforest_update_imports_cell) { window._pyforest_update_imports_cell('import numpy as np\\nimport pandas as pd'); }\n    ",
      "text/plain": [
       "<IPython.core.display.Javascript object>"
      ]
     },
     "metadata": {},
     "output_type": "display_data"
    },
    {
     "data": {
      "application/javascript": "\n        if (window._pyforest_update_imports_cell) { window._pyforest_update_imports_cell('import numpy as np\\nimport pandas as pd'); }\n    ",
      "text/plain": [
       "<IPython.core.display.Javascript object>"
      ]
     },
     "metadata": {},
     "output_type": "display_data"
    },
    {
     "data": {
      "application/javascript": "\n        if (window._pyforest_update_imports_cell) { window._pyforest_update_imports_cell('import numpy as np\\nimport pandas as pd'); }\n    ",
      "text/plain": [
       "<IPython.core.display.Javascript object>"
      ]
     },
     "metadata": {},
     "output_type": "display_data"
    },
    {
     "data": {
      "application/javascript": "\n        if (window._pyforest_update_imports_cell) { window._pyforest_update_imports_cell('import numpy as np\\nimport pandas as pd'); }\n    ",
      "text/plain": [
       "<IPython.core.display.Javascript object>"
      ]
     },
     "metadata": {},
     "output_type": "display_data"
    },
    {
     "data": {
      "application/javascript": "\n        if (window._pyforest_update_imports_cell) { window._pyforest_update_imports_cell('import numpy as np\\nimport pandas as pd'); }\n    ",
      "text/plain": [
       "<IPython.core.display.Javascript object>"
      ]
     },
     "metadata": {},
     "output_type": "display_data"
    },
    {
     "data": {
      "application/javascript": "\n        if (window._pyforest_update_imports_cell) { window._pyforest_update_imports_cell('import numpy as np\\nimport pandas as pd'); }\n    ",
      "text/plain": [
       "<IPython.core.display.Javascript object>"
      ]
     },
     "metadata": {},
     "output_type": "display_data"
    },
    {
     "data": {
      "application/javascript": "\n        if (window._pyforest_update_imports_cell) { window._pyforest_update_imports_cell('import numpy as np\\nimport pandas as pd'); }\n    ",
      "text/plain": [
       "<IPython.core.display.Javascript object>"
      ]
     },
     "metadata": {},
     "output_type": "display_data"
    },
    {
     "data": {
      "application/javascript": "\n        if (window._pyforest_update_imports_cell) { window._pyforest_update_imports_cell('import numpy as np\\nimport pandas as pd'); }\n    ",
      "text/plain": [
       "<IPython.core.display.Javascript object>"
      ]
     },
     "metadata": {},
     "output_type": "display_data"
    },
    {
     "data": {
      "application/javascript": "\n        if (window._pyforest_update_imports_cell) { window._pyforest_update_imports_cell('import numpy as np\\nimport pandas as pd'); }\n    ",
      "text/plain": [
       "<IPython.core.display.Javascript object>"
      ]
     },
     "metadata": {},
     "output_type": "display_data"
    },
    {
     "data": {
      "application/javascript": "\n        if (window._pyforest_update_imports_cell) { window._pyforest_update_imports_cell('import numpy as np\\nimport pandas as pd'); }\n    ",
      "text/plain": [
       "<IPython.core.display.Javascript object>"
      ]
     },
     "metadata": {},
     "output_type": "display_data"
    },
    {
     "data": {
      "application/javascript": "\n        if (window._pyforest_update_imports_cell) { window._pyforest_update_imports_cell('import numpy as np\\nimport pandas as pd'); }\n    ",
      "text/plain": [
       "<IPython.core.display.Javascript object>"
      ]
     },
     "metadata": {},
     "output_type": "display_data"
    },
    {
     "data": {
      "application/javascript": "\n        if (window._pyforest_update_imports_cell) { window._pyforest_update_imports_cell('import numpy as np\\nimport pandas as pd'); }\n    ",
      "text/plain": [
       "<IPython.core.display.Javascript object>"
      ]
     },
     "metadata": {},
     "output_type": "display_data"
    },
    {
     "data": {
      "application/javascript": "\n        if (window._pyforest_update_imports_cell) { window._pyforest_update_imports_cell('import numpy as np\\nimport pandas as pd'); }\n    ",
      "text/plain": [
       "<IPython.core.display.Javascript object>"
      ]
     },
     "metadata": {},
     "output_type": "display_data"
    },
    {
     "name": "stdout",
     "output_type": "stream",
     "text": [
      "        0       1       2    3       4         评价指标\n",
      "0  0.9921  0.9881  0.9921  1.0  0.9960     accuracy\n",
      "1  0.9706  0.9692  1.0000  1.0  1.0000    precision\n",
      "2  1.0000  0.9844  0.9545  1.0  0.9655       recall\n",
      "3  0.9851  0.9767  0.9767  1.0  0.9825           f1\n",
      "4  0.9893  0.9894  1.0000  1.0  1.0000  specificity\n",
      "5  0.9947  0.9869  0.9773  1.0  0.9828    aucScores\n"
     ]
    }
   ],
   "source": [
    "knowlege_graph_Score(data,\"加知识\")"
   ]
  },
  {
   "cell_type": "code",
   "execution_count": 60,
   "id": "818382cc-4fdf-42e9-9cd2-407311b47aa8",
   "metadata": {},
   "outputs": [],
   "source": [
    "from sklearn.preprocessing import label_binarize\n",
    "from sklearn.metrics import accuracy_score, precision_score, recall_score,f1_score,confusion_matrix,classification_report,roc_auc_score,roc_curve,auc\n",
    "\n",
    "def knowlege_graph_Score(data,filename):\n",
    "    testScores=[]\n",
    "    aucScores=[]\n",
    "    f1Scores=[]\n",
    "    precisions_test=[]\n",
    "    recalls=[]\n",
    "    speScores=[]\n",
    "    kappas=[]\n",
    "    #计算每一折\n",
    "    accScore=np.zeros((5, 1))\n",
    "    precisionScore=np.zeros((5, 1))\n",
    "    recallScore=np.zeros((5, 1))\n",
    "    f1Score=np.zeros((5, 1))\n",
    "    aucScore=np.zeros((5, 1))\n",
    "    speScore=np.zeros((5, 1))\n",
    "    #df=data.sample(frac=1)\n",
    "    #x = data.drop(\"中医辨证\",axis=1)\n",
    "    y = data[\"中医辨证\"]\n",
    "    classes=[0,1,2,3,4]\n",
    "\n",
    "    split_i=0\n",
    "    CIdata=pd.DataFrame()\n",
    "    CIdata['分类']=[\"肾精亏虚\",\"肝火上扰\",\"痰火郁结\",\"脾胃虚弱\",\"风热侵袭\"]\n",
    "    CIname='F1'\n",
    "    for item in range(2,3):\n",
    "        print(item)\n",
    "        knowledge_graph_data=pd.read_csv(f\"./outData新数据/{filename}/{item}中医辨证分类结果数字.csv\")#,encoding=\"gbk\"\n",
    "        #y_test=knowledge_graph_data[\"Patient1中医辨证\"]#无权重\n",
    "        #y_pre_test=knowledge_graph_data[\"前20出现次数最多\"]\n",
    "        y_test=knowledge_graph_data[\"测试集证型\"]#图结果、无知识\n",
    "        y_pre_test=knowledge_graph_data[\"出现次数最多证型\"]\n",
    "        y_score = label_binarize(y_pre_test, classes=classes)\n",
    "        '''ROC曲线'''\n",
    "        # roc_multiMethod(f\"{filename}\",y_test,y_score,classes)\n",
    "        '''CI置信区间'''\n",
    "        # CI=confidenceInterval(y_test,y_score,CIname) #0肾精亏虚1肝火上扰2痰火郁结3脾胃虚弱4风热侵袭\n",
    "        # CIdata['折数'f'{split_i}'+'_c1']=CI['c1']\n",
    "        # CIdata['折数'f'{split_i}'+'_c2']=CI['c2']\n",
    "        # print(CIdata)\n",
    "        # CIdata.to_csv(f'./modelsMulti/results/{filename}/CI_{CIname}.csv',encoding= \"utf_8_sig\",index= False)\n",
    "        '''计算每一类的ROC'''\n",
    "        y_test_binarize = label_binarize(y_test, classes=classes)\n",
    "        # 设置种类\n",
    "        n_classes = y_test_binarize.shape[1]\n",
    "        fpr = dict()\n",
    "        tpr = dict()\n",
    "        roc_auc = dict()\n",
    "        sum_TP=0\n",
    "        confusion = confusion_matrix(y_test,y_pre_test,labels=classes)\n",
    "        # print(\"kappa\",kappa(confusion))\n",
    "        for i in range(n_classes):\n",
    "            print(i)\n",
    "            sum_TP += confusion[i,i]\n",
    "            fpr[i], tpr[i], _ = roc_curve(y_test_binarize[:, i], y_score[:, i])\n",
    "            roc_auc[i] = auc(fpr[i], tpr[i])\n",
    "            # print(roc_auc)\n",
    "        # print(\"特征重要性\",ferature_importance(model,title,isFalse))\n",
    "        print(\"指标报告\",classification_report(y_test, y_pre_test))\n",
    "        metrics_result = []\n",
    "        for i in range(n_classes):\n",
    "            # 逐步获取 真阳，假阳，真阴，假阴四个指标，并计算三个参数\n",
    "            ALL = np.sum(confusion)\n",
    "            # 对角线上是正确预测的\n",
    "            TP = confusion[i, i]\n",
    "            # 列加和减去正确预测是该类的假阳\n",
    "            FP = np.sum(confusion[:, i]) - TP\n",
    "            # 行加和减去正确预测是该类的假阴\n",
    "            FN = np.sum(confusion[i, :]) - TP\n",
    "            # 全部减去前面三个就是真阴\n",
    "            TN = sum_TP - TP\n",
    "            TN1 = ALL-TP-FP-FN\n",
    "            #accuracy\n",
    "            ACC=round((TP+TN1)/float(ALL), 4)\n",
    "            #Precision\n",
    "            P=TP/float(TP+FP)\n",
    "            PRE=round(P, 4)\n",
    "            #Recall\\sensitivity\n",
    "            R=TP/float(TP+FN)\n",
    "            REC=round(R,4)\n",
    "            #specificity\n",
    "            SPC=round(TN1/float(TN1+FP),4)\n",
    "            #F1\n",
    "            F1=round((2*P*R)/(P+R),4)\n",
    "            #auc\n",
    "            AUC=round(roc_auc[i],4)\n",
    "            accScore[i][split_i]=ACC\n",
    "            precisionScore[i][split_i]=PRE\n",
    "            recallScore[i][split_i]=REC\n",
    "            f1Score[i][split_i]=F1\n",
    "            speScore[i][split_i]=SPC\n",
    "            aucScore[i][split_i]=AUC\n",
    "        split_i=split_i+1\n",
    "        #macro:求取每一类的F值之后求平均值\n",
    "        #micro:每一类的预测结果都加起来之后再计算查准率、查全率、F值\n",
    "        #weighted:将各类别的F值乘以该类在总样本中的占比进行加权计算\n",
    "    testScores.append(accScore.mean(axis=1))\n",
    "    precisions_test.append(precisionScore.mean(axis=1))\n",
    "    recalls.append(recallScore.mean(axis=1)) #召回率/灵敏度\n",
    "    speScores.append(speScore.mean(axis=1))\n",
    "    f1Scores.append(f1Score.mean(axis=1))\n",
    "    aucScores.append(aucScore.mean(axis=1))\n",
    "    # print(accScore,precisionScore,recallScore,f1Score,speScore,aucScore)\n",
    "    # kappas.append(kappa)\n",
    "    #二维转为一维数组\n",
    "    # names = 'testScores precisions_test recalls speScores f1Scores aucScores'.split()\n",
    "    testScores=np.array(testScores)\n",
    "    testScores=testScores.flatten()\n",
    "    precisions_test=np.array(precisions_test)\n",
    "    precisions_test=precisions_test.flatten()\n",
    "    recalls=np.array(recalls)\n",
    "    recalls=recalls.flatten()\n",
    "    speScores=np.array(speScores)\n",
    "    speScores=speScores.flatten()\n",
    "    f1Scores=np.array(f1Scores)\n",
    "    f1Scores=f1Scores.flatten()\n",
    "    aucScores=np.array(aucScores)\n",
    "    aucScores=aucScores.flatten()\n",
    "    pd_score=pd.DataFrame(np.array([testScores,precisions_test,recalls,f1Scores,speScores,aucScores]))\n",
    "    pd_names=pd.DataFrame(np.array([\"accuracy\",\"precision\",\"recall\",\"f1\",\"specificity\",\"aucScores\"]))\n",
    "    pd_score[\"评价指标\"]=pd_names\n",
    "    pd_score.to_csv(f'./outData新数据/算法对比/{filename}五折多分类评价指标.csv',mode = 'a',encoding= \"utf_8_sig\",index= False)\n",
    "    print(pd_score)\n"
   ]
  },
  {
   "cell_type": "code",
   "execution_count": null,
   "id": "b74b906a-b4c2-4464-8c9a-4076055e8611",
   "metadata": {},
   "outputs": [],
   "source": []
  },
  {
   "cell_type": "code",
   "execution_count": null,
   "id": "e3c4c950-f1e1-4e81-a867-e1743d65b881",
   "metadata": {},
   "outputs": [],
   "source": []
  }
 ],
 "metadata": {
  "kernelspec": {
   "display_name": "Python 3",
   "language": "python",
   "name": "python3"
  },
  "language_info": {
   "codemirror_mode": {
    "name": "ipython",
    "version": 3
   },
   "file_extension": ".py",
   "mimetype": "text/x-python",
   "name": "python",
   "nbconvert_exporter": "python",
   "pygments_lexer": "ipython3",
   "version": "3.6.13"
  },
  "toc-autonumbering": false
 },
 "nbformat": 4,
 "nbformat_minor": 5
}
